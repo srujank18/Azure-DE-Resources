{
 "cells": [
  {
   "cell_type": "markdown",
   "metadata": {
    "application/vnd.databricks.v1+cell": {
     "cellMetadata": {},
     "inputWidgets": {},
     "nuid": "3af2cca9-01b3-4f2e-a2c6-cb00190a405b",
     "showTitle": false,
     "tableResultSettingsMap": {},
     "title": ""
    }
   },
   "source": [
    "# CREATE FLAG PARAMETER"
   ]
  },
  {
   "cell_type": "code",
   "execution_count": 0,
   "metadata": {
    "application/vnd.databricks.v1+cell": {
     "cellMetadata": {
      "byteLimit": 2048000,
      "rowLimit": 10000
     },
     "inputWidgets": {},
     "nuid": "439dcd5b-fbc8-4036-85b4-9044f2a32b0e",
     "showTitle": false,
     "tableResultSettingsMap": {},
     "title": ""
    }
   },
   "outputs": [],
   "source": [
    "dbutils.widgets.text(\"incremental_flag\", \"0\")"
   ]
  },
  {
   "cell_type": "code",
   "execution_count": 0,
   "metadata": {
    "application/vnd.databricks.v1+cell": {
     "cellMetadata": {
      "byteLimit": 2048000,
      "rowLimit": 10000
     },
     "inputWidgets": {},
     "nuid": "0d028143-24f0-4f4d-96be-6ea344b14d66",
     "showTitle": false,
     "tableResultSettingsMap": {},
     "title": ""
    }
   },
   "outputs": [
    {
     "output_type": "stream",
     "name": "stdout",
     "output_type": "stream",
     "text": [
      "<class 'str'>\n"
     ]
    }
   ],
   "source": [
    "incremental_flag = dbutils.widgets.get(\"incremental_flag\")\n",
    "print(type(incremental_flag))"
   ]
  },
  {
   "cell_type": "markdown",
   "metadata": {
    "application/vnd.databricks.v1+cell": {
     "cellMetadata": {},
     "inputWidgets": {},
     "nuid": "76bac626-eab0-4b6e-bceb-88f38210eebd",
     "showTitle": false,
     "tableResultSettingsMap": {},
     "title": ""
    }
   },
   "source": [
    "# CREATING DIMENSION MODEL"
   ]
  },
  {
   "cell_type": "markdown",
   "metadata": {
    "application/vnd.databricks.v1+cell": {
     "cellMetadata": {},
     "inputWidgets": {},
     "nuid": "17184c4d-e525-41ee-b07c-1220f89e8d20",
     "showTitle": false,
     "tableResultSettingsMap": {},
     "title": ""
    }
   },
   "source": [
    "###  Fetch Relative Column"
   ]
  },
  {
   "cell_type": "markdown",
   "metadata": {
    "application/vnd.databricks.v1+cell": {
     "cellMetadata": {},
     "inputWidgets": {},
     "nuid": "3da36509-f08f-4a15-9c8d-4323d4d97043",
     "showTitle": false,
     "tableResultSettingsMap": {},
     "title": ""
    }
   },
   "source": [
    "### dim_model sink - initial and incremental "
   ]
  },
  {
   "cell_type": "markdown",
   "metadata": {
    "application/vnd.databricks.v1+cell": {
     "cellMetadata": {
      "byteLimit": 2048000,
      "rowLimit": 10000
     },
     "inputWidgets": {},
     "nuid": "8229dd8c-1c52-4c3b-8ce0-5b1ef8d304d5",
     "showTitle": false,
     "tableResultSettingsMap": {},
     "title": ""
    }
   },
   "source": [
    "### Filtering new records and old records"
   ]
  },
  {
   "cell_type": "markdown",
   "metadata": {
    "application/vnd.databricks.v1+cell": {
     "cellMetadata": {},
     "inputWidgets": {},
     "nuid": "24487352-16b3-4d06-b831-eb72b6a9b361",
     "showTitle": false,
     "tableResultSettingsMap": {},
     "title": ""
    }
   },
   "source": [
    "### Create Surrogate Key "
   ]
  },
  {
   "cell_type": "markdown",
   "metadata": {
    "application/vnd.databricks.v1+cell": {
     "cellMetadata": {},
     "inputWidgets": {},
     "nuid": "8c74bb9f-4747-49e9-b573-44bf014ecb61",
     "showTitle": false,
     "tableResultSettingsMap": {},
     "title": ""
    }
   },
   "source": [
    "**Fetch the max surrogate key from the existing table**"
   ]
  },
  {
   "cell_type": "markdown",
   "metadata": {
    "application/vnd.databricks.v1+cell": {
     "cellMetadata": {},
     "inputWidgets": {},
     "nuid": "bfc63ea7-8ee8-41ba-ac2f-8c7190df6fa5",
     "showTitle": false,
     "tableResultSettingsMap": {},
     "title": ""
    }
   },
   "source": [
    "**Create surrogate key column and ADD the max surrogate key** "
   ]
  },
  {
   "cell_type": "code",
   "execution_count": 0,
   "metadata": {
    "application/vnd.databricks.v1+cell": {
     "cellMetadata": {
      "byteLimit": 2048000,
      "rowLimit": 10000
     },
     "inputWidgets": {},
     "nuid": "2233a0bb-fc1f-4fed-8674-703c5333aba2",
     "showTitle": false,
     "tableResultSettingsMap": {},
     "title": ""
    }
   },
   "outputs": [],
   "source": [
    "df_src = spark.sql('''\n",
    "    SELECT DISTINCT Model_ID, `Model_Category`\n",
    "    FROM parquet.`abfss://silver@datalakecarsrj.dfs.core.windows.net/carsales`\n",
    "''')"
   ]
  },
  {
   "cell_type": "code",
   "execution_count": 0,
   "metadata": {
    "application/vnd.databricks.v1+cell": {
     "cellMetadata": {
      "byteLimit": 2048000,
      "rowLimit": 10000
     },
     "inputWidgets": {},
     "nuid": "5bea1f3c-f378-46a2-b472-a6d5a4b0710a",
     "showTitle": false,
     "tableResultSettingsMap": {},
     "title": ""
    }
   },
   "outputs": [],
   "source": [
    "if spark.catalog.tableExists(\"cars_catalog.gold.dim_model\"):\n",
    "    df_sink = spark.sql(\"\"\"\n",
    "        SELECT dim_model_key, Model_ID, Model_Category\n",
    "        FROM cars_catalog.gold.dim_model\n",
    "    \"\"\")\n",
    "else:\n",
    "    # Schema-only empty DataFrame\n",
    "    df_sink = spark.sql('''\n",
    "        SELECT 1 as dim_model_key, Model_ID, `Model_Category`\n",
    "        FROM parquet.`abfss://silver@datalakecarsrj.dfs.core.windows.net/carsales`\n",
    "        WHERE 1=0\n",
    "    ''')"
   ]
  },
  {
   "cell_type": "code",
   "execution_count": 0,
   "metadata": {
    "application/vnd.databricks.v1+cell": {
     "cellMetadata": {
      "byteLimit": 2048000,
      "rowLimit": 10000
     },
     "inputWidgets": {},
     "nuid": "f49e2822-868d-40a2-bd6b-861b7581cec0",
     "showTitle": false,
     "tableResultSettingsMap": {},
     "title": ""
    }
   },
   "outputs": [],
   "source": [
    "df_filter = df_src.join(df_sink, \"Model_ID\", how='left') \\\n",
    "                  .select(df_src.Model_ID, df_src.Model_Category, df_sink.dim_model_key)\n",
    "\n",
    "df_filter_old = df_filter.filter(df_filter.dim_model_key.isNotNull())\n",
    "df_filter_new = df_filter.filter(df_filter.dim_model_key.isNull()) \\\n",
    "                         .select(\"Model_ID\", \"Model_Category\")"
   ]
  },
  {
   "cell_type": "code",
   "execution_count": 0,
   "metadata": {
    "application/vnd.databricks.v1+cell": {
     "cellMetadata": {
      "byteLimit": 2048000,
      "rowLimit": 10000
     },
     "inputWidgets": {},
     "nuid": "b1d71344-c82e-480c-b74b-d4b5a48a98bd",
     "showTitle": false,
     "tableResultSettingsMap": {},
     "title": ""
    }
   },
   "outputs": [],
   "source": [
    "dbutils.widgets.text(\"incremental_flag\", \"0\")\n",
    "incremental_flag = int(dbutils.widgets.get(\"incremental_flag\"))\n",
    "\n",
    "if incremental_flag == 0 or not spark.catalog.tableExists(\"cars_catalog.gold.dim_model\"):\n",
    "    max_value = 0\n",
    "else:\n",
    "    max_value_df = spark.sql(\"SELECT MAX(dim_model_key) as max_key FROM cars_catalog.gold.dim_model\")\n",
    "    max_value = max_value_df.collect()[0][\"max_key\"]"
   ]
  },
  {
   "cell_type": "code",
   "execution_count": 0,
   "metadata": {
    "application/vnd.databricks.v1+cell": {
     "cellMetadata": {
      "byteLimit": 2048000,
      "rowLimit": 10000
     },
     "inputWidgets": {},
     "nuid": "92bb2e3b-98ee-49df-b279-97d8b35e417a",
     "showTitle": false,
     "tableResultSettingsMap": {},
     "title": ""
    }
   },
   "outputs": [
    {
     "output_type": "stream",
     "name": "stderr",
     "output_type": "stream",
     "text": [
      "/databricks/python/lib/python3.11/site-packages/pyspark/sql/connect/expressions.py:1017: UserWarning: WARN WindowExpression: No Partition Defined for Window operation! Moving all data to a single partition, this can cause serious performance degradation.\n  warnings.warn(\n"
     ]
    }
   ],
   "source": [
    "from pyspark.sql.functions import row_number\n",
    "from pyspark.sql.window import Window\n",
    "\n",
    "window_spec = Window.orderBy(\"Model_ID\")\n",
    "\n",
    "df_new_with_keys = df_filter_new.withColumn(\n",
    "    \"dim_model_key\", row_number().over(window_spec) + max_value\n",
    ").select(\"dim_model_key\", \"Model_ID\", \"Model_Category\")\n"
   ]
  },
  {
   "cell_type": "code",
   "execution_count": 0,
   "metadata": {
    "application/vnd.databricks.v1+cell": {
     "cellMetadata": {
      "byteLimit": 2048000,
      "rowLimit": 10000
     },
     "inputWidgets": {},
     "nuid": "4a819f93-c507-4b1c-b4f0-8a296f119d47",
     "showTitle": false,
     "tableResultSettingsMap": {},
     "title": ""
    }
   },
   "outputs": [
    {
     "output_type": "stream",
     "name": "stderr",
     "output_type": "stream",
     "text": [
      "/databricks/python/lib/python3.11/site-packages/pyspark/sql/connect/expressions.py:1017: UserWarning: WARN WindowExpression: No Partition Defined for Window operation! Moving all data to a single partition, this can cause serious performance degradation.\n  warnings.warn(\n"
     ]
    },
    {
     "output_type": "display_data",
     "data": {
      "text/html": [
       "<style scoped>\n",
       "  .table-result-container {\n",
       "    max-height: 300px;\n",
       "    overflow: auto;\n",
       "  }\n",
       "  table, th, td {\n",
       "    border: 1px solid black;\n",
       "    border-collapse: collapse;\n",
       "  }\n",
       "  th, td {\n",
       "    padding: 5px;\n",
       "  }\n",
       "  th {\n",
       "    text-align: left;\n",
       "  }\n",
       "</style><div class='table-result-container'><table class='table-result'><thead style='background-color: white'><tr><th>dim_model_key</th><th>Model_ID</th><th>Model_Category</th></tr></thead><tbody><tr><td>1</td><td>Acu-M59</td><td>Acu</td></tr><tr><td>2</td><td>Acu-M60</td><td>Acu</td></tr><tr><td>3</td><td>Acu-M61</td><td>Acu</td></tr><tr><td>4</td><td>Acu-M62</td><td>Acu</td></tr><tr><td>5</td><td>Acu-M63</td><td>Acu</td></tr><tr><td>6</td><td>Agr-M111</td><td>Agr</td></tr><tr><td>7</td><td>Agr-M112</td><td>Agr</td></tr><tr><td>8</td><td>Agr-M113</td><td>Agr</td></tr><tr><td>9</td><td>Aud-M227</td><td>Aud</td></tr><tr><td>10</td><td>Aud-M228</td><td>Aud</td></tr><tr><td>11</td><td>Aud-M229</td><td>Aud</td></tr><tr><td>12</td><td>Aud-M230</td><td>Aud</td></tr><tr><td>13</td><td>Aud-M231</td><td>Aud</td></tr><tr><td>14</td><td>Aud-M232</td><td>Aud</td></tr><tr><td>15</td><td>Aud-M233</td><td>Aud</td></tr><tr><td>16</td><td>Aud-M234</td><td>Aud</td></tr><tr><td>17</td><td>Aud-M235</td><td>Aud</td></tr><tr><td>18</td><td>Aud-M236</td><td>Aud</td></tr><tr><td>19</td><td>Aud-M237</td><td>Aud</td></tr><tr><td>20</td><td>Aud-M238</td><td>Aud</td></tr><tr><td>21</td><td>Aud-M239</td><td>Aud</td></tr><tr><td>22</td><td>Aud-M240</td><td>Aud</td></tr><tr><td>23</td><td>Aud-M241</td><td>Aud</td></tr><tr><td>24</td><td>BMW-M1</td><td>BMW</td></tr><tr><td>25</td><td>BMW-M2</td><td>BMW</td></tr><tr><td>26</td><td>BMW-M242</td><td>BMW</td></tr><tr><td>27</td><td>BMW-M243</td><td>BMW</td></tr><tr><td>28</td><td>BMW-M244</td><td>BMW</td></tr><tr><td>29</td><td>BMW-M245</td><td>BMW</td></tr><tr><td>30</td><td>BMW-M246</td><td>BMW</td></tr><tr><td>31</td><td>BMW-M247</td><td>BMW</td></tr><tr><td>32</td><td>BMW-M248</td><td>BMW</td></tr><tr><td>33</td><td>BMW-M249</td><td>BMW</td></tr><tr><td>34</td><td>BMW-M250</td><td>BMW</td></tr><tr><td>35</td><td>BMW-M3</td><td>BMW</td></tr><tr><td>36</td><td>BMW-M4</td><td>BMW</td></tr><tr><td>37</td><td>BMW-M5</td><td>BMW</td></tr><tr><td>38</td><td>Bui-M31</td><td>Bui</td></tr><tr><td>39</td><td>Cad-M32</td><td>Cad</td></tr><tr><td>40</td><td>Cad-M33</td><td>Cad</td></tr><tr><td>41</td><td>Cad-M34</td><td>Cad</td></tr><tr><td>42</td><td>Cad-M35</td><td>Cad</td></tr><tr><td>43</td><td>Cad-M36</td><td>Cad</td></tr><tr><td>44</td><td>Cad-M37</td><td>Cad</td></tr><tr><td>45</td><td>Cad-M38</td><td>Cad</td></tr><tr><td>46</td><td>Cad-M39</td><td>Cad</td></tr><tr><td>47</td><td>Che-M114</td><td>Che</td></tr><tr><td>48</td><td>Che-M40</td><td>Che</td></tr><tr><td>49</td><td>Che-M41</td><td>Che</td></tr><tr><td>50</td><td>Che-M42</td><td>Che</td></tr><tr><td>51</td><td>Che-M43</td><td>Che</td></tr><tr><td>52</td><td>Che-M44</td><td>Che</td></tr><tr><td>53</td><td>Che-M45</td><td>Che</td></tr><tr><td>54</td><td>Che-M46</td><td>Che</td></tr><tr><td>55</td><td>Che-M47</td><td>Che</td></tr><tr><td>56</td><td>Che-M48</td><td>Che</td></tr><tr><td>57</td><td>Che-M49</td><td>Che</td></tr><tr><td>58</td><td>Che-M50</td><td>Che</td></tr><tr><td>59</td><td>Che-M51</td><td>Che</td></tr><tr><td>60</td><td>Cit-M115</td><td>Cit</td></tr><tr><td>61</td><td>Cit-M116</td><td>Cit</td></tr><tr><td>62</td><td>Dod-M9</td><td>Dod</td></tr><tr><td>63</td><td>Fia-M117</td><td>Fia</td></tr><tr><td>64</td><td>Fia-M118</td><td>Fia</td></tr><tr><td>65</td><td>For-M119</td><td>For</td></tr><tr><td>66</td><td>For-M16</td><td>For</td></tr><tr><td>67</td><td>For-M17</td><td>For</td></tr><tr><td>68</td><td>For-M18</td><td>For</td></tr><tr><td>69</td><td>For-M19</td><td>For</td></tr><tr><td>70</td><td>For-M20</td><td>For</td></tr><tr><td>71</td><td>For-M21</td><td>For</td></tr><tr><td>72</td><td>For-M22</td><td>For</td></tr><tr><td>73</td><td>For-M221</td><td>For</td></tr><tr><td>74</td><td>For-M222</td><td>For</td></tr><tr><td>75</td><td>For-M223</td><td>For</td></tr><tr><td>76</td><td>For-M224</td><td>For</td></tr><tr><td>77</td><td>For-M225</td><td>For</td></tr><tr><td>78</td><td>For-M226</td><td>For</td></tr><tr><td>79</td><td>For-M23</td><td>For</td></tr><tr><td>80</td><td>For-M24</td><td>For</td></tr><tr><td>81</td><td>For-M25</td><td>For</td></tr><tr><td>82</td><td>For-M26</td><td>For</td></tr><tr><td>83</td><td>GMC-M52</td><td>GMC</td></tr><tr><td>84</td><td>GMC-M53</td><td>GMC</td></tr><tr><td>85</td><td>GMC-M54</td><td>GMC</td></tr><tr><td>86</td><td>GMC-M55</td><td>GMC</td></tr><tr><td>87</td><td>GMC-M56</td><td>GMC</td></tr><tr><td>88</td><td>GMC-M57</td><td>GMC</td></tr><tr><td>89</td><td>GMC-M58</td><td>GMC</td></tr><tr><td>90</td><td>Hon-M120</td><td>Hon</td></tr><tr><td>91</td><td>Hon-M215</td><td>Hon</td></tr><tr><td>92</td><td>Hon-M216</td><td>Hon</td></tr><tr><td>93</td><td>Hon-M217</td><td>Hon</td></tr><tr><td>94</td><td>Hon-M218</td><td>Hon</td></tr><tr><td>95</td><td>Hon-M219</td><td>Hon</td></tr><tr><td>96</td><td>Hon-M220</td><td>Hon</td></tr><tr><td>97</td><td>Hon-M64</td><td>Hon</td></tr><tr><td>98</td><td>Hon-M65</td><td>Hon</td></tr><tr><td>99</td><td>Hon-M66</td><td>Hon</td></tr><tr><td>100</td><td>Hon-M67</td><td>Hon</td></tr><tr><td>101</td><td>Hon-M68</td><td>Hon</td></tr><tr><td>102</td><td>Hon-M69</td><td>Hon</td></tr><tr><td>103</td><td>Hon-M70</td><td>Hon</td></tr><tr><td>104</td><td>Hon-M71</td><td>Hon</td></tr><tr><td>105</td><td>Hyu-M153</td><td>Hyu</td></tr><tr><td>106</td><td>Hyu-M154</td><td>Hyu</td></tr><tr><td>107</td><td>Hyu-M155</td><td>Hyu</td></tr><tr><td>108</td><td>Hyu-M156</td><td>Hyu</td></tr><tr><td>109</td><td>Hyu-M157</td><td>Hyu</td></tr><tr><td>110</td><td>Hyu-M158</td><td>Hyu</td></tr><tr><td>111</td><td>Hyu-M159</td><td>Hyu</td></tr><tr><td>112</td><td>Hyu-M160</td><td>Hyu</td></tr><tr><td>113</td><td>Hyu-M161</td><td>Hyu</td></tr><tr><td>114</td><td>Hyu-M162</td><td>Hyu</td></tr><tr><td>115</td><td>Hyu-M163</td><td>Hyu</td></tr><tr><td>116</td><td>Hyu-M164</td><td>Hyu</td></tr><tr><td>117</td><td>Hyu-M72</td><td>Hyu</td></tr><tr><td>118</td><td>Hyu-M73</td><td>Hyu</td></tr><tr><td>119</td><td>Hyu-M74</td><td>Hyu</td></tr><tr><td>120</td><td>Hyu-M75</td><td>Hyu</td></tr><tr><td>121</td><td>Inf-M79</td><td>Inf</td></tr><tr><td>122</td><td>Jee-M10</td><td>Jee</td></tr><tr><td>123</td><td>Jee-M11</td><td>Jee</td></tr><tr><td>124</td><td>Jee-M12</td><td>Jee</td></tr><tr><td>125</td><td>Jee-M13</td><td>Jee</td></tr><tr><td>126</td><td>Jee-M253</td><td>Jee</td></tr><tr><td>127</td><td>Jee-M254</td><td>Jee</td></tr><tr><td>128</td><td>Kia-M212</td><td>Kia</td></tr><tr><td>129</td><td>Kia-M213</td><td>Kia</td></tr><tr><td>130</td><td>Kia-M214</td><td>Kia</td></tr><tr><td>131</td><td>Kia-M76</td><td>Kia</td></tr><tr><td>132</td><td>Kia-M77</td><td>Kia</td></tr><tr><td>133</td><td>Kia-M78</td><td>Kia</td></tr><tr><td>134</td><td>Lex-M99</td><td>Lex</td></tr><tr><td>135</td><td>Lin-M27</td><td>Lin</td></tr><tr><td>136</td><td>Lin-M28</td><td>Lin</td></tr><tr><td>137</td><td>Lin-M29</td><td>Lin</td></tr><tr><td>138</td><td>Lin-M30</td><td>Lin</td></tr><tr><td>139</td><td>MG-M251</td><td>MG</td></tr><tr><td>140</td><td>MG-M252</td><td>MG</td></tr><tr><td>141</td><td>Mah-M165</td><td>Mah</td></tr><tr><td>142</td><td>Mah-M166</td><td>Mah</td></tr><tr><td>143</td><td>Mah-M167</td><td>Mah</td></tr><tr><td>144</td><td>Mah-M168</td><td>Mah</td></tr><tr><td>145</td><td>Mah-M169</td><td>Mah</td></tr><tr><td>146</td><td>Mah-M170</td><td>Mah</td></tr><tr><td>147</td><td>Mah-M171</td><td>Mah</td></tr><tr><td>148</td><td>Mah-M172</td><td>Mah</td></tr><tr><td>149</td><td>Mah-M173</td><td>Mah</td></tr><tr><td>150</td><td>Mah-M174</td><td>Mah</td></tr><tr><td>151</td><td>Mah-M175</td><td>Mah</td></tr><tr><td>152</td><td>Mah-M176</td><td>Mah</td></tr><tr><td>153</td><td>Mah-M177</td><td>Mah</td></tr><tr><td>154</td><td>Mah-M178</td><td>Mah</td></tr><tr><td>155</td><td>Mar-M137</td><td>Mar</td></tr><tr><td>156</td><td>Mar-M138</td><td>Mar</td></tr><tr><td>157</td><td>Mar-M139</td><td>Mar</td></tr><tr><td>158</td><td>Mar-M140</td><td>Mar</td></tr><tr><td>159</td><td>Mar-M141</td><td>Mar</td></tr><tr><td>160</td><td>Mar-M142</td><td>Mar</td></tr><tr><td>161</td><td>Mar-M143</td><td>Mar</td></tr><tr><td>162</td><td>Mar-M144</td><td>Mar</td></tr><tr><td>163</td><td>Mar-M145</td><td>Mar</td></tr><tr><td>164</td><td>Mar-M146</td><td>Mar</td></tr><tr><td>165</td><td>Mar-M147</td><td>Mar</td></tr><tr><td>166</td><td>Mar-M148</td><td>Mar</td></tr><tr><td>167</td><td>Mar-M149</td><td>Mar</td></tr><tr><td>168</td><td>Mar-M150</td><td>Mar</td></tr><tr><td>169</td><td>Mar-M151</td><td>Mar</td></tr><tr><td>170</td><td>Mar-M152</td><td>Mar</td></tr><tr><td>171</td><td>Mer-M121</td><td>Mer</td></tr><tr><td>172</td><td>Mer-M122</td><td>Mer</td></tr><tr><td>173</td><td>Mer-M123</td><td>Mer</td></tr><tr><td>174</td><td>Mer-M6</td><td>Mer</td></tr><tr><td>175</td><td>Mer-M7</td><td>Mer</td></tr><tr><td>176</td><td>Mer-M8</td><td>Mer</td></tr><tr><td>177</td><td>Mit-M275</td><td>Mit</td></tr><tr><td>178</td><td>Mit-M276</td><td>Mit</td></tr><tr><td>179</td><td>Mit-M277</td><td>Mit</td></tr><tr><td>180</td><td>Nis-M261</td><td>Nis</td></tr><tr><td>181</td><td>Nis-M262</td><td>Nis</td></tr><tr><td>182</td><td>Nis-M263</td><td>Nis</td></tr><tr><td>183</td><td>Nis-M264</td><td>Nis</td></tr><tr><td>184</td><td>Nis-M265</td><td>Nis</td></tr><tr><td>185</td><td>Nis-M266</td><td>Nis</td></tr><tr><td>186</td><td>Nis-M267</td><td>Nis</td></tr><tr><td>187</td><td>Nis-M268</td><td>Nis</td></tr><tr><td>188</td><td>Nis-M269</td><td>Nis</td></tr><tr><td>189</td><td>Nis-M270</td><td>Nis</td></tr><tr><td>190</td><td>Nis-M80</td><td>Nis</td></tr><tr><td>191</td><td>Nis-M81</td><td>Nis</td></tr><tr><td>192</td><td>Nis-M82</td><td>Nis</td></tr><tr><td>193</td><td>Nis-M83</td><td>Nis</td></tr><tr><td>194</td><td>Nis-M84</td><td>Nis</td></tr><tr><td>195</td><td>Nis-M85</td><td>Nis</td></tr><tr><td>196</td><td>Nis-M86</td><td>Nis</td></tr><tr><td>197</td><td>Nis-M87</td><td>Nis</td></tr><tr><td>198</td><td>Nis-M88</td><td>Nis</td></tr><tr><td>199</td><td>Nis-M89</td><td>Nis</td></tr><tr><td>200</td><td>Peu-M124</td><td>Peu</td></tr><tr><td>201</td><td>Peu-M125</td><td>Peu</td></tr><tr><td>202</td><td>Peu-M126</td><td>Peu</td></tr><tr><td>203</td><td>Ram-M14</td><td>Ram</td></tr><tr><td>204</td><td>Ram-M15</td><td>Ram</td></tr><tr><td>205</td><td>Ren-M127</td><td>Ren</td></tr><tr><td>206</td><td>Ren-M128</td><td>Ren</td></tr><tr><td>207</td><td>Ren-M129</td><td>Ren</td></tr><tr><td>208</td><td>Ren-M130</td><td>Ren</td></tr><tr><td>209</td><td>Ren-M131</td><td>Ren</td></tr><tr><td>210</td><td>Ren-M132</td><td>Ren</td></tr><tr><td>211</td><td>Ren-M207</td><td>Ren</td></tr><tr><td>212</td><td>Ren-M208</td><td>Ren</td></tr><tr><td>213</td><td>Ren-M209</td><td>Ren</td></tr><tr><td>214</td><td>Ren-M210</td><td>Ren</td></tr><tr><td>215</td><td>Ren-M211</td><td>Ren</td></tr><tr><td>216</td><td>Riv-M90</td><td>Riv</td></tr><tr><td>217</td><td>Riv-M91</td><td>Riv</td></tr><tr><td>218</td><td>Sko-M271</td><td>Sko</td></tr><tr><td>219</td><td>Sko-M272</td><td>Sko</td></tr><tr><td>220</td><td>Sko-M273</td><td>Sko</td></tr><tr><td>221</td><td>Sko-M274</td><td>Sko</td></tr><tr><td>222</td><td>Sub-M92</td><td>Sub</td></tr><tr><td>223</td><td>Sub-M93</td><td>Sub</td></tr><tr><td>224</td><td>Sub-M94</td><td>Sub</td></tr><tr><td>225</td><td>Sub-M95</td><td>Sub</td></tr><tr><td>226</td><td>Tat-M179</td><td>Tat</td></tr><tr><td>227</td><td>Tat-M180</td><td>Tat</td></tr><tr><td>228</td><td>Tat-M181</td><td>Tat</td></tr><tr><td>229</td><td>Tat-M182</td><td>Tat</td></tr><tr><td>230</td><td>Tat-M183</td><td>Tat</td></tr><tr><td>231</td><td>Tat-M184</td><td>Tat</td></tr><tr><td>232</td><td>Tat-M185</td><td>Tat</td></tr><tr><td>233</td><td>Tat-M186</td><td>Tat</td></tr><tr><td>234</td><td>Tat-M187</td><td>Tat</td></tr><tr><td>235</td><td>Tat-M188</td><td>Tat</td></tr><tr><td>236</td><td>Tat-M189</td><td>Tat</td></tr><tr><td>237</td><td>Tat-M190</td><td>Tat</td></tr><tr><td>238</td><td>Tat-M191</td><td>Tat</td></tr><tr><td>239</td><td>Tat-M192</td><td>Tat</td></tr><tr><td>240</td><td>Tat-M193</td><td>Tat</td></tr><tr><td>241</td><td>Tat-M194</td><td>Tat</td></tr><tr><td>242</td><td>Tes-M96</td><td>Tes</td></tr><tr><td>243</td><td>Tes-M97</td><td>Tes</td></tr><tr><td>244</td><td>Tes-M98</td><td>Tes</td></tr><tr><td>245</td><td>Toy-M100</td><td>Toy</td></tr><tr><td>246</td><td>Toy-M101</td><td>Toy</td></tr><tr><td>247</td><td>Toy-M102</td><td>Toy</td></tr><tr><td>248</td><td>Toy-M103</td><td>Toy</td></tr><tr><td>249</td><td>Toy-M104</td><td>Toy</td></tr><tr><td>250</td><td>Toy-M105</td><td>Toy</td></tr><tr><td>251</td><td>Toy-M106</td><td>Toy</td></tr><tr><td>252</td><td>Toy-M107</td><td>Toy</td></tr><tr><td>253</td><td>Toy-M133</td><td>Toy</td></tr><tr><td>254</td><td>Toy-M134</td><td>Toy</td></tr><tr><td>255</td><td>Toy-M195</td><td>Toy</td></tr><tr><td>256</td><td>Toy-M196</td><td>Toy</td></tr><tr><td>257</td><td>Toy-M197</td><td>Toy</td></tr><tr><td>258</td><td>Toy-M198</td><td>Toy</td></tr><tr><td>259</td><td>Toy-M199</td><td>Toy</td></tr><tr><td>260</td><td>Toy-M200</td><td>Toy</td></tr><tr><td>261</td><td>Toy-M201</td><td>Toy</td></tr><tr><td>262</td><td>Toy-M202</td><td>Toy</td></tr><tr><td>263</td><td>Toy-M203</td><td>Toy</td></tr><tr><td>264</td><td>Toy-M204</td><td>Toy</td></tr><tr><td>265</td><td>Toy-M205</td><td>Toy</td></tr><tr><td>266</td><td>Toy-M206</td><td>Toy</td></tr><tr><td>267</td><td>Vol-M108</td><td>Vol</td></tr><tr><td>268</td><td>Vol-M109</td><td>Vol</td></tr><tr><td>269</td><td>Vol-M110</td><td>Vol</td></tr><tr><td>270</td><td>Vol-M135</td><td>Vol</td></tr><tr><td>271</td><td>Vol-M136</td><td>Vol</td></tr><tr><td>272</td><td>Vol-M255</td><td>Vol</td></tr><tr><td>273</td><td>Vol-M256</td><td>Vol</td></tr><tr><td>274</td><td>Vol-M257</td><td>Vol</td></tr><tr><td>275</td><td>Vol-M258</td><td>Vol</td></tr><tr><td>276</td><td>Vol-M259</td><td>Vol</td></tr><tr><td>277</td><td>Vol-M260</td><td>Vol</td></tr></tbody></table></div>"
      ]
     },
     "metadata": {
      "application/vnd.databricks.v1+output": {
       "addedWidgets": {},
       "aggData": [],
       "aggError": "",
       "aggOverflow": false,
       "aggSchema": [],
       "aggSeriesLimitReached": false,
       "aggType": "",
       "arguments": {},
       "columnCustomDisplayInfos": {},
       "data": [
        [
         1,
         "Acu-M59",
         "Acu"
        ],
        [
         2,
         "Acu-M60",
         "Acu"
        ],
        [
         3,
         "Acu-M61",
         "Acu"
        ],
        [
         4,
         "Acu-M62",
         "Acu"
        ],
        [
         5,
         "Acu-M63",
         "Acu"
        ],
        [
         6,
         "Agr-M111",
         "Agr"
        ],
        [
         7,
         "Agr-M112",
         "Agr"
        ],
        [
         8,
         "Agr-M113",
         "Agr"
        ],
        [
         9,
         "Aud-M227",
         "Aud"
        ],
        [
         10,
         "Aud-M228",
         "Aud"
        ],
        [
         11,
         "Aud-M229",
         "Aud"
        ],
        [
         12,
         "Aud-M230",
         "Aud"
        ],
        [
         13,
         "Aud-M231",
         "Aud"
        ],
        [
         14,
         "Aud-M232",
         "Aud"
        ],
        [
         15,
         "Aud-M233",
         "Aud"
        ],
        [
         16,
         "Aud-M234",
         "Aud"
        ],
        [
         17,
         "Aud-M235",
         "Aud"
        ],
        [
         18,
         "Aud-M236",
         "Aud"
        ],
        [
         19,
         "Aud-M237",
         "Aud"
        ],
        [
         20,
         "Aud-M238",
         "Aud"
        ],
        [
         21,
         "Aud-M239",
         "Aud"
        ],
        [
         22,
         "Aud-M240",
         "Aud"
        ],
        [
         23,
         "Aud-M241",
         "Aud"
        ],
        [
         24,
         "BMW-M1",
         "BMW"
        ],
        [
         25,
         "BMW-M2",
         "BMW"
        ],
        [
         26,
         "BMW-M242",
         "BMW"
        ],
        [
         27,
         "BMW-M243",
         "BMW"
        ],
        [
         28,
         "BMW-M244",
         "BMW"
        ],
        [
         29,
         "BMW-M245",
         "BMW"
        ],
        [
         30,
         "BMW-M246",
         "BMW"
        ],
        [
         31,
         "BMW-M247",
         "BMW"
        ],
        [
         32,
         "BMW-M248",
         "BMW"
        ],
        [
         33,
         "BMW-M249",
         "BMW"
        ],
        [
         34,
         "BMW-M250",
         "BMW"
        ],
        [
         35,
         "BMW-M3",
         "BMW"
        ],
        [
         36,
         "BMW-M4",
         "BMW"
        ],
        [
         37,
         "BMW-M5",
         "BMW"
        ],
        [
         38,
         "Bui-M31",
         "Bui"
        ],
        [
         39,
         "Cad-M32",
         "Cad"
        ],
        [
         40,
         "Cad-M33",
         "Cad"
        ],
        [
         41,
         "Cad-M34",
         "Cad"
        ],
        [
         42,
         "Cad-M35",
         "Cad"
        ],
        [
         43,
         "Cad-M36",
         "Cad"
        ],
        [
         44,
         "Cad-M37",
         "Cad"
        ],
        [
         45,
         "Cad-M38",
         "Cad"
        ],
        [
         46,
         "Cad-M39",
         "Cad"
        ],
        [
         47,
         "Che-M114",
         "Che"
        ],
        [
         48,
         "Che-M40",
         "Che"
        ],
        [
         49,
         "Che-M41",
         "Che"
        ],
        [
         50,
         "Che-M42",
         "Che"
        ],
        [
         51,
         "Che-M43",
         "Che"
        ],
        [
         52,
         "Che-M44",
         "Che"
        ],
        [
         53,
         "Che-M45",
         "Che"
        ],
        [
         54,
         "Che-M46",
         "Che"
        ],
        [
         55,
         "Che-M47",
         "Che"
        ],
        [
         56,
         "Che-M48",
         "Che"
        ],
        [
         57,
         "Che-M49",
         "Che"
        ],
        [
         58,
         "Che-M50",
         "Che"
        ],
        [
         59,
         "Che-M51",
         "Che"
        ],
        [
         60,
         "Cit-M115",
         "Cit"
        ],
        [
         61,
         "Cit-M116",
         "Cit"
        ],
        [
         62,
         "Dod-M9",
         "Dod"
        ],
        [
         63,
         "Fia-M117",
         "Fia"
        ],
        [
         64,
         "Fia-M118",
         "Fia"
        ],
        [
         65,
         "For-M119",
         "For"
        ],
        [
         66,
         "For-M16",
         "For"
        ],
        [
         67,
         "For-M17",
         "For"
        ],
        [
         68,
         "For-M18",
         "For"
        ],
        [
         69,
         "For-M19",
         "For"
        ],
        [
         70,
         "For-M20",
         "For"
        ],
        [
         71,
         "For-M21",
         "For"
        ],
        [
         72,
         "For-M22",
         "For"
        ],
        [
         73,
         "For-M221",
         "For"
        ],
        [
         74,
         "For-M222",
         "For"
        ],
        [
         75,
         "For-M223",
         "For"
        ],
        [
         76,
         "For-M224",
         "For"
        ],
        [
         77,
         "For-M225",
         "For"
        ],
        [
         78,
         "For-M226",
         "For"
        ],
        [
         79,
         "For-M23",
         "For"
        ],
        [
         80,
         "For-M24",
         "For"
        ],
        [
         81,
         "For-M25",
         "For"
        ],
        [
         82,
         "For-M26",
         "For"
        ],
        [
         83,
         "GMC-M52",
         "GMC"
        ],
        [
         84,
         "GMC-M53",
         "GMC"
        ],
        [
         85,
         "GMC-M54",
         "GMC"
        ],
        [
         86,
         "GMC-M55",
         "GMC"
        ],
        [
         87,
         "GMC-M56",
         "GMC"
        ],
        [
         88,
         "GMC-M57",
         "GMC"
        ],
        [
         89,
         "GMC-M58",
         "GMC"
        ],
        [
         90,
         "Hon-M120",
         "Hon"
        ],
        [
         91,
         "Hon-M215",
         "Hon"
        ],
        [
         92,
         "Hon-M216",
         "Hon"
        ],
        [
         93,
         "Hon-M217",
         "Hon"
        ],
        [
         94,
         "Hon-M218",
         "Hon"
        ],
        [
         95,
         "Hon-M219",
         "Hon"
        ],
        [
         96,
         "Hon-M220",
         "Hon"
        ],
        [
         97,
         "Hon-M64",
         "Hon"
        ],
        [
         98,
         "Hon-M65",
         "Hon"
        ],
        [
         99,
         "Hon-M66",
         "Hon"
        ],
        [
         100,
         "Hon-M67",
         "Hon"
        ],
        [
         101,
         "Hon-M68",
         "Hon"
        ],
        [
         102,
         "Hon-M69",
         "Hon"
        ],
        [
         103,
         "Hon-M70",
         "Hon"
        ],
        [
         104,
         "Hon-M71",
         "Hon"
        ],
        [
         105,
         "Hyu-M153",
         "Hyu"
        ],
        [
         106,
         "Hyu-M154",
         "Hyu"
        ],
        [
         107,
         "Hyu-M155",
         "Hyu"
        ],
        [
         108,
         "Hyu-M156",
         "Hyu"
        ],
        [
         109,
         "Hyu-M157",
         "Hyu"
        ],
        [
         110,
         "Hyu-M158",
         "Hyu"
        ],
        [
         111,
         "Hyu-M159",
         "Hyu"
        ],
        [
         112,
         "Hyu-M160",
         "Hyu"
        ],
        [
         113,
         "Hyu-M161",
         "Hyu"
        ],
        [
         114,
         "Hyu-M162",
         "Hyu"
        ],
        [
         115,
         "Hyu-M163",
         "Hyu"
        ],
        [
         116,
         "Hyu-M164",
         "Hyu"
        ],
        [
         117,
         "Hyu-M72",
         "Hyu"
        ],
        [
         118,
         "Hyu-M73",
         "Hyu"
        ],
        [
         119,
         "Hyu-M74",
         "Hyu"
        ],
        [
         120,
         "Hyu-M75",
         "Hyu"
        ],
        [
         121,
         "Inf-M79",
         "Inf"
        ],
        [
         122,
         "Jee-M10",
         "Jee"
        ],
        [
         123,
         "Jee-M11",
         "Jee"
        ],
        [
         124,
         "Jee-M12",
         "Jee"
        ],
        [
         125,
         "Jee-M13",
         "Jee"
        ],
        [
         126,
         "Jee-M253",
         "Jee"
        ],
        [
         127,
         "Jee-M254",
         "Jee"
        ],
        [
         128,
         "Kia-M212",
         "Kia"
        ],
        [
         129,
         "Kia-M213",
         "Kia"
        ],
        [
         130,
         "Kia-M214",
         "Kia"
        ],
        [
         131,
         "Kia-M76",
         "Kia"
        ],
        [
         132,
         "Kia-M77",
         "Kia"
        ],
        [
         133,
         "Kia-M78",
         "Kia"
        ],
        [
         134,
         "Lex-M99",
         "Lex"
        ],
        [
         135,
         "Lin-M27",
         "Lin"
        ],
        [
         136,
         "Lin-M28",
         "Lin"
        ],
        [
         137,
         "Lin-M29",
         "Lin"
        ],
        [
         138,
         "Lin-M30",
         "Lin"
        ],
        [
         139,
         "MG-M251",
         "MG"
        ],
        [
         140,
         "MG-M252",
         "MG"
        ],
        [
         141,
         "Mah-M165",
         "Mah"
        ],
        [
         142,
         "Mah-M166",
         "Mah"
        ],
        [
         143,
         "Mah-M167",
         "Mah"
        ],
        [
         144,
         "Mah-M168",
         "Mah"
        ],
        [
         145,
         "Mah-M169",
         "Mah"
        ],
        [
         146,
         "Mah-M170",
         "Mah"
        ],
        [
         147,
         "Mah-M171",
         "Mah"
        ],
        [
         148,
         "Mah-M172",
         "Mah"
        ],
        [
         149,
         "Mah-M173",
         "Mah"
        ],
        [
         150,
         "Mah-M174",
         "Mah"
        ],
        [
         151,
         "Mah-M175",
         "Mah"
        ],
        [
         152,
         "Mah-M176",
         "Mah"
        ],
        [
         153,
         "Mah-M177",
         "Mah"
        ],
        [
         154,
         "Mah-M178",
         "Mah"
        ],
        [
         155,
         "Mar-M137",
         "Mar"
        ],
        [
         156,
         "Mar-M138",
         "Mar"
        ],
        [
         157,
         "Mar-M139",
         "Mar"
        ],
        [
         158,
         "Mar-M140",
         "Mar"
        ],
        [
         159,
         "Mar-M141",
         "Mar"
        ],
        [
         160,
         "Mar-M142",
         "Mar"
        ],
        [
         161,
         "Mar-M143",
         "Mar"
        ],
        [
         162,
         "Mar-M144",
         "Mar"
        ],
        [
         163,
         "Mar-M145",
         "Mar"
        ],
        [
         164,
         "Mar-M146",
         "Mar"
        ],
        [
         165,
         "Mar-M147",
         "Mar"
        ],
        [
         166,
         "Mar-M148",
         "Mar"
        ],
        [
         167,
         "Mar-M149",
         "Mar"
        ],
        [
         168,
         "Mar-M150",
         "Mar"
        ],
        [
         169,
         "Mar-M151",
         "Mar"
        ],
        [
         170,
         "Mar-M152",
         "Mar"
        ],
        [
         171,
         "Mer-M121",
         "Mer"
        ],
        [
         172,
         "Mer-M122",
         "Mer"
        ],
        [
         173,
         "Mer-M123",
         "Mer"
        ],
        [
         174,
         "Mer-M6",
         "Mer"
        ],
        [
         175,
         "Mer-M7",
         "Mer"
        ],
        [
         176,
         "Mer-M8",
         "Mer"
        ],
        [
         177,
         "Mit-M275",
         "Mit"
        ],
        [
         178,
         "Mit-M276",
         "Mit"
        ],
        [
         179,
         "Mit-M277",
         "Mit"
        ],
        [
         180,
         "Nis-M261",
         "Nis"
        ],
        [
         181,
         "Nis-M262",
         "Nis"
        ],
        [
         182,
         "Nis-M263",
         "Nis"
        ],
        [
         183,
         "Nis-M264",
         "Nis"
        ],
        [
         184,
         "Nis-M265",
         "Nis"
        ],
        [
         185,
         "Nis-M266",
         "Nis"
        ],
        [
         186,
         "Nis-M267",
         "Nis"
        ],
        [
         187,
         "Nis-M268",
         "Nis"
        ],
        [
         188,
         "Nis-M269",
         "Nis"
        ],
        [
         189,
         "Nis-M270",
         "Nis"
        ],
        [
         190,
         "Nis-M80",
         "Nis"
        ],
        [
         191,
         "Nis-M81",
         "Nis"
        ],
        [
         192,
         "Nis-M82",
         "Nis"
        ],
        [
         193,
         "Nis-M83",
         "Nis"
        ],
        [
         194,
         "Nis-M84",
         "Nis"
        ],
        [
         195,
         "Nis-M85",
         "Nis"
        ],
        [
         196,
         "Nis-M86",
         "Nis"
        ],
        [
         197,
         "Nis-M87",
         "Nis"
        ],
        [
         198,
         "Nis-M88",
         "Nis"
        ],
        [
         199,
         "Nis-M89",
         "Nis"
        ],
        [
         200,
         "Peu-M124",
         "Peu"
        ],
        [
         201,
         "Peu-M125",
         "Peu"
        ],
        [
         202,
         "Peu-M126",
         "Peu"
        ],
        [
         203,
         "Ram-M14",
         "Ram"
        ],
        [
         204,
         "Ram-M15",
         "Ram"
        ],
        [
         205,
         "Ren-M127",
         "Ren"
        ],
        [
         206,
         "Ren-M128",
         "Ren"
        ],
        [
         207,
         "Ren-M129",
         "Ren"
        ],
        [
         208,
         "Ren-M130",
         "Ren"
        ],
        [
         209,
         "Ren-M131",
         "Ren"
        ],
        [
         210,
         "Ren-M132",
         "Ren"
        ],
        [
         211,
         "Ren-M207",
         "Ren"
        ],
        [
         212,
         "Ren-M208",
         "Ren"
        ],
        [
         213,
         "Ren-M209",
         "Ren"
        ],
        [
         214,
         "Ren-M210",
         "Ren"
        ],
        [
         215,
         "Ren-M211",
         "Ren"
        ],
        [
         216,
         "Riv-M90",
         "Riv"
        ],
        [
         217,
         "Riv-M91",
         "Riv"
        ],
        [
         218,
         "Sko-M271",
         "Sko"
        ],
        [
         219,
         "Sko-M272",
         "Sko"
        ],
        [
         220,
         "Sko-M273",
         "Sko"
        ],
        [
         221,
         "Sko-M274",
         "Sko"
        ],
        [
         222,
         "Sub-M92",
         "Sub"
        ],
        [
         223,
         "Sub-M93",
         "Sub"
        ],
        [
         224,
         "Sub-M94",
         "Sub"
        ],
        [
         225,
         "Sub-M95",
         "Sub"
        ],
        [
         226,
         "Tat-M179",
         "Tat"
        ],
        [
         227,
         "Tat-M180",
         "Tat"
        ],
        [
         228,
         "Tat-M181",
         "Tat"
        ],
        [
         229,
         "Tat-M182",
         "Tat"
        ],
        [
         230,
         "Tat-M183",
         "Tat"
        ],
        [
         231,
         "Tat-M184",
         "Tat"
        ],
        [
         232,
         "Tat-M185",
         "Tat"
        ],
        [
         233,
         "Tat-M186",
         "Tat"
        ],
        [
         234,
         "Tat-M187",
         "Tat"
        ],
        [
         235,
         "Tat-M188",
         "Tat"
        ],
        [
         236,
         "Tat-M189",
         "Tat"
        ],
        [
         237,
         "Tat-M190",
         "Tat"
        ],
        [
         238,
         "Tat-M191",
         "Tat"
        ],
        [
         239,
         "Tat-M192",
         "Tat"
        ],
        [
         240,
         "Tat-M193",
         "Tat"
        ],
        [
         241,
         "Tat-M194",
         "Tat"
        ],
        [
         242,
         "Tes-M96",
         "Tes"
        ],
        [
         243,
         "Tes-M97",
         "Tes"
        ],
        [
         244,
         "Tes-M98",
         "Tes"
        ],
        [
         245,
         "Toy-M100",
         "Toy"
        ],
        [
         246,
         "Toy-M101",
         "Toy"
        ],
        [
         247,
         "Toy-M102",
         "Toy"
        ],
        [
         248,
         "Toy-M103",
         "Toy"
        ],
        [
         249,
         "Toy-M104",
         "Toy"
        ],
        [
         250,
         "Toy-M105",
         "Toy"
        ],
        [
         251,
         "Toy-M106",
         "Toy"
        ],
        [
         252,
         "Toy-M107",
         "Toy"
        ],
        [
         253,
         "Toy-M133",
         "Toy"
        ],
        [
         254,
         "Toy-M134",
         "Toy"
        ],
        [
         255,
         "Toy-M195",
         "Toy"
        ],
        [
         256,
         "Toy-M196",
         "Toy"
        ],
        [
         257,
         "Toy-M197",
         "Toy"
        ],
        [
         258,
         "Toy-M198",
         "Toy"
        ],
        [
         259,
         "Toy-M199",
         "Toy"
        ],
        [
         260,
         "Toy-M200",
         "Toy"
        ],
        [
         261,
         "Toy-M201",
         "Toy"
        ],
        [
         262,
         "Toy-M202",
         "Toy"
        ],
        [
         263,
         "Toy-M203",
         "Toy"
        ],
        [
         264,
         "Toy-M204",
         "Toy"
        ],
        [
         265,
         "Toy-M205",
         "Toy"
        ],
        [
         266,
         "Toy-M206",
         "Toy"
        ],
        [
         267,
         "Vol-M108",
         "Vol"
        ],
        [
         268,
         "Vol-M109",
         "Vol"
        ],
        [
         269,
         "Vol-M110",
         "Vol"
        ],
        [
         270,
         "Vol-M135",
         "Vol"
        ],
        [
         271,
         "Vol-M136",
         "Vol"
        ],
        [
         272,
         "Vol-M255",
         "Vol"
        ],
        [
         273,
         "Vol-M256",
         "Vol"
        ],
        [
         274,
         "Vol-M257",
         "Vol"
        ],
        [
         275,
         "Vol-M258",
         "Vol"
        ],
        [
         276,
         "Vol-M259",
         "Vol"
        ],
        [
         277,
         "Vol-M260",
         "Vol"
        ]
       ],
       "datasetInfos": [],
       "dbfsResultPath": null,
       "isJsonSchema": true,
       "metadata": {},
       "overflow": false,
       "plotOptions": {
        "customPlotOptions": {},
        "displayType": "table",
        "pivotAggregation": null,
        "pivotColumns": null,
        "xColumns": null,
        "yColumns": null
       },
       "removedWidgets": [],
       "schema": [
        {
         "metadata": "{}",
         "name": "dim_model_key",
         "type": "\"integer\""
        },
        {
         "metadata": "{}",
         "name": "Model_ID",
         "type": "\"string\""
        },
        {
         "metadata": "{}",
         "name": "Model_Category",
         "type": "\"string\""
        }
       ],
       "type": "table"
      }
     },
     "output_type": "display_data"
    }
   ],
   "source": [
    "df_new_with_keys.display()"
   ]
  },
  {
   "cell_type": "code",
   "execution_count": 0,
   "metadata": {
    "application/vnd.databricks.v1+cell": {
     "cellMetadata": {
      "byteLimit": 2048000,
      "rowLimit": 10000
     },
     "inputWidgets": {},
     "nuid": "28402e19-4b3d-44bf-8f13-a6e0404e756d",
     "showTitle": false,
     "tableResultSettingsMap": {},
     "title": ""
    }
   },
   "outputs": [
    {
     "output_type": "stream",
     "name": "stderr",
     "output_type": "stream",
     "text": [
      "/databricks/python/lib/python3.11/site-packages/pyspark/sql/connect/expressions.py:1017: UserWarning: WARN WindowExpression: No Partition Defined for Window operation! Moving all data to a single partition, this can cause serious performance degradation.\n  warnings.warn(\n"
     ]
    }
   ],
   "source": [
    "from pyspark.sql import DataFrame\n",
    "\n",
    "# Union old records (with existing keys) and new records (with generated keys)\n",
    "df_final: DataFrame = df_filter_old.unionByName(df_new_with_keys)\n"
   ]
  },
  {
   "cell_type": "code",
   "execution_count": 0,
   "metadata": {
    "application/vnd.databricks.v1+cell": {
     "cellMetadata": {
      "byteLimit": 2048000,
      "rowLimit": 10000
     },
     "inputWidgets": {},
     "nuid": "6666677a-e6ba-4362-8cd3-e0b32d36ee00",
     "showTitle": false,
     "tableResultSettingsMap": {},
     "title": ""
    }
   },
   "outputs": [
    {
     "output_type": "stream",
     "name": "stderr",
     "output_type": "stream",
     "text": [
      "/databricks/python/lib/python3.11/site-packages/pyspark/sql/connect/expressions.py:1017: UserWarning: WARN WindowExpression: No Partition Defined for Window operation! Moving all data to a single partition, this can cause serious performance degradation.\n  warnings.warn(\n"
     ]
    },
    {
     "output_type": "display_data",
     "data": {
      "text/html": [
       "<style scoped>\n",
       "  .table-result-container {\n",
       "    max-height: 300px;\n",
       "    overflow: auto;\n",
       "  }\n",
       "  table, th, td {\n",
       "    border: 1px solid black;\n",
       "    border-collapse: collapse;\n",
       "  }\n",
       "  th, td {\n",
       "    padding: 5px;\n",
       "  }\n",
       "  th {\n",
       "    text-align: left;\n",
       "  }\n",
       "</style><div class='table-result-container'><table class='table-result'><thead style='background-color: white'><tr><th>Model_ID</th><th>Model_Category</th><th>dim_model_key</th></tr></thead><tbody><tr><td>Acu-M59</td><td>Acu</td><td>1</td></tr><tr><td>Acu-M60</td><td>Acu</td><td>2</td></tr><tr><td>Acu-M61</td><td>Acu</td><td>3</td></tr><tr><td>Acu-M62</td><td>Acu</td><td>4</td></tr><tr><td>Acu-M63</td><td>Acu</td><td>5</td></tr><tr><td>Agr-M111</td><td>Agr</td><td>6</td></tr><tr><td>Agr-M112</td><td>Agr</td><td>7</td></tr><tr><td>Agr-M113</td><td>Agr</td><td>8</td></tr><tr><td>Aud-M227</td><td>Aud</td><td>9</td></tr><tr><td>Aud-M228</td><td>Aud</td><td>10</td></tr><tr><td>Aud-M229</td><td>Aud</td><td>11</td></tr><tr><td>Aud-M230</td><td>Aud</td><td>12</td></tr><tr><td>Aud-M231</td><td>Aud</td><td>13</td></tr><tr><td>Aud-M232</td><td>Aud</td><td>14</td></tr><tr><td>Aud-M233</td><td>Aud</td><td>15</td></tr><tr><td>Aud-M234</td><td>Aud</td><td>16</td></tr><tr><td>Aud-M235</td><td>Aud</td><td>17</td></tr><tr><td>Aud-M236</td><td>Aud</td><td>18</td></tr><tr><td>Aud-M237</td><td>Aud</td><td>19</td></tr><tr><td>Aud-M238</td><td>Aud</td><td>20</td></tr><tr><td>Aud-M239</td><td>Aud</td><td>21</td></tr><tr><td>Aud-M240</td><td>Aud</td><td>22</td></tr><tr><td>Aud-M241</td><td>Aud</td><td>23</td></tr><tr><td>BMW-M1</td><td>BMW</td><td>24</td></tr><tr><td>BMW-M2</td><td>BMW</td><td>25</td></tr><tr><td>BMW-M242</td><td>BMW</td><td>26</td></tr><tr><td>BMW-M243</td><td>BMW</td><td>27</td></tr><tr><td>BMW-M244</td><td>BMW</td><td>28</td></tr><tr><td>BMW-M245</td><td>BMW</td><td>29</td></tr><tr><td>BMW-M246</td><td>BMW</td><td>30</td></tr><tr><td>BMW-M247</td><td>BMW</td><td>31</td></tr><tr><td>BMW-M248</td><td>BMW</td><td>32</td></tr><tr><td>BMW-M249</td><td>BMW</td><td>33</td></tr><tr><td>BMW-M250</td><td>BMW</td><td>34</td></tr><tr><td>BMW-M3</td><td>BMW</td><td>35</td></tr><tr><td>BMW-M4</td><td>BMW</td><td>36</td></tr><tr><td>BMW-M5</td><td>BMW</td><td>37</td></tr><tr><td>Bui-M31</td><td>Bui</td><td>38</td></tr><tr><td>Cad-M32</td><td>Cad</td><td>39</td></tr><tr><td>Cad-M33</td><td>Cad</td><td>40</td></tr><tr><td>Cad-M34</td><td>Cad</td><td>41</td></tr><tr><td>Cad-M35</td><td>Cad</td><td>42</td></tr><tr><td>Cad-M36</td><td>Cad</td><td>43</td></tr><tr><td>Cad-M37</td><td>Cad</td><td>44</td></tr><tr><td>Cad-M38</td><td>Cad</td><td>45</td></tr><tr><td>Cad-M39</td><td>Cad</td><td>46</td></tr><tr><td>Che-M114</td><td>Che</td><td>47</td></tr><tr><td>Che-M40</td><td>Che</td><td>48</td></tr><tr><td>Che-M41</td><td>Che</td><td>49</td></tr><tr><td>Che-M42</td><td>Che</td><td>50</td></tr><tr><td>Che-M43</td><td>Che</td><td>51</td></tr><tr><td>Che-M44</td><td>Che</td><td>52</td></tr><tr><td>Che-M45</td><td>Che</td><td>53</td></tr><tr><td>Che-M46</td><td>Che</td><td>54</td></tr><tr><td>Che-M47</td><td>Che</td><td>55</td></tr><tr><td>Che-M48</td><td>Che</td><td>56</td></tr><tr><td>Che-M49</td><td>Che</td><td>57</td></tr><tr><td>Che-M50</td><td>Che</td><td>58</td></tr><tr><td>Che-M51</td><td>Che</td><td>59</td></tr><tr><td>Cit-M115</td><td>Cit</td><td>60</td></tr><tr><td>Cit-M116</td><td>Cit</td><td>61</td></tr><tr><td>Dod-M9</td><td>Dod</td><td>62</td></tr><tr><td>Fia-M117</td><td>Fia</td><td>63</td></tr><tr><td>Fia-M118</td><td>Fia</td><td>64</td></tr><tr><td>For-M119</td><td>For</td><td>65</td></tr><tr><td>For-M16</td><td>For</td><td>66</td></tr><tr><td>For-M17</td><td>For</td><td>67</td></tr><tr><td>For-M18</td><td>For</td><td>68</td></tr><tr><td>For-M19</td><td>For</td><td>69</td></tr><tr><td>For-M20</td><td>For</td><td>70</td></tr><tr><td>For-M21</td><td>For</td><td>71</td></tr><tr><td>For-M22</td><td>For</td><td>72</td></tr><tr><td>For-M221</td><td>For</td><td>73</td></tr><tr><td>For-M222</td><td>For</td><td>74</td></tr><tr><td>For-M223</td><td>For</td><td>75</td></tr><tr><td>For-M224</td><td>For</td><td>76</td></tr><tr><td>For-M225</td><td>For</td><td>77</td></tr><tr><td>For-M226</td><td>For</td><td>78</td></tr><tr><td>For-M23</td><td>For</td><td>79</td></tr><tr><td>For-M24</td><td>For</td><td>80</td></tr><tr><td>For-M25</td><td>For</td><td>81</td></tr><tr><td>For-M26</td><td>For</td><td>82</td></tr><tr><td>GMC-M52</td><td>GMC</td><td>83</td></tr><tr><td>GMC-M53</td><td>GMC</td><td>84</td></tr><tr><td>GMC-M54</td><td>GMC</td><td>85</td></tr><tr><td>GMC-M55</td><td>GMC</td><td>86</td></tr><tr><td>GMC-M56</td><td>GMC</td><td>87</td></tr><tr><td>GMC-M57</td><td>GMC</td><td>88</td></tr><tr><td>GMC-M58</td><td>GMC</td><td>89</td></tr><tr><td>Hon-M120</td><td>Hon</td><td>90</td></tr><tr><td>Hon-M215</td><td>Hon</td><td>91</td></tr><tr><td>Hon-M216</td><td>Hon</td><td>92</td></tr><tr><td>Hon-M217</td><td>Hon</td><td>93</td></tr><tr><td>Hon-M218</td><td>Hon</td><td>94</td></tr><tr><td>Hon-M219</td><td>Hon</td><td>95</td></tr><tr><td>Hon-M220</td><td>Hon</td><td>96</td></tr><tr><td>Hon-M64</td><td>Hon</td><td>97</td></tr><tr><td>Hon-M65</td><td>Hon</td><td>98</td></tr><tr><td>Hon-M66</td><td>Hon</td><td>99</td></tr><tr><td>Hon-M67</td><td>Hon</td><td>100</td></tr><tr><td>Hon-M68</td><td>Hon</td><td>101</td></tr><tr><td>Hon-M69</td><td>Hon</td><td>102</td></tr><tr><td>Hon-M70</td><td>Hon</td><td>103</td></tr><tr><td>Hon-M71</td><td>Hon</td><td>104</td></tr><tr><td>Hyu-M153</td><td>Hyu</td><td>105</td></tr><tr><td>Hyu-M154</td><td>Hyu</td><td>106</td></tr><tr><td>Hyu-M155</td><td>Hyu</td><td>107</td></tr><tr><td>Hyu-M156</td><td>Hyu</td><td>108</td></tr><tr><td>Hyu-M157</td><td>Hyu</td><td>109</td></tr><tr><td>Hyu-M158</td><td>Hyu</td><td>110</td></tr><tr><td>Hyu-M159</td><td>Hyu</td><td>111</td></tr><tr><td>Hyu-M160</td><td>Hyu</td><td>112</td></tr><tr><td>Hyu-M161</td><td>Hyu</td><td>113</td></tr><tr><td>Hyu-M162</td><td>Hyu</td><td>114</td></tr><tr><td>Hyu-M163</td><td>Hyu</td><td>115</td></tr><tr><td>Hyu-M164</td><td>Hyu</td><td>116</td></tr><tr><td>Hyu-M72</td><td>Hyu</td><td>117</td></tr><tr><td>Hyu-M73</td><td>Hyu</td><td>118</td></tr><tr><td>Hyu-M74</td><td>Hyu</td><td>119</td></tr><tr><td>Hyu-M75</td><td>Hyu</td><td>120</td></tr><tr><td>Inf-M79</td><td>Inf</td><td>121</td></tr><tr><td>Jee-M10</td><td>Jee</td><td>122</td></tr><tr><td>Jee-M11</td><td>Jee</td><td>123</td></tr><tr><td>Jee-M12</td><td>Jee</td><td>124</td></tr><tr><td>Jee-M13</td><td>Jee</td><td>125</td></tr><tr><td>Jee-M253</td><td>Jee</td><td>126</td></tr><tr><td>Jee-M254</td><td>Jee</td><td>127</td></tr><tr><td>Kia-M212</td><td>Kia</td><td>128</td></tr><tr><td>Kia-M213</td><td>Kia</td><td>129</td></tr><tr><td>Kia-M214</td><td>Kia</td><td>130</td></tr><tr><td>Kia-M76</td><td>Kia</td><td>131</td></tr><tr><td>Kia-M77</td><td>Kia</td><td>132</td></tr><tr><td>Kia-M78</td><td>Kia</td><td>133</td></tr><tr><td>Lex-M99</td><td>Lex</td><td>134</td></tr><tr><td>Lin-M27</td><td>Lin</td><td>135</td></tr><tr><td>Lin-M28</td><td>Lin</td><td>136</td></tr><tr><td>Lin-M29</td><td>Lin</td><td>137</td></tr><tr><td>Lin-M30</td><td>Lin</td><td>138</td></tr><tr><td>MG-M251</td><td>MG</td><td>139</td></tr><tr><td>MG-M252</td><td>MG</td><td>140</td></tr><tr><td>Mah-M165</td><td>Mah</td><td>141</td></tr><tr><td>Mah-M166</td><td>Mah</td><td>142</td></tr><tr><td>Mah-M167</td><td>Mah</td><td>143</td></tr><tr><td>Mah-M168</td><td>Mah</td><td>144</td></tr><tr><td>Mah-M169</td><td>Mah</td><td>145</td></tr><tr><td>Mah-M170</td><td>Mah</td><td>146</td></tr><tr><td>Mah-M171</td><td>Mah</td><td>147</td></tr><tr><td>Mah-M172</td><td>Mah</td><td>148</td></tr><tr><td>Mah-M173</td><td>Mah</td><td>149</td></tr><tr><td>Mah-M174</td><td>Mah</td><td>150</td></tr><tr><td>Mah-M175</td><td>Mah</td><td>151</td></tr><tr><td>Mah-M176</td><td>Mah</td><td>152</td></tr><tr><td>Mah-M177</td><td>Mah</td><td>153</td></tr><tr><td>Mah-M178</td><td>Mah</td><td>154</td></tr><tr><td>Mar-M137</td><td>Mar</td><td>155</td></tr><tr><td>Mar-M138</td><td>Mar</td><td>156</td></tr><tr><td>Mar-M139</td><td>Mar</td><td>157</td></tr><tr><td>Mar-M140</td><td>Mar</td><td>158</td></tr><tr><td>Mar-M141</td><td>Mar</td><td>159</td></tr><tr><td>Mar-M142</td><td>Mar</td><td>160</td></tr><tr><td>Mar-M143</td><td>Mar</td><td>161</td></tr><tr><td>Mar-M144</td><td>Mar</td><td>162</td></tr><tr><td>Mar-M145</td><td>Mar</td><td>163</td></tr><tr><td>Mar-M146</td><td>Mar</td><td>164</td></tr><tr><td>Mar-M147</td><td>Mar</td><td>165</td></tr><tr><td>Mar-M148</td><td>Mar</td><td>166</td></tr><tr><td>Mar-M149</td><td>Mar</td><td>167</td></tr><tr><td>Mar-M150</td><td>Mar</td><td>168</td></tr><tr><td>Mar-M151</td><td>Mar</td><td>169</td></tr><tr><td>Mar-M152</td><td>Mar</td><td>170</td></tr><tr><td>Mer-M121</td><td>Mer</td><td>171</td></tr><tr><td>Mer-M122</td><td>Mer</td><td>172</td></tr><tr><td>Mer-M123</td><td>Mer</td><td>173</td></tr><tr><td>Mer-M6</td><td>Mer</td><td>174</td></tr><tr><td>Mer-M7</td><td>Mer</td><td>175</td></tr><tr><td>Mer-M8</td><td>Mer</td><td>176</td></tr><tr><td>Mit-M275</td><td>Mit</td><td>177</td></tr><tr><td>Mit-M276</td><td>Mit</td><td>178</td></tr><tr><td>Mit-M277</td><td>Mit</td><td>179</td></tr><tr><td>Nis-M261</td><td>Nis</td><td>180</td></tr><tr><td>Nis-M262</td><td>Nis</td><td>181</td></tr><tr><td>Nis-M263</td><td>Nis</td><td>182</td></tr><tr><td>Nis-M264</td><td>Nis</td><td>183</td></tr><tr><td>Nis-M265</td><td>Nis</td><td>184</td></tr><tr><td>Nis-M266</td><td>Nis</td><td>185</td></tr><tr><td>Nis-M267</td><td>Nis</td><td>186</td></tr><tr><td>Nis-M268</td><td>Nis</td><td>187</td></tr><tr><td>Nis-M269</td><td>Nis</td><td>188</td></tr><tr><td>Nis-M270</td><td>Nis</td><td>189</td></tr><tr><td>Nis-M80</td><td>Nis</td><td>190</td></tr><tr><td>Nis-M81</td><td>Nis</td><td>191</td></tr><tr><td>Nis-M82</td><td>Nis</td><td>192</td></tr><tr><td>Nis-M83</td><td>Nis</td><td>193</td></tr><tr><td>Nis-M84</td><td>Nis</td><td>194</td></tr><tr><td>Nis-M85</td><td>Nis</td><td>195</td></tr><tr><td>Nis-M86</td><td>Nis</td><td>196</td></tr><tr><td>Nis-M87</td><td>Nis</td><td>197</td></tr><tr><td>Nis-M88</td><td>Nis</td><td>198</td></tr><tr><td>Nis-M89</td><td>Nis</td><td>199</td></tr><tr><td>Peu-M124</td><td>Peu</td><td>200</td></tr><tr><td>Peu-M125</td><td>Peu</td><td>201</td></tr><tr><td>Peu-M126</td><td>Peu</td><td>202</td></tr><tr><td>Ram-M14</td><td>Ram</td><td>203</td></tr><tr><td>Ram-M15</td><td>Ram</td><td>204</td></tr><tr><td>Ren-M127</td><td>Ren</td><td>205</td></tr><tr><td>Ren-M128</td><td>Ren</td><td>206</td></tr><tr><td>Ren-M129</td><td>Ren</td><td>207</td></tr><tr><td>Ren-M130</td><td>Ren</td><td>208</td></tr><tr><td>Ren-M131</td><td>Ren</td><td>209</td></tr><tr><td>Ren-M132</td><td>Ren</td><td>210</td></tr><tr><td>Ren-M207</td><td>Ren</td><td>211</td></tr><tr><td>Ren-M208</td><td>Ren</td><td>212</td></tr><tr><td>Ren-M209</td><td>Ren</td><td>213</td></tr><tr><td>Ren-M210</td><td>Ren</td><td>214</td></tr><tr><td>Ren-M211</td><td>Ren</td><td>215</td></tr><tr><td>Riv-M90</td><td>Riv</td><td>216</td></tr><tr><td>Riv-M91</td><td>Riv</td><td>217</td></tr><tr><td>Sko-M271</td><td>Sko</td><td>218</td></tr><tr><td>Sko-M272</td><td>Sko</td><td>219</td></tr><tr><td>Sko-M273</td><td>Sko</td><td>220</td></tr><tr><td>Sko-M274</td><td>Sko</td><td>221</td></tr><tr><td>Sub-M92</td><td>Sub</td><td>222</td></tr><tr><td>Sub-M93</td><td>Sub</td><td>223</td></tr><tr><td>Sub-M94</td><td>Sub</td><td>224</td></tr><tr><td>Sub-M95</td><td>Sub</td><td>225</td></tr><tr><td>Tat-M179</td><td>Tat</td><td>226</td></tr><tr><td>Tat-M180</td><td>Tat</td><td>227</td></tr><tr><td>Tat-M181</td><td>Tat</td><td>228</td></tr><tr><td>Tat-M182</td><td>Tat</td><td>229</td></tr><tr><td>Tat-M183</td><td>Tat</td><td>230</td></tr><tr><td>Tat-M184</td><td>Tat</td><td>231</td></tr><tr><td>Tat-M185</td><td>Tat</td><td>232</td></tr><tr><td>Tat-M186</td><td>Tat</td><td>233</td></tr><tr><td>Tat-M187</td><td>Tat</td><td>234</td></tr><tr><td>Tat-M188</td><td>Tat</td><td>235</td></tr><tr><td>Tat-M189</td><td>Tat</td><td>236</td></tr><tr><td>Tat-M190</td><td>Tat</td><td>237</td></tr><tr><td>Tat-M191</td><td>Tat</td><td>238</td></tr><tr><td>Tat-M192</td><td>Tat</td><td>239</td></tr><tr><td>Tat-M193</td><td>Tat</td><td>240</td></tr><tr><td>Tat-M194</td><td>Tat</td><td>241</td></tr><tr><td>Tes-M96</td><td>Tes</td><td>242</td></tr><tr><td>Tes-M97</td><td>Tes</td><td>243</td></tr><tr><td>Tes-M98</td><td>Tes</td><td>244</td></tr><tr><td>Toy-M100</td><td>Toy</td><td>245</td></tr><tr><td>Toy-M101</td><td>Toy</td><td>246</td></tr><tr><td>Toy-M102</td><td>Toy</td><td>247</td></tr><tr><td>Toy-M103</td><td>Toy</td><td>248</td></tr><tr><td>Toy-M104</td><td>Toy</td><td>249</td></tr><tr><td>Toy-M105</td><td>Toy</td><td>250</td></tr><tr><td>Toy-M106</td><td>Toy</td><td>251</td></tr><tr><td>Toy-M107</td><td>Toy</td><td>252</td></tr><tr><td>Toy-M133</td><td>Toy</td><td>253</td></tr><tr><td>Toy-M134</td><td>Toy</td><td>254</td></tr><tr><td>Toy-M195</td><td>Toy</td><td>255</td></tr><tr><td>Toy-M196</td><td>Toy</td><td>256</td></tr><tr><td>Toy-M197</td><td>Toy</td><td>257</td></tr><tr><td>Toy-M198</td><td>Toy</td><td>258</td></tr><tr><td>Toy-M199</td><td>Toy</td><td>259</td></tr><tr><td>Toy-M200</td><td>Toy</td><td>260</td></tr><tr><td>Toy-M201</td><td>Toy</td><td>261</td></tr><tr><td>Toy-M202</td><td>Toy</td><td>262</td></tr><tr><td>Toy-M203</td><td>Toy</td><td>263</td></tr><tr><td>Toy-M204</td><td>Toy</td><td>264</td></tr><tr><td>Toy-M205</td><td>Toy</td><td>265</td></tr><tr><td>Toy-M206</td><td>Toy</td><td>266</td></tr><tr><td>Vol-M108</td><td>Vol</td><td>267</td></tr><tr><td>Vol-M109</td><td>Vol</td><td>268</td></tr><tr><td>Vol-M110</td><td>Vol</td><td>269</td></tr><tr><td>Vol-M135</td><td>Vol</td><td>270</td></tr><tr><td>Vol-M136</td><td>Vol</td><td>271</td></tr><tr><td>Vol-M255</td><td>Vol</td><td>272</td></tr><tr><td>Vol-M256</td><td>Vol</td><td>273</td></tr><tr><td>Vol-M257</td><td>Vol</td><td>274</td></tr><tr><td>Vol-M258</td><td>Vol</td><td>275</td></tr><tr><td>Vol-M259</td><td>Vol</td><td>276</td></tr><tr><td>Vol-M260</td><td>Vol</td><td>277</td></tr></tbody></table></div>"
      ]
     },
     "metadata": {
      "application/vnd.databricks.v1+output": {
       "addedWidgets": {},
       "aggData": [],
       "aggError": "",
       "aggOverflow": false,
       "aggSchema": [],
       "aggSeriesLimitReached": false,
       "aggType": "",
       "arguments": {},
       "columnCustomDisplayInfos": {},
       "data": [
        [
         "Acu-M59",
         "Acu",
         1
        ],
        [
         "Acu-M60",
         "Acu",
         2
        ],
        [
         "Acu-M61",
         "Acu",
         3
        ],
        [
         "Acu-M62",
         "Acu",
         4
        ],
        [
         "Acu-M63",
         "Acu",
         5
        ],
        [
         "Agr-M111",
         "Agr",
         6
        ],
        [
         "Agr-M112",
         "Agr",
         7
        ],
        [
         "Agr-M113",
         "Agr",
         8
        ],
        [
         "Aud-M227",
         "Aud",
         9
        ],
        [
         "Aud-M228",
         "Aud",
         10
        ],
        [
         "Aud-M229",
         "Aud",
         11
        ],
        [
         "Aud-M230",
         "Aud",
         12
        ],
        [
         "Aud-M231",
         "Aud",
         13
        ],
        [
         "Aud-M232",
         "Aud",
         14
        ],
        [
         "Aud-M233",
         "Aud",
         15
        ],
        [
         "Aud-M234",
         "Aud",
         16
        ],
        [
         "Aud-M235",
         "Aud",
         17
        ],
        [
         "Aud-M236",
         "Aud",
         18
        ],
        [
         "Aud-M237",
         "Aud",
         19
        ],
        [
         "Aud-M238",
         "Aud",
         20
        ],
        [
         "Aud-M239",
         "Aud",
         21
        ],
        [
         "Aud-M240",
         "Aud",
         22
        ],
        [
         "Aud-M241",
         "Aud",
         23
        ],
        [
         "BMW-M1",
         "BMW",
         24
        ],
        [
         "BMW-M2",
         "BMW",
         25
        ],
        [
         "BMW-M242",
         "BMW",
         26
        ],
        [
         "BMW-M243",
         "BMW",
         27
        ],
        [
         "BMW-M244",
         "BMW",
         28
        ],
        [
         "BMW-M245",
         "BMW",
         29
        ],
        [
         "BMW-M246",
         "BMW",
         30
        ],
        [
         "BMW-M247",
         "BMW",
         31
        ],
        [
         "BMW-M248",
         "BMW",
         32
        ],
        [
         "BMW-M249",
         "BMW",
         33
        ],
        [
         "BMW-M250",
         "BMW",
         34
        ],
        [
         "BMW-M3",
         "BMW",
         35
        ],
        [
         "BMW-M4",
         "BMW",
         36
        ],
        [
         "BMW-M5",
         "BMW",
         37
        ],
        [
         "Bui-M31",
         "Bui",
         38
        ],
        [
         "Cad-M32",
         "Cad",
         39
        ],
        [
         "Cad-M33",
         "Cad",
         40
        ],
        [
         "Cad-M34",
         "Cad",
         41
        ],
        [
         "Cad-M35",
         "Cad",
         42
        ],
        [
         "Cad-M36",
         "Cad",
         43
        ],
        [
         "Cad-M37",
         "Cad",
         44
        ],
        [
         "Cad-M38",
         "Cad",
         45
        ],
        [
         "Cad-M39",
         "Cad",
         46
        ],
        [
         "Che-M114",
         "Che",
         47
        ],
        [
         "Che-M40",
         "Che",
         48
        ],
        [
         "Che-M41",
         "Che",
         49
        ],
        [
         "Che-M42",
         "Che",
         50
        ],
        [
         "Che-M43",
         "Che",
         51
        ],
        [
         "Che-M44",
         "Che",
         52
        ],
        [
         "Che-M45",
         "Che",
         53
        ],
        [
         "Che-M46",
         "Che",
         54
        ],
        [
         "Che-M47",
         "Che",
         55
        ],
        [
         "Che-M48",
         "Che",
         56
        ],
        [
         "Che-M49",
         "Che",
         57
        ],
        [
         "Che-M50",
         "Che",
         58
        ],
        [
         "Che-M51",
         "Che",
         59
        ],
        [
         "Cit-M115",
         "Cit",
         60
        ],
        [
         "Cit-M116",
         "Cit",
         61
        ],
        [
         "Dod-M9",
         "Dod",
         62
        ],
        [
         "Fia-M117",
         "Fia",
         63
        ],
        [
         "Fia-M118",
         "Fia",
         64
        ],
        [
         "For-M119",
         "For",
         65
        ],
        [
         "For-M16",
         "For",
         66
        ],
        [
         "For-M17",
         "For",
         67
        ],
        [
         "For-M18",
         "For",
         68
        ],
        [
         "For-M19",
         "For",
         69
        ],
        [
         "For-M20",
         "For",
         70
        ],
        [
         "For-M21",
         "For",
         71
        ],
        [
         "For-M22",
         "For",
         72
        ],
        [
         "For-M221",
         "For",
         73
        ],
        [
         "For-M222",
         "For",
         74
        ],
        [
         "For-M223",
         "For",
         75
        ],
        [
         "For-M224",
         "For",
         76
        ],
        [
         "For-M225",
         "For",
         77
        ],
        [
         "For-M226",
         "For",
         78
        ],
        [
         "For-M23",
         "For",
         79
        ],
        [
         "For-M24",
         "For",
         80
        ],
        [
         "For-M25",
         "For",
         81
        ],
        [
         "For-M26",
         "For",
         82
        ],
        [
         "GMC-M52",
         "GMC",
         83
        ],
        [
         "GMC-M53",
         "GMC",
         84
        ],
        [
         "GMC-M54",
         "GMC",
         85
        ],
        [
         "GMC-M55",
         "GMC",
         86
        ],
        [
         "GMC-M56",
         "GMC",
         87
        ],
        [
         "GMC-M57",
         "GMC",
         88
        ],
        [
         "GMC-M58",
         "GMC",
         89
        ],
        [
         "Hon-M120",
         "Hon",
         90
        ],
        [
         "Hon-M215",
         "Hon",
         91
        ],
        [
         "Hon-M216",
         "Hon",
         92
        ],
        [
         "Hon-M217",
         "Hon",
         93
        ],
        [
         "Hon-M218",
         "Hon",
         94
        ],
        [
         "Hon-M219",
         "Hon",
         95
        ],
        [
         "Hon-M220",
         "Hon",
         96
        ],
        [
         "Hon-M64",
         "Hon",
         97
        ],
        [
         "Hon-M65",
         "Hon",
         98
        ],
        [
         "Hon-M66",
         "Hon",
         99
        ],
        [
         "Hon-M67",
         "Hon",
         100
        ],
        [
         "Hon-M68",
         "Hon",
         101
        ],
        [
         "Hon-M69",
         "Hon",
         102
        ],
        [
         "Hon-M70",
         "Hon",
         103
        ],
        [
         "Hon-M71",
         "Hon",
         104
        ],
        [
         "Hyu-M153",
         "Hyu",
         105
        ],
        [
         "Hyu-M154",
         "Hyu",
         106
        ],
        [
         "Hyu-M155",
         "Hyu",
         107
        ],
        [
         "Hyu-M156",
         "Hyu",
         108
        ],
        [
         "Hyu-M157",
         "Hyu",
         109
        ],
        [
         "Hyu-M158",
         "Hyu",
         110
        ],
        [
         "Hyu-M159",
         "Hyu",
         111
        ],
        [
         "Hyu-M160",
         "Hyu",
         112
        ],
        [
         "Hyu-M161",
         "Hyu",
         113
        ],
        [
         "Hyu-M162",
         "Hyu",
         114
        ],
        [
         "Hyu-M163",
         "Hyu",
         115
        ],
        [
         "Hyu-M164",
         "Hyu",
         116
        ],
        [
         "Hyu-M72",
         "Hyu",
         117
        ],
        [
         "Hyu-M73",
         "Hyu",
         118
        ],
        [
         "Hyu-M74",
         "Hyu",
         119
        ],
        [
         "Hyu-M75",
         "Hyu",
         120
        ],
        [
         "Inf-M79",
         "Inf",
         121
        ],
        [
         "Jee-M10",
         "Jee",
         122
        ],
        [
         "Jee-M11",
         "Jee",
         123
        ],
        [
         "Jee-M12",
         "Jee",
         124
        ],
        [
         "Jee-M13",
         "Jee",
         125
        ],
        [
         "Jee-M253",
         "Jee",
         126
        ],
        [
         "Jee-M254",
         "Jee",
         127
        ],
        [
         "Kia-M212",
         "Kia",
         128
        ],
        [
         "Kia-M213",
         "Kia",
         129
        ],
        [
         "Kia-M214",
         "Kia",
         130
        ],
        [
         "Kia-M76",
         "Kia",
         131
        ],
        [
         "Kia-M77",
         "Kia",
         132
        ],
        [
         "Kia-M78",
         "Kia",
         133
        ],
        [
         "Lex-M99",
         "Lex",
         134
        ],
        [
         "Lin-M27",
         "Lin",
         135
        ],
        [
         "Lin-M28",
         "Lin",
         136
        ],
        [
         "Lin-M29",
         "Lin",
         137
        ],
        [
         "Lin-M30",
         "Lin",
         138
        ],
        [
         "MG-M251",
         "MG",
         139
        ],
        [
         "MG-M252",
         "MG",
         140
        ],
        [
         "Mah-M165",
         "Mah",
         141
        ],
        [
         "Mah-M166",
         "Mah",
         142
        ],
        [
         "Mah-M167",
         "Mah",
         143
        ],
        [
         "Mah-M168",
         "Mah",
         144
        ],
        [
         "Mah-M169",
         "Mah",
         145
        ],
        [
         "Mah-M170",
         "Mah",
         146
        ],
        [
         "Mah-M171",
         "Mah",
         147
        ],
        [
         "Mah-M172",
         "Mah",
         148
        ],
        [
         "Mah-M173",
         "Mah",
         149
        ],
        [
         "Mah-M174",
         "Mah",
         150
        ],
        [
         "Mah-M175",
         "Mah",
         151
        ],
        [
         "Mah-M176",
         "Mah",
         152
        ],
        [
         "Mah-M177",
         "Mah",
         153
        ],
        [
         "Mah-M178",
         "Mah",
         154
        ],
        [
         "Mar-M137",
         "Mar",
         155
        ],
        [
         "Mar-M138",
         "Mar",
         156
        ],
        [
         "Mar-M139",
         "Mar",
         157
        ],
        [
         "Mar-M140",
         "Mar",
         158
        ],
        [
         "Mar-M141",
         "Mar",
         159
        ],
        [
         "Mar-M142",
         "Mar",
         160
        ],
        [
         "Mar-M143",
         "Mar",
         161
        ],
        [
         "Mar-M144",
         "Mar",
         162
        ],
        [
         "Mar-M145",
         "Mar",
         163
        ],
        [
         "Mar-M146",
         "Mar",
         164
        ],
        [
         "Mar-M147",
         "Mar",
         165
        ],
        [
         "Mar-M148",
         "Mar",
         166
        ],
        [
         "Mar-M149",
         "Mar",
         167
        ],
        [
         "Mar-M150",
         "Mar",
         168
        ],
        [
         "Mar-M151",
         "Mar",
         169
        ],
        [
         "Mar-M152",
         "Mar",
         170
        ],
        [
         "Mer-M121",
         "Mer",
         171
        ],
        [
         "Mer-M122",
         "Mer",
         172
        ],
        [
         "Mer-M123",
         "Mer",
         173
        ],
        [
         "Mer-M6",
         "Mer",
         174
        ],
        [
         "Mer-M7",
         "Mer",
         175
        ],
        [
         "Mer-M8",
         "Mer",
         176
        ],
        [
         "Mit-M275",
         "Mit",
         177
        ],
        [
         "Mit-M276",
         "Mit",
         178
        ],
        [
         "Mit-M277",
         "Mit",
         179
        ],
        [
         "Nis-M261",
         "Nis",
         180
        ],
        [
         "Nis-M262",
         "Nis",
         181
        ],
        [
         "Nis-M263",
         "Nis",
         182
        ],
        [
         "Nis-M264",
         "Nis",
         183
        ],
        [
         "Nis-M265",
         "Nis",
         184
        ],
        [
         "Nis-M266",
         "Nis",
         185
        ],
        [
         "Nis-M267",
         "Nis",
         186
        ],
        [
         "Nis-M268",
         "Nis",
         187
        ],
        [
         "Nis-M269",
         "Nis",
         188
        ],
        [
         "Nis-M270",
         "Nis",
         189
        ],
        [
         "Nis-M80",
         "Nis",
         190
        ],
        [
         "Nis-M81",
         "Nis",
         191
        ],
        [
         "Nis-M82",
         "Nis",
         192
        ],
        [
         "Nis-M83",
         "Nis",
         193
        ],
        [
         "Nis-M84",
         "Nis",
         194
        ],
        [
         "Nis-M85",
         "Nis",
         195
        ],
        [
         "Nis-M86",
         "Nis",
         196
        ],
        [
         "Nis-M87",
         "Nis",
         197
        ],
        [
         "Nis-M88",
         "Nis",
         198
        ],
        [
         "Nis-M89",
         "Nis",
         199
        ],
        [
         "Peu-M124",
         "Peu",
         200
        ],
        [
         "Peu-M125",
         "Peu",
         201
        ],
        [
         "Peu-M126",
         "Peu",
         202
        ],
        [
         "Ram-M14",
         "Ram",
         203
        ],
        [
         "Ram-M15",
         "Ram",
         204
        ],
        [
         "Ren-M127",
         "Ren",
         205
        ],
        [
         "Ren-M128",
         "Ren",
         206
        ],
        [
         "Ren-M129",
         "Ren",
         207
        ],
        [
         "Ren-M130",
         "Ren",
         208
        ],
        [
         "Ren-M131",
         "Ren",
         209
        ],
        [
         "Ren-M132",
         "Ren",
         210
        ],
        [
         "Ren-M207",
         "Ren",
         211
        ],
        [
         "Ren-M208",
         "Ren",
         212
        ],
        [
         "Ren-M209",
         "Ren",
         213
        ],
        [
         "Ren-M210",
         "Ren",
         214
        ],
        [
         "Ren-M211",
         "Ren",
         215
        ],
        [
         "Riv-M90",
         "Riv",
         216
        ],
        [
         "Riv-M91",
         "Riv",
         217
        ],
        [
         "Sko-M271",
         "Sko",
         218
        ],
        [
         "Sko-M272",
         "Sko",
         219
        ],
        [
         "Sko-M273",
         "Sko",
         220
        ],
        [
         "Sko-M274",
         "Sko",
         221
        ],
        [
         "Sub-M92",
         "Sub",
         222
        ],
        [
         "Sub-M93",
         "Sub",
         223
        ],
        [
         "Sub-M94",
         "Sub",
         224
        ],
        [
         "Sub-M95",
         "Sub",
         225
        ],
        [
         "Tat-M179",
         "Tat",
         226
        ],
        [
         "Tat-M180",
         "Tat",
         227
        ],
        [
         "Tat-M181",
         "Tat",
         228
        ],
        [
         "Tat-M182",
         "Tat",
         229
        ],
        [
         "Tat-M183",
         "Tat",
         230
        ],
        [
         "Tat-M184",
         "Tat",
         231
        ],
        [
         "Tat-M185",
         "Tat",
         232
        ],
        [
         "Tat-M186",
         "Tat",
         233
        ],
        [
         "Tat-M187",
         "Tat",
         234
        ],
        [
         "Tat-M188",
         "Tat",
         235
        ],
        [
         "Tat-M189",
         "Tat",
         236
        ],
        [
         "Tat-M190",
         "Tat",
         237
        ],
        [
         "Tat-M191",
         "Tat",
         238
        ],
        [
         "Tat-M192",
         "Tat",
         239
        ],
        [
         "Tat-M193",
         "Tat",
         240
        ],
        [
         "Tat-M194",
         "Tat",
         241
        ],
        [
         "Tes-M96",
         "Tes",
         242
        ],
        [
         "Tes-M97",
         "Tes",
         243
        ],
        [
         "Tes-M98",
         "Tes",
         244
        ],
        [
         "Toy-M100",
         "Toy",
         245
        ],
        [
         "Toy-M101",
         "Toy",
         246
        ],
        [
         "Toy-M102",
         "Toy",
         247
        ],
        [
         "Toy-M103",
         "Toy",
         248
        ],
        [
         "Toy-M104",
         "Toy",
         249
        ],
        [
         "Toy-M105",
         "Toy",
         250
        ],
        [
         "Toy-M106",
         "Toy",
         251
        ],
        [
         "Toy-M107",
         "Toy",
         252
        ],
        [
         "Toy-M133",
         "Toy",
         253
        ],
        [
         "Toy-M134",
         "Toy",
         254
        ],
        [
         "Toy-M195",
         "Toy",
         255
        ],
        [
         "Toy-M196",
         "Toy",
         256
        ],
        [
         "Toy-M197",
         "Toy",
         257
        ],
        [
         "Toy-M198",
         "Toy",
         258
        ],
        [
         "Toy-M199",
         "Toy",
         259
        ],
        [
         "Toy-M200",
         "Toy",
         260
        ],
        [
         "Toy-M201",
         "Toy",
         261
        ],
        [
         "Toy-M202",
         "Toy",
         262
        ],
        [
         "Toy-M203",
         "Toy",
         263
        ],
        [
         "Toy-M204",
         "Toy",
         264
        ],
        [
         "Toy-M205",
         "Toy",
         265
        ],
        [
         "Toy-M206",
         "Toy",
         266
        ],
        [
         "Vol-M108",
         "Vol",
         267
        ],
        [
         "Vol-M109",
         "Vol",
         268
        ],
        [
         "Vol-M110",
         "Vol",
         269
        ],
        [
         "Vol-M135",
         "Vol",
         270
        ],
        [
         "Vol-M136",
         "Vol",
         271
        ],
        [
         "Vol-M255",
         "Vol",
         272
        ],
        [
         "Vol-M256",
         "Vol",
         273
        ],
        [
         "Vol-M257",
         "Vol",
         274
        ],
        [
         "Vol-M258",
         "Vol",
         275
        ],
        [
         "Vol-M259",
         "Vol",
         276
        ],
        [
         "Vol-M260",
         "Vol",
         277
        ]
       ],
       "datasetInfos": [],
       "dbfsResultPath": null,
       "isJsonSchema": true,
       "metadata": {},
       "overflow": false,
       "plotOptions": {
        "customPlotOptions": {},
        "displayType": "table",
        "pivotAggregation": null,
        "pivotColumns": null,
        "xColumns": null,
        "yColumns": null
       },
       "removedWidgets": [],
       "schema": [
        {
         "metadata": "{}",
         "name": "Model_ID",
         "type": "\"string\""
        },
        {
         "metadata": "{}",
         "name": "Model_Category",
         "type": "\"string\""
        },
        {
         "metadata": "{}",
         "name": "dim_model_key",
         "type": "\"integer\""
        }
       ],
       "type": "table"
      }
     },
     "output_type": "display_data"
    }
   ],
   "source": [
    "df_final.display()"
   ]
  },
  {
   "cell_type": "markdown",
   "metadata": {
    "application/vnd.databricks.v1+cell": {
     "cellMetadata": {},
     "inputWidgets": {},
     "nuid": "4540d416-816b-4068-a916-1ba4f21042b2",
     "showTitle": false,
     "tableResultSettingsMap": {},
     "title": ""
    }
   },
   "source": [
    "# SCD TYPE - 1 (UPSERT)"
   ]
  },
  {
   "cell_type": "code",
   "execution_count": 0,
   "metadata": {
    "application/vnd.databricks.v1+cell": {
     "cellMetadata": {
      "byteLimit": 2048000,
      "rowLimit": 10000
     },
     "inputWidgets": {},
     "nuid": "6c491076-d970-41a4-a9c2-bee3a481282f",
     "showTitle": false,
     "tableResultSettingsMap": {},
     "title": ""
    }
   },
   "outputs": [],
   "source": [
    "from delta.tables import DeltaTable\n",
    "path = \"abfss://gold@datalakecarsrj.dfs.core.windows.net/dim_model\""
   ]
  },
  {
   "cell_type": "code",
   "execution_count": 0,
   "metadata": {
    "application/vnd.databricks.v1+cell": {
     "cellMetadata": {
      "byteLimit": 2048000,
      "rowLimit": 10000
     },
     "inputWidgets": {},
     "nuid": "b4906e1a-b152-4c1e-a072-b46dc1995c31",
     "showTitle": false,
     "tableResultSettingsMap": {},
     "title": ""
    }
   },
   "outputs": [
    {
     "output_type": "stream",
     "name": "stderr",
     "output_type": "stream",
     "text": [
      "/databricks/python/lib/python3.11/site-packages/pyspark/sql/connect/expressions.py:1017: UserWarning: WARN WindowExpression: No Partition Defined for Window operation! Moving all data to a single partition, this can cause serious performance degradation.\n  warnings.warn(\n"
     ]
    }
   ],
   "source": [
    "# Incremental Run\n",
    "if spark.catalog.tableExists(\"cars_catalog.gold.dim_model\"):\n",
    "    delta_tbl = DeltaTable.forPath(spark, path)\n",
    "\n",
    "    delta_tbl.alias(\"trg\").merge(\n",
    "        df_final.alias(\"src\"),\n",
    "        \"trg.dim_model_key = src.dim_model_key\"\n",
    "    ).whenMatchedUpdateAll() \\\n",
    "     .whenNotMatchedInsertAll() \\\n",
    "     .execute()\n",
    "     \n",
    "# Initial Run\n",
    "else:\n",
    "    df_final.write.format(\"delta\") \\\n",
    "        .mode(\"overwrite\") \\\n",
    "        .option(\"path\", path) \\\n",
    "        .saveAsTable(\"cars_catalog.gold.dim_model\")"
   ]
  },
  {
   "cell_type": "code",
   "execution_count": 0,
   "metadata": {
    "application/vnd.databricks.v1+cell": {
     "cellMetadata": {
      "byteLimit": 2048000,
      "implicitDf": true,
      "rowLimit": 10000
     },
     "inputWidgets": {},
     "nuid": "5af6b517-039b-47dd-888b-36125dc8a660",
     "showTitle": false,
     "tableResultSettingsMap": {},
     "title": ""
    }
   },
   "outputs": [
    {
     "output_type": "display_data",
     "data": {
      "text/html": [
       "<style scoped>\n",
       "  .table-result-container {\n",
       "    max-height: 300px;\n",
       "    overflow: auto;\n",
       "  }\n",
       "  table, th, td {\n",
       "    border: 1px solid black;\n",
       "    border-collapse: collapse;\n",
       "  }\n",
       "  th, td {\n",
       "    padding: 5px;\n",
       "  }\n",
       "  th {\n",
       "    text-align: left;\n",
       "  }\n",
       "</style><div class='table-result-container'><table class='table-result'><thead style='background-color: white'><tr><th>Model_ID</th><th>Model_Category</th><th>dim_model_key</th></tr></thead><tbody><tr><td>Acu-M59</td><td>Acu</td><td>1</td></tr><tr><td>Acu-M60</td><td>Acu</td><td>2</td></tr><tr><td>Acu-M61</td><td>Acu</td><td>3</td></tr><tr><td>Acu-M62</td><td>Acu</td><td>4</td></tr><tr><td>Acu-M63</td><td>Acu</td><td>5</td></tr><tr><td>Agr-M111</td><td>Agr</td><td>6</td></tr><tr><td>Agr-M112</td><td>Agr</td><td>7</td></tr><tr><td>Agr-M113</td><td>Agr</td><td>8</td></tr><tr><td>Aud-M227</td><td>Aud</td><td>9</td></tr><tr><td>Aud-M228</td><td>Aud</td><td>10</td></tr><tr><td>Aud-M229</td><td>Aud</td><td>11</td></tr><tr><td>Aud-M230</td><td>Aud</td><td>12</td></tr><tr><td>Aud-M231</td><td>Aud</td><td>13</td></tr><tr><td>Aud-M232</td><td>Aud</td><td>14</td></tr><tr><td>Aud-M233</td><td>Aud</td><td>15</td></tr><tr><td>Aud-M234</td><td>Aud</td><td>16</td></tr><tr><td>Aud-M235</td><td>Aud</td><td>17</td></tr><tr><td>Aud-M236</td><td>Aud</td><td>18</td></tr><tr><td>Aud-M237</td><td>Aud</td><td>19</td></tr><tr><td>Aud-M238</td><td>Aud</td><td>20</td></tr><tr><td>Aud-M239</td><td>Aud</td><td>21</td></tr><tr><td>Aud-M240</td><td>Aud</td><td>22</td></tr><tr><td>Aud-M241</td><td>Aud</td><td>23</td></tr><tr><td>BMW-M1</td><td>BMW</td><td>24</td></tr><tr><td>BMW-M2</td><td>BMW</td><td>25</td></tr><tr><td>BMW-M242</td><td>BMW</td><td>26</td></tr><tr><td>BMW-M243</td><td>BMW</td><td>27</td></tr><tr><td>BMW-M244</td><td>BMW</td><td>28</td></tr><tr><td>BMW-M245</td><td>BMW</td><td>29</td></tr><tr><td>BMW-M246</td><td>BMW</td><td>30</td></tr><tr><td>BMW-M247</td><td>BMW</td><td>31</td></tr><tr><td>BMW-M248</td><td>BMW</td><td>32</td></tr><tr><td>BMW-M249</td><td>BMW</td><td>33</td></tr><tr><td>BMW-M250</td><td>BMW</td><td>34</td></tr><tr><td>BMW-M3</td><td>BMW</td><td>35</td></tr><tr><td>BMW-M4</td><td>BMW</td><td>36</td></tr><tr><td>BMW-M5</td><td>BMW</td><td>37</td></tr><tr><td>Bui-M31</td><td>Bui</td><td>38</td></tr><tr><td>Cad-M32</td><td>Cad</td><td>39</td></tr><tr><td>Cad-M33</td><td>Cad</td><td>40</td></tr><tr><td>Cad-M34</td><td>Cad</td><td>41</td></tr><tr><td>Cad-M35</td><td>Cad</td><td>42</td></tr><tr><td>Cad-M36</td><td>Cad</td><td>43</td></tr><tr><td>Cad-M37</td><td>Cad</td><td>44</td></tr><tr><td>Cad-M38</td><td>Cad</td><td>45</td></tr><tr><td>Cad-M39</td><td>Cad</td><td>46</td></tr><tr><td>Che-M114</td><td>Che</td><td>47</td></tr><tr><td>Che-M40</td><td>Che</td><td>48</td></tr><tr><td>Che-M41</td><td>Che</td><td>49</td></tr><tr><td>Che-M42</td><td>Che</td><td>50</td></tr><tr><td>Che-M43</td><td>Che</td><td>51</td></tr><tr><td>Che-M44</td><td>Che</td><td>52</td></tr><tr><td>Che-M45</td><td>Che</td><td>53</td></tr><tr><td>Che-M46</td><td>Che</td><td>54</td></tr><tr><td>Che-M47</td><td>Che</td><td>55</td></tr><tr><td>Che-M48</td><td>Che</td><td>56</td></tr><tr><td>Che-M49</td><td>Che</td><td>57</td></tr><tr><td>Che-M50</td><td>Che</td><td>58</td></tr><tr><td>Che-M51</td><td>Che</td><td>59</td></tr><tr><td>Cit-M115</td><td>Cit</td><td>60</td></tr><tr><td>Cit-M116</td><td>Cit</td><td>61</td></tr><tr><td>Dod-M9</td><td>Dod</td><td>62</td></tr><tr><td>Fia-M117</td><td>Fia</td><td>63</td></tr><tr><td>Fia-M118</td><td>Fia</td><td>64</td></tr><tr><td>For-M119</td><td>For</td><td>65</td></tr><tr><td>For-M16</td><td>For</td><td>66</td></tr><tr><td>For-M17</td><td>For</td><td>67</td></tr><tr><td>For-M18</td><td>For</td><td>68</td></tr><tr><td>For-M19</td><td>For</td><td>69</td></tr><tr><td>For-M20</td><td>For</td><td>70</td></tr><tr><td>For-M21</td><td>For</td><td>71</td></tr><tr><td>For-M22</td><td>For</td><td>72</td></tr><tr><td>For-M221</td><td>For</td><td>73</td></tr><tr><td>For-M222</td><td>For</td><td>74</td></tr><tr><td>For-M223</td><td>For</td><td>75</td></tr><tr><td>For-M224</td><td>For</td><td>76</td></tr><tr><td>For-M225</td><td>For</td><td>77</td></tr><tr><td>For-M226</td><td>For</td><td>78</td></tr><tr><td>For-M23</td><td>For</td><td>79</td></tr><tr><td>For-M24</td><td>For</td><td>80</td></tr><tr><td>For-M25</td><td>For</td><td>81</td></tr><tr><td>For-M26</td><td>For</td><td>82</td></tr><tr><td>GMC-M52</td><td>GMC</td><td>83</td></tr><tr><td>GMC-M53</td><td>GMC</td><td>84</td></tr><tr><td>GMC-M54</td><td>GMC</td><td>85</td></tr><tr><td>GMC-M55</td><td>GMC</td><td>86</td></tr><tr><td>GMC-M56</td><td>GMC</td><td>87</td></tr><tr><td>GMC-M57</td><td>GMC</td><td>88</td></tr><tr><td>GMC-M58</td><td>GMC</td><td>89</td></tr><tr><td>Hon-M120</td><td>Hon</td><td>90</td></tr><tr><td>Hon-M215</td><td>Hon</td><td>91</td></tr><tr><td>Hon-M216</td><td>Hon</td><td>92</td></tr><tr><td>Hon-M217</td><td>Hon</td><td>93</td></tr><tr><td>Hon-M218</td><td>Hon</td><td>94</td></tr><tr><td>Hon-M219</td><td>Hon</td><td>95</td></tr><tr><td>Hon-M220</td><td>Hon</td><td>96</td></tr><tr><td>Hon-M64</td><td>Hon</td><td>97</td></tr><tr><td>Hon-M65</td><td>Hon</td><td>98</td></tr><tr><td>Hon-M66</td><td>Hon</td><td>99</td></tr><tr><td>Hon-M67</td><td>Hon</td><td>100</td></tr><tr><td>Hon-M68</td><td>Hon</td><td>101</td></tr><tr><td>Hon-M69</td><td>Hon</td><td>102</td></tr><tr><td>Hon-M70</td><td>Hon</td><td>103</td></tr><tr><td>Hon-M71</td><td>Hon</td><td>104</td></tr><tr><td>Hyu-M153</td><td>Hyu</td><td>105</td></tr><tr><td>Hyu-M154</td><td>Hyu</td><td>106</td></tr><tr><td>Hyu-M155</td><td>Hyu</td><td>107</td></tr><tr><td>Hyu-M156</td><td>Hyu</td><td>108</td></tr><tr><td>Hyu-M157</td><td>Hyu</td><td>109</td></tr><tr><td>Hyu-M158</td><td>Hyu</td><td>110</td></tr><tr><td>Hyu-M159</td><td>Hyu</td><td>111</td></tr><tr><td>Hyu-M160</td><td>Hyu</td><td>112</td></tr><tr><td>Hyu-M161</td><td>Hyu</td><td>113</td></tr><tr><td>Hyu-M162</td><td>Hyu</td><td>114</td></tr><tr><td>Hyu-M163</td><td>Hyu</td><td>115</td></tr><tr><td>Hyu-M164</td><td>Hyu</td><td>116</td></tr><tr><td>Hyu-M72</td><td>Hyu</td><td>117</td></tr><tr><td>Hyu-M73</td><td>Hyu</td><td>118</td></tr><tr><td>Hyu-M74</td><td>Hyu</td><td>119</td></tr><tr><td>Hyu-M75</td><td>Hyu</td><td>120</td></tr><tr><td>Inf-M79</td><td>Inf</td><td>121</td></tr><tr><td>Jee-M10</td><td>Jee</td><td>122</td></tr><tr><td>Jee-M11</td><td>Jee</td><td>123</td></tr><tr><td>Jee-M12</td><td>Jee</td><td>124</td></tr><tr><td>Jee-M13</td><td>Jee</td><td>125</td></tr><tr><td>Jee-M253</td><td>Jee</td><td>126</td></tr><tr><td>Jee-M254</td><td>Jee</td><td>127</td></tr><tr><td>Kia-M212</td><td>Kia</td><td>128</td></tr><tr><td>Kia-M213</td><td>Kia</td><td>129</td></tr><tr><td>Kia-M214</td><td>Kia</td><td>130</td></tr><tr><td>Kia-M76</td><td>Kia</td><td>131</td></tr><tr><td>Kia-M77</td><td>Kia</td><td>132</td></tr><tr><td>Kia-M78</td><td>Kia</td><td>133</td></tr><tr><td>Lex-M99</td><td>Lex</td><td>134</td></tr><tr><td>Lin-M27</td><td>Lin</td><td>135</td></tr><tr><td>Lin-M28</td><td>Lin</td><td>136</td></tr><tr><td>Lin-M29</td><td>Lin</td><td>137</td></tr><tr><td>Lin-M30</td><td>Lin</td><td>138</td></tr><tr><td>MG-M251</td><td>MG</td><td>139</td></tr><tr><td>MG-M252</td><td>MG</td><td>140</td></tr><tr><td>Mah-M165</td><td>Mah</td><td>141</td></tr><tr><td>Mah-M166</td><td>Mah</td><td>142</td></tr><tr><td>Mah-M167</td><td>Mah</td><td>143</td></tr><tr><td>Mah-M168</td><td>Mah</td><td>144</td></tr><tr><td>Mah-M169</td><td>Mah</td><td>145</td></tr><tr><td>Mah-M170</td><td>Mah</td><td>146</td></tr><tr><td>Mah-M171</td><td>Mah</td><td>147</td></tr><tr><td>Mah-M172</td><td>Mah</td><td>148</td></tr><tr><td>Mah-M173</td><td>Mah</td><td>149</td></tr><tr><td>Mah-M174</td><td>Mah</td><td>150</td></tr><tr><td>Mah-M175</td><td>Mah</td><td>151</td></tr><tr><td>Mah-M176</td><td>Mah</td><td>152</td></tr><tr><td>Mah-M177</td><td>Mah</td><td>153</td></tr><tr><td>Mah-M178</td><td>Mah</td><td>154</td></tr><tr><td>Mar-M137</td><td>Mar</td><td>155</td></tr><tr><td>Mar-M138</td><td>Mar</td><td>156</td></tr><tr><td>Mar-M139</td><td>Mar</td><td>157</td></tr><tr><td>Mar-M140</td><td>Mar</td><td>158</td></tr><tr><td>Mar-M141</td><td>Mar</td><td>159</td></tr><tr><td>Mar-M142</td><td>Mar</td><td>160</td></tr><tr><td>Mar-M143</td><td>Mar</td><td>161</td></tr><tr><td>Mar-M144</td><td>Mar</td><td>162</td></tr><tr><td>Mar-M145</td><td>Mar</td><td>163</td></tr><tr><td>Mar-M146</td><td>Mar</td><td>164</td></tr><tr><td>Mar-M147</td><td>Mar</td><td>165</td></tr><tr><td>Mar-M148</td><td>Mar</td><td>166</td></tr><tr><td>Mar-M149</td><td>Mar</td><td>167</td></tr><tr><td>Mar-M150</td><td>Mar</td><td>168</td></tr><tr><td>Mar-M151</td><td>Mar</td><td>169</td></tr><tr><td>Mar-M152</td><td>Mar</td><td>170</td></tr><tr><td>Mer-M121</td><td>Mer</td><td>171</td></tr><tr><td>Mer-M122</td><td>Mer</td><td>172</td></tr><tr><td>Mer-M123</td><td>Mer</td><td>173</td></tr><tr><td>Mer-M6</td><td>Mer</td><td>174</td></tr><tr><td>Mer-M7</td><td>Mer</td><td>175</td></tr><tr><td>Mer-M8</td><td>Mer</td><td>176</td></tr><tr><td>Mit-M275</td><td>Mit</td><td>177</td></tr><tr><td>Mit-M276</td><td>Mit</td><td>178</td></tr><tr><td>Mit-M277</td><td>Mit</td><td>179</td></tr><tr><td>Nis-M261</td><td>Nis</td><td>180</td></tr><tr><td>Nis-M262</td><td>Nis</td><td>181</td></tr><tr><td>Nis-M263</td><td>Nis</td><td>182</td></tr><tr><td>Nis-M264</td><td>Nis</td><td>183</td></tr><tr><td>Nis-M265</td><td>Nis</td><td>184</td></tr><tr><td>Nis-M266</td><td>Nis</td><td>185</td></tr><tr><td>Nis-M267</td><td>Nis</td><td>186</td></tr><tr><td>Nis-M268</td><td>Nis</td><td>187</td></tr><tr><td>Nis-M269</td><td>Nis</td><td>188</td></tr><tr><td>Nis-M270</td><td>Nis</td><td>189</td></tr><tr><td>Nis-M80</td><td>Nis</td><td>190</td></tr><tr><td>Nis-M81</td><td>Nis</td><td>191</td></tr><tr><td>Nis-M82</td><td>Nis</td><td>192</td></tr><tr><td>Nis-M83</td><td>Nis</td><td>193</td></tr><tr><td>Nis-M84</td><td>Nis</td><td>194</td></tr><tr><td>Nis-M85</td><td>Nis</td><td>195</td></tr><tr><td>Nis-M86</td><td>Nis</td><td>196</td></tr><tr><td>Nis-M87</td><td>Nis</td><td>197</td></tr><tr><td>Nis-M88</td><td>Nis</td><td>198</td></tr><tr><td>Nis-M89</td><td>Nis</td><td>199</td></tr><tr><td>Peu-M124</td><td>Peu</td><td>200</td></tr><tr><td>Peu-M125</td><td>Peu</td><td>201</td></tr><tr><td>Peu-M126</td><td>Peu</td><td>202</td></tr><tr><td>Ram-M14</td><td>Ram</td><td>203</td></tr><tr><td>Ram-M15</td><td>Ram</td><td>204</td></tr><tr><td>Ren-M127</td><td>Ren</td><td>205</td></tr><tr><td>Ren-M128</td><td>Ren</td><td>206</td></tr><tr><td>Ren-M129</td><td>Ren</td><td>207</td></tr><tr><td>Ren-M130</td><td>Ren</td><td>208</td></tr><tr><td>Ren-M131</td><td>Ren</td><td>209</td></tr><tr><td>Ren-M132</td><td>Ren</td><td>210</td></tr><tr><td>Ren-M207</td><td>Ren</td><td>211</td></tr><tr><td>Ren-M208</td><td>Ren</td><td>212</td></tr><tr><td>Ren-M209</td><td>Ren</td><td>213</td></tr><tr><td>Ren-M210</td><td>Ren</td><td>214</td></tr><tr><td>Ren-M211</td><td>Ren</td><td>215</td></tr><tr><td>Riv-M90</td><td>Riv</td><td>216</td></tr><tr><td>Riv-M91</td><td>Riv</td><td>217</td></tr><tr><td>Sko-M271</td><td>Sko</td><td>218</td></tr><tr><td>Sko-M272</td><td>Sko</td><td>219</td></tr><tr><td>Sko-M273</td><td>Sko</td><td>220</td></tr><tr><td>Sko-M274</td><td>Sko</td><td>221</td></tr><tr><td>Sub-M92</td><td>Sub</td><td>222</td></tr><tr><td>Sub-M93</td><td>Sub</td><td>223</td></tr><tr><td>Sub-M94</td><td>Sub</td><td>224</td></tr><tr><td>Sub-M95</td><td>Sub</td><td>225</td></tr><tr><td>Tat-M179</td><td>Tat</td><td>226</td></tr><tr><td>Tat-M180</td><td>Tat</td><td>227</td></tr><tr><td>Tat-M181</td><td>Tat</td><td>228</td></tr><tr><td>Tat-M182</td><td>Tat</td><td>229</td></tr><tr><td>Tat-M183</td><td>Tat</td><td>230</td></tr><tr><td>Tat-M184</td><td>Tat</td><td>231</td></tr><tr><td>Tat-M185</td><td>Tat</td><td>232</td></tr><tr><td>Tat-M186</td><td>Tat</td><td>233</td></tr><tr><td>Tat-M187</td><td>Tat</td><td>234</td></tr><tr><td>Tat-M188</td><td>Tat</td><td>235</td></tr><tr><td>Tat-M189</td><td>Tat</td><td>236</td></tr><tr><td>Tat-M190</td><td>Tat</td><td>237</td></tr><tr><td>Tat-M191</td><td>Tat</td><td>238</td></tr><tr><td>Tat-M192</td><td>Tat</td><td>239</td></tr><tr><td>Tat-M193</td><td>Tat</td><td>240</td></tr><tr><td>Tat-M194</td><td>Tat</td><td>241</td></tr><tr><td>Tes-M96</td><td>Tes</td><td>242</td></tr><tr><td>Tes-M97</td><td>Tes</td><td>243</td></tr><tr><td>Tes-M98</td><td>Tes</td><td>244</td></tr><tr><td>Toy-M100</td><td>Toy</td><td>245</td></tr><tr><td>Toy-M101</td><td>Toy</td><td>246</td></tr><tr><td>Toy-M102</td><td>Toy</td><td>247</td></tr><tr><td>Toy-M103</td><td>Toy</td><td>248</td></tr><tr><td>Toy-M104</td><td>Toy</td><td>249</td></tr><tr><td>Toy-M105</td><td>Toy</td><td>250</td></tr><tr><td>Toy-M106</td><td>Toy</td><td>251</td></tr><tr><td>Toy-M107</td><td>Toy</td><td>252</td></tr><tr><td>Toy-M133</td><td>Toy</td><td>253</td></tr><tr><td>Toy-M134</td><td>Toy</td><td>254</td></tr><tr><td>Toy-M195</td><td>Toy</td><td>255</td></tr><tr><td>Toy-M196</td><td>Toy</td><td>256</td></tr><tr><td>Toy-M197</td><td>Toy</td><td>257</td></tr><tr><td>Toy-M198</td><td>Toy</td><td>258</td></tr><tr><td>Toy-M199</td><td>Toy</td><td>259</td></tr><tr><td>Toy-M200</td><td>Toy</td><td>260</td></tr><tr><td>Toy-M201</td><td>Toy</td><td>261</td></tr><tr><td>Toy-M202</td><td>Toy</td><td>262</td></tr><tr><td>Toy-M203</td><td>Toy</td><td>263</td></tr><tr><td>Toy-M204</td><td>Toy</td><td>264</td></tr><tr><td>Toy-M205</td><td>Toy</td><td>265</td></tr><tr><td>Toy-M206</td><td>Toy</td><td>266</td></tr><tr><td>Vol-M108</td><td>Vol</td><td>267</td></tr><tr><td>Vol-M109</td><td>Vol</td><td>268</td></tr><tr><td>Vol-M110</td><td>Vol</td><td>269</td></tr><tr><td>Vol-M135</td><td>Vol</td><td>270</td></tr><tr><td>Vol-M136</td><td>Vol</td><td>271</td></tr><tr><td>Vol-M255</td><td>Vol</td><td>272</td></tr><tr><td>Vol-M256</td><td>Vol</td><td>273</td></tr><tr><td>Vol-M257</td><td>Vol</td><td>274</td></tr><tr><td>Vol-M258</td><td>Vol</td><td>275</td></tr><tr><td>Vol-M259</td><td>Vol</td><td>276</td></tr><tr><td>Vol-M260</td><td>Vol</td><td>277</td></tr></tbody></table></div>"
      ]
     },
     "metadata": {
      "application/vnd.databricks.v1+output": {
       "addedWidgets": {},
       "aggData": [],
       "aggError": "",
       "aggOverflow": false,
       "aggSchema": [],
       "aggSeriesLimitReached": false,
       "aggType": "",
       "arguments": {},
       "columnCustomDisplayInfos": {},
       "data": [
        [
         "Acu-M59",
         "Acu",
         1
        ],
        [
         "Acu-M60",
         "Acu",
         2
        ],
        [
         "Acu-M61",
         "Acu",
         3
        ],
        [
         "Acu-M62",
         "Acu",
         4
        ],
        [
         "Acu-M63",
         "Acu",
         5
        ],
        [
         "Agr-M111",
         "Agr",
         6
        ],
        [
         "Agr-M112",
         "Agr",
         7
        ],
        [
         "Agr-M113",
         "Agr",
         8
        ],
        [
         "Aud-M227",
         "Aud",
         9
        ],
        [
         "Aud-M228",
         "Aud",
         10
        ],
        [
         "Aud-M229",
         "Aud",
         11
        ],
        [
         "Aud-M230",
         "Aud",
         12
        ],
        [
         "Aud-M231",
         "Aud",
         13
        ],
        [
         "Aud-M232",
         "Aud",
         14
        ],
        [
         "Aud-M233",
         "Aud",
         15
        ],
        [
         "Aud-M234",
         "Aud",
         16
        ],
        [
         "Aud-M235",
         "Aud",
         17
        ],
        [
         "Aud-M236",
         "Aud",
         18
        ],
        [
         "Aud-M237",
         "Aud",
         19
        ],
        [
         "Aud-M238",
         "Aud",
         20
        ],
        [
         "Aud-M239",
         "Aud",
         21
        ],
        [
         "Aud-M240",
         "Aud",
         22
        ],
        [
         "Aud-M241",
         "Aud",
         23
        ],
        [
         "BMW-M1",
         "BMW",
         24
        ],
        [
         "BMW-M2",
         "BMW",
         25
        ],
        [
         "BMW-M242",
         "BMW",
         26
        ],
        [
         "BMW-M243",
         "BMW",
         27
        ],
        [
         "BMW-M244",
         "BMW",
         28
        ],
        [
         "BMW-M245",
         "BMW",
         29
        ],
        [
         "BMW-M246",
         "BMW",
         30
        ],
        [
         "BMW-M247",
         "BMW",
         31
        ],
        [
         "BMW-M248",
         "BMW",
         32
        ],
        [
         "BMW-M249",
         "BMW",
         33
        ],
        [
         "BMW-M250",
         "BMW",
         34
        ],
        [
         "BMW-M3",
         "BMW",
         35
        ],
        [
         "BMW-M4",
         "BMW",
         36
        ],
        [
         "BMW-M5",
         "BMW",
         37
        ],
        [
         "Bui-M31",
         "Bui",
         38
        ],
        [
         "Cad-M32",
         "Cad",
         39
        ],
        [
         "Cad-M33",
         "Cad",
         40
        ],
        [
         "Cad-M34",
         "Cad",
         41
        ],
        [
         "Cad-M35",
         "Cad",
         42
        ],
        [
         "Cad-M36",
         "Cad",
         43
        ],
        [
         "Cad-M37",
         "Cad",
         44
        ],
        [
         "Cad-M38",
         "Cad",
         45
        ],
        [
         "Cad-M39",
         "Cad",
         46
        ],
        [
         "Che-M114",
         "Che",
         47
        ],
        [
         "Che-M40",
         "Che",
         48
        ],
        [
         "Che-M41",
         "Che",
         49
        ],
        [
         "Che-M42",
         "Che",
         50
        ],
        [
         "Che-M43",
         "Che",
         51
        ],
        [
         "Che-M44",
         "Che",
         52
        ],
        [
         "Che-M45",
         "Che",
         53
        ],
        [
         "Che-M46",
         "Che",
         54
        ],
        [
         "Che-M47",
         "Che",
         55
        ],
        [
         "Che-M48",
         "Che",
         56
        ],
        [
         "Che-M49",
         "Che",
         57
        ],
        [
         "Che-M50",
         "Che",
         58
        ],
        [
         "Che-M51",
         "Che",
         59
        ],
        [
         "Cit-M115",
         "Cit",
         60
        ],
        [
         "Cit-M116",
         "Cit",
         61
        ],
        [
         "Dod-M9",
         "Dod",
         62
        ],
        [
         "Fia-M117",
         "Fia",
         63
        ],
        [
         "Fia-M118",
         "Fia",
         64
        ],
        [
         "For-M119",
         "For",
         65
        ],
        [
         "For-M16",
         "For",
         66
        ],
        [
         "For-M17",
         "For",
         67
        ],
        [
         "For-M18",
         "For",
         68
        ],
        [
         "For-M19",
         "For",
         69
        ],
        [
         "For-M20",
         "For",
         70
        ],
        [
         "For-M21",
         "For",
         71
        ],
        [
         "For-M22",
         "For",
         72
        ],
        [
         "For-M221",
         "For",
         73
        ],
        [
         "For-M222",
         "For",
         74
        ],
        [
         "For-M223",
         "For",
         75
        ],
        [
         "For-M224",
         "For",
         76
        ],
        [
         "For-M225",
         "For",
         77
        ],
        [
         "For-M226",
         "For",
         78
        ],
        [
         "For-M23",
         "For",
         79
        ],
        [
         "For-M24",
         "For",
         80
        ],
        [
         "For-M25",
         "For",
         81
        ],
        [
         "For-M26",
         "For",
         82
        ],
        [
         "GMC-M52",
         "GMC",
         83
        ],
        [
         "GMC-M53",
         "GMC",
         84
        ],
        [
         "GMC-M54",
         "GMC",
         85
        ],
        [
         "GMC-M55",
         "GMC",
         86
        ],
        [
         "GMC-M56",
         "GMC",
         87
        ],
        [
         "GMC-M57",
         "GMC",
         88
        ],
        [
         "GMC-M58",
         "GMC",
         89
        ],
        [
         "Hon-M120",
         "Hon",
         90
        ],
        [
         "Hon-M215",
         "Hon",
         91
        ],
        [
         "Hon-M216",
         "Hon",
         92
        ],
        [
         "Hon-M217",
         "Hon",
         93
        ],
        [
         "Hon-M218",
         "Hon",
         94
        ],
        [
         "Hon-M219",
         "Hon",
         95
        ],
        [
         "Hon-M220",
         "Hon",
         96
        ],
        [
         "Hon-M64",
         "Hon",
         97
        ],
        [
         "Hon-M65",
         "Hon",
         98
        ],
        [
         "Hon-M66",
         "Hon",
         99
        ],
        [
         "Hon-M67",
         "Hon",
         100
        ],
        [
         "Hon-M68",
         "Hon",
         101
        ],
        [
         "Hon-M69",
         "Hon",
         102
        ],
        [
         "Hon-M70",
         "Hon",
         103
        ],
        [
         "Hon-M71",
         "Hon",
         104
        ],
        [
         "Hyu-M153",
         "Hyu",
         105
        ],
        [
         "Hyu-M154",
         "Hyu",
         106
        ],
        [
         "Hyu-M155",
         "Hyu",
         107
        ],
        [
         "Hyu-M156",
         "Hyu",
         108
        ],
        [
         "Hyu-M157",
         "Hyu",
         109
        ],
        [
         "Hyu-M158",
         "Hyu",
         110
        ],
        [
         "Hyu-M159",
         "Hyu",
         111
        ],
        [
         "Hyu-M160",
         "Hyu",
         112
        ],
        [
         "Hyu-M161",
         "Hyu",
         113
        ],
        [
         "Hyu-M162",
         "Hyu",
         114
        ],
        [
         "Hyu-M163",
         "Hyu",
         115
        ],
        [
         "Hyu-M164",
         "Hyu",
         116
        ],
        [
         "Hyu-M72",
         "Hyu",
         117
        ],
        [
         "Hyu-M73",
         "Hyu",
         118
        ],
        [
         "Hyu-M74",
         "Hyu",
         119
        ],
        [
         "Hyu-M75",
         "Hyu",
         120
        ],
        [
         "Inf-M79",
         "Inf",
         121
        ],
        [
         "Jee-M10",
         "Jee",
         122
        ],
        [
         "Jee-M11",
         "Jee",
         123
        ],
        [
         "Jee-M12",
         "Jee",
         124
        ],
        [
         "Jee-M13",
         "Jee",
         125
        ],
        [
         "Jee-M253",
         "Jee",
         126
        ],
        [
         "Jee-M254",
         "Jee",
         127
        ],
        [
         "Kia-M212",
         "Kia",
         128
        ],
        [
         "Kia-M213",
         "Kia",
         129
        ],
        [
         "Kia-M214",
         "Kia",
         130
        ],
        [
         "Kia-M76",
         "Kia",
         131
        ],
        [
         "Kia-M77",
         "Kia",
         132
        ],
        [
         "Kia-M78",
         "Kia",
         133
        ],
        [
         "Lex-M99",
         "Lex",
         134
        ],
        [
         "Lin-M27",
         "Lin",
         135
        ],
        [
         "Lin-M28",
         "Lin",
         136
        ],
        [
         "Lin-M29",
         "Lin",
         137
        ],
        [
         "Lin-M30",
         "Lin",
         138
        ],
        [
         "MG-M251",
         "MG",
         139
        ],
        [
         "MG-M252",
         "MG",
         140
        ],
        [
         "Mah-M165",
         "Mah",
         141
        ],
        [
         "Mah-M166",
         "Mah",
         142
        ],
        [
         "Mah-M167",
         "Mah",
         143
        ],
        [
         "Mah-M168",
         "Mah",
         144
        ],
        [
         "Mah-M169",
         "Mah",
         145
        ],
        [
         "Mah-M170",
         "Mah",
         146
        ],
        [
         "Mah-M171",
         "Mah",
         147
        ],
        [
         "Mah-M172",
         "Mah",
         148
        ],
        [
         "Mah-M173",
         "Mah",
         149
        ],
        [
         "Mah-M174",
         "Mah",
         150
        ],
        [
         "Mah-M175",
         "Mah",
         151
        ],
        [
         "Mah-M176",
         "Mah",
         152
        ],
        [
         "Mah-M177",
         "Mah",
         153
        ],
        [
         "Mah-M178",
         "Mah",
         154
        ],
        [
         "Mar-M137",
         "Mar",
         155
        ],
        [
         "Mar-M138",
         "Mar",
         156
        ],
        [
         "Mar-M139",
         "Mar",
         157
        ],
        [
         "Mar-M140",
         "Mar",
         158
        ],
        [
         "Mar-M141",
         "Mar",
         159
        ],
        [
         "Mar-M142",
         "Mar",
         160
        ],
        [
         "Mar-M143",
         "Mar",
         161
        ],
        [
         "Mar-M144",
         "Mar",
         162
        ],
        [
         "Mar-M145",
         "Mar",
         163
        ],
        [
         "Mar-M146",
         "Mar",
         164
        ],
        [
         "Mar-M147",
         "Mar",
         165
        ],
        [
         "Mar-M148",
         "Mar",
         166
        ],
        [
         "Mar-M149",
         "Mar",
         167
        ],
        [
         "Mar-M150",
         "Mar",
         168
        ],
        [
         "Mar-M151",
         "Mar",
         169
        ],
        [
         "Mar-M152",
         "Mar",
         170
        ],
        [
         "Mer-M121",
         "Mer",
         171
        ],
        [
         "Mer-M122",
         "Mer",
         172
        ],
        [
         "Mer-M123",
         "Mer",
         173
        ],
        [
         "Mer-M6",
         "Mer",
         174
        ],
        [
         "Mer-M7",
         "Mer",
         175
        ],
        [
         "Mer-M8",
         "Mer",
         176
        ],
        [
         "Mit-M275",
         "Mit",
         177
        ],
        [
         "Mit-M276",
         "Mit",
         178
        ],
        [
         "Mit-M277",
         "Mit",
         179
        ],
        [
         "Nis-M261",
         "Nis",
         180
        ],
        [
         "Nis-M262",
         "Nis",
         181
        ],
        [
         "Nis-M263",
         "Nis",
         182
        ],
        [
         "Nis-M264",
         "Nis",
         183
        ],
        [
         "Nis-M265",
         "Nis",
         184
        ],
        [
         "Nis-M266",
         "Nis",
         185
        ],
        [
         "Nis-M267",
         "Nis",
         186
        ],
        [
         "Nis-M268",
         "Nis",
         187
        ],
        [
         "Nis-M269",
         "Nis",
         188
        ],
        [
         "Nis-M270",
         "Nis",
         189
        ],
        [
         "Nis-M80",
         "Nis",
         190
        ],
        [
         "Nis-M81",
         "Nis",
         191
        ],
        [
         "Nis-M82",
         "Nis",
         192
        ],
        [
         "Nis-M83",
         "Nis",
         193
        ],
        [
         "Nis-M84",
         "Nis",
         194
        ],
        [
         "Nis-M85",
         "Nis",
         195
        ],
        [
         "Nis-M86",
         "Nis",
         196
        ],
        [
         "Nis-M87",
         "Nis",
         197
        ],
        [
         "Nis-M88",
         "Nis",
         198
        ],
        [
         "Nis-M89",
         "Nis",
         199
        ],
        [
         "Peu-M124",
         "Peu",
         200
        ],
        [
         "Peu-M125",
         "Peu",
         201
        ],
        [
         "Peu-M126",
         "Peu",
         202
        ],
        [
         "Ram-M14",
         "Ram",
         203
        ],
        [
         "Ram-M15",
         "Ram",
         204
        ],
        [
         "Ren-M127",
         "Ren",
         205
        ],
        [
         "Ren-M128",
         "Ren",
         206
        ],
        [
         "Ren-M129",
         "Ren",
         207
        ],
        [
         "Ren-M130",
         "Ren",
         208
        ],
        [
         "Ren-M131",
         "Ren",
         209
        ],
        [
         "Ren-M132",
         "Ren",
         210
        ],
        [
         "Ren-M207",
         "Ren",
         211
        ],
        [
         "Ren-M208",
         "Ren",
         212
        ],
        [
         "Ren-M209",
         "Ren",
         213
        ],
        [
         "Ren-M210",
         "Ren",
         214
        ],
        [
         "Ren-M211",
         "Ren",
         215
        ],
        [
         "Riv-M90",
         "Riv",
         216
        ],
        [
         "Riv-M91",
         "Riv",
         217
        ],
        [
         "Sko-M271",
         "Sko",
         218
        ],
        [
         "Sko-M272",
         "Sko",
         219
        ],
        [
         "Sko-M273",
         "Sko",
         220
        ],
        [
         "Sko-M274",
         "Sko",
         221
        ],
        [
         "Sub-M92",
         "Sub",
         222
        ],
        [
         "Sub-M93",
         "Sub",
         223
        ],
        [
         "Sub-M94",
         "Sub",
         224
        ],
        [
         "Sub-M95",
         "Sub",
         225
        ],
        [
         "Tat-M179",
         "Tat",
         226
        ],
        [
         "Tat-M180",
         "Tat",
         227
        ],
        [
         "Tat-M181",
         "Tat",
         228
        ],
        [
         "Tat-M182",
         "Tat",
         229
        ],
        [
         "Tat-M183",
         "Tat",
         230
        ],
        [
         "Tat-M184",
         "Tat",
         231
        ],
        [
         "Tat-M185",
         "Tat",
         232
        ],
        [
         "Tat-M186",
         "Tat",
         233
        ],
        [
         "Tat-M187",
         "Tat",
         234
        ],
        [
         "Tat-M188",
         "Tat",
         235
        ],
        [
         "Tat-M189",
         "Tat",
         236
        ],
        [
         "Tat-M190",
         "Tat",
         237
        ],
        [
         "Tat-M191",
         "Tat",
         238
        ],
        [
         "Tat-M192",
         "Tat",
         239
        ],
        [
         "Tat-M193",
         "Tat",
         240
        ],
        [
         "Tat-M194",
         "Tat",
         241
        ],
        [
         "Tes-M96",
         "Tes",
         242
        ],
        [
         "Tes-M97",
         "Tes",
         243
        ],
        [
         "Tes-M98",
         "Tes",
         244
        ],
        [
         "Toy-M100",
         "Toy",
         245
        ],
        [
         "Toy-M101",
         "Toy",
         246
        ],
        [
         "Toy-M102",
         "Toy",
         247
        ],
        [
         "Toy-M103",
         "Toy",
         248
        ],
        [
         "Toy-M104",
         "Toy",
         249
        ],
        [
         "Toy-M105",
         "Toy",
         250
        ],
        [
         "Toy-M106",
         "Toy",
         251
        ],
        [
         "Toy-M107",
         "Toy",
         252
        ],
        [
         "Toy-M133",
         "Toy",
         253
        ],
        [
         "Toy-M134",
         "Toy",
         254
        ],
        [
         "Toy-M195",
         "Toy",
         255
        ],
        [
         "Toy-M196",
         "Toy",
         256
        ],
        [
         "Toy-M197",
         "Toy",
         257
        ],
        [
         "Toy-M198",
         "Toy",
         258
        ],
        [
         "Toy-M199",
         "Toy",
         259
        ],
        [
         "Toy-M200",
         "Toy",
         260
        ],
        [
         "Toy-M201",
         "Toy",
         261
        ],
        [
         "Toy-M202",
         "Toy",
         262
        ],
        [
         "Toy-M203",
         "Toy",
         263
        ],
        [
         "Toy-M204",
         "Toy",
         264
        ],
        [
         "Toy-M205",
         "Toy",
         265
        ],
        [
         "Toy-M206",
         "Toy",
         266
        ],
        [
         "Vol-M108",
         "Vol",
         267
        ],
        [
         "Vol-M109",
         "Vol",
         268
        ],
        [
         "Vol-M110",
         "Vol",
         269
        ],
        [
         "Vol-M135",
         "Vol",
         270
        ],
        [
         "Vol-M136",
         "Vol",
         271
        ],
        [
         "Vol-M255",
         "Vol",
         272
        ],
        [
         "Vol-M256",
         "Vol",
         273
        ],
        [
         "Vol-M257",
         "Vol",
         274
        ],
        [
         "Vol-M258",
         "Vol",
         275
        ],
        [
         "Vol-M259",
         "Vol",
         276
        ],
        [
         "Vol-M260",
         "Vol",
         277
        ]
       ],
       "datasetInfos": [
        {
         "name": "_sqldf",
         "schema": {
          "fields": [
           {
            "metadata": {},
            "name": "Model_ID",
            "nullable": true,
            "type": "string"
           },
           {
            "metadata": {},
            "name": "Model_Category",
            "nullable": true,
            "type": "string"
           },
           {
            "metadata": {},
            "name": "dim_model_key",
            "nullable": true,
            "type": "integer"
           }
          ],
          "type": "struct"
         },
         "tableIdentifier": null,
         "typeStr": "pyspark.sql.connect.dataframe.DataFrame"
        }
       ],
       "dbfsResultPath": null,
       "isJsonSchema": true,
       "metadata": {
        "createTempViewForImplicitDf": true,
        "dataframeName": "_sqldf",
        "executionCount": 19
       },
       "overflow": false,
       "plotOptions": {
        "customPlotOptions": {},
        "displayType": "table",
        "pivotAggregation": null,
        "pivotColumns": null,
        "xColumns": null,
        "yColumns": null
       },
       "removedWidgets": [],
       "schema": [
        {
         "metadata": "{}",
         "name": "Model_ID",
         "type": "\"string\""
        },
        {
         "metadata": "{}",
         "name": "Model_Category",
         "type": "\"string\""
        },
        {
         "metadata": "{}",
         "name": "dim_model_key",
         "type": "\"integer\""
        }
       ],
       "type": "table"
      }
     },
     "output_type": "display_data"
    }
   ],
   "source": [
    "%sql\n",
    "select * from cars_catalog.gold.dim_model; "
   ]
  },
  {
   "cell_type": "code",
   "execution_count": 0,
   "metadata": {
    "application/vnd.databricks.v1+cell": {
     "cellMetadata": {},
     "inputWidgets": {},
     "nuid": "9f2e8435-2c91-4341-8e0f-5834a9796b3d",
     "showTitle": false,
     "tableResultSettingsMap": {},
     "title": ""
    }
   },
   "outputs": [],
   "source": []
  }
 ],
 "metadata": {
  "application/vnd.databricks.v1+notebook": {
   "computePreferences": null,
   "dashboards": [],
   "environmentMetadata": {
    "base_environment": "",
    "environment_version": "2"
   },
   "inputWidgetPreferences": null,
   "language": "python",
   "notebookMetadata": {
    "mostRecentlyExecutedCommandWithImplicitDF": {
     "commandId": 7893376789692959,
     "dataframes": [
      "_sqldf"
     ]
    },
    "pythonIndentUnit": 4
   },
   "notebookName": "Gold_Dim_Model",
   "widgets": {
    "incremental_flag": {
     "currentValue": "0",
     "nuid": "33da43f0-a781-4396-afb5-3498c6c68f69",
     "typedWidgetInfo": {
      "autoCreated": false,
      "defaultValue": "0",
      "label": null,
      "name": "incremental_flag",
      "options": {
       "widgetDisplayType": "Text",
       "validationRegex": null
      },
      "parameterDataType": "String"
     },
     "widgetInfo": {
      "widgetType": "text",
      "defaultValue": "0",
      "label": null,
      "name": "incremental_flag",
      "options": {
       "widgetType": "text",
       "autoCreated": null,
       "validationRegex": null
      }
     }
    }
   }
  },
  "language_info": {
   "name": "python"
  }
 },
 "nbformat": 4,
 "nbformat_minor": 0
}