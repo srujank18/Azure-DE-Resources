{
 "cells": [
  {
   "cell_type": "markdown",
   "metadata": {
    "application/vnd.databricks.v1+cell": {
     "cellMetadata": {},
     "inputWidgets": {},
     "nuid": "3af2cca9-01b3-4f2e-a2c6-cb00190a405b",
     "showTitle": false,
     "tableResultSettingsMap": {},
     "title": ""
    }
   },
   "source": [
    "# CREATE FLAG PARAMETER"
   ]
  },
  {
   "cell_type": "code",
   "execution_count": 0,
   "metadata": {
    "application/vnd.databricks.v1+cell": {
     "cellMetadata": {
      "byteLimit": 2048000,
      "rowLimit": 10000
     },
     "inputWidgets": {},
     "nuid": "439dcd5b-fbc8-4036-85b4-9044f2a32b0e",
     "showTitle": false,
     "tableResultSettingsMap": {},
     "title": ""
    }
   },
   "outputs": [],
   "source": [
    "dbutils.widgets.text(\"incremental_flag\", \"0\")"
   ]
  },
  {
   "cell_type": "code",
   "execution_count": 0,
   "metadata": {
    "application/vnd.databricks.v1+cell": {
     "cellMetadata": {
      "byteLimit": 2048000,
      "rowLimit": 10000
     },
     "inputWidgets": {},
     "nuid": "0d028143-24f0-4f4d-96be-6ea344b14d66",
     "showTitle": false,
     "tableResultSettingsMap": {},
     "title": ""
    }
   },
   "outputs": [
    {
     "output_type": "stream",
     "name": "stdout",
     "output_type": "stream",
     "text": [
      "<class 'str'>\n"
     ]
    }
   ],
   "source": [
    "incremental_flag = dbutils.widgets.get(\"incremental_flag\")\n",
    "print(type(incremental_flag))"
   ]
  },
  {
   "cell_type": "markdown",
   "metadata": {
    "application/vnd.databricks.v1+cell": {
     "cellMetadata": {},
     "inputWidgets": {},
     "nuid": "76bac626-eab0-4b6e-bceb-88f38210eebd",
     "showTitle": false,
     "tableResultSettingsMap": {},
     "title": ""
    }
   },
   "source": [
    "# CREATING DIMENSION MODEL"
   ]
  },
  {
   "cell_type": "markdown",
   "metadata": {
    "application/vnd.databricks.v1+cell": {
     "cellMetadata": {
      "byteLimit": 2048000,
      "rowLimit": 10000
     },
     "inputWidgets": {},
     "nuid": "8229dd8c-1c52-4c3b-8ce0-5b1ef8d304d5",
     "showTitle": false,
     "tableResultSettingsMap": {},
     "title": ""
    }
   },
   "source": [
    "### Filtering new records and old records"
   ]
  },
  {
   "cell_type": "markdown",
   "metadata": {
    "application/vnd.databricks.v1+cell": {
     "cellMetadata": {},
     "inputWidgets": {},
     "nuid": "17184c4d-e525-41ee-b07c-1220f89e8d20",
     "showTitle": false,
     "tableResultSettingsMap": {},
     "title": ""
    }
   },
   "source": [
    "###  Fetch Relative Column"
   ]
  },
  {
   "cell_type": "code",
   "execution_count": 0,
   "metadata": {
    "application/vnd.databricks.v1+cell": {
     "cellMetadata": {
      "byteLimit": 2048000,
      "rowLimit": 10000
     },
     "inputWidgets": {},
     "nuid": "2233a0bb-fc1f-4fed-8674-703c5333aba2",
     "showTitle": false,
     "tableResultSettingsMap": {},
     "title": ""
    }
   },
   "outputs": [
    {
     "output_type": "display_data",
     "data": {
      "text/html": [
       "<style scoped>\n",
       "  .table-result-container {\n",
       "    max-height: 300px;\n",
       "    overflow: auto;\n",
       "  }\n",
       "  table, th, td {\n",
       "    border: 1px solid black;\n",
       "    border-collapse: collapse;\n",
       "  }\n",
       "  th, td {\n",
       "    padding: 5px;\n",
       "  }\n",
       "  th {\n",
       "    text-align: left;\n",
       "  }\n",
       "</style><div class='table-result-container'><table class='table-result'><thead style='background-color: white'><tr><th>Dealer_ID</th><th>DealerName</th></tr></thead><tbody><tr><td>DLR0095</td><td>Isuzu Motors</td></tr><tr><td>DLR0124</td><td>McLaren Motors</td></tr><tr><td>DLR0245</td><td>Jennings Ford Automobile Dealership</td></tr><tr><td>DLR0171</td><td>Samsung Motors</td></tr><tr><td>DLR0052</td><td>e.GO Mobile Motors</td></tr><tr><td>DLR0175</td><td>Saturn Motors</td></tr><tr><td>DLR0080</td><td>Hindustan Motors</td></tr><tr><td>DLR0263</td><td>Auto-Union Motors</td></tr><tr><td>DLR0066</td><td>Freightliner Motors</td></tr><tr><td>DLR0258</td><td>null</td></tr><tr><td>DLR0007</td><td>AMC, Eagle Motors</td></tr><tr><td>DLR0141</td><td>Noble Motors</td></tr><tr><td>DLR0251</td><td>Alfa Romeo Motors</td></tr><tr><td>DLR0038</td><td>Cizeta-Moroder Motors</td></tr><tr><td>DLR0155</td><td>Piaggio Motors</td></tr><tr><td>DLR0013</td><td>Aston Martin Motors</td></tr><tr><td>DLR0049</td><td>Dodge Motors</td></tr><tr><td>DLR0055</td><td>Facel Vega Motors</td></tr><tr><td>DLR0183</td><td>Smart Motors</td></tr><tr><td>DLR0129</td><td>Mia Motors</td></tr><tr><td>DLR0177</td><td>Seat Motors</td></tr><tr><td>DLR0229</td><td>Herald Motors</td></tr><tr><td>DLR0149</td><td>Panoz Motors</td></tr><tr><td>DLR0170</td><td>Saleen Motors</td></tr><tr><td>DLR0213</td><td>DKW Motors</td></tr><tr><td>DLR0077</td><td>Heinkel Motors</td></tr><tr><td>DLR0238</td><td>Cass Motor Sales</td></tr><tr><td>DLR0253</td><td>Alvis Motors</td></tr><tr><td>DLR0115</td><td>Mahindra Motors</td></tr><tr><td>DLR0219</td><td>MG  Motors</td></tr><tr><td>DLR0166</td><td>Rivian Motors</td></tr><tr><td>DLR0262</td><td>Autobianchi Motors</td></tr><tr><td>DLR0099</td><td>Jensen Motors</td></tr><tr><td>DLR0159</td><td>Porsche Motors</td></tr><tr><td>DLR0118</td><td>Maruti Motors</td></tr><tr><td>DLR0259</td><td>Asia Motors Motors</td></tr><tr><td>DLR0241</td><td>Colman Automotive Building</td></tr><tr><td>DLR0207</td><td>Westfield Motors</td></tr><tr><td>DLR0163</td><td>Ranger Motors</td></tr><tr><td>DLR0157</td><td>Polestar Motors</td></tr><tr><td>DLR0133</td><td>Monica Motors</td></tr><tr><td>DLR0167</td><td>Rolls-Royce Motors</td></tr><tr><td>DLR0086</td><td>Hummer Motors</td></tr><tr><td>DLR0174</td><td>Santana Motors</td></tr><tr><td>DLR0147</td><td>Pagani Motors</td></tr><tr><td>DLR0134</td><td>Monteverdi Motors</td></tr><tr><td>DLR0193</td><td>Tazzari Motors</td></tr><tr><td>DLR0084</td><td>Hudson Motors</td></tr><tr><td>DLR0148</td><td>Panhard Motors</td></tr><tr><td>DLR0235</td><td>Buick Automobile Company Building</td></tr><tr><td>DLR0037</td><td>Citroën Motors</td></tr><tr><td>DLR0051</td><td>Edsel Motors</td></tr><tr><td>DLR0237</td><td>Casa de cadillac</td></tr><tr><td>DLR0064</td><td>Ford Europe Motors</td></tr><tr><td>DLR0021</td><td>Bond Motors</td></tr><tr><td>DLR0109</td><td>Ligier Motors</td></tr><tr><td>DLR0101</td><td>Kia Motors</td></tr><tr><td>DLR0045</td><td>Delahaye Motors</td></tr><tr><td>DLR0265</td><td>Bentley Motors</td></tr><tr><td>DLR0035</td><td>Chrysler Motors</td></tr><tr><td>DLR0153</td><td>Peugeot Motors</td></tr><tr><td>DLR0019</td><td>Bitter Motors</td></tr><tr><td>DLR0088</td><td>IFA (including Trabant, Wartburg, Barkas) Motors</td></tr><tr><td>DLR0083</td><td>Honda India Motors</td></tr><tr><td>DLR0120</td><td>Mastretta Motors</td></tr><tr><td>DLR0191</td><td>Tata Motors</td></tr><tr><td>DLR0216</td><td>Maybach  Motors</td></tr><tr><td>DLR0200</td><td>UAZ Motors</td></tr><tr><td>DLR0186</td><td>Standard-Triumph Motors</td></tr><tr><td>DLR0173</td><td>Santa Matilde Motors</td></tr><tr><td>DLR0121</td><td>Matra (including Deutsch-Bonnet, René Bonnet) Motors</td></tr><tr><td>DLR0103</td><td>KTM Motors</td></tr><tr><td>DLR0131</td><td>Mini Motors</td></tr><tr><td>DLR0122</td><td>Mazda Motors</td></tr><tr><td>DLR0011</td><td>Artega Motors</td></tr><tr><td>DLR0143</td><td>Oldsmobile Motors</td></tr><tr><td>DLR0261</td><td>Audi Motors</td></tr><tr><td>DLR0156</td><td>Plymouth Motors</td></tr><tr><td>DLR0178</td><td>Shelby SuperCars Motors</td></tr><tr><td>DLR0026</td><td>Austin, Rover Motors</td></tr><tr><td>DLR0030</td><td>Cadillac Motors</td></tr><tr><td>DLR0106</td><td>Lancia Motors</td></tr><tr><td>DLR0107</td><td>Land Rover Motors</td></tr><tr><td>DLR0247</td><td>Kindel Building</td></tr><tr><td>DLR0067</td><td>FSO Motors</td></tr><tr><td>DLR0061</td><td>Ford America Motors</td></tr><tr><td>DLR0230</td><td>Zion Automobils</td></tr><tr><td>DLR0032</td><td>Checker Motors</td></tr><tr><td>DLR0201</td><td>Vauxhall Motors</td></tr><tr><td>DLR0014</td><td>Audi Motors</td></tr><tr><td>DLR0256</td><td>Ariel Motors</td></tr><tr><td>DLR0161</td><td>Proton Motors</td></tr><tr><td>DLR0078</td><td>Hennessey Motors</td></tr><tr><td>DLR0063</td><td>Ford do Brasil Motors</td></tr><tr><td>DLR0214</td><td>Horch Motors</td></tr><tr><td>DLR0202</td><td>Venturi Motors</td></tr><tr><td>DLR0195</td><td>Tornado Motors</td></tr><tr><td>DLR0240</td><td>Clemens Automobile Company Building</td></tr><tr><td>DLR0090</td><td>null</td></tr><tr><td>DLR0017</td><td>Auverland Motors</td></tr><tr><td>DLR0211</td><td>ZIL Motors</td></tr><tr><td>DLR0154</td><td>PGO Motors</td></tr><tr><td>DLR0243</td><td>Howard Motor Company Building</td></tr><tr><td>DLR0181</td><td>Singer Motors</td></tr><tr><td>DLR0044</td><td>null</td></tr><tr><td>DLR0254</td><td>AMC, Eagle Motors</td></tr><tr><td>DLR0031</td><td>Caterham Motors</td></tr><tr><td>DLR0142</td><td>NSU Motors</td></tr><tr><td>DLR0136</td><td>Moskwitch Motors</td></tr><tr><td>DLR0012</td><td>Asia Motors Motors</td></tr><tr><td>DLR0053</td><td>Eicher Polaris Motors</td></tr><tr><td>DLR0179</td><td>Simca Motors</td></tr><tr><td>DLR0025</td><td>Austin-Healey Motors</td></tr><tr><td>DLR0197</td><td>Toyota India Motors</td></tr><tr><td>DLR0198</td><td>Turner Motors</td></tr><tr><td>DLR0029</td><td>Bytom Motors</td></tr><tr><td>DLR0039</td><td>Dacia Motors</td></tr><tr><td>DLR0001</td><td>AC Cars Motors</td></tr><tr><td>DLR0043</td><td>Daimler Motors</td></tr><tr><td>DLR0060</td><td>Fisker, Karma Motors</td></tr><tr><td>DLR0125</td><td>Mercedes-Benz (including Maybach) Motors</td></tr><tr><td>DLR0004</td><td>Alfa Romeo Motors</td></tr><tr><td>DLR0249</td><td>Acura Motors</td></tr><tr><td>DLR0130</td><td>Micro Motors</td></tr><tr><td>DLR0028</td><td>Buick Motors</td></tr><tr><td>DLR0231</td><td>Atlantic Motor Company</td></tr><tr><td>DLR0139</td><td>Nissan Motors</td></tr><tr><td>DLR0003</td><td>Aixam-Mega (including Arola) Motors</td></tr><tr><td>DLR0069</td><td>Geo Motors</td></tr><tr><td>DLR0102</td><td>Koenigsegg Motors</td></tr><tr><td>DLR0208</td><td>Wiesmann Motors</td></tr><tr><td>DLR0232</td><td>2008 NRHP-listed</td></tr><tr><td>DLR0205</td><td>Volkswagen South Africa Motors</td></tr><tr><td>DLR0137</td><td>Nash Motors</td></tr><tr><td>DLR0042</td><td>Daihatsu Motors</td></tr><tr><td>DLR0105</td><td>Lamborghini Motors</td></tr><tr><td>DLR0126</td><td>Mercury Motors</td></tr><tr><td>DLR0016</td><td>Auto-Union Motors</td></tr><tr><td>DLR0248</td><td>AC Cars Motors</td></tr><tr><td>DLR0065</td><td>Ford India Motors</td></tr><tr><td>DLR0068</td><td>GAZ Motors</td></tr><tr><td>DLR0151</td><td>Peel Motors</td></tr><tr><td>DLR0192</td><td>Tatra Motors</td></tr><tr><td>DLR0244</td><td>Hupmobile Building</td></tr><tr><td>DLR0072</td><td>Glas Motors</td></tr><tr><td>DLR0009</td><td>Ariel Motors</td></tr><tr><td>DLR0093</td><td>Iso Motors</td></tr><tr><td>DLR0098</td><td>Jeep Motors</td></tr><tr><td>DLR0233</td><td>Blankinship Motor Company Building</td></tr><tr><td>DLR0097</td><td>Jaguar Motors</td></tr><tr><td>DLR0160</td><td>Premier Motors</td></tr><tr><td>DLR0024</td><td>British Leyland Motors</td></tr><tr><td>DLR0085</td><td>Humber Motors</td></tr><tr><td>DLR0036</td><td>Chrysler Europe Motors</td></tr><tr><td>DLR0008</td><td>Anadol Motors</td></tr><tr><td>DLR0204</td><td>Volkswagen do Brasil Motors</td></tr><tr><td>DLR0116</td><td>Marcos Motors</td></tr><tr><td>DLR0146</td><td>Packard Motors</td></tr><tr><td>DLR0182</td><td>Skoda Motors</td></tr><tr><td>DLR0150</td><td>Panther Motors</td></tr><tr><td>DLR0225</td><td>Talbot  Motors</td></tr><tr><td>DLR0033</td><td>Chevrolet Motors</td></tr><tr><td>DLR0117</td><td>Marlin Motors</td></tr><tr><td>DLR0190</td><td>Suzuki Motors</td></tr><tr><td>DLR0164</td><td>Reliant Motors</td></tr><tr><td>DLR0089</td><td>Infiniti Motors</td></tr><tr><td>DLR0040</td><td>Daewoo, Saehan, Chevrolet Korea Motors</td></tr><tr><td>DLR0266</td><td>Bitter Motors</td></tr><tr><td>DLR0260</td><td>Aston Martin Motors</td></tr><tr><td>DLR0020</td><td>BMW Motors</td></tr><tr><td>DLR0128</td><td>Messerschmitt Motors</td></tr><tr><td>DLR0187</td><td>Studebaker Motors</td></tr><tr><td>DLR0056</td><td>Ferrari Motors</td></tr><tr><td>DLR0059</td><td>Fiat India Motors</td></tr><tr><td>DLR0022</td><td>Borgward (including Goliath and Lloyd) Motors</td></tr><tr><td>DLR0217</td><td>Izh  Motors</td></tr><tr><td>DLR0062</td><td>Ford Australia Motors</td></tr><tr><td>DLR0081</td><td>Holden Motors</td></tr><tr><td>DLR0104</td><td>Lada Motors</td></tr><tr><td>DLR0228</td><td>Deccan Motors</td></tr><tr><td>DLR0119</td><td>Maserati Motors</td></tr><tr><td>DLR0048</td><td>De Tomaso Motors</td></tr><tr><td>DLR0189</td><td>Sunbeam Motors</td></tr><tr><td>DLR0185</td><td>SsangYong Motors</td></tr><tr><td>DLR0094</td><td>Isotta Fraschini Motors</td></tr><tr><td>DLR0227</td><td>Ramani Motors</td></tr><tr><td>DLR0162</td><td>Puma Motors</td></tr><tr><td>DLR0145</td><td>Opel Motors</td></tr><tr><td>DLR0005</td><td>Alpine Motors</td></tr><tr><td>DLR0199</td><td>TVR Motors</td></tr><tr><td>DLR0236</td><td>Cadillac Automobile Company Building</td></tr><tr><td>DLR0169</td><td>SAIC Motor Motors</td></tr><tr><td>DLR0239</td><td>Claremore Auto Dealership</td></tr><tr><td>DLR0057</td><td>Fiat Motors</td></tr><tr><td>DLR0140</td><td>Nissan India Motors</td></tr><tr><td>DLR0152</td><td>Perodua Motors</td></tr><tr><td>DLR0112</td><td>LTI Motors</td></tr><tr><td>DLR0075</td><td>Gumpert Motors</td></tr><tr><td>DLR0210</td><td>ZAZ Motors</td></tr><tr><td>DLR0212</td><td>null</td></tr><tr><td>DLR0138</td><td>Naza Motors</td></tr><tr><td>DLR0076</td><td>Healey Motors</td></tr><tr><td>DLR0165</td><td>Renault Motors</td></tr><tr><td>DLR0091</td><td>Invicta Motors</td></tr><tr><td>DLR0226</td><td>Das Motors</td></tr><tr><td>DLR0221</td><td>Austin  Motors</td></tr><tr><td>DLR0079</td><td>Hillman Motors</td></tr><tr><td>DLR0222</td><td>Riley  Motors</td></tr><tr><td>DLR0188</td><td>Subaru Motors</td></tr><tr><td>DLR0054</td><td>Elva Motors</td></tr><tr><td>DLR0023</td><td>Bristol Motors</td></tr><tr><td>DLR0034</td><td>Chevrolet India Motors</td></tr><tr><td>DLR0250</td><td>Aixam-Mega (including Arola) Motors</td></tr><tr><td>DLR0108</td><td>Lexus Motors</td></tr><tr><td>DLR0264</td><td>Auverland Motors</td></tr><tr><td>DLR0172</td><td>San Motors</td></tr><tr><td>DLR0234</td><td>Bohn Motor Company Automobile Dealership</td></tr><tr><td>DLR0096</td><td>Iveco Motors</td></tr><tr><td>DLR0158</td><td>Pontiac, Asüna Motors</td></tr><tr><td>DLR0092</td><td>Isdera Motors</td></tr><tr><td>DLR0015</td><td>Autobianchi Motors</td></tr><tr><td>DLR0176</td><td>Scion Motors</td></tr><tr><td>DLR0168</td><td>Saab Motors</td></tr><tr><td>DLR0218</td><td>Lagonda  Motors</td></tr><tr><td>DLR0255</td><td>Anadol Motors</td></tr><tr><td>DLR0144</td><td>null</td></tr><tr><td>DLR0114</td><td>Lynx Motors</td></tr><tr><td>DLR0184</td><td>Spyker Motors</td></tr><tr><td>DLR0018</td><td>Bentley Motors</td></tr><tr><td>DLR0257</td><td>ARO Motors</td></tr><tr><td>DLR0046</td><td>DeLorean Motors</td></tr><tr><td>DLR0110</td><td>Lincoln Motors</td></tr><tr><td>DLR0135</td><td>Morgan Motors</td></tr><tr><td>DLR0127</td><td>Merkur Motors</td></tr><tr><td>DLR0215</td><td>Wanderer Motors</td></tr><tr><td>DLR0196</td><td>Toyota Motors</td></tr><tr><td>DLR0220</td><td>Morris  Motors</td></tr><tr><td>DLR0246</td><td>Jones Motor Company</td></tr><tr><td>DLR0071</td><td>Ginetta Motors</td></tr><tr><td>DLR0047</td><td>DeSoto Motors</td></tr><tr><td>DLR0123</td><td>Mazzanti Motors</td></tr><tr><td>DLR0050</td><td>Donkervoort Motors</td></tr><tr><td>DLR0113</td><td>LuAZ Motors</td></tr><tr><td>DLR0074</td><td>GTA Spano Motors</td></tr><tr><td>DLR0087</td><td>Hyundai Motors</td></tr><tr><td>DLR0209</td><td>Zastava Motors</td></tr><tr><td>DLR0252</td><td>Alpine Motors</td></tr><tr><td>DLR0206</td><td>Volvo Motors</td></tr><tr><td>DLR0111</td><td>Lotus Motors</td></tr><tr><td>DLR0203</td><td>Volkswagen Motors</td></tr><tr><td>DLR0194</td><td>Tesla Motors</td></tr><tr><td>DLR0006</td><td>Alvis Motors</td></tr><tr><td>DLR0100</td><td>JPX Motors</td></tr><tr><td>DLR0073</td><td>GMC Motors</td></tr><tr><td>DLR0224</td><td>Standard  Motors</td></tr><tr><td>DLR0132</td><td>Mitsubishi Motors</td></tr><tr><td>DLR0010</td><td>ARO Motors</td></tr><tr><td>DLR0082</td><td>Honda Motors</td></tr><tr><td>DLR0242</td><td>H Street Playhouse</td></tr><tr><td>DLR0041</td><td>DAF Motors</td></tr><tr><td>DLR0070</td><td>Gilbern Motors</td></tr><tr><td>DLR0058</td><td>Fiat do Brasil Motors</td></tr><tr><td>DLR0180</td><td>Simca do Brasil Motors</td></tr><tr><td>DLR0027</td><td>Bugatti Motors</td></tr><tr><td>DLR0267</td><td>BMW Motors</td></tr><tr><td>DLR0223</td><td>Wolseley  Motors</td></tr><tr><td>DLR0002</td><td>Acura Motors</td></tr></tbody></table></div>"
      ]
     },
     "metadata": {
      "application/vnd.databricks.v1+output": {
       "addedWidgets": {},
       "aggData": [],
       "aggError": "",
       "aggOverflow": false,
       "aggSchema": [],
       "aggSeriesLimitReached": false,
       "aggType": "",
       "arguments": {},
       "columnCustomDisplayInfos": {},
       "data": [
        [
         "DLR0095",
         "Isuzu Motors"
        ],
        [
         "DLR0124",
         "McLaren Motors"
        ],
        [
         "DLR0245",
         "Jennings Ford Automobile Dealership"
        ],
        [
         "DLR0171",
         "Samsung Motors"
        ],
        [
         "DLR0052",
         "e.GO Mobile Motors"
        ],
        [
         "DLR0175",
         "Saturn Motors"
        ],
        [
         "DLR0080",
         "Hindustan Motors"
        ],
        [
         "DLR0263",
         "Auto-Union Motors"
        ],
        [
         "DLR0066",
         "Freightliner Motors"
        ],
        [
         "DLR0258",
         null
        ],
        [
         "DLR0007",
         "AMC, Eagle Motors"
        ],
        [
         "DLR0141",
         "Noble Motors"
        ],
        [
         "DLR0251",
         "Alfa Romeo Motors"
        ],
        [
         "DLR0038",
         "Cizeta-Moroder Motors"
        ],
        [
         "DLR0155",
         "Piaggio Motors"
        ],
        [
         "DLR0013",
         "Aston Martin Motors"
        ],
        [
         "DLR0049",
         "Dodge Motors"
        ],
        [
         "DLR0055",
         "Facel Vega Motors"
        ],
        [
         "DLR0183",
         "Smart Motors"
        ],
        [
         "DLR0129",
         "Mia Motors"
        ],
        [
         "DLR0177",
         "Seat Motors"
        ],
        [
         "DLR0229",
         "Herald Motors"
        ],
        [
         "DLR0149",
         "Panoz Motors"
        ],
        [
         "DLR0170",
         "Saleen Motors"
        ],
        [
         "DLR0213",
         "DKW Motors"
        ],
        [
         "DLR0077",
         "Heinkel Motors"
        ],
        [
         "DLR0238",
         "Cass Motor Sales"
        ],
        [
         "DLR0253",
         "Alvis Motors"
        ],
        [
         "DLR0115",
         "Mahindra Motors"
        ],
        [
         "DLR0219",
         "MG  Motors"
        ],
        [
         "DLR0166",
         "Rivian Motors"
        ],
        [
         "DLR0262",
         "Autobianchi Motors"
        ],
        [
         "DLR0099",
         "Jensen Motors"
        ],
        [
         "DLR0159",
         "Porsche Motors"
        ],
        [
         "DLR0118",
         "Maruti Motors"
        ],
        [
         "DLR0259",
         "Asia Motors Motors"
        ],
        [
         "DLR0241",
         "Colman Automotive Building"
        ],
        [
         "DLR0207",
         "Westfield Motors"
        ],
        [
         "DLR0163",
         "Ranger Motors"
        ],
        [
         "DLR0157",
         "Polestar Motors"
        ],
        [
         "DLR0133",
         "Monica Motors"
        ],
        [
         "DLR0167",
         "Rolls-Royce Motors"
        ],
        [
         "DLR0086",
         "Hummer Motors"
        ],
        [
         "DLR0174",
         "Santana Motors"
        ],
        [
         "DLR0147",
         "Pagani Motors"
        ],
        [
         "DLR0134",
         "Monteverdi Motors"
        ],
        [
         "DLR0193",
         "Tazzari Motors"
        ],
        [
         "DLR0084",
         "Hudson Motors"
        ],
        [
         "DLR0148",
         "Panhard Motors"
        ],
        [
         "DLR0235",
         "Buick Automobile Company Building"
        ],
        [
         "DLR0037",
         "Citroën Motors"
        ],
        [
         "DLR0051",
         "Edsel Motors"
        ],
        [
         "DLR0237",
         "Casa de cadillac"
        ],
        [
         "DLR0064",
         "Ford Europe Motors"
        ],
        [
         "DLR0021",
         "Bond Motors"
        ],
        [
         "DLR0109",
         "Ligier Motors"
        ],
        [
         "DLR0101",
         "Kia Motors"
        ],
        [
         "DLR0045",
         "Delahaye Motors"
        ],
        [
         "DLR0265",
         "Bentley Motors"
        ],
        [
         "DLR0035",
         "Chrysler Motors"
        ],
        [
         "DLR0153",
         "Peugeot Motors"
        ],
        [
         "DLR0019",
         "Bitter Motors"
        ],
        [
         "DLR0088",
         "IFA (including Trabant, Wartburg, Barkas) Motors"
        ],
        [
         "DLR0083",
         "Honda India Motors"
        ],
        [
         "DLR0120",
         "Mastretta Motors"
        ],
        [
         "DLR0191",
         "Tata Motors"
        ],
        [
         "DLR0216",
         "Maybach  Motors"
        ],
        [
         "DLR0200",
         "UAZ Motors"
        ],
        [
         "DLR0186",
         "Standard-Triumph Motors"
        ],
        [
         "DLR0173",
         "Santa Matilde Motors"
        ],
        [
         "DLR0121",
         "Matra (including Deutsch-Bonnet, René Bonnet) Motors"
        ],
        [
         "DLR0103",
         "KTM Motors"
        ],
        [
         "DLR0131",
         "Mini Motors"
        ],
        [
         "DLR0122",
         "Mazda Motors"
        ],
        [
         "DLR0011",
         "Artega Motors"
        ],
        [
         "DLR0143",
         "Oldsmobile Motors"
        ],
        [
         "DLR0261",
         "Audi Motors"
        ],
        [
         "DLR0156",
         "Plymouth Motors"
        ],
        [
         "DLR0178",
         "Shelby SuperCars Motors"
        ],
        [
         "DLR0026",
         "Austin, Rover Motors"
        ],
        [
         "DLR0030",
         "Cadillac Motors"
        ],
        [
         "DLR0106",
         "Lancia Motors"
        ],
        [
         "DLR0107",
         "Land Rover Motors"
        ],
        [
         "DLR0247",
         "Kindel Building"
        ],
        [
         "DLR0067",
         "FSO Motors"
        ],
        [
         "DLR0061",
         "Ford America Motors"
        ],
        [
         "DLR0230",
         "Zion Automobils"
        ],
        [
         "DLR0032",
         "Checker Motors"
        ],
        [
         "DLR0201",
         "Vauxhall Motors"
        ],
        [
         "DLR0014",
         "Audi Motors"
        ],
        [
         "DLR0256",
         "Ariel Motors"
        ],
        [
         "DLR0161",
         "Proton Motors"
        ],
        [
         "DLR0078",
         "Hennessey Motors"
        ],
        [
         "DLR0063",
         "Ford do Brasil Motors"
        ],
        [
         "DLR0214",
         "Horch Motors"
        ],
        [
         "DLR0202",
         "Venturi Motors"
        ],
        [
         "DLR0195",
         "Tornado Motors"
        ],
        [
         "DLR0240",
         "Clemens Automobile Company Building"
        ],
        [
         "DLR0090",
         null
        ],
        [
         "DLR0017",
         "Auverland Motors"
        ],
        [
         "DLR0211",
         "ZIL Motors"
        ],
        [
         "DLR0154",
         "PGO Motors"
        ],
        [
         "DLR0243",
         "Howard Motor Company Building"
        ],
        [
         "DLR0181",
         "Singer Motors"
        ],
        [
         "DLR0044",
         null
        ],
        [
         "DLR0254",
         "AMC, Eagle Motors"
        ],
        [
         "DLR0031",
         "Caterham Motors"
        ],
        [
         "DLR0142",
         "NSU Motors"
        ],
        [
         "DLR0136",
         "Moskwitch Motors"
        ],
        [
         "DLR0012",
         "Asia Motors Motors"
        ],
        [
         "DLR0053",
         "Eicher Polaris Motors"
        ],
        [
         "DLR0179",
         "Simca Motors"
        ],
        [
         "DLR0025",
         "Austin-Healey Motors"
        ],
        [
         "DLR0197",
         "Toyota India Motors"
        ],
        [
         "DLR0198",
         "Turner Motors"
        ],
        [
         "DLR0029",
         "Bytom Motors"
        ],
        [
         "DLR0039",
         "Dacia Motors"
        ],
        [
         "DLR0001",
         "AC Cars Motors"
        ],
        [
         "DLR0043",
         "Daimler Motors"
        ],
        [
         "DLR0060",
         "Fisker, Karma Motors"
        ],
        [
         "DLR0125",
         "Mercedes-Benz (including Maybach) Motors"
        ],
        [
         "DLR0004",
         "Alfa Romeo Motors"
        ],
        [
         "DLR0249",
         "Acura Motors"
        ],
        [
         "DLR0130",
         "Micro Motors"
        ],
        [
         "DLR0028",
         "Buick Motors"
        ],
        [
         "DLR0231",
         "Atlantic Motor Company"
        ],
        [
         "DLR0139",
         "Nissan Motors"
        ],
        [
         "DLR0003",
         "Aixam-Mega (including Arola) Motors"
        ],
        [
         "DLR0069",
         "Geo Motors"
        ],
        [
         "DLR0102",
         "Koenigsegg Motors"
        ],
        [
         "DLR0208",
         "Wiesmann Motors"
        ],
        [
         "DLR0232",
         "2008 NRHP-listed"
        ],
        [
         "DLR0205",
         "Volkswagen South Africa Motors"
        ],
        [
         "DLR0137",
         "Nash Motors"
        ],
        [
         "DLR0042",
         "Daihatsu Motors"
        ],
        [
         "DLR0105",
         "Lamborghini Motors"
        ],
        [
         "DLR0126",
         "Mercury Motors"
        ],
        [
         "DLR0016",
         "Auto-Union Motors"
        ],
        [
         "DLR0248",
         "AC Cars Motors"
        ],
        [
         "DLR0065",
         "Ford India Motors"
        ],
        [
         "DLR0068",
         "GAZ Motors"
        ],
        [
         "DLR0151",
         "Peel Motors"
        ],
        [
         "DLR0192",
         "Tatra Motors"
        ],
        [
         "DLR0244",
         "Hupmobile Building"
        ],
        [
         "DLR0072",
         "Glas Motors"
        ],
        [
         "DLR0009",
         "Ariel Motors"
        ],
        [
         "DLR0093",
         "Iso Motors"
        ],
        [
         "DLR0098",
         "Jeep Motors"
        ],
        [
         "DLR0233",
         "Blankinship Motor Company Building"
        ],
        [
         "DLR0097",
         "Jaguar Motors"
        ],
        [
         "DLR0160",
         "Premier Motors"
        ],
        [
         "DLR0024",
         "British Leyland Motors"
        ],
        [
         "DLR0085",
         "Humber Motors"
        ],
        [
         "DLR0036",
         "Chrysler Europe Motors"
        ],
        [
         "DLR0008",
         "Anadol Motors"
        ],
        [
         "DLR0204",
         "Volkswagen do Brasil Motors"
        ],
        [
         "DLR0116",
         "Marcos Motors"
        ],
        [
         "DLR0146",
         "Packard Motors"
        ],
        [
         "DLR0182",
         "Skoda Motors"
        ],
        [
         "DLR0150",
         "Panther Motors"
        ],
        [
         "DLR0225",
         "Talbot  Motors"
        ],
        [
         "DLR0033",
         "Chevrolet Motors"
        ],
        [
         "DLR0117",
         "Marlin Motors"
        ],
        [
         "DLR0190",
         "Suzuki Motors"
        ],
        [
         "DLR0164",
         "Reliant Motors"
        ],
        [
         "DLR0089",
         "Infiniti Motors"
        ],
        [
         "DLR0040",
         "Daewoo, Saehan, Chevrolet Korea Motors"
        ],
        [
         "DLR0266",
         "Bitter Motors"
        ],
        [
         "DLR0260",
         "Aston Martin Motors"
        ],
        [
         "DLR0020",
         "BMW Motors"
        ],
        [
         "DLR0128",
         "Messerschmitt Motors"
        ],
        [
         "DLR0187",
         "Studebaker Motors"
        ],
        [
         "DLR0056",
         "Ferrari Motors"
        ],
        [
         "DLR0059",
         "Fiat India Motors"
        ],
        [
         "DLR0022",
         "Borgward (including Goliath and Lloyd) Motors"
        ],
        [
         "DLR0217",
         "Izh  Motors"
        ],
        [
         "DLR0062",
         "Ford Australia Motors"
        ],
        [
         "DLR0081",
         "Holden Motors"
        ],
        [
         "DLR0104",
         "Lada Motors"
        ],
        [
         "DLR0228",
         "Deccan Motors"
        ],
        [
         "DLR0119",
         "Maserati Motors"
        ],
        [
         "DLR0048",
         "De Tomaso Motors"
        ],
        [
         "DLR0189",
         "Sunbeam Motors"
        ],
        [
         "DLR0185",
         "SsangYong Motors"
        ],
        [
         "DLR0094",
         "Isotta Fraschini Motors"
        ],
        [
         "DLR0227",
         "Ramani Motors"
        ],
        [
         "DLR0162",
         "Puma Motors"
        ],
        [
         "DLR0145",
         "Opel Motors"
        ],
        [
         "DLR0005",
         "Alpine Motors"
        ],
        [
         "DLR0199",
         "TVR Motors"
        ],
        [
         "DLR0236",
         "Cadillac Automobile Company Building"
        ],
        [
         "DLR0169",
         "SAIC Motor Motors"
        ],
        [
         "DLR0239",
         "Claremore Auto Dealership"
        ],
        [
         "DLR0057",
         "Fiat Motors"
        ],
        [
         "DLR0140",
         "Nissan India Motors"
        ],
        [
         "DLR0152",
         "Perodua Motors"
        ],
        [
         "DLR0112",
         "LTI Motors"
        ],
        [
         "DLR0075",
         "Gumpert Motors"
        ],
        [
         "DLR0210",
         "ZAZ Motors"
        ],
        [
         "DLR0212",
         null
        ],
        [
         "DLR0138",
         "Naza Motors"
        ],
        [
         "DLR0076",
         "Healey Motors"
        ],
        [
         "DLR0165",
         "Renault Motors"
        ],
        [
         "DLR0091",
         "Invicta Motors"
        ],
        [
         "DLR0226",
         "Das Motors"
        ],
        [
         "DLR0221",
         "Austin  Motors"
        ],
        [
         "DLR0079",
         "Hillman Motors"
        ],
        [
         "DLR0222",
         "Riley  Motors"
        ],
        [
         "DLR0188",
         "Subaru Motors"
        ],
        [
         "DLR0054",
         "Elva Motors"
        ],
        [
         "DLR0023",
         "Bristol Motors"
        ],
        [
         "DLR0034",
         "Chevrolet India Motors"
        ],
        [
         "DLR0250",
         "Aixam-Mega (including Arola) Motors"
        ],
        [
         "DLR0108",
         "Lexus Motors"
        ],
        [
         "DLR0264",
         "Auverland Motors"
        ],
        [
         "DLR0172",
         "San Motors"
        ],
        [
         "DLR0234",
         "Bohn Motor Company Automobile Dealership"
        ],
        [
         "DLR0096",
         "Iveco Motors"
        ],
        [
         "DLR0158",
         "Pontiac, Asüna Motors"
        ],
        [
         "DLR0092",
         "Isdera Motors"
        ],
        [
         "DLR0015",
         "Autobianchi Motors"
        ],
        [
         "DLR0176",
         "Scion Motors"
        ],
        [
         "DLR0168",
         "Saab Motors"
        ],
        [
         "DLR0218",
         "Lagonda  Motors"
        ],
        [
         "DLR0255",
         "Anadol Motors"
        ],
        [
         "DLR0144",
         null
        ],
        [
         "DLR0114",
         "Lynx Motors"
        ],
        [
         "DLR0184",
         "Spyker Motors"
        ],
        [
         "DLR0018",
         "Bentley Motors"
        ],
        [
         "DLR0257",
         "ARO Motors"
        ],
        [
         "DLR0046",
         "DeLorean Motors"
        ],
        [
         "DLR0110",
         "Lincoln Motors"
        ],
        [
         "DLR0135",
         "Morgan Motors"
        ],
        [
         "DLR0127",
         "Merkur Motors"
        ],
        [
         "DLR0215",
         "Wanderer Motors"
        ],
        [
         "DLR0196",
         "Toyota Motors"
        ],
        [
         "DLR0220",
         "Morris  Motors"
        ],
        [
         "DLR0246",
         "Jones Motor Company"
        ],
        [
         "DLR0071",
         "Ginetta Motors"
        ],
        [
         "DLR0047",
         "DeSoto Motors"
        ],
        [
         "DLR0123",
         "Mazzanti Motors"
        ],
        [
         "DLR0050",
         "Donkervoort Motors"
        ],
        [
         "DLR0113",
         "LuAZ Motors"
        ],
        [
         "DLR0074",
         "GTA Spano Motors"
        ],
        [
         "DLR0087",
         "Hyundai Motors"
        ],
        [
         "DLR0209",
         "Zastava Motors"
        ],
        [
         "DLR0252",
         "Alpine Motors"
        ],
        [
         "DLR0206",
         "Volvo Motors"
        ],
        [
         "DLR0111",
         "Lotus Motors"
        ],
        [
         "DLR0203",
         "Volkswagen Motors"
        ],
        [
         "DLR0194",
         "Tesla Motors"
        ],
        [
         "DLR0006",
         "Alvis Motors"
        ],
        [
         "DLR0100",
         "JPX Motors"
        ],
        [
         "DLR0073",
         "GMC Motors"
        ],
        [
         "DLR0224",
         "Standard  Motors"
        ],
        [
         "DLR0132",
         "Mitsubishi Motors"
        ],
        [
         "DLR0010",
         "ARO Motors"
        ],
        [
         "DLR0082",
         "Honda Motors"
        ],
        [
         "DLR0242",
         "H Street Playhouse"
        ],
        [
         "DLR0041",
         "DAF Motors"
        ],
        [
         "DLR0070",
         "Gilbern Motors"
        ],
        [
         "DLR0058",
         "Fiat do Brasil Motors"
        ],
        [
         "DLR0180",
         "Simca do Brasil Motors"
        ],
        [
         "DLR0027",
         "Bugatti Motors"
        ],
        [
         "DLR0267",
         "BMW Motors"
        ],
        [
         "DLR0223",
         "Wolseley  Motors"
        ],
        [
         "DLR0002",
         "Acura Motors"
        ]
       ],
       "datasetInfos": [],
       "dbfsResultPath": null,
       "isJsonSchema": true,
       "metadata": {},
       "overflow": false,
       "plotOptions": {
        "customPlotOptions": {},
        "displayType": "table",
        "pivotAggregation": null,
        "pivotColumns": null,
        "xColumns": null,
        "yColumns": null
       },
       "removedWidgets": [],
       "schema": [
        {
         "metadata": "{}",
         "name": "Dealer_ID",
         "type": "\"string\""
        },
        {
         "metadata": "{}",
         "name": "DealerName",
         "type": "\"string\""
        }
       ],
       "type": "table"
      }
     },
     "output_type": "display_data"
    }
   ],
   "source": [
    "df_src_dealer = spark.sql('''\n",
    "    SELECT DISTINCT Dealer_ID, DealerName\n",
    "    FROM parquet.`abfss://silver@datalakecarsrj.dfs.core.windows.net/carsales`\n",
    "''')\n",
    "df_src_dealer.display()"
   ]
  },
  {
   "cell_type": "markdown",
   "metadata": {
    "application/vnd.databricks.v1+cell": {
     "cellMetadata": {},
     "inputWidgets": {},
     "nuid": "24487352-16b3-4d06-b831-eb72b6a9b361",
     "showTitle": false,
     "tableResultSettingsMap": {},
     "title": ""
    }
   },
   "source": [
    "### Create Surrogate Key "
   ]
  },
  {
   "cell_type": "code",
   "execution_count": 0,
   "metadata": {
    "application/vnd.databricks.v1+cell": {
     "cellMetadata": {
      "byteLimit": 2048000,
      "rowLimit": 10000
     },
     "inputWidgets": {},
     "nuid": "5bea1f3c-f378-46a2-b472-a6d5a4b0710a",
     "showTitle": false,
     "tableResultSettingsMap": {},
     "title": ""
    }
   },
   "outputs": [],
   "source": [
    "if spark.catalog.tableExists(\"cars_catalog.gold.dim_dealer\"):\n",
    "    df_existing_dealer = spark.sql('''\n",
    "        SELECT dealer_key, Dealer_ID, DealerName\n",
    "        FROM cars_catalog.gold.dim_dealer\n",
    "    ''')\n",
    "else:\n",
    "    df_existing_dealer = spark.sql('''\n",
    "        SELECT 1 as dealer_key, Dealer_ID, DealerName\n",
    "        FROM parquet.`abfss://silver@datalakecarsrj.dfs.core.windows.net/carsales`\n",
    "        WHERE 1=0\n",
    "    ''')\n"
   ]
  },
  {
   "cell_type": "markdown",
   "metadata": {
    "application/vnd.databricks.v1+cell": {
     "cellMetadata": {},
     "inputWidgets": {},
     "nuid": "bfc63ea7-8ee8-41ba-ac2f-8c7190df6fa5",
     "showTitle": false,
     "tableResultSettingsMap": {},
     "title": ""
    }
   },
   "source": [
    "**Create surrogate key column and ADD the max surrogate key** "
   ]
  },
  {
   "cell_type": "code",
   "execution_count": 0,
   "metadata": {
    "application/vnd.databricks.v1+cell": {
     "cellMetadata": {
      "byteLimit": 2048000,
      "rowLimit": 10000
     },
     "inputWidgets": {},
     "nuid": "f49e2822-868d-40a2-bd6b-861b7581cec0",
     "showTitle": false,
     "tableResultSettingsMap": {},
     "title": ""
    }
   },
   "outputs": [],
   "source": [
    "df_joined_dealer = df_src_dealer.join(df_existing_dealer, \"Dealer_ID\", how=\"left\") \\\n",
    "                                .select(df_src_dealer.Dealer_ID, df_src_dealer.DealerName, df_existing_dealer.dealer_key)\n",
    "\n",
    "df_existing_only = df_joined_dealer.filter(df_joined_dealer.dealer_key.isNotNull())\n",
    "df_new_only = df_joined_dealer.filter(df_joined_dealer.dealer_key.isNull()) \\\n",
    "                              .select(\"Dealer_ID\", \"DealerName\")"
   ]
  },
  {
   "cell_type": "markdown",
   "metadata": {
    "application/vnd.databricks.v1+cell": {
     "cellMetadata": {},
     "inputWidgets": {},
     "nuid": "3da36509-f08f-4a15-9c8d-4323d4d97043",
     "showTitle": false,
     "tableResultSettingsMap": {},
     "title": ""
    }
   },
   "source": [
    "### dim_branch sink - initial and incremental "
   ]
  },
  {
   "cell_type": "markdown",
   "metadata": {
    "application/vnd.databricks.v1+cell": {
     "cellMetadata": {},
     "inputWidgets": {},
     "nuid": "8c74bb9f-4747-49e9-b573-44bf014ecb61",
     "showTitle": false,
     "tableResultSettingsMap": {},
     "title": ""
    }
   },
   "source": [
    "**Fetch the max surrogate key from the existing table**"
   ]
  },
  {
   "cell_type": "code",
   "execution_count": 0,
   "metadata": {
    "application/vnd.databricks.v1+cell": {
     "cellMetadata": {
      "byteLimit": 2048000,
      "rowLimit": 10000
     },
     "inputWidgets": {},
     "nuid": "b1d71344-c82e-480c-b74b-d4b5a48a98bd",
     "showTitle": false,
     "tableResultSettingsMap": {},
     "title": ""
    }
   },
   "outputs": [
    {
     "output_type": "stream",
     "name": "stderr",
     "output_type": "stream",
     "text": [
      "/databricks/python/lib/python3.11/site-packages/pyspark/sql/connect/expressions.py:1017: UserWarning: WARN WindowExpression: No Partition Defined for Window operation! Moving all data to a single partition, this can cause serious performance degradation.\n  warnings.warn(\n"
     ]
    }
   ],
   "source": [
    "from pyspark.sql.functions import row_number\n",
    "from pyspark.sql.window import Window\n",
    "\n",
    "# Optional incremental flag if needed\n",
    "dbutils.widgets.text(\"incremental_flag\", \"0\")\n",
    "incremental_flag = int(dbutils.widgets.get(\"incremental_flag\"))\n",
    "\n",
    "if incremental_flag == 0 or not spark.catalog.tableExists(\"cars_catalog.gold.dim_dealer\"):\n",
    "    max_dealer_key = 0\n",
    "else:\n",
    "    max_df = spark.sql(\"SELECT MAX(dealer_key) as max_key FROM cars_catalog.gold.dim_dealer\")\n",
    "    max_dealer_key = max_df.collect()[0][\"max_key\"]\n",
    "\n",
    "# Assign new surrogate keys\n",
    "window_spec = Window.orderBy(\"Dealer_ID\")\n",
    "df_new_with_keys = df_new_only.withColumn(\n",
    "    \"dealer_key\", row_number().over(window_spec) + max_dealer_key\n",
    ").select(\"dealer_key\", \"Dealer_ID\", \"DealerName\")\n"
   ]
  },
  {
   "cell_type": "code",
   "execution_count": 0,
   "metadata": {
    "application/vnd.databricks.v1+cell": {
     "cellMetadata": {
      "byteLimit": 2048000,
      "rowLimit": 10000
     },
     "inputWidgets": {},
     "nuid": "92bb2e3b-98ee-49df-b279-97d8b35e417a",
     "showTitle": false,
     "tableResultSettingsMap": {},
     "title": ""
    }
   },
   "outputs": [
    {
     "output_type": "stream",
     "name": "stderr",
     "output_type": "stream",
     "text": [
      "/databricks/python/lib/python3.11/site-packages/pyspark/sql/connect/expressions.py:1017: UserWarning: WARN WindowExpression: No Partition Defined for Window operation! Moving all data to a single partition, this can cause serious performance degradation.\n  warnings.warn(\n"
     ]
    },
    {
     "output_type": "display_data",
     "data": {
      "text/html": [
       "<style scoped>\n",
       "  .table-result-container {\n",
       "    max-height: 300px;\n",
       "    overflow: auto;\n",
       "  }\n",
       "  table, th, td {\n",
       "    border: 1px solid black;\n",
       "    border-collapse: collapse;\n",
       "  }\n",
       "  th, td {\n",
       "    padding: 5px;\n",
       "  }\n",
       "  th {\n",
       "    text-align: left;\n",
       "  }\n",
       "</style><div class='table-result-container'><table class='table-result'><thead style='background-color: white'><tr><th>dealer_key</th><th>Dealer_ID</th><th>DealerName</th></tr></thead><tbody><tr><td>1</td><td>DLR0001</td><td>AC Cars Motors</td></tr><tr><td>2</td><td>DLR0002</td><td>Acura Motors</td></tr><tr><td>3</td><td>DLR0003</td><td>Aixam-Mega (including Arola) Motors</td></tr><tr><td>4</td><td>DLR0004</td><td>Alfa Romeo Motors</td></tr><tr><td>5</td><td>DLR0005</td><td>Alpine Motors</td></tr><tr><td>6</td><td>DLR0006</td><td>Alvis Motors</td></tr><tr><td>7</td><td>DLR0007</td><td>AMC, Eagle Motors</td></tr><tr><td>8</td><td>DLR0008</td><td>Anadol Motors</td></tr><tr><td>9</td><td>DLR0009</td><td>Ariel Motors</td></tr><tr><td>10</td><td>DLR0010</td><td>ARO Motors</td></tr><tr><td>11</td><td>DLR0011</td><td>Artega Motors</td></tr><tr><td>12</td><td>DLR0012</td><td>Asia Motors Motors</td></tr><tr><td>13</td><td>DLR0013</td><td>Aston Martin Motors</td></tr><tr><td>14</td><td>DLR0014</td><td>Audi Motors</td></tr><tr><td>15</td><td>DLR0015</td><td>Autobianchi Motors</td></tr><tr><td>16</td><td>DLR0016</td><td>Auto-Union Motors</td></tr><tr><td>17</td><td>DLR0017</td><td>Auverland Motors</td></tr><tr><td>18</td><td>DLR0018</td><td>Bentley Motors</td></tr><tr><td>19</td><td>DLR0019</td><td>Bitter Motors</td></tr><tr><td>20</td><td>DLR0020</td><td>BMW Motors</td></tr><tr><td>21</td><td>DLR0021</td><td>Bond Motors</td></tr><tr><td>22</td><td>DLR0022</td><td>Borgward (including Goliath and Lloyd) Motors</td></tr><tr><td>23</td><td>DLR0023</td><td>Bristol Motors</td></tr><tr><td>24</td><td>DLR0024</td><td>British Leyland Motors</td></tr><tr><td>25</td><td>DLR0025</td><td>Austin-Healey Motors</td></tr><tr><td>26</td><td>DLR0026</td><td>Austin, Rover Motors</td></tr><tr><td>27</td><td>DLR0027</td><td>Bugatti Motors</td></tr><tr><td>28</td><td>DLR0028</td><td>Buick Motors</td></tr><tr><td>29</td><td>DLR0029</td><td>Bytom Motors</td></tr><tr><td>30</td><td>DLR0030</td><td>Cadillac Motors</td></tr><tr><td>31</td><td>DLR0031</td><td>Caterham Motors</td></tr><tr><td>32</td><td>DLR0032</td><td>Checker Motors</td></tr><tr><td>33</td><td>DLR0033</td><td>Chevrolet Motors</td></tr><tr><td>34</td><td>DLR0034</td><td>Chevrolet India Motors</td></tr><tr><td>35</td><td>DLR0035</td><td>Chrysler Motors</td></tr><tr><td>36</td><td>DLR0036</td><td>Chrysler Europe Motors</td></tr><tr><td>37</td><td>DLR0037</td><td>Citroën Motors</td></tr><tr><td>38</td><td>DLR0038</td><td>Cizeta-Moroder Motors</td></tr><tr><td>39</td><td>DLR0039</td><td>Dacia Motors</td></tr><tr><td>40</td><td>DLR0040</td><td>Daewoo, Saehan, Chevrolet Korea Motors</td></tr><tr><td>41</td><td>DLR0041</td><td>DAF Motors</td></tr><tr><td>42</td><td>DLR0042</td><td>Daihatsu Motors</td></tr><tr><td>43</td><td>DLR0043</td><td>Daimler Motors</td></tr><tr><td>44</td><td>DLR0044</td><td>null</td></tr><tr><td>45</td><td>DLR0045</td><td>Delahaye Motors</td></tr><tr><td>46</td><td>DLR0046</td><td>DeLorean Motors</td></tr><tr><td>47</td><td>DLR0047</td><td>DeSoto Motors</td></tr><tr><td>48</td><td>DLR0048</td><td>De Tomaso Motors</td></tr><tr><td>49</td><td>DLR0049</td><td>Dodge Motors</td></tr><tr><td>50</td><td>DLR0050</td><td>Donkervoort Motors</td></tr><tr><td>51</td><td>DLR0051</td><td>Edsel Motors</td></tr><tr><td>52</td><td>DLR0052</td><td>e.GO Mobile Motors</td></tr><tr><td>53</td><td>DLR0053</td><td>Eicher Polaris Motors</td></tr><tr><td>54</td><td>DLR0054</td><td>Elva Motors</td></tr><tr><td>55</td><td>DLR0055</td><td>Facel Vega Motors</td></tr><tr><td>56</td><td>DLR0056</td><td>Ferrari Motors</td></tr><tr><td>57</td><td>DLR0057</td><td>Fiat Motors</td></tr><tr><td>58</td><td>DLR0058</td><td>Fiat do Brasil Motors</td></tr><tr><td>59</td><td>DLR0059</td><td>Fiat India Motors</td></tr><tr><td>60</td><td>DLR0060</td><td>Fisker, Karma Motors</td></tr><tr><td>61</td><td>DLR0061</td><td>Ford America Motors</td></tr><tr><td>62</td><td>DLR0062</td><td>Ford Australia Motors</td></tr><tr><td>63</td><td>DLR0063</td><td>Ford do Brasil Motors</td></tr><tr><td>64</td><td>DLR0064</td><td>Ford Europe Motors</td></tr><tr><td>65</td><td>DLR0065</td><td>Ford India Motors</td></tr><tr><td>66</td><td>DLR0066</td><td>Freightliner Motors</td></tr><tr><td>67</td><td>DLR0067</td><td>FSO Motors</td></tr><tr><td>68</td><td>DLR0068</td><td>GAZ Motors</td></tr><tr><td>69</td><td>DLR0069</td><td>Geo Motors</td></tr><tr><td>70</td><td>DLR0070</td><td>Gilbern Motors</td></tr><tr><td>71</td><td>DLR0071</td><td>Ginetta Motors</td></tr><tr><td>72</td><td>DLR0072</td><td>Glas Motors</td></tr><tr><td>73</td><td>DLR0073</td><td>GMC Motors</td></tr><tr><td>74</td><td>DLR0074</td><td>GTA Spano Motors</td></tr><tr><td>75</td><td>DLR0075</td><td>Gumpert Motors</td></tr><tr><td>76</td><td>DLR0076</td><td>Healey Motors</td></tr><tr><td>77</td><td>DLR0077</td><td>Heinkel Motors</td></tr><tr><td>78</td><td>DLR0078</td><td>Hennessey Motors</td></tr><tr><td>79</td><td>DLR0079</td><td>Hillman Motors</td></tr><tr><td>80</td><td>DLR0080</td><td>Hindustan Motors</td></tr><tr><td>81</td><td>DLR0081</td><td>Holden Motors</td></tr><tr><td>82</td><td>DLR0082</td><td>Honda Motors</td></tr><tr><td>83</td><td>DLR0083</td><td>Honda India Motors</td></tr><tr><td>84</td><td>DLR0084</td><td>Hudson Motors</td></tr><tr><td>85</td><td>DLR0085</td><td>Humber Motors</td></tr><tr><td>86</td><td>DLR0086</td><td>Hummer Motors</td></tr><tr><td>87</td><td>DLR0087</td><td>Hyundai Motors</td></tr><tr><td>88</td><td>DLR0088</td><td>IFA (including Trabant, Wartburg, Barkas) Motors</td></tr><tr><td>89</td><td>DLR0089</td><td>Infiniti Motors</td></tr><tr><td>90</td><td>DLR0090</td><td>null</td></tr><tr><td>91</td><td>DLR0091</td><td>Invicta Motors</td></tr><tr><td>92</td><td>DLR0092</td><td>Isdera Motors</td></tr><tr><td>93</td><td>DLR0093</td><td>Iso Motors</td></tr><tr><td>94</td><td>DLR0094</td><td>Isotta Fraschini Motors</td></tr><tr><td>95</td><td>DLR0095</td><td>Isuzu Motors</td></tr><tr><td>96</td><td>DLR0096</td><td>Iveco Motors</td></tr><tr><td>97</td><td>DLR0097</td><td>Jaguar Motors</td></tr><tr><td>98</td><td>DLR0098</td><td>Jeep Motors</td></tr><tr><td>99</td><td>DLR0099</td><td>Jensen Motors</td></tr><tr><td>100</td><td>DLR0100</td><td>JPX Motors</td></tr><tr><td>101</td><td>DLR0101</td><td>Kia Motors</td></tr><tr><td>102</td><td>DLR0102</td><td>Koenigsegg Motors</td></tr><tr><td>103</td><td>DLR0103</td><td>KTM Motors</td></tr><tr><td>104</td><td>DLR0104</td><td>Lada Motors</td></tr><tr><td>105</td><td>DLR0105</td><td>Lamborghini Motors</td></tr><tr><td>106</td><td>DLR0106</td><td>Lancia Motors</td></tr><tr><td>107</td><td>DLR0107</td><td>Land Rover Motors</td></tr><tr><td>108</td><td>DLR0108</td><td>Lexus Motors</td></tr><tr><td>109</td><td>DLR0109</td><td>Ligier Motors</td></tr><tr><td>110</td><td>DLR0110</td><td>Lincoln Motors</td></tr><tr><td>111</td><td>DLR0111</td><td>Lotus Motors</td></tr><tr><td>112</td><td>DLR0112</td><td>LTI Motors</td></tr><tr><td>113</td><td>DLR0113</td><td>LuAZ Motors</td></tr><tr><td>114</td><td>DLR0114</td><td>Lynx Motors</td></tr><tr><td>115</td><td>DLR0115</td><td>Mahindra Motors</td></tr><tr><td>116</td><td>DLR0116</td><td>Marcos Motors</td></tr><tr><td>117</td><td>DLR0117</td><td>Marlin Motors</td></tr><tr><td>118</td><td>DLR0118</td><td>Maruti Motors</td></tr><tr><td>119</td><td>DLR0119</td><td>Maserati Motors</td></tr><tr><td>120</td><td>DLR0120</td><td>Mastretta Motors</td></tr><tr><td>121</td><td>DLR0121</td><td>Matra (including Deutsch-Bonnet, René Bonnet) Motors</td></tr><tr><td>122</td><td>DLR0122</td><td>Mazda Motors</td></tr><tr><td>123</td><td>DLR0123</td><td>Mazzanti Motors</td></tr><tr><td>124</td><td>DLR0124</td><td>McLaren Motors</td></tr><tr><td>125</td><td>DLR0125</td><td>Mercedes-Benz (including Maybach) Motors</td></tr><tr><td>126</td><td>DLR0126</td><td>Mercury Motors</td></tr><tr><td>127</td><td>DLR0127</td><td>Merkur Motors</td></tr><tr><td>128</td><td>DLR0128</td><td>Messerschmitt Motors</td></tr><tr><td>129</td><td>DLR0129</td><td>Mia Motors</td></tr><tr><td>130</td><td>DLR0130</td><td>Micro Motors</td></tr><tr><td>131</td><td>DLR0131</td><td>Mini Motors</td></tr><tr><td>132</td><td>DLR0132</td><td>Mitsubishi Motors</td></tr><tr><td>133</td><td>DLR0133</td><td>Monica Motors</td></tr><tr><td>134</td><td>DLR0134</td><td>Monteverdi Motors</td></tr><tr><td>135</td><td>DLR0135</td><td>Morgan Motors</td></tr><tr><td>136</td><td>DLR0136</td><td>Moskwitch Motors</td></tr><tr><td>137</td><td>DLR0137</td><td>Nash Motors</td></tr><tr><td>138</td><td>DLR0138</td><td>Naza Motors</td></tr><tr><td>139</td><td>DLR0139</td><td>Nissan Motors</td></tr><tr><td>140</td><td>DLR0140</td><td>Nissan India Motors</td></tr><tr><td>141</td><td>DLR0141</td><td>Noble Motors</td></tr><tr><td>142</td><td>DLR0142</td><td>NSU Motors</td></tr><tr><td>143</td><td>DLR0143</td><td>Oldsmobile Motors</td></tr><tr><td>144</td><td>DLR0144</td><td>null</td></tr><tr><td>145</td><td>DLR0145</td><td>Opel Motors</td></tr><tr><td>146</td><td>DLR0146</td><td>Packard Motors</td></tr><tr><td>147</td><td>DLR0147</td><td>Pagani Motors</td></tr><tr><td>148</td><td>DLR0148</td><td>Panhard Motors</td></tr><tr><td>149</td><td>DLR0149</td><td>Panoz Motors</td></tr><tr><td>150</td><td>DLR0150</td><td>Panther Motors</td></tr><tr><td>151</td><td>DLR0151</td><td>Peel Motors</td></tr><tr><td>152</td><td>DLR0152</td><td>Perodua Motors</td></tr><tr><td>153</td><td>DLR0153</td><td>Peugeot Motors</td></tr><tr><td>154</td><td>DLR0154</td><td>PGO Motors</td></tr><tr><td>155</td><td>DLR0155</td><td>Piaggio Motors</td></tr><tr><td>156</td><td>DLR0156</td><td>Plymouth Motors</td></tr><tr><td>157</td><td>DLR0157</td><td>Polestar Motors</td></tr><tr><td>158</td><td>DLR0158</td><td>Pontiac, Asüna Motors</td></tr><tr><td>159</td><td>DLR0159</td><td>Porsche Motors</td></tr><tr><td>160</td><td>DLR0160</td><td>Premier Motors</td></tr><tr><td>161</td><td>DLR0161</td><td>Proton Motors</td></tr><tr><td>162</td><td>DLR0162</td><td>Puma Motors</td></tr><tr><td>163</td><td>DLR0163</td><td>Ranger Motors</td></tr><tr><td>164</td><td>DLR0164</td><td>Reliant Motors</td></tr><tr><td>165</td><td>DLR0165</td><td>Renault Motors</td></tr><tr><td>166</td><td>DLR0166</td><td>Rivian Motors</td></tr><tr><td>167</td><td>DLR0167</td><td>Rolls-Royce Motors</td></tr><tr><td>168</td><td>DLR0168</td><td>Saab Motors</td></tr><tr><td>169</td><td>DLR0169</td><td>SAIC Motor Motors</td></tr><tr><td>170</td><td>DLR0170</td><td>Saleen Motors</td></tr><tr><td>171</td><td>DLR0171</td><td>Samsung Motors</td></tr><tr><td>172</td><td>DLR0172</td><td>San Motors</td></tr><tr><td>173</td><td>DLR0173</td><td>Santa Matilde Motors</td></tr><tr><td>174</td><td>DLR0174</td><td>Santana Motors</td></tr><tr><td>175</td><td>DLR0175</td><td>Saturn Motors</td></tr><tr><td>176</td><td>DLR0176</td><td>Scion Motors</td></tr><tr><td>177</td><td>DLR0177</td><td>Seat Motors</td></tr><tr><td>178</td><td>DLR0178</td><td>Shelby SuperCars Motors</td></tr><tr><td>179</td><td>DLR0179</td><td>Simca Motors</td></tr><tr><td>180</td><td>DLR0180</td><td>Simca do Brasil Motors</td></tr><tr><td>181</td><td>DLR0181</td><td>Singer Motors</td></tr><tr><td>182</td><td>DLR0182</td><td>Skoda Motors</td></tr><tr><td>183</td><td>DLR0183</td><td>Smart Motors</td></tr><tr><td>184</td><td>DLR0184</td><td>Spyker Motors</td></tr><tr><td>185</td><td>DLR0185</td><td>SsangYong Motors</td></tr><tr><td>186</td><td>DLR0186</td><td>Standard-Triumph Motors</td></tr><tr><td>187</td><td>DLR0187</td><td>Studebaker Motors</td></tr><tr><td>188</td><td>DLR0188</td><td>Subaru Motors</td></tr><tr><td>189</td><td>DLR0189</td><td>Sunbeam Motors</td></tr><tr><td>190</td><td>DLR0190</td><td>Suzuki Motors</td></tr><tr><td>191</td><td>DLR0191</td><td>Tata Motors</td></tr><tr><td>192</td><td>DLR0192</td><td>Tatra Motors</td></tr><tr><td>193</td><td>DLR0193</td><td>Tazzari Motors</td></tr><tr><td>194</td><td>DLR0194</td><td>Tesla Motors</td></tr><tr><td>195</td><td>DLR0195</td><td>Tornado Motors</td></tr><tr><td>196</td><td>DLR0196</td><td>Toyota Motors</td></tr><tr><td>197</td><td>DLR0197</td><td>Toyota India Motors</td></tr><tr><td>198</td><td>DLR0198</td><td>Turner Motors</td></tr><tr><td>199</td><td>DLR0199</td><td>TVR Motors</td></tr><tr><td>200</td><td>DLR0200</td><td>UAZ Motors</td></tr><tr><td>201</td><td>DLR0201</td><td>Vauxhall Motors</td></tr><tr><td>202</td><td>DLR0202</td><td>Venturi Motors</td></tr><tr><td>203</td><td>DLR0203</td><td>Volkswagen Motors</td></tr><tr><td>204</td><td>DLR0204</td><td>Volkswagen do Brasil Motors</td></tr><tr><td>205</td><td>DLR0205</td><td>Volkswagen South Africa Motors</td></tr><tr><td>206</td><td>DLR0206</td><td>Volvo Motors</td></tr><tr><td>207</td><td>DLR0207</td><td>Westfield Motors</td></tr><tr><td>208</td><td>DLR0208</td><td>Wiesmann Motors</td></tr><tr><td>209</td><td>DLR0209</td><td>Zastava Motors</td></tr><tr><td>210</td><td>DLR0210</td><td>ZAZ Motors</td></tr><tr><td>211</td><td>DLR0211</td><td>ZIL Motors</td></tr><tr><td>212</td><td>DLR0212</td><td>null</td></tr><tr><td>213</td><td>DLR0213</td><td>DKW Motors</td></tr><tr><td>214</td><td>DLR0214</td><td>Horch Motors</td></tr><tr><td>215</td><td>DLR0215</td><td>Wanderer Motors</td></tr><tr><td>216</td><td>DLR0216</td><td>Maybach  Motors</td></tr><tr><td>217</td><td>DLR0217</td><td>Izh  Motors</td></tr><tr><td>218</td><td>DLR0218</td><td>Lagonda  Motors</td></tr><tr><td>219</td><td>DLR0219</td><td>MG  Motors</td></tr><tr><td>220</td><td>DLR0220</td><td>Morris  Motors</td></tr><tr><td>221</td><td>DLR0221</td><td>Austin  Motors</td></tr><tr><td>222</td><td>DLR0222</td><td>Riley  Motors</td></tr><tr><td>223</td><td>DLR0223</td><td>Wolseley  Motors</td></tr><tr><td>224</td><td>DLR0224</td><td>Standard  Motors</td></tr><tr><td>225</td><td>DLR0225</td><td>Talbot  Motors</td></tr><tr><td>226</td><td>DLR0226</td><td>Das Motors</td></tr><tr><td>227</td><td>DLR0227</td><td>Ramani Motors</td></tr><tr><td>228</td><td>DLR0228</td><td>Deccan Motors</td></tr><tr><td>229</td><td>DLR0229</td><td>Herald Motors</td></tr><tr><td>230</td><td>DLR0230</td><td>Zion Automobils</td></tr><tr><td>231</td><td>DLR0231</td><td>Atlantic Motor Company</td></tr><tr><td>232</td><td>DLR0232</td><td>2008 NRHP-listed</td></tr><tr><td>233</td><td>DLR0233</td><td>Blankinship Motor Company Building</td></tr><tr><td>234</td><td>DLR0234</td><td>Bohn Motor Company Automobile Dealership</td></tr><tr><td>235</td><td>DLR0235</td><td>Buick Automobile Company Building</td></tr><tr><td>236</td><td>DLR0236</td><td>Cadillac Automobile Company Building</td></tr><tr><td>237</td><td>DLR0237</td><td>Casa de cadillac</td></tr><tr><td>238</td><td>DLR0238</td><td>Cass Motor Sales</td></tr><tr><td>239</td><td>DLR0239</td><td>Claremore Auto Dealership</td></tr><tr><td>240</td><td>DLR0240</td><td>Clemens Automobile Company Building</td></tr><tr><td>241</td><td>DLR0241</td><td>Colman Automotive Building</td></tr><tr><td>242</td><td>DLR0242</td><td>H Street Playhouse</td></tr><tr><td>243</td><td>DLR0243</td><td>Howard Motor Company Building</td></tr><tr><td>244</td><td>DLR0244</td><td>Hupmobile Building</td></tr><tr><td>245</td><td>DLR0245</td><td>Jennings Ford Automobile Dealership</td></tr><tr><td>246</td><td>DLR0246</td><td>Jones Motor Company</td></tr><tr><td>247</td><td>DLR0247</td><td>Kindel Building</td></tr><tr><td>248</td><td>DLR0248</td><td>AC Cars Motors</td></tr><tr><td>249</td><td>DLR0249</td><td>Acura Motors</td></tr><tr><td>250</td><td>DLR0250</td><td>Aixam-Mega (including Arola) Motors</td></tr><tr><td>251</td><td>DLR0251</td><td>Alfa Romeo Motors</td></tr><tr><td>252</td><td>DLR0252</td><td>Alpine Motors</td></tr><tr><td>253</td><td>DLR0253</td><td>Alvis Motors</td></tr><tr><td>254</td><td>DLR0254</td><td>AMC, Eagle Motors</td></tr><tr><td>255</td><td>DLR0255</td><td>Anadol Motors</td></tr><tr><td>256</td><td>DLR0256</td><td>Ariel Motors</td></tr><tr><td>257</td><td>DLR0257</td><td>ARO Motors</td></tr><tr><td>258</td><td>DLR0258</td><td>null</td></tr><tr><td>259</td><td>DLR0259</td><td>Asia Motors Motors</td></tr><tr><td>260</td><td>DLR0260</td><td>Aston Martin Motors</td></tr><tr><td>261</td><td>DLR0261</td><td>Audi Motors</td></tr><tr><td>262</td><td>DLR0262</td><td>Autobianchi Motors</td></tr><tr><td>263</td><td>DLR0263</td><td>Auto-Union Motors</td></tr><tr><td>264</td><td>DLR0264</td><td>Auverland Motors</td></tr><tr><td>265</td><td>DLR0265</td><td>Bentley Motors</td></tr><tr><td>266</td><td>DLR0266</td><td>Bitter Motors</td></tr><tr><td>267</td><td>DLR0267</td><td>BMW Motors</td></tr></tbody></table></div>"
      ]
     },
     "metadata": {
      "application/vnd.databricks.v1+output": {
       "addedWidgets": {},
       "aggData": [],
       "aggError": "",
       "aggOverflow": false,
       "aggSchema": [],
       "aggSeriesLimitReached": false,
       "aggType": "",
       "arguments": {},
       "columnCustomDisplayInfos": {},
       "data": [
        [
         1,
         "DLR0001",
         "AC Cars Motors"
        ],
        [
         2,
         "DLR0002",
         "Acura Motors"
        ],
        [
         3,
         "DLR0003",
         "Aixam-Mega (including Arola) Motors"
        ],
        [
         4,
         "DLR0004",
         "Alfa Romeo Motors"
        ],
        [
         5,
         "DLR0005",
         "Alpine Motors"
        ],
        [
         6,
         "DLR0006",
         "Alvis Motors"
        ],
        [
         7,
         "DLR0007",
         "AMC, Eagle Motors"
        ],
        [
         8,
         "DLR0008",
         "Anadol Motors"
        ],
        [
         9,
         "DLR0009",
         "Ariel Motors"
        ],
        [
         10,
         "DLR0010",
         "ARO Motors"
        ],
        [
         11,
         "DLR0011",
         "Artega Motors"
        ],
        [
         12,
         "DLR0012",
         "Asia Motors Motors"
        ],
        [
         13,
         "DLR0013",
         "Aston Martin Motors"
        ],
        [
         14,
         "DLR0014",
         "Audi Motors"
        ],
        [
         15,
         "DLR0015",
         "Autobianchi Motors"
        ],
        [
         16,
         "DLR0016",
         "Auto-Union Motors"
        ],
        [
         17,
         "DLR0017",
         "Auverland Motors"
        ],
        [
         18,
         "DLR0018",
         "Bentley Motors"
        ],
        [
         19,
         "DLR0019",
         "Bitter Motors"
        ],
        [
         20,
         "DLR0020",
         "BMW Motors"
        ],
        [
         21,
         "DLR0021",
         "Bond Motors"
        ],
        [
         22,
         "DLR0022",
         "Borgward (including Goliath and Lloyd) Motors"
        ],
        [
         23,
         "DLR0023",
         "Bristol Motors"
        ],
        [
         24,
         "DLR0024",
         "British Leyland Motors"
        ],
        [
         25,
         "DLR0025",
         "Austin-Healey Motors"
        ],
        [
         26,
         "DLR0026",
         "Austin, Rover Motors"
        ],
        [
         27,
         "DLR0027",
         "Bugatti Motors"
        ],
        [
         28,
         "DLR0028",
         "Buick Motors"
        ],
        [
         29,
         "DLR0029",
         "Bytom Motors"
        ],
        [
         30,
         "DLR0030",
         "Cadillac Motors"
        ],
        [
         31,
         "DLR0031",
         "Caterham Motors"
        ],
        [
         32,
         "DLR0032",
         "Checker Motors"
        ],
        [
         33,
         "DLR0033",
         "Chevrolet Motors"
        ],
        [
         34,
         "DLR0034",
         "Chevrolet India Motors"
        ],
        [
         35,
         "DLR0035",
         "Chrysler Motors"
        ],
        [
         36,
         "DLR0036",
         "Chrysler Europe Motors"
        ],
        [
         37,
         "DLR0037",
         "Citroën Motors"
        ],
        [
         38,
         "DLR0038",
         "Cizeta-Moroder Motors"
        ],
        [
         39,
         "DLR0039",
         "Dacia Motors"
        ],
        [
         40,
         "DLR0040",
         "Daewoo, Saehan, Chevrolet Korea Motors"
        ],
        [
         41,
         "DLR0041",
         "DAF Motors"
        ],
        [
         42,
         "DLR0042",
         "Daihatsu Motors"
        ],
        [
         43,
         "DLR0043",
         "Daimler Motors"
        ],
        [
         44,
         "DLR0044",
         null
        ],
        [
         45,
         "DLR0045",
         "Delahaye Motors"
        ],
        [
         46,
         "DLR0046",
         "DeLorean Motors"
        ],
        [
         47,
         "DLR0047",
         "DeSoto Motors"
        ],
        [
         48,
         "DLR0048",
         "De Tomaso Motors"
        ],
        [
         49,
         "DLR0049",
         "Dodge Motors"
        ],
        [
         50,
         "DLR0050",
         "Donkervoort Motors"
        ],
        [
         51,
         "DLR0051",
         "Edsel Motors"
        ],
        [
         52,
         "DLR0052",
         "e.GO Mobile Motors"
        ],
        [
         53,
         "DLR0053",
         "Eicher Polaris Motors"
        ],
        [
         54,
         "DLR0054",
         "Elva Motors"
        ],
        [
         55,
         "DLR0055",
         "Facel Vega Motors"
        ],
        [
         56,
         "DLR0056",
         "Ferrari Motors"
        ],
        [
         57,
         "DLR0057",
         "Fiat Motors"
        ],
        [
         58,
         "DLR0058",
         "Fiat do Brasil Motors"
        ],
        [
         59,
         "DLR0059",
         "Fiat India Motors"
        ],
        [
         60,
         "DLR0060",
         "Fisker, Karma Motors"
        ],
        [
         61,
         "DLR0061",
         "Ford America Motors"
        ],
        [
         62,
         "DLR0062",
         "Ford Australia Motors"
        ],
        [
         63,
         "DLR0063",
         "Ford do Brasil Motors"
        ],
        [
         64,
         "DLR0064",
         "Ford Europe Motors"
        ],
        [
         65,
         "DLR0065",
         "Ford India Motors"
        ],
        [
         66,
         "DLR0066",
         "Freightliner Motors"
        ],
        [
         67,
         "DLR0067",
         "FSO Motors"
        ],
        [
         68,
         "DLR0068",
         "GAZ Motors"
        ],
        [
         69,
         "DLR0069",
         "Geo Motors"
        ],
        [
         70,
         "DLR0070",
         "Gilbern Motors"
        ],
        [
         71,
         "DLR0071",
         "Ginetta Motors"
        ],
        [
         72,
         "DLR0072",
         "Glas Motors"
        ],
        [
         73,
         "DLR0073",
         "GMC Motors"
        ],
        [
         74,
         "DLR0074",
         "GTA Spano Motors"
        ],
        [
         75,
         "DLR0075",
         "Gumpert Motors"
        ],
        [
         76,
         "DLR0076",
         "Healey Motors"
        ],
        [
         77,
         "DLR0077",
         "Heinkel Motors"
        ],
        [
         78,
         "DLR0078",
         "Hennessey Motors"
        ],
        [
         79,
         "DLR0079",
         "Hillman Motors"
        ],
        [
         80,
         "DLR0080",
         "Hindustan Motors"
        ],
        [
         81,
         "DLR0081",
         "Holden Motors"
        ],
        [
         82,
         "DLR0082",
         "Honda Motors"
        ],
        [
         83,
         "DLR0083",
         "Honda India Motors"
        ],
        [
         84,
         "DLR0084",
         "Hudson Motors"
        ],
        [
         85,
         "DLR0085",
         "Humber Motors"
        ],
        [
         86,
         "DLR0086",
         "Hummer Motors"
        ],
        [
         87,
         "DLR0087",
         "Hyundai Motors"
        ],
        [
         88,
         "DLR0088",
         "IFA (including Trabant, Wartburg, Barkas) Motors"
        ],
        [
         89,
         "DLR0089",
         "Infiniti Motors"
        ],
        [
         90,
         "DLR0090",
         null
        ],
        [
         91,
         "DLR0091",
         "Invicta Motors"
        ],
        [
         92,
         "DLR0092",
         "Isdera Motors"
        ],
        [
         93,
         "DLR0093",
         "Iso Motors"
        ],
        [
         94,
         "DLR0094",
         "Isotta Fraschini Motors"
        ],
        [
         95,
         "DLR0095",
         "Isuzu Motors"
        ],
        [
         96,
         "DLR0096",
         "Iveco Motors"
        ],
        [
         97,
         "DLR0097",
         "Jaguar Motors"
        ],
        [
         98,
         "DLR0098",
         "Jeep Motors"
        ],
        [
         99,
         "DLR0099",
         "Jensen Motors"
        ],
        [
         100,
         "DLR0100",
         "JPX Motors"
        ],
        [
         101,
         "DLR0101",
         "Kia Motors"
        ],
        [
         102,
         "DLR0102",
         "Koenigsegg Motors"
        ],
        [
         103,
         "DLR0103",
         "KTM Motors"
        ],
        [
         104,
         "DLR0104",
         "Lada Motors"
        ],
        [
         105,
         "DLR0105",
         "Lamborghini Motors"
        ],
        [
         106,
         "DLR0106",
         "Lancia Motors"
        ],
        [
         107,
         "DLR0107",
         "Land Rover Motors"
        ],
        [
         108,
         "DLR0108",
         "Lexus Motors"
        ],
        [
         109,
         "DLR0109",
         "Ligier Motors"
        ],
        [
         110,
         "DLR0110",
         "Lincoln Motors"
        ],
        [
         111,
         "DLR0111",
         "Lotus Motors"
        ],
        [
         112,
         "DLR0112",
         "LTI Motors"
        ],
        [
         113,
         "DLR0113",
         "LuAZ Motors"
        ],
        [
         114,
         "DLR0114",
         "Lynx Motors"
        ],
        [
         115,
         "DLR0115",
         "Mahindra Motors"
        ],
        [
         116,
         "DLR0116",
         "Marcos Motors"
        ],
        [
         117,
         "DLR0117",
         "Marlin Motors"
        ],
        [
         118,
         "DLR0118",
         "Maruti Motors"
        ],
        [
         119,
         "DLR0119",
         "Maserati Motors"
        ],
        [
         120,
         "DLR0120",
         "Mastretta Motors"
        ],
        [
         121,
         "DLR0121",
         "Matra (including Deutsch-Bonnet, René Bonnet) Motors"
        ],
        [
         122,
         "DLR0122",
         "Mazda Motors"
        ],
        [
         123,
         "DLR0123",
         "Mazzanti Motors"
        ],
        [
         124,
         "DLR0124",
         "McLaren Motors"
        ],
        [
         125,
         "DLR0125",
         "Mercedes-Benz (including Maybach) Motors"
        ],
        [
         126,
         "DLR0126",
         "Mercury Motors"
        ],
        [
         127,
         "DLR0127",
         "Merkur Motors"
        ],
        [
         128,
         "DLR0128",
         "Messerschmitt Motors"
        ],
        [
         129,
         "DLR0129",
         "Mia Motors"
        ],
        [
         130,
         "DLR0130",
         "Micro Motors"
        ],
        [
         131,
         "DLR0131",
         "Mini Motors"
        ],
        [
         132,
         "DLR0132",
         "Mitsubishi Motors"
        ],
        [
         133,
         "DLR0133",
         "Monica Motors"
        ],
        [
         134,
         "DLR0134",
         "Monteverdi Motors"
        ],
        [
         135,
         "DLR0135",
         "Morgan Motors"
        ],
        [
         136,
         "DLR0136",
         "Moskwitch Motors"
        ],
        [
         137,
         "DLR0137",
         "Nash Motors"
        ],
        [
         138,
         "DLR0138",
         "Naza Motors"
        ],
        [
         139,
         "DLR0139",
         "Nissan Motors"
        ],
        [
         140,
         "DLR0140",
         "Nissan India Motors"
        ],
        [
         141,
         "DLR0141",
         "Noble Motors"
        ],
        [
         142,
         "DLR0142",
         "NSU Motors"
        ],
        [
         143,
         "DLR0143",
         "Oldsmobile Motors"
        ],
        [
         144,
         "DLR0144",
         null
        ],
        [
         145,
         "DLR0145",
         "Opel Motors"
        ],
        [
         146,
         "DLR0146",
         "Packard Motors"
        ],
        [
         147,
         "DLR0147",
         "Pagani Motors"
        ],
        [
         148,
         "DLR0148",
         "Panhard Motors"
        ],
        [
         149,
         "DLR0149",
         "Panoz Motors"
        ],
        [
         150,
         "DLR0150",
         "Panther Motors"
        ],
        [
         151,
         "DLR0151",
         "Peel Motors"
        ],
        [
         152,
         "DLR0152",
         "Perodua Motors"
        ],
        [
         153,
         "DLR0153",
         "Peugeot Motors"
        ],
        [
         154,
         "DLR0154",
         "PGO Motors"
        ],
        [
         155,
         "DLR0155",
         "Piaggio Motors"
        ],
        [
         156,
         "DLR0156",
         "Plymouth Motors"
        ],
        [
         157,
         "DLR0157",
         "Polestar Motors"
        ],
        [
         158,
         "DLR0158",
         "Pontiac, Asüna Motors"
        ],
        [
         159,
         "DLR0159",
         "Porsche Motors"
        ],
        [
         160,
         "DLR0160",
         "Premier Motors"
        ],
        [
         161,
         "DLR0161",
         "Proton Motors"
        ],
        [
         162,
         "DLR0162",
         "Puma Motors"
        ],
        [
         163,
         "DLR0163",
         "Ranger Motors"
        ],
        [
         164,
         "DLR0164",
         "Reliant Motors"
        ],
        [
         165,
         "DLR0165",
         "Renault Motors"
        ],
        [
         166,
         "DLR0166",
         "Rivian Motors"
        ],
        [
         167,
         "DLR0167",
         "Rolls-Royce Motors"
        ],
        [
         168,
         "DLR0168",
         "Saab Motors"
        ],
        [
         169,
         "DLR0169",
         "SAIC Motor Motors"
        ],
        [
         170,
         "DLR0170",
         "Saleen Motors"
        ],
        [
         171,
         "DLR0171",
         "Samsung Motors"
        ],
        [
         172,
         "DLR0172",
         "San Motors"
        ],
        [
         173,
         "DLR0173",
         "Santa Matilde Motors"
        ],
        [
         174,
         "DLR0174",
         "Santana Motors"
        ],
        [
         175,
         "DLR0175",
         "Saturn Motors"
        ],
        [
         176,
         "DLR0176",
         "Scion Motors"
        ],
        [
         177,
         "DLR0177",
         "Seat Motors"
        ],
        [
         178,
         "DLR0178",
         "Shelby SuperCars Motors"
        ],
        [
         179,
         "DLR0179",
         "Simca Motors"
        ],
        [
         180,
         "DLR0180",
         "Simca do Brasil Motors"
        ],
        [
         181,
         "DLR0181",
         "Singer Motors"
        ],
        [
         182,
         "DLR0182",
         "Skoda Motors"
        ],
        [
         183,
         "DLR0183",
         "Smart Motors"
        ],
        [
         184,
         "DLR0184",
         "Spyker Motors"
        ],
        [
         185,
         "DLR0185",
         "SsangYong Motors"
        ],
        [
         186,
         "DLR0186",
         "Standard-Triumph Motors"
        ],
        [
         187,
         "DLR0187",
         "Studebaker Motors"
        ],
        [
         188,
         "DLR0188",
         "Subaru Motors"
        ],
        [
         189,
         "DLR0189",
         "Sunbeam Motors"
        ],
        [
         190,
         "DLR0190",
         "Suzuki Motors"
        ],
        [
         191,
         "DLR0191",
         "Tata Motors"
        ],
        [
         192,
         "DLR0192",
         "Tatra Motors"
        ],
        [
         193,
         "DLR0193",
         "Tazzari Motors"
        ],
        [
         194,
         "DLR0194",
         "Tesla Motors"
        ],
        [
         195,
         "DLR0195",
         "Tornado Motors"
        ],
        [
         196,
         "DLR0196",
         "Toyota Motors"
        ],
        [
         197,
         "DLR0197",
         "Toyota India Motors"
        ],
        [
         198,
         "DLR0198",
         "Turner Motors"
        ],
        [
         199,
         "DLR0199",
         "TVR Motors"
        ],
        [
         200,
         "DLR0200",
         "UAZ Motors"
        ],
        [
         201,
         "DLR0201",
         "Vauxhall Motors"
        ],
        [
         202,
         "DLR0202",
         "Venturi Motors"
        ],
        [
         203,
         "DLR0203",
         "Volkswagen Motors"
        ],
        [
         204,
         "DLR0204",
         "Volkswagen do Brasil Motors"
        ],
        [
         205,
         "DLR0205",
         "Volkswagen South Africa Motors"
        ],
        [
         206,
         "DLR0206",
         "Volvo Motors"
        ],
        [
         207,
         "DLR0207",
         "Westfield Motors"
        ],
        [
         208,
         "DLR0208",
         "Wiesmann Motors"
        ],
        [
         209,
         "DLR0209",
         "Zastava Motors"
        ],
        [
         210,
         "DLR0210",
         "ZAZ Motors"
        ],
        [
         211,
         "DLR0211",
         "ZIL Motors"
        ],
        [
         212,
         "DLR0212",
         null
        ],
        [
         213,
         "DLR0213",
         "DKW Motors"
        ],
        [
         214,
         "DLR0214",
         "Horch Motors"
        ],
        [
         215,
         "DLR0215",
         "Wanderer Motors"
        ],
        [
         216,
         "DLR0216",
         "Maybach  Motors"
        ],
        [
         217,
         "DLR0217",
         "Izh  Motors"
        ],
        [
         218,
         "DLR0218",
         "Lagonda  Motors"
        ],
        [
         219,
         "DLR0219",
         "MG  Motors"
        ],
        [
         220,
         "DLR0220",
         "Morris  Motors"
        ],
        [
         221,
         "DLR0221",
         "Austin  Motors"
        ],
        [
         222,
         "DLR0222",
         "Riley  Motors"
        ],
        [
         223,
         "DLR0223",
         "Wolseley  Motors"
        ],
        [
         224,
         "DLR0224",
         "Standard  Motors"
        ],
        [
         225,
         "DLR0225",
         "Talbot  Motors"
        ],
        [
         226,
         "DLR0226",
         "Das Motors"
        ],
        [
         227,
         "DLR0227",
         "Ramani Motors"
        ],
        [
         228,
         "DLR0228",
         "Deccan Motors"
        ],
        [
         229,
         "DLR0229",
         "Herald Motors"
        ],
        [
         230,
         "DLR0230",
         "Zion Automobils"
        ],
        [
         231,
         "DLR0231",
         "Atlantic Motor Company"
        ],
        [
         232,
         "DLR0232",
         "2008 NRHP-listed"
        ],
        [
         233,
         "DLR0233",
         "Blankinship Motor Company Building"
        ],
        [
         234,
         "DLR0234",
         "Bohn Motor Company Automobile Dealership"
        ],
        [
         235,
         "DLR0235",
         "Buick Automobile Company Building"
        ],
        [
         236,
         "DLR0236",
         "Cadillac Automobile Company Building"
        ],
        [
         237,
         "DLR0237",
         "Casa de cadillac"
        ],
        [
         238,
         "DLR0238",
         "Cass Motor Sales"
        ],
        [
         239,
         "DLR0239",
         "Claremore Auto Dealership"
        ],
        [
         240,
         "DLR0240",
         "Clemens Automobile Company Building"
        ],
        [
         241,
         "DLR0241",
         "Colman Automotive Building"
        ],
        [
         242,
         "DLR0242",
         "H Street Playhouse"
        ],
        [
         243,
         "DLR0243",
         "Howard Motor Company Building"
        ],
        [
         244,
         "DLR0244",
         "Hupmobile Building"
        ],
        [
         245,
         "DLR0245",
         "Jennings Ford Automobile Dealership"
        ],
        [
         246,
         "DLR0246",
         "Jones Motor Company"
        ],
        [
         247,
         "DLR0247",
         "Kindel Building"
        ],
        [
         248,
         "DLR0248",
         "AC Cars Motors"
        ],
        [
         249,
         "DLR0249",
         "Acura Motors"
        ],
        [
         250,
         "DLR0250",
         "Aixam-Mega (including Arola) Motors"
        ],
        [
         251,
         "DLR0251",
         "Alfa Romeo Motors"
        ],
        [
         252,
         "DLR0252",
         "Alpine Motors"
        ],
        [
         253,
         "DLR0253",
         "Alvis Motors"
        ],
        [
         254,
         "DLR0254",
         "AMC, Eagle Motors"
        ],
        [
         255,
         "DLR0255",
         "Anadol Motors"
        ],
        [
         256,
         "DLR0256",
         "Ariel Motors"
        ],
        [
         257,
         "DLR0257",
         "ARO Motors"
        ],
        [
         258,
         "DLR0258",
         null
        ],
        [
         259,
         "DLR0259",
         "Asia Motors Motors"
        ],
        [
         260,
         "DLR0260",
         "Aston Martin Motors"
        ],
        [
         261,
         "DLR0261",
         "Audi Motors"
        ],
        [
         262,
         "DLR0262",
         "Autobianchi Motors"
        ],
        [
         263,
         "DLR0263",
         "Auto-Union Motors"
        ],
        [
         264,
         "DLR0264",
         "Auverland Motors"
        ],
        [
         265,
         "DLR0265",
         "Bentley Motors"
        ],
        [
         266,
         "DLR0266",
         "Bitter Motors"
        ],
        [
         267,
         "DLR0267",
         "BMW Motors"
        ]
       ],
       "datasetInfos": [],
       "dbfsResultPath": null,
       "isJsonSchema": true,
       "metadata": {},
       "overflow": false,
       "plotOptions": {
        "customPlotOptions": {},
        "displayType": "table",
        "pivotAggregation": null,
        "pivotColumns": null,
        "xColumns": null,
        "yColumns": null
       },
       "removedWidgets": [],
       "schema": [
        {
         "metadata": "{}",
         "name": "dealer_key",
         "type": "\"integer\""
        },
        {
         "metadata": "{}",
         "name": "Dealer_ID",
         "type": "\"string\""
        },
        {
         "metadata": "{}",
         "name": "DealerName",
         "type": "\"string\""
        }
       ],
       "type": "table"
      }
     },
     "output_type": "display_data"
    }
   ],
   "source": [
    "df_existing_clean = df_existing_only.select(\"dealer_key\", \"Dealer_ID\", \"DealerName\")\n",
    "df_final_dealer = df_existing_clean.union(df_new_with_keys)\n",
    "df_final_dealer.display()\n"
   ]
  },
  {
   "cell_type": "markdown",
   "metadata": {
    "application/vnd.databricks.v1+cell": {
     "cellMetadata": {},
     "inputWidgets": {},
     "nuid": "2c73fd5d-689d-4dac-a263-cc55c27646ec",
     "showTitle": false,
     "tableResultSettingsMap": {},
     "title": ""
    }
   },
   "source": [
    "# SCD TYPE 1 - UPSERT "
   ]
  },
  {
   "cell_type": "code",
   "execution_count": 0,
   "metadata": {
    "application/vnd.databricks.v1+cell": {
     "cellMetadata": {
      "byteLimit": 2048000,
      "rowLimit": 10000
     },
     "inputWidgets": {},
     "nuid": "28402e19-4b3d-44bf-8f13-a6e0404e756d",
     "showTitle": false,
     "tableResultSettingsMap": {},
     "title": ""
    }
   },
   "outputs": [
    {
     "output_type": "stream",
     "name": "stderr",
     "output_type": "stream",
     "text": [
      "/databricks/python/lib/python3.11/site-packages/pyspark/sql/connect/expressions.py:1017: UserWarning: WARN WindowExpression: No Partition Defined for Window operation! Moving all data to a single partition, this can cause serious performance degradation.\n  warnings.warn(\n"
     ]
    }
   ],
   "source": [
    "from delta.tables import DeltaTable\n",
    "\n",
    "gold_path_dealer = \"abfss://gold@datalakecarsrj.dfs.core.windows.net/dim_dealer\"\n",
    "\n",
    "if spark.catalog.tableExists(\"cars_catalog.gold.dim_dealer\"):\n",
    "    delta_tbl = DeltaTable.forPath(spark, gold_path_dealer)\n",
    "    delta_tbl.alias(\"trg\").merge(\n",
    "        df_final_dealer.alias(\"src\"),\n",
    "        \"trg.dealer_key = src.dealer_key\"\n",
    "    ).whenMatchedUpdateAll() \\\n",
    "     .whenNotMatchedInsertAll() \\\n",
    "     .execute()\n",
    "else:\n",
    "    df_final_dealer.write.format(\"delta\") \\\n",
    "        .mode(\"overwrite\") \\\n",
    "        .option(\"path\", gold_path_dealer) \\\n",
    "        .saveAsTable(\"cars_catalog.gold.dim_dealer\")\n"
   ]
  },
  {
   "cell_type": "code",
   "execution_count": 0,
   "metadata": {
    "application/vnd.databricks.v1+cell": {
     "cellMetadata": {
      "byteLimit": 2048000,
      "implicitDf": true,
      "rowLimit": 10000
     },
     "inputWidgets": {},
     "nuid": "5af6b517-039b-47dd-888b-36125dc8a660",
     "showTitle": false,
     "tableResultSettingsMap": {
      "0": {
       "dataGridStateBlob": "{\"version\":1,\"tableState\":{\"columnPinning\":{\"left\":[\"#row_number#\"],\"right\":[]},\"columnSizing\":{},\"columnVisibility\":{}},\"settings\":{\"columns\":{}},\"syncTimestamp\":1753693857500}",
       "filterBlob": null,
       "queryPlanFiltersBlob": null,
       "tableResultIndex": 0
      }
     },
     "title": ""
    }
   },
   "outputs": [
    {
     "output_type": "display_data",
     "data": {
      "text/html": [
       "<style scoped>\n",
       "  .table-result-container {\n",
       "    max-height: 300px;\n",
       "    overflow: auto;\n",
       "  }\n",
       "  table, th, td {\n",
       "    border: 1px solid black;\n",
       "    border-collapse: collapse;\n",
       "  }\n",
       "  th, td {\n",
       "    padding: 5px;\n",
       "  }\n",
       "  th {\n",
       "    text-align: left;\n",
       "  }\n",
       "</style><div class='table-result-container'><table class='table-result'><thead style='background-color: white'><tr><th>dealer_key</th><th>Dealer_ID</th><th>DealerName</th></tr></thead><tbody><tr><td>1</td><td>DLR0001</td><td>AC Cars Motors</td></tr><tr><td>2</td><td>DLR0002</td><td>Acura Motors</td></tr><tr><td>3</td><td>DLR0003</td><td>Aixam-Mega (including Arola) Motors</td></tr><tr><td>4</td><td>DLR0004</td><td>Alfa Romeo Motors</td></tr><tr><td>5</td><td>DLR0005</td><td>Alpine Motors</td></tr><tr><td>6</td><td>DLR0006</td><td>Alvis Motors</td></tr><tr><td>7</td><td>DLR0007</td><td>AMC, Eagle Motors</td></tr><tr><td>8</td><td>DLR0008</td><td>Anadol Motors</td></tr><tr><td>9</td><td>DLR0009</td><td>Ariel Motors</td></tr><tr><td>10</td><td>DLR0010</td><td>ARO Motors</td></tr><tr><td>11</td><td>DLR0011</td><td>Artega Motors</td></tr><tr><td>12</td><td>DLR0012</td><td>Asia Motors Motors</td></tr><tr><td>13</td><td>DLR0013</td><td>Aston Martin Motors</td></tr><tr><td>14</td><td>DLR0014</td><td>Audi Motors</td></tr><tr><td>15</td><td>DLR0015</td><td>Autobianchi Motors</td></tr><tr><td>16</td><td>DLR0016</td><td>Auto-Union Motors</td></tr><tr><td>17</td><td>DLR0017</td><td>Auverland Motors</td></tr><tr><td>18</td><td>DLR0018</td><td>Bentley Motors</td></tr><tr><td>19</td><td>DLR0019</td><td>Bitter Motors</td></tr><tr><td>20</td><td>DLR0020</td><td>BMW Motors</td></tr><tr><td>21</td><td>DLR0021</td><td>Bond Motors</td></tr><tr><td>22</td><td>DLR0022</td><td>Borgward (including Goliath and Lloyd) Motors</td></tr><tr><td>23</td><td>DLR0023</td><td>Bristol Motors</td></tr><tr><td>24</td><td>DLR0024</td><td>British Leyland Motors</td></tr><tr><td>25</td><td>DLR0025</td><td>Austin-Healey Motors</td></tr><tr><td>26</td><td>DLR0026</td><td>Austin, Rover Motors</td></tr><tr><td>27</td><td>DLR0027</td><td>Bugatti Motors</td></tr><tr><td>28</td><td>DLR0028</td><td>Buick Motors</td></tr><tr><td>29</td><td>DLR0029</td><td>Bytom Motors</td></tr><tr><td>30</td><td>DLR0030</td><td>Cadillac Motors</td></tr><tr><td>31</td><td>DLR0031</td><td>Caterham Motors</td></tr><tr><td>32</td><td>DLR0032</td><td>Checker Motors</td></tr><tr><td>33</td><td>DLR0033</td><td>Chevrolet Motors</td></tr><tr><td>34</td><td>DLR0034</td><td>Chevrolet India Motors</td></tr><tr><td>35</td><td>DLR0035</td><td>Chrysler Motors</td></tr><tr><td>36</td><td>DLR0036</td><td>Chrysler Europe Motors</td></tr><tr><td>37</td><td>DLR0037</td><td>Citroën Motors</td></tr><tr><td>38</td><td>DLR0038</td><td>Cizeta-Moroder Motors</td></tr><tr><td>39</td><td>DLR0039</td><td>Dacia Motors</td></tr><tr><td>40</td><td>DLR0040</td><td>Daewoo, Saehan, Chevrolet Korea Motors</td></tr><tr><td>41</td><td>DLR0041</td><td>DAF Motors</td></tr><tr><td>42</td><td>DLR0042</td><td>Daihatsu Motors</td></tr><tr><td>43</td><td>DLR0043</td><td>Daimler Motors</td></tr><tr><td>44</td><td>DLR0044</td><td>null</td></tr><tr><td>45</td><td>DLR0045</td><td>Delahaye Motors</td></tr><tr><td>46</td><td>DLR0046</td><td>DeLorean Motors</td></tr><tr><td>47</td><td>DLR0047</td><td>DeSoto Motors</td></tr><tr><td>48</td><td>DLR0048</td><td>De Tomaso Motors</td></tr><tr><td>49</td><td>DLR0049</td><td>Dodge Motors</td></tr><tr><td>50</td><td>DLR0050</td><td>Donkervoort Motors</td></tr><tr><td>51</td><td>DLR0051</td><td>Edsel Motors</td></tr><tr><td>52</td><td>DLR0052</td><td>e.GO Mobile Motors</td></tr><tr><td>53</td><td>DLR0053</td><td>Eicher Polaris Motors</td></tr><tr><td>54</td><td>DLR0054</td><td>Elva Motors</td></tr><tr><td>55</td><td>DLR0055</td><td>Facel Vega Motors</td></tr><tr><td>56</td><td>DLR0056</td><td>Ferrari Motors</td></tr><tr><td>57</td><td>DLR0057</td><td>Fiat Motors</td></tr><tr><td>58</td><td>DLR0058</td><td>Fiat do Brasil Motors</td></tr><tr><td>59</td><td>DLR0059</td><td>Fiat India Motors</td></tr><tr><td>60</td><td>DLR0060</td><td>Fisker, Karma Motors</td></tr><tr><td>61</td><td>DLR0061</td><td>Ford America Motors</td></tr><tr><td>62</td><td>DLR0062</td><td>Ford Australia Motors</td></tr><tr><td>63</td><td>DLR0063</td><td>Ford do Brasil Motors</td></tr><tr><td>64</td><td>DLR0064</td><td>Ford Europe Motors</td></tr><tr><td>65</td><td>DLR0065</td><td>Ford India Motors</td></tr><tr><td>66</td><td>DLR0066</td><td>Freightliner Motors</td></tr><tr><td>67</td><td>DLR0067</td><td>FSO Motors</td></tr><tr><td>68</td><td>DLR0068</td><td>GAZ Motors</td></tr><tr><td>69</td><td>DLR0069</td><td>Geo Motors</td></tr><tr><td>70</td><td>DLR0070</td><td>Gilbern Motors</td></tr><tr><td>71</td><td>DLR0071</td><td>Ginetta Motors</td></tr><tr><td>72</td><td>DLR0072</td><td>Glas Motors</td></tr><tr><td>73</td><td>DLR0073</td><td>GMC Motors</td></tr><tr><td>74</td><td>DLR0074</td><td>GTA Spano Motors</td></tr><tr><td>75</td><td>DLR0075</td><td>Gumpert Motors</td></tr><tr><td>76</td><td>DLR0076</td><td>Healey Motors</td></tr><tr><td>77</td><td>DLR0077</td><td>Heinkel Motors</td></tr><tr><td>78</td><td>DLR0078</td><td>Hennessey Motors</td></tr><tr><td>79</td><td>DLR0079</td><td>Hillman Motors</td></tr><tr><td>80</td><td>DLR0080</td><td>Hindustan Motors</td></tr><tr><td>81</td><td>DLR0081</td><td>Holden Motors</td></tr><tr><td>82</td><td>DLR0082</td><td>Honda Motors</td></tr><tr><td>83</td><td>DLR0083</td><td>Honda India Motors</td></tr><tr><td>84</td><td>DLR0084</td><td>Hudson Motors</td></tr><tr><td>85</td><td>DLR0085</td><td>Humber Motors</td></tr><tr><td>86</td><td>DLR0086</td><td>Hummer Motors</td></tr><tr><td>87</td><td>DLR0087</td><td>Hyundai Motors</td></tr><tr><td>88</td><td>DLR0088</td><td>IFA (including Trabant, Wartburg, Barkas) Motors</td></tr><tr><td>89</td><td>DLR0089</td><td>Infiniti Motors</td></tr><tr><td>90</td><td>DLR0090</td><td>null</td></tr><tr><td>91</td><td>DLR0091</td><td>Invicta Motors</td></tr><tr><td>92</td><td>DLR0092</td><td>Isdera Motors</td></tr><tr><td>93</td><td>DLR0093</td><td>Iso Motors</td></tr><tr><td>94</td><td>DLR0094</td><td>Isotta Fraschini Motors</td></tr><tr><td>95</td><td>DLR0095</td><td>Isuzu Motors</td></tr><tr><td>96</td><td>DLR0096</td><td>Iveco Motors</td></tr><tr><td>97</td><td>DLR0097</td><td>Jaguar Motors</td></tr><tr><td>98</td><td>DLR0098</td><td>Jeep Motors</td></tr><tr><td>99</td><td>DLR0099</td><td>Jensen Motors</td></tr><tr><td>100</td><td>DLR0100</td><td>JPX Motors</td></tr><tr><td>101</td><td>DLR0101</td><td>Kia Motors</td></tr><tr><td>102</td><td>DLR0102</td><td>Koenigsegg Motors</td></tr><tr><td>103</td><td>DLR0103</td><td>KTM Motors</td></tr><tr><td>104</td><td>DLR0104</td><td>Lada Motors</td></tr><tr><td>105</td><td>DLR0105</td><td>Lamborghini Motors</td></tr><tr><td>106</td><td>DLR0106</td><td>Lancia Motors</td></tr><tr><td>107</td><td>DLR0107</td><td>Land Rover Motors</td></tr><tr><td>108</td><td>DLR0108</td><td>Lexus Motors</td></tr><tr><td>109</td><td>DLR0109</td><td>Ligier Motors</td></tr><tr><td>110</td><td>DLR0110</td><td>Lincoln Motors</td></tr><tr><td>111</td><td>DLR0111</td><td>Lotus Motors</td></tr><tr><td>112</td><td>DLR0112</td><td>LTI Motors</td></tr><tr><td>113</td><td>DLR0113</td><td>LuAZ Motors</td></tr><tr><td>114</td><td>DLR0114</td><td>Lynx Motors</td></tr><tr><td>115</td><td>DLR0115</td><td>Mahindra Motors</td></tr><tr><td>116</td><td>DLR0116</td><td>Marcos Motors</td></tr><tr><td>117</td><td>DLR0117</td><td>Marlin Motors</td></tr><tr><td>118</td><td>DLR0118</td><td>Maruti Motors</td></tr><tr><td>119</td><td>DLR0119</td><td>Maserati Motors</td></tr><tr><td>120</td><td>DLR0120</td><td>Mastretta Motors</td></tr><tr><td>121</td><td>DLR0121</td><td>Matra (including Deutsch-Bonnet, René Bonnet) Motors</td></tr><tr><td>122</td><td>DLR0122</td><td>Mazda Motors</td></tr><tr><td>123</td><td>DLR0123</td><td>Mazzanti Motors</td></tr><tr><td>124</td><td>DLR0124</td><td>McLaren Motors</td></tr><tr><td>125</td><td>DLR0125</td><td>Mercedes-Benz (including Maybach) Motors</td></tr><tr><td>126</td><td>DLR0126</td><td>Mercury Motors</td></tr><tr><td>127</td><td>DLR0127</td><td>Merkur Motors</td></tr><tr><td>128</td><td>DLR0128</td><td>Messerschmitt Motors</td></tr><tr><td>129</td><td>DLR0129</td><td>Mia Motors</td></tr><tr><td>130</td><td>DLR0130</td><td>Micro Motors</td></tr><tr><td>131</td><td>DLR0131</td><td>Mini Motors</td></tr><tr><td>132</td><td>DLR0132</td><td>Mitsubishi Motors</td></tr><tr><td>133</td><td>DLR0133</td><td>Monica Motors</td></tr><tr><td>134</td><td>DLR0134</td><td>Monteverdi Motors</td></tr><tr><td>135</td><td>DLR0135</td><td>Morgan Motors</td></tr><tr><td>136</td><td>DLR0136</td><td>Moskwitch Motors</td></tr><tr><td>137</td><td>DLR0137</td><td>Nash Motors</td></tr><tr><td>138</td><td>DLR0138</td><td>Naza Motors</td></tr><tr><td>139</td><td>DLR0139</td><td>Nissan Motors</td></tr><tr><td>140</td><td>DLR0140</td><td>Nissan India Motors</td></tr><tr><td>141</td><td>DLR0141</td><td>Noble Motors</td></tr><tr><td>142</td><td>DLR0142</td><td>NSU Motors</td></tr><tr><td>143</td><td>DLR0143</td><td>Oldsmobile Motors</td></tr><tr><td>144</td><td>DLR0144</td><td>null</td></tr><tr><td>145</td><td>DLR0145</td><td>Opel Motors</td></tr><tr><td>146</td><td>DLR0146</td><td>Packard Motors</td></tr><tr><td>147</td><td>DLR0147</td><td>Pagani Motors</td></tr><tr><td>148</td><td>DLR0148</td><td>Panhard Motors</td></tr><tr><td>149</td><td>DLR0149</td><td>Panoz Motors</td></tr><tr><td>150</td><td>DLR0150</td><td>Panther Motors</td></tr><tr><td>151</td><td>DLR0151</td><td>Peel Motors</td></tr><tr><td>152</td><td>DLR0152</td><td>Perodua Motors</td></tr><tr><td>153</td><td>DLR0153</td><td>Peugeot Motors</td></tr><tr><td>154</td><td>DLR0154</td><td>PGO Motors</td></tr><tr><td>155</td><td>DLR0155</td><td>Piaggio Motors</td></tr><tr><td>156</td><td>DLR0156</td><td>Plymouth Motors</td></tr><tr><td>157</td><td>DLR0157</td><td>Polestar Motors</td></tr><tr><td>158</td><td>DLR0158</td><td>Pontiac, Asüna Motors</td></tr><tr><td>159</td><td>DLR0159</td><td>Porsche Motors</td></tr><tr><td>160</td><td>DLR0160</td><td>Premier Motors</td></tr><tr><td>161</td><td>DLR0161</td><td>Proton Motors</td></tr><tr><td>162</td><td>DLR0162</td><td>Puma Motors</td></tr><tr><td>163</td><td>DLR0163</td><td>Ranger Motors</td></tr><tr><td>164</td><td>DLR0164</td><td>Reliant Motors</td></tr><tr><td>165</td><td>DLR0165</td><td>Renault Motors</td></tr><tr><td>166</td><td>DLR0166</td><td>Rivian Motors</td></tr><tr><td>167</td><td>DLR0167</td><td>Rolls-Royce Motors</td></tr><tr><td>168</td><td>DLR0168</td><td>Saab Motors</td></tr><tr><td>169</td><td>DLR0169</td><td>SAIC Motor Motors</td></tr><tr><td>170</td><td>DLR0170</td><td>Saleen Motors</td></tr><tr><td>171</td><td>DLR0171</td><td>Samsung Motors</td></tr><tr><td>172</td><td>DLR0172</td><td>San Motors</td></tr><tr><td>173</td><td>DLR0173</td><td>Santa Matilde Motors</td></tr><tr><td>174</td><td>DLR0174</td><td>Santana Motors</td></tr><tr><td>175</td><td>DLR0175</td><td>Saturn Motors</td></tr><tr><td>176</td><td>DLR0176</td><td>Scion Motors</td></tr><tr><td>177</td><td>DLR0177</td><td>Seat Motors</td></tr><tr><td>178</td><td>DLR0178</td><td>Shelby SuperCars Motors</td></tr><tr><td>179</td><td>DLR0179</td><td>Simca Motors</td></tr><tr><td>180</td><td>DLR0180</td><td>Simca do Brasil Motors</td></tr><tr><td>181</td><td>DLR0181</td><td>Singer Motors</td></tr><tr><td>182</td><td>DLR0182</td><td>Skoda Motors</td></tr><tr><td>183</td><td>DLR0183</td><td>Smart Motors</td></tr><tr><td>184</td><td>DLR0184</td><td>Spyker Motors</td></tr><tr><td>185</td><td>DLR0185</td><td>SsangYong Motors</td></tr><tr><td>186</td><td>DLR0186</td><td>Standard-Triumph Motors</td></tr><tr><td>187</td><td>DLR0187</td><td>Studebaker Motors</td></tr><tr><td>188</td><td>DLR0188</td><td>Subaru Motors</td></tr><tr><td>189</td><td>DLR0189</td><td>Sunbeam Motors</td></tr><tr><td>190</td><td>DLR0190</td><td>Suzuki Motors</td></tr><tr><td>191</td><td>DLR0191</td><td>Tata Motors</td></tr><tr><td>192</td><td>DLR0192</td><td>Tatra Motors</td></tr><tr><td>193</td><td>DLR0193</td><td>Tazzari Motors</td></tr><tr><td>194</td><td>DLR0194</td><td>Tesla Motors</td></tr><tr><td>195</td><td>DLR0195</td><td>Tornado Motors</td></tr><tr><td>196</td><td>DLR0196</td><td>Toyota Motors</td></tr><tr><td>197</td><td>DLR0197</td><td>Toyota India Motors</td></tr><tr><td>198</td><td>DLR0198</td><td>Turner Motors</td></tr><tr><td>199</td><td>DLR0199</td><td>TVR Motors</td></tr><tr><td>200</td><td>DLR0200</td><td>UAZ Motors</td></tr><tr><td>201</td><td>DLR0201</td><td>Vauxhall Motors</td></tr><tr><td>202</td><td>DLR0202</td><td>Venturi Motors</td></tr><tr><td>203</td><td>DLR0203</td><td>Volkswagen Motors</td></tr><tr><td>204</td><td>DLR0204</td><td>Volkswagen do Brasil Motors</td></tr><tr><td>205</td><td>DLR0205</td><td>Volkswagen South Africa Motors</td></tr><tr><td>206</td><td>DLR0206</td><td>Volvo Motors</td></tr><tr><td>207</td><td>DLR0207</td><td>Westfield Motors</td></tr><tr><td>208</td><td>DLR0208</td><td>Wiesmann Motors</td></tr><tr><td>209</td><td>DLR0209</td><td>Zastava Motors</td></tr><tr><td>210</td><td>DLR0210</td><td>ZAZ Motors</td></tr><tr><td>211</td><td>DLR0211</td><td>ZIL Motors</td></tr><tr><td>212</td><td>DLR0212</td><td>null</td></tr><tr><td>213</td><td>DLR0213</td><td>DKW Motors</td></tr><tr><td>214</td><td>DLR0214</td><td>Horch Motors</td></tr><tr><td>215</td><td>DLR0215</td><td>Wanderer Motors</td></tr><tr><td>216</td><td>DLR0216</td><td>Maybach  Motors</td></tr><tr><td>217</td><td>DLR0217</td><td>Izh  Motors</td></tr><tr><td>218</td><td>DLR0218</td><td>Lagonda  Motors</td></tr><tr><td>219</td><td>DLR0219</td><td>MG  Motors</td></tr><tr><td>220</td><td>DLR0220</td><td>Morris  Motors</td></tr><tr><td>221</td><td>DLR0221</td><td>Austin  Motors</td></tr><tr><td>222</td><td>DLR0222</td><td>Riley  Motors</td></tr><tr><td>223</td><td>DLR0223</td><td>Wolseley  Motors</td></tr><tr><td>224</td><td>DLR0224</td><td>Standard  Motors</td></tr><tr><td>225</td><td>DLR0225</td><td>Talbot  Motors</td></tr><tr><td>226</td><td>DLR0226</td><td>Das Motors</td></tr><tr><td>227</td><td>DLR0227</td><td>Ramani Motors</td></tr><tr><td>228</td><td>DLR0228</td><td>Deccan Motors</td></tr><tr><td>229</td><td>DLR0229</td><td>Herald Motors</td></tr><tr><td>230</td><td>DLR0230</td><td>Zion Automobils</td></tr><tr><td>231</td><td>DLR0231</td><td>Atlantic Motor Company</td></tr><tr><td>232</td><td>DLR0232</td><td>2008 NRHP-listed</td></tr><tr><td>233</td><td>DLR0233</td><td>Blankinship Motor Company Building</td></tr><tr><td>234</td><td>DLR0234</td><td>Bohn Motor Company Automobile Dealership</td></tr><tr><td>235</td><td>DLR0235</td><td>Buick Automobile Company Building</td></tr><tr><td>236</td><td>DLR0236</td><td>Cadillac Automobile Company Building</td></tr><tr><td>237</td><td>DLR0237</td><td>Casa de cadillac</td></tr><tr><td>238</td><td>DLR0238</td><td>Cass Motor Sales</td></tr><tr><td>239</td><td>DLR0239</td><td>Claremore Auto Dealership</td></tr><tr><td>240</td><td>DLR0240</td><td>Clemens Automobile Company Building</td></tr><tr><td>241</td><td>DLR0241</td><td>Colman Automotive Building</td></tr><tr><td>242</td><td>DLR0242</td><td>H Street Playhouse</td></tr><tr><td>243</td><td>DLR0243</td><td>Howard Motor Company Building</td></tr><tr><td>244</td><td>DLR0244</td><td>Hupmobile Building</td></tr><tr><td>245</td><td>DLR0245</td><td>Jennings Ford Automobile Dealership</td></tr><tr><td>246</td><td>DLR0246</td><td>Jones Motor Company</td></tr><tr><td>247</td><td>DLR0247</td><td>Kindel Building</td></tr><tr><td>248</td><td>DLR0248</td><td>AC Cars Motors</td></tr><tr><td>249</td><td>DLR0249</td><td>Acura Motors</td></tr><tr><td>250</td><td>DLR0250</td><td>Aixam-Mega (including Arola) Motors</td></tr><tr><td>251</td><td>DLR0251</td><td>Alfa Romeo Motors</td></tr><tr><td>252</td><td>DLR0252</td><td>Alpine Motors</td></tr><tr><td>253</td><td>DLR0253</td><td>Alvis Motors</td></tr><tr><td>254</td><td>DLR0254</td><td>AMC, Eagle Motors</td></tr><tr><td>255</td><td>DLR0255</td><td>Anadol Motors</td></tr><tr><td>256</td><td>DLR0256</td><td>Ariel Motors</td></tr><tr><td>257</td><td>DLR0257</td><td>ARO Motors</td></tr><tr><td>258</td><td>DLR0258</td><td>null</td></tr><tr><td>259</td><td>DLR0259</td><td>Asia Motors Motors</td></tr><tr><td>260</td><td>DLR0260</td><td>Aston Martin Motors</td></tr><tr><td>261</td><td>DLR0261</td><td>Audi Motors</td></tr><tr><td>262</td><td>DLR0262</td><td>Autobianchi Motors</td></tr><tr><td>263</td><td>DLR0263</td><td>Auto-Union Motors</td></tr><tr><td>264</td><td>DLR0264</td><td>Auverland Motors</td></tr><tr><td>265</td><td>DLR0265</td><td>Bentley Motors</td></tr><tr><td>266</td><td>DLR0266</td><td>Bitter Motors</td></tr><tr><td>267</td><td>DLR0267</td><td>BMW Motors</td></tr></tbody></table></div>"
      ]
     },
     "metadata": {
      "application/vnd.databricks.v1+output": {
       "addedWidgets": {},
       "aggData": [],
       "aggError": "",
       "aggOverflow": false,
       "aggSchema": [],
       "aggSeriesLimitReached": false,
       "aggType": "",
       "arguments": {},
       "columnCustomDisplayInfos": {},
       "data": [
        [
         1,
         "DLR0001",
         "AC Cars Motors"
        ],
        [
         2,
         "DLR0002",
         "Acura Motors"
        ],
        [
         3,
         "DLR0003",
         "Aixam-Mega (including Arola) Motors"
        ],
        [
         4,
         "DLR0004",
         "Alfa Romeo Motors"
        ],
        [
         5,
         "DLR0005",
         "Alpine Motors"
        ],
        [
         6,
         "DLR0006",
         "Alvis Motors"
        ],
        [
         7,
         "DLR0007",
         "AMC, Eagle Motors"
        ],
        [
         8,
         "DLR0008",
         "Anadol Motors"
        ],
        [
         9,
         "DLR0009",
         "Ariel Motors"
        ],
        [
         10,
         "DLR0010",
         "ARO Motors"
        ],
        [
         11,
         "DLR0011",
         "Artega Motors"
        ],
        [
         12,
         "DLR0012",
         "Asia Motors Motors"
        ],
        [
         13,
         "DLR0013",
         "Aston Martin Motors"
        ],
        [
         14,
         "DLR0014",
         "Audi Motors"
        ],
        [
         15,
         "DLR0015",
         "Autobianchi Motors"
        ],
        [
         16,
         "DLR0016",
         "Auto-Union Motors"
        ],
        [
         17,
         "DLR0017",
         "Auverland Motors"
        ],
        [
         18,
         "DLR0018",
         "Bentley Motors"
        ],
        [
         19,
         "DLR0019",
         "Bitter Motors"
        ],
        [
         20,
         "DLR0020",
         "BMW Motors"
        ],
        [
         21,
         "DLR0021",
         "Bond Motors"
        ],
        [
         22,
         "DLR0022",
         "Borgward (including Goliath and Lloyd) Motors"
        ],
        [
         23,
         "DLR0023",
         "Bristol Motors"
        ],
        [
         24,
         "DLR0024",
         "British Leyland Motors"
        ],
        [
         25,
         "DLR0025",
         "Austin-Healey Motors"
        ],
        [
         26,
         "DLR0026",
         "Austin, Rover Motors"
        ],
        [
         27,
         "DLR0027",
         "Bugatti Motors"
        ],
        [
         28,
         "DLR0028",
         "Buick Motors"
        ],
        [
         29,
         "DLR0029",
         "Bytom Motors"
        ],
        [
         30,
         "DLR0030",
         "Cadillac Motors"
        ],
        [
         31,
         "DLR0031",
         "Caterham Motors"
        ],
        [
         32,
         "DLR0032",
         "Checker Motors"
        ],
        [
         33,
         "DLR0033",
         "Chevrolet Motors"
        ],
        [
         34,
         "DLR0034",
         "Chevrolet India Motors"
        ],
        [
         35,
         "DLR0035",
         "Chrysler Motors"
        ],
        [
         36,
         "DLR0036",
         "Chrysler Europe Motors"
        ],
        [
         37,
         "DLR0037",
         "Citroën Motors"
        ],
        [
         38,
         "DLR0038",
         "Cizeta-Moroder Motors"
        ],
        [
         39,
         "DLR0039",
         "Dacia Motors"
        ],
        [
         40,
         "DLR0040",
         "Daewoo, Saehan, Chevrolet Korea Motors"
        ],
        [
         41,
         "DLR0041",
         "DAF Motors"
        ],
        [
         42,
         "DLR0042",
         "Daihatsu Motors"
        ],
        [
         43,
         "DLR0043",
         "Daimler Motors"
        ],
        [
         44,
         "DLR0044",
         null
        ],
        [
         45,
         "DLR0045",
         "Delahaye Motors"
        ],
        [
         46,
         "DLR0046",
         "DeLorean Motors"
        ],
        [
         47,
         "DLR0047",
         "DeSoto Motors"
        ],
        [
         48,
         "DLR0048",
         "De Tomaso Motors"
        ],
        [
         49,
         "DLR0049",
         "Dodge Motors"
        ],
        [
         50,
         "DLR0050",
         "Donkervoort Motors"
        ],
        [
         51,
         "DLR0051",
         "Edsel Motors"
        ],
        [
         52,
         "DLR0052",
         "e.GO Mobile Motors"
        ],
        [
         53,
         "DLR0053",
         "Eicher Polaris Motors"
        ],
        [
         54,
         "DLR0054",
         "Elva Motors"
        ],
        [
         55,
         "DLR0055",
         "Facel Vega Motors"
        ],
        [
         56,
         "DLR0056",
         "Ferrari Motors"
        ],
        [
         57,
         "DLR0057",
         "Fiat Motors"
        ],
        [
         58,
         "DLR0058",
         "Fiat do Brasil Motors"
        ],
        [
         59,
         "DLR0059",
         "Fiat India Motors"
        ],
        [
         60,
         "DLR0060",
         "Fisker, Karma Motors"
        ],
        [
         61,
         "DLR0061",
         "Ford America Motors"
        ],
        [
         62,
         "DLR0062",
         "Ford Australia Motors"
        ],
        [
         63,
         "DLR0063",
         "Ford do Brasil Motors"
        ],
        [
         64,
         "DLR0064",
         "Ford Europe Motors"
        ],
        [
         65,
         "DLR0065",
         "Ford India Motors"
        ],
        [
         66,
         "DLR0066",
         "Freightliner Motors"
        ],
        [
         67,
         "DLR0067",
         "FSO Motors"
        ],
        [
         68,
         "DLR0068",
         "GAZ Motors"
        ],
        [
         69,
         "DLR0069",
         "Geo Motors"
        ],
        [
         70,
         "DLR0070",
         "Gilbern Motors"
        ],
        [
         71,
         "DLR0071",
         "Ginetta Motors"
        ],
        [
         72,
         "DLR0072",
         "Glas Motors"
        ],
        [
         73,
         "DLR0073",
         "GMC Motors"
        ],
        [
         74,
         "DLR0074",
         "GTA Spano Motors"
        ],
        [
         75,
         "DLR0075",
         "Gumpert Motors"
        ],
        [
         76,
         "DLR0076",
         "Healey Motors"
        ],
        [
         77,
         "DLR0077",
         "Heinkel Motors"
        ],
        [
         78,
         "DLR0078",
         "Hennessey Motors"
        ],
        [
         79,
         "DLR0079",
         "Hillman Motors"
        ],
        [
         80,
         "DLR0080",
         "Hindustan Motors"
        ],
        [
         81,
         "DLR0081",
         "Holden Motors"
        ],
        [
         82,
         "DLR0082",
         "Honda Motors"
        ],
        [
         83,
         "DLR0083",
         "Honda India Motors"
        ],
        [
         84,
         "DLR0084",
         "Hudson Motors"
        ],
        [
         85,
         "DLR0085",
         "Humber Motors"
        ],
        [
         86,
         "DLR0086",
         "Hummer Motors"
        ],
        [
         87,
         "DLR0087",
         "Hyundai Motors"
        ],
        [
         88,
         "DLR0088",
         "IFA (including Trabant, Wartburg, Barkas) Motors"
        ],
        [
         89,
         "DLR0089",
         "Infiniti Motors"
        ],
        [
         90,
         "DLR0090",
         null
        ],
        [
         91,
         "DLR0091",
         "Invicta Motors"
        ],
        [
         92,
         "DLR0092",
         "Isdera Motors"
        ],
        [
         93,
         "DLR0093",
         "Iso Motors"
        ],
        [
         94,
         "DLR0094",
         "Isotta Fraschini Motors"
        ],
        [
         95,
         "DLR0095",
         "Isuzu Motors"
        ],
        [
         96,
         "DLR0096",
         "Iveco Motors"
        ],
        [
         97,
         "DLR0097",
         "Jaguar Motors"
        ],
        [
         98,
         "DLR0098",
         "Jeep Motors"
        ],
        [
         99,
         "DLR0099",
         "Jensen Motors"
        ],
        [
         100,
         "DLR0100",
         "JPX Motors"
        ],
        [
         101,
         "DLR0101",
         "Kia Motors"
        ],
        [
         102,
         "DLR0102",
         "Koenigsegg Motors"
        ],
        [
         103,
         "DLR0103",
         "KTM Motors"
        ],
        [
         104,
         "DLR0104",
         "Lada Motors"
        ],
        [
         105,
         "DLR0105",
         "Lamborghini Motors"
        ],
        [
         106,
         "DLR0106",
         "Lancia Motors"
        ],
        [
         107,
         "DLR0107",
         "Land Rover Motors"
        ],
        [
         108,
         "DLR0108",
         "Lexus Motors"
        ],
        [
         109,
         "DLR0109",
         "Ligier Motors"
        ],
        [
         110,
         "DLR0110",
         "Lincoln Motors"
        ],
        [
         111,
         "DLR0111",
         "Lotus Motors"
        ],
        [
         112,
         "DLR0112",
         "LTI Motors"
        ],
        [
         113,
         "DLR0113",
         "LuAZ Motors"
        ],
        [
         114,
         "DLR0114",
         "Lynx Motors"
        ],
        [
         115,
         "DLR0115",
         "Mahindra Motors"
        ],
        [
         116,
         "DLR0116",
         "Marcos Motors"
        ],
        [
         117,
         "DLR0117",
         "Marlin Motors"
        ],
        [
         118,
         "DLR0118",
         "Maruti Motors"
        ],
        [
         119,
         "DLR0119",
         "Maserati Motors"
        ],
        [
         120,
         "DLR0120",
         "Mastretta Motors"
        ],
        [
         121,
         "DLR0121",
         "Matra (including Deutsch-Bonnet, René Bonnet) Motors"
        ],
        [
         122,
         "DLR0122",
         "Mazda Motors"
        ],
        [
         123,
         "DLR0123",
         "Mazzanti Motors"
        ],
        [
         124,
         "DLR0124",
         "McLaren Motors"
        ],
        [
         125,
         "DLR0125",
         "Mercedes-Benz (including Maybach) Motors"
        ],
        [
         126,
         "DLR0126",
         "Mercury Motors"
        ],
        [
         127,
         "DLR0127",
         "Merkur Motors"
        ],
        [
         128,
         "DLR0128",
         "Messerschmitt Motors"
        ],
        [
         129,
         "DLR0129",
         "Mia Motors"
        ],
        [
         130,
         "DLR0130",
         "Micro Motors"
        ],
        [
         131,
         "DLR0131",
         "Mini Motors"
        ],
        [
         132,
         "DLR0132",
         "Mitsubishi Motors"
        ],
        [
         133,
         "DLR0133",
         "Monica Motors"
        ],
        [
         134,
         "DLR0134",
         "Monteverdi Motors"
        ],
        [
         135,
         "DLR0135",
         "Morgan Motors"
        ],
        [
         136,
         "DLR0136",
         "Moskwitch Motors"
        ],
        [
         137,
         "DLR0137",
         "Nash Motors"
        ],
        [
         138,
         "DLR0138",
         "Naza Motors"
        ],
        [
         139,
         "DLR0139",
         "Nissan Motors"
        ],
        [
         140,
         "DLR0140",
         "Nissan India Motors"
        ],
        [
         141,
         "DLR0141",
         "Noble Motors"
        ],
        [
         142,
         "DLR0142",
         "NSU Motors"
        ],
        [
         143,
         "DLR0143",
         "Oldsmobile Motors"
        ],
        [
         144,
         "DLR0144",
         null
        ],
        [
         145,
         "DLR0145",
         "Opel Motors"
        ],
        [
         146,
         "DLR0146",
         "Packard Motors"
        ],
        [
         147,
         "DLR0147",
         "Pagani Motors"
        ],
        [
         148,
         "DLR0148",
         "Panhard Motors"
        ],
        [
         149,
         "DLR0149",
         "Panoz Motors"
        ],
        [
         150,
         "DLR0150",
         "Panther Motors"
        ],
        [
         151,
         "DLR0151",
         "Peel Motors"
        ],
        [
         152,
         "DLR0152",
         "Perodua Motors"
        ],
        [
         153,
         "DLR0153",
         "Peugeot Motors"
        ],
        [
         154,
         "DLR0154",
         "PGO Motors"
        ],
        [
         155,
         "DLR0155",
         "Piaggio Motors"
        ],
        [
         156,
         "DLR0156",
         "Plymouth Motors"
        ],
        [
         157,
         "DLR0157",
         "Polestar Motors"
        ],
        [
         158,
         "DLR0158",
         "Pontiac, Asüna Motors"
        ],
        [
         159,
         "DLR0159",
         "Porsche Motors"
        ],
        [
         160,
         "DLR0160",
         "Premier Motors"
        ],
        [
         161,
         "DLR0161",
         "Proton Motors"
        ],
        [
         162,
         "DLR0162",
         "Puma Motors"
        ],
        [
         163,
         "DLR0163",
         "Ranger Motors"
        ],
        [
         164,
         "DLR0164",
         "Reliant Motors"
        ],
        [
         165,
         "DLR0165",
         "Renault Motors"
        ],
        [
         166,
         "DLR0166",
         "Rivian Motors"
        ],
        [
         167,
         "DLR0167",
         "Rolls-Royce Motors"
        ],
        [
         168,
         "DLR0168",
         "Saab Motors"
        ],
        [
         169,
         "DLR0169",
         "SAIC Motor Motors"
        ],
        [
         170,
         "DLR0170",
         "Saleen Motors"
        ],
        [
         171,
         "DLR0171",
         "Samsung Motors"
        ],
        [
         172,
         "DLR0172",
         "San Motors"
        ],
        [
         173,
         "DLR0173",
         "Santa Matilde Motors"
        ],
        [
         174,
         "DLR0174",
         "Santana Motors"
        ],
        [
         175,
         "DLR0175",
         "Saturn Motors"
        ],
        [
         176,
         "DLR0176",
         "Scion Motors"
        ],
        [
         177,
         "DLR0177",
         "Seat Motors"
        ],
        [
         178,
         "DLR0178",
         "Shelby SuperCars Motors"
        ],
        [
         179,
         "DLR0179",
         "Simca Motors"
        ],
        [
         180,
         "DLR0180",
         "Simca do Brasil Motors"
        ],
        [
         181,
         "DLR0181",
         "Singer Motors"
        ],
        [
         182,
         "DLR0182",
         "Skoda Motors"
        ],
        [
         183,
         "DLR0183",
         "Smart Motors"
        ],
        [
         184,
         "DLR0184",
         "Spyker Motors"
        ],
        [
         185,
         "DLR0185",
         "SsangYong Motors"
        ],
        [
         186,
         "DLR0186",
         "Standard-Triumph Motors"
        ],
        [
         187,
         "DLR0187",
         "Studebaker Motors"
        ],
        [
         188,
         "DLR0188",
         "Subaru Motors"
        ],
        [
         189,
         "DLR0189",
         "Sunbeam Motors"
        ],
        [
         190,
         "DLR0190",
         "Suzuki Motors"
        ],
        [
         191,
         "DLR0191",
         "Tata Motors"
        ],
        [
         192,
         "DLR0192",
         "Tatra Motors"
        ],
        [
         193,
         "DLR0193",
         "Tazzari Motors"
        ],
        [
         194,
         "DLR0194",
         "Tesla Motors"
        ],
        [
         195,
         "DLR0195",
         "Tornado Motors"
        ],
        [
         196,
         "DLR0196",
         "Toyota Motors"
        ],
        [
         197,
         "DLR0197",
         "Toyota India Motors"
        ],
        [
         198,
         "DLR0198",
         "Turner Motors"
        ],
        [
         199,
         "DLR0199",
         "TVR Motors"
        ],
        [
         200,
         "DLR0200",
         "UAZ Motors"
        ],
        [
         201,
         "DLR0201",
         "Vauxhall Motors"
        ],
        [
         202,
         "DLR0202",
         "Venturi Motors"
        ],
        [
         203,
         "DLR0203",
         "Volkswagen Motors"
        ],
        [
         204,
         "DLR0204",
         "Volkswagen do Brasil Motors"
        ],
        [
         205,
         "DLR0205",
         "Volkswagen South Africa Motors"
        ],
        [
         206,
         "DLR0206",
         "Volvo Motors"
        ],
        [
         207,
         "DLR0207",
         "Westfield Motors"
        ],
        [
         208,
         "DLR0208",
         "Wiesmann Motors"
        ],
        [
         209,
         "DLR0209",
         "Zastava Motors"
        ],
        [
         210,
         "DLR0210",
         "ZAZ Motors"
        ],
        [
         211,
         "DLR0211",
         "ZIL Motors"
        ],
        [
         212,
         "DLR0212",
         null
        ],
        [
         213,
         "DLR0213",
         "DKW Motors"
        ],
        [
         214,
         "DLR0214",
         "Horch Motors"
        ],
        [
         215,
         "DLR0215",
         "Wanderer Motors"
        ],
        [
         216,
         "DLR0216",
         "Maybach  Motors"
        ],
        [
         217,
         "DLR0217",
         "Izh  Motors"
        ],
        [
         218,
         "DLR0218",
         "Lagonda  Motors"
        ],
        [
         219,
         "DLR0219",
         "MG  Motors"
        ],
        [
         220,
         "DLR0220",
         "Morris  Motors"
        ],
        [
         221,
         "DLR0221",
         "Austin  Motors"
        ],
        [
         222,
         "DLR0222",
         "Riley  Motors"
        ],
        [
         223,
         "DLR0223",
         "Wolseley  Motors"
        ],
        [
         224,
         "DLR0224",
         "Standard  Motors"
        ],
        [
         225,
         "DLR0225",
         "Talbot  Motors"
        ],
        [
         226,
         "DLR0226",
         "Das Motors"
        ],
        [
         227,
         "DLR0227",
         "Ramani Motors"
        ],
        [
         228,
         "DLR0228",
         "Deccan Motors"
        ],
        [
         229,
         "DLR0229",
         "Herald Motors"
        ],
        [
         230,
         "DLR0230",
         "Zion Automobils"
        ],
        [
         231,
         "DLR0231",
         "Atlantic Motor Company"
        ],
        [
         232,
         "DLR0232",
         "2008 NRHP-listed"
        ],
        [
         233,
         "DLR0233",
         "Blankinship Motor Company Building"
        ],
        [
         234,
         "DLR0234",
         "Bohn Motor Company Automobile Dealership"
        ],
        [
         235,
         "DLR0235",
         "Buick Automobile Company Building"
        ],
        [
         236,
         "DLR0236",
         "Cadillac Automobile Company Building"
        ],
        [
         237,
         "DLR0237",
         "Casa de cadillac"
        ],
        [
         238,
         "DLR0238",
         "Cass Motor Sales"
        ],
        [
         239,
         "DLR0239",
         "Claremore Auto Dealership"
        ],
        [
         240,
         "DLR0240",
         "Clemens Automobile Company Building"
        ],
        [
         241,
         "DLR0241",
         "Colman Automotive Building"
        ],
        [
         242,
         "DLR0242",
         "H Street Playhouse"
        ],
        [
         243,
         "DLR0243",
         "Howard Motor Company Building"
        ],
        [
         244,
         "DLR0244",
         "Hupmobile Building"
        ],
        [
         245,
         "DLR0245",
         "Jennings Ford Automobile Dealership"
        ],
        [
         246,
         "DLR0246",
         "Jones Motor Company"
        ],
        [
         247,
         "DLR0247",
         "Kindel Building"
        ],
        [
         248,
         "DLR0248",
         "AC Cars Motors"
        ],
        [
         249,
         "DLR0249",
         "Acura Motors"
        ],
        [
         250,
         "DLR0250",
         "Aixam-Mega (including Arola) Motors"
        ],
        [
         251,
         "DLR0251",
         "Alfa Romeo Motors"
        ],
        [
         252,
         "DLR0252",
         "Alpine Motors"
        ],
        [
         253,
         "DLR0253",
         "Alvis Motors"
        ],
        [
         254,
         "DLR0254",
         "AMC, Eagle Motors"
        ],
        [
         255,
         "DLR0255",
         "Anadol Motors"
        ],
        [
         256,
         "DLR0256",
         "Ariel Motors"
        ],
        [
         257,
         "DLR0257",
         "ARO Motors"
        ],
        [
         258,
         "DLR0258",
         null
        ],
        [
         259,
         "DLR0259",
         "Asia Motors Motors"
        ],
        [
         260,
         "DLR0260",
         "Aston Martin Motors"
        ],
        [
         261,
         "DLR0261",
         "Audi Motors"
        ],
        [
         262,
         "DLR0262",
         "Autobianchi Motors"
        ],
        [
         263,
         "DLR0263",
         "Auto-Union Motors"
        ],
        [
         264,
         "DLR0264",
         "Auverland Motors"
        ],
        [
         265,
         "DLR0265",
         "Bentley Motors"
        ],
        [
         266,
         "DLR0266",
         "Bitter Motors"
        ],
        [
         267,
         "DLR0267",
         "BMW Motors"
        ]
       ],
       "datasetInfos": [
        {
         "name": "_sqldf",
         "schema": {
          "fields": [
           {
            "metadata": {},
            "name": "dealer_key",
            "nullable": true,
            "type": "integer"
           },
           {
            "metadata": {},
            "name": "Dealer_ID",
            "nullable": true,
            "type": "string"
           },
           {
            "metadata": {},
            "name": "DealerName",
            "nullable": true,
            "type": "string"
           }
          ],
          "type": "struct"
         },
         "tableIdentifier": null,
         "typeStr": "pyspark.sql.connect.dataframe.DataFrame"
        }
       ],
       "dbfsResultPath": null,
       "isJsonSchema": true,
       "metadata": {
        "createTempViewForImplicitDf": true,
        "dataframeName": "_sqldf",
        "executionCount": 23
       },
       "overflow": false,
       "plotOptions": {
        "customPlotOptions": {},
        "displayType": "table",
        "pivotAggregation": null,
        "pivotColumns": null,
        "xColumns": null,
        "yColumns": null
       },
       "removedWidgets": [],
       "schema": [
        {
         "metadata": "{}",
         "name": "dealer_key",
         "type": "\"integer\""
        },
        {
         "metadata": "{}",
         "name": "Dealer_ID",
         "type": "\"string\""
        },
        {
         "metadata": "{}",
         "name": "DealerName",
         "type": "\"string\""
        }
       ],
       "type": "table"
      }
     },
     "output_type": "display_data"
    }
   ],
   "source": [
    "%sql\n",
    "select * from cars_catalog.gold.dim_dealer; "
   ]
  },
  {
   "cell_type": "code",
   "execution_count": 0,
   "metadata": {
    "application/vnd.databricks.v1+cell": {
     "cellMetadata": {},
     "inputWidgets": {},
     "nuid": "9f2e8435-2c91-4341-8e0f-5834a9796b3d",
     "showTitle": false,
     "tableResultSettingsMap": {},
     "title": ""
    }
   },
   "outputs": [],
   "source": []
  }
 ],
 "metadata": {
  "application/vnd.databricks.v1+notebook": {
   "computePreferences": null,
   "dashboards": [],
   "environmentMetadata": {
    "base_environment": "",
    "environment_version": "2"
   },
   "inputWidgetPreferences": null,
   "language": "python",
   "notebookMetadata": {
    "mostRecentlyExecutedCommandWithImplicitDF": {
     "commandId": 2168203678002813,
     "dataframes": [
      "_sqldf"
     ]
    },
    "pythonIndentUnit": 4
   },
   "notebookName": "Gold_Dim_Dealer",
   "widgets": {
    "incremental_flag": {
     "currentValue": "0",
     "nuid": "33da43f0-a781-4396-afb5-3498c6c68f69",
     "typedWidgetInfo": {
      "autoCreated": false,
      "defaultValue": "0",
      "label": null,
      "name": "incremental_flag",
      "options": {
       "widgetDisplayType": "Text",
       "validationRegex": null
      },
      "parameterDataType": "String"
     },
     "widgetInfo": {
      "widgetType": "text",
      "defaultValue": "0",
      "label": null,
      "name": "incremental_flag",
      "options": {
       "widgetType": "text",
       "autoCreated": null,
       "validationRegex": null
      }
     }
    }
   }
  },
  "language_info": {
   "name": "python"
  }
 },
 "nbformat": 4,
 "nbformat_minor": 0
}