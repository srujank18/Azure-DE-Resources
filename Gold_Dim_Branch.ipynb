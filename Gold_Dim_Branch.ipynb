{
 "cells": [
  {
   "cell_type": "markdown",
   "metadata": {
    "application/vnd.databricks.v1+cell": {
     "cellMetadata": {},
     "inputWidgets": {},
     "nuid": "3af2cca9-01b3-4f2e-a2c6-cb00190a405b",
     "showTitle": false,
     "tableResultSettingsMap": {},
     "title": ""
    }
   },
   "source": [
    "# CREATE FLAG PARAMETER"
   ]
  },
  {
   "cell_type": "code",
   "execution_count": 0,
   "metadata": {
    "application/vnd.databricks.v1+cell": {
     "cellMetadata": {
      "byteLimit": 2048000,
      "rowLimit": 10000
     },
     "inputWidgets": {},
     "nuid": "439dcd5b-fbc8-4036-85b4-9044f2a32b0e",
     "showTitle": false,
     "tableResultSettingsMap": {},
     "title": ""
    }
   },
   "outputs": [],
   "source": [
    "dbutils.widgets.text(\"incremental_flag\", \"0\")"
   ]
  },
  {
   "cell_type": "code",
   "execution_count": 0,
   "metadata": {
    "application/vnd.databricks.v1+cell": {
     "cellMetadata": {
      "byteLimit": 2048000,
      "rowLimit": 10000
     },
     "inputWidgets": {},
     "nuid": "0d028143-24f0-4f4d-96be-6ea344b14d66",
     "showTitle": false,
     "tableResultSettingsMap": {},
     "title": ""
    }
   },
   "outputs": [
    {
     "output_type": "stream",
     "name": "stdout",
     "output_type": "stream",
     "text": [
      "<class 'str'>\n"
     ]
    }
   ],
   "source": [
    "incremental_flag = dbutils.widgets.get(\"incremental_flag\")\n",
    "print(type(incremental_flag))"
   ]
  },
  {
   "cell_type": "markdown",
   "metadata": {
    "application/vnd.databricks.v1+cell": {
     "cellMetadata": {},
     "inputWidgets": {},
     "nuid": "76bac626-eab0-4b6e-bceb-88f38210eebd",
     "showTitle": false,
     "tableResultSettingsMap": {},
     "title": ""
    }
   },
   "source": [
    "# CREATING DIMENSION MODEL"
   ]
  },
  {
   "cell_type": "markdown",
   "metadata": {
    "application/vnd.databricks.v1+cell": {
     "cellMetadata": {
      "byteLimit": 2048000,
      "rowLimit": 10000
     },
     "inputWidgets": {},
     "nuid": "8229dd8c-1c52-4c3b-8ce0-5b1ef8d304d5",
     "showTitle": false,
     "tableResultSettingsMap": {},
     "title": ""
    }
   },
   "source": [
    "### Filtering new records and old records"
   ]
  },
  {
   "cell_type": "markdown",
   "metadata": {
    "application/vnd.databricks.v1+cell": {
     "cellMetadata": {},
     "inputWidgets": {},
     "nuid": "17184c4d-e525-41ee-b07c-1220f89e8d20",
     "showTitle": false,
     "tableResultSettingsMap": {},
     "title": ""
    }
   },
   "source": [
    "###  Fetch Relative Column"
   ]
  },
  {
   "cell_type": "code",
   "execution_count": 0,
   "metadata": {
    "application/vnd.databricks.v1+cell": {
     "cellMetadata": {
      "byteLimit": 2048000,
      "rowLimit": 10000
     },
     "inputWidgets": {},
     "nuid": "2233a0bb-fc1f-4fed-8674-703c5333aba2",
     "showTitle": false,
     "tableResultSettingsMap": {},
     "title": ""
    }
   },
   "outputs": [
    {
     "output_type": "display_data",
     "data": {
      "text/html": [
       "<style scoped>\n",
       "  .table-result-container {\n",
       "    max-height: 300px;\n",
       "    overflow: auto;\n",
       "  }\n",
       "  table, th, td {\n",
       "    border: 1px solid black;\n",
       "    border-collapse: collapse;\n",
       "  }\n",
       "  th, td {\n",
       "    padding: 5px;\n",
       "  }\n",
       "  th {\n",
       "    text-align: left;\n",
       "  }\n",
       "</style><div class='table-result-container'><table class='table-result'><thead style='background-color: white'><tr><th>Branch_ID</th><th>BranchName</th></tr></thead><tbody><tr><td>BR1152</td><td>Marcos Motors</td></tr><tr><td>BR0819</td><td>Honda Motors</td></tr><tr><td>BR2324</td><td>Blankinship Motor Company Building</td></tr><tr><td>BR1833</td><td>Spyker Motors</td></tr><tr><td>BR0721</td><td>GMC Motors</td></tr><tr><td>BR1403</td><td>Noble Motors</td></tr><tr><td>BR2103</td><td>ZIL Motors</td></tr><tr><td>BR0005</td><td>AC Cars Motors</td></tr><tr><td>BR0783</td><td>Hillman Motors</td></tr><tr><td>BR0614</td><td>Ford Australia Motors</td></tr><tr><td>BR1714</td><td>San Motors</td></tr><tr><td>BR1626</td><td>Buick Motors</td></tr><tr><td>BR1215</td><td>Mazda Motors</td></tr><tr><td>BR1552</td><td>Plymouth Motors</td></tr><tr><td>BR2005</td><td>Vauxhall Motors</td></tr><tr><td>BR0333</td><td>Chevrolet India Motors</td></tr><tr><td>BR1075</td><td>Lexus Motors</td></tr><tr><td>BR1564</td><td>Polestar Motors</td></tr><tr><td>BR0045</td><td>Alpine Motors</td></tr><tr><td>BR1585</td><td>Porsche Motors</td></tr><tr><td>BR1594</td><td>Premier Motors</td></tr><tr><td>BR2277</td><td>Deccan Motors</td></tr><tr><td>BR0408</td><td>DAF Motors</td></tr><tr><td>BR1224</td><td>Mazzanti Motors</td></tr><tr><td>BR2399</td><td>Clemens Automobile Company Building</td></tr><tr><td>BR1138</td><td>Lynx Motors</td></tr><tr><td>BR2377</td><td>Cass Motor Sales</td></tr><tr><td>BR0997</td><td>JPX Motors</td></tr><tr><td>BR2148</td><td>Wanderer Motors</td></tr><tr><td>BR1178</td><td>Maruti Motors</td></tr><tr><td>BR1902</td><td>Tata Motors</td></tr><tr><td>BR1465</td><td>Pagani Motors</td></tr><tr><td>BR1643</td><td>Renault Motors</td></tr><tr><td>BR0829</td><td>Honda India Motors</td></tr><tr><td>BR0805</td><td>Holden Motors</td></tr><tr><td>BR0486</td><td>Ariel Motors</td></tr><tr><td>BR0170</td><td>Auverland Motors</td></tr><tr><td>BR2137</td><td>Horch Motors</td></tr><tr><td>BR2317</td><td>2008 NRHP-listed</td></tr><tr><td>BR1495</td><td>Panther Motors</td></tr><tr><td>BR0068</td><td>AMC, Eagle Motors</td></tr><tr><td>BR1326</td><td>Bristol Motors</td></tr><tr><td>BR1086</td><td>Bitter Motors</td></tr><tr><td>BR1398</td><td>Nissan India Motors</td></tr><tr><td>BR2281</td><td>Herald Motors</td></tr><tr><td>BR2318</td><td>2008 NRHP-listed</td></tr><tr><td>BR0391</td><td>Daewoo, Saehan, Chevrolet Korea Motors</td></tr><tr><td>BR2375</td><td>Cass Motor Sales</td></tr><tr><td>BR1015</td><td>Koenigsegg Motors</td></tr><tr><td>BR1277</td><td>Messerschmitt Motors</td></tr><tr><td>BR1079</td><td>Lexus Motors</td></tr><tr><td>BR0081</td><td>Ariel Motors</td></tr><tr><td>BR0748</td><td>Gumpert Motors</td></tr><tr><td>BR0055</td><td>Alvis Motors</td></tr><tr><td>BR0627</td><td>Ford do Brasil Motors</td></tr><tr><td>BR0865</td><td>Hyundai Motors</td></tr><tr><td>BR0898</td><td>Innocenti Motors</td></tr><tr><td>BR1778</td><td>Shelby SuperCars Motors</td></tr><tr><td>BR2133</td><td>Horch Motors</td></tr><tr><td>BR1464</td><td>Pagani Motors</td></tr><tr><td>BR0044</td><td>Alpine Motors</td></tr><tr><td>BR0442</td><td>Delahaye Motors</td></tr><tr><td>BR1543</td><td>Piaggio Motors</td></tr><tr><td>BR0906</td><td>Auto-Union Motors</td></tr><tr><td>BR1615</td><td>Puma Motors</td></tr><tr><td>BR6066</td><td>Koenigsegg Motors</td></tr><tr><td>BR0803</td><td>Holden Motors</td></tr><tr><td>BR0083</td><td>Ariel Motors</td></tr><tr><td>BR11526</td><td>Tazzari Motors</td></tr><tr><td>BR0123</td><td>Aston Martin Motors</td></tr><tr><td>BR10026</td><td>Saab Motors</td></tr><tr><td>BR2110</td><td>ZIL Motors</td></tr><tr><td>BR1162</td><td>Marlin Motors</td></tr><tr><td>BR0427</td><td>Daimler Motors</td></tr><tr><td>BR2200</td><td>Morris  Motors</td></tr><tr><td>BR0301</td><td>Caterham Motors</td></tr><tr><td>BR1032</td><td>Lada Motors</td></tr><tr><td>BR13506</td><td>Das Motors</td></tr><tr><td>BR1379</td><td>Naza Motors</td></tr><tr><td>BR0061</td><td>AMC, Eagle Motors</td></tr><tr><td>BR2213</td><td>Riley  Motors</td></tr><tr><td>BR2463</td><td>Kindel Building</td></tr><tr><td>BR2157</td><td>Maybach  Motors</td></tr><tr><td>BR1965</td><td>Toyota India Motors</td></tr><tr><td>BR1770</td><td>Seat Motors</td></tr><tr><td>BR2407</td><td>Colman Automotive Building</td></tr><tr><td>BR1710</td><td>Samsung Motors</td></tr><tr><td>BR1067</td><td>Land Rover Motors</td></tr><tr><td>BR2100</td><td>ZAZ Motors</td></tr><tr><td>BR2027</td><td>Volkswagen Motors</td></tr><tr><td>BR8586</td><td>Oltcit Motors</td></tr><tr><td>BR0364</td><td>Citroën Motors</td></tr><tr><td>BR0680</td><td>GAZ Motors</td></tr><tr><td>BR1525</td><td>Peugeot Motors</td></tr><tr><td>BR1146</td><td>BMW Motors</td></tr><tr><td>BR0757</td><td>Healey Motors</td></tr><tr><td>BR0979</td><td>Jeep Motors</td></tr><tr><td>BR0222</td><td>Bristol Motors</td></tr><tr><td>BR2192</td><td>Morris  Motors</td></tr><tr><td>BR1402</td><td>Noble Motors</td></tr><tr><td>BR0018</td><td>Acura Motors</td></tr><tr><td>BR11586</td><td>Tesla Motors</td></tr><tr><td>BR0615</td><td>Ford Australia Motors</td></tr><tr><td>BR1428</td><td>Oldsmobile Motors</td></tr><tr><td>BR2394</td><td>Clemens Automobile Company Building</td></tr><tr><td>BR10986</td><td>Spyker Motors</td></tr><tr><td>BR1412</td><td>NSU Motors</td></tr><tr><td>BR1511</td><td>Perodua Motors</td></tr><tr><td>BR0444</td><td>Delahaye Motors</td></tr><tr><td>BR0910</td><td>Invicta Motors</td></tr><tr><td>BR0280</td><td>Buick Motors</td></tr><tr><td>BR0619</td><td>Ford Australia Motors</td></tr><tr><td>BR0881</td><td>Infiniti Motors</td></tr><tr><td>BR1612</td><td>Puma Motors</td></tr><tr><td>BR1325</td><td>Monica Motors</td></tr><tr><td>BR2428</td><td>Howard Motor Company Building</td></tr><tr><td>BR1842</td><td>SsangYong Motors</td></tr><tr><td>BR1847</td><td>SsangYong Motors</td></tr><tr><td>BR2230</td><td>Wolseley  Motors</td></tr><tr><td>BR1171</td><td>Maruti Motors</td></tr><tr><td>BR1849</td><td>SsangYong Motors</td></tr><tr><td>BR0087</td><td>Ariel Motors</td></tr><tr><td>BR0308</td><td>Caterham Motors</td></tr><tr><td>BR1048</td><td>Lamborghini Motors</td></tr><tr><td>BR1718</td><td>San Motors</td></tr><tr><td>BR1270</td><td>Merkur Motors</td></tr><tr><td>BR1700</td><td>Saleen Motors</td></tr><tr><td>BR2320</td><td>2008 NRHP-listed</td></tr><tr><td>BR1035</td><td>Lada Motors</td></tr><tr><td>BR1574</td><td>Pontiac, Asüna Motors</td></tr><tr><td>BR1455</td><td>Packard Motors</td></tr><tr><td>BR1051</td><td>Lancia Motors</td></tr><tr><td>BR0397</td><td>Daewoo, Saehan, Chevrolet Korea Motors</td></tr><tr><td>BR1243</td><td>Mercedes-Benz (including Maybach) Motors</td></tr><tr><td>BR2158</td><td>Maybach  Motors</td></tr><tr><td>BR0863</td><td>Hyundai Motors</td></tr><tr><td>BR2160</td><td>Maybach  Motors</td></tr><tr><td>BR2139</td><td>Horch Motors</td></tr><tr><td>BR8946</td><td>Panther Motors</td></tr><tr><td>BR2161</td><td>Izh  Motors</td></tr><tr><td>BR0422</td><td>Daimler Motors</td></tr><tr><td>BR1463</td><td>Pagani Motors</td></tr><tr><td>BR0368</td><td>Citroën Motors</td></tr><tr><td>BR0613</td><td>Ford Australia Motors</td></tr><tr><td>BR1008</td><td>Kia Motors</td></tr><tr><td>BR2586</td><td>Datsun Motors</td></tr><tr><td>BR0054</td><td>Alvis Motors</td></tr><tr><td>BR1314</td><td>Mitsubishi Motors</td></tr><tr><td>BR0461</td><td>DeSoto Motors</td></tr><tr><td>BR2099</td><td>ZAZ Motors</td></tr><tr><td>BR0310</td><td>Caterham Motors</td></tr><tr><td>BR0474</td><td>De Tomaso Motors</td></tr><tr><td>BR2202</td><td>Austin  Motors</td></tr><tr><td>BR1811</td><td>Skoda Motors</td></tr><tr><td>BR0141</td><td>Autobianchi Motors</td></tr><tr><td>BR0279</td><td>Buick Motors</td></tr><tr><td>BR0500</td><td>Donkervoort Motors</td></tr><tr><td>BR1512</td><td>Perodua Motors</td></tr><tr><td>BR0332</td><td>Chevrolet India Motors</td></tr><tr><td>BR0524</td><td>Eicher Polaris Motors</td></tr><tr><td>BR0271</td><td>Buick Motors</td></tr><tr><td>BR1618</td><td>Puma Motors</td></tr><tr><td>BR1454</td><td>Packard Motors</td></tr><tr><td>BR1757</td><td>Scion Motors</td></tr><tr><td>BR3006</td><td>Edsel Motors</td></tr><tr><td>BR0021</td><td>Aixam-Mega (including Arola) Motors</td></tr><tr><td>BR1179</td><td>Maruti Motors</td></tr><tr><td>BR0968</td><td>Jaguar Motors</td></tr><tr><td>BR12006</td><td>Vauxhall Motors</td></tr><tr><td>BR0217</td><td>Borgward (including Goliath and Lloyd) Motors</td></tr><tr><td>BR1788</td><td>Simca Motors</td></tr><tr><td>BR0624</td><td>Ford do Brasil Motors</td></tr><tr><td>BR10086</td><td>SAIC Motor Motors</td></tr><tr><td>BR1577</td><td>Pontiac, Asüna Motors</td></tr><tr><td>BR2290</td><td>Herald Motors</td></tr><tr><td>BR2308</td><td>Atlantic Motor Company</td></tr><tr><td>BR1619</td><td>Puma Motors</td></tr><tr><td>BR7446</td><td>Mercedes-Benz (including Maybach) Motors</td></tr><tr><td>BR1268</td><td>Merkur Motors</td></tr><tr><td>BR0771</td><td>Hennessey Motors</td></tr><tr><td>BR1253</td><td>Mercury Motors</td></tr><tr><td>BR1807</td><td>Singer Motors</td></tr><tr><td>BR2285</td><td>Herald Motors</td></tr><tr><td>BR4446</td><td>Gumpert Motors</td></tr><tr><td>BR2040</td><td>Volkswagen do Brasil Motors</td></tr><tr><td>BR0561</td><td>Fiat Motors</td></tr><tr><td>BR1637</td><td>Reliant Motors</td></tr><tr><td>BR0528</td><td>Eicher Polaris Motors</td></tr><tr><td>BR1860</td><td>Standard-Triumph Motors</td></tr><tr><td>BR0418</td><td>Daihatsu Motors</td></tr><tr><td>BR2064</td><td>Westfield Motors</td></tr><tr><td>BR0213</td><td>Borgward (including Goliath and Lloyd) Motors</td></tr><tr><td>BR1020</td><td>Koenigsegg Motors</td></tr><tr><td>BR1352</td><td>Moskwitch Motors</td></tr><tr><td>BR0298</td><td>Cadillac Motors</td></tr><tr><td>BR5706</td><td>Iveco Motors</td></tr><tr><td>BR1177</td><td>Maruti Motors</td></tr><tr><td>BR1967</td><td>Toyota India Motors</td></tr><tr><td>BR0601</td><td>Ford America Motors</td></tr><tr><td>BR0108</td><td>Artega Motors</td></tr><tr><td>BR0935</td><td>Isotta Fraschini Motors</td></tr><tr><td>BR0520</td><td>e.GO Mobile Motors</td></tr><tr><td>BR0525</td><td>Eicher Polaris Motors</td></tr><tr><td>BR1603</td><td>Proton Motors</td></tr><tr><td>BR0635</td><td>Ford Europe Motors</td></tr><tr><td>BR1078</td><td>Lexus Motors</td></tr><tr><td>BR2225</td><td>Wolseley  Motors</td></tr><tr><td>BR0641</td><td>Ford India Motors</td></tr><tr><td>BR11406</td><td>Tata Motors</td></tr><tr><td>BR1679</td><td>Saab Motors</td></tr><tr><td>BR0127</td><td>Aston Martin Motors</td></tr><tr><td>BR1217</td><td>Mazda Motors</td></tr><tr><td>BR1012</td><td>Koenigsegg Motors</td></tr><tr><td>BR0015</td><td>Acura Motors</td></tr><tr><td>BR0591</td><td>Fisker, Karma Motors</td></tr><tr><td>BR1523</td><td>Peugeot Motors</td></tr><tr><td>BR1863</td><td>Studebaker Motors</td></tr><tr><td>BR2082</td><td>Zastava Motors</td></tr><tr><td>BR0098</td><td>ARO Motors</td></tr><tr><td>BR0523</td><td>Eicher Polaris Motors</td></tr><tr><td>BR2362</td><td>Casa de cadillac</td></tr><tr><td>BR0950</td><td>Isuzu Motors</td></tr><tr><td>BR0988</td><td>Jensen Motors</td></tr><tr><td>BR0125</td><td>Aston Martin Motors</td></tr><tr><td>BR6846</td><td>Mahindra Motors</td></tr><tr><td>BR0567</td><td>Fiat Motors</td></tr><tr><td>BR0668</td><td>FSO Motors</td></tr><tr><td>BR0049</td><td>Alpine Motors</td></tr><tr><td>BR0050</td><td>Alpine Motors</td></tr><tr><td>BR1193</td><td>Mastretta Motors</td></tr><tr><td>BR0128</td><td>Aston Martin Motors</td></tr><tr><td>BR0057</td><td>Alvis Motors</td></tr><tr><td>BR1103</td><td>Lotus Motors</td></tr><tr><td>BR1524</td><td>Peugeot Motors</td></tr><tr><td>BR1247</td><td>Mercedes-Benz (including Maybach) Motors</td></tr><tr><td>BR1628</td><td>Ranger Motors</td></tr><tr><td>BR1858</td><td>Standard-Triumph Motors</td></tr><tr><td>BR0797</td><td>Hindustan Motors</td></tr><tr><td>BR0608</td><td>Ford America Motors</td></tr><tr><td>BR10686</td><td>Simca Motors</td></tr><tr><td>BR0793</td><td>Hindustan Motors</td></tr><tr><td>BR2165</td><td>Izh  Motors</td></tr><tr><td>BR1192</td><td>Mastretta Motors</td></tr><tr><td>BR1498</td><td>Panther Motors</td></tr><tr><td>BR1214</td><td>Mazda Motors</td></tr><tr><td>BR1158</td><td>Marcos Motors</td></tr><tr><td>BR0483</td><td>Dodge Motors</td></tr><tr><td>BR1371</td><td>Naza Motors</td></tr><tr><td>BR0451</td><td>DeLorean Motors</td></tr><tr><td>BR10386</td><td>Santana Motors</td></tr><tr><td>BR2380</td><td>Cass Motor Sales</td></tr><tr><td>BR0129</td><td>Aston Martin Motors</td></tr><tr><td>BR0537</td><td>Elva Motors</td></tr><tr><td>BR1528</td><td>Peugeot Motors</td></tr><tr><td>BR1765</td><td>Seat Motors</td></tr><tr><td>BR2077</td><td>Wiesmann Motors</td></tr><tr><td>BR12306</td><td>Volvo Motors</td></tr><tr><td>BR0769</td><td>Heinkel Motors</td></tr><tr><td>BR0168</td><td>Auverland Motors</td></tr><tr><td>BR0269</td><td>Bugatti Motors</td></tr><tr><td>BR2105</td><td>ZIL Motors</td></tr><tr><td>BR0060</td><td>Alvis Motors</td></tr><tr><td>BR13266</td><td>Riley  Motors</td></tr><tr><td>BR0212</td><td>Borgward (including Goliath and Lloyd) Motors</td></tr><tr><td>BR0074</td><td>Anadol Motors</td></tr><tr><td>BR1094</td><td>Lincoln Motors</td></tr><tr><td>BR0009</td><td>AC Cars Motors</td></tr><tr><td>BR2297</td><td>Zion Automobils</td></tr><tr><td>BR0724</td><td>GMC Motors</td></tr><tr><td>BR2113</td><td>Audi Motors</td></tr><tr><td>BR0843</td><td>Humber Motors</td></tr><tr><td>BR1065</td><td>Land Rover Motors</td></tr><tr><td>BR1962</td><td>Toyota India Motors</td></tr><tr><td>BR2243</td><td>Talbot  Motors</td></tr><tr><td>BR3786</td><td>Ford Europe Motors</td></tr><tr><td>BR0193</td><td>BMW Motors</td></tr><tr><td>BR2445</td><td>Jennings Ford Automobile Dealership</td></tr><tr><td>BR2174</td><td>Lagonda  Motors</td></tr><tr><td>BR0842</td><td>Humber Motors</td></tr><tr><td>BR2420</td><td>H Street Playhouse</td></tr><tr><td>BR0020</td><td>Acura Motors</td></tr><tr><td>BR1665</td><td>Rolls-Royce Motors</td></tr><tr><td>BR3606</td><td>Ford America Motors</td></tr><tr><td>BR1701</td><td>Samsung Motors</td></tr><tr><td>BR0188</td><td>Bitter Motors</td></tr><tr><td>BR1600</td><td>Premier Motors</td></tr><tr><td>BR0381</td><td>Dacia Motors</td></tr><tr><td>BR0685</td><td>Geo Motors</td></tr><tr><td>BR0064</td><td>AMC, Eagle Motors</td></tr><tr><td>BR1840</td><td>Spyker Motors</td></tr><tr><td>BR0755</td><td>Healey Motors</td></tr><tr><td>BR0691</td><td>Gilbern Motors</td></tr><tr><td>BR0647</td><td>Ford India Motors</td></tr><tr><td>BR2039</td><td>Volkswagen do Brasil Motors</td></tr><tr><td>BR1457</td><td>Packard Motors</td></tr><tr><td>BR14166</td><td>Casa de cadillac</td></tr><tr><td>BR1723</td><td>Santa Matilde Motors</td></tr><tr><td>BR1945</td><td>Tornado Motors</td></tr><tr><td>BR2231</td><td>Standard  Motors</td></tr><tr><td>BR0072</td><td>Anadol Motors</td></tr><tr><td>BR14706</td><td>Jones Motor Company</td></tr><tr><td>BR2448</td><td>Jennings Ford Automobile Dealership</td></tr><tr><td>BR1504</td><td>Peel Motors</td></tr><tr><td>BR1658</td><td>Rivian Motors</td></tr><tr><td>BR0645</td><td>Ford India Motors</td></tr><tr><td>BR1941</td><td>Tornado Motors</td></tr><tr><td>BR2121</td><td>DKW Motors</td></tr><tr><td>BR6606</td><td>Lotus Motors</td></tr><tr><td>BR0435</td><td>Datsun Motors</td></tr><tr><td>BR2240</td><td>Standard  Motors</td></tr><tr><td>BR2431</td><td>Hupmobile Building</td></tr><tr><td>BR2451</td><td>Jones Motor Company</td></tr><tr><td>BR7026</td><td>Maruti Motors</td></tr><tr><td>BR0029</td><td>Aixam-Mega (including Arola) Motors</td></tr><tr><td>BR2173</td><td>Lagonda  Motors</td></tr><tr><td>BR1968</td><td>Toyota India Motors</td></tr><tr><td>BR1108</td><td>Lotus Motors</td></tr><tr><td>BR0934</td><td>Isotta Fraschini Motors</td></tr><tr><td>BR0822</td><td>Honda India Motors</td></tr><tr><td>BR1373</td><td>Naza Motors</td></tr><tr><td>BR2144</td><td>Wanderer Motors</td></tr><tr><td>BR0047</td><td>Alpine Motors</td></tr><tr><td>BR0833</td><td>Hudson Motors</td></tr><tr><td>BR1338</td><td>Monteverdi Motors</td></tr><tr><td>BR1565</td><td>Polestar Motors</td></tr><tr><td>BR2184</td><td>MG  Motors</td></tr><tr><td>BR0908</td><td>Invicta Motors</td></tr><tr><td>BR1529</td><td>Peugeot Motors</td></tr><tr><td>BR2154</td><td>Maybach  Motors</td></tr><tr><td>BR0205</td><td>Bond Motors</td></tr><tr><td>BR1559</td><td>Plymouth Motors</td></tr><tr><td>BR10446</td><td>Saturn Motors</td></tr><tr><td>BR0204</td><td>Bond Motors</td></tr><tr><td>BR2214</td><td>Riley  Motors</td></tr><tr><td>BR0493</td><td>Donkervoort Motors</td></tr><tr><td>BR0894</td><td>Innocenti Motors</td></tr><tr><td>BR2068</td><td>Westfield Motors</td></tr><tr><td>BR0760</td><td>Healey Motors</td></tr><tr><td>BR0458</td><td>DeLorean Motors</td></tr><tr><td>BR13386</td><td>Standard  Motors</td></tr><tr><td>BR1404</td><td>Noble Motors</td></tr><tr><td>BR1804</td><td>Singer Motors</td></tr><tr><td>BR2352</td><td>Cadillac Automobile Company Building</td></tr><tr><td>BR0309</td><td>Caterham Motors</td></tr><tr><td>BR2080</td><td>Wiesmann Motors</td></tr><tr><td>BR0161</td><td>Auverland Motors</td></tr><tr><td>BR0197</td><td>BMW Motors</td></tr><tr><td>BR0854</td><td>Hummer Motors</td></tr><tr><td>BR8226</td><td>Naza Motors</td></tr><tr><td>BR0243</td><td>Austin-Healey Motors</td></tr><tr><td>BR1229</td><td>Mazzanti Motors</td></tr><tr><td>BR2332</td><td>Bohn Motor Company Automobile Dealership</td></tr><tr><td>BR0966</td><td>Auverland Motors</td></tr><tr><td>BR0720</td><td>Glas Motors</td></tr><tr><td>BR2097</td><td>ZAZ Motors</td></tr><tr><td>BR0066</td><td>Acura Motors</td></tr><tr><td>BR0342</td><td>Chrysler Motors</td></tr><tr><td>BR0845</td><td>Humber Motors</td></tr><tr><td>BR0590</td><td>Fiat India Motors</td></tr><tr><td>BR2350</td><td>Buick Automobile Company Building</td></tr><tr><td>BR2143</td><td>Wanderer Motors</td></tr><tr><td>BR0383</td><td>Dacia Motors</td></tr><tr><td>BR2454</td><td>Jones Motor Company</td></tr><tr><td>BR1922</td><td>Tazzari Motors</td></tr><tr><td>BR2065</td><td>Westfield Motors</td></tr><tr><td>BR0239</td><td>British Leyland Motors</td></tr><tr><td>BR1040</td><td>Lada Motors</td></tr><tr><td>BR2258</td><td>Das Motors</td></tr><tr><td>BR0697</td><td>Gilbern Motors</td></tr><tr><td>BR1098</td><td>Lincoln Motors</td></tr><tr><td>BR1678</td><td>Saab Motors</td></tr><tr><td>BR0471</td><td>De Tomaso Motors</td></tr><tr><td>BR0693</td><td>Gilbern Motors</td></tr><tr><td>BR2204</td><td>Austin  Motors</td></tr><tr><td>BR0832</td><td>Hudson Motors</td></tr><tr><td>BR1289</td><td>Mia Motors</td></tr><tr><td>BR0357</td><td>Chrysler Europe Motors</td></tr><tr><td>BR0447</td><td>Delahaye Motors</td></tr><tr><td>BR0709</td><td>Ginetta Motors</td></tr><tr><td>BR2166</td><td>Citroën Motors</td></tr><tr><td>BR0943</td><td>Isuzu Motors</td></tr><tr><td>BR0790</td><td>Hillman Motors</td></tr><tr><td>BR2247</td><td>Talbot  Motors</td></tr><tr><td>BR1005</td><td>Kia Motors</td></tr><tr><td>BR0846</td><td>Autobianchi Motors</td></tr><tr><td>BR0220</td><td>Borgward (including Goliath and Lloyd) Motors</td></tr><tr><td>BR1588</td><td>Porsche Motors</td></tr><tr><td>BR2118</td><td>Audi Motors</td></tr><tr><td>BR0378</td><td>Cizeta-Moroder Motors</td></tr><tr><td>BR2368</td><td>Casa de cadillac</td></tr><tr><td>BR0349</td><td>Chrysler Motors</td></tr><tr><td>BR0700</td><td>Gilbern Motors</td></tr><tr><td>BR2302</td><td>Atlantic Motor Company</td></tr><tr><td>BR0907</td><td>Invicta Motors</td></tr><tr><td>BR0407</td><td>DAF Motors</td></tr><tr><td>BR0077</td><td>Anadol Motors</td></tr><tr><td>BR1034</td><td>Lada Motors</td></tr><tr><td>BR1431</td><td>Oltcit Motors</td></tr><tr><td>BR1219</td><td>Mazda Motors</td></tr><tr><td>BR2155</td><td>Maybach  Motors</td></tr><tr><td>BR0839</td><td>Hudson Motors</td></tr><tr><td>BR6186</td><td>Lada Motors</td></tr><tr><td>BR1630</td><td>Ranger Motors</td></tr><tr><td>BR0085</td><td>Ariel Motors</td></tr><tr><td>BR1903</td><td>Tata Motors</td></tr><tr><td>BR0175</td><td>Bentley Motors</td></tr><tr><td>BR0006</td><td>AC Cars Motors</td></tr><tr><td>BR1845</td><td>SsangYong Motors</td></tr><tr><td>BR2526</td><td>Daimler Motors</td></tr><tr><td>BR1823</td><td>Smart Motors</td></tr><tr><td>BR1199</td><td>Mastretta Motors</td></tr><tr><td>BR1382</td><td>Nissan Motors</td></tr><tr><td>BR1737</td><td>Santana Motors</td></tr><tr><td>BR2348</td><td>Buick Automobile Company Building</td></tr><tr><td>BR1929</td><td>Tazzari Motors</td></tr><tr><td>BR1728</td><td>Santa Matilde Motors</td></tr><tr><td>BR10146</td><td>Saleen Motors</td></tr><tr><td>BR0542</td><td>Facel Vega Motors</td></tr><tr><td>BR1745</td><td>Saturn Motors</td></tr><tr><td>BR2063</td><td>Westfield Motors</td></tr><tr><td>BR0662</td><td>FSO Motors</td></tr><tr><td>BR11106</td><td>Standard-Triumph Motors</td></tr><tr><td>BR2025</td><td>Volkswagen Motors</td></tr><tr><td>BR1266</td><td>Borgward (including Goliath and Lloyd) Motors</td></tr><tr><td>BR2312</td><td>2008 NRHP-listed</td></tr><tr><td>BR2075</td><td>Wiesmann Motors</td></tr><tr><td>BR0600</td><td>Fisker, Karma Motors</td></tr><tr><td>BR0254</td><td>Austin, Rover Motors</td></tr><tr><td>BR0265</td><td>Bugatti Motors</td></tr><tr><td>BR1613</td><td>Puma Motors</td></tr><tr><td>BR2370</td><td>Casa de cadillac</td></tr><tr><td>BR0945</td><td>Isuzu Motors</td></tr><tr><td>BR0658</td><td>Freightliner Motors</td></tr><tr><td>BR1931</td><td>Tesla Motors</td></tr><tr><td>BR2163</td><td>Izh  Motors</td></tr><tr><td>BR0711</td><td>Glas Motors</td></tr><tr><td>BR1527</td><td>Peugeot Motors</td></tr><tr><td>BR0455</td><td>DeLorean Motors</td></tr><tr><td>BR0692</td><td>Gilbern Motors</td></tr><tr><td>BR1411</td><td>NSU Motors</td></tr><tr><td>BR2429</td><td>Howard Motor Company Building</td></tr><tr><td>BR1369</td><td>Nash Motors</td></tr><tr><td>BR2168</td><td>Izh  Motors</td></tr><tr><td>BR2391</td><td>Clemens Automobile Company Building</td></tr><tr><td>BR2886</td><td>Dodge Motors</td></tr><tr><td>BR1735</td><td>Santana Motors</td></tr><tr><td>BR2123</td><td>DKW Motors</td></tr><tr><td>BR1419</td><td>NSU Motors</td></tr><tr><td>BR7386</td><td>McLaren Motors</td></tr><tr><td>BR0588</td><td>Fiat India Motors</td></tr><tr><td>BR0971</td><td>Jeep Motors</td></tr><tr><td>BR1545</td><td>Piaggio Motors</td></tr><tr><td>BR1554</td><td>Plymouth Motors</td></tr><tr><td>BR1557</td><td>Plymouth Motors</td></tr><tr><td>BR5826</td><td>Jeep Motors</td></tr><tr><td>BR1123</td><td>LuAZ Motors</td></tr><tr><td>BR1549</td><td>Piaggio Motors</td></tr><tr><td>BR0577</td><td>Fiat do Brasil Motors</td></tr><tr><td>BR0726</td><td>Aston Martin Motors</td></tr><tr><td>BR1861</td><td>Studebaker Motors</td></tr><tr><td>BR0804</td><td>Holden Motors</td></tr><tr><td>BR14106</td><td>Cadillac Automobile Company Building</td></tr><tr><td>BR1141</td><td>Mahindra Motors</td></tr><tr><td>BR0611</td><td>Ford Australia Motors</td></tr><tr><td>BR0001</td><td>AC Cars Motors</td></tr><tr><td>BR0623</td><td>Ford do Brasil Motors</td></tr><tr><td>BR0621</td><td>Ford do Brasil Motors</td></tr><tr><td>BR0253</td><td>Austin, Rover Motors</td></tr><tr><td>BR1747</td><td>Saturn Motors</td></tr><tr><td>BR1475</td><td>Panhard Motors</td></tr><tr><td>BR2048</td><td>Volkswagen South Africa Motors</td></tr><tr><td>BR2241</td><td>Talbot  Motors</td></tr><tr><td>BR13746</td><td>Zion Automobils</td></tr><tr><td>BR1194</td><td>Mastretta Motors</td></tr><tr><td>BR1121</td><td>LuAZ Motors</td></tr><tr><td>BR1283</td><td>Mia Motors</td></tr><tr><td>BR1834</td><td>Spyker Motors</td></tr><tr><td>BR0901</td><td>Invicta Motors</td></tr><tr><td>BR1547</td><td>Piaggio Motors</td></tr><tr><td>BR0219</td><td>Borgward (including Goliath and Lloyd) Motors</td></tr><tr><td>BR1347</td><td>Morgan Motors</td></tr><tr><td>BR1180</td><td>Maruti Motors</td></tr><tr><td>BR1593</td><td>Premier Motors</td></tr><tr><td>BR0905</td><td>Invicta Motors</td></tr><tr><td>BR0165</td><td>Auverland Motors</td></tr><tr><td>BR0878</td><td>IFA (including Trabant, Wartburg, Barkas) Motors</td></tr><tr><td>BR0559</td><td>Ferrari Motors</td></tr><tr><td>BR0649</td><td>Ford India Motors</td></tr><tr><td>BR1023</td><td>KTM Motors</td></tr><tr><td>BR2047</td><td>Volkswagen South Africa Motors</td></tr><tr><td>BR0514</td><td>e.GO Mobile Motors</td></tr><tr><td>BR0385</td><td>Dacia Motors</td></tr><tr><td>BR0140</td><td>Audi Motors</td></tr><tr><td>BR3066</td><td>e.GO Mobile Motors</td></tr><tr><td>BR0380</td><td>Cizeta-Moroder Motors</td></tr><tr><td>BR0812</td><td>Honda Motors</td></tr><tr><td>BR1291</td><td>Micro Motors</td></tr><tr><td>BR0208</td><td>Bond Motors</td></tr><tr><td>BR1248</td><td>Mercedes-Benz (including Maybach) Motors</td></tr><tr><td>BR2167</td><td>Izh  Motors</td></tr><tr><td>BR0214</td><td>Borgward (including Goliath and Lloyd) Motors</td></tr><tr><td>BR0919</td><td>Isdera Motors</td></tr><tr><td>BR1955</td><td>Toyota Motors</td></tr><tr><td>BR0069</td><td>AMC, Eagle Motors</td></tr><tr><td>BR0642</td><td>Ford India Motors</td></tr><tr><td>BR1611</td><td>Puma Motors</td></tr><tr><td>BR1777</td><td>Shelby SuperCars Motors</td></tr><tr><td>BR2406</td><td>DAF Motors</td></tr><tr><td>BR2208</td><td>Austin  Motors</td></tr><tr><td>BR0745</td><td>Gumpert Motors</td></tr><tr><td>BR0921</td><td>Iso Motors</td></tr><tr><td>BR1323</td><td>Monica Motors</td></tr><tr><td>BR2260</td><td>Das Motors</td></tr><tr><td>BR1044</td><td>Lamborghini Motors</td></tr><tr><td>BR8886</td><td>Panoz Motors</td></tr><tr><td>BR0191</td><td>BMW Motors</td></tr><tr><td>BR1244</td><td>Mercedes-Benz (including Maybach) Motors</td></tr><tr><td>BR1964</td><td>Toyota India Motors</td></tr><tr><td>BR1045</td><td>Lamborghini Motors</td></tr><tr><td>BR0424</td><td>Daimler Motors</td></tr><tr><td>BR10326</td><td>Santa Matilde Motors</td></tr><tr><td>BR0892</td><td>Innocenti Motors</td></tr><tr><td>BR0058</td><td>Alvis Motors</td></tr><tr><td>BR0861</td><td>Hyundai Motors</td></tr><tr><td>BR0978</td><td>Jeep Motors</td></tr><tr><td>BR0291</td><td>Cadillac Motors</td></tr><tr><td>BR1708</td><td>Samsung Motors</td></tr><tr><td>BR0759</td><td>Healey Motors</td></tr><tr><td>BR0469</td><td>DeSoto Motors</td></tr><tr><td>BR0090</td><td>Ariel Motors</td></tr><tr><td>BR0339</td><td>Chevrolet India Motors</td></tr><tr><td>BR7146</td><td>Mastretta Motors</td></tr><tr><td>BR1313</td><td>Mitsubishi Motors</td></tr><tr><td>BR0572</td><td>Fiat do Brasil Motors</td></tr><tr><td>BR2384</td><td>Claremore Auto Dealership</td></tr><tr><td>BR1205</td><td>Matra (including Deutsch-Bonnet, René Bonnet) Motors</td></tr><tr><td>BR14226</td><td>Cass Motor Sales</td></tr><tr><td>BR2441</td><td>Jennings Ford Automobile Dealership</td></tr><tr><td>BR2172</td><td>Lagonda  Motors</td></tr><tr><td>BR0923</td><td>Iso Motors</td></tr><tr><td>BR1683</td><td>SAIC Motor Motors</td></tr><tr><td>BR2239</td><td>Standard  Motors</td></tr><tr><td>BR2393</td><td>Clemens Automobile Company Building</td></tr><tr><td>BR2412</td><td>H Street Playhouse</td></tr><tr><td>BR0710</td><td>Ginetta Motors</td></tr><tr><td>BR8406</td><td>Noble Motors</td></tr><tr><td>BR1649</td><td>Renault Motors</td></tr><tr><td>BR0672</td><td>GAZ Motors</td></tr><tr><td>BR1667</td><td>Rolls-Royce Motors</td></tr><tr><td>BR0481</td><td>Dodge Motors</td></tr><tr><td>BR1934</td><td>Tesla Motors</td></tr><tr><td>BR1948</td><td>Tornado Motors</td></tr><tr><td>BR1960</td><td>Toyota Motors</td></tr><tr><td>BR6966</td><td>Marlin Motors</td></tr><tr><td>BR0742</td><td>Gumpert Motors</td></tr><tr><td>BR1230</td><td>Mazzanti Motors</td></tr><tr><td>BR1401</td><td>Noble Motors</td></tr><tr><td>BR1831</td><td>Spyker Motors</td></tr><tr><td>BR2071</td><td>Wiesmann Motors</td></tr><tr><td>BR1908</td><td>Tata Motors</td></tr><tr><td>BR0770</td><td>Heinkel Motors</td></tr><tr><td>BR6486</td><td>Ligier Motors</td></tr><tr><td>BR1608</td><td>Proton Motors</td></tr><tr><td>BR0859</td><td>Hummer Motors</td></tr><tr><td>BR0227</td><td>Bristol Motors</td></tr><tr><td>BR9426</td><td>Pontiac, Asüna Motors</td></tr><tr><td>BR1725</td><td>Santa Matilde Motors</td></tr><tr><td>BR1871</td><td>Subaru Motors</td></tr><tr><td>BR0787</td><td>Hillman Motors</td></tr><tr><td>BR2187</td><td>MG  Motors</td></tr><tr><td>BR0714</td><td>Glas Motors</td></tr><tr><td>BR1855</td><td>Standard-Triumph Motors</td></tr><tr><td>BR0509</td><td>Edsel Motors</td></tr><tr><td>BR1784</td><td>Simca Motors</td></tr><tr><td>BR0189</td><td>Bitter Motors</td></tr><tr><td>BR1832</td><td>Spyker Motors</td></tr><tr><td>BR0553</td><td>Ferrari Motors</td></tr><tr><td>BR1145</td><td>Mahindra Motors</td></tr><tr><td>BR2253</td><td>Das Motors</td></tr><tr><td>BR1164</td><td>Marlin Motors</td></tr><tr><td>BR0753</td><td>Healey Motors</td></tr><tr><td>BR0858</td><td>Hummer Motors</td></tr><tr><td>BR1189</td><td>Maserati Motors</td></tr><tr><td>BR0183</td><td>Bitter Motors</td></tr><tr><td>BR1203</td><td>Matra (including Deutsch-Bonnet, René Bonnet) Motors</td></tr><tr><td>BR0221</td><td>Bristol Motors</td></tr><tr><td>BR2117</td><td>Audi Motors</td></tr><tr><td>BR0004</td><td>AC Cars Motors</td></tr><tr><td>BR0972</td><td>Jeep Motors</td></tr><tr><td>BR2335</td><td>Bohn Motor Company Automobile Dealership</td></tr><tr><td>BR1305</td><td>Mini Motors</td></tr><tr><td>BR0955</td><td>Iveco Motors</td></tr><tr><td>BR0895</td><td>Innocenti Motors</td></tr><tr><td>BR1686</td><td>Bytom Motors</td></tr><tr><td>BR0429</td><td>Daimler Motors</td></tr><tr><td>BR0942</td><td>Isuzu Motors</td></tr><tr><td>BR0969</td><td>Jaguar Motors</td></tr><tr><td>BR1231</td><td>McLaren Motors</td></tr><tr><td>BR1267</td><td>Merkur Motors</td></tr><tr><td>BR1952</td><td>Toyota Motors</td></tr><tr><td>BR2151</td><td>Maybach  Motors</td></tr><tr><td>BR1827</td><td>Smart Motors</td></tr><tr><td>BR2414</td><td>H Street Playhouse</td></tr><tr><td>BR1793</td><td>Simca do Brasil Motors</td></tr><tr><td>BR6306</td><td>Lancia Motors</td></tr><tr><td>BR0231</td><td>British Leyland Motors</td></tr><tr><td>BR0546</td><td>ARO Motors</td></tr><tr><td>BR0533</td><td>Elva Motors</td></tr><tr><td>BR0031</td><td>Alfa Romeo Motors</td></tr><tr><td>BR0393</td><td>Daewoo, Saehan, Chevrolet Korea Motors</td></tr><tr><td>BR2374</td><td>Cass Motor Sales</td></tr><tr><td>BR0487</td><td>Dodge Motors</td></tr><tr><td>BR2443</td><td>Jennings Ford Automobile Dealership</td></tr><tr><td>BR0818</td><td>Honda Motors</td></tr><tr><td>BR1540</td><td>PGO Motors</td></tr><tr><td>BR1112</td><td>LTI Motors</td></tr><tr><td>BR1697</td><td>Saleen Motors</td></tr><tr><td>BR0306</td><td>Alvis Motors</td></tr><tr><td>BR1742</td><td>Saturn Motors</td></tr><tr><td>BR1620</td><td>Puma Motors</td></tr><tr><td>BR1238</td><td>McLaren Motors</td></tr><tr><td>BR1602</td><td>Proton Motors</td></tr><tr><td>BR2107</td><td>ZIL Motors</td></tr><tr><td>BR1449</td><td>Opel Motors</td></tr><tr><td>BR12246</td><td>Volkswagen South Africa Motors</td></tr><tr><td>BR1570</td><td>Polestar Motors</td></tr><tr><td>BR1017</td><td>Koenigsegg Motors</td></tr><tr><td>BR1395</td><td>Nissan India Motors</td></tr><tr><td>BR1687</td><td>SAIC Motor Motors</td></tr><tr><td>BR1841</td><td>SsangYong Motors</td></tr><tr><td>BR0961</td><td>Jaguar Motors</td></tr><tr><td>BR7506</td><td>Mercury Motors</td></tr><tr><td>BR1307</td><td>Mini Motors</td></tr><tr><td>BR0415</td><td>Daihatsu Motors</td></tr><tr><td>BR0834</td><td>Hudson Motors</td></tr><tr><td>BR2439</td><td>Hupmobile Building</td></tr><tr><td>BR2417</td><td>H Street Playhouse</td></tr><tr><td>BR1417</td><td>NSU Motors</td></tr><tr><td>BR0293</td><td>Cadillac Motors</td></tr><tr><td>BR2270</td><td>Ramani Motors</td></tr><tr><td>BR0911</td><td>Isdera Motors</td></tr><tr><td>BR1601</td><td>Proton Motors</td></tr><tr><td>BR0513</td><td>e.GO Mobile Motors</td></tr><tr><td>BR4026</td><td>GAZ Motors</td></tr><tr><td>BR8046</td><td>Morgan Motors</td></tr><tr><td>BR1809</td><td>Singer Motors</td></tr><tr><td>BR2052</td><td>Volvo Motors</td></tr><tr><td>BR12966</td><td>Izh  Motors</td></tr><tr><td>BR2385</td><td>Claremore Auto Dealership</td></tr><tr><td>BR1868</td><td>Studebaker Motors</td></tr><tr><td>BR0201</td><td>Bond Motors</td></tr><tr><td>BR1110</td><td>Lotus Motors</td></tr><tr><td>BR0708</td><td>Ginetta Motors</td></tr><tr><td>BR10566</td><td>Seat Motors</td></tr><tr><td>BR7866</td><td>Mitsubishi Motors</td></tr><tr><td>BR1043</td><td>Lamborghini Motors</td></tr><tr><td>BR1151</td><td>Marcos Motors</td></tr><tr><td>BR2404</td><td>Colman Automotive Building</td></tr><tr><td>BR1878</td><td>Subaru Motors</td></tr><tr><td>BR0837</td><td>Hudson Motors</td></tr><tr><td>BR0404</td><td>DAF Motors</td></tr><tr><td>BR0172</td><td>Bentley Motors</td></tr><tr><td>BR1028</td><td>KTM Motors</td></tr><tr><td>BR1657</td><td>Rivian Motors</td></tr><tr><td>BR0114</td><td>Asia Motors Motors</td></tr><tr><td>BR0538</td><td>Elva Motors</td></tr><tr><td>BR2359</td><td>Cadillac Automobile Company Building</td></tr><tr><td>BR1208</td><td>Matra (including Deutsch-Bonnet, René Bonnet) Motors</td></tr><tr><td>BR0173</td><td>Bentley Motors</td></tr><tr><td>BR0699</td><td>Gilbern Motors</td></tr><tr><td>BR0995</td><td>JPX Motors</td></tr><tr><td>BR1797</td><td>Simca do Brasil Motors</td></tr><tr><td>BR2022</td><td>Volkswagen Motors</td></tr><tr><td>BR0153</td><td>Auto-Union Motors</td></tr><tr><td>BR4626</td><td>Hennessey Motors</td></tr><tr><td>BR0663</td><td>FSO Motors</td></tr><tr><td>BR1440</td><td>Oltcit Motors</td></tr><tr><td>BR0629</td><td>Ford do Brasil Motors</td></tr><tr><td>BR1233</td><td>McLaren Motors</td></tr><tr><td>BR1854</td><td>Standard-Triumph Motors</td></tr><tr><td>BR1438</td><td>Oltcit Motors</td></tr><tr><td>BR1888</td><td>Sunbeam Motors</td></tr><tr><td>BR1632</td><td>Reliant Motors</td></tr><tr><td>BR0410</td><td>DAF Motors</td></tr><tr><td>BR2115</td><td>Audi Motors</td></tr><tr><td>BR1287</td><td>Mia Motors</td></tr><tr><td>BR1844</td><td>SsangYong Motors</td></tr><tr><td>BR0998</td><td>JPX Motors</td></tr><tr><td>BR0512</td><td>e.GO Mobile Motors</td></tr><tr><td>BR4686</td><td>Hillman Motors</td></tr><tr><td>BR0661</td><td>FSO Motors</td></tr><tr><td>BR0889</td><td>Infiniti Motors</td></tr><tr><td>BR5586</td><td>Isotta Fraschini Motors</td></tr><tr><td>BR0443</td><td>Delahaye Motors</td></tr><tr><td>BR0519</td><td>e.GO Mobile Motors</td></tr><tr><td>BR1680</td><td>Saab Motors</td></tr><tr><td>BR0299</td><td>Cadillac Motors</td></tr><tr><td>BR1370</td><td>Nash Motors</td></tr><tr><td>BR1333</td><td>Monteverdi Motors</td></tr><tr><td>BR2178</td><td>Lagonda  Motors</td></tr><tr><td>BR0534</td><td>Elva Motors</td></tr><tr><td>BR0751</td><td>Healey Motors</td></tr><tr><td>BR1050</td><td>Lamborghini Motors</td></tr><tr><td>BR2273</td><td>Deccan Motors</td></tr><tr><td>BR2401</td><td>Colman Automotive Building</td></tr><tr><td>BR1749</td><td>Saturn Motors</td></tr><tr><td>BR1330</td><td>Monica Motors</td></tr><tr><td>BR2383</td><td>Claremore Auto Dealership</td></tr><tr><td>BR2234</td><td>Standard  Motors</td></tr><tr><td>BR1127</td><td>LuAZ Motors</td></tr><tr><td>BR0707</td><td>Ginetta Motors</td></tr><tr><td>BR0712</td><td>Glas Motors</td></tr><tr><td>BR1741</td><td>Saturn Motors</td></tr><tr><td>BR1135</td><td>Lynx Motors</td></tr><tr><td>BR1442</td><td>Opel Motors</td></tr><tr><td>BR1829</td><td>Smart Motors</td></tr><tr><td>BR2007</td><td>Vauxhall Motors</td></tr><tr><td>BR0718</td><td>Glas Motors</td></tr><tr><td>BR0900</td><td>Innocenti Motors</td></tr><tr><td>BR1659</td><td>Rivian Motors</td></tr><tr><td>BR1397</td><td>Nissan India Motors</td></tr><tr><td>BR0028</td><td>Aixam-Mega (including Arola) Motors</td></tr><tr><td>BR0765</td><td>Heinkel Motors</td></tr><tr><td>BR0445</td><td>Delahaye Motors</td></tr><tr><td>BR1292</td><td>Micro Motors</td></tr><tr><td>BR1061</td><td>Land Rover Motors</td></tr><tr><td>BR1568</td><td>Polestar Motors</td></tr><tr><td>BR2321</td><td>Blankinship Motor Company Building</td></tr><tr><td>BR7806</td><td>Mini Motors</td></tr><tr><td>BR1779</td><td>Shelby SuperCars Motors</td></tr><tr><td>BR1998</td><td>UAZ Motors</td></tr><tr><td>BR0235</td><td>British Leyland Motors</td></tr><tr><td>BR0470</td><td>DeSoto Motors</td></tr><tr><td>BR0891</td><td>Innocenti Motors</td></tr><tr><td>BR0929</td><td>Iso Motors</td></tr><tr><td>BR0828</td><td>Honda India Motors</td></tr><tr><td>BR0438</td><td>Datsun Motors</td></tr><tr><td>BR2159</td><td>Maybach  Motors</td></tr><tr><td>BR0065</td><td>AMC, Eagle Motors</td></tr><tr><td>BR1459</td><td>Packard Motors</td></tr><tr><td>BR0551</td><td>Ferrari Motors</td></tr><tr><td>BR0033</td><td>Alfa Romeo Motors</td></tr><tr><td>BR0575</td><td>Fiat do Brasil Motors</td></tr><tr><td>BR2129</td><td>DKW Motors</td></tr><tr><td>BR3666</td><td>Ford Australia Motors</td></tr><tr><td>BR0719</td><td>Glas Motors</td></tr><tr><td>BR2033</td><td>Volkswagen do Brasil Motors</td></tr><tr><td>BR0810</td><td>Holden Motors</td></tr><tr><td>BR0341</td><td>Chrysler Motors</td></tr><tr><td>BR0363</td><td>Citroën Motors</td></tr><tr><td>BR0578</td><td>Fiat do Brasil Motors</td></tr><tr><td>BR1910</td><td>Tata Motors</td></tr><tr><td>BR1541</td><td>Piaggio Motors</td></tr><tr><td>BR2217</td><td>Riley  Motors</td></tr><tr><td>BR2250</td><td>Talbot  Motors</td></tr><tr><td>BR1531</td><td>PGO Motors</td></tr><tr><td>BR1991</td><td>UAZ Motors</td></tr><tr><td>BR2190</td><td>MG  Motors</td></tr><tr><td>BR1994</td><td>UAZ Motors</td></tr><tr><td>BR0119</td><td>Asia Motors Motors</td></tr><tr><td>BR0158</td><td>Auto-Union Motors</td></tr><tr><td>BR0667</td><td>FSO Motors</td></tr><tr><td>BR2315</td><td>2008 NRHP-listed</td></tr><tr><td>BR1919</td><td>Tatra Motors</td></tr><tr><td>BR0701</td><td>Ginetta Motors</td></tr><tr><td>BR5046</td><td>Humber Motors</td></tr><tr><td>BR1223</td><td>Mazzanti Motors</td></tr><tr><td>BR1822</td><td>Smart Motors</td></tr><tr><td>BR1702</td><td>Samsung Motors</td></tr><tr><td>BR0775</td><td>Hennessey Motors</td></tr><tr><td>BR0717</td><td>Glas Motors</td></tr><tr><td>BR1971</td><td>Turner Motors</td></tr><tr><td>BR2355</td><td>Cadillac Automobile Company Building</td></tr><tr><td>BR0130</td><td>Aston Martin Motors</td></tr><tr><td>BR2346</td><td>Daewoo, Saehan, Chevrolet Korea Motors</td></tr><tr><td>BR2091</td><td>ZAZ Motors</td></tr><tr><td>BR0032</td><td>Alfa Romeo Motors</td></tr><tr><td>BR0059</td><td>Alvis Motors</td></tr><tr><td>BR0893</td><td>Innocenti Motors</td></tr><tr><td>BR1190</td><td>Maserati Motors</td></tr><tr><td>BR3186</td><td>Elva Motors</td></tr><tr><td>BR0439</td><td>Datsun Motors</td></tr><tr><td>BR0762</td><td>Heinkel Motors</td></tr><tr><td>BR0494</td><td>Donkervoort Motors</td></tr><tr><td>BR0228</td><td>Bristol Motors</td></tr><tr><td>BR1197</td><td>Mastretta Motors</td></tr><tr><td>BR5646</td><td>Isuzu Motors</td></tr><tr><td>BR0412</td><td>Daihatsu Motors</td></tr><tr><td>BR0592</td><td>Fisker, Karma Motors</td></tr><tr><td>BR0984</td><td>Jensen Motors</td></tr><tr><td>BR1037</td><td>Lada Motors</td></tr><tr><td>BR1830</td><td>Smart Motors</td></tr><tr><td>BR0237</td><td>British Leyland Motors</td></tr><tr><td>BR0747</td><td>Gumpert Motors</td></tr><tr><td>BR1070</td><td>Land Rover Motors</td></tr><tr><td>BR3726</td><td>Ford do Brasil Motors</td></tr><tr><td>BR0317</td><td>Checker Motors</td></tr><tr><td>BR2409</td><td>Colman Automotive Building</td></tr><tr><td>BR1681</td><td>SAIC Motor Motors</td></tr><tr><td>BR0159</td><td>Auto-Union Motors</td></tr><tr><td>BR0297</td><td>Cadillac Motors</td></tr><tr><td>BR12486</td><td>Zastava Motors</td></tr><tr><td>BR1727</td><td>Santa Matilde Motors</td></tr><tr><td>BR0304</td><td>Caterham Motors</td></tr><tr><td>BR0521</td><td>Eicher Polaris Motors</td></tr><tr><td>BR0811</td><td>Honda Motors</td></tr><tr><td>BR0792</td><td>Hindustan Motors</td></tr><tr><td>BR1234</td><td>McLaren Motors</td></tr><tr><td>BR1298</td><td>Micro Motors</td></tr><tr><td>BR0164</td><td>Auverland Motors</td></tr><tr><td>BR1901</td><td>Tata Motors</td></tr><tr><td>BR2089</td><td>Zastava Motors</td></tr><tr><td>BR2095</td><td>ZAZ Motors</td></tr><tr><td>BR0092</td><td>ARO Motors</td></tr><tr><td>BR2150</td><td>Wanderer Motors</td></tr><tr><td>BR0990</td><td>Jensen Motors</td></tr><tr><td>BR0042</td><td>Alpine Motors</td></tr><tr><td>BR0094</td><td>ARO Motors</td></tr><tr><td>BR7746</td><td>Micro Motors</td></tr><tr><td>BR1159</td><td>Marcos Motors</td></tr><tr><td>BR1386</td><td>British Leyland Motors</td></tr><tr><td>BR1101</td><td>Lotus Motors</td></tr><tr><td>BR0491</td><td>Donkervoort Motors</td></tr><tr><td>BR0194</td><td>BMW Motors</td></tr><tr><td>BR0598</td><td>Fisker, Karma Motors</td></tr><tr><td>BR2449</td><td>Jennings Ford Automobile Dealership</td></tr><tr><td>BR2450</td><td>Jennings Ford Automobile Dealership</td></tr><tr><td>BR1639</td><td>Reliant Motors</td></tr><tr><td>BR0732</td><td>GTA Spano Motors</td></tr><tr><td>BR0841</td><td>Humber Motors</td></tr><tr><td>BR1974</td><td>Turner Motors</td></tr><tr><td>BR1174</td><td>Maruti Motors</td></tr><tr><td>BR1212</td><td>Mazda Motors</td></tr><tr><td>BR1721</td><td>Santa Matilde Motors</td></tr><tr><td>BR2469</td><td>Kindel Building</td></tr><tr><td>BR2061</td><td>Westfield Motors</td></tr><tr><td>BR0938</td><td>Isotta Fraschini Motors</td></tr><tr><td>BR1805</td><td>Singer Motors</td></tr><tr><td>BR0801</td><td>Holden Motors</td></tr><tr><td>BR2345</td><td>Buick Automobile Company Building</td></tr><tr><td>BR1263</td><td>Merkur Motors</td></tr><tr><td>BR1392</td><td>Nissan India Motors</td></tr><tr><td>BR1746</td><td>Cadillac Motors</td></tr><tr><td>BR2371</td><td>Cass Motor Sales</td></tr><tr><td>BR14406</td><td>Colman Automotive Building</td></tr><tr><td>BR0807</td><td>Holden Motors</td></tr><tr><td>BR0010</td><td>AC Cars Motors</td></tr><tr><td>BR0195</td><td>BMW Motors</td></tr><tr><td>BR2433</td><td>Hupmobile Building</td></tr><tr><td>BR1943</td><td>Tornado Motors</td></tr><tr><td>BR1435</td><td>Oltcit Motors</td></tr><tr><td>BR2331</td><td>Bohn Motor Company Automobile Dealership</td></tr><tr><td>BR1461</td><td>Pagani Motors</td></tr><tr><td>BR1803</td><td>Singer Motors</td></tr><tr><td>BR0321</td><td>Chevrolet Motors</td></tr><tr><td>BR12666</td><td>Audi Motors</td></tr><tr><td>BR0918</td><td>Isdera Motors</td></tr><tr><td>BR1542</td><td>Piaggio Motors</td></tr><tr><td>BR1717</td><td>San Motors</td></tr><tr><td>BR2138</td><td>Horch Motors</td></tr><tr><td>BR0126</td><td>Aixam-Mega (including Arola) Motors</td></tr><tr><td>BR0482</td><td>Dodge Motors</td></tr><tr><td>BR12186</td><td>Volkswagen do Brasil Motors</td></tr><tr><td>BR1739</td><td>Santana Motors</td></tr><tr><td>BR1299</td><td>Micro Motors</td></tr><tr><td>BR11946</td><td>UAZ Motors</td></tr><tr><td>BR8106</td><td>Moskwitch Motors</td></tr><tr><td>BR0145</td><td>Autobianchi Motors</td></tr><tr><td>BR2464</td><td>Kindel Building</td></tr><tr><td>BR0019</td><td>Acura Motors</td></tr><tr><td>BR2034</td><td>Volkswagen do Brasil Motors</td></tr><tr><td>BR0959</td><td>Iveco Motors</td></tr><tr><td>BR0702</td><td>Ginetta Motors</td></tr><tr><td>BR2421</td><td>Howard Motor Company Building</td></tr><tr><td>BR0734</td><td>GTA Spano Motors</td></tr><tr><td>BR0890</td><td>Infiniti Motors</td></tr><tr><td>BR0255</td><td>Austin, Rover Motors</td></tr><tr><td>BR1743</td><td>Saturn Motors</td></tr><tr><td>BR0331</td><td>Chevrolet India Motors</td></tr><tr><td>BR1029</td><td>KTM Motors</td></tr><tr><td>BR0234</td><td>British Leyland Motors</td></tr><tr><td>BR0851</td><td>Hummer Motors</td></tr><tr><td>BR2378</td><td>Cass Motor Sales</td></tr><tr><td>BR2142</td><td>Wanderer Motors</td></tr><tr><td>BR8466</td><td>NSU Motors</td></tr><tr><td>BR2360</td><td>Cadillac Automobile Company Building</td></tr><tr><td>BR0625</td><td>Ford do Brasil Motors</td></tr><tr><td>BR0318</td><td>Checker Motors</td></tr><tr><td>BR2140</td><td>Horch Motors</td></tr><tr><td>BR1699</td><td>Saleen Motors</td></tr><tr><td>BR0322</td><td>Chevrolet Motors</td></tr><tr><td>BR2267</td><td>Ramani Motors</td></tr><tr><td>BR0620</td><td>Ford Australia Motors</td></tr><tr><td>BR0078</td><td>Anadol Motors</td></tr><tr><td>BR1407</td><td>Noble Motors</td></tr><tr><td>BR1690</td><td>SAIC Motor Motors</td></tr><tr><td>BR0497</td><td>Donkervoort Motors</td></tr><tr><td>BR1117</td><td>LTI Motors</td></tr><tr><td>BR0610</td><td>Ford America Motors</td></tr><tr><td>BR0784</td><td>Hillman Motors</td></tr><tr><td>BR0071</td><td>Anadol Motors</td></tr><tr><td>BR2300</td><td>Zion Automobils</td></tr><tr><td>BR1255</td><td>Mercury Motors</td></tr><tr><td>BR1077</td><td>Lexus Motors</td></tr><tr><td>BR4746</td><td>Hindustan Motors</td></tr><tr><td>BR0485</td><td>Dodge Motors</td></tr><tr><td>BR1879</td><td>Subaru Motors</td></tr><tr><td>BR0473</td><td>De Tomaso Motors</td></tr><tr><td>BR0202</td><td>Bond Motors</td></tr><tr><td>BR2462</td><td>Kindel Building</td></tr><tr><td>BR1003</td><td>Kia Motors</td></tr><tr><td>BR0262</td><td>Bugatti Motors</td></tr><tr><td>BR1783</td><td>Simca Motors</td></tr><tr><td>BR0690</td><td>Geo Motors</td></tr><tr><td>BR1420</td><td>NSU Motors</td></tr><tr><td>BR2087</td><td>Zastava Motors</td></tr><tr><td>BR1220</td><td>Mazda Motors</td></tr><tr><td>BR1088</td><td>Ligier Motors</td></tr><tr><td>BR2646</td><td>Delahaye Motors</td></tr><tr><td>BR2361</td><td>Casa de cadillac</td></tr><tr><td>BR2372</td><td>Cass Motor Sales</td></tr><tr><td>BR0413</td><td>Daihatsu Motors</td></tr><tr><td>BR0817</td><td>Honda Motors</td></tr><tr><td>BR1204</td><td>Matra (including Deutsch-Bonnet, René Bonnet) Motors</td></tr><tr><td>BR0927</td><td>Iso Motors</td></tr><tr><td>BR6366</td><td>Land Rover Motors</td></tr><tr><td>BR1693</td><td>Saleen Motors</td></tr><tr><td>BR0084</td><td>Ariel Motors</td></tr><tr><td>BR2457</td><td>Jones Motor Company</td></tr><tr><td>BR5346</td><td>Innocenti Motors</td></tr><tr><td>BR8286</td><td>Nissan Motors</td></tr><tr><td>BR1300</td><td>Micro Motors</td></tr><tr><td>BR1640</td><td>Reliant Motors</td></tr><tr><td>BR1852</td><td>Standard-Triumph Motors</td></tr><tr><td>BR2251</td><td>Das Motors</td></tr><tr><td>BR1058</td><td>Lancia Motors</td></tr><tr><td>BR12126</td><td>Volkswagen Motors</td></tr><tr><td>BR9126</td><td>Peugeot Motors</td></tr><tr><td>BR1664</td><td>Rolls-Royce Motors</td></tr><tr><td>BR2207</td><td>Austin  Motors</td></tr><tr><td>BR0303</td><td>Caterham Motors</td></tr><tr><td>BR1102</td><td>Lotus Motors</td></tr><tr><td>BR1631</td><td>Reliant Motors</td></tr><tr><td>BR0637</td><td>Ford Europe Motors</td></tr><tr><td>BR0974</td><td>Jeep Motors</td></tr><tr><td>BR0186</td><td>Alfa Romeo Motors</td></tr><tr><td>BR0857</td><td>Hummer Motors</td></tr><tr><td>BR1692</td><td>Saleen Motors</td></tr><tr><td>BR1799</td><td>Simca do Brasil Motors</td></tr><tr><td>BR0382</td><td>Dacia Motors</td></tr><tr><td>BR0329</td><td>Chevrolet Motors</td></tr><tr><td>BR0694</td><td>Gilbern Motors</td></tr><tr><td>BR0902</td><td>Invicta Motors</td></tr><tr><td>BR1522</td><td>Peugeot Motors</td></tr><tr><td>BR1001</td><td>Kia Motors</td></tr><tr><td>BR0144</td><td>Autobianchi Motors</td></tr><tr><td>BR0403</td><td>DAF Motors</td></tr><tr><td>BR2153</td><td>Maybach  Motors</td></tr><tr><td>BR0450</td><td>Delahaye Motors</td></tr><tr><td>BR5226</td><td>IFA (including Trabant, Wartburg, Barkas) Motors</td></tr><tr><td>BR1932</td><td>Tesla Motors</td></tr><tr><td>BR1240</td><td>McLaren Motors</td></tr><tr><td>BR9306</td><td>Plymouth Motors</td></tr><tr><td>BR1039</td><td>Lada Motors</td></tr><tr><td>BR1930</td><td>Tazzari Motors</td></tr><tr><td>BR0419</td><td>Daihatsu Motors</td></tr><tr><td>BR0773</td><td>Hennessey Motors</td></tr><tr><td>BR2124</td><td>DKW Motors</td></tr><tr><td>BR1828</td><td>Smart Motors</td></tr><tr><td>BR0121</td><td>Aston Martin Motors</td></tr><tr><td>BR0899</td><td>Innocenti Motors</td></tr><tr><td>BR10506</td><td>Scion Motors</td></tr><tr><td>BR1383</td><td>Nissan Motors</td></tr><tr><td>BR1424</td><td>Oldsmobile Motors</td></tr><tr><td>BR1947</td><td>Tornado Motors</td></tr><tr><td>BR1984</td><td>TVR Motors</td></tr><tr><td>BR8766</td><td>Pagani Motors</td></tr><tr><td>BR0399</td><td>Daewoo, Saehan, Chevrolet Korea Motors</td></tr><tr><td>BR0260</td><td>Austin, Rover Motors</td></tr><tr><td>BR0347</td><td>Chrysler Motors</td></tr><tr><td>BR0433</td><td>Datsun Motors</td></tr><tr><td>BR1510</td><td>Peel Motors</td></tr><tr><td>BR0052</td><td>Alvis Motors</td></tr><tr><td>BR0135</td><td>Audi Motors</td></tr><tr><td>BR0531</td><td>Elva Motors</td></tr><tr><td>BR1239</td><td>McLaren Motors</td></tr><tr><td>BR0814</td><td>Honda Motors</td></tr><tr><td>BR1093</td><td>Lincoln Motors</td></tr><tr><td>BR1771</td><td>Shelby SuperCars Motors</td></tr><tr><td>BR0631</td><td>Ford Europe Motors</td></tr><tr><td>BR1623</td><td>Ranger Motors</td></tr><tr><td>BR0139</td><td>Audi Motors</td></tr><tr><td>BR0562</td><td>Fiat Motors</td></tr><tr><td>BR2085</td><td>Zastava Motors</td></tr><tr><td>BR0953</td><td>Iveco Motors</td></tr><tr><td>BR1149</td><td>Mahindra Motors</td></tr><tr><td>BR1671</td><td>Saab Motors</td></tr><tr><td>BR0017</td><td>Acura Motors</td></tr><tr><td>BR1561</td><td>Polestar Motors</td></tr><tr><td>BR1129</td><td>LuAZ Motors</td></tr><tr><td>BR0987</td><td>Jensen Motors</td></tr><tr><td>BR0643</td><td>Ford India Motors</td></tr><tr><td>BR0502</td><td>Edsel Motors</td></tr><tr><td>BR1731</td><td>Santana Motors</td></tr><tr><td>BR2169</td><td>Izh  Motors</td></tr><tr><td>BR0827</td><td>Honda India Motors</td></tr><tr><td>BR1249</td><td>Mercedes-Benz (including Maybach) Motors</td></tr><tr><td>BR2128</td><td>DKW Motors</td></tr><tr><td>BR1492</td><td>Panther Motors</td></tr><tr><td>BR2229</td><td>Wolseley  Motors</td></tr><tr><td>BR1228</td><td>Mazzanti Motors</td></tr><tr><td>BR0704</td><td>Ginetta Motors</td></tr><tr><td>BR1026</td><td>Bentley Motors</td></tr><tr><td>BR2323</td><td>Blankinship Motor Company Building</td></tr><tr><td>BR3426</td><td>Fiat do Brasil Motors</td></tr><tr><td>BR0351</td><td>Chrysler Europe Motors</td></tr><tr><td>BR1975</td><td>Turner Motors</td></tr><tr><td>BR0744</td><td>Gumpert Motors</td></tr><tr><td>BR14646</td><td>Jennings Ford Automobile Dealership</td></tr><tr><td>BR2000</td><td>UAZ Motors</td></tr><tr><td>BR0198</td><td>BMW Motors</td></tr><tr><td>BR0384</td><td>Dacia Motors</td></tr><tr><td>BR0735</td><td>GTA Spano Motors</td></tr><tr><td>BR2244</td><td>Talbot  Motors</td></tr><tr><td>BR0504</td><td>Edsel Motors</td></tr><tr><td>BR0849</td><td>Humber Motors</td></tr><tr><td>BR1137</td><td>Lynx Motors</td></tr><tr><td>BR13326</td><td>Wolseley  Motors</td></tr><tr><td>BR1563</td><td>Polestar Motors</td></tr><tr><td>BR1027</td><td>KTM Motors</td></tr><tr><td>BR0350</td><td>Chrysler Motors</td></tr><tr><td>BR0527</td><td>Eicher Polaris Motors</td></tr><tr><td>BR1235</td><td>McLaren Motors</td></tr><tr><td>BR1590</td><td>Porsche Motors</td></tr><tr><td>BR0040</td><td>Alfa Romeo Motors</td></tr><tr><td>BR0395</td><td>Daewoo, Saehan, Chevrolet Korea Motors</td></tr><tr><td>BR1025</td><td>KTM Motors</td></tr><tr><td>BR0650</td><td>Ford India Motors</td></tr><tr><td>BR2470</td><td>Kindel Building</td></tr><tr><td>BR1993</td><td>UAZ Motors</td></tr><tr><td>BR1452</td><td>Packard Motors</td></tr><tr><td>BR2211</td><td>Riley  Motors</td></tr><tr><td>BR1053</td><td>Lancia Motors</td></tr><tr><td>BR0041</td><td>Alpine Motors</td></tr><tr><td>BR1672</td><td>Saab Motors</td></tr><tr><td>BR1258</td><td>Mercury Motors</td></tr><tr><td>BR1447</td><td>Opel Motors</td></tr><tr><td>BR0118</td><td>Asia Motors Motors</td></tr><tr><td>BR1349</td><td>Morgan Motors</td></tr><tr><td>BR0568</td><td>Fiat Motors</td></tr><tr><td>BR0673</td><td>GAZ Motors</td></tr><tr><td>BR1980</td><td>Turner Motors</td></tr><tr><td>BR0224</td><td>Bristol Motors</td></tr><tr><td>BR2341</td><td>Buick Automobile Company Building</td></tr><tr><td>BR0606</td><td>Artega Motors</td></tr><tr><td>BR0460</td><td>DeLorean Motors</td></tr><tr><td>BR1489</td><td>Panoz Motors</td></tr><tr><td>BR1210</td><td>Matra (including Deutsch-Bonnet, René Bonnet) Motors</td></tr><tr><td>BR1654</td><td>Rivian Motors</td></tr><tr><td>BR0112</td><td>Asia Motors Motors</td></tr><tr><td>BR2389</td><td>Claremore Auto Dealership</td></tr><tr><td>BR1444</td><td>Opel Motors</td></tr><tr><td>BR1911</td><td>Tatra Motors</td></tr><tr><td>BR1202</td><td>Matra (including Deutsch-Bonnet, René Bonnet) Motors</td></tr><tr><td>BR14586</td><td>Hupmobile Building</td></tr><tr><td>BR1999</td><td>UAZ Motors</td></tr><tr><td>BR1754</td><td>Scion Motors</td></tr><tr><td>BR2286</td><td>Dacia Motors</td></tr><tr><td>BR2392</td><td>Clemens Automobile Company Building</td></tr><tr><td>BR0152</td><td>Auto-Union Motors</td></tr><tr><td>BR1722</td><td>Santa Matilde Motors</td></tr><tr><td>BR0035</td><td>Alfa Romeo Motors</td></tr><tr><td>BR1642</td><td>Renault Motors</td></tr><tr><td>BR0379</td><td>Cizeta-Moroder Motors</td></tr><tr><td>BR2185</td><td>MG  Motors</td></tr><tr><td>BR1227</td><td>Mazzanti Motors</td></tr><tr><td>BR0387</td><td>Dacia Motors</td></tr><tr><td>BR2004</td><td>Vauxhall Motors</td></tr><tr><td>BR1712</td><td>San Motors</td></tr><tr><td>BR2132</td><td>Horch Motors</td></tr><tr><td>BR2220</td><td>Riley  Motors</td></tr><tr><td>BR0353</td><td>Chrysler Europe Motors</td></tr><tr><td>BR2201</td><td>Austin  Motors</td></tr><tr><td>BR0722</td><td>GMC Motors</td></tr><tr><td>BR1111</td><td>LTI Motors</td></tr><tr><td>BR0965</td><td>Jaguar Motors</td></tr><tr><td>BR1405</td><td>Noble Motors</td></tr><tr><td>BR2037</td><td>Volkswagen do Brasil Motors</td></tr><tr><td>BR2248</td><td>Talbot  Motors</td></tr><tr><td>BR0488</td><td>Dodge Motors</td></tr><tr><td>BR0182</td><td>Bitter Motors</td></tr><tr><td>BR1378</td><td>Naza Motors</td></tr><tr><td>BR1733</td><td>Santana Motors</td></tr><tr><td>BR2278</td><td>Deccan Motors</td></tr><tr><td>BR1867</td><td>Studebaker Motors</td></tr><tr><td>BR1207</td><td>Matra (including Deutsch-Bonnet, René Bonnet) Motors</td></tr><tr><td>BR4986</td><td>Hudson Motors</td></tr><tr><td>BR1544</td><td>Piaggio Motors</td></tr><tr><td>BR1163</td><td>Marlin Motors</td></tr><tr><td>BR1652</td><td>Rivian Motors</td></tr><tr><td>BR0579</td><td>Fiat do Brasil Motors</td></tr><tr><td>BR1021</td><td>KTM Motors</td></tr><tr><td>BR0698</td><td>Gilbern Motors</td></tr><tr><td>BR0922</td><td>Iso Motors</td></tr><tr><td>BR2197</td><td>Morris  Motors</td></tr><tr><td>BR0352</td><td>Chrysler Europe Motors</td></tr><tr><td>BR1604</td><td>Proton Motors</td></tr><tr><td>BR1764</td><td>Seat Motors</td></tr><tr><td>BR2152</td><td>Maybach  Motors</td></tr><tr><td>BR2419</td><td>H Street Playhouse</td></tr><tr><td>BR0104</td><td>Artega Motors</td></tr><tr><td>BR0171</td><td>Bentley Motors</td></tr><tr><td>BR0498</td><td>Donkervoort Motors</td></tr><tr><td>BR0517</td><td>e.GO Mobile Motors</td></tr><tr><td>BR1759</td><td>Scion Motors</td></tr><tr><td>BR1958</td><td>Toyota Motors</td></tr><tr><td>BR2046</td><td>Chrysler Motors</td></tr><tr><td>BR1339</td><td>Monteverdi Motors</td></tr><tr><td>BR2226</td><td>Cizeta-Moroder Motors</td></tr><tr><td>BR0070</td><td>AMC, Eagle Motors</td></tr><tr><td>BR0960</td><td>Iveco Motors</td></tr><tr><td>BR0868</td><td>Hyundai Motors</td></tr><tr><td>BR0294</td><td>Cadillac Motors</td></tr><tr><td>BR13986</td><td>Bohn Motor Company Automobile Dealership</td></tr><tr><td>BR2031</td><td>Volkswagen do Brasil Motors</td></tr><tr><td>BR0211</td><td>Borgward (including Goliath and Lloyd) Motors</td></tr><tr><td>BR0607</td><td>Ford America Motors</td></tr><tr><td>BR1068</td><td>Land Rover Motors</td></tr><tr><td>BR1684</td><td>SAIC Motor Motors</td></tr><tr><td>BR0975</td><td>Jeep Motors</td></tr><tr><td>BR0300</td><td>Cadillac Motors</td></tr><tr><td>BR0703</td><td>Ginetta Motors</td></tr><tr><td>BR3966</td><td>FSO Motors</td></tr><tr><td>BR4386</td><td>GTA Spano Motors</td></tr><tr><td>BR0230</td><td>Bristol Motors</td></tr><tr><td>BR1450</td><td>Opel Motors</td></tr><tr><td>BR1059</td><td>Lancia Motors</td></tr><tr><td>BR1957</td><td>Toyota Motors</td></tr><tr><td>BR3246</td><td>Facel Vega Motors</td></tr><tr><td>BR1651</td><td>Rivian Motors</td></tr><tr><td>BR0160</td><td>Auto-Union Motors</td></tr><tr><td>BR1800</td><td>Simca do Brasil Motors</td></tr><tr><td>BR2369</td><td>Casa de cadillac</td></tr><tr><td>BR2058</td><td>Volvo Motors</td></tr><tr><td>BR0515</td><td>e.GO Mobile Motors</td></tr><tr><td>BR1933</td><td>Tesla Motors</td></tr><tr><td>BR0852</td><td>Hummer Motors</td></tr><tr><td>BR1792</td><td>Simca do Brasil Motors</td></tr><tr><td>BR1451</td><td>Packard Motors</td></tr><tr><td>BR0252</td><td>Austin, Rover Motors</td></tr><tr><td>BR2149</td><td>Wanderer Motors</td></tr><tr><td>BR1865</td><td>Studebaker Motors</td></tr><tr><td>BR2427</td><td>Howard Motor Company Building</td></tr><tr><td>BR2283</td><td>Herald Motors</td></tr><tr><td>BR9066</td><td>Perodua Motors</td></tr><tr><td>BR1493</td><td>Panther Motors</td></tr><tr><td>BR0844</td><td>Humber Motors</td></tr><tr><td>BR2053</td><td>Volvo Motors</td></tr><tr><td>BR0617</td><td>Ford Australia Motors</td></tr><tr><td>BR1114</td><td>LTI Motors</td></tr><tr><td>BR0824</td><td>Honda India Motors</td></tr><tr><td>BR1052</td><td>Lancia Motors</td></tr><tr><td>BR1987</td><td>TVR Motors</td></tr><tr><td>BR1295</td><td>Micro Motors</td></tr><tr><td>BR0741</td><td>Gumpert Motors</td></tr><tr><td>BR1989</td><td>TVR Motors</td></tr><tr><td>BR2330</td><td>Blankinship Motor Company Building</td></tr><tr><td>BR0739</td><td>GTA Spano Motors</td></tr><tr><td>BR0884</td><td>Infiniti Motors</td></tr><tr><td>BR1393</td><td>Nissan India Motors</td></tr><tr><td>BR1769</td><td>Seat Motors</td></tr><tr><td>BR1181</td><td>Maserati Motors</td></tr><tr><td>BR1290</td><td>Mia Motors</td></tr><tr><td>BR1670</td><td>Rolls-Royce Motors</td></tr><tr><td>BR1977</td><td>Turner Motors</td></tr><tr><td>BR1467</td><td>Pagani Motors</td></tr><tr><td>BR1873</td><td>Subaru Motors</td></tr><tr><td>BR0011</td><td>Acura Motors</td></tr><tr><td>BR0223</td><td>Bristol Motors</td></tr><tr><td>BR0958</td><td>Iveco Motors</td></tr><tr><td>BR2135</td><td>Horch Motors</td></tr><tr><td>BR1391</td><td>Nissan India Motors</td></tr><tr><td>BR2017</td><td>Venturi Motors</td></tr><tr><td>BR0013</td><td>Acura Motors</td></tr><tr><td>BR1143</td><td>Mahindra Motors</td></tr><tr><td>BR2455</td><td>Jones Motor Company</td></tr><tr><td>BR0802</td><td>Holden Motors</td></tr><tr><td>BR1372</td><td>Naza Motors</td></tr><tr><td>BR1798</td><td>Simca do Brasil Motors</td></tr><tr><td>BR1875</td><td>Subaru Motors</td></tr><tr><td>BR0388</td><td>Dacia Motors</td></tr><tr><td>BR0665</td><td>FSO Motors</td></tr><tr><td>BR0695</td><td>Gilbern Motors</td></tr><tr><td>BR2023</td><td>Volkswagen Motors</td></tr><tr><td>BR2232</td><td>Standard  Motors</td></tr><tr><td>BR0931</td><td>Isotta Fraschini Motors</td></tr><tr><td>BR0688</td><td>Geo Motors</td></tr><tr><td>BR2032</td><td>Volkswagen do Brasil Motors</td></tr><tr><td>BR1592</td><td>Premier Motors</td></tr><tr><td>BR0764</td><td>Heinkel Motors</td></tr><tr><td>BR1917</td><td>Tatra Motors</td></tr><tr><td>BR1473</td><td>Panhard Motors</td></tr><tr><td>BR2237</td><td>Standard  Motors</td></tr><tr><td>BR0768</td><td>Heinkel Motors</td></tr><tr><td>BR2402</td><td>Colman Automotive Building</td></tr><tr><td>BR1761</td><td>Seat Motors</td></tr><tr><td>BR0420</td><td>Daihatsu Motors</td></tr><tr><td>BR2088</td><td>Zastava Motors</td></tr><tr><td>BR1935</td><td>Tesla Motors</td></tr><tr><td>BR1951</td><td>Toyota Motors</td></tr><tr><td>BR2084</td><td>Zastava Motors</td></tr><tr><td>BR5466</td><td>Isdera Motors</td></tr><tr><td>BR0073</td><td>Anadol Motors</td></tr><tr><td>BR1055</td><td>Lancia Motors</td></tr><tr><td>BR0791</td><td>Hindustan Motors</td></tr><tr><td>BR11286</td><td>Sunbeam Motors</td></tr><tr><td>BR0232</td><td>British Leyland Motors</td></tr><tr><td>BR1232</td><td>McLaren Motors</td></tr><tr><td>BR5886</td><td>Jensen Motors</td></tr><tr><td>BR1768</td><td>Seat Motors</td></tr><tr><td>BR0003</td><td>AC Cars Motors</td></tr><tr><td>BR2415</td><td>H Street Playhouse</td></tr><tr><td>BR0154</td><td>Auto-Union Motors</td></tr><tr><td>BR0873</td><td>IFA (including Trabant, Wartburg, Barkas) Motors</td></tr><tr><td>BR1353</td><td>Moskwitch Motors</td></tr><tr><td>BR1763</td><td>Seat Motors</td></tr><tr><td>BR1985</td><td>TVR Motors</td></tr><tr><td>BR1259</td><td>Mercury Motors</td></tr><tr><td>BR2041</td><td>Volkswagen South Africa Motors</td></tr><tr><td>BR0264</td><td>Bugatti Motors</td></tr><tr><td>BR0544</td><td>Facel Vega Motors</td></tr><tr><td>BR1691</td><td>Saleen Motors</td></tr><tr><td>BR1753</td><td>Scion Motors</td></tr><tr><td>BR2280</td><td>Deccan Motors</td></tr><tr><td>BR2079</td><td>Wiesmann Motors</td></tr><tr><td>BR2170</td><td>Izh  Motors</td></tr><tr><td>BR0501</td><td>Edsel Motors</td></tr><tr><td>BR0199</td><td>BMW Motors</td></tr><tr><td>BR0930</td><td>Iso Motors</td></tr><tr><td>BR5106</td><td>Hummer Motors</td></tr><tr><td>BR1304</td><td>Mini Motors</td></tr><tr><td>BR2028</td><td>Volkswagen Motors</td></tr><tr><td>BR1673</td><td>Saab Motors</td></tr><tr><td>BR0941</td><td>Isuzu Motors</td></tr><tr><td>BR1348</td><td>Morgan Motors</td></tr><tr><td>BR1301</td><td>Mini Motors</td></tr><tr><td>BR1838</td><td>Spyker Motors</td></tr><tr><td>BR2410</td><td>Colman Automotive Building</td></tr><tr><td>BR1377</td><td>Naza Motors</td></tr><tr><td>BR8706</td><td>Packard Motors</td></tr><tr><td>BR1173</td><td>Maruti Motors</td></tr><tr><td>BR1041</td><td>Lamborghini Motors</td></tr><tr><td>BR0067</td><td>AMC, Eagle Motors</td></tr><tr><td>BR1578</td><td>Pontiac, Asüna Motors</td></tr><tr><td>BR0075</td><td>Anadol Motors</td></tr><tr><td>BR0117</td><td>Asia Motors Motors</td></tr><tr><td>BR0464</td><td>DeSoto Motors</td></tr><tr><td>BR1294</td><td>Micro Motors</td></tr><tr><td>BR0278</td><td>Buick Motors</td></tr><tr><td>BR1471</td><td>Panhard Motors</td></tr><tr><td>BR1073</td><td>Lexus Motors</td></tr><tr><td>BR0014</td><td>Acura Motors</td></tr><tr><td>BR1571</td><td>Pontiac, Asüna Motors</td></tr><tr><td>BR2322</td><td>Blankinship Motor Company Building</td></tr><tr><td>BR1625</td><td>Ranger Motors</td></tr><tr><td>BR1099</td><td>Lincoln Motors</td></tr><tr><td>BR0240</td><td>British Leyland Motors</td></tr><tr><td>BR1635</td><td>Reliant Motors</td></tr><tr><td>BR0912</td><td>Isdera Motors</td></tr><tr><td>BR2468</td><td>Kindel Building</td></tr><tr><td>BR1869</td><td>Studebaker Motors</td></tr><tr><td>BR1915</td><td>Tatra Motors</td></tr><tr><td>BR1503</td><td>Peel Motors</td></tr><tr><td>BR2301</td><td>Atlantic Motor Company</td></tr><tr><td>BR0980</td><td>Jeep Motors</td></tr><tr><td>BR1835</td><td>Spyker Motors</td></tr><tr><td>BR0867</td><td>Hyundai Motors</td></tr><tr><td>BR1198</td><td>Mastretta Motors</td></tr><tr><td>BR4086</td><td>Geo Motors</td></tr><tr><td>BR1182</td><td>Maserati Motors</td></tr><tr><td>BR0599</td><td>Fisker, Karma Motors</td></tr><tr><td>BR0872</td><td>IFA (including Trabant, Wartburg, Barkas) Motors</td></tr><tr><td>BR1789</td><td>Simca Motors</td></tr><tr><td>BR1343</td><td>Morgan Motors</td></tr><tr><td>BR2057</td><td>Volvo Motors</td></tr><tr><td>BR2423</td><td>Howard Motor Company Building</td></tr><tr><td>BR1262</td><td>Merkur Motors</td></tr><tr><td>BR1990</td><td>TVR Motors</td></tr><tr><td>BR0477</td><td>De Tomaso Motors</td></tr><tr><td>BR0860</td><td>Hummer Motors</td></tr><tr><td>BR2946</td><td>Donkervoort Motors</td></tr><tr><td>BR2119</td><td>Audi Motors</td></tr><tr><td>BR0789</td><td>Hillman Motors</td></tr><tr><td>BR1558</td><td>Plymouth Motors</td></tr><tr><td>BR3306</td><td>Ferrari Motors</td></tr><tr><td>BR1808</td><td>Singer Motors</td></tr><tr><td>BR0272</td><td>Buick Motors</td></tr><tr><td>BR0654</td><td>Freightliner Motors</td></tr><tr><td>BR1413</td><td>NSU Motors</td></tr><tr><td>BR1752</td><td>Scion Motors</td></tr><tr><td>BR1183</td><td>Maserati Motors</td></tr><tr><td>BR1483</td><td>Panoz Motors</td></tr><tr><td>BR2221</td><td>Wolseley  Motors</td></tr><tr><td>BR0681</td><td>Geo Motors</td></tr><tr><td>BR1820</td><td>Skoda Motors</td></tr><tr><td>BR1414</td><td>NSU Motors</td></tr><tr><td>BR6246</td><td>Lamborghini Motors</td></tr><tr><td>BR0925</td><td>Iso Motors</td></tr><tr><td>BR0163</td><td>Auverland Motors</td></tr><tr><td>BR1410</td><td>Noble Motors</td></tr><tr><td>BR2460</td><td>Jones Motor Company</td></tr><tr><td>BR6546</td><td>Lincoln Motors</td></tr><tr><td>BR11646</td><td>Tornado Motors</td></tr><tr><td>BR1264</td><td>Merkur Motors</td></tr><tr><td>BR2179</td><td>Lagonda  Motors</td></tr><tr><td>BR0203</td><td>Bond Motors</td></tr><tr><td>BR1390</td><td>Nissan Motors</td></tr><tr><td>BR1425</td><td>Oldsmobile Motors</td></tr><tr><td>BR0400</td><td>Daewoo, Saehan, Chevrolet Korea Motors</td></tr><tr><td>BR0949</td><td>Isuzu Motors</td></tr><tr><td>BR3906</td><td>Freightliner Motors</td></tr><tr><td>BR0179</td><td>Bentley Motors</td></tr><tr><td>BR1150</td><td>Mahindra Motors</td></tr><tr><td>BR2191</td><td>Morris  Motors</td></tr><tr><td>BR2199</td><td>Morris  Motors</td></tr><tr><td>BR1972</td><td>Turner Motors</td></tr><tr><td>BR2342</td><td>Buick Automobile Company Building</td></tr><tr><td>BR11706</td><td>Toyota Motors</td></tr><tr><td>BR1889</td><td>Sunbeam Motors</td></tr><tr><td>BR2182</td><td>MG  Motors</td></tr><tr><td>BR0555</td><td>Ferrari Motors</td></tr><tr><td>BR0180</td><td>Bentley Motors</td></tr><tr><td>BR2351</td><td>Cadillac Automobile Company Building</td></tr><tr><td>BR1303</td><td>Mini Motors</td></tr><tr><td>BR1647</td><td>Renault Motors</td></tr><tr><td>BR0218</td><td>Borgward (including Goliath and Lloyd) Motors</td></tr><tr><td>BR0581</td><td>Fiat India Motors</td></tr><tr><td>BR0678</td><td>GAZ Motors</td></tr><tr><td>BR0103</td><td>Artega Motors</td></tr><tr><td>BR0883</td><td>Infiniti Motors</td></tr><tr><td>BR1864</td><td>Studebaker Motors</td></tr><tr><td>BR1641</td><td>Renault Motors</td></tr><tr><td>BR0870</td><td>Hyundai Motors</td></tr><tr><td>BR2035</td><td>Volkswagen do Brasil Motors</td></tr><tr><td>BR2180</td><td>Lagonda  Motors</td></tr><tr><td>BR0798</td><td>Hindustan Motors</td></tr><tr><td>BR13806</td><td>Atlantic Motor Company</td></tr><tr><td>BR0727</td><td>GMC Motors</td></tr><tr><td>BR6006</td><td>Kia Motors</td></tr><tr><td>BR8646</td><td>Opel Motors</td></tr><tr><td>BR0328</td><td>Chevrolet Motors</td></tr><tr><td>BR11826</td><td>Turner Motors</td></tr><tr><td>BR2291</td><td>Zion Automobils</td></tr><tr><td>BR0638</td><td>Ford Europe Motors</td></tr><tr><td>BR0462</td><td>DeSoto Motors</td></tr><tr><td>BR2122</td><td>DKW Motors</td></tr><tr><td>BR0423</td><td>Daimler Motors</td></tr><tr><td>BR1488</td><td>Panoz Motors</td></tr><tr><td>BR1969</td><td>Toyota India Motors</td></tr><tr><td>BR1872</td><td>Subaru Motors</td></tr><tr><td>BR2175</td><td>Lagonda  Motors</td></tr><tr><td>BR0151</td><td>Auto-Union Motors</td></tr><tr><td>BR0337</td><td>Chevrolet India Motors</td></tr><tr><td>BR0573</td><td>Fiat do Brasil Motors</td></tr><tr><td>BR14766</td><td>Kindel Building</td></tr><tr><td>BR0249</td><td>Austin-Healey Motors</td></tr><tr><td>BR1927</td><td>Tazzari Motors</td></tr><tr><td>BR1279</td><td>Messerschmitt Motors</td></tr><tr><td>BR0468</td><td>DeSoto Motors</td></tr><tr><td>BR1104</td><td>Lotus Motors</td></tr><tr><td>BR1653</td><td>Rivian Motors</td></tr><tr><td>BR0994</td><td>JPX Motors</td></tr><tr><td>BR1014</td><td>Koenigsegg Motors</td></tr><tr><td>BR1719</td><td>San Motors</td></tr><tr><td>BR2147</td><td>Wanderer Motors</td></tr><tr><td>BR1384</td><td>Nissan Motors</td></tr><tr><td>BR9186</td><td>PGO Motors</td></tr><tr><td>BR1130</td><td>LuAZ Motors</td></tr><tr><td>BR0371</td><td>Cizeta-Moroder Motors</td></tr><tr><td>BR2275</td><td>Deccan Motors</td></tr><tr><td>BR0985</td><td>Jensen Motors</td></tr><tr><td>BR1365</td><td>Nash Motors</td></tr><tr><td>BR1445</td><td>Opel Motors</td></tr><tr><td>BR1814</td><td>Skoda Motors</td></tr><tr><td>BR1418</td><td>NSU Motors</td></tr><tr><td>BR1720</td><td>San Motors</td></tr><tr><td>BR1491</td><td>Panther Motors</td></tr><tr><td>BR0479</td><td>De Tomaso Motors</td></tr><tr><td>BR1274</td><td>Messerschmitt Motors</td></tr><tr><td>BR2083</td><td>Zastava Motors</td></tr><tr><td>BR2307</td><td>Atlantic Motor Company</td></tr><tr><td>BR2282</td><td>Herald Motors</td></tr><tr><td>BR1273</td><td>Messerschmitt Motors</td></tr><tr><td>BR1218</td><td>Mazda Motors</td></tr><tr><td>BR0402</td><td>DAF Motors</td></tr><tr><td>BR1560</td><td>Plymouth Motors</td></tr><tr><td>BR4266</td><td>Glas Motors</td></tr><tr><td>BR1175</td><td>Maruti Motors</td></tr><tr><td>BR1448</td><td>Opel Motors</td></tr><tr><td>BR0785</td><td>Hillman Motors</td></tr><tr><td>BR0675</td><td>GAZ Motors</td></tr><tr><td>BR0143</td><td>Autobianchi Motors</td></tr><tr><td>BR1729</td><td>Santa Matilde Motors</td></tr><tr><td>BR0344</td><td>Chrysler Motors</td></tr><tr><td>BR0051</td><td>Alvis Motors</td></tr><tr><td>BR0200</td><td>BMW Motors</td></tr><tr><td>BR2353</td><td>Cadillac Automobile Company Building</td></tr><tr><td>BR0038</td><td>Alfa Romeo Motors</td></tr><tr><td>BR1074</td><td>Lexus Motors</td></tr><tr><td>BR2050</td><td>Volkswagen South Africa Motors</td></tr><tr><td>BR2245</td><td>Talbot  Motors</td></tr><tr><td>BR0786</td><td>Audi Motors</td></tr><tr><td>BR0604</td><td>Ford America Motors</td></tr><tr><td>BR1184</td><td>Maserati Motors</td></tr><tr><td>BR1049</td><td>Lamborghini Motors</td></tr><tr><td>BR1780</td><td>Shelby SuperCars Motors</td></tr><tr><td>BR2766</td><td>DeSoto Motors</td></tr><tr><td>BR1688</td><td>SAIC Motor Motors</td></tr><tr><td>BR0225</td><td>Bristol Motors</td></tr><tr><td>BR2327</td><td>Blankinship Motor Company Building</td></tr><tr><td>BR12786</td><td>Horch Motors</td></tr><tr><td>BR0964</td><td>Jaguar Motors</td></tr><tr><td>BR4806</td><td>Holden Motors</td></tr><tr><td>BR10206</td><td>Samsung Motors</td></tr><tr><td>BR1261</td><td>Merkur Motors</td></tr><tr><td>BR1812</td><td>Skoda Motors</td></tr><tr><td>BR1605</td><td>Proton Motors</td></tr><tr><td>BR2125</td><td>DKW Motors</td></tr><tr><td>BR2183</td><td>MG  Motors</td></tr><tr><td>BR2452</td><td>Jones Motor Company</td></tr><tr><td>BR0101</td><td>Artega Motors</td></tr><tr><td>BR0723</td><td>GMC Motors</td></tr><tr><td>BR1914</td><td>Tatra Motors</td></tr><tr><td>BR1105</td><td>Lotus Motors</td></tr><tr><td>BR1328</td><td>Monica Motors</td></tr><tr><td>BR0640</td><td>Ford Europe Motors</td></tr><tr><td>BR1939</td><td>Tesla Motors</td></tr><tr><td>BR2104</td><td>ZIL Motors</td></tr><tr><td>BR0660</td><td>Freightliner Motors</td></tr><tr><td>BR0909</td><td>Invicta Motors</td></tr><tr><td>BR1118</td><td>LTI Motors</td></tr><tr><td>BR4926</td><td>Honda India Motors</td></tr><tr><td>BR0457</td><td>DeLorean Motors</td></tr><tr><td>BR0669</td><td>FSO Motors</td></tr><tr><td>BR2340</td><td>Bohn Motor Company Automobile Dealership</td></tr><tr><td>BR0687</td><td>Geo Motors</td></tr><tr><td>BR1661</td><td>Rolls-Royce Motors</td></tr><tr><td>BR1674</td><td>Saab Motors</td></tr><tr><td>BR2030</td><td>Volkswagen Motors</td></tr><tr><td>BR1083</td><td>Ligier Motors</td></tr><tr><td>BR1621</td><td>Ranger Motors</td></tr><tr><td>BR2072</td><td>Wiesmann Motors</td></tr><tr><td>BR2222</td><td>Wolseley  Motors</td></tr><tr><td>BR1013</td><td>Koenigsegg Motors</td></tr><tr><td>BR14046</td><td>Buick Automobile Company Building</td></tr><tr><td>BR1421</td><td>Oldsmobile Motors</td></tr><tr><td>BR2337</td><td>Bohn Motor Company Automobile Dealership</td></tr><tr><td>BR0338</td><td>Chevrolet India Motors</td></tr><tr><td>BR2347</td><td>Buick Automobile Company Building</td></tr><tr><td>BR0313</td><td>Checker Motors</td></tr><tr><td>BR0324</td><td>Chevrolet Motors</td></tr><tr><td>BR1479</td><td>Panhard Motors</td></tr><tr><td>BR1315</td><td>Mitsubishi Motors</td></tr><tr><td>BR0192</td><td>BMW Motors</td></tr><tr><td>BR1071</td><td>Lexus Motors</td></tr><tr><td>BR1521</td><td>Peugeot Motors</td></tr><tr><td>BR2090</td><td>Zastava Motors</td></tr><tr><td>BR1598</td><td>Premier Motors</td></tr><tr><td>BR0290</td><td>Bytom Motors</td></tr><tr><td>BR1107</td><td>Lotus Motors</td></tr><tr><td>BR1617</td><td>Puma Motors</td></tr><tr><td>BR0043</td><td>Alpine Motors</td></tr><tr><td>BR1689</td><td>SAIC Motor Motors</td></tr><tr><td>BR1895</td><td>Suzuki Motors</td></tr><tr><td>BR1682</td><td>SAIC Motor Motors</td></tr><tr><td>BR7986</td><td>Monteverdi Motors</td></tr><tr><td>BR2021</td><td>Volkswagen Motors</td></tr><tr><td>BR1638</td><td>Reliant Motors</td></tr><tr><td>BR0369</td><td>Citroën Motors</td></tr><tr><td>BR1978</td><td>Turner Motors</td></tr><tr><td>BR7266</td><td>Mazda Motors</td></tr><tr><td>BR2444</td><td>Jennings Ford Automobile Dealership</td></tr><tr><td>BR1519</td><td>Perodua Motors</td></tr><tr><td>BR2060</td><td>Volvo Motors</td></tr><tr><td>BR1147</td><td>Mahindra Motors</td></tr><tr><td>BR2062</td><td>Westfield Motors</td></tr><tr><td>BR0270</td><td>Bugatti Motors</td></tr><tr><td>BR0024</td><td>Aixam-Mega (including Arola) Motors</td></tr><tr><td>BR12606</td><td>ZIL Motors</td></tr><tr><td>BR0315</td><td>Checker Motors</td></tr><tr><td>BR1709</td><td>Samsung Motors</td></tr><tr><td>BR2329</td><td>Blankinship Motor Company Building</td></tr><tr><td>BR0251</td><td>Austin, Rover Motors</td></tr><tr><td>BR1188</td><td>Maserati Motors</td></tr><tr><td>BR7686</td><td>Mia Motors</td></tr><tr><td>BR1668</td><td>Rolls-Royce Motors</td></tr><tr><td>BR0434</td><td>Datsun Motors</td></tr><tr><td>BR0871</td><td>IFA (including Trabant, Wartburg, Barkas) Motors</td></tr><tr><td>BR1170</td><td>Marlin Motors</td></tr><tr><td>BR1222</td><td>Mazzanti Motors</td></tr><tr><td>BR2319</td><td>2008 NRHP-listed</td></tr><tr><td>BR0367</td><td>Citroën Motors</td></tr><tr><td>BR0247</td><td>Austin-Healey Motors</td></tr><tr><td>BR1019</td><td>Koenigsegg Motors</td></tr><tr><td>BR10806</td><td>Singer Motors</td></tr><tr><td>BR1502</td><td>Peel Motors</td></tr><tr><td>BR0185</td><td>Bitter Motors</td></tr><tr><td>BR1882</td><td>Sunbeam Motors</td></tr><tr><td>BR2059</td><td>Volvo Motors</td></tr><tr><td>BR0275</td><td>Buick Motors</td></tr><tr><td>BR1482</td><td>Panoz Motors</td></tr><tr><td>BR1758</td><td>Scion Motors</td></tr><tr><td>BR14526</td><td>Howard Motor Company Building</td></tr><tr><td>BR1925</td><td>Tazzari Motors</td></tr><tr><td>BR1060</td><td>Lancia Motors</td></tr><tr><td>BR1562</td><td>Polestar Motors</td></tr><tr><td>BR0012</td><td>Acura Motors</td></tr><tr><td>BR2309</td><td>Atlantic Motor Company</td></tr><tr><td>BR1937</td><td>Tesla Motors</td></tr><tr><td>BR5946</td><td>JPX Motors</td></tr><tr><td>BR1918</td><td>Tatra Motors</td></tr><tr><td>BR2101</td><td>ZIL Motors</td></tr><tr><td>BR2171</td><td>Lagonda  Motors</td></tr><tr><td>BR1515</td><td>Perodua Motors</td></tr><tr><td>BR0823</td><td>Honda India Motors</td></tr><tr><td>BR2405</td><td>Colman Automotive Building</td></tr><tr><td>BR1920</td><td>Tatra Motors</td></tr><tr><td>BR1949</td><td>Tornado Motors</td></tr><tr><td>BR1555</td><td>Plymouth Motors</td></tr><tr><td>BR2164</td><td>Izh  Motors</td></tr><tr><td>BR1157</td><td>Marcos Motors</td></tr><tr><td>BR0933</td><td>Isotta Fraschini Motors</td></tr><tr><td>BR0102</td><td>Artega Motors</td></tr><tr><td>BR0048</td><td>Alpine Motors</td></tr><tr><td>BR1499</td><td>Panther Motors</td></tr><tr><td>BR0585</td><td>Fiat India Motors</td></tr><tr><td>BR2358</td><td>Cadillac Automobile Company Building</td></tr><tr><td>BR0879</td><td>IFA (including Trabant, Wartburg, Barkas) Motors</td></tr><tr><td>BR0354</td><td>Chrysler Europe Motors</td></tr><tr><td>BR0963</td><td>Jaguar Motors</td></tr><tr><td>BR1573</td><td>Pontiac, Asüna Motors</td></tr><tr><td>BR1785</td><td>Simca Motors</td></tr><tr><td>BR1944</td><td>Tornado Motors</td></tr><tr><td>BR0880</td><td>IFA (including Trabant, Wartburg, Barkas) Motors</td></tr><tr><td>BR0947</td><td>Isuzu Motors</td></tr><tr><td>BR1762</td><td>Seat Motors</td></tr><tr><td>BR1113</td><td>LTI Motors</td></tr><tr><td>BR12906</td><td>Maybach  Motors</td></tr><tr><td>BR2049</td><td>Volkswagen South Africa Motors</td></tr><tr><td>BR1209</td><td>Matra (including Deutsch-Bonnet, René Bonnet) Motors</td></tr><tr><td>BR13086</td><td>MG  Motors</td></tr><tr><td>BR1332</td><td>Monteverdi Motors</td></tr><tr><td>BR1569</td><td>Polestar Motors</td></tr><tr><td>BR1940</td><td>Tesla Motors</td></tr><tr><td>BR2467</td><td>Kindel Building</td></tr><tr><td>BR2019</td><td>Venturi Motors</td></tr><tr><td>BR1087</td><td>Ligier Motors</td></tr><tr><td>BR2223</td><td>Wolseley  Motors</td></tr><tr><td>BR2070</td><td>Westfield Motors</td></tr><tr><td>BR1004</td><td>Kia Motors</td></tr><tr><td>BR0311</td><td>Checker Motors</td></tr><tr><td>BR1597</td><td>Premier Motors</td></tr><tr><td>BR1750</td><td>Saturn Motors</td></tr><tr><td>BR2008</td><td>Vauxhall Motors</td></tr><tr><td>BR1755</td><td>Scion Motors</td></tr><tr><td>BR2024</td><td>Volkswagen Motors</td></tr><tr><td>BR2067</td><td>Westfield Motors</td></tr><tr><td>BR0651</td><td>Freightliner Motors</td></tr><tr><td>BR1063</td><td>Land Rover Motors</td></tr><tr><td>BR1553</td><td>Plymouth Motors</td></tr><tr><td>BR1963</td><td>Toyota India Motors</td></tr><tr><td>BR2114</td><td>Audi Motors</td></tr><tr><td>BR0334</td><td>Chevrolet India Motors</td></tr><tr><td>BR1364</td><td>Nash Motors</td></tr><tr><td>BR1660</td><td>Rivian Motors</td></tr><tr><td>BR0229</td><td>Bristol Motors</td></tr><tr><td>BR2271</td><td>Deccan Motors</td></tr><tr><td>BR0840</td><td>Hudson Motors</td></tr><tr><td>BR2382</td><td>Claremore Auto Dealership</td></tr><tr><td>BR0459</td><td>DeLorean Motors</td></tr><tr><td>BR1905</td><td>Tata Motors</td></tr><tr><td>BR1894</td><td>Suzuki Motors</td></tr><tr><td>BR2411</td><td>H Street Playhouse</td></tr><tr><td>BR1567</td><td>Polestar Motors</td></tr><tr><td>BR2334</td><td>Bohn Motor Company Automobile Dealership</td></tr><tr><td>BR1880</td><td>Subaru Motors</td></tr><tr><td>BR2447</td><td>Jennings Ford Automobile Dealership</td></tr><tr><td>BR4146</td><td>Gilbern Motors</td></tr><tr><td>BR0633</td><td>Ford Europe Motors</td></tr><tr><td>BR1924</td><td>Tazzari Motors</td></tr><tr><td>BR2303</td><td>Atlantic Motor Company</td></tr><tr><td>BR2288</td><td>Herald Motors</td></tr><tr><td>BR0037</td><td>Alfa Romeo Motors</td></tr><tr><td>BR2289</td><td>Herald Motors</td></tr><tr><td>BR1317</td><td>Mitsubishi Motors</td></tr><tr><td>BR2252</td><td>Das Motors</td></tr><tr><td>BR1165</td><td>Marlin Motors</td></tr><tr><td>BR0492</td><td>Donkervoort Motors</td></tr><tr><td>BR2313</td><td>2008 NRHP-listed</td></tr><tr><td>BR0781</td><td>Hillman Motors</td></tr><tr><td>BR0838</td><td>Hudson Motors</td></tr><tr><td>BR1363</td><td>Nash Motors</td></tr><tr><td>BR1128</td><td>LuAZ Motors</td></tr><tr><td>BR0993</td><td>JPX Motors</td></tr><tr><td>BR1251</td><td>Mercury Motors</td></tr><tr><td>BR13026</td><td>Lagonda  Motors</td></tr><tr><td>BR0305</td><td>Caterham Motors</td></tr><tr><td>BR0268</td><td>Bugatti Motors</td></tr><tr><td>BR0657</td><td>Freightliner Motors</td></tr><tr><td>BR6126</td><td>KTM Motors</td></tr><tr><td>BR0392</td><td>Daewoo, Saehan, Chevrolet Korea Motors</td></tr><tr><td>BR1795</td><td>Simca do Brasil Motors</td></tr><tr><td>BR1388</td><td>Nissan Motors</td></tr><tr><td>BR1629</td><td>Ranger Motors</td></tr><tr><td>BR1320</td><td>Mitsubishi Motors</td></tr><tr><td>BR1507</td><td>Peel Motors</td></tr><tr><td>BR8826</td><td>Panhard Motors</td></tr><tr><td>BR0362</td><td>Citroën Motors</td></tr><tr><td>BR0432</td><td>Datsun Motors</td></tr><tr><td>BR7926</td><td>Monica Motors</td></tr><tr><td>BR1318</td><td>Mitsubishi Motors</td></tr><tr><td>BR1589</td><td>Porsche Motors</td></tr><tr><td>BR0728</td><td>GMC Motors</td></tr><tr><td>BR6426</td><td>Lexus Motors</td></tr><tr><td>BR2210</td><td>Austin  Motors</td></tr><tr><td>BR0414</td><td>Daihatsu Motors</td></tr><tr><td>BR0111</td><td>Asia Motors Motors</td></tr><tr><td>BR1923</td><td>Tazzari Motors</td></tr><tr><td>BR0752</td><td>Healey Motors</td></tr><tr><td>BR0738</td><td>GTA Spano Motors</td></tr><tr><td>BR0904</td><td>Invicta Motors</td></tr><tr><td>BR12366</td><td>Westfield Motors</td></tr><tr><td>BR2177</td><td>Lagonda  Motors</td></tr><tr><td>BR0999</td><td>JPX Motors</td></tr><tr><td>BR1167</td><td>Marlin Motors</td></tr><tr><td>BR1520</td><td>Perodua Motors</td></tr><tr><td>BR0989</td><td>Jensen Motors</td></tr><tr><td>BR2344</td><td>Buick Automobile Company Building</td></tr><tr><td>BR1408</td><td>Noble Motors</td></tr><tr><td>BR2706</td><td>DeLorean Motors</td></tr><tr><td>BR1293</td><td>Micro Motors</td></tr><tr><td>BR1663</td><td>Rolls-Royce Motors</td></tr><tr><td>BR0928</td><td>Iso Motors</td></tr><tr><td>BR0490</td><td>Dodge Motors</td></tr><tr><td>BR0973</td><td>Jeep Motors</td></tr><tr><td>BR0095</td><td>ARO Motors</td></tr><tr><td>BR1913</td><td>Tatra Motors</td></tr><tr><td>BR1884</td><td>Sunbeam Motors</td></tr><tr><td>BR0359</td><td>Chrysler Europe Motors</td></tr><tr><td>BR1954</td><td>Toyota Motors</td></tr><tr><td>BR0417</td><td>Daihatsu Motors</td></tr><tr><td>BR6786</td><td>Lynx Motors</td></tr><tr><td>BR1485</td><td>Panoz Motors</td></tr><tr><td>BR1634</td><td>Reliant Motors</td></tr><tr><td>BR0924</td><td>Iso Motors</td></tr><tr><td>BR13686</td><td>Herald Motors</td></tr><tr><td>BR2233</td><td>Standard  Motors</td></tr><tr><td>BR0463</td><td>DeSoto Motors</td></tr><tr><td>BR1837</td><td>Spyker Motors</td></tr><tr><td>BR0115</td><td>Asia Motors Motors</td></tr><tr><td>BR1155</td><td>Marcos Motors</td></tr><tr><td>BR1310</td><td>Mini Motors</td></tr><tr><td>BR0027</td><td>Aixam-Mega (including Arola) Motors</td></tr><tr><td>BR0215</td><td>Borgward (including Goliath and Lloyd) Motors</td></tr><tr><td>BR0082</td><td>Ariel Motors</td></tr><tr><td>BR1579</td><td>Pontiac, Asüna Motors</td></tr><tr><td>BR7326</td><td>Mazzanti Motors</td></tr><tr><td>BR1669</td><td>Rolls-Royce Motors</td></tr><tr><td>BR2011</td><td>Venturi Motors</td></tr><tr><td>BR0089</td><td>Ariel Motors</td></tr><tr><td>BR1195</td><td>Mastretta Motors</td></tr><tr><td>BR1633</td><td>Reliant Motors</td></tr><tr><td>BR1715</td><td>San Motors</td></tr><tr><td>BR0360</td><td>Chrysler Europe Motors</td></tr><tr><td>BR0552</td><td>Ferrari Motors</td></tr><tr><td>BR0981</td><td>Jensen Motors</td></tr><tr><td>BR1047</td><td>Lamborghini Motors</td></tr><tr><td>BR1751</td><td>Scion Motors</td></tr><tr><td>BR2293</td><td>Zion Automobils</td></tr><tr><td>BR1862</td><td>Studebaker Motors</td></tr><tr><td>BR1360</td><td>Moskwitch Motors</td></tr><tr><td>BR1241</td><td>Mercedes-Benz (including Maybach) Motors</td></tr><tr><td>BR13926</td><td>Blankinship Motor Company Building</td></tr><tr><td>BR2438</td><td>Hupmobile Building</td></tr><tr><td>BR1480</td><td>Panhard Motors</td></tr><tr><td>BR0815</td><td>Honda Motors</td></tr><tr><td>BR9246</td><td>Piaggio Motors</td></tr><tr><td>BR1302</td><td>Mini Motors</td></tr><tr><td>BR2305</td><td>Atlantic Motor Company</td></tr><tr><td>BR0505</td><td>Edsel Motors</td></tr><tr><td>BR1288</td><td>Mia Motors</td></tr><tr><td>BR0426</td><td>Anadol Motors</td></tr><tr><td>BR0940</td><td>Isotta Fraschini Motors</td></tr><tr><td>BR0080</td><td>Anadol Motors</td></tr><tr><td>BR0274</td><td>Buick Motors</td></tr><tr><td>BR0285</td><td>Bytom Motors</td></tr><tr><td>BR0682</td><td>Geo Motors</td></tr><tr><td>BR0713</td><td>Glas Motors</td></tr><tr><td>BR1655</td><td>Rivian Motors</td></tr><tr><td>BR2264</td><td>Ramani Motors</td></tr><tr><td>BR4566</td><td>Heinkel Motors</td></tr><tr><td>BR1358</td><td>Moskwitch Motors</td></tr><tr><td>BR1685</td><td>SAIC Motor Motors</td></tr><tr><td>BR1897</td><td>Suzuki Motors</td></tr><tr><td>BR2188</td><td>MG  Motors</td></tr><tr><td>BR2198</td><td>Morris  Motors</td></tr><tr><td>BR1351</td><td>Moskwitch Motors</td></tr><tr><td>BR1513</td><td>Perodua Motors</td></tr><tr><td>BR1677</td><td>Saab Motors</td></tr><tr><td>BR0181</td><td>Bitter Motors</td></tr><tr><td>BR1839</td><td>Spyker Motors</td></tr><tr><td>BR0277</td><td>Buick Motors</td></tr><tr><td>BR13566</td><td>Ramani Motors</td></tr><tr><td>BR2395</td><td>Clemens Automobile Company Building</td></tr><tr><td>BR1200</td><td>Mastretta Motors</td></tr><tr><td>BR0584</td><td>Fiat India Motors</td></tr><tr><td>BR1928</td><td>Tazzari Motors</td></tr><tr><td>BR0131</td><td>Audi Motors</td></tr><tr><td>BR13626</td><td>Deccan Motors</td></tr><tr><td>BR0569</td><td>Fiat Motors</td></tr><tr><td>BR2195</td><td>Morris  Motors</td></tr><tr><td>BR1275</td><td>Messerschmitt Motors</td></tr><tr><td>BR0484</td><td>Dodge Motors</td></tr><tr><td>BR1477</td><td>Panhard Motors</td></tr><tr><td>BR0778</td><td>Hennessey Motors</td></tr><tr><td>BR1172</td><td>Maruti Motors</td></tr><tr><td>BR1938</td><td>Tesla Motors</td></tr><tr><td>BR1168</td><td>Marlin Motors</td></tr><tr><td>BR0605</td><td>Ford America Motors</td></tr><tr><td>BR0302</td><td>Caterham Motors</td></tr><tr><td>BR1782</td><td>Simca Motors</td></tr><tr><td>BR2106</td><td>Chrysler Europe Motors</td></tr><tr><td>BR1460</td><td>Packard Motors</td></tr><tr><td>BR2009</td><td>Vauxhall Motors</td></tr><tr><td>BR2339</td><td>Bohn Motor Company Automobile Dealership</td></tr><tr><td>BR2259</td><td>Das Motors</td></tr><tr><td>BR0666</td><td>Asia Motors Motors</td></tr><tr><td>BR0877</td><td>IFA (including Trabant, Wartburg, Barkas) Motors</td></tr><tr><td>BR2295</td><td>Zion Automobils</td></tr><tr><td>BR3546</td><td>Fisker, Karma Motors</td></tr><tr><td>BR5406</td><td>Invicta Motors</td></tr><tr><td>BR0917</td><td>Isdera Motors</td></tr><tr><td>BR1380</td><td>Naza Motors</td></tr><tr><td>BR1575</td><td>Pontiac, Asüna Motors</td></tr><tr><td>BR0323</td><td>Chevrolet Motors</td></tr><tr><td>BR1148</td><td>Mahindra Motors</td></tr><tr><td>BR2042</td><td>Volkswagen South Africa Motors</td></tr><tr><td>BR0454</td><td>DeLorean Motors</td></tr><tr><td>BR0715</td><td>Glas Motors</td></tr><tr><td>BR0025</td><td>Aixam-Mega (including Arola) Motors</td></tr><tr><td>BR1245</td><td>Mercedes-Benz (including Maybach) Motors</td></tr><tr><td>BR0441</td><td>Delahaye Motors</td></tr><tr><td>BR0967</td><td>Jaguar Motors</td></tr><tr><td>BR0913</td><td>Isdera Motors</td></tr><tr><td>BR0565</td><td>Fiat Motors</td></tr><tr><td>BR0539</td><td>Elva Motors</td></tr><tr><td>BR1080</td><td>Lexus Motors</td></tr><tr><td>BR0169</td><td>Auverland Motors</td></tr><tr><td>BR1877</td><td>Subaru Motors</td></tr><tr><td>BR0295</td><td>Cadillac Motors</td></tr><tr><td>BR1582</td><td>Porsche Motors</td></tr><tr><td>BR2357</td><td>Cadillac Automobile Company Building</td></tr><tr><td>BR2440</td><td>Hupmobile Building</td></tr><tr><td>BR0283</td><td>Bytom Motors</td></tr><tr><td>BR0774</td><td>Hennessey Motors</td></tr><tr><td>BR1399</td><td>Nissan India Motors</td></tr><tr><td>BR1140</td><td>Lynx Motors</td></tr><tr><td>BR2029</td><td>Volkswagen Motors</td></tr><tr><td>BR2054</td><td>Volvo Motors</td></tr><tr><td>BR0602</td><td>Ford America Motors</td></tr><tr><td>BR0452</td><td>DeLorean Motors</td></tr><tr><td>BR0730</td><td>GMC Motors</td></tr><tr><td>BR0731</td><td>GTA Spano Motors</td></tr><tr><td>BR1518</td><td>Perodua Motors</td></tr><tr><td>BR0375</td><td>Cizeta-Moroder Motors</td></tr><tr><td>BR0655</td><td>Freightliner Motors</td></tr><tr><td>BR2263</td><td>Ramani Motors</td></tr><tr><td>BR1824</td><td>Smart Motors</td></tr><tr><td>BR1815</td><td>Skoda Motors</td></tr><tr><td>BR1595</td><td>Premier Motors</td></tr><tr><td>BR2131</td><td>Horch Motors</td></tr><tr><td>BR1340</td><td>Monteverdi Motors</td></tr><tr><td>BR2367</td><td>Casa de cadillac</td></tr><tr><td>BR2284</td><td>Herald Motors</td></tr><tr><td>BR0794</td><td>Hindustan Motors</td></tr><tr><td>BR2437</td><td>Hupmobile Building</td></tr><tr><td>BR0970</td><td>Jaguar Motors</td></tr><tr><td>BR0372</td><td>Cizeta-Moroder Motors</td></tr><tr><td>BR0653</td><td>Freightliner Motors</td></tr><tr><td>BR10626</td><td>Shelby SuperCars Motors</td></tr><tr><td>BR2388</td><td>Claremore Auto Dealership</td></tr><tr><td>BR1125</td><td>LuAZ Motors</td></tr><tr><td>BR0411</td><td>Daihatsu Motors</td></tr><tr><td>BR1711</td><td>San Motors</td></tr><tr><td>BR1988</td><td>TVR Motors</td></tr><tr><td>BR2287</td><td>Herald Motors</td></tr><tr><td>BR1821</td><td>Smart Motors</td></tr><tr><td>BR10746</td><td>Simca do Brasil Motors</td></tr><tr><td>BR2262</td><td>Ramani Motors</td></tr><tr><td>BR1362</td><td>Nash Motors</td></tr><tr><td>BR1892</td><td>Suzuki Motors</td></tr><tr><td>BR2018</td><td>Venturi Motors</td></tr><tr><td>BR0939</td><td>Isotta Fraschini Motors</td></tr><tr><td>BR2045</td><td>Volkswagen South Africa Motors</td></tr><tr><td>BR0634</td><td>Ford Europe Motors</td></tr><tr><td>BR0120</td><td>Asia Motors Motors</td></tr><tr><td>BR0888</td><td>Infiniti Motors</td></tr><tr><td>BR1252</td><td>Mercury Motors</td></tr><tr><td>BR2130</td><td>DKW Motors</td></tr><tr><td>BR1843</td><td>SsangYong Motors</td></tr><tr><td>BR2134</td><td>Horch Motors</td></tr><tr><td>BR2338</td><td>Bohn Motor Company Automobile Dealership</td></tr><tr><td>BR0008</td><td>AC Cars Motors</td></tr><tr><td>BR0405</td><td>DAF Motors</td></tr><tr><td>BR0122</td><td>Aston Martin Motors</td></tr><tr><td>BR0138</td><td>Audi Motors</td></tr><tr><td>BR1787</td><td>Simca Motors</td></tr><tr><td>BR1959</td><td>Toyota Motors</td></tr><tr><td>BR11466</td><td>Tatra Motors</td></tr><tr><td>BR1887</td><td>Sunbeam Motors</td></tr><tr><td>BR0983</td><td>Jensen Motors</td></tr><tr><td>BR0897</td><td>Innocenti Motors</td></tr><tr><td>BR1530</td><td>Peugeot Motors</td></tr><tr><td>BR0053</td><td>Alvis Motors</td></tr><tr><td>BR1321</td><td>Monica Motors</td></tr><tr><td>BR1322</td><td>Monica Motors</td></tr><tr><td>BR0409</td><td>DAF Motors</td></tr><tr><td>BR2108</td><td>ZIL Motors</td></tr><tr><td>BR0267</td><td>Bugatti Motors</td></tr><tr><td>BR1874</td><td>Subaru Motors</td></tr><tr><td>BR1092</td><td>Lincoln Motors</td></tr><tr><td>BR1610</td><td>Proton Motors</td></tr><tr><td>BR2272</td><td>Deccan Motors</td></tr><tr><td>BR2310</td><td>Atlantic Motor Company</td></tr><tr><td>BR0767</td><td>Heinkel Motors</td></tr><tr><td>BR1583</td><td>Porsche Motors</td></tr></tbody></table></div>"
      ]
     },
     "metadata": {
      "application/vnd.databricks.v1+output": {
       "addedWidgets": {},
       "aggData": [],
       "aggError": "",
       "aggOverflow": false,
       "aggSchema": [],
       "aggSeriesLimitReached": false,
       "aggType": "",
       "arguments": {},
       "columnCustomDisplayInfos": {},
       "data": [
        [
         "BR1152",
         "Marcos Motors"
        ],
        [
         "BR0819",
         "Honda Motors"
        ],
        [
         "BR2324",
         "Blankinship Motor Company Building"
        ],
        [
         "BR1833",
         "Spyker Motors"
        ],
        [
         "BR0721",
         "GMC Motors"
        ],
        [
         "BR1403",
         "Noble Motors"
        ],
        [
         "BR2103",
         "ZIL Motors"
        ],
        [
         "BR0005",
         "AC Cars Motors"
        ],
        [
         "BR0783",
         "Hillman Motors"
        ],
        [
         "BR0614",
         "Ford Australia Motors"
        ],
        [
         "BR1714",
         "San Motors"
        ],
        [
         "BR1626",
         "Buick Motors"
        ],
        [
         "BR1215",
         "Mazda Motors"
        ],
        [
         "BR1552",
         "Plymouth Motors"
        ],
        [
         "BR2005",
         "Vauxhall Motors"
        ],
        [
         "BR0333",
         "Chevrolet India Motors"
        ],
        [
         "BR1075",
         "Lexus Motors"
        ],
        [
         "BR1564",
         "Polestar Motors"
        ],
        [
         "BR0045",
         "Alpine Motors"
        ],
        [
         "BR1585",
         "Porsche Motors"
        ],
        [
         "BR1594",
         "Premier Motors"
        ],
        [
         "BR2277",
         "Deccan Motors"
        ],
        [
         "BR0408",
         "DAF Motors"
        ],
        [
         "BR1224",
         "Mazzanti Motors"
        ],
        [
         "BR2399",
         "Clemens Automobile Company Building"
        ],
        [
         "BR1138",
         "Lynx Motors"
        ],
        [
         "BR2377",
         "Cass Motor Sales"
        ],
        [
         "BR0997",
         "JPX Motors"
        ],
        [
         "BR2148",
         "Wanderer Motors"
        ],
        [
         "BR1178",
         "Maruti Motors"
        ],
        [
         "BR1902",
         "Tata Motors"
        ],
        [
         "BR1465",
         "Pagani Motors"
        ],
        [
         "BR1643",
         "Renault Motors"
        ],
        [
         "BR0829",
         "Honda India Motors"
        ],
        [
         "BR0805",
         "Holden Motors"
        ],
        [
         "BR0486",
         "Ariel Motors"
        ],
        [
         "BR0170",
         "Auverland Motors"
        ],
        [
         "BR2137",
         "Horch Motors"
        ],
        [
         "BR2317",
         "2008 NRHP-listed"
        ],
        [
         "BR1495",
         "Panther Motors"
        ],
        [
         "BR0068",
         "AMC, Eagle Motors"
        ],
        [
         "BR1326",
         "Bristol Motors"
        ],
        [
         "BR1086",
         "Bitter Motors"
        ],
        [
         "BR1398",
         "Nissan India Motors"
        ],
        [
         "BR2281",
         "Herald Motors"
        ],
        [
         "BR2318",
         "2008 NRHP-listed"
        ],
        [
         "BR0391",
         "Daewoo, Saehan, Chevrolet Korea Motors"
        ],
        [
         "BR2375",
         "Cass Motor Sales"
        ],
        [
         "BR1015",
         "Koenigsegg Motors"
        ],
        [
         "BR1277",
         "Messerschmitt Motors"
        ],
        [
         "BR1079",
         "Lexus Motors"
        ],
        [
         "BR0081",
         "Ariel Motors"
        ],
        [
         "BR0748",
         "Gumpert Motors"
        ],
        [
         "BR0055",
         "Alvis Motors"
        ],
        [
         "BR0627",
         "Ford do Brasil Motors"
        ],
        [
         "BR0865",
         "Hyundai Motors"
        ],
        [
         "BR0898",
         "Innocenti Motors"
        ],
        [
         "BR1778",
         "Shelby SuperCars Motors"
        ],
        [
         "BR2133",
         "Horch Motors"
        ],
        [
         "BR1464",
         "Pagani Motors"
        ],
        [
         "BR0044",
         "Alpine Motors"
        ],
        [
         "BR0442",
         "Delahaye Motors"
        ],
        [
         "BR1543",
         "Piaggio Motors"
        ],
        [
         "BR0906",
         "Auto-Union Motors"
        ],
        [
         "BR1615",
         "Puma Motors"
        ],
        [
         "BR6066",
         "Koenigsegg Motors"
        ],
        [
         "BR0803",
         "Holden Motors"
        ],
        [
         "BR0083",
         "Ariel Motors"
        ],
        [
         "BR11526",
         "Tazzari Motors"
        ],
        [
         "BR0123",
         "Aston Martin Motors"
        ],
        [
         "BR10026",
         "Saab Motors"
        ],
        [
         "BR2110",
         "ZIL Motors"
        ],
        [
         "BR1162",
         "Marlin Motors"
        ],
        [
         "BR0427",
         "Daimler Motors"
        ],
        [
         "BR2200",
         "Morris  Motors"
        ],
        [
         "BR0301",
         "Caterham Motors"
        ],
        [
         "BR1032",
         "Lada Motors"
        ],
        [
         "BR13506",
         "Das Motors"
        ],
        [
         "BR1379",
         "Naza Motors"
        ],
        [
         "BR0061",
         "AMC, Eagle Motors"
        ],
        [
         "BR2213",
         "Riley  Motors"
        ],
        [
         "BR2463",
         "Kindel Building"
        ],
        [
         "BR2157",
         "Maybach  Motors"
        ],
        [
         "BR1965",
         "Toyota India Motors"
        ],
        [
         "BR1770",
         "Seat Motors"
        ],
        [
         "BR2407",
         "Colman Automotive Building"
        ],
        [
         "BR1710",
         "Samsung Motors"
        ],
        [
         "BR1067",
         "Land Rover Motors"
        ],
        [
         "BR2100",
         "ZAZ Motors"
        ],
        [
         "BR2027",
         "Volkswagen Motors"
        ],
        [
         "BR8586",
         "Oltcit Motors"
        ],
        [
         "BR0364",
         "Citroën Motors"
        ],
        [
         "BR0680",
         "GAZ Motors"
        ],
        [
         "BR1525",
         "Peugeot Motors"
        ],
        [
         "BR1146",
         "BMW Motors"
        ],
        [
         "BR0757",
         "Healey Motors"
        ],
        [
         "BR0979",
         "Jeep Motors"
        ],
        [
         "BR0222",
         "Bristol Motors"
        ],
        [
         "BR2192",
         "Morris  Motors"
        ],
        [
         "BR1402",
         "Noble Motors"
        ],
        [
         "BR0018",
         "Acura Motors"
        ],
        [
         "BR11586",
         "Tesla Motors"
        ],
        [
         "BR0615",
         "Ford Australia Motors"
        ],
        [
         "BR1428",
         "Oldsmobile Motors"
        ],
        [
         "BR2394",
         "Clemens Automobile Company Building"
        ],
        [
         "BR10986",
         "Spyker Motors"
        ],
        [
         "BR1412",
         "NSU Motors"
        ],
        [
         "BR1511",
         "Perodua Motors"
        ],
        [
         "BR0444",
         "Delahaye Motors"
        ],
        [
         "BR0910",
         "Invicta Motors"
        ],
        [
         "BR0280",
         "Buick Motors"
        ],
        [
         "BR0619",
         "Ford Australia Motors"
        ],
        [
         "BR0881",
         "Infiniti Motors"
        ],
        [
         "BR1612",
         "Puma Motors"
        ],
        [
         "BR1325",
         "Monica Motors"
        ],
        [
         "BR2428",
         "Howard Motor Company Building"
        ],
        [
         "BR1842",
         "SsangYong Motors"
        ],
        [
         "BR1847",
         "SsangYong Motors"
        ],
        [
         "BR2230",
         "Wolseley  Motors"
        ],
        [
         "BR1171",
         "Maruti Motors"
        ],
        [
         "BR1849",
         "SsangYong Motors"
        ],
        [
         "BR0087",
         "Ariel Motors"
        ],
        [
         "BR0308",
         "Caterham Motors"
        ],
        [
         "BR1048",
         "Lamborghini Motors"
        ],
        [
         "BR1718",
         "San Motors"
        ],
        [
         "BR1270",
         "Merkur Motors"
        ],
        [
         "BR1700",
         "Saleen Motors"
        ],
        [
         "BR2320",
         "2008 NRHP-listed"
        ],
        [
         "BR1035",
         "Lada Motors"
        ],
        [
         "BR1574",
         "Pontiac, Asüna Motors"
        ],
        [
         "BR1455",
         "Packard Motors"
        ],
        [
         "BR1051",
         "Lancia Motors"
        ],
        [
         "BR0397",
         "Daewoo, Saehan, Chevrolet Korea Motors"
        ],
        [
         "BR1243",
         "Mercedes-Benz (including Maybach) Motors"
        ],
        [
         "BR2158",
         "Maybach  Motors"
        ],
        [
         "BR0863",
         "Hyundai Motors"
        ],
        [
         "BR2160",
         "Maybach  Motors"
        ],
        [
         "BR2139",
         "Horch Motors"
        ],
        [
         "BR8946",
         "Panther Motors"
        ],
        [
         "BR2161",
         "Izh  Motors"
        ],
        [
         "BR0422",
         "Daimler Motors"
        ],
        [
         "BR1463",
         "Pagani Motors"
        ],
        [
         "BR0368",
         "Citroën Motors"
        ],
        [
         "BR0613",
         "Ford Australia Motors"
        ],
        [
         "BR1008",
         "Kia Motors"
        ],
        [
         "BR2586",
         "Datsun Motors"
        ],
        [
         "BR0054",
         "Alvis Motors"
        ],
        [
         "BR1314",
         "Mitsubishi Motors"
        ],
        [
         "BR0461",
         "DeSoto Motors"
        ],
        [
         "BR2099",
         "ZAZ Motors"
        ],
        [
         "BR0310",
         "Caterham Motors"
        ],
        [
         "BR0474",
         "De Tomaso Motors"
        ],
        [
         "BR2202",
         "Austin  Motors"
        ],
        [
         "BR1811",
         "Skoda Motors"
        ],
        [
         "BR0141",
         "Autobianchi Motors"
        ],
        [
         "BR0279",
         "Buick Motors"
        ],
        [
         "BR0500",
         "Donkervoort Motors"
        ],
        [
         "BR1512",
         "Perodua Motors"
        ],
        [
         "BR0332",
         "Chevrolet India Motors"
        ],
        [
         "BR0524",
         "Eicher Polaris Motors"
        ],
        [
         "BR0271",
         "Buick Motors"
        ],
        [
         "BR1618",
         "Puma Motors"
        ],
        [
         "BR1454",
         "Packard Motors"
        ],
        [
         "BR1757",
         "Scion Motors"
        ],
        [
         "BR3006",
         "Edsel Motors"
        ],
        [
         "BR0021",
         "Aixam-Mega (including Arola) Motors"
        ],
        [
         "BR1179",
         "Maruti Motors"
        ],
        [
         "BR0968",
         "Jaguar Motors"
        ],
        [
         "BR12006",
         "Vauxhall Motors"
        ],
        [
         "BR0217",
         "Borgward (including Goliath and Lloyd) Motors"
        ],
        [
         "BR1788",
         "Simca Motors"
        ],
        [
         "BR0624",
         "Ford do Brasil Motors"
        ],
        [
         "BR10086",
         "SAIC Motor Motors"
        ],
        [
         "BR1577",
         "Pontiac, Asüna Motors"
        ],
        [
         "BR2290",
         "Herald Motors"
        ],
        [
         "BR2308",
         "Atlantic Motor Company"
        ],
        [
         "BR1619",
         "Puma Motors"
        ],
        [
         "BR7446",
         "Mercedes-Benz (including Maybach) Motors"
        ],
        [
         "BR1268",
         "Merkur Motors"
        ],
        [
         "BR0771",
         "Hennessey Motors"
        ],
        [
         "BR1253",
         "Mercury Motors"
        ],
        [
         "BR1807",
         "Singer Motors"
        ],
        [
         "BR2285",
         "Herald Motors"
        ],
        [
         "BR4446",
         "Gumpert Motors"
        ],
        [
         "BR2040",
         "Volkswagen do Brasil Motors"
        ],
        [
         "BR0561",
         "Fiat Motors"
        ],
        [
         "BR1637",
         "Reliant Motors"
        ],
        [
         "BR0528",
         "Eicher Polaris Motors"
        ],
        [
         "BR1860",
         "Standard-Triumph Motors"
        ],
        [
         "BR0418",
         "Daihatsu Motors"
        ],
        [
         "BR2064",
         "Westfield Motors"
        ],
        [
         "BR0213",
         "Borgward (including Goliath and Lloyd) Motors"
        ],
        [
         "BR1020",
         "Koenigsegg Motors"
        ],
        [
         "BR1352",
         "Moskwitch Motors"
        ],
        [
         "BR0298",
         "Cadillac Motors"
        ],
        [
         "BR5706",
         "Iveco Motors"
        ],
        [
         "BR1177",
         "Maruti Motors"
        ],
        [
         "BR1967",
         "Toyota India Motors"
        ],
        [
         "BR0601",
         "Ford America Motors"
        ],
        [
         "BR0108",
         "Artega Motors"
        ],
        [
         "BR0935",
         "Isotta Fraschini Motors"
        ],
        [
         "BR0520",
         "e.GO Mobile Motors"
        ],
        [
         "BR0525",
         "Eicher Polaris Motors"
        ],
        [
         "BR1603",
         "Proton Motors"
        ],
        [
         "BR0635",
         "Ford Europe Motors"
        ],
        [
         "BR1078",
         "Lexus Motors"
        ],
        [
         "BR2225",
         "Wolseley  Motors"
        ],
        [
         "BR0641",
         "Ford India Motors"
        ],
        [
         "BR11406",
         "Tata Motors"
        ],
        [
         "BR1679",
         "Saab Motors"
        ],
        [
         "BR0127",
         "Aston Martin Motors"
        ],
        [
         "BR1217",
         "Mazda Motors"
        ],
        [
         "BR1012",
         "Koenigsegg Motors"
        ],
        [
         "BR0015",
         "Acura Motors"
        ],
        [
         "BR0591",
         "Fisker, Karma Motors"
        ],
        [
         "BR1523",
         "Peugeot Motors"
        ],
        [
         "BR1863",
         "Studebaker Motors"
        ],
        [
         "BR2082",
         "Zastava Motors"
        ],
        [
         "BR0098",
         "ARO Motors"
        ],
        [
         "BR0523",
         "Eicher Polaris Motors"
        ],
        [
         "BR2362",
         "Casa de cadillac"
        ],
        [
         "BR0950",
         "Isuzu Motors"
        ],
        [
         "BR0988",
         "Jensen Motors"
        ],
        [
         "BR0125",
         "Aston Martin Motors"
        ],
        [
         "BR6846",
         "Mahindra Motors"
        ],
        [
         "BR0567",
         "Fiat Motors"
        ],
        [
         "BR0668",
         "FSO Motors"
        ],
        [
         "BR0049",
         "Alpine Motors"
        ],
        [
         "BR0050",
         "Alpine Motors"
        ],
        [
         "BR1193",
         "Mastretta Motors"
        ],
        [
         "BR0128",
         "Aston Martin Motors"
        ],
        [
         "BR0057",
         "Alvis Motors"
        ],
        [
         "BR1103",
         "Lotus Motors"
        ],
        [
         "BR1524",
         "Peugeot Motors"
        ],
        [
         "BR1247",
         "Mercedes-Benz (including Maybach) Motors"
        ],
        [
         "BR1628",
         "Ranger Motors"
        ],
        [
         "BR1858",
         "Standard-Triumph Motors"
        ],
        [
         "BR0797",
         "Hindustan Motors"
        ],
        [
         "BR0608",
         "Ford America Motors"
        ],
        [
         "BR10686",
         "Simca Motors"
        ],
        [
         "BR0793",
         "Hindustan Motors"
        ],
        [
         "BR2165",
         "Izh  Motors"
        ],
        [
         "BR1192",
         "Mastretta Motors"
        ],
        [
         "BR1498",
         "Panther Motors"
        ],
        [
         "BR1214",
         "Mazda Motors"
        ],
        [
         "BR1158",
         "Marcos Motors"
        ],
        [
         "BR0483",
         "Dodge Motors"
        ],
        [
         "BR1371",
         "Naza Motors"
        ],
        [
         "BR0451",
         "DeLorean Motors"
        ],
        [
         "BR10386",
         "Santana Motors"
        ],
        [
         "BR2380",
         "Cass Motor Sales"
        ],
        [
         "BR0129",
         "Aston Martin Motors"
        ],
        [
         "BR0537",
         "Elva Motors"
        ],
        [
         "BR1528",
         "Peugeot Motors"
        ],
        [
         "BR1765",
         "Seat Motors"
        ],
        [
         "BR2077",
         "Wiesmann Motors"
        ],
        [
         "BR12306",
         "Volvo Motors"
        ],
        [
         "BR0769",
         "Heinkel Motors"
        ],
        [
         "BR0168",
         "Auverland Motors"
        ],
        [
         "BR0269",
         "Bugatti Motors"
        ],
        [
         "BR2105",
         "ZIL Motors"
        ],
        [
         "BR0060",
         "Alvis Motors"
        ],
        [
         "BR13266",
         "Riley  Motors"
        ],
        [
         "BR0212",
         "Borgward (including Goliath and Lloyd) Motors"
        ],
        [
         "BR0074",
         "Anadol Motors"
        ],
        [
         "BR1094",
         "Lincoln Motors"
        ],
        [
         "BR0009",
         "AC Cars Motors"
        ],
        [
         "BR2297",
         "Zion Automobils"
        ],
        [
         "BR0724",
         "GMC Motors"
        ],
        [
         "BR2113",
         "Audi Motors"
        ],
        [
         "BR0843",
         "Humber Motors"
        ],
        [
         "BR1065",
         "Land Rover Motors"
        ],
        [
         "BR1962",
         "Toyota India Motors"
        ],
        [
         "BR2243",
         "Talbot  Motors"
        ],
        [
         "BR3786",
         "Ford Europe Motors"
        ],
        [
         "BR0193",
         "BMW Motors"
        ],
        [
         "BR2445",
         "Jennings Ford Automobile Dealership"
        ],
        [
         "BR2174",
         "Lagonda  Motors"
        ],
        [
         "BR0842",
         "Humber Motors"
        ],
        [
         "BR2420",
         "H Street Playhouse"
        ],
        [
         "BR0020",
         "Acura Motors"
        ],
        [
         "BR1665",
         "Rolls-Royce Motors"
        ],
        [
         "BR3606",
         "Ford America Motors"
        ],
        [
         "BR1701",
         "Samsung Motors"
        ],
        [
         "BR0188",
         "Bitter Motors"
        ],
        [
         "BR1600",
         "Premier Motors"
        ],
        [
         "BR0381",
         "Dacia Motors"
        ],
        [
         "BR0685",
         "Geo Motors"
        ],
        [
         "BR0064",
         "AMC, Eagle Motors"
        ],
        [
         "BR1840",
         "Spyker Motors"
        ],
        [
         "BR0755",
         "Healey Motors"
        ],
        [
         "BR0691",
         "Gilbern Motors"
        ],
        [
         "BR0647",
         "Ford India Motors"
        ],
        [
         "BR2039",
         "Volkswagen do Brasil Motors"
        ],
        [
         "BR1457",
         "Packard Motors"
        ],
        [
         "BR14166",
         "Casa de cadillac"
        ],
        [
         "BR1723",
         "Santa Matilde Motors"
        ],
        [
         "BR1945",
         "Tornado Motors"
        ],
        [
         "BR2231",
         "Standard  Motors"
        ],
        [
         "BR0072",
         "Anadol Motors"
        ],
        [
         "BR14706",
         "Jones Motor Company"
        ],
        [
         "BR2448",
         "Jennings Ford Automobile Dealership"
        ],
        [
         "BR1504",
         "Peel Motors"
        ],
        [
         "BR1658",
         "Rivian Motors"
        ],
        [
         "BR0645",
         "Ford India Motors"
        ],
        [
         "BR1941",
         "Tornado Motors"
        ],
        [
         "BR2121",
         "DKW Motors"
        ],
        [
         "BR6606",
         "Lotus Motors"
        ],
        [
         "BR0435",
         "Datsun Motors"
        ],
        [
         "BR2240",
         "Standard  Motors"
        ],
        [
         "BR2431",
         "Hupmobile Building"
        ],
        [
         "BR2451",
         "Jones Motor Company"
        ],
        [
         "BR7026",
         "Maruti Motors"
        ],
        [
         "BR0029",
         "Aixam-Mega (including Arola) Motors"
        ],
        [
         "BR2173",
         "Lagonda  Motors"
        ],
        [
         "BR1968",
         "Toyota India Motors"
        ],
        [
         "BR1108",
         "Lotus Motors"
        ],
        [
         "BR0934",
         "Isotta Fraschini Motors"
        ],
        [
         "BR0822",
         "Honda India Motors"
        ],
        [
         "BR1373",
         "Naza Motors"
        ],
        [
         "BR2144",
         "Wanderer Motors"
        ],
        [
         "BR0047",
         "Alpine Motors"
        ],
        [
         "BR0833",
         "Hudson Motors"
        ],
        [
         "BR1338",
         "Monteverdi Motors"
        ],
        [
         "BR1565",
         "Polestar Motors"
        ],
        [
         "BR2184",
         "MG  Motors"
        ],
        [
         "BR0908",
         "Invicta Motors"
        ],
        [
         "BR1529",
         "Peugeot Motors"
        ],
        [
         "BR2154",
         "Maybach  Motors"
        ],
        [
         "BR0205",
         "Bond Motors"
        ],
        [
         "BR1559",
         "Plymouth Motors"
        ],
        [
         "BR10446",
         "Saturn Motors"
        ],
        [
         "BR0204",
         "Bond Motors"
        ],
        [
         "BR2214",
         "Riley  Motors"
        ],
        [
         "BR0493",
         "Donkervoort Motors"
        ],
        [
         "BR0894",
         "Innocenti Motors"
        ],
        [
         "BR2068",
         "Westfield Motors"
        ],
        [
         "BR0760",
         "Healey Motors"
        ],
        [
         "BR0458",
         "DeLorean Motors"
        ],
        [
         "BR13386",
         "Standard  Motors"
        ],
        [
         "BR1404",
         "Noble Motors"
        ],
        [
         "BR1804",
         "Singer Motors"
        ],
        [
         "BR2352",
         "Cadillac Automobile Company Building"
        ],
        [
         "BR0309",
         "Caterham Motors"
        ],
        [
         "BR2080",
         "Wiesmann Motors"
        ],
        [
         "BR0161",
         "Auverland Motors"
        ],
        [
         "BR0197",
         "BMW Motors"
        ],
        [
         "BR0854",
         "Hummer Motors"
        ],
        [
         "BR8226",
         "Naza Motors"
        ],
        [
         "BR0243",
         "Austin-Healey Motors"
        ],
        [
         "BR1229",
         "Mazzanti Motors"
        ],
        [
         "BR2332",
         "Bohn Motor Company Automobile Dealership"
        ],
        [
         "BR0966",
         "Auverland Motors"
        ],
        [
         "BR0720",
         "Glas Motors"
        ],
        [
         "BR2097",
         "ZAZ Motors"
        ],
        [
         "BR0066",
         "Acura Motors"
        ],
        [
         "BR0342",
         "Chrysler Motors"
        ],
        [
         "BR0845",
         "Humber Motors"
        ],
        [
         "BR0590",
         "Fiat India Motors"
        ],
        [
         "BR2350",
         "Buick Automobile Company Building"
        ],
        [
         "BR2143",
         "Wanderer Motors"
        ],
        [
         "BR0383",
         "Dacia Motors"
        ],
        [
         "BR2454",
         "Jones Motor Company"
        ],
        [
         "BR1922",
         "Tazzari Motors"
        ],
        [
         "BR2065",
         "Westfield Motors"
        ],
        [
         "BR0239",
         "British Leyland Motors"
        ],
        [
         "BR1040",
         "Lada Motors"
        ],
        [
         "BR2258",
         "Das Motors"
        ],
        [
         "BR0697",
         "Gilbern Motors"
        ],
        [
         "BR1098",
         "Lincoln Motors"
        ],
        [
         "BR1678",
         "Saab Motors"
        ],
        [
         "BR0471",
         "De Tomaso Motors"
        ],
        [
         "BR0693",
         "Gilbern Motors"
        ],
        [
         "BR2204",
         "Austin  Motors"
        ],
        [
         "BR0832",
         "Hudson Motors"
        ],
        [
         "BR1289",
         "Mia Motors"
        ],
        [
         "BR0357",
         "Chrysler Europe Motors"
        ],
        [
         "BR0447",
         "Delahaye Motors"
        ],
        [
         "BR0709",
         "Ginetta Motors"
        ],
        [
         "BR2166",
         "Citroën Motors"
        ],
        [
         "BR0943",
         "Isuzu Motors"
        ],
        [
         "BR0790",
         "Hillman Motors"
        ],
        [
         "BR2247",
         "Talbot  Motors"
        ],
        [
         "BR1005",
         "Kia Motors"
        ],
        [
         "BR0846",
         "Autobianchi Motors"
        ],
        [
         "BR0220",
         "Borgward (including Goliath and Lloyd) Motors"
        ],
        [
         "BR1588",
         "Porsche Motors"
        ],
        [
         "BR2118",
         "Audi Motors"
        ],
        [
         "BR0378",
         "Cizeta-Moroder Motors"
        ],
        [
         "BR2368",
         "Casa de cadillac"
        ],
        [
         "BR0349",
         "Chrysler Motors"
        ],
        [
         "BR0700",
         "Gilbern Motors"
        ],
        [
         "BR2302",
         "Atlantic Motor Company"
        ],
        [
         "BR0907",
         "Invicta Motors"
        ],
        [
         "BR0407",
         "DAF Motors"
        ],
        [
         "BR0077",
         "Anadol Motors"
        ],
        [
         "BR1034",
         "Lada Motors"
        ],
        [
         "BR1431",
         "Oltcit Motors"
        ],
        [
         "BR1219",
         "Mazda Motors"
        ],
        [
         "BR2155",
         "Maybach  Motors"
        ],
        [
         "BR0839",
         "Hudson Motors"
        ],
        [
         "BR6186",
         "Lada Motors"
        ],
        [
         "BR1630",
         "Ranger Motors"
        ],
        [
         "BR0085",
         "Ariel Motors"
        ],
        [
         "BR1903",
         "Tata Motors"
        ],
        [
         "BR0175",
         "Bentley Motors"
        ],
        [
         "BR0006",
         "AC Cars Motors"
        ],
        [
         "BR1845",
         "SsangYong Motors"
        ],
        [
         "BR2526",
         "Daimler Motors"
        ],
        [
         "BR1823",
         "Smart Motors"
        ],
        [
         "BR1199",
         "Mastretta Motors"
        ],
        [
         "BR1382",
         "Nissan Motors"
        ],
        [
         "BR1737",
         "Santana Motors"
        ],
        [
         "BR2348",
         "Buick Automobile Company Building"
        ],
        [
         "BR1929",
         "Tazzari Motors"
        ],
        [
         "BR1728",
         "Santa Matilde Motors"
        ],
        [
         "BR10146",
         "Saleen Motors"
        ],
        [
         "BR0542",
         "Facel Vega Motors"
        ],
        [
         "BR1745",
         "Saturn Motors"
        ],
        [
         "BR2063",
         "Westfield Motors"
        ],
        [
         "BR0662",
         "FSO Motors"
        ],
        [
         "BR11106",
         "Standard-Triumph Motors"
        ],
        [
         "BR2025",
         "Volkswagen Motors"
        ],
        [
         "BR1266",
         "Borgward (including Goliath and Lloyd) Motors"
        ],
        [
         "BR2312",
         "2008 NRHP-listed"
        ],
        [
         "BR2075",
         "Wiesmann Motors"
        ],
        [
         "BR0600",
         "Fisker, Karma Motors"
        ],
        [
         "BR0254",
         "Austin, Rover Motors"
        ],
        [
         "BR0265",
         "Bugatti Motors"
        ],
        [
         "BR1613",
         "Puma Motors"
        ],
        [
         "BR2370",
         "Casa de cadillac"
        ],
        [
         "BR0945",
         "Isuzu Motors"
        ],
        [
         "BR0658",
         "Freightliner Motors"
        ],
        [
         "BR1931",
         "Tesla Motors"
        ],
        [
         "BR2163",
         "Izh  Motors"
        ],
        [
         "BR0711",
         "Glas Motors"
        ],
        [
         "BR1527",
         "Peugeot Motors"
        ],
        [
         "BR0455",
         "DeLorean Motors"
        ],
        [
         "BR0692",
         "Gilbern Motors"
        ],
        [
         "BR1411",
         "NSU Motors"
        ],
        [
         "BR2429",
         "Howard Motor Company Building"
        ],
        [
         "BR1369",
         "Nash Motors"
        ],
        [
         "BR2168",
         "Izh  Motors"
        ],
        [
         "BR2391",
         "Clemens Automobile Company Building"
        ],
        [
         "BR2886",
         "Dodge Motors"
        ],
        [
         "BR1735",
         "Santana Motors"
        ],
        [
         "BR2123",
         "DKW Motors"
        ],
        [
         "BR1419",
         "NSU Motors"
        ],
        [
         "BR7386",
         "McLaren Motors"
        ],
        [
         "BR0588",
         "Fiat India Motors"
        ],
        [
         "BR0971",
         "Jeep Motors"
        ],
        [
         "BR1545",
         "Piaggio Motors"
        ],
        [
         "BR1554",
         "Plymouth Motors"
        ],
        [
         "BR1557",
         "Plymouth Motors"
        ],
        [
         "BR5826",
         "Jeep Motors"
        ],
        [
         "BR1123",
         "LuAZ Motors"
        ],
        [
         "BR1549",
         "Piaggio Motors"
        ],
        [
         "BR0577",
         "Fiat do Brasil Motors"
        ],
        [
         "BR0726",
         "Aston Martin Motors"
        ],
        [
         "BR1861",
         "Studebaker Motors"
        ],
        [
         "BR0804",
         "Holden Motors"
        ],
        [
         "BR14106",
         "Cadillac Automobile Company Building"
        ],
        [
         "BR1141",
         "Mahindra Motors"
        ],
        [
         "BR0611",
         "Ford Australia Motors"
        ],
        [
         "BR0001",
         "AC Cars Motors"
        ],
        [
         "BR0623",
         "Ford do Brasil Motors"
        ],
        [
         "BR0621",
         "Ford do Brasil Motors"
        ],
        [
         "BR0253",
         "Austin, Rover Motors"
        ],
        [
         "BR1747",
         "Saturn Motors"
        ],
        [
         "BR1475",
         "Panhard Motors"
        ],
        [
         "BR2048",
         "Volkswagen South Africa Motors"
        ],
        [
         "BR2241",
         "Talbot  Motors"
        ],
        [
         "BR13746",
         "Zion Automobils"
        ],
        [
         "BR1194",
         "Mastretta Motors"
        ],
        [
         "BR1121",
         "LuAZ Motors"
        ],
        [
         "BR1283",
         "Mia Motors"
        ],
        [
         "BR1834",
         "Spyker Motors"
        ],
        [
         "BR0901",
         "Invicta Motors"
        ],
        [
         "BR1547",
         "Piaggio Motors"
        ],
        [
         "BR0219",
         "Borgward (including Goliath and Lloyd) Motors"
        ],
        [
         "BR1347",
         "Morgan Motors"
        ],
        [
         "BR1180",
         "Maruti Motors"
        ],
        [
         "BR1593",
         "Premier Motors"
        ],
        [
         "BR0905",
         "Invicta Motors"
        ],
        [
         "BR0165",
         "Auverland Motors"
        ],
        [
         "BR0878",
         "IFA (including Trabant, Wartburg, Barkas) Motors"
        ],
        [
         "BR0559",
         "Ferrari Motors"
        ],
        [
         "BR0649",
         "Ford India Motors"
        ],
        [
         "BR1023",
         "KTM Motors"
        ],
        [
         "BR2047",
         "Volkswagen South Africa Motors"
        ],
        [
         "BR0514",
         "e.GO Mobile Motors"
        ],
        [
         "BR0385",
         "Dacia Motors"
        ],
        [
         "BR0140",
         "Audi Motors"
        ],
        [
         "BR3066",
         "e.GO Mobile Motors"
        ],
        [
         "BR0380",
         "Cizeta-Moroder Motors"
        ],
        [
         "BR0812",
         "Honda Motors"
        ],
        [
         "BR1291",
         "Micro Motors"
        ],
        [
         "BR0208",
         "Bond Motors"
        ],
        [
         "BR1248",
         "Mercedes-Benz (including Maybach) Motors"
        ],
        [
         "BR2167",
         "Izh  Motors"
        ],
        [
         "BR0214",
         "Borgward (including Goliath and Lloyd) Motors"
        ],
        [
         "BR0919",
         "Isdera Motors"
        ],
        [
         "BR1955",
         "Toyota Motors"
        ],
        [
         "BR0069",
         "AMC, Eagle Motors"
        ],
        [
         "BR0642",
         "Ford India Motors"
        ],
        [
         "BR1611",
         "Puma Motors"
        ],
        [
         "BR1777",
         "Shelby SuperCars Motors"
        ],
        [
         "BR2406",
         "DAF Motors"
        ],
        [
         "BR2208",
         "Austin  Motors"
        ],
        [
         "BR0745",
         "Gumpert Motors"
        ],
        [
         "BR0921",
         "Iso Motors"
        ],
        [
         "BR1323",
         "Monica Motors"
        ],
        [
         "BR2260",
         "Das Motors"
        ],
        [
         "BR1044",
         "Lamborghini Motors"
        ],
        [
         "BR8886",
         "Panoz Motors"
        ],
        [
         "BR0191",
         "BMW Motors"
        ],
        [
         "BR1244",
         "Mercedes-Benz (including Maybach) Motors"
        ],
        [
         "BR1964",
         "Toyota India Motors"
        ],
        [
         "BR1045",
         "Lamborghini Motors"
        ],
        [
         "BR0424",
         "Daimler Motors"
        ],
        [
         "BR10326",
         "Santa Matilde Motors"
        ],
        [
         "BR0892",
         "Innocenti Motors"
        ],
        [
         "BR0058",
         "Alvis Motors"
        ],
        [
         "BR0861",
         "Hyundai Motors"
        ],
        [
         "BR0978",
         "Jeep Motors"
        ],
        [
         "BR0291",
         "Cadillac Motors"
        ],
        [
         "BR1708",
         "Samsung Motors"
        ],
        [
         "BR0759",
         "Healey Motors"
        ],
        [
         "BR0469",
         "DeSoto Motors"
        ],
        [
         "BR0090",
         "Ariel Motors"
        ],
        [
         "BR0339",
         "Chevrolet India Motors"
        ],
        [
         "BR7146",
         "Mastretta Motors"
        ],
        [
         "BR1313",
         "Mitsubishi Motors"
        ],
        [
         "BR0572",
         "Fiat do Brasil Motors"
        ],
        [
         "BR2384",
         "Claremore Auto Dealership"
        ],
        [
         "BR1205",
         "Matra (including Deutsch-Bonnet, René Bonnet) Motors"
        ],
        [
         "BR14226",
         "Cass Motor Sales"
        ],
        [
         "BR2441",
         "Jennings Ford Automobile Dealership"
        ],
        [
         "BR2172",
         "Lagonda  Motors"
        ],
        [
         "BR0923",
         "Iso Motors"
        ],
        [
         "BR1683",
         "SAIC Motor Motors"
        ],
        [
         "BR2239",
         "Standard  Motors"
        ],
        [
         "BR2393",
         "Clemens Automobile Company Building"
        ],
        [
         "BR2412",
         "H Street Playhouse"
        ],
        [
         "BR0710",
         "Ginetta Motors"
        ],
        [
         "BR8406",
         "Noble Motors"
        ],
        [
         "BR1649",
         "Renault Motors"
        ],
        [
         "BR0672",
         "GAZ Motors"
        ],
        [
         "BR1667",
         "Rolls-Royce Motors"
        ],
        [
         "BR0481",
         "Dodge Motors"
        ],
        [
         "BR1934",
         "Tesla Motors"
        ],
        [
         "BR1948",
         "Tornado Motors"
        ],
        [
         "BR1960",
         "Toyota Motors"
        ],
        [
         "BR6966",
         "Marlin Motors"
        ],
        [
         "BR0742",
         "Gumpert Motors"
        ],
        [
         "BR1230",
         "Mazzanti Motors"
        ],
        [
         "BR1401",
         "Noble Motors"
        ],
        [
         "BR1831",
         "Spyker Motors"
        ],
        [
         "BR2071",
         "Wiesmann Motors"
        ],
        [
         "BR1908",
         "Tata Motors"
        ],
        [
         "BR0770",
         "Heinkel Motors"
        ],
        [
         "BR6486",
         "Ligier Motors"
        ],
        [
         "BR1608",
         "Proton Motors"
        ],
        [
         "BR0859",
         "Hummer Motors"
        ],
        [
         "BR0227",
         "Bristol Motors"
        ],
        [
         "BR9426",
         "Pontiac, Asüna Motors"
        ],
        [
         "BR1725",
         "Santa Matilde Motors"
        ],
        [
         "BR1871",
         "Subaru Motors"
        ],
        [
         "BR0787",
         "Hillman Motors"
        ],
        [
         "BR2187",
         "MG  Motors"
        ],
        [
         "BR0714",
         "Glas Motors"
        ],
        [
         "BR1855",
         "Standard-Triumph Motors"
        ],
        [
         "BR0509",
         "Edsel Motors"
        ],
        [
         "BR1784",
         "Simca Motors"
        ],
        [
         "BR0189",
         "Bitter Motors"
        ],
        [
         "BR1832",
         "Spyker Motors"
        ],
        [
         "BR0553",
         "Ferrari Motors"
        ],
        [
         "BR1145",
         "Mahindra Motors"
        ],
        [
         "BR2253",
         "Das Motors"
        ],
        [
         "BR1164",
         "Marlin Motors"
        ],
        [
         "BR0753",
         "Healey Motors"
        ],
        [
         "BR0858",
         "Hummer Motors"
        ],
        [
         "BR1189",
         "Maserati Motors"
        ],
        [
         "BR0183",
         "Bitter Motors"
        ],
        [
         "BR1203",
         "Matra (including Deutsch-Bonnet, René Bonnet) Motors"
        ],
        [
         "BR0221",
         "Bristol Motors"
        ],
        [
         "BR2117",
         "Audi Motors"
        ],
        [
         "BR0004",
         "AC Cars Motors"
        ],
        [
         "BR0972",
         "Jeep Motors"
        ],
        [
         "BR2335",
         "Bohn Motor Company Automobile Dealership"
        ],
        [
         "BR1305",
         "Mini Motors"
        ],
        [
         "BR0955",
         "Iveco Motors"
        ],
        [
         "BR0895",
         "Innocenti Motors"
        ],
        [
         "BR1686",
         "Bytom Motors"
        ],
        [
         "BR0429",
         "Daimler Motors"
        ],
        [
         "BR0942",
         "Isuzu Motors"
        ],
        [
         "BR0969",
         "Jaguar Motors"
        ],
        [
         "BR1231",
         "McLaren Motors"
        ],
        [
         "BR1267",
         "Merkur Motors"
        ],
        [
         "BR1952",
         "Toyota Motors"
        ],
        [
         "BR2151",
         "Maybach  Motors"
        ],
        [
         "BR1827",
         "Smart Motors"
        ],
        [
         "BR2414",
         "H Street Playhouse"
        ],
        [
         "BR1793",
         "Simca do Brasil Motors"
        ],
        [
         "BR6306",
         "Lancia Motors"
        ],
        [
         "BR0231",
         "British Leyland Motors"
        ],
        [
         "BR0546",
         "ARO Motors"
        ],
        [
         "BR0533",
         "Elva Motors"
        ],
        [
         "BR0031",
         "Alfa Romeo Motors"
        ],
        [
         "BR0393",
         "Daewoo, Saehan, Chevrolet Korea Motors"
        ],
        [
         "BR2374",
         "Cass Motor Sales"
        ],
        [
         "BR0487",
         "Dodge Motors"
        ],
        [
         "BR2443",
         "Jennings Ford Automobile Dealership"
        ],
        [
         "BR0818",
         "Honda Motors"
        ],
        [
         "BR1540",
         "PGO Motors"
        ],
        [
         "BR1112",
         "LTI Motors"
        ],
        [
         "BR1697",
         "Saleen Motors"
        ],
        [
         "BR0306",
         "Alvis Motors"
        ],
        [
         "BR1742",
         "Saturn Motors"
        ],
        [
         "BR1620",
         "Puma Motors"
        ],
        [
         "BR1238",
         "McLaren Motors"
        ],
        [
         "BR1602",
         "Proton Motors"
        ],
        [
         "BR2107",
         "ZIL Motors"
        ],
        [
         "BR1449",
         "Opel Motors"
        ],
        [
         "BR12246",
         "Volkswagen South Africa Motors"
        ],
        [
         "BR1570",
         "Polestar Motors"
        ],
        [
         "BR1017",
         "Koenigsegg Motors"
        ],
        [
         "BR1395",
         "Nissan India Motors"
        ],
        [
         "BR1687",
         "SAIC Motor Motors"
        ],
        [
         "BR1841",
         "SsangYong Motors"
        ],
        [
         "BR0961",
         "Jaguar Motors"
        ],
        [
         "BR7506",
         "Mercury Motors"
        ],
        [
         "BR1307",
         "Mini Motors"
        ],
        [
         "BR0415",
         "Daihatsu Motors"
        ],
        [
         "BR0834",
         "Hudson Motors"
        ],
        [
         "BR2439",
         "Hupmobile Building"
        ],
        [
         "BR2417",
         "H Street Playhouse"
        ],
        [
         "BR1417",
         "NSU Motors"
        ],
        [
         "BR0293",
         "Cadillac Motors"
        ],
        [
         "BR2270",
         "Ramani Motors"
        ],
        [
         "BR0911",
         "Isdera Motors"
        ],
        [
         "BR1601",
         "Proton Motors"
        ],
        [
         "BR0513",
         "e.GO Mobile Motors"
        ],
        [
         "BR4026",
         "GAZ Motors"
        ],
        [
         "BR8046",
         "Morgan Motors"
        ],
        [
         "BR1809",
         "Singer Motors"
        ],
        [
         "BR2052",
         "Volvo Motors"
        ],
        [
         "BR12966",
         "Izh  Motors"
        ],
        [
         "BR2385",
         "Claremore Auto Dealership"
        ],
        [
         "BR1868",
         "Studebaker Motors"
        ],
        [
         "BR0201",
         "Bond Motors"
        ],
        [
         "BR1110",
         "Lotus Motors"
        ],
        [
         "BR0708",
         "Ginetta Motors"
        ],
        [
         "BR10566",
         "Seat Motors"
        ],
        [
         "BR7866",
         "Mitsubishi Motors"
        ],
        [
         "BR1043",
         "Lamborghini Motors"
        ],
        [
         "BR1151",
         "Marcos Motors"
        ],
        [
         "BR2404",
         "Colman Automotive Building"
        ],
        [
         "BR1878",
         "Subaru Motors"
        ],
        [
         "BR0837",
         "Hudson Motors"
        ],
        [
         "BR0404",
         "DAF Motors"
        ],
        [
         "BR0172",
         "Bentley Motors"
        ],
        [
         "BR1028",
         "KTM Motors"
        ],
        [
         "BR1657",
         "Rivian Motors"
        ],
        [
         "BR0114",
         "Asia Motors Motors"
        ],
        [
         "BR0538",
         "Elva Motors"
        ],
        [
         "BR2359",
         "Cadillac Automobile Company Building"
        ],
        [
         "BR1208",
         "Matra (including Deutsch-Bonnet, René Bonnet) Motors"
        ],
        [
         "BR0173",
         "Bentley Motors"
        ],
        [
         "BR0699",
         "Gilbern Motors"
        ],
        [
         "BR0995",
         "JPX Motors"
        ],
        [
         "BR1797",
         "Simca do Brasil Motors"
        ],
        [
         "BR2022",
         "Volkswagen Motors"
        ],
        [
         "BR0153",
         "Auto-Union Motors"
        ],
        [
         "BR4626",
         "Hennessey Motors"
        ],
        [
         "BR0663",
         "FSO Motors"
        ],
        [
         "BR1440",
         "Oltcit Motors"
        ],
        [
         "BR0629",
         "Ford do Brasil Motors"
        ],
        [
         "BR1233",
         "McLaren Motors"
        ],
        [
         "BR1854",
         "Standard-Triumph Motors"
        ],
        [
         "BR1438",
         "Oltcit Motors"
        ],
        [
         "BR1888",
         "Sunbeam Motors"
        ],
        [
         "BR1632",
         "Reliant Motors"
        ],
        [
         "BR0410",
         "DAF Motors"
        ],
        [
         "BR2115",
         "Audi Motors"
        ],
        [
         "BR1287",
         "Mia Motors"
        ],
        [
         "BR1844",
         "SsangYong Motors"
        ],
        [
         "BR0998",
         "JPX Motors"
        ],
        [
         "BR0512",
         "e.GO Mobile Motors"
        ],
        [
         "BR4686",
         "Hillman Motors"
        ],
        [
         "BR0661",
         "FSO Motors"
        ],
        [
         "BR0889",
         "Infiniti Motors"
        ],
        [
         "BR5586",
         "Isotta Fraschini Motors"
        ],
        [
         "BR0443",
         "Delahaye Motors"
        ],
        [
         "BR0519",
         "e.GO Mobile Motors"
        ],
        [
         "BR1680",
         "Saab Motors"
        ],
        [
         "BR0299",
         "Cadillac Motors"
        ],
        [
         "BR1370",
         "Nash Motors"
        ],
        [
         "BR1333",
         "Monteverdi Motors"
        ],
        [
         "BR2178",
         "Lagonda  Motors"
        ],
        [
         "BR0534",
         "Elva Motors"
        ],
        [
         "BR0751",
         "Healey Motors"
        ],
        [
         "BR1050",
         "Lamborghini Motors"
        ],
        [
         "BR2273",
         "Deccan Motors"
        ],
        [
         "BR2401",
         "Colman Automotive Building"
        ],
        [
         "BR1749",
         "Saturn Motors"
        ],
        [
         "BR1330",
         "Monica Motors"
        ],
        [
         "BR2383",
         "Claremore Auto Dealership"
        ],
        [
         "BR2234",
         "Standard  Motors"
        ],
        [
         "BR1127",
         "LuAZ Motors"
        ],
        [
         "BR0707",
         "Ginetta Motors"
        ],
        [
         "BR0712",
         "Glas Motors"
        ],
        [
         "BR1741",
         "Saturn Motors"
        ],
        [
         "BR1135",
         "Lynx Motors"
        ],
        [
         "BR1442",
         "Opel Motors"
        ],
        [
         "BR1829",
         "Smart Motors"
        ],
        [
         "BR2007",
         "Vauxhall Motors"
        ],
        [
         "BR0718",
         "Glas Motors"
        ],
        [
         "BR0900",
         "Innocenti Motors"
        ],
        [
         "BR1659",
         "Rivian Motors"
        ],
        [
         "BR1397",
         "Nissan India Motors"
        ],
        [
         "BR0028",
         "Aixam-Mega (including Arola) Motors"
        ],
        [
         "BR0765",
         "Heinkel Motors"
        ],
        [
         "BR0445",
         "Delahaye Motors"
        ],
        [
         "BR1292",
         "Micro Motors"
        ],
        [
         "BR1061",
         "Land Rover Motors"
        ],
        [
         "BR1568",
         "Polestar Motors"
        ],
        [
         "BR2321",
         "Blankinship Motor Company Building"
        ],
        [
         "BR7806",
         "Mini Motors"
        ],
        [
         "BR1779",
         "Shelby SuperCars Motors"
        ],
        [
         "BR1998",
         "UAZ Motors"
        ],
        [
         "BR0235",
         "British Leyland Motors"
        ],
        [
         "BR0470",
         "DeSoto Motors"
        ],
        [
         "BR0891",
         "Innocenti Motors"
        ],
        [
         "BR0929",
         "Iso Motors"
        ],
        [
         "BR0828",
         "Honda India Motors"
        ],
        [
         "BR0438",
         "Datsun Motors"
        ],
        [
         "BR2159",
         "Maybach  Motors"
        ],
        [
         "BR0065",
         "AMC, Eagle Motors"
        ],
        [
         "BR1459",
         "Packard Motors"
        ],
        [
         "BR0551",
         "Ferrari Motors"
        ],
        [
         "BR0033",
         "Alfa Romeo Motors"
        ],
        [
         "BR0575",
         "Fiat do Brasil Motors"
        ],
        [
         "BR2129",
         "DKW Motors"
        ],
        [
         "BR3666",
         "Ford Australia Motors"
        ],
        [
         "BR0719",
         "Glas Motors"
        ],
        [
         "BR2033",
         "Volkswagen do Brasil Motors"
        ],
        [
         "BR0810",
         "Holden Motors"
        ],
        [
         "BR0341",
         "Chrysler Motors"
        ],
        [
         "BR0363",
         "Citroën Motors"
        ],
        [
         "BR0578",
         "Fiat do Brasil Motors"
        ],
        [
         "BR1910",
         "Tata Motors"
        ],
        [
         "BR1541",
         "Piaggio Motors"
        ],
        [
         "BR2217",
         "Riley  Motors"
        ],
        [
         "BR2250",
         "Talbot  Motors"
        ],
        [
         "BR1531",
         "PGO Motors"
        ],
        [
         "BR1991",
         "UAZ Motors"
        ],
        [
         "BR2190",
         "MG  Motors"
        ],
        [
         "BR1994",
         "UAZ Motors"
        ],
        [
         "BR0119",
         "Asia Motors Motors"
        ],
        [
         "BR0158",
         "Auto-Union Motors"
        ],
        [
         "BR0667",
         "FSO Motors"
        ],
        [
         "BR2315",
         "2008 NRHP-listed"
        ],
        [
         "BR1919",
         "Tatra Motors"
        ],
        [
         "BR0701",
         "Ginetta Motors"
        ],
        [
         "BR5046",
         "Humber Motors"
        ],
        [
         "BR1223",
         "Mazzanti Motors"
        ],
        [
         "BR1822",
         "Smart Motors"
        ],
        [
         "BR1702",
         "Samsung Motors"
        ],
        [
         "BR0775",
         "Hennessey Motors"
        ],
        [
         "BR0717",
         "Glas Motors"
        ],
        [
         "BR1971",
         "Turner Motors"
        ],
        [
         "BR2355",
         "Cadillac Automobile Company Building"
        ],
        [
         "BR0130",
         "Aston Martin Motors"
        ],
        [
         "BR2346",
         "Daewoo, Saehan, Chevrolet Korea Motors"
        ],
        [
         "BR2091",
         "ZAZ Motors"
        ],
        [
         "BR0032",
         "Alfa Romeo Motors"
        ],
        [
         "BR0059",
         "Alvis Motors"
        ],
        [
         "BR0893",
         "Innocenti Motors"
        ],
        [
         "BR1190",
         "Maserati Motors"
        ],
        [
         "BR3186",
         "Elva Motors"
        ],
        [
         "BR0439",
         "Datsun Motors"
        ],
        [
         "BR0762",
         "Heinkel Motors"
        ],
        [
         "BR0494",
         "Donkervoort Motors"
        ],
        [
         "BR0228",
         "Bristol Motors"
        ],
        [
         "BR1197",
         "Mastretta Motors"
        ],
        [
         "BR5646",
         "Isuzu Motors"
        ],
        [
         "BR0412",
         "Daihatsu Motors"
        ],
        [
         "BR0592",
         "Fisker, Karma Motors"
        ],
        [
         "BR0984",
         "Jensen Motors"
        ],
        [
         "BR1037",
         "Lada Motors"
        ],
        [
         "BR1830",
         "Smart Motors"
        ],
        [
         "BR0237",
         "British Leyland Motors"
        ],
        [
         "BR0747",
         "Gumpert Motors"
        ],
        [
         "BR1070",
         "Land Rover Motors"
        ],
        [
         "BR3726",
         "Ford do Brasil Motors"
        ],
        [
         "BR0317",
         "Checker Motors"
        ],
        [
         "BR2409",
         "Colman Automotive Building"
        ],
        [
         "BR1681",
         "SAIC Motor Motors"
        ],
        [
         "BR0159",
         "Auto-Union Motors"
        ],
        [
         "BR0297",
         "Cadillac Motors"
        ],
        [
         "BR12486",
         "Zastava Motors"
        ],
        [
         "BR1727",
         "Santa Matilde Motors"
        ],
        [
         "BR0304",
         "Caterham Motors"
        ],
        [
         "BR0521",
         "Eicher Polaris Motors"
        ],
        [
         "BR0811",
         "Honda Motors"
        ],
        [
         "BR0792",
         "Hindustan Motors"
        ],
        [
         "BR1234",
         "McLaren Motors"
        ],
        [
         "BR1298",
         "Micro Motors"
        ],
        [
         "BR0164",
         "Auverland Motors"
        ],
        [
         "BR1901",
         "Tata Motors"
        ],
        [
         "BR2089",
         "Zastava Motors"
        ],
        [
         "BR2095",
         "ZAZ Motors"
        ],
        [
         "BR0092",
         "ARO Motors"
        ],
        [
         "BR2150",
         "Wanderer Motors"
        ],
        [
         "BR0990",
         "Jensen Motors"
        ],
        [
         "BR0042",
         "Alpine Motors"
        ],
        [
         "BR0094",
         "ARO Motors"
        ],
        [
         "BR7746",
         "Micro Motors"
        ],
        [
         "BR1159",
         "Marcos Motors"
        ],
        [
         "BR1386",
         "British Leyland Motors"
        ],
        [
         "BR1101",
         "Lotus Motors"
        ],
        [
         "BR0491",
         "Donkervoort Motors"
        ],
        [
         "BR0194",
         "BMW Motors"
        ],
        [
         "BR0598",
         "Fisker, Karma Motors"
        ],
        [
         "BR2449",
         "Jennings Ford Automobile Dealership"
        ],
        [
         "BR2450",
         "Jennings Ford Automobile Dealership"
        ],
        [
         "BR1639",
         "Reliant Motors"
        ],
        [
         "BR0732",
         "GTA Spano Motors"
        ],
        [
         "BR0841",
         "Humber Motors"
        ],
        [
         "BR1974",
         "Turner Motors"
        ],
        [
         "BR1174",
         "Maruti Motors"
        ],
        [
         "BR1212",
         "Mazda Motors"
        ],
        [
         "BR1721",
         "Santa Matilde Motors"
        ],
        [
         "BR2469",
         "Kindel Building"
        ],
        [
         "BR2061",
         "Westfield Motors"
        ],
        [
         "BR0938",
         "Isotta Fraschini Motors"
        ],
        [
         "BR1805",
         "Singer Motors"
        ],
        [
         "BR0801",
         "Holden Motors"
        ],
        [
         "BR2345",
         "Buick Automobile Company Building"
        ],
        [
         "BR1263",
         "Merkur Motors"
        ],
        [
         "BR1392",
         "Nissan India Motors"
        ],
        [
         "BR1746",
         "Cadillac Motors"
        ],
        [
         "BR2371",
         "Cass Motor Sales"
        ],
        [
         "BR14406",
         "Colman Automotive Building"
        ],
        [
         "BR0807",
         "Holden Motors"
        ],
        [
         "BR0010",
         "AC Cars Motors"
        ],
        [
         "BR0195",
         "BMW Motors"
        ],
        [
         "BR2433",
         "Hupmobile Building"
        ],
        [
         "BR1943",
         "Tornado Motors"
        ],
        [
         "BR1435",
         "Oltcit Motors"
        ],
        [
         "BR2331",
         "Bohn Motor Company Automobile Dealership"
        ],
        [
         "BR1461",
         "Pagani Motors"
        ],
        [
         "BR1803",
         "Singer Motors"
        ],
        [
         "BR0321",
         "Chevrolet Motors"
        ],
        [
         "BR12666",
         "Audi Motors"
        ],
        [
         "BR0918",
         "Isdera Motors"
        ],
        [
         "BR1542",
         "Piaggio Motors"
        ],
        [
         "BR1717",
         "San Motors"
        ],
        [
         "BR2138",
         "Horch Motors"
        ],
        [
         "BR0126",
         "Aixam-Mega (including Arola) Motors"
        ],
        [
         "BR0482",
         "Dodge Motors"
        ],
        [
         "BR12186",
         "Volkswagen do Brasil Motors"
        ],
        [
         "BR1739",
         "Santana Motors"
        ],
        [
         "BR1299",
         "Micro Motors"
        ],
        [
         "BR11946",
         "UAZ Motors"
        ],
        [
         "BR8106",
         "Moskwitch Motors"
        ],
        [
         "BR0145",
         "Autobianchi Motors"
        ],
        [
         "BR2464",
         "Kindel Building"
        ],
        [
         "BR0019",
         "Acura Motors"
        ],
        [
         "BR2034",
         "Volkswagen do Brasil Motors"
        ],
        [
         "BR0959",
         "Iveco Motors"
        ],
        [
         "BR0702",
         "Ginetta Motors"
        ],
        [
         "BR2421",
         "Howard Motor Company Building"
        ],
        [
         "BR0734",
         "GTA Spano Motors"
        ],
        [
         "BR0890",
         "Infiniti Motors"
        ],
        [
         "BR0255",
         "Austin, Rover Motors"
        ],
        [
         "BR1743",
         "Saturn Motors"
        ],
        [
         "BR0331",
         "Chevrolet India Motors"
        ],
        [
         "BR1029",
         "KTM Motors"
        ],
        [
         "BR0234",
         "British Leyland Motors"
        ],
        [
         "BR0851",
         "Hummer Motors"
        ],
        [
         "BR2378",
         "Cass Motor Sales"
        ],
        [
         "BR2142",
         "Wanderer Motors"
        ],
        [
         "BR8466",
         "NSU Motors"
        ],
        [
         "BR2360",
         "Cadillac Automobile Company Building"
        ],
        [
         "BR0625",
         "Ford do Brasil Motors"
        ],
        [
         "BR0318",
         "Checker Motors"
        ],
        [
         "BR2140",
         "Horch Motors"
        ],
        [
         "BR1699",
         "Saleen Motors"
        ],
        [
         "BR0322",
         "Chevrolet Motors"
        ],
        [
         "BR2267",
         "Ramani Motors"
        ],
        [
         "BR0620",
         "Ford Australia Motors"
        ],
        [
         "BR0078",
         "Anadol Motors"
        ],
        [
         "BR1407",
         "Noble Motors"
        ],
        [
         "BR1690",
         "SAIC Motor Motors"
        ],
        [
         "BR0497",
         "Donkervoort Motors"
        ],
        [
         "BR1117",
         "LTI Motors"
        ],
        [
         "BR0610",
         "Ford America Motors"
        ],
        [
         "BR0784",
         "Hillman Motors"
        ],
        [
         "BR0071",
         "Anadol Motors"
        ],
        [
         "BR2300",
         "Zion Automobils"
        ],
        [
         "BR1255",
         "Mercury Motors"
        ],
        [
         "BR1077",
         "Lexus Motors"
        ],
        [
         "BR4746",
         "Hindustan Motors"
        ],
        [
         "BR0485",
         "Dodge Motors"
        ],
        [
         "BR1879",
         "Subaru Motors"
        ],
        [
         "BR0473",
         "De Tomaso Motors"
        ],
        [
         "BR0202",
         "Bond Motors"
        ],
        [
         "BR2462",
         "Kindel Building"
        ],
        [
         "BR1003",
         "Kia Motors"
        ],
        [
         "BR0262",
         "Bugatti Motors"
        ],
        [
         "BR1783",
         "Simca Motors"
        ],
        [
         "BR0690",
         "Geo Motors"
        ],
        [
         "BR1420",
         "NSU Motors"
        ],
        [
         "BR2087",
         "Zastava Motors"
        ],
        [
         "BR1220",
         "Mazda Motors"
        ],
        [
         "BR1088",
         "Ligier Motors"
        ],
        [
         "BR2646",
         "Delahaye Motors"
        ],
        [
         "BR2361",
         "Casa de cadillac"
        ],
        [
         "BR2372",
         "Cass Motor Sales"
        ],
        [
         "BR0413",
         "Daihatsu Motors"
        ],
        [
         "BR0817",
         "Honda Motors"
        ],
        [
         "BR1204",
         "Matra (including Deutsch-Bonnet, René Bonnet) Motors"
        ],
        [
         "BR0927",
         "Iso Motors"
        ],
        [
         "BR6366",
         "Land Rover Motors"
        ],
        [
         "BR1693",
         "Saleen Motors"
        ],
        [
         "BR0084",
         "Ariel Motors"
        ],
        [
         "BR2457",
         "Jones Motor Company"
        ],
        [
         "BR5346",
         "Innocenti Motors"
        ],
        [
         "BR8286",
         "Nissan Motors"
        ],
        [
         "BR1300",
         "Micro Motors"
        ],
        [
         "BR1640",
         "Reliant Motors"
        ],
        [
         "BR1852",
         "Standard-Triumph Motors"
        ],
        [
         "BR2251",
         "Das Motors"
        ],
        [
         "BR1058",
         "Lancia Motors"
        ],
        [
         "BR12126",
         "Volkswagen Motors"
        ],
        [
         "BR9126",
         "Peugeot Motors"
        ],
        [
         "BR1664",
         "Rolls-Royce Motors"
        ],
        [
         "BR2207",
         "Austin  Motors"
        ],
        [
         "BR0303",
         "Caterham Motors"
        ],
        [
         "BR1102",
         "Lotus Motors"
        ],
        [
         "BR1631",
         "Reliant Motors"
        ],
        [
         "BR0637",
         "Ford Europe Motors"
        ],
        [
         "BR0974",
         "Jeep Motors"
        ],
        [
         "BR0186",
         "Alfa Romeo Motors"
        ],
        [
         "BR0857",
         "Hummer Motors"
        ],
        [
         "BR1692",
         "Saleen Motors"
        ],
        [
         "BR1799",
         "Simca do Brasil Motors"
        ],
        [
         "BR0382",
         "Dacia Motors"
        ],
        [
         "BR0329",
         "Chevrolet Motors"
        ],
        [
         "BR0694",
         "Gilbern Motors"
        ],
        [
         "BR0902",
         "Invicta Motors"
        ],
        [
         "BR1522",
         "Peugeot Motors"
        ],
        [
         "BR1001",
         "Kia Motors"
        ],
        [
         "BR0144",
         "Autobianchi Motors"
        ],
        [
         "BR0403",
         "DAF Motors"
        ],
        [
         "BR2153",
         "Maybach  Motors"
        ],
        [
         "BR0450",
         "Delahaye Motors"
        ],
        [
         "BR5226",
         "IFA (including Trabant, Wartburg, Barkas) Motors"
        ],
        [
         "BR1932",
         "Tesla Motors"
        ],
        [
         "BR1240",
         "McLaren Motors"
        ],
        [
         "BR9306",
         "Plymouth Motors"
        ],
        [
         "BR1039",
         "Lada Motors"
        ],
        [
         "BR1930",
         "Tazzari Motors"
        ],
        [
         "BR0419",
         "Daihatsu Motors"
        ],
        [
         "BR0773",
         "Hennessey Motors"
        ],
        [
         "BR2124",
         "DKW Motors"
        ],
        [
         "BR1828",
         "Smart Motors"
        ],
        [
         "BR0121",
         "Aston Martin Motors"
        ],
        [
         "BR0899",
         "Innocenti Motors"
        ],
        [
         "BR10506",
         "Scion Motors"
        ],
        [
         "BR1383",
         "Nissan Motors"
        ],
        [
         "BR1424",
         "Oldsmobile Motors"
        ],
        [
         "BR1947",
         "Tornado Motors"
        ],
        [
         "BR1984",
         "TVR Motors"
        ],
        [
         "BR8766",
         "Pagani Motors"
        ],
        [
         "BR0399",
         "Daewoo, Saehan, Chevrolet Korea Motors"
        ],
        [
         "BR0260",
         "Austin, Rover Motors"
        ],
        [
         "BR0347",
         "Chrysler Motors"
        ],
        [
         "BR0433",
         "Datsun Motors"
        ],
        [
         "BR1510",
         "Peel Motors"
        ],
        [
         "BR0052",
         "Alvis Motors"
        ],
        [
         "BR0135",
         "Audi Motors"
        ],
        [
         "BR0531",
         "Elva Motors"
        ],
        [
         "BR1239",
         "McLaren Motors"
        ],
        [
         "BR0814",
         "Honda Motors"
        ],
        [
         "BR1093",
         "Lincoln Motors"
        ],
        [
         "BR1771",
         "Shelby SuperCars Motors"
        ],
        [
         "BR0631",
         "Ford Europe Motors"
        ],
        [
         "BR1623",
         "Ranger Motors"
        ],
        [
         "BR0139",
         "Audi Motors"
        ],
        [
         "BR0562",
         "Fiat Motors"
        ],
        [
         "BR2085",
         "Zastava Motors"
        ],
        [
         "BR0953",
         "Iveco Motors"
        ],
        [
         "BR1149",
         "Mahindra Motors"
        ],
        [
         "BR1671",
         "Saab Motors"
        ],
        [
         "BR0017",
         "Acura Motors"
        ],
        [
         "BR1561",
         "Polestar Motors"
        ],
        [
         "BR1129",
         "LuAZ Motors"
        ],
        [
         "BR0987",
         "Jensen Motors"
        ],
        [
         "BR0643",
         "Ford India Motors"
        ],
        [
         "BR0502",
         "Edsel Motors"
        ],
        [
         "BR1731",
         "Santana Motors"
        ],
        [
         "BR2169",
         "Izh  Motors"
        ],
        [
         "BR0827",
         "Honda India Motors"
        ],
        [
         "BR1249",
         "Mercedes-Benz (including Maybach) Motors"
        ],
        [
         "BR2128",
         "DKW Motors"
        ],
        [
         "BR1492",
         "Panther Motors"
        ],
        [
         "BR2229",
         "Wolseley  Motors"
        ],
        [
         "BR1228",
         "Mazzanti Motors"
        ],
        [
         "BR0704",
         "Ginetta Motors"
        ],
        [
         "BR1026",
         "Bentley Motors"
        ],
        [
         "BR2323",
         "Blankinship Motor Company Building"
        ],
        [
         "BR3426",
         "Fiat do Brasil Motors"
        ],
        [
         "BR0351",
         "Chrysler Europe Motors"
        ],
        [
         "BR1975",
         "Turner Motors"
        ],
        [
         "BR0744",
         "Gumpert Motors"
        ],
        [
         "BR14646",
         "Jennings Ford Automobile Dealership"
        ],
        [
         "BR2000",
         "UAZ Motors"
        ],
        [
         "BR0198",
         "BMW Motors"
        ],
        [
         "BR0384",
         "Dacia Motors"
        ],
        [
         "BR0735",
         "GTA Spano Motors"
        ],
        [
         "BR2244",
         "Talbot  Motors"
        ],
        [
         "BR0504",
         "Edsel Motors"
        ],
        [
         "BR0849",
         "Humber Motors"
        ],
        [
         "BR1137",
         "Lynx Motors"
        ],
        [
         "BR13326",
         "Wolseley  Motors"
        ],
        [
         "BR1563",
         "Polestar Motors"
        ],
        [
         "BR1027",
         "KTM Motors"
        ],
        [
         "BR0350",
         "Chrysler Motors"
        ],
        [
         "BR0527",
         "Eicher Polaris Motors"
        ],
        [
         "BR1235",
         "McLaren Motors"
        ],
        [
         "BR1590",
         "Porsche Motors"
        ],
        [
         "BR0040",
         "Alfa Romeo Motors"
        ],
        [
         "BR0395",
         "Daewoo, Saehan, Chevrolet Korea Motors"
        ],
        [
         "BR1025",
         "KTM Motors"
        ],
        [
         "BR0650",
         "Ford India Motors"
        ],
        [
         "BR2470",
         "Kindel Building"
        ],
        [
         "BR1993",
         "UAZ Motors"
        ],
        [
         "BR1452",
         "Packard Motors"
        ],
        [
         "BR2211",
         "Riley  Motors"
        ],
        [
         "BR1053",
         "Lancia Motors"
        ],
        [
         "BR0041",
         "Alpine Motors"
        ],
        [
         "BR1672",
         "Saab Motors"
        ],
        [
         "BR1258",
         "Mercury Motors"
        ],
        [
         "BR1447",
         "Opel Motors"
        ],
        [
         "BR0118",
         "Asia Motors Motors"
        ],
        [
         "BR1349",
         "Morgan Motors"
        ],
        [
         "BR0568",
         "Fiat Motors"
        ],
        [
         "BR0673",
         "GAZ Motors"
        ],
        [
         "BR1980",
         "Turner Motors"
        ],
        [
         "BR0224",
         "Bristol Motors"
        ],
        [
         "BR2341",
         "Buick Automobile Company Building"
        ],
        [
         "BR0606",
         "Artega Motors"
        ],
        [
         "BR0460",
         "DeLorean Motors"
        ],
        [
         "BR1489",
         "Panoz Motors"
        ],
        [
         "BR1210",
         "Matra (including Deutsch-Bonnet, René Bonnet) Motors"
        ],
        [
         "BR1654",
         "Rivian Motors"
        ],
        [
         "BR0112",
         "Asia Motors Motors"
        ],
        [
         "BR2389",
         "Claremore Auto Dealership"
        ],
        [
         "BR1444",
         "Opel Motors"
        ],
        [
         "BR1911",
         "Tatra Motors"
        ],
        [
         "BR1202",
         "Matra (including Deutsch-Bonnet, René Bonnet) Motors"
        ],
        [
         "BR14586",
         "Hupmobile Building"
        ],
        [
         "BR1999",
         "UAZ Motors"
        ],
        [
         "BR1754",
         "Scion Motors"
        ],
        [
         "BR2286",
         "Dacia Motors"
        ],
        [
         "BR2392",
         "Clemens Automobile Company Building"
        ],
        [
         "BR0152",
         "Auto-Union Motors"
        ],
        [
         "BR1722",
         "Santa Matilde Motors"
        ],
        [
         "BR0035",
         "Alfa Romeo Motors"
        ],
        [
         "BR1642",
         "Renault Motors"
        ],
        [
         "BR0379",
         "Cizeta-Moroder Motors"
        ],
        [
         "BR2185",
         "MG  Motors"
        ],
        [
         "BR1227",
         "Mazzanti Motors"
        ],
        [
         "BR0387",
         "Dacia Motors"
        ],
        [
         "BR2004",
         "Vauxhall Motors"
        ],
        [
         "BR1712",
         "San Motors"
        ],
        [
         "BR2132",
         "Horch Motors"
        ],
        [
         "BR2220",
         "Riley  Motors"
        ],
        [
         "BR0353",
         "Chrysler Europe Motors"
        ],
        [
         "BR2201",
         "Austin  Motors"
        ],
        [
         "BR0722",
         "GMC Motors"
        ],
        [
         "BR1111",
         "LTI Motors"
        ],
        [
         "BR0965",
         "Jaguar Motors"
        ],
        [
         "BR1405",
         "Noble Motors"
        ],
        [
         "BR2037",
         "Volkswagen do Brasil Motors"
        ],
        [
         "BR2248",
         "Talbot  Motors"
        ],
        [
         "BR0488",
         "Dodge Motors"
        ],
        [
         "BR0182",
         "Bitter Motors"
        ],
        [
         "BR1378",
         "Naza Motors"
        ],
        [
         "BR1733",
         "Santana Motors"
        ],
        [
         "BR2278",
         "Deccan Motors"
        ],
        [
         "BR1867",
         "Studebaker Motors"
        ],
        [
         "BR1207",
         "Matra (including Deutsch-Bonnet, René Bonnet) Motors"
        ],
        [
         "BR4986",
         "Hudson Motors"
        ],
        [
         "BR1544",
         "Piaggio Motors"
        ],
        [
         "BR1163",
         "Marlin Motors"
        ],
        [
         "BR1652",
         "Rivian Motors"
        ],
        [
         "BR0579",
         "Fiat do Brasil Motors"
        ],
        [
         "BR1021",
         "KTM Motors"
        ],
        [
         "BR0698",
         "Gilbern Motors"
        ],
        [
         "BR0922",
         "Iso Motors"
        ],
        [
         "BR2197",
         "Morris  Motors"
        ],
        [
         "BR0352",
         "Chrysler Europe Motors"
        ],
        [
         "BR1604",
         "Proton Motors"
        ],
        [
         "BR1764",
         "Seat Motors"
        ],
        [
         "BR2152",
         "Maybach  Motors"
        ],
        [
         "BR2419",
         "H Street Playhouse"
        ],
        [
         "BR0104",
         "Artega Motors"
        ],
        [
         "BR0171",
         "Bentley Motors"
        ],
        [
         "BR0498",
         "Donkervoort Motors"
        ],
        [
         "BR0517",
         "e.GO Mobile Motors"
        ],
        [
         "BR1759",
         "Scion Motors"
        ],
        [
         "BR1958",
         "Toyota Motors"
        ],
        [
         "BR2046",
         "Chrysler Motors"
        ],
        [
         "BR1339",
         "Monteverdi Motors"
        ],
        [
         "BR2226",
         "Cizeta-Moroder Motors"
        ],
        [
         "BR0070",
         "AMC, Eagle Motors"
        ],
        [
         "BR0960",
         "Iveco Motors"
        ],
        [
         "BR0868",
         "Hyundai Motors"
        ],
        [
         "BR0294",
         "Cadillac Motors"
        ],
        [
         "BR13986",
         "Bohn Motor Company Automobile Dealership"
        ],
        [
         "BR2031",
         "Volkswagen do Brasil Motors"
        ],
        [
         "BR0211",
         "Borgward (including Goliath and Lloyd) Motors"
        ],
        [
         "BR0607",
         "Ford America Motors"
        ],
        [
         "BR1068",
         "Land Rover Motors"
        ],
        [
         "BR1684",
         "SAIC Motor Motors"
        ],
        [
         "BR0975",
         "Jeep Motors"
        ],
        [
         "BR0300",
         "Cadillac Motors"
        ],
        [
         "BR0703",
         "Ginetta Motors"
        ],
        [
         "BR3966",
         "FSO Motors"
        ],
        [
         "BR4386",
         "GTA Spano Motors"
        ],
        [
         "BR0230",
         "Bristol Motors"
        ],
        [
         "BR1450",
         "Opel Motors"
        ],
        [
         "BR1059",
         "Lancia Motors"
        ],
        [
         "BR1957",
         "Toyota Motors"
        ],
        [
         "BR3246",
         "Facel Vega Motors"
        ],
        [
         "BR1651",
         "Rivian Motors"
        ],
        [
         "BR0160",
         "Auto-Union Motors"
        ],
        [
         "BR1800",
         "Simca do Brasil Motors"
        ],
        [
         "BR2369",
         "Casa de cadillac"
        ],
        [
         "BR2058",
         "Volvo Motors"
        ],
        [
         "BR0515",
         "e.GO Mobile Motors"
        ],
        [
         "BR1933",
         "Tesla Motors"
        ],
        [
         "BR0852",
         "Hummer Motors"
        ],
        [
         "BR1792",
         "Simca do Brasil Motors"
        ],
        [
         "BR1451",
         "Packard Motors"
        ],
        [
         "BR0252",
         "Austin, Rover Motors"
        ],
        [
         "BR2149",
         "Wanderer Motors"
        ],
        [
         "BR1865",
         "Studebaker Motors"
        ],
        [
         "BR2427",
         "Howard Motor Company Building"
        ],
        [
         "BR2283",
         "Herald Motors"
        ],
        [
         "BR9066",
         "Perodua Motors"
        ],
        [
         "BR1493",
         "Panther Motors"
        ],
        [
         "BR0844",
         "Humber Motors"
        ],
        [
         "BR2053",
         "Volvo Motors"
        ],
        [
         "BR0617",
         "Ford Australia Motors"
        ],
        [
         "BR1114",
         "LTI Motors"
        ],
        [
         "BR0824",
         "Honda India Motors"
        ],
        [
         "BR1052",
         "Lancia Motors"
        ],
        [
         "BR1987",
         "TVR Motors"
        ],
        [
         "BR1295",
         "Micro Motors"
        ],
        [
         "BR0741",
         "Gumpert Motors"
        ],
        [
         "BR1989",
         "TVR Motors"
        ],
        [
         "BR2330",
         "Blankinship Motor Company Building"
        ],
        [
         "BR0739",
         "GTA Spano Motors"
        ],
        [
         "BR0884",
         "Infiniti Motors"
        ],
        [
         "BR1393",
         "Nissan India Motors"
        ],
        [
         "BR1769",
         "Seat Motors"
        ],
        [
         "BR1181",
         "Maserati Motors"
        ],
        [
         "BR1290",
         "Mia Motors"
        ],
        [
         "BR1670",
         "Rolls-Royce Motors"
        ],
        [
         "BR1977",
         "Turner Motors"
        ],
        [
         "BR1467",
         "Pagani Motors"
        ],
        [
         "BR1873",
         "Subaru Motors"
        ],
        [
         "BR0011",
         "Acura Motors"
        ],
        [
         "BR0223",
         "Bristol Motors"
        ],
        [
         "BR0958",
         "Iveco Motors"
        ],
        [
         "BR2135",
         "Horch Motors"
        ],
        [
         "BR1391",
         "Nissan India Motors"
        ],
        [
         "BR2017",
         "Venturi Motors"
        ],
        [
         "BR0013",
         "Acura Motors"
        ],
        [
         "BR1143",
         "Mahindra Motors"
        ],
        [
         "BR2455",
         "Jones Motor Company"
        ],
        [
         "BR0802",
         "Holden Motors"
        ],
        [
         "BR1372",
         "Naza Motors"
        ],
        [
         "BR1798",
         "Simca do Brasil Motors"
        ],
        [
         "BR1875",
         "Subaru Motors"
        ],
        [
         "BR0388",
         "Dacia Motors"
        ],
        [
         "BR0665",
         "FSO Motors"
        ],
        [
         "BR0695",
         "Gilbern Motors"
        ],
        [
         "BR2023",
         "Volkswagen Motors"
        ],
        [
         "BR2232",
         "Standard  Motors"
        ],
        [
         "BR0931",
         "Isotta Fraschini Motors"
        ],
        [
         "BR0688",
         "Geo Motors"
        ],
        [
         "BR2032",
         "Volkswagen do Brasil Motors"
        ],
        [
         "BR1592",
         "Premier Motors"
        ],
        [
         "BR0764",
         "Heinkel Motors"
        ],
        [
         "BR1917",
         "Tatra Motors"
        ],
        [
         "BR1473",
         "Panhard Motors"
        ],
        [
         "BR2237",
         "Standard  Motors"
        ],
        [
         "BR0768",
         "Heinkel Motors"
        ],
        [
         "BR2402",
         "Colman Automotive Building"
        ],
        [
         "BR1761",
         "Seat Motors"
        ],
        [
         "BR0420",
         "Daihatsu Motors"
        ],
        [
         "BR2088",
         "Zastava Motors"
        ],
        [
         "BR1935",
         "Tesla Motors"
        ],
        [
         "BR1951",
         "Toyota Motors"
        ],
        [
         "BR2084",
         "Zastava Motors"
        ],
        [
         "BR5466",
         "Isdera Motors"
        ],
        [
         "BR0073",
         "Anadol Motors"
        ],
        [
         "BR1055",
         "Lancia Motors"
        ],
        [
         "BR0791",
         "Hindustan Motors"
        ],
        [
         "BR11286",
         "Sunbeam Motors"
        ],
        [
         "BR0232",
         "British Leyland Motors"
        ],
        [
         "BR1232",
         "McLaren Motors"
        ],
        [
         "BR5886",
         "Jensen Motors"
        ],
        [
         "BR1768",
         "Seat Motors"
        ],
        [
         "BR0003",
         "AC Cars Motors"
        ],
        [
         "BR2415",
         "H Street Playhouse"
        ],
        [
         "BR0154",
         "Auto-Union Motors"
        ],
        [
         "BR0873",
         "IFA (including Trabant, Wartburg, Barkas) Motors"
        ],
        [
         "BR1353",
         "Moskwitch Motors"
        ],
        [
         "BR1763",
         "Seat Motors"
        ],
        [
         "BR1985",
         "TVR Motors"
        ],
        [
         "BR1259",
         "Mercury Motors"
        ],
        [
         "BR2041",
         "Volkswagen South Africa Motors"
        ],
        [
         "BR0264",
         "Bugatti Motors"
        ],
        [
         "BR0544",
         "Facel Vega Motors"
        ],
        [
         "BR1691",
         "Saleen Motors"
        ],
        [
         "BR1753",
         "Scion Motors"
        ],
        [
         "BR2280",
         "Deccan Motors"
        ],
        [
         "BR2079",
         "Wiesmann Motors"
        ],
        [
         "BR2170",
         "Izh  Motors"
        ],
        [
         "BR0501",
         "Edsel Motors"
        ],
        [
         "BR0199",
         "BMW Motors"
        ],
        [
         "BR0930",
         "Iso Motors"
        ],
        [
         "BR5106",
         "Hummer Motors"
        ],
        [
         "BR1304",
         "Mini Motors"
        ],
        [
         "BR2028",
         "Volkswagen Motors"
        ],
        [
         "BR1673",
         "Saab Motors"
        ],
        [
         "BR0941",
         "Isuzu Motors"
        ],
        [
         "BR1348",
         "Morgan Motors"
        ],
        [
         "BR1301",
         "Mini Motors"
        ],
        [
         "BR1838",
         "Spyker Motors"
        ],
        [
         "BR2410",
         "Colman Automotive Building"
        ],
        [
         "BR1377",
         "Naza Motors"
        ],
        [
         "BR8706",
         "Packard Motors"
        ],
        [
         "BR1173",
         "Maruti Motors"
        ],
        [
         "BR1041",
         "Lamborghini Motors"
        ],
        [
         "BR0067",
         "AMC, Eagle Motors"
        ],
        [
         "BR1578",
         "Pontiac, Asüna Motors"
        ],
        [
         "BR0075",
         "Anadol Motors"
        ],
        [
         "BR0117",
         "Asia Motors Motors"
        ],
        [
         "BR0464",
         "DeSoto Motors"
        ],
        [
         "BR1294",
         "Micro Motors"
        ],
        [
         "BR0278",
         "Buick Motors"
        ],
        [
         "BR1471",
         "Panhard Motors"
        ],
        [
         "BR1073",
         "Lexus Motors"
        ],
        [
         "BR0014",
         "Acura Motors"
        ],
        [
         "BR1571",
         "Pontiac, Asüna Motors"
        ],
        [
         "BR2322",
         "Blankinship Motor Company Building"
        ],
        [
         "BR1625",
         "Ranger Motors"
        ],
        [
         "BR1099",
         "Lincoln Motors"
        ],
        [
         "BR0240",
         "British Leyland Motors"
        ],
        [
         "BR1635",
         "Reliant Motors"
        ],
        [
         "BR0912",
         "Isdera Motors"
        ],
        [
         "BR2468",
         "Kindel Building"
        ],
        [
         "BR1869",
         "Studebaker Motors"
        ],
        [
         "BR1915",
         "Tatra Motors"
        ],
        [
         "BR1503",
         "Peel Motors"
        ],
        [
         "BR2301",
         "Atlantic Motor Company"
        ],
        [
         "BR0980",
         "Jeep Motors"
        ],
        [
         "BR1835",
         "Spyker Motors"
        ],
        [
         "BR0867",
         "Hyundai Motors"
        ],
        [
         "BR1198",
         "Mastretta Motors"
        ],
        [
         "BR4086",
         "Geo Motors"
        ],
        [
         "BR1182",
         "Maserati Motors"
        ],
        [
         "BR0599",
         "Fisker, Karma Motors"
        ],
        [
         "BR0872",
         "IFA (including Trabant, Wartburg, Barkas) Motors"
        ],
        [
         "BR1789",
         "Simca Motors"
        ],
        [
         "BR1343",
         "Morgan Motors"
        ],
        [
         "BR2057",
         "Volvo Motors"
        ],
        [
         "BR2423",
         "Howard Motor Company Building"
        ],
        [
         "BR1262",
         "Merkur Motors"
        ],
        [
         "BR1990",
         "TVR Motors"
        ],
        [
         "BR0477",
         "De Tomaso Motors"
        ],
        [
         "BR0860",
         "Hummer Motors"
        ],
        [
         "BR2946",
         "Donkervoort Motors"
        ],
        [
         "BR2119",
         "Audi Motors"
        ],
        [
         "BR0789",
         "Hillman Motors"
        ],
        [
         "BR1558",
         "Plymouth Motors"
        ],
        [
         "BR3306",
         "Ferrari Motors"
        ],
        [
         "BR1808",
         "Singer Motors"
        ],
        [
         "BR0272",
         "Buick Motors"
        ],
        [
         "BR0654",
         "Freightliner Motors"
        ],
        [
         "BR1413",
         "NSU Motors"
        ],
        [
         "BR1752",
         "Scion Motors"
        ],
        [
         "BR1183",
         "Maserati Motors"
        ],
        [
         "BR1483",
         "Panoz Motors"
        ],
        [
         "BR2221",
         "Wolseley  Motors"
        ],
        [
         "BR0681",
         "Geo Motors"
        ],
        [
         "BR1820",
         "Skoda Motors"
        ],
        [
         "BR1414",
         "NSU Motors"
        ],
        [
         "BR6246",
         "Lamborghini Motors"
        ],
        [
         "BR0925",
         "Iso Motors"
        ],
        [
         "BR0163",
         "Auverland Motors"
        ],
        [
         "BR1410",
         "Noble Motors"
        ],
        [
         "BR2460",
         "Jones Motor Company"
        ],
        [
         "BR6546",
         "Lincoln Motors"
        ],
        [
         "BR11646",
         "Tornado Motors"
        ],
        [
         "BR1264",
         "Merkur Motors"
        ],
        [
         "BR2179",
         "Lagonda  Motors"
        ],
        [
         "BR0203",
         "Bond Motors"
        ],
        [
         "BR1390",
         "Nissan Motors"
        ],
        [
         "BR1425",
         "Oldsmobile Motors"
        ],
        [
         "BR0400",
         "Daewoo, Saehan, Chevrolet Korea Motors"
        ],
        [
         "BR0949",
         "Isuzu Motors"
        ],
        [
         "BR3906",
         "Freightliner Motors"
        ],
        [
         "BR0179",
         "Bentley Motors"
        ],
        [
         "BR1150",
         "Mahindra Motors"
        ],
        [
         "BR2191",
         "Morris  Motors"
        ],
        [
         "BR2199",
         "Morris  Motors"
        ],
        [
         "BR1972",
         "Turner Motors"
        ],
        [
         "BR2342",
         "Buick Automobile Company Building"
        ],
        [
         "BR11706",
         "Toyota Motors"
        ],
        [
         "BR1889",
         "Sunbeam Motors"
        ],
        [
         "BR2182",
         "MG  Motors"
        ],
        [
         "BR0555",
         "Ferrari Motors"
        ],
        [
         "BR0180",
         "Bentley Motors"
        ],
        [
         "BR2351",
         "Cadillac Automobile Company Building"
        ],
        [
         "BR1303",
         "Mini Motors"
        ],
        [
         "BR1647",
         "Renault Motors"
        ],
        [
         "BR0218",
         "Borgward (including Goliath and Lloyd) Motors"
        ],
        [
         "BR0581",
         "Fiat India Motors"
        ],
        [
         "BR0678",
         "GAZ Motors"
        ],
        [
         "BR0103",
         "Artega Motors"
        ],
        [
         "BR0883",
         "Infiniti Motors"
        ],
        [
         "BR1864",
         "Studebaker Motors"
        ],
        [
         "BR1641",
         "Renault Motors"
        ],
        [
         "BR0870",
         "Hyundai Motors"
        ],
        [
         "BR2035",
         "Volkswagen do Brasil Motors"
        ],
        [
         "BR2180",
         "Lagonda  Motors"
        ],
        [
         "BR0798",
         "Hindustan Motors"
        ],
        [
         "BR13806",
         "Atlantic Motor Company"
        ],
        [
         "BR0727",
         "GMC Motors"
        ],
        [
         "BR6006",
         "Kia Motors"
        ],
        [
         "BR8646",
         "Opel Motors"
        ],
        [
         "BR0328",
         "Chevrolet Motors"
        ],
        [
         "BR11826",
         "Turner Motors"
        ],
        [
         "BR2291",
         "Zion Automobils"
        ],
        [
         "BR0638",
         "Ford Europe Motors"
        ],
        [
         "BR0462",
         "DeSoto Motors"
        ],
        [
         "BR2122",
         "DKW Motors"
        ],
        [
         "BR0423",
         "Daimler Motors"
        ],
        [
         "BR1488",
         "Panoz Motors"
        ],
        [
         "BR1969",
         "Toyota India Motors"
        ],
        [
         "BR1872",
         "Subaru Motors"
        ],
        [
         "BR2175",
         "Lagonda  Motors"
        ],
        [
         "BR0151",
         "Auto-Union Motors"
        ],
        [
         "BR0337",
         "Chevrolet India Motors"
        ],
        [
         "BR0573",
         "Fiat do Brasil Motors"
        ],
        [
         "BR14766",
         "Kindel Building"
        ],
        [
         "BR0249",
         "Austin-Healey Motors"
        ],
        [
         "BR1927",
         "Tazzari Motors"
        ],
        [
         "BR1279",
         "Messerschmitt Motors"
        ],
        [
         "BR0468",
         "DeSoto Motors"
        ],
        [
         "BR1104",
         "Lotus Motors"
        ],
        [
         "BR1653",
         "Rivian Motors"
        ],
        [
         "BR0994",
         "JPX Motors"
        ],
        [
         "BR1014",
         "Koenigsegg Motors"
        ],
        [
         "BR1719",
         "San Motors"
        ],
        [
         "BR2147",
         "Wanderer Motors"
        ],
        [
         "BR1384",
         "Nissan Motors"
        ],
        [
         "BR9186",
         "PGO Motors"
        ],
        [
         "BR1130",
         "LuAZ Motors"
        ],
        [
         "BR0371",
         "Cizeta-Moroder Motors"
        ],
        [
         "BR2275",
         "Deccan Motors"
        ],
        [
         "BR0985",
         "Jensen Motors"
        ],
        [
         "BR1365",
         "Nash Motors"
        ],
        [
         "BR1445",
         "Opel Motors"
        ],
        [
         "BR1814",
         "Skoda Motors"
        ],
        [
         "BR1418",
         "NSU Motors"
        ],
        [
         "BR1720",
         "San Motors"
        ],
        [
         "BR1491",
         "Panther Motors"
        ],
        [
         "BR0479",
         "De Tomaso Motors"
        ],
        [
         "BR1274",
         "Messerschmitt Motors"
        ],
        [
         "BR2083",
         "Zastava Motors"
        ],
        [
         "BR2307",
         "Atlantic Motor Company"
        ],
        [
         "BR2282",
         "Herald Motors"
        ],
        [
         "BR1273",
         "Messerschmitt Motors"
        ],
        [
         "BR1218",
         "Mazda Motors"
        ],
        [
         "BR0402",
         "DAF Motors"
        ],
        [
         "BR1560",
         "Plymouth Motors"
        ],
        [
         "BR4266",
         "Glas Motors"
        ],
        [
         "BR1175",
         "Maruti Motors"
        ],
        [
         "BR1448",
         "Opel Motors"
        ],
        [
         "BR0785",
         "Hillman Motors"
        ],
        [
         "BR0675",
         "GAZ Motors"
        ],
        [
         "BR0143",
         "Autobianchi Motors"
        ],
        [
         "BR1729",
         "Santa Matilde Motors"
        ],
        [
         "BR0344",
         "Chrysler Motors"
        ],
        [
         "BR0051",
         "Alvis Motors"
        ],
        [
         "BR0200",
         "BMW Motors"
        ],
        [
         "BR2353",
         "Cadillac Automobile Company Building"
        ],
        [
         "BR0038",
         "Alfa Romeo Motors"
        ],
        [
         "BR1074",
         "Lexus Motors"
        ],
        [
         "BR2050",
         "Volkswagen South Africa Motors"
        ],
        [
         "BR2245",
         "Talbot  Motors"
        ],
        [
         "BR0786",
         "Audi Motors"
        ],
        [
         "BR0604",
         "Ford America Motors"
        ],
        [
         "BR1184",
         "Maserati Motors"
        ],
        [
         "BR1049",
         "Lamborghini Motors"
        ],
        [
         "BR1780",
         "Shelby SuperCars Motors"
        ],
        [
         "BR2766",
         "DeSoto Motors"
        ],
        [
         "BR1688",
         "SAIC Motor Motors"
        ],
        [
         "BR0225",
         "Bristol Motors"
        ],
        [
         "BR2327",
         "Blankinship Motor Company Building"
        ],
        [
         "BR12786",
         "Horch Motors"
        ],
        [
         "BR0964",
         "Jaguar Motors"
        ],
        [
         "BR4806",
         "Holden Motors"
        ],
        [
         "BR10206",
         "Samsung Motors"
        ],
        [
         "BR1261",
         "Merkur Motors"
        ],
        [
         "BR1812",
         "Skoda Motors"
        ],
        [
         "BR1605",
         "Proton Motors"
        ],
        [
         "BR2125",
         "DKW Motors"
        ],
        [
         "BR2183",
         "MG  Motors"
        ],
        [
         "BR2452",
         "Jones Motor Company"
        ],
        [
         "BR0101",
         "Artega Motors"
        ],
        [
         "BR0723",
         "GMC Motors"
        ],
        [
         "BR1914",
         "Tatra Motors"
        ],
        [
         "BR1105",
         "Lotus Motors"
        ],
        [
         "BR1328",
         "Monica Motors"
        ],
        [
         "BR0640",
         "Ford Europe Motors"
        ],
        [
         "BR1939",
         "Tesla Motors"
        ],
        [
         "BR2104",
         "ZIL Motors"
        ],
        [
         "BR0660",
         "Freightliner Motors"
        ],
        [
         "BR0909",
         "Invicta Motors"
        ],
        [
         "BR1118",
         "LTI Motors"
        ],
        [
         "BR4926",
         "Honda India Motors"
        ],
        [
         "BR0457",
         "DeLorean Motors"
        ],
        [
         "BR0669",
         "FSO Motors"
        ],
        [
         "BR2340",
         "Bohn Motor Company Automobile Dealership"
        ],
        [
         "BR0687",
         "Geo Motors"
        ],
        [
         "BR1661",
         "Rolls-Royce Motors"
        ],
        [
         "BR1674",
         "Saab Motors"
        ],
        [
         "BR2030",
         "Volkswagen Motors"
        ],
        [
         "BR1083",
         "Ligier Motors"
        ],
        [
         "BR1621",
         "Ranger Motors"
        ],
        [
         "BR2072",
         "Wiesmann Motors"
        ],
        [
         "BR2222",
         "Wolseley  Motors"
        ],
        [
         "BR1013",
         "Koenigsegg Motors"
        ],
        [
         "BR14046",
         "Buick Automobile Company Building"
        ],
        [
         "BR1421",
         "Oldsmobile Motors"
        ],
        [
         "BR2337",
         "Bohn Motor Company Automobile Dealership"
        ],
        [
         "BR0338",
         "Chevrolet India Motors"
        ],
        [
         "BR2347",
         "Buick Automobile Company Building"
        ],
        [
         "BR0313",
         "Checker Motors"
        ],
        [
         "BR0324",
         "Chevrolet Motors"
        ],
        [
         "BR1479",
         "Panhard Motors"
        ],
        [
         "BR1315",
         "Mitsubishi Motors"
        ],
        [
         "BR0192",
         "BMW Motors"
        ],
        [
         "BR1071",
         "Lexus Motors"
        ],
        [
         "BR1521",
         "Peugeot Motors"
        ],
        [
         "BR2090",
         "Zastava Motors"
        ],
        [
         "BR1598",
         "Premier Motors"
        ],
        [
         "BR0290",
         "Bytom Motors"
        ],
        [
         "BR1107",
         "Lotus Motors"
        ],
        [
         "BR1617",
         "Puma Motors"
        ],
        [
         "BR0043",
         "Alpine Motors"
        ],
        [
         "BR1689",
         "SAIC Motor Motors"
        ],
        [
         "BR1895",
         "Suzuki Motors"
        ],
        [
         "BR1682",
         "SAIC Motor Motors"
        ],
        [
         "BR7986",
         "Monteverdi Motors"
        ],
        [
         "BR2021",
         "Volkswagen Motors"
        ],
        [
         "BR1638",
         "Reliant Motors"
        ],
        [
         "BR0369",
         "Citroën Motors"
        ],
        [
         "BR1978",
         "Turner Motors"
        ],
        [
         "BR7266",
         "Mazda Motors"
        ],
        [
         "BR2444",
         "Jennings Ford Automobile Dealership"
        ],
        [
         "BR1519",
         "Perodua Motors"
        ],
        [
         "BR2060",
         "Volvo Motors"
        ],
        [
         "BR1147",
         "Mahindra Motors"
        ],
        [
         "BR2062",
         "Westfield Motors"
        ],
        [
         "BR0270",
         "Bugatti Motors"
        ],
        [
         "BR0024",
         "Aixam-Mega (including Arola) Motors"
        ],
        [
         "BR12606",
         "ZIL Motors"
        ],
        [
         "BR0315",
         "Checker Motors"
        ],
        [
         "BR1709",
         "Samsung Motors"
        ],
        [
         "BR2329",
         "Blankinship Motor Company Building"
        ],
        [
         "BR0251",
         "Austin, Rover Motors"
        ],
        [
         "BR1188",
         "Maserati Motors"
        ],
        [
         "BR7686",
         "Mia Motors"
        ],
        [
         "BR1668",
         "Rolls-Royce Motors"
        ],
        [
         "BR0434",
         "Datsun Motors"
        ],
        [
         "BR0871",
         "IFA (including Trabant, Wartburg, Barkas) Motors"
        ],
        [
         "BR1170",
         "Marlin Motors"
        ],
        [
         "BR1222",
         "Mazzanti Motors"
        ],
        [
         "BR2319",
         "2008 NRHP-listed"
        ],
        [
         "BR0367",
         "Citroën Motors"
        ],
        [
         "BR0247",
         "Austin-Healey Motors"
        ],
        [
         "BR1019",
         "Koenigsegg Motors"
        ],
        [
         "BR10806",
         "Singer Motors"
        ],
        [
         "BR1502",
         "Peel Motors"
        ],
        [
         "BR0185",
         "Bitter Motors"
        ],
        [
         "BR1882",
         "Sunbeam Motors"
        ],
        [
         "BR2059",
         "Volvo Motors"
        ],
        [
         "BR0275",
         "Buick Motors"
        ],
        [
         "BR1482",
         "Panoz Motors"
        ],
        [
         "BR1758",
         "Scion Motors"
        ],
        [
         "BR14526",
         "Howard Motor Company Building"
        ],
        [
         "BR1925",
         "Tazzari Motors"
        ],
        [
         "BR1060",
         "Lancia Motors"
        ],
        [
         "BR1562",
         "Polestar Motors"
        ],
        [
         "BR0012",
         "Acura Motors"
        ],
        [
         "BR2309",
         "Atlantic Motor Company"
        ],
        [
         "BR1937",
         "Tesla Motors"
        ],
        [
         "BR5946",
         "JPX Motors"
        ],
        [
         "BR1918",
         "Tatra Motors"
        ],
        [
         "BR2101",
         "ZIL Motors"
        ],
        [
         "BR2171",
         "Lagonda  Motors"
        ],
        [
         "BR1515",
         "Perodua Motors"
        ],
        [
         "BR0823",
         "Honda India Motors"
        ],
        [
         "BR2405",
         "Colman Automotive Building"
        ],
        [
         "BR1920",
         "Tatra Motors"
        ],
        [
         "BR1949",
         "Tornado Motors"
        ],
        [
         "BR1555",
         "Plymouth Motors"
        ],
        [
         "BR2164",
         "Izh  Motors"
        ],
        [
         "BR1157",
         "Marcos Motors"
        ],
        [
         "BR0933",
         "Isotta Fraschini Motors"
        ],
        [
         "BR0102",
         "Artega Motors"
        ],
        [
         "BR0048",
         "Alpine Motors"
        ],
        [
         "BR1499",
         "Panther Motors"
        ],
        [
         "BR0585",
         "Fiat India Motors"
        ],
        [
         "BR2358",
         "Cadillac Automobile Company Building"
        ],
        [
         "BR0879",
         "IFA (including Trabant, Wartburg, Barkas) Motors"
        ],
        [
         "BR0354",
         "Chrysler Europe Motors"
        ],
        [
         "BR0963",
         "Jaguar Motors"
        ],
        [
         "BR1573",
         "Pontiac, Asüna Motors"
        ],
        [
         "BR1785",
         "Simca Motors"
        ],
        [
         "BR1944",
         "Tornado Motors"
        ],
        [
         "BR0880",
         "IFA (including Trabant, Wartburg, Barkas) Motors"
        ],
        [
         "BR0947",
         "Isuzu Motors"
        ],
        [
         "BR1762",
         "Seat Motors"
        ],
        [
         "BR1113",
         "LTI Motors"
        ],
        [
         "BR12906",
         "Maybach  Motors"
        ],
        [
         "BR2049",
         "Volkswagen South Africa Motors"
        ],
        [
         "BR1209",
         "Matra (including Deutsch-Bonnet, René Bonnet) Motors"
        ],
        [
         "BR13086",
         "MG  Motors"
        ],
        [
         "BR1332",
         "Monteverdi Motors"
        ],
        [
         "BR1569",
         "Polestar Motors"
        ],
        [
         "BR1940",
         "Tesla Motors"
        ],
        [
         "BR2467",
         "Kindel Building"
        ],
        [
         "BR2019",
         "Venturi Motors"
        ],
        [
         "BR1087",
         "Ligier Motors"
        ],
        [
         "BR2223",
         "Wolseley  Motors"
        ],
        [
         "BR2070",
         "Westfield Motors"
        ],
        [
         "BR1004",
         "Kia Motors"
        ],
        [
         "BR0311",
         "Checker Motors"
        ],
        [
         "BR1597",
         "Premier Motors"
        ],
        [
         "BR1750",
         "Saturn Motors"
        ],
        [
         "BR2008",
         "Vauxhall Motors"
        ],
        [
         "BR1755",
         "Scion Motors"
        ],
        [
         "BR2024",
         "Volkswagen Motors"
        ],
        [
         "BR2067",
         "Westfield Motors"
        ],
        [
         "BR0651",
         "Freightliner Motors"
        ],
        [
         "BR1063",
         "Land Rover Motors"
        ],
        [
         "BR1553",
         "Plymouth Motors"
        ],
        [
         "BR1963",
         "Toyota India Motors"
        ],
        [
         "BR2114",
         "Audi Motors"
        ],
        [
         "BR0334",
         "Chevrolet India Motors"
        ],
        [
         "BR1364",
         "Nash Motors"
        ],
        [
         "BR1660",
         "Rivian Motors"
        ],
        [
         "BR0229",
         "Bristol Motors"
        ],
        [
         "BR2271",
         "Deccan Motors"
        ],
        [
         "BR0840",
         "Hudson Motors"
        ],
        [
         "BR2382",
         "Claremore Auto Dealership"
        ],
        [
         "BR0459",
         "DeLorean Motors"
        ],
        [
         "BR1905",
         "Tata Motors"
        ],
        [
         "BR1894",
         "Suzuki Motors"
        ],
        [
         "BR2411",
         "H Street Playhouse"
        ],
        [
         "BR1567",
         "Polestar Motors"
        ],
        [
         "BR2334",
         "Bohn Motor Company Automobile Dealership"
        ],
        [
         "BR1880",
         "Subaru Motors"
        ],
        [
         "BR2447",
         "Jennings Ford Automobile Dealership"
        ],
        [
         "BR4146",
         "Gilbern Motors"
        ],
        [
         "BR0633",
         "Ford Europe Motors"
        ],
        [
         "BR1924",
         "Tazzari Motors"
        ],
        [
         "BR2303",
         "Atlantic Motor Company"
        ],
        [
         "BR2288",
         "Herald Motors"
        ],
        [
         "BR0037",
         "Alfa Romeo Motors"
        ],
        [
         "BR2289",
         "Herald Motors"
        ],
        [
         "BR1317",
         "Mitsubishi Motors"
        ],
        [
         "BR2252",
         "Das Motors"
        ],
        [
         "BR1165",
         "Marlin Motors"
        ],
        [
         "BR0492",
         "Donkervoort Motors"
        ],
        [
         "BR2313",
         "2008 NRHP-listed"
        ],
        [
         "BR0781",
         "Hillman Motors"
        ],
        [
         "BR0838",
         "Hudson Motors"
        ],
        [
         "BR1363",
         "Nash Motors"
        ],
        [
         "BR1128",
         "LuAZ Motors"
        ],
        [
         "BR0993",
         "JPX Motors"
        ],
        [
         "BR1251",
         "Mercury Motors"
        ],
        [
         "BR13026",
         "Lagonda  Motors"
        ],
        [
         "BR0305",
         "Caterham Motors"
        ],
        [
         "BR0268",
         "Bugatti Motors"
        ],
        [
         "BR0657",
         "Freightliner Motors"
        ],
        [
         "BR6126",
         "KTM Motors"
        ],
        [
         "BR0392",
         "Daewoo, Saehan, Chevrolet Korea Motors"
        ],
        [
         "BR1795",
         "Simca do Brasil Motors"
        ],
        [
         "BR1388",
         "Nissan Motors"
        ],
        [
         "BR1629",
         "Ranger Motors"
        ],
        [
         "BR1320",
         "Mitsubishi Motors"
        ],
        [
         "BR1507",
         "Peel Motors"
        ],
        [
         "BR8826",
         "Panhard Motors"
        ],
        [
         "BR0362",
         "Citroën Motors"
        ],
        [
         "BR0432",
         "Datsun Motors"
        ],
        [
         "BR7926",
         "Monica Motors"
        ],
        [
         "BR1318",
         "Mitsubishi Motors"
        ],
        [
         "BR1589",
         "Porsche Motors"
        ],
        [
         "BR0728",
         "GMC Motors"
        ],
        [
         "BR6426",
         "Lexus Motors"
        ],
        [
         "BR2210",
         "Austin  Motors"
        ],
        [
         "BR0414",
         "Daihatsu Motors"
        ],
        [
         "BR0111",
         "Asia Motors Motors"
        ],
        [
         "BR1923",
         "Tazzari Motors"
        ],
        [
         "BR0752",
         "Healey Motors"
        ],
        [
         "BR0738",
         "GTA Spano Motors"
        ],
        [
         "BR0904",
         "Invicta Motors"
        ],
        [
         "BR12366",
         "Westfield Motors"
        ],
        [
         "BR2177",
         "Lagonda  Motors"
        ],
        [
         "BR0999",
         "JPX Motors"
        ],
        [
         "BR1167",
         "Marlin Motors"
        ],
        [
         "BR1520",
         "Perodua Motors"
        ],
        [
         "BR0989",
         "Jensen Motors"
        ],
        [
         "BR2344",
         "Buick Automobile Company Building"
        ],
        [
         "BR1408",
         "Noble Motors"
        ],
        [
         "BR2706",
         "DeLorean Motors"
        ],
        [
         "BR1293",
         "Micro Motors"
        ],
        [
         "BR1663",
         "Rolls-Royce Motors"
        ],
        [
         "BR0928",
         "Iso Motors"
        ],
        [
         "BR0490",
         "Dodge Motors"
        ],
        [
         "BR0973",
         "Jeep Motors"
        ],
        [
         "BR0095",
         "ARO Motors"
        ],
        [
         "BR1913",
         "Tatra Motors"
        ],
        [
         "BR1884",
         "Sunbeam Motors"
        ],
        [
         "BR0359",
         "Chrysler Europe Motors"
        ],
        [
         "BR1954",
         "Toyota Motors"
        ],
        [
         "BR0417",
         "Daihatsu Motors"
        ],
        [
         "BR6786",
         "Lynx Motors"
        ],
        [
         "BR1485",
         "Panoz Motors"
        ],
        [
         "BR1634",
         "Reliant Motors"
        ],
        [
         "BR0924",
         "Iso Motors"
        ],
        [
         "BR13686",
         "Herald Motors"
        ],
        [
         "BR2233",
         "Standard  Motors"
        ],
        [
         "BR0463",
         "DeSoto Motors"
        ],
        [
         "BR1837",
         "Spyker Motors"
        ],
        [
         "BR0115",
         "Asia Motors Motors"
        ],
        [
         "BR1155",
         "Marcos Motors"
        ],
        [
         "BR1310",
         "Mini Motors"
        ],
        [
         "BR0027",
         "Aixam-Mega (including Arola) Motors"
        ],
        [
         "BR0215",
         "Borgward (including Goliath and Lloyd) Motors"
        ],
        [
         "BR0082",
         "Ariel Motors"
        ],
        [
         "BR1579",
         "Pontiac, Asüna Motors"
        ],
        [
         "BR7326",
         "Mazzanti Motors"
        ],
        [
         "BR1669",
         "Rolls-Royce Motors"
        ],
        [
         "BR2011",
         "Venturi Motors"
        ],
        [
         "BR0089",
         "Ariel Motors"
        ],
        [
         "BR1195",
         "Mastretta Motors"
        ],
        [
         "BR1633",
         "Reliant Motors"
        ],
        [
         "BR1715",
         "San Motors"
        ],
        [
         "BR0360",
         "Chrysler Europe Motors"
        ],
        [
         "BR0552",
         "Ferrari Motors"
        ],
        [
         "BR0981",
         "Jensen Motors"
        ],
        [
         "BR1047",
         "Lamborghini Motors"
        ],
        [
         "BR1751",
         "Scion Motors"
        ],
        [
         "BR2293",
         "Zion Automobils"
        ],
        [
         "BR1862",
         "Studebaker Motors"
        ],
        [
         "BR1360",
         "Moskwitch Motors"
        ],
        [
         "BR1241",
         "Mercedes-Benz (including Maybach) Motors"
        ],
        [
         "BR13926",
         "Blankinship Motor Company Building"
        ],
        [
         "BR2438",
         "Hupmobile Building"
        ],
        [
         "BR1480",
         "Panhard Motors"
        ],
        [
         "BR0815",
         "Honda Motors"
        ],
        [
         "BR9246",
         "Piaggio Motors"
        ],
        [
         "BR1302",
         "Mini Motors"
        ],
        [
         "BR2305",
         "Atlantic Motor Company"
        ],
        [
         "BR0505",
         "Edsel Motors"
        ],
        [
         "BR1288",
         "Mia Motors"
        ],
        [
         "BR0426",
         "Anadol Motors"
        ],
        [
         "BR0940",
         "Isotta Fraschini Motors"
        ],
        [
         "BR0080",
         "Anadol Motors"
        ],
        [
         "BR0274",
         "Buick Motors"
        ],
        [
         "BR0285",
         "Bytom Motors"
        ],
        [
         "BR0682",
         "Geo Motors"
        ],
        [
         "BR0713",
         "Glas Motors"
        ],
        [
         "BR1655",
         "Rivian Motors"
        ],
        [
         "BR2264",
         "Ramani Motors"
        ],
        [
         "BR4566",
         "Heinkel Motors"
        ],
        [
         "BR1358",
         "Moskwitch Motors"
        ],
        [
         "BR1685",
         "SAIC Motor Motors"
        ],
        [
         "BR1897",
         "Suzuki Motors"
        ],
        [
         "BR2188",
         "MG  Motors"
        ],
        [
         "BR2198",
         "Morris  Motors"
        ],
        [
         "BR1351",
         "Moskwitch Motors"
        ],
        [
         "BR1513",
         "Perodua Motors"
        ],
        [
         "BR1677",
         "Saab Motors"
        ],
        [
         "BR0181",
         "Bitter Motors"
        ],
        [
         "BR1839",
         "Spyker Motors"
        ],
        [
         "BR0277",
         "Buick Motors"
        ],
        [
         "BR13566",
         "Ramani Motors"
        ],
        [
         "BR2395",
         "Clemens Automobile Company Building"
        ],
        [
         "BR1200",
         "Mastretta Motors"
        ],
        [
         "BR0584",
         "Fiat India Motors"
        ],
        [
         "BR1928",
         "Tazzari Motors"
        ],
        [
         "BR0131",
         "Audi Motors"
        ],
        [
         "BR13626",
         "Deccan Motors"
        ],
        [
         "BR0569",
         "Fiat Motors"
        ],
        [
         "BR2195",
         "Morris  Motors"
        ],
        [
         "BR1275",
         "Messerschmitt Motors"
        ],
        [
         "BR0484",
         "Dodge Motors"
        ],
        [
         "BR1477",
         "Panhard Motors"
        ],
        [
         "BR0778",
         "Hennessey Motors"
        ],
        [
         "BR1172",
         "Maruti Motors"
        ],
        [
         "BR1938",
         "Tesla Motors"
        ],
        [
         "BR1168",
         "Marlin Motors"
        ],
        [
         "BR0605",
         "Ford America Motors"
        ],
        [
         "BR0302",
         "Caterham Motors"
        ],
        [
         "BR1782",
         "Simca Motors"
        ],
        [
         "BR2106",
         "Chrysler Europe Motors"
        ],
        [
         "BR1460",
         "Packard Motors"
        ],
        [
         "BR2009",
         "Vauxhall Motors"
        ],
        [
         "BR2339",
         "Bohn Motor Company Automobile Dealership"
        ],
        [
         "BR2259",
         "Das Motors"
        ],
        [
         "BR0666",
         "Asia Motors Motors"
        ],
        [
         "BR0877",
         "IFA (including Trabant, Wartburg, Barkas) Motors"
        ],
        [
         "BR2295",
         "Zion Automobils"
        ],
        [
         "BR3546",
         "Fisker, Karma Motors"
        ],
        [
         "BR5406",
         "Invicta Motors"
        ],
        [
         "BR0917",
         "Isdera Motors"
        ],
        [
         "BR1380",
         "Naza Motors"
        ],
        [
         "BR1575",
         "Pontiac, Asüna Motors"
        ],
        [
         "BR0323",
         "Chevrolet Motors"
        ],
        [
         "BR1148",
         "Mahindra Motors"
        ],
        [
         "BR2042",
         "Volkswagen South Africa Motors"
        ],
        [
         "BR0454",
         "DeLorean Motors"
        ],
        [
         "BR0715",
         "Glas Motors"
        ],
        [
         "BR0025",
         "Aixam-Mega (including Arola) Motors"
        ],
        [
         "BR1245",
         "Mercedes-Benz (including Maybach) Motors"
        ],
        [
         "BR0441",
         "Delahaye Motors"
        ],
        [
         "BR0967",
         "Jaguar Motors"
        ],
        [
         "BR0913",
         "Isdera Motors"
        ],
        [
         "BR0565",
         "Fiat Motors"
        ],
        [
         "BR0539",
         "Elva Motors"
        ],
        [
         "BR1080",
         "Lexus Motors"
        ],
        [
         "BR0169",
         "Auverland Motors"
        ],
        [
         "BR1877",
         "Subaru Motors"
        ],
        [
         "BR0295",
         "Cadillac Motors"
        ],
        [
         "BR1582",
         "Porsche Motors"
        ],
        [
         "BR2357",
         "Cadillac Automobile Company Building"
        ],
        [
         "BR2440",
         "Hupmobile Building"
        ],
        [
         "BR0283",
         "Bytom Motors"
        ],
        [
         "BR0774",
         "Hennessey Motors"
        ],
        [
         "BR1399",
         "Nissan India Motors"
        ],
        [
         "BR1140",
         "Lynx Motors"
        ],
        [
         "BR2029",
         "Volkswagen Motors"
        ],
        [
         "BR2054",
         "Volvo Motors"
        ],
        [
         "BR0602",
         "Ford America Motors"
        ],
        [
         "BR0452",
         "DeLorean Motors"
        ],
        [
         "BR0730",
         "GMC Motors"
        ],
        [
         "BR0731",
         "GTA Spano Motors"
        ],
        [
         "BR1518",
         "Perodua Motors"
        ],
        [
         "BR0375",
         "Cizeta-Moroder Motors"
        ],
        [
         "BR0655",
         "Freightliner Motors"
        ],
        [
         "BR2263",
         "Ramani Motors"
        ],
        [
         "BR1824",
         "Smart Motors"
        ],
        [
         "BR1815",
         "Skoda Motors"
        ],
        [
         "BR1595",
         "Premier Motors"
        ],
        [
         "BR2131",
         "Horch Motors"
        ],
        [
         "BR1340",
         "Monteverdi Motors"
        ],
        [
         "BR2367",
         "Casa de cadillac"
        ],
        [
         "BR2284",
         "Herald Motors"
        ],
        [
         "BR0794",
         "Hindustan Motors"
        ],
        [
         "BR2437",
         "Hupmobile Building"
        ],
        [
         "BR0970",
         "Jaguar Motors"
        ],
        [
         "BR0372",
         "Cizeta-Moroder Motors"
        ],
        [
         "BR0653",
         "Freightliner Motors"
        ],
        [
         "BR10626",
         "Shelby SuperCars Motors"
        ],
        [
         "BR2388",
         "Claremore Auto Dealership"
        ],
        [
         "BR1125",
         "LuAZ Motors"
        ],
        [
         "BR0411",
         "Daihatsu Motors"
        ],
        [
         "BR1711",
         "San Motors"
        ],
        [
         "BR1988",
         "TVR Motors"
        ],
        [
         "BR2287",
         "Herald Motors"
        ],
        [
         "BR1821",
         "Smart Motors"
        ],
        [
         "BR10746",
         "Simca do Brasil Motors"
        ],
        [
         "BR2262",
         "Ramani Motors"
        ],
        [
         "BR1362",
         "Nash Motors"
        ],
        [
         "BR1892",
         "Suzuki Motors"
        ],
        [
         "BR2018",
         "Venturi Motors"
        ],
        [
         "BR0939",
         "Isotta Fraschini Motors"
        ],
        [
         "BR2045",
         "Volkswagen South Africa Motors"
        ],
        [
         "BR0634",
         "Ford Europe Motors"
        ],
        [
         "BR0120",
         "Asia Motors Motors"
        ],
        [
         "BR0888",
         "Infiniti Motors"
        ],
        [
         "BR1252",
         "Mercury Motors"
        ],
        [
         "BR2130",
         "DKW Motors"
        ],
        [
         "BR1843",
         "SsangYong Motors"
        ],
        [
         "BR2134",
         "Horch Motors"
        ],
        [
         "BR2338",
         "Bohn Motor Company Automobile Dealership"
        ],
        [
         "BR0008",
         "AC Cars Motors"
        ],
        [
         "BR0405",
         "DAF Motors"
        ],
        [
         "BR0122",
         "Aston Martin Motors"
        ],
        [
         "BR0138",
         "Audi Motors"
        ],
        [
         "BR1787",
         "Simca Motors"
        ],
        [
         "BR1959",
         "Toyota Motors"
        ],
        [
         "BR11466",
         "Tatra Motors"
        ],
        [
         "BR1887",
         "Sunbeam Motors"
        ],
        [
         "BR0983",
         "Jensen Motors"
        ],
        [
         "BR0897",
         "Innocenti Motors"
        ],
        [
         "BR1530",
         "Peugeot Motors"
        ],
        [
         "BR0053",
         "Alvis Motors"
        ],
        [
         "BR1321",
         "Monica Motors"
        ],
        [
         "BR1322",
         "Monica Motors"
        ],
        [
         "BR0409",
         "DAF Motors"
        ],
        [
         "BR2108",
         "ZIL Motors"
        ],
        [
         "BR0267",
         "Bugatti Motors"
        ],
        [
         "BR1874",
         "Subaru Motors"
        ],
        [
         "BR1092",
         "Lincoln Motors"
        ],
        [
         "BR1610",
         "Proton Motors"
        ],
        [
         "BR2272",
         "Deccan Motors"
        ],
        [
         "BR2310",
         "Atlantic Motor Company"
        ],
        [
         "BR0767",
         "Heinkel Motors"
        ],
        [
         "BR1583",
         "Porsche Motors"
        ]
       ],
       "datasetInfos": [],
       "dbfsResultPath": null,
       "isJsonSchema": true,
       "metadata": {},
       "overflow": false,
       "plotOptions": {
        "customPlotOptions": {},
        "displayType": "table",
        "pivotAggregation": null,
        "pivotColumns": null,
        "xColumns": null,
        "yColumns": null
       },
       "removedWidgets": [],
       "schema": [
        {
         "metadata": "{}",
         "name": "Branch_ID",
         "type": "\"string\""
        },
        {
         "metadata": "{}",
         "name": "BranchName",
         "type": "\"string\""
        }
       ],
       "type": "table"
      }
     },
     "output_type": "display_data"
    }
   ],
   "source": [
    "df_src_branch = spark.sql('''\n",
    "    SELECT DISTINCT Branch_ID, BranchName\n",
    "    FROM parquet.`abfss://silver@datalakecarsrj.dfs.core.windows.net/carsales`\n",
    "''')\n",
    "df_src_branch.display()"
   ]
  },
  {
   "cell_type": "markdown",
   "metadata": {
    "application/vnd.databricks.v1+cell": {
     "cellMetadata": {},
     "inputWidgets": {},
     "nuid": "24487352-16b3-4d06-b831-eb72b6a9b361",
     "showTitle": false,
     "tableResultSettingsMap": {},
     "title": ""
    }
   },
   "source": [
    "### Create Surrogate Key "
   ]
  },
  {
   "cell_type": "code",
   "execution_count": 0,
   "metadata": {
    "application/vnd.databricks.v1+cell": {
     "cellMetadata": {
      "byteLimit": 2048000,
      "rowLimit": 10000
     },
     "inputWidgets": {},
     "nuid": "5bea1f3c-f378-46a2-b472-a6d5a4b0710a",
     "showTitle": false,
     "tableResultSettingsMap": {},
     "title": ""
    }
   },
   "outputs": [],
   "source": [
    "if spark.catalog.tableExists(\"cars_catalog.gold.dim_branch\"):\n",
    "    df_existing_branch = spark.sql('''\n",
    "        SELECT branch_key, Branch_ID, BranchName\n",
    "        FROM cars_catalog.gold.dim_branch\n",
    "    ''')\n",
    "else:\n",
    "    df_existing_branch = spark.sql('''\n",
    "        SELECT 1 as branch_key, Branch_ID, BranchName\n",
    "        FROM parquet.`abfss://silver@datalakecarsrj.dfs.core.windows.net/carsales`\n",
    "        WHERE 1=0\n",
    "    ''')"
   ]
  },
  {
   "cell_type": "markdown",
   "metadata": {
    "application/vnd.databricks.v1+cell": {
     "cellMetadata": {},
     "inputWidgets": {},
     "nuid": "bfc63ea7-8ee8-41ba-ac2f-8c7190df6fa5",
     "showTitle": false,
     "tableResultSettingsMap": {},
     "title": ""
    }
   },
   "source": [
    "**Create surrogate key column and ADD the max surrogate key** "
   ]
  },
  {
   "cell_type": "code",
   "execution_count": 0,
   "metadata": {
    "application/vnd.databricks.v1+cell": {
     "cellMetadata": {
      "byteLimit": 2048000,
      "rowLimit": 10000
     },
     "inputWidgets": {},
     "nuid": "f49e2822-868d-40a2-bd6b-861b7581cec0",
     "showTitle": false,
     "tableResultSettingsMap": {},
     "title": ""
    }
   },
   "outputs": [],
   "source": [
    "df_joined = df_src_branch.join(df_existing_branch, \"Branch_ID\", how=\"left\") \\\n",
    "                         .select(df_src_branch.Branch_ID, df_src_branch.BranchName, df_existing_branch.branch_key)\n",
    "\n",
    "df_existing_only = df_joined.filter(df_joined.branch_key.isNotNull())\n",
    "df_new_only = df_joined.filter(df_joined.branch_key.isNull()) \\\n",
    "                       .select(\"Branch_ID\", \"BranchName\")"
   ]
  },
  {
   "cell_type": "markdown",
   "metadata": {
    "application/vnd.databricks.v1+cell": {
     "cellMetadata": {},
     "inputWidgets": {},
     "nuid": "3da36509-f08f-4a15-9c8d-4323d4d97043",
     "showTitle": false,
     "tableResultSettingsMap": {},
     "title": ""
    }
   },
   "source": [
    "### dim_branch sink - initial and incremental "
   ]
  },
  {
   "cell_type": "markdown",
   "metadata": {
    "application/vnd.databricks.v1+cell": {
     "cellMetadata": {},
     "inputWidgets": {},
     "nuid": "8c74bb9f-4747-49e9-b573-44bf014ecb61",
     "showTitle": false,
     "tableResultSettingsMap": {},
     "title": ""
    }
   },
   "source": [
    "**Fetch the max surrogate key from the existing table**"
   ]
  },
  {
   "cell_type": "code",
   "execution_count": 0,
   "metadata": {
    "application/vnd.databricks.v1+cell": {
     "cellMetadata": {
      "byteLimit": 2048000,
      "rowLimit": 10000
     },
     "inputWidgets": {},
     "nuid": "b1d71344-c82e-480c-b74b-d4b5a48a98bd",
     "showTitle": false,
     "tableResultSettingsMap": {},
     "title": ""
    }
   },
   "outputs": [
    {
     "output_type": "stream",
     "name": "stderr",
     "output_type": "stream",
     "text": [
      "/databricks/python/lib/python3.11/site-packages/pyspark/sql/connect/expressions.py:1017: UserWarning: WARN WindowExpression: No Partition Defined for Window operation! Moving all data to a single partition, this can cause serious performance degradation.\n  warnings.warn(\n"
     ]
    }
   ],
   "source": [
    "from pyspark.sql.functions import row_number\n",
    "from pyspark.sql.window import Window\n",
    "\n",
    "# Optional incremental flag if needed\n",
    "dbutils.widgets.text(\"incremental_flag\", \"0\")\n",
    "incremental_flag = int(dbutils.widgets.get(\"incremental_flag\"))\n",
    "\n",
    "if incremental_flag == 0 or not spark.catalog.tableExists(\"cars_catalog.gold.dim_branch\"):\n",
    "    max_branch_key = 0\n",
    "else:\n",
    "    max_df = spark.sql(\"SELECT MAX(branch_key) as max_key FROM cars_catalog.gold.dim_branch\")\n",
    "    max_branch_key = max_df.collect()[0][\"max_key\"]\n",
    "\n",
    "# Generate new surrogate keys\n",
    "window_spec = Window.orderBy(\"Branch_ID\")\n",
    "df_new_with_keys = df_new_only.withColumn(\n",
    "    \"branch_key\", row_number().over(window_spec) + max_branch_key\n",
    ").select(\"branch_key\", \"Branch_ID\", \"BranchName\")\n"
   ]
  },
  {
   "cell_type": "code",
   "execution_count": 0,
   "metadata": {
    "application/vnd.databricks.v1+cell": {
     "cellMetadata": {
      "byteLimit": 2048000,
      "rowLimit": 10000
     },
     "inputWidgets": {},
     "nuid": "4a819f93-c507-4b1c-b4f0-8a296f119d47",
     "showTitle": false,
     "tableResultSettingsMap": {},
     "title": ""
    }
   },
   "outputs": [
    {
     "output_type": "stream",
     "name": "stderr",
     "output_type": "stream",
     "text": [
      "/databricks/python/lib/python3.11/site-packages/pyspark/sql/connect/expressions.py:1017: UserWarning: WARN WindowExpression: No Partition Defined for Window operation! Moving all data to a single partition, this can cause serious performance degradation.\n  warnings.warn(\n"
     ]
    },
    {
     "output_type": "display_data",
     "data": {
      "text/html": [
       "<style scoped>\n",
       "  .table-result-container {\n",
       "    max-height: 300px;\n",
       "    overflow: auto;\n",
       "  }\n",
       "  table, th, td {\n",
       "    border: 1px solid black;\n",
       "    border-collapse: collapse;\n",
       "  }\n",
       "  th, td {\n",
       "    padding: 5px;\n",
       "  }\n",
       "  th {\n",
       "    text-align: left;\n",
       "  }\n",
       "</style><div class='table-result-container'><table class='table-result'><thead style='background-color: white'><tr><th>branch_key</th><th>Branch_ID</th><th>BranchName</th></tr></thead><tbody><tr><td>1</td><td>BR0001</td><td>AC Cars Motors</td></tr><tr><td>2</td><td>BR0003</td><td>AC Cars Motors</td></tr><tr><td>3</td><td>BR0004</td><td>AC Cars Motors</td></tr><tr><td>4</td><td>BR0005</td><td>AC Cars Motors</td></tr><tr><td>5</td><td>BR0006</td><td>AC Cars Motors</td></tr><tr><td>6</td><td>BR0008</td><td>AC Cars Motors</td></tr><tr><td>7</td><td>BR0009</td><td>AC Cars Motors</td></tr><tr><td>8</td><td>BR0010</td><td>AC Cars Motors</td></tr><tr><td>9</td><td>BR0011</td><td>Acura Motors</td></tr><tr><td>10</td><td>BR0012</td><td>Acura Motors</td></tr><tr><td>11</td><td>BR0013</td><td>Acura Motors</td></tr><tr><td>12</td><td>BR0014</td><td>Acura Motors</td></tr><tr><td>13</td><td>BR0015</td><td>Acura Motors</td></tr><tr><td>14</td><td>BR0017</td><td>Acura Motors</td></tr><tr><td>15</td><td>BR0018</td><td>Acura Motors</td></tr><tr><td>16</td><td>BR0019</td><td>Acura Motors</td></tr><tr><td>17</td><td>BR0020</td><td>Acura Motors</td></tr><tr><td>18</td><td>BR0021</td><td>Aixam-Mega (including Arola) Motors</td></tr><tr><td>19</td><td>BR0024</td><td>Aixam-Mega (including Arola) Motors</td></tr><tr><td>20</td><td>BR0025</td><td>Aixam-Mega (including Arola) Motors</td></tr><tr><td>21</td><td>BR0027</td><td>Aixam-Mega (including Arola) Motors</td></tr><tr><td>22</td><td>BR0028</td><td>Aixam-Mega (including Arola) Motors</td></tr><tr><td>23</td><td>BR0029</td><td>Aixam-Mega (including Arola) Motors</td></tr><tr><td>24</td><td>BR0031</td><td>Alfa Romeo Motors</td></tr><tr><td>25</td><td>BR0032</td><td>Alfa Romeo Motors</td></tr><tr><td>26</td><td>BR0033</td><td>Alfa Romeo Motors</td></tr><tr><td>27</td><td>BR0035</td><td>Alfa Romeo Motors</td></tr><tr><td>28</td><td>BR0037</td><td>Alfa Romeo Motors</td></tr><tr><td>29</td><td>BR0038</td><td>Alfa Romeo Motors</td></tr><tr><td>30</td><td>BR0040</td><td>Alfa Romeo Motors</td></tr><tr><td>31</td><td>BR0041</td><td>Alpine Motors</td></tr><tr><td>32</td><td>BR0042</td><td>Alpine Motors</td></tr><tr><td>33</td><td>BR0043</td><td>Alpine Motors</td></tr><tr><td>34</td><td>BR0044</td><td>Alpine Motors</td></tr><tr><td>35</td><td>BR0045</td><td>Alpine Motors</td></tr><tr><td>36</td><td>BR0047</td><td>Alpine Motors</td></tr><tr><td>37</td><td>BR0048</td><td>Alpine Motors</td></tr><tr><td>38</td><td>BR0049</td><td>Alpine Motors</td></tr><tr><td>39</td><td>BR0050</td><td>Alpine Motors</td></tr><tr><td>40</td><td>BR0051</td><td>Alvis Motors</td></tr><tr><td>41</td><td>BR0052</td><td>Alvis Motors</td></tr><tr><td>42</td><td>BR0053</td><td>Alvis Motors</td></tr><tr><td>43</td><td>BR0054</td><td>Alvis Motors</td></tr><tr><td>44</td><td>BR0055</td><td>Alvis Motors</td></tr><tr><td>45</td><td>BR0057</td><td>Alvis Motors</td></tr><tr><td>46</td><td>BR0058</td><td>Alvis Motors</td></tr><tr><td>47</td><td>BR0059</td><td>Alvis Motors</td></tr><tr><td>48</td><td>BR0060</td><td>Alvis Motors</td></tr><tr><td>49</td><td>BR0061</td><td>AMC, Eagle Motors</td></tr><tr><td>50</td><td>BR0064</td><td>AMC, Eagle Motors</td></tr><tr><td>51</td><td>BR0065</td><td>AMC, Eagle Motors</td></tr><tr><td>52</td><td>BR0066</td><td>Acura Motors</td></tr><tr><td>53</td><td>BR0067</td><td>AMC, Eagle Motors</td></tr><tr><td>54</td><td>BR0068</td><td>AMC, Eagle Motors</td></tr><tr><td>55</td><td>BR0069</td><td>AMC, Eagle Motors</td></tr><tr><td>56</td><td>BR0070</td><td>AMC, Eagle Motors</td></tr><tr><td>57</td><td>BR0071</td><td>Anadol Motors</td></tr><tr><td>58</td><td>BR0072</td><td>Anadol Motors</td></tr><tr><td>59</td><td>BR0073</td><td>Anadol Motors</td></tr><tr><td>60</td><td>BR0074</td><td>Anadol Motors</td></tr><tr><td>61</td><td>BR0075</td><td>Anadol Motors</td></tr><tr><td>62</td><td>BR0077</td><td>Anadol Motors</td></tr><tr><td>63</td><td>BR0078</td><td>Anadol Motors</td></tr><tr><td>64</td><td>BR0080</td><td>Anadol Motors</td></tr><tr><td>65</td><td>BR0081</td><td>Ariel Motors</td></tr><tr><td>66</td><td>BR0082</td><td>Ariel Motors</td></tr><tr><td>67</td><td>BR0083</td><td>Ariel Motors</td></tr><tr><td>68</td><td>BR0084</td><td>Ariel Motors</td></tr><tr><td>69</td><td>BR0085</td><td>Ariel Motors</td></tr><tr><td>70</td><td>BR0087</td><td>Ariel Motors</td></tr><tr><td>71</td><td>BR0089</td><td>Ariel Motors</td></tr><tr><td>72</td><td>BR0090</td><td>Ariel Motors</td></tr><tr><td>73</td><td>BR0092</td><td>ARO Motors</td></tr><tr><td>74</td><td>BR0094</td><td>ARO Motors</td></tr><tr><td>75</td><td>BR0095</td><td>ARO Motors</td></tr><tr><td>76</td><td>BR0098</td><td>ARO Motors</td></tr><tr><td>77</td><td>BR0101</td><td>Artega Motors</td></tr><tr><td>78</td><td>BR0102</td><td>Artega Motors</td></tr><tr><td>79</td><td>BR0103</td><td>Artega Motors</td></tr><tr><td>80</td><td>BR0104</td><td>Artega Motors</td></tr><tr><td>81</td><td>BR0108</td><td>Artega Motors</td></tr><tr><td>82</td><td>BR0111</td><td>Asia Motors Motors</td></tr><tr><td>83</td><td>BR0112</td><td>Asia Motors Motors</td></tr><tr><td>84</td><td>BR0114</td><td>Asia Motors Motors</td></tr><tr><td>85</td><td>BR0115</td><td>Asia Motors Motors</td></tr><tr><td>86</td><td>BR0117</td><td>Asia Motors Motors</td></tr><tr><td>87</td><td>BR0118</td><td>Asia Motors Motors</td></tr><tr><td>88</td><td>BR0119</td><td>Asia Motors Motors</td></tr><tr><td>89</td><td>BR0120</td><td>Asia Motors Motors</td></tr><tr><td>90</td><td>BR0121</td><td>Aston Martin Motors</td></tr><tr><td>91</td><td>BR0122</td><td>Aston Martin Motors</td></tr><tr><td>92</td><td>BR0123</td><td>Aston Martin Motors</td></tr><tr><td>93</td><td>BR0125</td><td>Aston Martin Motors</td></tr><tr><td>94</td><td>BR0126</td><td>Aixam-Mega (including Arola) Motors</td></tr><tr><td>95</td><td>BR0127</td><td>Aston Martin Motors</td></tr><tr><td>96</td><td>BR0128</td><td>Aston Martin Motors</td></tr><tr><td>97</td><td>BR0129</td><td>Aston Martin Motors</td></tr><tr><td>98</td><td>BR0130</td><td>Aston Martin Motors</td></tr><tr><td>99</td><td>BR0131</td><td>Audi Motors</td></tr><tr><td>100</td><td>BR0135</td><td>Audi Motors</td></tr><tr><td>101</td><td>BR0138</td><td>Audi Motors</td></tr><tr><td>102</td><td>BR0139</td><td>Audi Motors</td></tr><tr><td>103</td><td>BR0140</td><td>Audi Motors</td></tr><tr><td>104</td><td>BR0141</td><td>Autobianchi Motors</td></tr><tr><td>105</td><td>BR0143</td><td>Autobianchi Motors</td></tr><tr><td>106</td><td>BR0144</td><td>Autobianchi Motors</td></tr><tr><td>107</td><td>BR0145</td><td>Autobianchi Motors</td></tr><tr><td>108</td><td>BR0151</td><td>Auto-Union Motors</td></tr><tr><td>109</td><td>BR0152</td><td>Auto-Union Motors</td></tr><tr><td>110</td><td>BR0153</td><td>Auto-Union Motors</td></tr><tr><td>111</td><td>BR0154</td><td>Auto-Union Motors</td></tr><tr><td>112</td><td>BR0158</td><td>Auto-Union Motors</td></tr><tr><td>113</td><td>BR0159</td><td>Auto-Union Motors</td></tr><tr><td>114</td><td>BR0160</td><td>Auto-Union Motors</td></tr><tr><td>115</td><td>BR0161</td><td>Auverland Motors</td></tr><tr><td>116</td><td>BR0163</td><td>Auverland Motors</td></tr><tr><td>117</td><td>BR0164</td><td>Auverland Motors</td></tr><tr><td>118</td><td>BR0165</td><td>Auverland Motors</td></tr><tr><td>119</td><td>BR0168</td><td>Auverland Motors</td></tr><tr><td>120</td><td>BR0169</td><td>Auverland Motors</td></tr><tr><td>121</td><td>BR0170</td><td>Auverland Motors</td></tr><tr><td>122</td><td>BR0171</td><td>Bentley Motors</td></tr><tr><td>123</td><td>BR0172</td><td>Bentley Motors</td></tr><tr><td>124</td><td>BR0173</td><td>Bentley Motors</td></tr><tr><td>125</td><td>BR0175</td><td>Bentley Motors</td></tr><tr><td>126</td><td>BR0179</td><td>Bentley Motors</td></tr><tr><td>127</td><td>BR0180</td><td>Bentley Motors</td></tr><tr><td>128</td><td>BR0181</td><td>Bitter Motors</td></tr><tr><td>129</td><td>BR0182</td><td>Bitter Motors</td></tr><tr><td>130</td><td>BR0183</td><td>Bitter Motors</td></tr><tr><td>131</td><td>BR0185</td><td>Bitter Motors</td></tr><tr><td>132</td><td>BR0186</td><td>Alfa Romeo Motors</td></tr><tr><td>133</td><td>BR0188</td><td>Bitter Motors</td></tr><tr><td>134</td><td>BR0189</td><td>Bitter Motors</td></tr><tr><td>135</td><td>BR0191</td><td>BMW Motors</td></tr><tr><td>136</td><td>BR0192</td><td>BMW Motors</td></tr><tr><td>137</td><td>BR0193</td><td>BMW Motors</td></tr><tr><td>138</td><td>BR0194</td><td>BMW Motors</td></tr><tr><td>139</td><td>BR0195</td><td>BMW Motors</td></tr><tr><td>140</td><td>BR0197</td><td>BMW Motors</td></tr><tr><td>141</td><td>BR0198</td><td>BMW Motors</td></tr><tr><td>142</td><td>BR0199</td><td>BMW Motors</td></tr><tr><td>143</td><td>BR0200</td><td>BMW Motors</td></tr><tr><td>144</td><td>BR0201</td><td>Bond Motors</td></tr><tr><td>145</td><td>BR0202</td><td>Bond Motors</td></tr><tr><td>146</td><td>BR0203</td><td>Bond Motors</td></tr><tr><td>147</td><td>BR0204</td><td>Bond Motors</td></tr><tr><td>148</td><td>BR0205</td><td>Bond Motors</td></tr><tr><td>149</td><td>BR0208</td><td>Bond Motors</td></tr><tr><td>150</td><td>BR0211</td><td>Borgward (including Goliath and Lloyd) Motors</td></tr><tr><td>151</td><td>BR0212</td><td>Borgward (including Goliath and Lloyd) Motors</td></tr><tr><td>152</td><td>BR0213</td><td>Borgward (including Goliath and Lloyd) Motors</td></tr><tr><td>153</td><td>BR0214</td><td>Borgward (including Goliath and Lloyd) Motors</td></tr><tr><td>154</td><td>BR0215</td><td>Borgward (including Goliath and Lloyd) Motors</td></tr><tr><td>155</td><td>BR0217</td><td>Borgward (including Goliath and Lloyd) Motors</td></tr><tr><td>156</td><td>BR0218</td><td>Borgward (including Goliath and Lloyd) Motors</td></tr><tr><td>157</td><td>BR0219</td><td>Borgward (including Goliath and Lloyd) Motors</td></tr><tr><td>158</td><td>BR0220</td><td>Borgward (including Goliath and Lloyd) Motors</td></tr><tr><td>159</td><td>BR0221</td><td>Bristol Motors</td></tr><tr><td>160</td><td>BR0222</td><td>Bristol Motors</td></tr><tr><td>161</td><td>BR0223</td><td>Bristol Motors</td></tr><tr><td>162</td><td>BR0224</td><td>Bristol Motors</td></tr><tr><td>163</td><td>BR0225</td><td>Bristol Motors</td></tr><tr><td>164</td><td>BR0227</td><td>Bristol Motors</td></tr><tr><td>165</td><td>BR0228</td><td>Bristol Motors</td></tr><tr><td>166</td><td>BR0229</td><td>Bristol Motors</td></tr><tr><td>167</td><td>BR0230</td><td>Bristol Motors</td></tr><tr><td>168</td><td>BR0231</td><td>British Leyland Motors</td></tr><tr><td>169</td><td>BR0232</td><td>British Leyland Motors</td></tr><tr><td>170</td><td>BR0234</td><td>British Leyland Motors</td></tr><tr><td>171</td><td>BR0235</td><td>British Leyland Motors</td></tr><tr><td>172</td><td>BR0237</td><td>British Leyland Motors</td></tr><tr><td>173</td><td>BR0239</td><td>British Leyland Motors</td></tr><tr><td>174</td><td>BR0240</td><td>British Leyland Motors</td></tr><tr><td>175</td><td>BR0243</td><td>Austin-Healey Motors</td></tr><tr><td>176</td><td>BR0247</td><td>Austin-Healey Motors</td></tr><tr><td>177</td><td>BR0249</td><td>Austin-Healey Motors</td></tr><tr><td>178</td><td>BR0251</td><td>Austin, Rover Motors</td></tr><tr><td>179</td><td>BR0252</td><td>Austin, Rover Motors</td></tr><tr><td>180</td><td>BR0253</td><td>Austin, Rover Motors</td></tr><tr><td>181</td><td>BR0254</td><td>Austin, Rover Motors</td></tr><tr><td>182</td><td>BR0255</td><td>Austin, Rover Motors</td></tr><tr><td>183</td><td>BR0260</td><td>Austin, Rover Motors</td></tr><tr><td>184</td><td>BR0262</td><td>Bugatti Motors</td></tr><tr><td>185</td><td>BR0264</td><td>Bugatti Motors</td></tr><tr><td>186</td><td>BR0265</td><td>Bugatti Motors</td></tr><tr><td>187</td><td>BR0267</td><td>Bugatti Motors</td></tr><tr><td>188</td><td>BR0268</td><td>Bugatti Motors</td></tr><tr><td>189</td><td>BR0269</td><td>Bugatti Motors</td></tr><tr><td>190</td><td>BR0270</td><td>Bugatti Motors</td></tr><tr><td>191</td><td>BR0271</td><td>Buick Motors</td></tr><tr><td>192</td><td>BR0272</td><td>Buick Motors</td></tr><tr><td>193</td><td>BR0274</td><td>Buick Motors</td></tr><tr><td>194</td><td>BR0275</td><td>Buick Motors</td></tr><tr><td>195</td><td>BR0277</td><td>Buick Motors</td></tr><tr><td>196</td><td>BR0278</td><td>Buick Motors</td></tr><tr><td>197</td><td>BR0279</td><td>Buick Motors</td></tr><tr><td>198</td><td>BR0280</td><td>Buick Motors</td></tr><tr><td>199</td><td>BR0283</td><td>Bytom Motors</td></tr><tr><td>200</td><td>BR0285</td><td>Bytom Motors</td></tr><tr><td>201</td><td>BR0290</td><td>Bytom Motors</td></tr><tr><td>202</td><td>BR0291</td><td>Cadillac Motors</td></tr><tr><td>203</td><td>BR0293</td><td>Cadillac Motors</td></tr><tr><td>204</td><td>BR0294</td><td>Cadillac Motors</td></tr><tr><td>205</td><td>BR0295</td><td>Cadillac Motors</td></tr><tr><td>206</td><td>BR0297</td><td>Cadillac Motors</td></tr><tr><td>207</td><td>BR0298</td><td>Cadillac Motors</td></tr><tr><td>208</td><td>BR0299</td><td>Cadillac Motors</td></tr><tr><td>209</td><td>BR0300</td><td>Cadillac Motors</td></tr><tr><td>210</td><td>BR0301</td><td>Caterham Motors</td></tr><tr><td>211</td><td>BR0302</td><td>Caterham Motors</td></tr><tr><td>212</td><td>BR0303</td><td>Caterham Motors</td></tr><tr><td>213</td><td>BR0304</td><td>Caterham Motors</td></tr><tr><td>214</td><td>BR0305</td><td>Caterham Motors</td></tr><tr><td>215</td><td>BR0306</td><td>Alvis Motors</td></tr><tr><td>216</td><td>BR0308</td><td>Caterham Motors</td></tr><tr><td>217</td><td>BR0309</td><td>Caterham Motors</td></tr><tr><td>218</td><td>BR0310</td><td>Caterham Motors</td></tr><tr><td>219</td><td>BR0311</td><td>Checker Motors</td></tr><tr><td>220</td><td>BR0313</td><td>Checker Motors</td></tr><tr><td>221</td><td>BR0315</td><td>Checker Motors</td></tr><tr><td>222</td><td>BR0317</td><td>Checker Motors</td></tr><tr><td>223</td><td>BR0318</td><td>Checker Motors</td></tr><tr><td>224</td><td>BR0321</td><td>Chevrolet Motors</td></tr><tr><td>225</td><td>BR0322</td><td>Chevrolet Motors</td></tr><tr><td>226</td><td>BR0323</td><td>Chevrolet Motors</td></tr><tr><td>227</td><td>BR0324</td><td>Chevrolet Motors</td></tr><tr><td>228</td><td>BR0328</td><td>Chevrolet Motors</td></tr><tr><td>229</td><td>BR0329</td><td>Chevrolet Motors</td></tr><tr><td>230</td><td>BR0331</td><td>Chevrolet India Motors</td></tr><tr><td>231</td><td>BR0332</td><td>Chevrolet India Motors</td></tr><tr><td>232</td><td>BR0333</td><td>Chevrolet India Motors</td></tr><tr><td>233</td><td>BR0334</td><td>Chevrolet India Motors</td></tr><tr><td>234</td><td>BR0337</td><td>Chevrolet India Motors</td></tr><tr><td>235</td><td>BR0338</td><td>Chevrolet India Motors</td></tr><tr><td>236</td><td>BR0339</td><td>Chevrolet India Motors</td></tr><tr><td>237</td><td>BR0341</td><td>Chrysler Motors</td></tr><tr><td>238</td><td>BR0342</td><td>Chrysler Motors</td></tr><tr><td>239</td><td>BR0344</td><td>Chrysler Motors</td></tr><tr><td>240</td><td>BR0347</td><td>Chrysler Motors</td></tr><tr><td>241</td><td>BR0349</td><td>Chrysler Motors</td></tr><tr><td>242</td><td>BR0350</td><td>Chrysler Motors</td></tr><tr><td>243</td><td>BR0351</td><td>Chrysler Europe Motors</td></tr><tr><td>244</td><td>BR0352</td><td>Chrysler Europe Motors</td></tr><tr><td>245</td><td>BR0353</td><td>Chrysler Europe Motors</td></tr><tr><td>246</td><td>BR0354</td><td>Chrysler Europe Motors</td></tr><tr><td>247</td><td>BR0357</td><td>Chrysler Europe Motors</td></tr><tr><td>248</td><td>BR0359</td><td>Chrysler Europe Motors</td></tr><tr><td>249</td><td>BR0360</td><td>Chrysler Europe Motors</td></tr><tr><td>250</td><td>BR0362</td><td>Citroën Motors</td></tr><tr><td>251</td><td>BR0363</td><td>Citroën Motors</td></tr><tr><td>252</td><td>BR0364</td><td>Citroën Motors</td></tr><tr><td>253</td><td>BR0367</td><td>Citroën Motors</td></tr><tr><td>254</td><td>BR0368</td><td>Citroën Motors</td></tr><tr><td>255</td><td>BR0369</td><td>Citroën Motors</td></tr><tr><td>256</td><td>BR0371</td><td>Cizeta-Moroder Motors</td></tr><tr><td>257</td><td>BR0372</td><td>Cizeta-Moroder Motors</td></tr><tr><td>258</td><td>BR0375</td><td>Cizeta-Moroder Motors</td></tr><tr><td>259</td><td>BR0378</td><td>Cizeta-Moroder Motors</td></tr><tr><td>260</td><td>BR0379</td><td>Cizeta-Moroder Motors</td></tr><tr><td>261</td><td>BR0380</td><td>Cizeta-Moroder Motors</td></tr><tr><td>262</td><td>BR0381</td><td>Dacia Motors</td></tr><tr><td>263</td><td>BR0382</td><td>Dacia Motors</td></tr><tr><td>264</td><td>BR0383</td><td>Dacia Motors</td></tr><tr><td>265</td><td>BR0384</td><td>Dacia Motors</td></tr><tr><td>266</td><td>BR0385</td><td>Dacia Motors</td></tr><tr><td>267</td><td>BR0387</td><td>Dacia Motors</td></tr><tr><td>268</td><td>BR0388</td><td>Dacia Motors</td></tr><tr><td>269</td><td>BR0391</td><td>Daewoo, Saehan, Chevrolet Korea Motors</td></tr><tr><td>270</td><td>BR0392</td><td>Daewoo, Saehan, Chevrolet Korea Motors</td></tr><tr><td>271</td><td>BR0393</td><td>Daewoo, Saehan, Chevrolet Korea Motors</td></tr><tr><td>272</td><td>BR0395</td><td>Daewoo, Saehan, Chevrolet Korea Motors</td></tr><tr><td>273</td><td>BR0397</td><td>Daewoo, Saehan, Chevrolet Korea Motors</td></tr><tr><td>274</td><td>BR0399</td><td>Daewoo, Saehan, Chevrolet Korea Motors</td></tr><tr><td>275</td><td>BR0400</td><td>Daewoo, Saehan, Chevrolet Korea Motors</td></tr><tr><td>276</td><td>BR0402</td><td>DAF Motors</td></tr><tr><td>277</td><td>BR0403</td><td>DAF Motors</td></tr><tr><td>278</td><td>BR0404</td><td>DAF Motors</td></tr><tr><td>279</td><td>BR0405</td><td>DAF Motors</td></tr><tr><td>280</td><td>BR0407</td><td>DAF Motors</td></tr><tr><td>281</td><td>BR0408</td><td>DAF Motors</td></tr><tr><td>282</td><td>BR0409</td><td>DAF Motors</td></tr><tr><td>283</td><td>BR0410</td><td>DAF Motors</td></tr><tr><td>284</td><td>BR0411</td><td>Daihatsu Motors</td></tr><tr><td>285</td><td>BR0412</td><td>Daihatsu Motors</td></tr><tr><td>286</td><td>BR0413</td><td>Daihatsu Motors</td></tr><tr><td>287</td><td>BR0414</td><td>Daihatsu Motors</td></tr><tr><td>288</td><td>BR0415</td><td>Daihatsu Motors</td></tr><tr><td>289</td><td>BR0417</td><td>Daihatsu Motors</td></tr><tr><td>290</td><td>BR0418</td><td>Daihatsu Motors</td></tr><tr><td>291</td><td>BR0419</td><td>Daihatsu Motors</td></tr><tr><td>292</td><td>BR0420</td><td>Daihatsu Motors</td></tr><tr><td>293</td><td>BR0422</td><td>Daimler Motors</td></tr><tr><td>294</td><td>BR0423</td><td>Daimler Motors</td></tr><tr><td>295</td><td>BR0424</td><td>Daimler Motors</td></tr><tr><td>296</td><td>BR0426</td><td>Anadol Motors</td></tr><tr><td>297</td><td>BR0427</td><td>Daimler Motors</td></tr><tr><td>298</td><td>BR0429</td><td>Daimler Motors</td></tr><tr><td>299</td><td>BR0432</td><td>Datsun Motors</td></tr><tr><td>300</td><td>BR0433</td><td>Datsun Motors</td></tr><tr><td>301</td><td>BR0434</td><td>Datsun Motors</td></tr><tr><td>302</td><td>BR0435</td><td>Datsun Motors</td></tr><tr><td>303</td><td>BR0438</td><td>Datsun Motors</td></tr><tr><td>304</td><td>BR0439</td><td>Datsun Motors</td></tr><tr><td>305</td><td>BR0441</td><td>Delahaye Motors</td></tr><tr><td>306</td><td>BR0442</td><td>Delahaye Motors</td></tr><tr><td>307</td><td>BR0443</td><td>Delahaye Motors</td></tr><tr><td>308</td><td>BR0444</td><td>Delahaye Motors</td></tr><tr><td>309</td><td>BR0445</td><td>Delahaye Motors</td></tr><tr><td>310</td><td>BR0447</td><td>Delahaye Motors</td></tr><tr><td>311</td><td>BR0450</td><td>Delahaye Motors</td></tr><tr><td>312</td><td>BR0451</td><td>DeLorean Motors</td></tr><tr><td>313</td><td>BR0452</td><td>DeLorean Motors</td></tr><tr><td>314</td><td>BR0454</td><td>DeLorean Motors</td></tr><tr><td>315</td><td>BR0455</td><td>DeLorean Motors</td></tr><tr><td>316</td><td>BR0457</td><td>DeLorean Motors</td></tr><tr><td>317</td><td>BR0458</td><td>DeLorean Motors</td></tr><tr><td>318</td><td>BR0459</td><td>DeLorean Motors</td></tr><tr><td>319</td><td>BR0460</td><td>DeLorean Motors</td></tr><tr><td>320</td><td>BR0461</td><td>DeSoto Motors</td></tr><tr><td>321</td><td>BR0462</td><td>DeSoto Motors</td></tr><tr><td>322</td><td>BR0463</td><td>DeSoto Motors</td></tr><tr><td>323</td><td>BR0464</td><td>DeSoto Motors</td></tr><tr><td>324</td><td>BR0468</td><td>DeSoto Motors</td></tr><tr><td>325</td><td>BR0469</td><td>DeSoto Motors</td></tr><tr><td>326</td><td>BR0470</td><td>DeSoto Motors</td></tr><tr><td>327</td><td>BR0471</td><td>De Tomaso Motors</td></tr><tr><td>328</td><td>BR0473</td><td>De Tomaso Motors</td></tr><tr><td>329</td><td>BR0474</td><td>De Tomaso Motors</td></tr><tr><td>330</td><td>BR0477</td><td>De Tomaso Motors</td></tr><tr><td>331</td><td>BR0479</td><td>De Tomaso Motors</td></tr><tr><td>332</td><td>BR0481</td><td>Dodge Motors</td></tr><tr><td>333</td><td>BR0482</td><td>Dodge Motors</td></tr><tr><td>334</td><td>BR0483</td><td>Dodge Motors</td></tr><tr><td>335</td><td>BR0484</td><td>Dodge Motors</td></tr><tr><td>336</td><td>BR0485</td><td>Dodge Motors</td></tr><tr><td>337</td><td>BR0486</td><td>Ariel Motors</td></tr><tr><td>338</td><td>BR0487</td><td>Dodge Motors</td></tr><tr><td>339</td><td>BR0488</td><td>Dodge Motors</td></tr><tr><td>340</td><td>BR0490</td><td>Dodge Motors</td></tr><tr><td>341</td><td>BR0491</td><td>Donkervoort Motors</td></tr><tr><td>342</td><td>BR0492</td><td>Donkervoort Motors</td></tr><tr><td>343</td><td>BR0493</td><td>Donkervoort Motors</td></tr><tr><td>344</td><td>BR0494</td><td>Donkervoort Motors</td></tr><tr><td>345</td><td>BR0497</td><td>Donkervoort Motors</td></tr><tr><td>346</td><td>BR0498</td><td>Donkervoort Motors</td></tr><tr><td>347</td><td>BR0500</td><td>Donkervoort Motors</td></tr><tr><td>348</td><td>BR0501</td><td>Edsel Motors</td></tr><tr><td>349</td><td>BR0502</td><td>Edsel Motors</td></tr><tr><td>350</td><td>BR0504</td><td>Edsel Motors</td></tr><tr><td>351</td><td>BR0505</td><td>Edsel Motors</td></tr><tr><td>352</td><td>BR0509</td><td>Edsel Motors</td></tr><tr><td>353</td><td>BR0512</td><td>e.GO Mobile Motors</td></tr><tr><td>354</td><td>BR0513</td><td>e.GO Mobile Motors</td></tr><tr><td>355</td><td>BR0514</td><td>e.GO Mobile Motors</td></tr><tr><td>356</td><td>BR0515</td><td>e.GO Mobile Motors</td></tr><tr><td>357</td><td>BR0517</td><td>e.GO Mobile Motors</td></tr><tr><td>358</td><td>BR0519</td><td>e.GO Mobile Motors</td></tr><tr><td>359</td><td>BR0520</td><td>e.GO Mobile Motors</td></tr><tr><td>360</td><td>BR0521</td><td>Eicher Polaris Motors</td></tr><tr><td>361</td><td>BR0523</td><td>Eicher Polaris Motors</td></tr><tr><td>362</td><td>BR0524</td><td>Eicher Polaris Motors</td></tr><tr><td>363</td><td>BR0525</td><td>Eicher Polaris Motors</td></tr><tr><td>364</td><td>BR0527</td><td>Eicher Polaris Motors</td></tr><tr><td>365</td><td>BR0528</td><td>Eicher Polaris Motors</td></tr><tr><td>366</td><td>BR0531</td><td>Elva Motors</td></tr><tr><td>367</td><td>BR0533</td><td>Elva Motors</td></tr><tr><td>368</td><td>BR0534</td><td>Elva Motors</td></tr><tr><td>369</td><td>BR0537</td><td>Elva Motors</td></tr><tr><td>370</td><td>BR0538</td><td>Elva Motors</td></tr><tr><td>371</td><td>BR0539</td><td>Elva Motors</td></tr><tr><td>372</td><td>BR0542</td><td>Facel Vega Motors</td></tr><tr><td>373</td><td>BR0544</td><td>Facel Vega Motors</td></tr><tr><td>374</td><td>BR0546</td><td>ARO Motors</td></tr><tr><td>375</td><td>BR0551</td><td>Ferrari Motors</td></tr><tr><td>376</td><td>BR0552</td><td>Ferrari Motors</td></tr><tr><td>377</td><td>BR0553</td><td>Ferrari Motors</td></tr><tr><td>378</td><td>BR0555</td><td>Ferrari Motors</td></tr><tr><td>379</td><td>BR0559</td><td>Ferrari Motors</td></tr><tr><td>380</td><td>BR0561</td><td>Fiat Motors</td></tr><tr><td>381</td><td>BR0562</td><td>Fiat Motors</td></tr><tr><td>382</td><td>BR0565</td><td>Fiat Motors</td></tr><tr><td>383</td><td>BR0567</td><td>Fiat Motors</td></tr><tr><td>384</td><td>BR0568</td><td>Fiat Motors</td></tr><tr><td>385</td><td>BR0569</td><td>Fiat Motors</td></tr><tr><td>386</td><td>BR0572</td><td>Fiat do Brasil Motors</td></tr><tr><td>387</td><td>BR0573</td><td>Fiat do Brasil Motors</td></tr><tr><td>388</td><td>BR0575</td><td>Fiat do Brasil Motors</td></tr><tr><td>389</td><td>BR0577</td><td>Fiat do Brasil Motors</td></tr><tr><td>390</td><td>BR0578</td><td>Fiat do Brasil Motors</td></tr><tr><td>391</td><td>BR0579</td><td>Fiat do Brasil Motors</td></tr><tr><td>392</td><td>BR0581</td><td>Fiat India Motors</td></tr><tr><td>393</td><td>BR0584</td><td>Fiat India Motors</td></tr><tr><td>394</td><td>BR0585</td><td>Fiat India Motors</td></tr><tr><td>395</td><td>BR0588</td><td>Fiat India Motors</td></tr><tr><td>396</td><td>BR0590</td><td>Fiat India Motors</td></tr><tr><td>397</td><td>BR0591</td><td>Fisker, Karma Motors</td></tr><tr><td>398</td><td>BR0592</td><td>Fisker, Karma Motors</td></tr><tr><td>399</td><td>BR0598</td><td>Fisker, Karma Motors</td></tr><tr><td>400</td><td>BR0599</td><td>Fisker, Karma Motors</td></tr><tr><td>401</td><td>BR0600</td><td>Fisker, Karma Motors</td></tr><tr><td>402</td><td>BR0601</td><td>Ford America Motors</td></tr><tr><td>403</td><td>BR0602</td><td>Ford America Motors</td></tr><tr><td>404</td><td>BR0604</td><td>Ford America Motors</td></tr><tr><td>405</td><td>BR0605</td><td>Ford America Motors</td></tr><tr><td>406</td><td>BR0606</td><td>Artega Motors</td></tr><tr><td>407</td><td>BR0607</td><td>Ford America Motors</td></tr><tr><td>408</td><td>BR0608</td><td>Ford America Motors</td></tr><tr><td>409</td><td>BR0610</td><td>Ford America Motors</td></tr><tr><td>410</td><td>BR0611</td><td>Ford Australia Motors</td></tr><tr><td>411</td><td>BR0613</td><td>Ford Australia Motors</td></tr><tr><td>412</td><td>BR0614</td><td>Ford Australia Motors</td></tr><tr><td>413</td><td>BR0615</td><td>Ford Australia Motors</td></tr><tr><td>414</td><td>BR0617</td><td>Ford Australia Motors</td></tr><tr><td>415</td><td>BR0619</td><td>Ford Australia Motors</td></tr><tr><td>416</td><td>BR0620</td><td>Ford Australia Motors</td></tr><tr><td>417</td><td>BR0621</td><td>Ford do Brasil Motors</td></tr><tr><td>418</td><td>BR0623</td><td>Ford do Brasil Motors</td></tr><tr><td>419</td><td>BR0624</td><td>Ford do Brasil Motors</td></tr><tr><td>420</td><td>BR0625</td><td>Ford do Brasil Motors</td></tr><tr><td>421</td><td>BR0627</td><td>Ford do Brasil Motors</td></tr><tr><td>422</td><td>BR0629</td><td>Ford do Brasil Motors</td></tr><tr><td>423</td><td>BR0631</td><td>Ford Europe Motors</td></tr><tr><td>424</td><td>BR0633</td><td>Ford Europe Motors</td></tr><tr><td>425</td><td>BR0634</td><td>Ford Europe Motors</td></tr><tr><td>426</td><td>BR0635</td><td>Ford Europe Motors</td></tr><tr><td>427</td><td>BR0637</td><td>Ford Europe Motors</td></tr><tr><td>428</td><td>BR0638</td><td>Ford Europe Motors</td></tr><tr><td>429</td><td>BR0640</td><td>Ford Europe Motors</td></tr><tr><td>430</td><td>BR0641</td><td>Ford India Motors</td></tr><tr><td>431</td><td>BR0642</td><td>Ford India Motors</td></tr><tr><td>432</td><td>BR0643</td><td>Ford India Motors</td></tr><tr><td>433</td><td>BR0645</td><td>Ford India Motors</td></tr><tr><td>434</td><td>BR0647</td><td>Ford India Motors</td></tr><tr><td>435</td><td>BR0649</td><td>Ford India Motors</td></tr><tr><td>436</td><td>BR0650</td><td>Ford India Motors</td></tr><tr><td>437</td><td>BR0651</td><td>Freightliner Motors</td></tr><tr><td>438</td><td>BR0653</td><td>Freightliner Motors</td></tr><tr><td>439</td><td>BR0654</td><td>Freightliner Motors</td></tr><tr><td>440</td><td>BR0655</td><td>Freightliner Motors</td></tr><tr><td>441</td><td>BR0657</td><td>Freightliner Motors</td></tr><tr><td>442</td><td>BR0658</td><td>Freightliner Motors</td></tr><tr><td>443</td><td>BR0660</td><td>Freightliner Motors</td></tr><tr><td>444</td><td>BR0661</td><td>FSO Motors</td></tr><tr><td>445</td><td>BR0662</td><td>FSO Motors</td></tr><tr><td>446</td><td>BR0663</td><td>FSO Motors</td></tr><tr><td>447</td><td>BR0665</td><td>FSO Motors</td></tr><tr><td>448</td><td>BR0666</td><td>Asia Motors Motors</td></tr><tr><td>449</td><td>BR0667</td><td>FSO Motors</td></tr><tr><td>450</td><td>BR0668</td><td>FSO Motors</td></tr><tr><td>451</td><td>BR0669</td><td>FSO Motors</td></tr><tr><td>452</td><td>BR0672</td><td>GAZ Motors</td></tr><tr><td>453</td><td>BR0673</td><td>GAZ Motors</td></tr><tr><td>454</td><td>BR0675</td><td>GAZ Motors</td></tr><tr><td>455</td><td>BR0678</td><td>GAZ Motors</td></tr><tr><td>456</td><td>BR0680</td><td>GAZ Motors</td></tr><tr><td>457</td><td>BR0681</td><td>Geo Motors</td></tr><tr><td>458</td><td>BR0682</td><td>Geo Motors</td></tr><tr><td>459</td><td>BR0685</td><td>Geo Motors</td></tr><tr><td>460</td><td>BR0687</td><td>Geo Motors</td></tr><tr><td>461</td><td>BR0688</td><td>Geo Motors</td></tr><tr><td>462</td><td>BR0690</td><td>Geo Motors</td></tr><tr><td>463</td><td>BR0691</td><td>Gilbern Motors</td></tr><tr><td>464</td><td>BR0692</td><td>Gilbern Motors</td></tr><tr><td>465</td><td>BR0693</td><td>Gilbern Motors</td></tr><tr><td>466</td><td>BR0694</td><td>Gilbern Motors</td></tr><tr><td>467</td><td>BR0695</td><td>Gilbern Motors</td></tr><tr><td>468</td><td>BR0697</td><td>Gilbern Motors</td></tr><tr><td>469</td><td>BR0698</td><td>Gilbern Motors</td></tr><tr><td>470</td><td>BR0699</td><td>Gilbern Motors</td></tr><tr><td>471</td><td>BR0700</td><td>Gilbern Motors</td></tr><tr><td>472</td><td>BR0701</td><td>Ginetta Motors</td></tr><tr><td>473</td><td>BR0702</td><td>Ginetta Motors</td></tr><tr><td>474</td><td>BR0703</td><td>Ginetta Motors</td></tr><tr><td>475</td><td>BR0704</td><td>Ginetta Motors</td></tr><tr><td>476</td><td>BR0707</td><td>Ginetta Motors</td></tr><tr><td>477</td><td>BR0708</td><td>Ginetta Motors</td></tr><tr><td>478</td><td>BR0709</td><td>Ginetta Motors</td></tr><tr><td>479</td><td>BR0710</td><td>Ginetta Motors</td></tr><tr><td>480</td><td>BR0711</td><td>Glas Motors</td></tr><tr><td>481</td><td>BR0712</td><td>Glas Motors</td></tr><tr><td>482</td><td>BR0713</td><td>Glas Motors</td></tr><tr><td>483</td><td>BR0714</td><td>Glas Motors</td></tr><tr><td>484</td><td>BR0715</td><td>Glas Motors</td></tr><tr><td>485</td><td>BR0717</td><td>Glas Motors</td></tr><tr><td>486</td><td>BR0718</td><td>Glas Motors</td></tr><tr><td>487</td><td>BR0719</td><td>Glas Motors</td></tr><tr><td>488</td><td>BR0720</td><td>Glas Motors</td></tr><tr><td>489</td><td>BR0721</td><td>GMC Motors</td></tr><tr><td>490</td><td>BR0722</td><td>GMC Motors</td></tr><tr><td>491</td><td>BR0723</td><td>GMC Motors</td></tr><tr><td>492</td><td>BR0724</td><td>GMC Motors</td></tr><tr><td>493</td><td>BR0726</td><td>Aston Martin Motors</td></tr><tr><td>494</td><td>BR0727</td><td>GMC Motors</td></tr><tr><td>495</td><td>BR0728</td><td>GMC Motors</td></tr><tr><td>496</td><td>BR0730</td><td>GMC Motors</td></tr><tr><td>497</td><td>BR0731</td><td>GTA Spano Motors</td></tr><tr><td>498</td><td>BR0732</td><td>GTA Spano Motors</td></tr><tr><td>499</td><td>BR0734</td><td>GTA Spano Motors</td></tr><tr><td>500</td><td>BR0735</td><td>GTA Spano Motors</td></tr><tr><td>501</td><td>BR0738</td><td>GTA Spano Motors</td></tr><tr><td>502</td><td>BR0739</td><td>GTA Spano Motors</td></tr><tr><td>503</td><td>BR0741</td><td>Gumpert Motors</td></tr><tr><td>504</td><td>BR0742</td><td>Gumpert Motors</td></tr><tr><td>505</td><td>BR0744</td><td>Gumpert Motors</td></tr><tr><td>506</td><td>BR0745</td><td>Gumpert Motors</td></tr><tr><td>507</td><td>BR0747</td><td>Gumpert Motors</td></tr><tr><td>508</td><td>BR0748</td><td>Gumpert Motors</td></tr><tr><td>509</td><td>BR0751</td><td>Healey Motors</td></tr><tr><td>510</td><td>BR0752</td><td>Healey Motors</td></tr><tr><td>511</td><td>BR0753</td><td>Healey Motors</td></tr><tr><td>512</td><td>BR0755</td><td>Healey Motors</td></tr><tr><td>513</td><td>BR0757</td><td>Healey Motors</td></tr><tr><td>514</td><td>BR0759</td><td>Healey Motors</td></tr><tr><td>515</td><td>BR0760</td><td>Healey Motors</td></tr><tr><td>516</td><td>BR0762</td><td>Heinkel Motors</td></tr><tr><td>517</td><td>BR0764</td><td>Heinkel Motors</td></tr><tr><td>518</td><td>BR0765</td><td>Heinkel Motors</td></tr><tr><td>519</td><td>BR0767</td><td>Heinkel Motors</td></tr><tr><td>520</td><td>BR0768</td><td>Heinkel Motors</td></tr><tr><td>521</td><td>BR0769</td><td>Heinkel Motors</td></tr><tr><td>522</td><td>BR0770</td><td>Heinkel Motors</td></tr><tr><td>523</td><td>BR0771</td><td>Hennessey Motors</td></tr><tr><td>524</td><td>BR0773</td><td>Hennessey Motors</td></tr><tr><td>525</td><td>BR0774</td><td>Hennessey Motors</td></tr><tr><td>526</td><td>BR0775</td><td>Hennessey Motors</td></tr><tr><td>527</td><td>BR0778</td><td>Hennessey Motors</td></tr><tr><td>528</td><td>BR0781</td><td>Hillman Motors</td></tr><tr><td>529</td><td>BR0783</td><td>Hillman Motors</td></tr><tr><td>530</td><td>BR0784</td><td>Hillman Motors</td></tr><tr><td>531</td><td>BR0785</td><td>Hillman Motors</td></tr><tr><td>532</td><td>BR0786</td><td>Audi Motors</td></tr><tr><td>533</td><td>BR0787</td><td>Hillman Motors</td></tr><tr><td>534</td><td>BR0789</td><td>Hillman Motors</td></tr><tr><td>535</td><td>BR0790</td><td>Hillman Motors</td></tr><tr><td>536</td><td>BR0791</td><td>Hindustan Motors</td></tr><tr><td>537</td><td>BR0792</td><td>Hindustan Motors</td></tr><tr><td>538</td><td>BR0793</td><td>Hindustan Motors</td></tr><tr><td>539</td><td>BR0794</td><td>Hindustan Motors</td></tr><tr><td>540</td><td>BR0797</td><td>Hindustan Motors</td></tr><tr><td>541</td><td>BR0798</td><td>Hindustan Motors</td></tr><tr><td>542</td><td>BR0801</td><td>Holden Motors</td></tr><tr><td>543</td><td>BR0802</td><td>Holden Motors</td></tr><tr><td>544</td><td>BR0803</td><td>Holden Motors</td></tr><tr><td>545</td><td>BR0804</td><td>Holden Motors</td></tr><tr><td>546</td><td>BR0805</td><td>Holden Motors</td></tr><tr><td>547</td><td>BR0807</td><td>Holden Motors</td></tr><tr><td>548</td><td>BR0810</td><td>Holden Motors</td></tr><tr><td>549</td><td>BR0811</td><td>Honda Motors</td></tr><tr><td>550</td><td>BR0812</td><td>Honda Motors</td></tr><tr><td>551</td><td>BR0814</td><td>Honda Motors</td></tr><tr><td>552</td><td>BR0815</td><td>Honda Motors</td></tr><tr><td>553</td><td>BR0817</td><td>Honda Motors</td></tr><tr><td>554</td><td>BR0818</td><td>Honda Motors</td></tr><tr><td>555</td><td>BR0819</td><td>Honda Motors</td></tr><tr><td>556</td><td>BR0822</td><td>Honda India Motors</td></tr><tr><td>557</td><td>BR0823</td><td>Honda India Motors</td></tr><tr><td>558</td><td>BR0824</td><td>Honda India Motors</td></tr><tr><td>559</td><td>BR0827</td><td>Honda India Motors</td></tr><tr><td>560</td><td>BR0828</td><td>Honda India Motors</td></tr><tr><td>561</td><td>BR0829</td><td>Honda India Motors</td></tr><tr><td>562</td><td>BR0832</td><td>Hudson Motors</td></tr><tr><td>563</td><td>BR0833</td><td>Hudson Motors</td></tr><tr><td>564</td><td>BR0834</td><td>Hudson Motors</td></tr><tr><td>565</td><td>BR0837</td><td>Hudson Motors</td></tr><tr><td>566</td><td>BR0838</td><td>Hudson Motors</td></tr><tr><td>567</td><td>BR0839</td><td>Hudson Motors</td></tr><tr><td>568</td><td>BR0840</td><td>Hudson Motors</td></tr><tr><td>569</td><td>BR0841</td><td>Humber Motors</td></tr><tr><td>570</td><td>BR0842</td><td>Humber Motors</td></tr><tr><td>571</td><td>BR0843</td><td>Humber Motors</td></tr><tr><td>572</td><td>BR0844</td><td>Humber Motors</td></tr><tr><td>573</td><td>BR0845</td><td>Humber Motors</td></tr><tr><td>574</td><td>BR0846</td><td>Autobianchi Motors</td></tr><tr><td>575</td><td>BR0849</td><td>Humber Motors</td></tr><tr><td>576</td><td>BR0851</td><td>Hummer Motors</td></tr><tr><td>577</td><td>BR0852</td><td>Hummer Motors</td></tr><tr><td>578</td><td>BR0854</td><td>Hummer Motors</td></tr><tr><td>579</td><td>BR0857</td><td>Hummer Motors</td></tr><tr><td>580</td><td>BR0858</td><td>Hummer Motors</td></tr><tr><td>581</td><td>BR0859</td><td>Hummer Motors</td></tr><tr><td>582</td><td>BR0860</td><td>Hummer Motors</td></tr><tr><td>583</td><td>BR0861</td><td>Hyundai Motors</td></tr><tr><td>584</td><td>BR0863</td><td>Hyundai Motors</td></tr><tr><td>585</td><td>BR0865</td><td>Hyundai Motors</td></tr><tr><td>586</td><td>BR0867</td><td>Hyundai Motors</td></tr><tr><td>587</td><td>BR0868</td><td>Hyundai Motors</td></tr><tr><td>588</td><td>BR0870</td><td>Hyundai Motors</td></tr><tr><td>589</td><td>BR0871</td><td>IFA (including Trabant, Wartburg, Barkas) Motors</td></tr><tr><td>590</td><td>BR0872</td><td>IFA (including Trabant, Wartburg, Barkas) Motors</td></tr><tr><td>591</td><td>BR0873</td><td>IFA (including Trabant, Wartburg, Barkas) Motors</td></tr><tr><td>592</td><td>BR0877</td><td>IFA (including Trabant, Wartburg, Barkas) Motors</td></tr><tr><td>593</td><td>BR0878</td><td>IFA (including Trabant, Wartburg, Barkas) Motors</td></tr><tr><td>594</td><td>BR0879</td><td>IFA (including Trabant, Wartburg, Barkas) Motors</td></tr><tr><td>595</td><td>BR0880</td><td>IFA (including Trabant, Wartburg, Barkas) Motors</td></tr><tr><td>596</td><td>BR0881</td><td>Infiniti Motors</td></tr><tr><td>597</td><td>BR0883</td><td>Infiniti Motors</td></tr><tr><td>598</td><td>BR0884</td><td>Infiniti Motors</td></tr><tr><td>599</td><td>BR0888</td><td>Infiniti Motors</td></tr><tr><td>600</td><td>BR0889</td><td>Infiniti Motors</td></tr><tr><td>601</td><td>BR0890</td><td>Infiniti Motors</td></tr><tr><td>602</td><td>BR0891</td><td>Innocenti Motors</td></tr><tr><td>603</td><td>BR0892</td><td>Innocenti Motors</td></tr><tr><td>604</td><td>BR0893</td><td>Innocenti Motors</td></tr><tr><td>605</td><td>BR0894</td><td>Innocenti Motors</td></tr><tr><td>606</td><td>BR0895</td><td>Innocenti Motors</td></tr><tr><td>607</td><td>BR0897</td><td>Innocenti Motors</td></tr><tr><td>608</td><td>BR0898</td><td>Innocenti Motors</td></tr><tr><td>609</td><td>BR0899</td><td>Innocenti Motors</td></tr><tr><td>610</td><td>BR0900</td><td>Innocenti Motors</td></tr><tr><td>611</td><td>BR0901</td><td>Invicta Motors</td></tr><tr><td>612</td><td>BR0902</td><td>Invicta Motors</td></tr><tr><td>613</td><td>BR0904</td><td>Invicta Motors</td></tr><tr><td>614</td><td>BR0905</td><td>Invicta Motors</td></tr><tr><td>615</td><td>BR0906</td><td>Auto-Union Motors</td></tr><tr><td>616</td><td>BR0907</td><td>Invicta Motors</td></tr><tr><td>617</td><td>BR0908</td><td>Invicta Motors</td></tr><tr><td>618</td><td>BR0909</td><td>Invicta Motors</td></tr><tr><td>619</td><td>BR0910</td><td>Invicta Motors</td></tr><tr><td>620</td><td>BR0911</td><td>Isdera Motors</td></tr><tr><td>621</td><td>BR0912</td><td>Isdera Motors</td></tr><tr><td>622</td><td>BR0913</td><td>Isdera Motors</td></tr><tr><td>623</td><td>BR0917</td><td>Isdera Motors</td></tr><tr><td>624</td><td>BR0918</td><td>Isdera Motors</td></tr><tr><td>625</td><td>BR0919</td><td>Isdera Motors</td></tr><tr><td>626</td><td>BR0921</td><td>Iso Motors</td></tr><tr><td>627</td><td>BR0922</td><td>Iso Motors</td></tr><tr><td>628</td><td>BR0923</td><td>Iso Motors</td></tr><tr><td>629</td><td>BR0924</td><td>Iso Motors</td></tr><tr><td>630</td><td>BR0925</td><td>Iso Motors</td></tr><tr><td>631</td><td>BR0927</td><td>Iso Motors</td></tr><tr><td>632</td><td>BR0928</td><td>Iso Motors</td></tr><tr><td>633</td><td>BR0929</td><td>Iso Motors</td></tr><tr><td>634</td><td>BR0930</td><td>Iso Motors</td></tr><tr><td>635</td><td>BR0931</td><td>Isotta Fraschini Motors</td></tr><tr><td>636</td><td>BR0933</td><td>Isotta Fraschini Motors</td></tr><tr><td>637</td><td>BR0934</td><td>Isotta Fraschini Motors</td></tr><tr><td>638</td><td>BR0935</td><td>Isotta Fraschini Motors</td></tr><tr><td>639</td><td>BR0938</td><td>Isotta Fraschini Motors</td></tr><tr><td>640</td><td>BR0939</td><td>Isotta Fraschini Motors</td></tr><tr><td>641</td><td>BR0940</td><td>Isotta Fraschini Motors</td></tr><tr><td>642</td><td>BR0941</td><td>Isuzu Motors</td></tr><tr><td>643</td><td>BR0942</td><td>Isuzu Motors</td></tr><tr><td>644</td><td>BR0943</td><td>Isuzu Motors</td></tr><tr><td>645</td><td>BR0945</td><td>Isuzu Motors</td></tr><tr><td>646</td><td>BR0947</td><td>Isuzu Motors</td></tr><tr><td>647</td><td>BR0949</td><td>Isuzu Motors</td></tr><tr><td>648</td><td>BR0950</td><td>Isuzu Motors</td></tr><tr><td>649</td><td>BR0953</td><td>Iveco Motors</td></tr><tr><td>650</td><td>BR0955</td><td>Iveco Motors</td></tr><tr><td>651</td><td>BR0958</td><td>Iveco Motors</td></tr><tr><td>652</td><td>BR0959</td><td>Iveco Motors</td></tr><tr><td>653</td><td>BR0960</td><td>Iveco Motors</td></tr><tr><td>654</td><td>BR0961</td><td>Jaguar Motors</td></tr><tr><td>655</td><td>BR0963</td><td>Jaguar Motors</td></tr><tr><td>656</td><td>BR0964</td><td>Jaguar Motors</td></tr><tr><td>657</td><td>BR0965</td><td>Jaguar Motors</td></tr><tr><td>658</td><td>BR0966</td><td>Auverland Motors</td></tr><tr><td>659</td><td>BR0967</td><td>Jaguar Motors</td></tr><tr><td>660</td><td>BR0968</td><td>Jaguar Motors</td></tr><tr><td>661</td><td>BR0969</td><td>Jaguar Motors</td></tr><tr><td>662</td><td>BR0970</td><td>Jaguar Motors</td></tr><tr><td>663</td><td>BR0971</td><td>Jeep Motors</td></tr><tr><td>664</td><td>BR0972</td><td>Jeep Motors</td></tr><tr><td>665</td><td>BR0973</td><td>Jeep Motors</td></tr><tr><td>666</td><td>BR0974</td><td>Jeep Motors</td></tr><tr><td>667</td><td>BR0975</td><td>Jeep Motors</td></tr><tr><td>668</td><td>BR0978</td><td>Jeep Motors</td></tr><tr><td>669</td><td>BR0979</td><td>Jeep Motors</td></tr><tr><td>670</td><td>BR0980</td><td>Jeep Motors</td></tr><tr><td>671</td><td>BR0981</td><td>Jensen Motors</td></tr><tr><td>672</td><td>BR0983</td><td>Jensen Motors</td></tr><tr><td>673</td><td>BR0984</td><td>Jensen Motors</td></tr><tr><td>674</td><td>BR0985</td><td>Jensen Motors</td></tr><tr><td>675</td><td>BR0987</td><td>Jensen Motors</td></tr><tr><td>676</td><td>BR0988</td><td>Jensen Motors</td></tr><tr><td>677</td><td>BR0989</td><td>Jensen Motors</td></tr><tr><td>678</td><td>BR0990</td><td>Jensen Motors</td></tr><tr><td>679</td><td>BR0993</td><td>JPX Motors</td></tr><tr><td>680</td><td>BR0994</td><td>JPX Motors</td></tr><tr><td>681</td><td>BR0995</td><td>JPX Motors</td></tr><tr><td>682</td><td>BR0997</td><td>JPX Motors</td></tr><tr><td>683</td><td>BR0998</td><td>JPX Motors</td></tr><tr><td>684</td><td>BR0999</td><td>JPX Motors</td></tr><tr><td>685</td><td>BR1001</td><td>Kia Motors</td></tr><tr><td>686</td><td>BR10026</td><td>Saab Motors</td></tr><tr><td>687</td><td>BR1003</td><td>Kia Motors</td></tr><tr><td>688</td><td>BR1004</td><td>Kia Motors</td></tr><tr><td>689</td><td>BR1005</td><td>Kia Motors</td></tr><tr><td>690</td><td>BR1008</td><td>Kia Motors</td></tr><tr><td>691</td><td>BR10086</td><td>SAIC Motor Motors</td></tr><tr><td>692</td><td>BR1012</td><td>Koenigsegg Motors</td></tr><tr><td>693</td><td>BR1013</td><td>Koenigsegg Motors</td></tr><tr><td>694</td><td>BR1014</td><td>Koenigsegg Motors</td></tr><tr><td>695</td><td>BR10146</td><td>Saleen Motors</td></tr><tr><td>696</td><td>BR1015</td><td>Koenigsegg Motors</td></tr><tr><td>697</td><td>BR1017</td><td>Koenigsegg Motors</td></tr><tr><td>698</td><td>BR1019</td><td>Koenigsegg Motors</td></tr><tr><td>699</td><td>BR1020</td><td>Koenigsegg Motors</td></tr><tr><td>700</td><td>BR10206</td><td>Samsung Motors</td></tr><tr><td>701</td><td>BR1021</td><td>KTM Motors</td></tr><tr><td>702</td><td>BR1023</td><td>KTM Motors</td></tr><tr><td>703</td><td>BR1025</td><td>KTM Motors</td></tr><tr><td>704</td><td>BR1026</td><td>Bentley Motors</td></tr><tr><td>705</td><td>BR1027</td><td>KTM Motors</td></tr><tr><td>706</td><td>BR1028</td><td>KTM Motors</td></tr><tr><td>707</td><td>BR1029</td><td>KTM Motors</td></tr><tr><td>708</td><td>BR1032</td><td>Lada Motors</td></tr><tr><td>709</td><td>BR10326</td><td>Santa Matilde Motors</td></tr><tr><td>710</td><td>BR1034</td><td>Lada Motors</td></tr><tr><td>711</td><td>BR1035</td><td>Lada Motors</td></tr><tr><td>712</td><td>BR1037</td><td>Lada Motors</td></tr><tr><td>713</td><td>BR10386</td><td>Santana Motors</td></tr><tr><td>714</td><td>BR1039</td><td>Lada Motors</td></tr><tr><td>715</td><td>BR1040</td><td>Lada Motors</td></tr><tr><td>716</td><td>BR1041</td><td>Lamborghini Motors</td></tr><tr><td>717</td><td>BR1043</td><td>Lamborghini Motors</td></tr><tr><td>718</td><td>BR1044</td><td>Lamborghini Motors</td></tr><tr><td>719</td><td>BR10446</td><td>Saturn Motors</td></tr><tr><td>720</td><td>BR1045</td><td>Lamborghini Motors</td></tr><tr><td>721</td><td>BR1047</td><td>Lamborghini Motors</td></tr><tr><td>722</td><td>BR1048</td><td>Lamborghini Motors</td></tr><tr><td>723</td><td>BR1049</td><td>Lamborghini Motors</td></tr><tr><td>724</td><td>BR1050</td><td>Lamborghini Motors</td></tr><tr><td>725</td><td>BR10506</td><td>Scion Motors</td></tr><tr><td>726</td><td>BR1051</td><td>Lancia Motors</td></tr><tr><td>727</td><td>BR1052</td><td>Lancia Motors</td></tr><tr><td>728</td><td>BR1053</td><td>Lancia Motors</td></tr><tr><td>729</td><td>BR1055</td><td>Lancia Motors</td></tr><tr><td>730</td><td>BR10566</td><td>Seat Motors</td></tr><tr><td>731</td><td>BR1058</td><td>Lancia Motors</td></tr><tr><td>732</td><td>BR1059</td><td>Lancia Motors</td></tr><tr><td>733</td><td>BR1060</td><td>Lancia Motors</td></tr><tr><td>734</td><td>BR1061</td><td>Land Rover Motors</td></tr><tr><td>735</td><td>BR10626</td><td>Shelby SuperCars Motors</td></tr><tr><td>736</td><td>BR1063</td><td>Land Rover Motors</td></tr><tr><td>737</td><td>BR1065</td><td>Land Rover Motors</td></tr><tr><td>738</td><td>BR1067</td><td>Land Rover Motors</td></tr><tr><td>739</td><td>BR1068</td><td>Land Rover Motors</td></tr><tr><td>740</td><td>BR10686</td><td>Simca Motors</td></tr><tr><td>741</td><td>BR1070</td><td>Land Rover Motors</td></tr><tr><td>742</td><td>BR1071</td><td>Lexus Motors</td></tr><tr><td>743</td><td>BR1073</td><td>Lexus Motors</td></tr><tr><td>744</td><td>BR1074</td><td>Lexus Motors</td></tr><tr><td>745</td><td>BR10746</td><td>Simca do Brasil Motors</td></tr><tr><td>746</td><td>BR1075</td><td>Lexus Motors</td></tr><tr><td>747</td><td>BR1077</td><td>Lexus Motors</td></tr><tr><td>748</td><td>BR1078</td><td>Lexus Motors</td></tr><tr><td>749</td><td>BR1079</td><td>Lexus Motors</td></tr><tr><td>750</td><td>BR1080</td><td>Lexus Motors</td></tr><tr><td>751</td><td>BR10806</td><td>Singer Motors</td></tr><tr><td>752</td><td>BR1083</td><td>Ligier Motors</td></tr><tr><td>753</td><td>BR1086</td><td>Bitter Motors</td></tr><tr><td>754</td><td>BR1087</td><td>Ligier Motors</td></tr><tr><td>755</td><td>BR1088</td><td>Ligier Motors</td></tr><tr><td>756</td><td>BR1092</td><td>Lincoln Motors</td></tr><tr><td>757</td><td>BR1093</td><td>Lincoln Motors</td></tr><tr><td>758</td><td>BR1094</td><td>Lincoln Motors</td></tr><tr><td>759</td><td>BR1098</td><td>Lincoln Motors</td></tr><tr><td>760</td><td>BR10986</td><td>Spyker Motors</td></tr><tr><td>761</td><td>BR1099</td><td>Lincoln Motors</td></tr><tr><td>762</td><td>BR1101</td><td>Lotus Motors</td></tr><tr><td>763</td><td>BR1102</td><td>Lotus Motors</td></tr><tr><td>764</td><td>BR1103</td><td>Lotus Motors</td></tr><tr><td>765</td><td>BR1104</td><td>Lotus Motors</td></tr><tr><td>766</td><td>BR1105</td><td>Lotus Motors</td></tr><tr><td>767</td><td>BR1107</td><td>Lotus Motors</td></tr><tr><td>768</td><td>BR1108</td><td>Lotus Motors</td></tr><tr><td>769</td><td>BR1110</td><td>Lotus Motors</td></tr><tr><td>770</td><td>BR11106</td><td>Standard-Triumph Motors</td></tr><tr><td>771</td><td>BR1111</td><td>LTI Motors</td></tr><tr><td>772</td><td>BR1112</td><td>LTI Motors</td></tr><tr><td>773</td><td>BR1113</td><td>LTI Motors</td></tr><tr><td>774</td><td>BR1114</td><td>LTI Motors</td></tr><tr><td>775</td><td>BR1117</td><td>LTI Motors</td></tr><tr><td>776</td><td>BR1118</td><td>LTI Motors</td></tr><tr><td>777</td><td>BR1121</td><td>LuAZ Motors</td></tr><tr><td>778</td><td>BR1123</td><td>LuAZ Motors</td></tr><tr><td>779</td><td>BR1125</td><td>LuAZ Motors</td></tr><tr><td>780</td><td>BR1127</td><td>LuAZ Motors</td></tr><tr><td>781</td><td>BR1128</td><td>LuAZ Motors</td></tr><tr><td>782</td><td>BR11286</td><td>Sunbeam Motors</td></tr><tr><td>783</td><td>BR1129</td><td>LuAZ Motors</td></tr><tr><td>784</td><td>BR1130</td><td>LuAZ Motors</td></tr><tr><td>785</td><td>BR1135</td><td>Lynx Motors</td></tr><tr><td>786</td><td>BR1137</td><td>Lynx Motors</td></tr><tr><td>787</td><td>BR1138</td><td>Lynx Motors</td></tr><tr><td>788</td><td>BR1140</td><td>Lynx Motors</td></tr><tr><td>789</td><td>BR11406</td><td>Tata Motors</td></tr><tr><td>790</td><td>BR1141</td><td>Mahindra Motors</td></tr><tr><td>791</td><td>BR1143</td><td>Mahindra Motors</td></tr><tr><td>792</td><td>BR1145</td><td>Mahindra Motors</td></tr><tr><td>793</td><td>BR1146</td><td>BMW Motors</td></tr><tr><td>794</td><td>BR11466</td><td>Tatra Motors</td></tr><tr><td>795</td><td>BR1147</td><td>Mahindra Motors</td></tr><tr><td>796</td><td>BR1148</td><td>Mahindra Motors</td></tr><tr><td>797</td><td>BR1149</td><td>Mahindra Motors</td></tr><tr><td>798</td><td>BR1150</td><td>Mahindra Motors</td></tr><tr><td>799</td><td>BR1151</td><td>Marcos Motors</td></tr><tr><td>800</td><td>BR1152</td><td>Marcos Motors</td></tr><tr><td>801</td><td>BR11526</td><td>Tazzari Motors</td></tr><tr><td>802</td><td>BR1155</td><td>Marcos Motors</td></tr><tr><td>803</td><td>BR1157</td><td>Marcos Motors</td></tr><tr><td>804</td><td>BR1158</td><td>Marcos Motors</td></tr><tr><td>805</td><td>BR11586</td><td>Tesla Motors</td></tr><tr><td>806</td><td>BR1159</td><td>Marcos Motors</td></tr><tr><td>807</td><td>BR1162</td><td>Marlin Motors</td></tr><tr><td>808</td><td>BR1163</td><td>Marlin Motors</td></tr><tr><td>809</td><td>BR1164</td><td>Marlin Motors</td></tr><tr><td>810</td><td>BR11646</td><td>Tornado Motors</td></tr><tr><td>811</td><td>BR1165</td><td>Marlin Motors</td></tr><tr><td>812</td><td>BR1167</td><td>Marlin Motors</td></tr><tr><td>813</td><td>BR1168</td><td>Marlin Motors</td></tr><tr><td>814</td><td>BR1170</td><td>Marlin Motors</td></tr><tr><td>815</td><td>BR11706</td><td>Toyota Motors</td></tr><tr><td>816</td><td>BR1171</td><td>Maruti Motors</td></tr><tr><td>817</td><td>BR1172</td><td>Maruti Motors</td></tr><tr><td>818</td><td>BR1173</td><td>Maruti Motors</td></tr><tr><td>819</td><td>BR1174</td><td>Maruti Motors</td></tr><tr><td>820</td><td>BR1175</td><td>Maruti Motors</td></tr><tr><td>821</td><td>BR1177</td><td>Maruti Motors</td></tr><tr><td>822</td><td>BR1178</td><td>Maruti Motors</td></tr><tr><td>823</td><td>BR1179</td><td>Maruti Motors</td></tr><tr><td>824</td><td>BR1180</td><td>Maruti Motors</td></tr><tr><td>825</td><td>BR1181</td><td>Maserati Motors</td></tr><tr><td>826</td><td>BR1182</td><td>Maserati Motors</td></tr><tr><td>827</td><td>BR11826</td><td>Turner Motors</td></tr><tr><td>828</td><td>BR1183</td><td>Maserati Motors</td></tr><tr><td>829</td><td>BR1184</td><td>Maserati Motors</td></tr><tr><td>830</td><td>BR1188</td><td>Maserati Motors</td></tr><tr><td>831</td><td>BR1189</td><td>Maserati Motors</td></tr><tr><td>832</td><td>BR1190</td><td>Maserati Motors</td></tr><tr><td>833</td><td>BR1192</td><td>Mastretta Motors</td></tr><tr><td>834</td><td>BR1193</td><td>Mastretta Motors</td></tr><tr><td>835</td><td>BR1194</td><td>Mastretta Motors</td></tr><tr><td>836</td><td>BR11946</td><td>UAZ Motors</td></tr><tr><td>837</td><td>BR1195</td><td>Mastretta Motors</td></tr><tr><td>838</td><td>BR1197</td><td>Mastretta Motors</td></tr><tr><td>839</td><td>BR1198</td><td>Mastretta Motors</td></tr><tr><td>840</td><td>BR1199</td><td>Mastretta Motors</td></tr><tr><td>841</td><td>BR1200</td><td>Mastretta Motors</td></tr><tr><td>842</td><td>BR12006</td><td>Vauxhall Motors</td></tr><tr><td>843</td><td>BR1202</td><td>Matra (including Deutsch-Bonnet, René Bonnet) Motors</td></tr><tr><td>844</td><td>BR1203</td><td>Matra (including Deutsch-Bonnet, René Bonnet) Motors</td></tr><tr><td>845</td><td>BR1204</td><td>Matra (including Deutsch-Bonnet, René Bonnet) Motors</td></tr><tr><td>846</td><td>BR1205</td><td>Matra (including Deutsch-Bonnet, René Bonnet) Motors</td></tr><tr><td>847</td><td>BR1207</td><td>Matra (including Deutsch-Bonnet, René Bonnet) Motors</td></tr><tr><td>848</td><td>BR1208</td><td>Matra (including Deutsch-Bonnet, René Bonnet) Motors</td></tr><tr><td>849</td><td>BR1209</td><td>Matra (including Deutsch-Bonnet, René Bonnet) Motors</td></tr><tr><td>850</td><td>BR1210</td><td>Matra (including Deutsch-Bonnet, René Bonnet) Motors</td></tr><tr><td>851</td><td>BR1212</td><td>Mazda Motors</td></tr><tr><td>852</td><td>BR12126</td><td>Volkswagen Motors</td></tr><tr><td>853</td><td>BR1214</td><td>Mazda Motors</td></tr><tr><td>854</td><td>BR1215</td><td>Mazda Motors</td></tr><tr><td>855</td><td>BR1217</td><td>Mazda Motors</td></tr><tr><td>856</td><td>BR1218</td><td>Mazda Motors</td></tr><tr><td>857</td><td>BR12186</td><td>Volkswagen do Brasil Motors</td></tr><tr><td>858</td><td>BR1219</td><td>Mazda Motors</td></tr><tr><td>859</td><td>BR1220</td><td>Mazda Motors</td></tr><tr><td>860</td><td>BR1222</td><td>Mazzanti Motors</td></tr><tr><td>861</td><td>BR1223</td><td>Mazzanti Motors</td></tr><tr><td>862</td><td>BR1224</td><td>Mazzanti Motors</td></tr><tr><td>863</td><td>BR12246</td><td>Volkswagen South Africa Motors</td></tr><tr><td>864</td><td>BR1227</td><td>Mazzanti Motors</td></tr><tr><td>865</td><td>BR1228</td><td>Mazzanti Motors</td></tr><tr><td>866</td><td>BR1229</td><td>Mazzanti Motors</td></tr><tr><td>867</td><td>BR1230</td><td>Mazzanti Motors</td></tr><tr><td>868</td><td>BR12306</td><td>Volvo Motors</td></tr><tr><td>869</td><td>BR1231</td><td>McLaren Motors</td></tr><tr><td>870</td><td>BR1232</td><td>McLaren Motors</td></tr><tr><td>871</td><td>BR1233</td><td>McLaren Motors</td></tr><tr><td>872</td><td>BR1234</td><td>McLaren Motors</td></tr><tr><td>873</td><td>BR1235</td><td>McLaren Motors</td></tr><tr><td>874</td><td>BR12366</td><td>Westfield Motors</td></tr><tr><td>875</td><td>BR1238</td><td>McLaren Motors</td></tr><tr><td>876</td><td>BR1239</td><td>McLaren Motors</td></tr><tr><td>877</td><td>BR1240</td><td>McLaren Motors</td></tr><tr><td>878</td><td>BR1241</td><td>Mercedes-Benz (including Maybach) Motors</td></tr><tr><td>879</td><td>BR1243</td><td>Mercedes-Benz (including Maybach) Motors</td></tr><tr><td>880</td><td>BR1244</td><td>Mercedes-Benz (including Maybach) Motors</td></tr><tr><td>881</td><td>BR1245</td><td>Mercedes-Benz (including Maybach) Motors</td></tr><tr><td>882</td><td>BR1247</td><td>Mercedes-Benz (including Maybach) Motors</td></tr><tr><td>883</td><td>BR1248</td><td>Mercedes-Benz (including Maybach) Motors</td></tr><tr><td>884</td><td>BR12486</td><td>Zastava Motors</td></tr><tr><td>885</td><td>BR1249</td><td>Mercedes-Benz (including Maybach) Motors</td></tr><tr><td>886</td><td>BR1251</td><td>Mercury Motors</td></tr><tr><td>887</td><td>BR1252</td><td>Mercury Motors</td></tr><tr><td>888</td><td>BR1253</td><td>Mercury Motors</td></tr><tr><td>889</td><td>BR1255</td><td>Mercury Motors</td></tr><tr><td>890</td><td>BR1258</td><td>Mercury Motors</td></tr><tr><td>891</td><td>BR1259</td><td>Mercury Motors</td></tr><tr><td>892</td><td>BR12606</td><td>ZIL Motors</td></tr><tr><td>893</td><td>BR1261</td><td>Merkur Motors</td></tr><tr><td>894</td><td>BR1262</td><td>Merkur Motors</td></tr><tr><td>895</td><td>BR1263</td><td>Merkur Motors</td></tr><tr><td>896</td><td>BR1264</td><td>Merkur Motors</td></tr><tr><td>897</td><td>BR1266</td><td>Borgward (including Goliath and Lloyd) Motors</td></tr><tr><td>898</td><td>BR12666</td><td>Audi Motors</td></tr><tr><td>899</td><td>BR1267</td><td>Merkur Motors</td></tr><tr><td>900</td><td>BR1268</td><td>Merkur Motors</td></tr><tr><td>901</td><td>BR1270</td><td>Merkur Motors</td></tr><tr><td>902</td><td>BR1273</td><td>Messerschmitt Motors</td></tr><tr><td>903</td><td>BR1274</td><td>Messerschmitt Motors</td></tr><tr><td>904</td><td>BR1275</td><td>Messerschmitt Motors</td></tr><tr><td>905</td><td>BR1277</td><td>Messerschmitt Motors</td></tr><tr><td>906</td><td>BR12786</td><td>Horch Motors</td></tr><tr><td>907</td><td>BR1279</td><td>Messerschmitt Motors</td></tr><tr><td>908</td><td>BR1283</td><td>Mia Motors</td></tr><tr><td>909</td><td>BR1287</td><td>Mia Motors</td></tr><tr><td>910</td><td>BR1288</td><td>Mia Motors</td></tr><tr><td>911</td><td>BR1289</td><td>Mia Motors</td></tr><tr><td>912</td><td>BR1290</td><td>Mia Motors</td></tr><tr><td>913</td><td>BR12906</td><td>Maybach  Motors</td></tr><tr><td>914</td><td>BR1291</td><td>Micro Motors</td></tr><tr><td>915</td><td>BR1292</td><td>Micro Motors</td></tr><tr><td>916</td><td>BR1293</td><td>Micro Motors</td></tr><tr><td>917</td><td>BR1294</td><td>Micro Motors</td></tr><tr><td>918</td><td>BR1295</td><td>Micro Motors</td></tr><tr><td>919</td><td>BR12966</td><td>Izh  Motors</td></tr><tr><td>920</td><td>BR1298</td><td>Micro Motors</td></tr><tr><td>921</td><td>BR1299</td><td>Micro Motors</td></tr><tr><td>922</td><td>BR1300</td><td>Micro Motors</td></tr><tr><td>923</td><td>BR1301</td><td>Mini Motors</td></tr><tr><td>924</td><td>BR1302</td><td>Mini Motors</td></tr><tr><td>925</td><td>BR13026</td><td>Lagonda  Motors</td></tr><tr><td>926</td><td>BR1303</td><td>Mini Motors</td></tr><tr><td>927</td><td>BR1304</td><td>Mini Motors</td></tr><tr><td>928</td><td>BR1305</td><td>Mini Motors</td></tr><tr><td>929</td><td>BR1307</td><td>Mini Motors</td></tr><tr><td>930</td><td>BR13086</td><td>MG  Motors</td></tr><tr><td>931</td><td>BR1310</td><td>Mini Motors</td></tr><tr><td>932</td><td>BR1313</td><td>Mitsubishi Motors</td></tr><tr><td>933</td><td>BR1314</td><td>Mitsubishi Motors</td></tr><tr><td>934</td><td>BR1315</td><td>Mitsubishi Motors</td></tr><tr><td>935</td><td>BR1317</td><td>Mitsubishi Motors</td></tr><tr><td>936</td><td>BR1318</td><td>Mitsubishi Motors</td></tr><tr><td>937</td><td>BR1320</td><td>Mitsubishi Motors</td></tr><tr><td>938</td><td>BR1321</td><td>Monica Motors</td></tr><tr><td>939</td><td>BR1322</td><td>Monica Motors</td></tr><tr><td>940</td><td>BR1323</td><td>Monica Motors</td></tr><tr><td>941</td><td>BR1325</td><td>Monica Motors</td></tr><tr><td>942</td><td>BR1326</td><td>Bristol Motors</td></tr><tr><td>943</td><td>BR13266</td><td>Riley  Motors</td></tr><tr><td>944</td><td>BR1328</td><td>Monica Motors</td></tr><tr><td>945</td><td>BR1330</td><td>Monica Motors</td></tr><tr><td>946</td><td>BR1332</td><td>Monteverdi Motors</td></tr><tr><td>947</td><td>BR13326</td><td>Wolseley  Motors</td></tr><tr><td>948</td><td>BR1333</td><td>Monteverdi Motors</td></tr><tr><td>949</td><td>BR1338</td><td>Monteverdi Motors</td></tr><tr><td>950</td><td>BR13386</td><td>Standard  Motors</td></tr><tr><td>951</td><td>BR1339</td><td>Monteverdi Motors</td></tr><tr><td>952</td><td>BR1340</td><td>Monteverdi Motors</td></tr><tr><td>953</td><td>BR1343</td><td>Morgan Motors</td></tr><tr><td>954</td><td>BR1347</td><td>Morgan Motors</td></tr><tr><td>955</td><td>BR1348</td><td>Morgan Motors</td></tr><tr><td>956</td><td>BR1349</td><td>Morgan Motors</td></tr><tr><td>957</td><td>BR13506</td><td>Das Motors</td></tr><tr><td>958</td><td>BR1351</td><td>Moskwitch Motors</td></tr><tr><td>959</td><td>BR1352</td><td>Moskwitch Motors</td></tr><tr><td>960</td><td>BR1353</td><td>Moskwitch Motors</td></tr><tr><td>961</td><td>BR13566</td><td>Ramani Motors</td></tr><tr><td>962</td><td>BR1358</td><td>Moskwitch Motors</td></tr><tr><td>963</td><td>BR1360</td><td>Moskwitch Motors</td></tr><tr><td>964</td><td>BR1362</td><td>Nash Motors</td></tr><tr><td>965</td><td>BR13626</td><td>Deccan Motors</td></tr><tr><td>966</td><td>BR1363</td><td>Nash Motors</td></tr><tr><td>967</td><td>BR1364</td><td>Nash Motors</td></tr><tr><td>968</td><td>BR1365</td><td>Nash Motors</td></tr><tr><td>969</td><td>BR13686</td><td>Herald Motors</td></tr><tr><td>970</td><td>BR1369</td><td>Nash Motors</td></tr><tr><td>971</td><td>BR1370</td><td>Nash Motors</td></tr><tr><td>972</td><td>BR1371</td><td>Naza Motors</td></tr><tr><td>973</td><td>BR1372</td><td>Naza Motors</td></tr><tr><td>974</td><td>BR1373</td><td>Naza Motors</td></tr><tr><td>975</td><td>BR13746</td><td>Zion Automobils</td></tr><tr><td>976</td><td>BR1377</td><td>Naza Motors</td></tr><tr><td>977</td><td>BR1378</td><td>Naza Motors</td></tr><tr><td>978</td><td>BR1379</td><td>Naza Motors</td></tr><tr><td>979</td><td>BR1380</td><td>Naza Motors</td></tr><tr><td>980</td><td>BR13806</td><td>Atlantic Motor Company</td></tr><tr><td>981</td><td>BR1382</td><td>Nissan Motors</td></tr><tr><td>982</td><td>BR1383</td><td>Nissan Motors</td></tr><tr><td>983</td><td>BR1384</td><td>Nissan Motors</td></tr><tr><td>984</td><td>BR1386</td><td>British Leyland Motors</td></tr><tr><td>985</td><td>BR1388</td><td>Nissan Motors</td></tr><tr><td>986</td><td>BR1390</td><td>Nissan Motors</td></tr><tr><td>987</td><td>BR1391</td><td>Nissan India Motors</td></tr><tr><td>988</td><td>BR1392</td><td>Nissan India Motors</td></tr><tr><td>989</td><td>BR13926</td><td>Blankinship Motor Company Building</td></tr><tr><td>990</td><td>BR1393</td><td>Nissan India Motors</td></tr><tr><td>991</td><td>BR1395</td><td>Nissan India Motors</td></tr><tr><td>992</td><td>BR1397</td><td>Nissan India Motors</td></tr><tr><td>993</td><td>BR1398</td><td>Nissan India Motors</td></tr><tr><td>994</td><td>BR13986</td><td>Bohn Motor Company Automobile Dealership</td></tr><tr><td>995</td><td>BR1399</td><td>Nissan India Motors</td></tr><tr><td>996</td><td>BR1401</td><td>Noble Motors</td></tr><tr><td>997</td><td>BR1402</td><td>Noble Motors</td></tr><tr><td>998</td><td>BR1403</td><td>Noble Motors</td></tr><tr><td>999</td><td>BR1404</td><td>Noble Motors</td></tr><tr><td>1000</td><td>BR14046</td><td>Buick Automobile Company Building</td></tr><tr><td>1001</td><td>BR1405</td><td>Noble Motors</td></tr><tr><td>1002</td><td>BR1407</td><td>Noble Motors</td></tr><tr><td>1003</td><td>BR1408</td><td>Noble Motors</td></tr><tr><td>1004</td><td>BR1410</td><td>Noble Motors</td></tr><tr><td>1005</td><td>BR14106</td><td>Cadillac Automobile Company Building</td></tr><tr><td>1006</td><td>BR1411</td><td>NSU Motors</td></tr><tr><td>1007</td><td>BR1412</td><td>NSU Motors</td></tr><tr><td>1008</td><td>BR1413</td><td>NSU Motors</td></tr><tr><td>1009</td><td>BR1414</td><td>NSU Motors</td></tr><tr><td>1010</td><td>BR14166</td><td>Casa de cadillac</td></tr><tr><td>1011</td><td>BR1417</td><td>NSU Motors</td></tr><tr><td>1012</td><td>BR1418</td><td>NSU Motors</td></tr><tr><td>1013</td><td>BR1419</td><td>NSU Motors</td></tr><tr><td>1014</td><td>BR1420</td><td>NSU Motors</td></tr><tr><td>1015</td><td>BR1421</td><td>Oldsmobile Motors</td></tr><tr><td>1016</td><td>BR14226</td><td>Cass Motor Sales</td></tr><tr><td>1017</td><td>BR1424</td><td>Oldsmobile Motors</td></tr><tr><td>1018</td><td>BR1425</td><td>Oldsmobile Motors</td></tr><tr><td>1019</td><td>BR1428</td><td>Oldsmobile Motors</td></tr><tr><td>1020</td><td>BR1431</td><td>Oltcit Motors</td></tr><tr><td>1021</td><td>BR1435</td><td>Oltcit Motors</td></tr><tr><td>1022</td><td>BR1438</td><td>Oltcit Motors</td></tr><tr><td>1023</td><td>BR1440</td><td>Oltcit Motors</td></tr><tr><td>1024</td><td>BR14406</td><td>Colman Automotive Building</td></tr><tr><td>1025</td><td>BR1442</td><td>Opel Motors</td></tr><tr><td>1026</td><td>BR1444</td><td>Opel Motors</td></tr><tr><td>1027</td><td>BR1445</td><td>Opel Motors</td></tr><tr><td>1028</td><td>BR1447</td><td>Opel Motors</td></tr><tr><td>1029</td><td>BR1448</td><td>Opel Motors</td></tr><tr><td>1030</td><td>BR1449</td><td>Opel Motors</td></tr><tr><td>1031</td><td>BR1450</td><td>Opel Motors</td></tr><tr><td>1032</td><td>BR1451</td><td>Packard Motors</td></tr><tr><td>1033</td><td>BR1452</td><td>Packard Motors</td></tr><tr><td>1034</td><td>BR14526</td><td>Howard Motor Company Building</td></tr><tr><td>1035</td><td>BR1454</td><td>Packard Motors</td></tr><tr><td>1036</td><td>BR1455</td><td>Packard Motors</td></tr><tr><td>1037</td><td>BR1457</td><td>Packard Motors</td></tr><tr><td>1038</td><td>BR14586</td><td>Hupmobile Building</td></tr><tr><td>1039</td><td>BR1459</td><td>Packard Motors</td></tr><tr><td>1040</td><td>BR1460</td><td>Packard Motors</td></tr><tr><td>1041</td><td>BR1461</td><td>Pagani Motors</td></tr><tr><td>1042</td><td>BR1463</td><td>Pagani Motors</td></tr><tr><td>1043</td><td>BR1464</td><td>Pagani Motors</td></tr><tr><td>1044</td><td>BR14646</td><td>Jennings Ford Automobile Dealership</td></tr><tr><td>1045</td><td>BR1465</td><td>Pagani Motors</td></tr><tr><td>1046</td><td>BR1467</td><td>Pagani Motors</td></tr><tr><td>1047</td><td>BR14706</td><td>Jones Motor Company</td></tr><tr><td>1048</td><td>BR1471</td><td>Panhard Motors</td></tr><tr><td>1049</td><td>BR1473</td><td>Panhard Motors</td></tr><tr><td>1050</td><td>BR1475</td><td>Panhard Motors</td></tr><tr><td>1051</td><td>BR14766</td><td>Kindel Building</td></tr><tr><td>1052</td><td>BR1477</td><td>Panhard Motors</td></tr><tr><td>1053</td><td>BR1479</td><td>Panhard Motors</td></tr><tr><td>1054</td><td>BR1480</td><td>Panhard Motors</td></tr><tr><td>1055</td><td>BR1482</td><td>Panoz Motors</td></tr><tr><td>1056</td><td>BR1483</td><td>Panoz Motors</td></tr><tr><td>1057</td><td>BR1485</td><td>Panoz Motors</td></tr><tr><td>1058</td><td>BR1488</td><td>Panoz Motors</td></tr><tr><td>1059</td><td>BR1489</td><td>Panoz Motors</td></tr><tr><td>1060</td><td>BR1491</td><td>Panther Motors</td></tr><tr><td>1061</td><td>BR1492</td><td>Panther Motors</td></tr><tr><td>1062</td><td>BR1493</td><td>Panther Motors</td></tr><tr><td>1063</td><td>BR1495</td><td>Panther Motors</td></tr><tr><td>1064</td><td>BR1498</td><td>Panther Motors</td></tr><tr><td>1065</td><td>BR1499</td><td>Panther Motors</td></tr><tr><td>1066</td><td>BR1502</td><td>Peel Motors</td></tr><tr><td>1067</td><td>BR1503</td><td>Peel Motors</td></tr><tr><td>1068</td><td>BR1504</td><td>Peel Motors</td></tr><tr><td>1069</td><td>BR1507</td><td>Peel Motors</td></tr><tr><td>1070</td><td>BR1510</td><td>Peel Motors</td></tr><tr><td>1071</td><td>BR1511</td><td>Perodua Motors</td></tr><tr><td>1072</td><td>BR1512</td><td>Perodua Motors</td></tr><tr><td>1073</td><td>BR1513</td><td>Perodua Motors</td></tr><tr><td>1074</td><td>BR1515</td><td>Perodua Motors</td></tr><tr><td>1075</td><td>BR1518</td><td>Perodua Motors</td></tr><tr><td>1076</td><td>BR1519</td><td>Perodua Motors</td></tr><tr><td>1077</td><td>BR1520</td><td>Perodua Motors</td></tr><tr><td>1078</td><td>BR1521</td><td>Peugeot Motors</td></tr><tr><td>1079</td><td>BR1522</td><td>Peugeot Motors</td></tr><tr><td>1080</td><td>BR1523</td><td>Peugeot Motors</td></tr><tr><td>1081</td><td>BR1524</td><td>Peugeot Motors</td></tr><tr><td>1082</td><td>BR1525</td><td>Peugeot Motors</td></tr><tr><td>1083</td><td>BR1527</td><td>Peugeot Motors</td></tr><tr><td>1084</td><td>BR1528</td><td>Peugeot Motors</td></tr><tr><td>1085</td><td>BR1529</td><td>Peugeot Motors</td></tr><tr><td>1086</td><td>BR1530</td><td>Peugeot Motors</td></tr><tr><td>1087</td><td>BR1531</td><td>PGO Motors</td></tr><tr><td>1088</td><td>BR1540</td><td>PGO Motors</td></tr><tr><td>1089</td><td>BR1541</td><td>Piaggio Motors</td></tr><tr><td>1090</td><td>BR1542</td><td>Piaggio Motors</td></tr><tr><td>1091</td><td>BR1543</td><td>Piaggio Motors</td></tr><tr><td>1092</td><td>BR1544</td><td>Piaggio Motors</td></tr><tr><td>1093</td><td>BR1545</td><td>Piaggio Motors</td></tr><tr><td>1094</td><td>BR1547</td><td>Piaggio Motors</td></tr><tr><td>1095</td><td>BR1549</td><td>Piaggio Motors</td></tr><tr><td>1096</td><td>BR1552</td><td>Plymouth Motors</td></tr><tr><td>1097</td><td>BR1553</td><td>Plymouth Motors</td></tr><tr><td>1098</td><td>BR1554</td><td>Plymouth Motors</td></tr><tr><td>1099</td><td>BR1555</td><td>Plymouth Motors</td></tr><tr><td>1100</td><td>BR1557</td><td>Plymouth Motors</td></tr><tr><td>1101</td><td>BR1558</td><td>Plymouth Motors</td></tr><tr><td>1102</td><td>BR1559</td><td>Plymouth Motors</td></tr><tr><td>1103</td><td>BR1560</td><td>Plymouth Motors</td></tr><tr><td>1104</td><td>BR1561</td><td>Polestar Motors</td></tr><tr><td>1105</td><td>BR1562</td><td>Polestar Motors</td></tr><tr><td>1106</td><td>BR1563</td><td>Polestar Motors</td></tr><tr><td>1107</td><td>BR1564</td><td>Polestar Motors</td></tr><tr><td>1108</td><td>BR1565</td><td>Polestar Motors</td></tr><tr><td>1109</td><td>BR1567</td><td>Polestar Motors</td></tr><tr><td>1110</td><td>BR1568</td><td>Polestar Motors</td></tr><tr><td>1111</td><td>BR1569</td><td>Polestar Motors</td></tr><tr><td>1112</td><td>BR1570</td><td>Polestar Motors</td></tr><tr><td>1113</td><td>BR1571</td><td>Pontiac, Asüna Motors</td></tr><tr><td>1114</td><td>BR1573</td><td>Pontiac, Asüna Motors</td></tr><tr><td>1115</td><td>BR1574</td><td>Pontiac, Asüna Motors</td></tr><tr><td>1116</td><td>BR1575</td><td>Pontiac, Asüna Motors</td></tr><tr><td>1117</td><td>BR1577</td><td>Pontiac, Asüna Motors</td></tr><tr><td>1118</td><td>BR1578</td><td>Pontiac, Asüna Motors</td></tr><tr><td>1119</td><td>BR1579</td><td>Pontiac, Asüna Motors</td></tr><tr><td>1120</td><td>BR1582</td><td>Porsche Motors</td></tr><tr><td>1121</td><td>BR1583</td><td>Porsche Motors</td></tr><tr><td>1122</td><td>BR1585</td><td>Porsche Motors</td></tr><tr><td>1123</td><td>BR1588</td><td>Porsche Motors</td></tr><tr><td>1124</td><td>BR1589</td><td>Porsche Motors</td></tr><tr><td>1125</td><td>BR1590</td><td>Porsche Motors</td></tr><tr><td>1126</td><td>BR1592</td><td>Premier Motors</td></tr><tr><td>1127</td><td>BR1593</td><td>Premier Motors</td></tr><tr><td>1128</td><td>BR1594</td><td>Premier Motors</td></tr><tr><td>1129</td><td>BR1595</td><td>Premier Motors</td></tr><tr><td>1130</td><td>BR1597</td><td>Premier Motors</td></tr><tr><td>1131</td><td>BR1598</td><td>Premier Motors</td></tr><tr><td>1132</td><td>BR1600</td><td>Premier Motors</td></tr><tr><td>1133</td><td>BR1601</td><td>Proton Motors</td></tr><tr><td>1134</td><td>BR1602</td><td>Proton Motors</td></tr><tr><td>1135</td><td>BR1603</td><td>Proton Motors</td></tr><tr><td>1136</td><td>BR1604</td><td>Proton Motors</td></tr><tr><td>1137</td><td>BR1605</td><td>Proton Motors</td></tr><tr><td>1138</td><td>BR1608</td><td>Proton Motors</td></tr><tr><td>1139</td><td>BR1610</td><td>Proton Motors</td></tr><tr><td>1140</td><td>BR1611</td><td>Puma Motors</td></tr><tr><td>1141</td><td>BR1612</td><td>Puma Motors</td></tr><tr><td>1142</td><td>BR1613</td><td>Puma Motors</td></tr><tr><td>1143</td><td>BR1615</td><td>Puma Motors</td></tr><tr><td>1144</td><td>BR1617</td><td>Puma Motors</td></tr><tr><td>1145</td><td>BR1618</td><td>Puma Motors</td></tr><tr><td>1146</td><td>BR1619</td><td>Puma Motors</td></tr><tr><td>1147</td><td>BR1620</td><td>Puma Motors</td></tr><tr><td>1148</td><td>BR1621</td><td>Ranger Motors</td></tr><tr><td>1149</td><td>BR1623</td><td>Ranger Motors</td></tr><tr><td>1150</td><td>BR1625</td><td>Ranger Motors</td></tr><tr><td>1151</td><td>BR1626</td><td>Buick Motors</td></tr><tr><td>1152</td><td>BR1628</td><td>Ranger Motors</td></tr><tr><td>1153</td><td>BR1629</td><td>Ranger Motors</td></tr><tr><td>1154</td><td>BR1630</td><td>Ranger Motors</td></tr><tr><td>1155</td><td>BR1631</td><td>Reliant Motors</td></tr><tr><td>1156</td><td>BR1632</td><td>Reliant Motors</td></tr><tr><td>1157</td><td>BR1633</td><td>Reliant Motors</td></tr><tr><td>1158</td><td>BR1634</td><td>Reliant Motors</td></tr><tr><td>1159</td><td>BR1635</td><td>Reliant Motors</td></tr><tr><td>1160</td><td>BR1637</td><td>Reliant Motors</td></tr><tr><td>1161</td><td>BR1638</td><td>Reliant Motors</td></tr><tr><td>1162</td><td>BR1639</td><td>Reliant Motors</td></tr><tr><td>1163</td><td>BR1640</td><td>Reliant Motors</td></tr><tr><td>1164</td><td>BR1641</td><td>Renault Motors</td></tr><tr><td>1165</td><td>BR1642</td><td>Renault Motors</td></tr><tr><td>1166</td><td>BR1643</td><td>Renault Motors</td></tr><tr><td>1167</td><td>BR1647</td><td>Renault Motors</td></tr><tr><td>1168</td><td>BR1649</td><td>Renault Motors</td></tr><tr><td>1169</td><td>BR1651</td><td>Rivian Motors</td></tr><tr><td>1170</td><td>BR1652</td><td>Rivian Motors</td></tr><tr><td>1171</td><td>BR1653</td><td>Rivian Motors</td></tr><tr><td>1172</td><td>BR1654</td><td>Rivian Motors</td></tr><tr><td>1173</td><td>BR1655</td><td>Rivian Motors</td></tr><tr><td>1174</td><td>BR1657</td><td>Rivian Motors</td></tr><tr><td>1175</td><td>BR1658</td><td>Rivian Motors</td></tr><tr><td>1176</td><td>BR1659</td><td>Rivian Motors</td></tr><tr><td>1177</td><td>BR1660</td><td>Rivian Motors</td></tr><tr><td>1178</td><td>BR1661</td><td>Rolls-Royce Motors</td></tr><tr><td>1179</td><td>BR1663</td><td>Rolls-Royce Motors</td></tr><tr><td>1180</td><td>BR1664</td><td>Rolls-Royce Motors</td></tr><tr><td>1181</td><td>BR1665</td><td>Rolls-Royce Motors</td></tr><tr><td>1182</td><td>BR1667</td><td>Rolls-Royce Motors</td></tr><tr><td>1183</td><td>BR1668</td><td>Rolls-Royce Motors</td></tr><tr><td>1184</td><td>BR1669</td><td>Rolls-Royce Motors</td></tr><tr><td>1185</td><td>BR1670</td><td>Rolls-Royce Motors</td></tr><tr><td>1186</td><td>BR1671</td><td>Saab Motors</td></tr><tr><td>1187</td><td>BR1672</td><td>Saab Motors</td></tr><tr><td>1188</td><td>BR1673</td><td>Saab Motors</td></tr><tr><td>1189</td><td>BR1674</td><td>Saab Motors</td></tr><tr><td>1190</td><td>BR1677</td><td>Saab Motors</td></tr><tr><td>1191</td><td>BR1678</td><td>Saab Motors</td></tr><tr><td>1192</td><td>BR1679</td><td>Saab Motors</td></tr><tr><td>1193</td><td>BR1680</td><td>Saab Motors</td></tr><tr><td>1194</td><td>BR1681</td><td>SAIC Motor Motors</td></tr><tr><td>1195</td><td>BR1682</td><td>SAIC Motor Motors</td></tr><tr><td>1196</td><td>BR1683</td><td>SAIC Motor Motors</td></tr><tr><td>1197</td><td>BR1684</td><td>SAIC Motor Motors</td></tr><tr><td>1198</td><td>BR1685</td><td>SAIC Motor Motors</td></tr><tr><td>1199</td><td>BR1686</td><td>Bytom Motors</td></tr><tr><td>1200</td><td>BR1687</td><td>SAIC Motor Motors</td></tr><tr><td>1201</td><td>BR1688</td><td>SAIC Motor Motors</td></tr><tr><td>1202</td><td>BR1689</td><td>SAIC Motor Motors</td></tr><tr><td>1203</td><td>BR1690</td><td>SAIC Motor Motors</td></tr><tr><td>1204</td><td>BR1691</td><td>Saleen Motors</td></tr><tr><td>1205</td><td>BR1692</td><td>Saleen Motors</td></tr><tr><td>1206</td><td>BR1693</td><td>Saleen Motors</td></tr><tr><td>1207</td><td>BR1697</td><td>Saleen Motors</td></tr><tr><td>1208</td><td>BR1699</td><td>Saleen Motors</td></tr><tr><td>1209</td><td>BR1700</td><td>Saleen Motors</td></tr><tr><td>1210</td><td>BR1701</td><td>Samsung Motors</td></tr><tr><td>1211</td><td>BR1702</td><td>Samsung Motors</td></tr><tr><td>1212</td><td>BR1708</td><td>Samsung Motors</td></tr><tr><td>1213</td><td>BR1709</td><td>Samsung Motors</td></tr><tr><td>1214</td><td>BR1710</td><td>Samsung Motors</td></tr><tr><td>1215</td><td>BR1711</td><td>San Motors</td></tr><tr><td>1216</td><td>BR1712</td><td>San Motors</td></tr><tr><td>1217</td><td>BR1714</td><td>San Motors</td></tr><tr><td>1218</td><td>BR1715</td><td>San Motors</td></tr><tr><td>1219</td><td>BR1717</td><td>San Motors</td></tr><tr><td>1220</td><td>BR1718</td><td>San Motors</td></tr><tr><td>1221</td><td>BR1719</td><td>San Motors</td></tr><tr><td>1222</td><td>BR1720</td><td>San Motors</td></tr><tr><td>1223</td><td>BR1721</td><td>Santa Matilde Motors</td></tr><tr><td>1224</td><td>BR1722</td><td>Santa Matilde Motors</td></tr><tr><td>1225</td><td>BR1723</td><td>Santa Matilde Motors</td></tr><tr><td>1226</td><td>BR1725</td><td>Santa Matilde Motors</td></tr><tr><td>1227</td><td>BR1727</td><td>Santa Matilde Motors</td></tr><tr><td>1228</td><td>BR1728</td><td>Santa Matilde Motors</td></tr><tr><td>1229</td><td>BR1729</td><td>Santa Matilde Motors</td></tr><tr><td>1230</td><td>BR1731</td><td>Santana Motors</td></tr><tr><td>1231</td><td>BR1733</td><td>Santana Motors</td></tr><tr><td>1232</td><td>BR1735</td><td>Santana Motors</td></tr><tr><td>1233</td><td>BR1737</td><td>Santana Motors</td></tr><tr><td>1234</td><td>BR1739</td><td>Santana Motors</td></tr><tr><td>1235</td><td>BR1741</td><td>Saturn Motors</td></tr><tr><td>1236</td><td>BR1742</td><td>Saturn Motors</td></tr><tr><td>1237</td><td>BR1743</td><td>Saturn Motors</td></tr><tr><td>1238</td><td>BR1745</td><td>Saturn Motors</td></tr><tr><td>1239</td><td>BR1746</td><td>Cadillac Motors</td></tr><tr><td>1240</td><td>BR1747</td><td>Saturn Motors</td></tr><tr><td>1241</td><td>BR1749</td><td>Saturn Motors</td></tr><tr><td>1242</td><td>BR1750</td><td>Saturn Motors</td></tr><tr><td>1243</td><td>BR1751</td><td>Scion Motors</td></tr><tr><td>1244</td><td>BR1752</td><td>Scion Motors</td></tr><tr><td>1245</td><td>BR1753</td><td>Scion Motors</td></tr><tr><td>1246</td><td>BR1754</td><td>Scion Motors</td></tr><tr><td>1247</td><td>BR1755</td><td>Scion Motors</td></tr><tr><td>1248</td><td>BR1757</td><td>Scion Motors</td></tr><tr><td>1249</td><td>BR1758</td><td>Scion Motors</td></tr><tr><td>1250</td><td>BR1759</td><td>Scion Motors</td></tr><tr><td>1251</td><td>BR1761</td><td>Seat Motors</td></tr><tr><td>1252</td><td>BR1762</td><td>Seat Motors</td></tr><tr><td>1253</td><td>BR1763</td><td>Seat Motors</td></tr><tr><td>1254</td><td>BR1764</td><td>Seat Motors</td></tr><tr><td>1255</td><td>BR1765</td><td>Seat Motors</td></tr><tr><td>1256</td><td>BR1768</td><td>Seat Motors</td></tr><tr><td>1257</td><td>BR1769</td><td>Seat Motors</td></tr><tr><td>1258</td><td>BR1770</td><td>Seat Motors</td></tr><tr><td>1259</td><td>BR1771</td><td>Shelby SuperCars Motors</td></tr><tr><td>1260</td><td>BR1777</td><td>Shelby SuperCars Motors</td></tr><tr><td>1261</td><td>BR1778</td><td>Shelby SuperCars Motors</td></tr><tr><td>1262</td><td>BR1779</td><td>Shelby SuperCars Motors</td></tr><tr><td>1263</td><td>BR1780</td><td>Shelby SuperCars Motors</td></tr><tr><td>1264</td><td>BR1782</td><td>Simca Motors</td></tr><tr><td>1265</td><td>BR1783</td><td>Simca Motors</td></tr><tr><td>1266</td><td>BR1784</td><td>Simca Motors</td></tr><tr><td>1267</td><td>BR1785</td><td>Simca Motors</td></tr><tr><td>1268</td><td>BR1787</td><td>Simca Motors</td></tr><tr><td>1269</td><td>BR1788</td><td>Simca Motors</td></tr><tr><td>1270</td><td>BR1789</td><td>Simca Motors</td></tr><tr><td>1271</td><td>BR1792</td><td>Simca do Brasil Motors</td></tr><tr><td>1272</td><td>BR1793</td><td>Simca do Brasil Motors</td></tr><tr><td>1273</td><td>BR1795</td><td>Simca do Brasil Motors</td></tr><tr><td>1274</td><td>BR1797</td><td>Simca do Brasil Motors</td></tr><tr><td>1275</td><td>BR1798</td><td>Simca do Brasil Motors</td></tr><tr><td>1276</td><td>BR1799</td><td>Simca do Brasil Motors</td></tr><tr><td>1277</td><td>BR1800</td><td>Simca do Brasil Motors</td></tr><tr><td>1278</td><td>BR1803</td><td>Singer Motors</td></tr><tr><td>1279</td><td>BR1804</td><td>Singer Motors</td></tr><tr><td>1280</td><td>BR1805</td><td>Singer Motors</td></tr><tr><td>1281</td><td>BR1807</td><td>Singer Motors</td></tr><tr><td>1282</td><td>BR1808</td><td>Singer Motors</td></tr><tr><td>1283</td><td>BR1809</td><td>Singer Motors</td></tr><tr><td>1284</td><td>BR1811</td><td>Skoda Motors</td></tr><tr><td>1285</td><td>BR1812</td><td>Skoda Motors</td></tr><tr><td>1286</td><td>BR1814</td><td>Skoda Motors</td></tr><tr><td>1287</td><td>BR1815</td><td>Skoda Motors</td></tr><tr><td>1288</td><td>BR1820</td><td>Skoda Motors</td></tr><tr><td>1289</td><td>BR1821</td><td>Smart Motors</td></tr><tr><td>1290</td><td>BR1822</td><td>Smart Motors</td></tr><tr><td>1291</td><td>BR1823</td><td>Smart Motors</td></tr><tr><td>1292</td><td>BR1824</td><td>Smart Motors</td></tr><tr><td>1293</td><td>BR1827</td><td>Smart Motors</td></tr><tr><td>1294</td><td>BR1828</td><td>Smart Motors</td></tr><tr><td>1295</td><td>BR1829</td><td>Smart Motors</td></tr><tr><td>1296</td><td>BR1830</td><td>Smart Motors</td></tr><tr><td>1297</td><td>BR1831</td><td>Spyker Motors</td></tr><tr><td>1298</td><td>BR1832</td><td>Spyker Motors</td></tr><tr><td>1299</td><td>BR1833</td><td>Spyker Motors</td></tr><tr><td>1300</td><td>BR1834</td><td>Spyker Motors</td></tr><tr><td>1301</td><td>BR1835</td><td>Spyker Motors</td></tr><tr><td>1302</td><td>BR1837</td><td>Spyker Motors</td></tr><tr><td>1303</td><td>BR1838</td><td>Spyker Motors</td></tr><tr><td>1304</td><td>BR1839</td><td>Spyker Motors</td></tr><tr><td>1305</td><td>BR1840</td><td>Spyker Motors</td></tr><tr><td>1306</td><td>BR1841</td><td>SsangYong Motors</td></tr><tr><td>1307</td><td>BR1842</td><td>SsangYong Motors</td></tr><tr><td>1308</td><td>BR1843</td><td>SsangYong Motors</td></tr><tr><td>1309</td><td>BR1844</td><td>SsangYong Motors</td></tr><tr><td>1310</td><td>BR1845</td><td>SsangYong Motors</td></tr><tr><td>1311</td><td>BR1847</td><td>SsangYong Motors</td></tr><tr><td>1312</td><td>BR1849</td><td>SsangYong Motors</td></tr><tr><td>1313</td><td>BR1852</td><td>Standard-Triumph Motors</td></tr><tr><td>1314</td><td>BR1854</td><td>Standard-Triumph Motors</td></tr><tr><td>1315</td><td>BR1855</td><td>Standard-Triumph Motors</td></tr><tr><td>1316</td><td>BR1858</td><td>Standard-Triumph Motors</td></tr><tr><td>1317</td><td>BR1860</td><td>Standard-Triumph Motors</td></tr><tr><td>1318</td><td>BR1861</td><td>Studebaker Motors</td></tr><tr><td>1319</td><td>BR1862</td><td>Studebaker Motors</td></tr><tr><td>1320</td><td>BR1863</td><td>Studebaker Motors</td></tr><tr><td>1321</td><td>BR1864</td><td>Studebaker Motors</td></tr><tr><td>1322</td><td>BR1865</td><td>Studebaker Motors</td></tr><tr><td>1323</td><td>BR1867</td><td>Studebaker Motors</td></tr><tr><td>1324</td><td>BR1868</td><td>Studebaker Motors</td></tr><tr><td>1325</td><td>BR1869</td><td>Studebaker Motors</td></tr><tr><td>1326</td><td>BR1871</td><td>Subaru Motors</td></tr><tr><td>1327</td><td>BR1872</td><td>Subaru Motors</td></tr><tr><td>1328</td><td>BR1873</td><td>Subaru Motors</td></tr><tr><td>1329</td><td>BR1874</td><td>Subaru Motors</td></tr><tr><td>1330</td><td>BR1875</td><td>Subaru Motors</td></tr><tr><td>1331</td><td>BR1877</td><td>Subaru Motors</td></tr><tr><td>1332</td><td>BR1878</td><td>Subaru Motors</td></tr><tr><td>1333</td><td>BR1879</td><td>Subaru Motors</td></tr><tr><td>1334</td><td>BR1880</td><td>Subaru Motors</td></tr><tr><td>1335</td><td>BR1882</td><td>Sunbeam Motors</td></tr><tr><td>1336</td><td>BR1884</td><td>Sunbeam Motors</td></tr><tr><td>1337</td><td>BR1887</td><td>Sunbeam Motors</td></tr><tr><td>1338</td><td>BR1888</td><td>Sunbeam Motors</td></tr><tr><td>1339</td><td>BR1889</td><td>Sunbeam Motors</td></tr><tr><td>1340</td><td>BR1892</td><td>Suzuki Motors</td></tr><tr><td>1341</td><td>BR1894</td><td>Suzuki Motors</td></tr><tr><td>1342</td><td>BR1895</td><td>Suzuki Motors</td></tr><tr><td>1343</td><td>BR1897</td><td>Suzuki Motors</td></tr><tr><td>1344</td><td>BR1901</td><td>Tata Motors</td></tr><tr><td>1345</td><td>BR1902</td><td>Tata Motors</td></tr><tr><td>1346</td><td>BR1903</td><td>Tata Motors</td></tr><tr><td>1347</td><td>BR1905</td><td>Tata Motors</td></tr><tr><td>1348</td><td>BR1908</td><td>Tata Motors</td></tr><tr><td>1349</td><td>BR1910</td><td>Tata Motors</td></tr><tr><td>1350</td><td>BR1911</td><td>Tatra Motors</td></tr><tr><td>1351</td><td>BR1913</td><td>Tatra Motors</td></tr><tr><td>1352</td><td>BR1914</td><td>Tatra Motors</td></tr><tr><td>1353</td><td>BR1915</td><td>Tatra Motors</td></tr><tr><td>1354</td><td>BR1917</td><td>Tatra Motors</td></tr><tr><td>1355</td><td>BR1918</td><td>Tatra Motors</td></tr><tr><td>1356</td><td>BR1919</td><td>Tatra Motors</td></tr><tr><td>1357</td><td>BR1920</td><td>Tatra Motors</td></tr><tr><td>1358</td><td>BR1922</td><td>Tazzari Motors</td></tr><tr><td>1359</td><td>BR1923</td><td>Tazzari Motors</td></tr><tr><td>1360</td><td>BR1924</td><td>Tazzari Motors</td></tr><tr><td>1361</td><td>BR1925</td><td>Tazzari Motors</td></tr><tr><td>1362</td><td>BR1927</td><td>Tazzari Motors</td></tr><tr><td>1363</td><td>BR1928</td><td>Tazzari Motors</td></tr><tr><td>1364</td><td>BR1929</td><td>Tazzari Motors</td></tr><tr><td>1365</td><td>BR1930</td><td>Tazzari Motors</td></tr><tr><td>1366</td><td>BR1931</td><td>Tesla Motors</td></tr><tr><td>1367</td><td>BR1932</td><td>Tesla Motors</td></tr><tr><td>1368</td><td>BR1933</td><td>Tesla Motors</td></tr><tr><td>1369</td><td>BR1934</td><td>Tesla Motors</td></tr><tr><td>1370</td><td>BR1935</td><td>Tesla Motors</td></tr><tr><td>1371</td><td>BR1937</td><td>Tesla Motors</td></tr><tr><td>1372</td><td>BR1938</td><td>Tesla Motors</td></tr><tr><td>1373</td><td>BR1939</td><td>Tesla Motors</td></tr><tr><td>1374</td><td>BR1940</td><td>Tesla Motors</td></tr><tr><td>1375</td><td>BR1941</td><td>Tornado Motors</td></tr><tr><td>1376</td><td>BR1943</td><td>Tornado Motors</td></tr><tr><td>1377</td><td>BR1944</td><td>Tornado Motors</td></tr><tr><td>1378</td><td>BR1945</td><td>Tornado Motors</td></tr><tr><td>1379</td><td>BR1947</td><td>Tornado Motors</td></tr><tr><td>1380</td><td>BR1948</td><td>Tornado Motors</td></tr><tr><td>1381</td><td>BR1949</td><td>Tornado Motors</td></tr><tr><td>1382</td><td>BR1951</td><td>Toyota Motors</td></tr><tr><td>1383</td><td>BR1952</td><td>Toyota Motors</td></tr><tr><td>1384</td><td>BR1954</td><td>Toyota Motors</td></tr><tr><td>1385</td><td>BR1955</td><td>Toyota Motors</td></tr><tr><td>1386</td><td>BR1957</td><td>Toyota Motors</td></tr><tr><td>1387</td><td>BR1958</td><td>Toyota Motors</td></tr><tr><td>1388</td><td>BR1959</td><td>Toyota Motors</td></tr><tr><td>1389</td><td>BR1960</td><td>Toyota Motors</td></tr><tr><td>1390</td><td>BR1962</td><td>Toyota India Motors</td></tr><tr><td>1391</td><td>BR1963</td><td>Toyota India Motors</td></tr><tr><td>1392</td><td>BR1964</td><td>Toyota India Motors</td></tr><tr><td>1393</td><td>BR1965</td><td>Toyota India Motors</td></tr><tr><td>1394</td><td>BR1967</td><td>Toyota India Motors</td></tr><tr><td>1395</td><td>BR1968</td><td>Toyota India Motors</td></tr><tr><td>1396</td><td>BR1969</td><td>Toyota India Motors</td></tr><tr><td>1397</td><td>BR1971</td><td>Turner Motors</td></tr><tr><td>1398</td><td>BR1972</td><td>Turner Motors</td></tr><tr><td>1399</td><td>BR1974</td><td>Turner Motors</td></tr><tr><td>1400</td><td>BR1975</td><td>Turner Motors</td></tr><tr><td>1401</td><td>BR1977</td><td>Turner Motors</td></tr><tr><td>1402</td><td>BR1978</td><td>Turner Motors</td></tr><tr><td>1403</td><td>BR1980</td><td>Turner Motors</td></tr><tr><td>1404</td><td>BR1984</td><td>TVR Motors</td></tr><tr><td>1405</td><td>BR1985</td><td>TVR Motors</td></tr><tr><td>1406</td><td>BR1987</td><td>TVR Motors</td></tr><tr><td>1407</td><td>BR1988</td><td>TVR Motors</td></tr><tr><td>1408</td><td>BR1989</td><td>TVR Motors</td></tr><tr><td>1409</td><td>BR1990</td><td>TVR Motors</td></tr><tr><td>1410</td><td>BR1991</td><td>UAZ Motors</td></tr><tr><td>1411</td><td>BR1993</td><td>UAZ Motors</td></tr><tr><td>1412</td><td>BR1994</td><td>UAZ Motors</td></tr><tr><td>1413</td><td>BR1998</td><td>UAZ Motors</td></tr><tr><td>1414</td><td>BR1999</td><td>UAZ Motors</td></tr><tr><td>1415</td><td>BR2000</td><td>UAZ Motors</td></tr><tr><td>1416</td><td>BR2004</td><td>Vauxhall Motors</td></tr><tr><td>1417</td><td>BR2005</td><td>Vauxhall Motors</td></tr><tr><td>1418</td><td>BR2007</td><td>Vauxhall Motors</td></tr><tr><td>1419</td><td>BR2008</td><td>Vauxhall Motors</td></tr><tr><td>1420</td><td>BR2009</td><td>Vauxhall Motors</td></tr><tr><td>1421</td><td>BR2011</td><td>Venturi Motors</td></tr><tr><td>1422</td><td>BR2017</td><td>Venturi Motors</td></tr><tr><td>1423</td><td>BR2018</td><td>Venturi Motors</td></tr><tr><td>1424</td><td>BR2019</td><td>Venturi Motors</td></tr><tr><td>1425</td><td>BR2021</td><td>Volkswagen Motors</td></tr><tr><td>1426</td><td>BR2022</td><td>Volkswagen Motors</td></tr><tr><td>1427</td><td>BR2023</td><td>Volkswagen Motors</td></tr><tr><td>1428</td><td>BR2024</td><td>Volkswagen Motors</td></tr><tr><td>1429</td><td>BR2025</td><td>Volkswagen Motors</td></tr><tr><td>1430</td><td>BR2027</td><td>Volkswagen Motors</td></tr><tr><td>1431</td><td>BR2028</td><td>Volkswagen Motors</td></tr><tr><td>1432</td><td>BR2029</td><td>Volkswagen Motors</td></tr><tr><td>1433</td><td>BR2030</td><td>Volkswagen Motors</td></tr><tr><td>1434</td><td>BR2031</td><td>Volkswagen do Brasil Motors</td></tr><tr><td>1435</td><td>BR2032</td><td>Volkswagen do Brasil Motors</td></tr><tr><td>1436</td><td>BR2033</td><td>Volkswagen do Brasil Motors</td></tr><tr><td>1437</td><td>BR2034</td><td>Volkswagen do Brasil Motors</td></tr><tr><td>1438</td><td>BR2035</td><td>Volkswagen do Brasil Motors</td></tr><tr><td>1439</td><td>BR2037</td><td>Volkswagen do Brasil Motors</td></tr><tr><td>1440</td><td>BR2039</td><td>Volkswagen do Brasil Motors</td></tr><tr><td>1441</td><td>BR2040</td><td>Volkswagen do Brasil Motors</td></tr><tr><td>1442</td><td>BR2041</td><td>Volkswagen South Africa Motors</td></tr><tr><td>1443</td><td>BR2042</td><td>Volkswagen South Africa Motors</td></tr><tr><td>1444</td><td>BR2045</td><td>Volkswagen South Africa Motors</td></tr><tr><td>1445</td><td>BR2046</td><td>Chrysler Motors</td></tr><tr><td>1446</td><td>BR2047</td><td>Volkswagen South Africa Motors</td></tr><tr><td>1447</td><td>BR2048</td><td>Volkswagen South Africa Motors</td></tr><tr><td>1448</td><td>BR2049</td><td>Volkswagen South Africa Motors</td></tr><tr><td>1449</td><td>BR2050</td><td>Volkswagen South Africa Motors</td></tr><tr><td>1450</td><td>BR2052</td><td>Volvo Motors</td></tr><tr><td>1451</td><td>BR2053</td><td>Volvo Motors</td></tr><tr><td>1452</td><td>BR2054</td><td>Volvo Motors</td></tr><tr><td>1453</td><td>BR2057</td><td>Volvo Motors</td></tr><tr><td>1454</td><td>BR2058</td><td>Volvo Motors</td></tr><tr><td>1455</td><td>BR2059</td><td>Volvo Motors</td></tr><tr><td>1456</td><td>BR2060</td><td>Volvo Motors</td></tr><tr><td>1457</td><td>BR2061</td><td>Westfield Motors</td></tr><tr><td>1458</td><td>BR2062</td><td>Westfield Motors</td></tr><tr><td>1459</td><td>BR2063</td><td>Westfield Motors</td></tr><tr><td>1460</td><td>BR2064</td><td>Westfield Motors</td></tr><tr><td>1461</td><td>BR2065</td><td>Westfield Motors</td></tr><tr><td>1462</td><td>BR2067</td><td>Westfield Motors</td></tr><tr><td>1463</td><td>BR2068</td><td>Westfield Motors</td></tr><tr><td>1464</td><td>BR2070</td><td>Westfield Motors</td></tr><tr><td>1465</td><td>BR2071</td><td>Wiesmann Motors</td></tr><tr><td>1466</td><td>BR2072</td><td>Wiesmann Motors</td></tr><tr><td>1467</td><td>BR2075</td><td>Wiesmann Motors</td></tr><tr><td>1468</td><td>BR2077</td><td>Wiesmann Motors</td></tr><tr><td>1469</td><td>BR2079</td><td>Wiesmann Motors</td></tr><tr><td>1470</td><td>BR2080</td><td>Wiesmann Motors</td></tr><tr><td>1471</td><td>BR2082</td><td>Zastava Motors</td></tr><tr><td>1472</td><td>BR2083</td><td>Zastava Motors</td></tr><tr><td>1473</td><td>BR2084</td><td>Zastava Motors</td></tr><tr><td>1474</td><td>BR2085</td><td>Zastava Motors</td></tr><tr><td>1475</td><td>BR2087</td><td>Zastava Motors</td></tr><tr><td>1476</td><td>BR2088</td><td>Zastava Motors</td></tr><tr><td>1477</td><td>BR2089</td><td>Zastava Motors</td></tr><tr><td>1478</td><td>BR2090</td><td>Zastava Motors</td></tr><tr><td>1479</td><td>BR2091</td><td>ZAZ Motors</td></tr><tr><td>1480</td><td>BR2095</td><td>ZAZ Motors</td></tr><tr><td>1481</td><td>BR2097</td><td>ZAZ Motors</td></tr><tr><td>1482</td><td>BR2099</td><td>ZAZ Motors</td></tr><tr><td>1483</td><td>BR2100</td><td>ZAZ Motors</td></tr><tr><td>1484</td><td>BR2101</td><td>ZIL Motors</td></tr><tr><td>1485</td><td>BR2103</td><td>ZIL Motors</td></tr><tr><td>1486</td><td>BR2104</td><td>ZIL Motors</td></tr><tr><td>1487</td><td>BR2105</td><td>ZIL Motors</td></tr><tr><td>1488</td><td>BR2106</td><td>Chrysler Europe Motors</td></tr><tr><td>1489</td><td>BR2107</td><td>ZIL Motors</td></tr><tr><td>1490</td><td>BR2108</td><td>ZIL Motors</td></tr><tr><td>1491</td><td>BR2110</td><td>ZIL Motors</td></tr><tr><td>1492</td><td>BR2113</td><td>Audi Motors</td></tr><tr><td>1493</td><td>BR2114</td><td>Audi Motors</td></tr><tr><td>1494</td><td>BR2115</td><td>Audi Motors</td></tr><tr><td>1495</td><td>BR2117</td><td>Audi Motors</td></tr><tr><td>1496</td><td>BR2118</td><td>Audi Motors</td></tr><tr><td>1497</td><td>BR2119</td><td>Audi Motors</td></tr><tr><td>1498</td><td>BR2121</td><td>DKW Motors</td></tr><tr><td>1499</td><td>BR2122</td><td>DKW Motors</td></tr><tr><td>1500</td><td>BR2123</td><td>DKW Motors</td></tr><tr><td>1501</td><td>BR2124</td><td>DKW Motors</td></tr><tr><td>1502</td><td>BR2125</td><td>DKW Motors</td></tr><tr><td>1503</td><td>BR2128</td><td>DKW Motors</td></tr><tr><td>1504</td><td>BR2129</td><td>DKW Motors</td></tr><tr><td>1505</td><td>BR2130</td><td>DKW Motors</td></tr><tr><td>1506</td><td>BR2131</td><td>Horch Motors</td></tr><tr><td>1507</td><td>BR2132</td><td>Horch Motors</td></tr><tr><td>1508</td><td>BR2133</td><td>Horch Motors</td></tr><tr><td>1509</td><td>BR2134</td><td>Horch Motors</td></tr><tr><td>1510</td><td>BR2135</td><td>Horch Motors</td></tr><tr><td>1511</td><td>BR2137</td><td>Horch Motors</td></tr><tr><td>1512</td><td>BR2138</td><td>Horch Motors</td></tr><tr><td>1513</td><td>BR2139</td><td>Horch Motors</td></tr><tr><td>1514</td><td>BR2140</td><td>Horch Motors</td></tr><tr><td>1515</td><td>BR2142</td><td>Wanderer Motors</td></tr><tr><td>1516</td><td>BR2143</td><td>Wanderer Motors</td></tr><tr><td>1517</td><td>BR2144</td><td>Wanderer Motors</td></tr><tr><td>1518</td><td>BR2147</td><td>Wanderer Motors</td></tr><tr><td>1519</td><td>BR2148</td><td>Wanderer Motors</td></tr><tr><td>1520</td><td>BR2149</td><td>Wanderer Motors</td></tr><tr><td>1521</td><td>BR2150</td><td>Wanderer Motors</td></tr><tr><td>1522</td><td>BR2151</td><td>Maybach  Motors</td></tr><tr><td>1523</td><td>BR2152</td><td>Maybach  Motors</td></tr><tr><td>1524</td><td>BR2153</td><td>Maybach  Motors</td></tr><tr><td>1525</td><td>BR2154</td><td>Maybach  Motors</td></tr><tr><td>1526</td><td>BR2155</td><td>Maybach  Motors</td></tr><tr><td>1527</td><td>BR2157</td><td>Maybach  Motors</td></tr><tr><td>1528</td><td>BR2158</td><td>Maybach  Motors</td></tr><tr><td>1529</td><td>BR2159</td><td>Maybach  Motors</td></tr><tr><td>1530</td><td>BR2160</td><td>Maybach  Motors</td></tr><tr><td>1531</td><td>BR2161</td><td>Izh  Motors</td></tr><tr><td>1532</td><td>BR2163</td><td>Izh  Motors</td></tr><tr><td>1533</td><td>BR2164</td><td>Izh  Motors</td></tr><tr><td>1534</td><td>BR2165</td><td>Izh  Motors</td></tr><tr><td>1535</td><td>BR2166</td><td>Citroën Motors</td></tr><tr><td>1536</td><td>BR2167</td><td>Izh  Motors</td></tr><tr><td>1537</td><td>BR2168</td><td>Izh  Motors</td></tr><tr><td>1538</td><td>BR2169</td><td>Izh  Motors</td></tr><tr><td>1539</td><td>BR2170</td><td>Izh  Motors</td></tr><tr><td>1540</td><td>BR2171</td><td>Lagonda  Motors</td></tr><tr><td>1541</td><td>BR2172</td><td>Lagonda  Motors</td></tr><tr><td>1542</td><td>BR2173</td><td>Lagonda  Motors</td></tr><tr><td>1543</td><td>BR2174</td><td>Lagonda  Motors</td></tr><tr><td>1544</td><td>BR2175</td><td>Lagonda  Motors</td></tr><tr><td>1545</td><td>BR2177</td><td>Lagonda  Motors</td></tr><tr><td>1546</td><td>BR2178</td><td>Lagonda  Motors</td></tr><tr><td>1547</td><td>BR2179</td><td>Lagonda  Motors</td></tr><tr><td>1548</td><td>BR2180</td><td>Lagonda  Motors</td></tr><tr><td>1549</td><td>BR2182</td><td>MG  Motors</td></tr><tr><td>1550</td><td>BR2183</td><td>MG  Motors</td></tr><tr><td>1551</td><td>BR2184</td><td>MG  Motors</td></tr><tr><td>1552</td><td>BR2185</td><td>MG  Motors</td></tr><tr><td>1553</td><td>BR2187</td><td>MG  Motors</td></tr><tr><td>1554</td><td>BR2188</td><td>MG  Motors</td></tr><tr><td>1555</td><td>BR2190</td><td>MG  Motors</td></tr><tr><td>1556</td><td>BR2191</td><td>Morris  Motors</td></tr><tr><td>1557</td><td>BR2192</td><td>Morris  Motors</td></tr><tr><td>1558</td><td>BR2195</td><td>Morris  Motors</td></tr><tr><td>1559</td><td>BR2197</td><td>Morris  Motors</td></tr><tr><td>1560</td><td>BR2198</td><td>Morris  Motors</td></tr><tr><td>1561</td><td>BR2199</td><td>Morris  Motors</td></tr><tr><td>1562</td><td>BR2200</td><td>Morris  Motors</td></tr><tr><td>1563</td><td>BR2201</td><td>Austin  Motors</td></tr><tr><td>1564</td><td>BR2202</td><td>Austin  Motors</td></tr><tr><td>1565</td><td>BR2204</td><td>Austin  Motors</td></tr><tr><td>1566</td><td>BR2207</td><td>Austin  Motors</td></tr><tr><td>1567</td><td>BR2208</td><td>Austin  Motors</td></tr><tr><td>1568</td><td>BR2210</td><td>Austin  Motors</td></tr><tr><td>1569</td><td>BR2211</td><td>Riley  Motors</td></tr><tr><td>1570</td><td>BR2213</td><td>Riley  Motors</td></tr><tr><td>1571</td><td>BR2214</td><td>Riley  Motors</td></tr><tr><td>1572</td><td>BR2217</td><td>Riley  Motors</td></tr><tr><td>1573</td><td>BR2220</td><td>Riley  Motors</td></tr><tr><td>1574</td><td>BR2221</td><td>Wolseley  Motors</td></tr><tr><td>1575</td><td>BR2222</td><td>Wolseley  Motors</td></tr><tr><td>1576</td><td>BR2223</td><td>Wolseley  Motors</td></tr><tr><td>1577</td><td>BR2225</td><td>Wolseley  Motors</td></tr><tr><td>1578</td><td>BR2226</td><td>Cizeta-Moroder Motors</td></tr><tr><td>1579</td><td>BR2229</td><td>Wolseley  Motors</td></tr><tr><td>1580</td><td>BR2230</td><td>Wolseley  Motors</td></tr><tr><td>1581</td><td>BR2231</td><td>Standard  Motors</td></tr><tr><td>1582</td><td>BR2232</td><td>Standard  Motors</td></tr><tr><td>1583</td><td>BR2233</td><td>Standard  Motors</td></tr><tr><td>1584</td><td>BR2234</td><td>Standard  Motors</td></tr><tr><td>1585</td><td>BR2237</td><td>Standard  Motors</td></tr><tr><td>1586</td><td>BR2239</td><td>Standard  Motors</td></tr><tr><td>1587</td><td>BR2240</td><td>Standard  Motors</td></tr><tr><td>1588</td><td>BR2241</td><td>Talbot  Motors</td></tr><tr><td>1589</td><td>BR2243</td><td>Talbot  Motors</td></tr><tr><td>1590</td><td>BR2244</td><td>Talbot  Motors</td></tr><tr><td>1591</td><td>BR2245</td><td>Talbot  Motors</td></tr><tr><td>1592</td><td>BR2247</td><td>Talbot  Motors</td></tr><tr><td>1593</td><td>BR2248</td><td>Talbot  Motors</td></tr><tr><td>1594</td><td>BR2250</td><td>Talbot  Motors</td></tr><tr><td>1595</td><td>BR2251</td><td>Das Motors</td></tr><tr><td>1596</td><td>BR2252</td><td>Das Motors</td></tr><tr><td>1597</td><td>BR2253</td><td>Das Motors</td></tr><tr><td>1598</td><td>BR2258</td><td>Das Motors</td></tr><tr><td>1599</td><td>BR2259</td><td>Das Motors</td></tr><tr><td>1600</td><td>BR2260</td><td>Das Motors</td></tr><tr><td>1601</td><td>BR2262</td><td>Ramani Motors</td></tr><tr><td>1602</td><td>BR2263</td><td>Ramani Motors</td></tr><tr><td>1603</td><td>BR2264</td><td>Ramani Motors</td></tr><tr><td>1604</td><td>BR2267</td><td>Ramani Motors</td></tr><tr><td>1605</td><td>BR2270</td><td>Ramani Motors</td></tr><tr><td>1606</td><td>BR2271</td><td>Deccan Motors</td></tr><tr><td>1607</td><td>BR2272</td><td>Deccan Motors</td></tr><tr><td>1608</td><td>BR2273</td><td>Deccan Motors</td></tr><tr><td>1609</td><td>BR2275</td><td>Deccan Motors</td></tr><tr><td>1610</td><td>BR2277</td><td>Deccan Motors</td></tr><tr><td>1611</td><td>BR2278</td><td>Deccan Motors</td></tr><tr><td>1612</td><td>BR2280</td><td>Deccan Motors</td></tr><tr><td>1613</td><td>BR2281</td><td>Herald Motors</td></tr><tr><td>1614</td><td>BR2282</td><td>Herald Motors</td></tr><tr><td>1615</td><td>BR2283</td><td>Herald Motors</td></tr><tr><td>1616</td><td>BR2284</td><td>Herald Motors</td></tr><tr><td>1617</td><td>BR2285</td><td>Herald Motors</td></tr><tr><td>1618</td><td>BR2286</td><td>Dacia Motors</td></tr><tr><td>1619</td><td>BR2287</td><td>Herald Motors</td></tr><tr><td>1620</td><td>BR2288</td><td>Herald Motors</td></tr><tr><td>1621</td><td>BR2289</td><td>Herald Motors</td></tr><tr><td>1622</td><td>BR2290</td><td>Herald Motors</td></tr><tr><td>1623</td><td>BR2291</td><td>Zion Automobils</td></tr><tr><td>1624</td><td>BR2293</td><td>Zion Automobils</td></tr><tr><td>1625</td><td>BR2295</td><td>Zion Automobils</td></tr><tr><td>1626</td><td>BR2297</td><td>Zion Automobils</td></tr><tr><td>1627</td><td>BR2300</td><td>Zion Automobils</td></tr><tr><td>1628</td><td>BR2301</td><td>Atlantic Motor Company</td></tr><tr><td>1629</td><td>BR2302</td><td>Atlantic Motor Company</td></tr><tr><td>1630</td><td>BR2303</td><td>Atlantic Motor Company</td></tr><tr><td>1631</td><td>BR2305</td><td>Atlantic Motor Company</td></tr><tr><td>1632</td><td>BR2307</td><td>Atlantic Motor Company</td></tr><tr><td>1633</td><td>BR2308</td><td>Atlantic Motor Company</td></tr><tr><td>1634</td><td>BR2309</td><td>Atlantic Motor Company</td></tr><tr><td>1635</td><td>BR2310</td><td>Atlantic Motor Company</td></tr><tr><td>1636</td><td>BR2312</td><td>2008 NRHP-listed</td></tr><tr><td>1637</td><td>BR2313</td><td>2008 NRHP-listed</td></tr><tr><td>1638</td><td>BR2315</td><td>2008 NRHP-listed</td></tr><tr><td>1639</td><td>BR2317</td><td>2008 NRHP-listed</td></tr><tr><td>1640</td><td>BR2318</td><td>2008 NRHP-listed</td></tr><tr><td>1641</td><td>BR2319</td><td>2008 NRHP-listed</td></tr><tr><td>1642</td><td>BR2320</td><td>2008 NRHP-listed</td></tr><tr><td>1643</td><td>BR2321</td><td>Blankinship Motor Company Building</td></tr><tr><td>1644</td><td>BR2322</td><td>Blankinship Motor Company Building</td></tr><tr><td>1645</td><td>BR2323</td><td>Blankinship Motor Company Building</td></tr><tr><td>1646</td><td>BR2324</td><td>Blankinship Motor Company Building</td></tr><tr><td>1647</td><td>BR2327</td><td>Blankinship Motor Company Building</td></tr><tr><td>1648</td><td>BR2329</td><td>Blankinship Motor Company Building</td></tr><tr><td>1649</td><td>BR2330</td><td>Blankinship Motor Company Building</td></tr><tr><td>1650</td><td>BR2331</td><td>Bohn Motor Company Automobile Dealership</td></tr><tr><td>1651</td><td>BR2332</td><td>Bohn Motor Company Automobile Dealership</td></tr><tr><td>1652</td><td>BR2334</td><td>Bohn Motor Company Automobile Dealership</td></tr><tr><td>1653</td><td>BR2335</td><td>Bohn Motor Company Automobile Dealership</td></tr><tr><td>1654</td><td>BR2337</td><td>Bohn Motor Company Automobile Dealership</td></tr><tr><td>1655</td><td>BR2338</td><td>Bohn Motor Company Automobile Dealership</td></tr><tr><td>1656</td><td>BR2339</td><td>Bohn Motor Company Automobile Dealership</td></tr><tr><td>1657</td><td>BR2340</td><td>Bohn Motor Company Automobile Dealership</td></tr><tr><td>1658</td><td>BR2341</td><td>Buick Automobile Company Building</td></tr><tr><td>1659</td><td>BR2342</td><td>Buick Automobile Company Building</td></tr><tr><td>1660</td><td>BR2344</td><td>Buick Automobile Company Building</td></tr><tr><td>1661</td><td>BR2345</td><td>Buick Automobile Company Building</td></tr><tr><td>1662</td><td>BR2346</td><td>Daewoo, Saehan, Chevrolet Korea Motors</td></tr><tr><td>1663</td><td>BR2347</td><td>Buick Automobile Company Building</td></tr><tr><td>1664</td><td>BR2348</td><td>Buick Automobile Company Building</td></tr><tr><td>1665</td><td>BR2350</td><td>Buick Automobile Company Building</td></tr><tr><td>1666</td><td>BR2351</td><td>Cadillac Automobile Company Building</td></tr><tr><td>1667</td><td>BR2352</td><td>Cadillac Automobile Company Building</td></tr><tr><td>1668</td><td>BR2353</td><td>Cadillac Automobile Company Building</td></tr><tr><td>1669</td><td>BR2355</td><td>Cadillac Automobile Company Building</td></tr><tr><td>1670</td><td>BR2357</td><td>Cadillac Automobile Company Building</td></tr><tr><td>1671</td><td>BR2358</td><td>Cadillac Automobile Company Building</td></tr><tr><td>1672</td><td>BR2359</td><td>Cadillac Automobile Company Building</td></tr><tr><td>1673</td><td>BR2360</td><td>Cadillac Automobile Company Building</td></tr><tr><td>1674</td><td>BR2361</td><td>Casa de cadillac</td></tr><tr><td>1675</td><td>BR2362</td><td>Casa de cadillac</td></tr><tr><td>1676</td><td>BR2367</td><td>Casa de cadillac</td></tr><tr><td>1677</td><td>BR2368</td><td>Casa de cadillac</td></tr><tr><td>1678</td><td>BR2369</td><td>Casa de cadillac</td></tr><tr><td>1679</td><td>BR2370</td><td>Casa de cadillac</td></tr><tr><td>1680</td><td>BR2371</td><td>Cass Motor Sales</td></tr><tr><td>1681</td><td>BR2372</td><td>Cass Motor Sales</td></tr><tr><td>1682</td><td>BR2374</td><td>Cass Motor Sales</td></tr><tr><td>1683</td><td>BR2375</td><td>Cass Motor Sales</td></tr><tr><td>1684</td><td>BR2377</td><td>Cass Motor Sales</td></tr><tr><td>1685</td><td>BR2378</td><td>Cass Motor Sales</td></tr><tr><td>1686</td><td>BR2380</td><td>Cass Motor Sales</td></tr><tr><td>1687</td><td>BR2382</td><td>Claremore Auto Dealership</td></tr><tr><td>1688</td><td>BR2383</td><td>Claremore Auto Dealership</td></tr><tr><td>1689</td><td>BR2384</td><td>Claremore Auto Dealership</td></tr><tr><td>1690</td><td>BR2385</td><td>Claremore Auto Dealership</td></tr><tr><td>1691</td><td>BR2388</td><td>Claremore Auto Dealership</td></tr><tr><td>1692</td><td>BR2389</td><td>Claremore Auto Dealership</td></tr><tr><td>1693</td><td>BR2391</td><td>Clemens Automobile Company Building</td></tr><tr><td>1694</td><td>BR2392</td><td>Clemens Automobile Company Building</td></tr><tr><td>1695</td><td>BR2393</td><td>Clemens Automobile Company Building</td></tr><tr><td>1696</td><td>BR2394</td><td>Clemens Automobile Company Building</td></tr><tr><td>1697</td><td>BR2395</td><td>Clemens Automobile Company Building</td></tr><tr><td>1698</td><td>BR2399</td><td>Clemens Automobile Company Building</td></tr><tr><td>1699</td><td>BR2401</td><td>Colman Automotive Building</td></tr><tr><td>1700</td><td>BR2402</td><td>Colman Automotive Building</td></tr><tr><td>1701</td><td>BR2404</td><td>Colman Automotive Building</td></tr><tr><td>1702</td><td>BR2405</td><td>Colman Automotive Building</td></tr><tr><td>1703</td><td>BR2406</td><td>DAF Motors</td></tr><tr><td>1704</td><td>BR2407</td><td>Colman Automotive Building</td></tr><tr><td>1705</td><td>BR2409</td><td>Colman Automotive Building</td></tr><tr><td>1706</td><td>BR2410</td><td>Colman Automotive Building</td></tr><tr><td>1707</td><td>BR2411</td><td>H Street Playhouse</td></tr><tr><td>1708</td><td>BR2412</td><td>H Street Playhouse</td></tr><tr><td>1709</td><td>BR2414</td><td>H Street Playhouse</td></tr><tr><td>1710</td><td>BR2415</td><td>H Street Playhouse</td></tr><tr><td>1711</td><td>BR2417</td><td>H Street Playhouse</td></tr><tr><td>1712</td><td>BR2419</td><td>H Street Playhouse</td></tr><tr><td>1713</td><td>BR2420</td><td>H Street Playhouse</td></tr><tr><td>1714</td><td>BR2421</td><td>Howard Motor Company Building</td></tr><tr><td>1715</td><td>BR2423</td><td>Howard Motor Company Building</td></tr><tr><td>1716</td><td>BR2427</td><td>Howard Motor Company Building</td></tr><tr><td>1717</td><td>BR2428</td><td>Howard Motor Company Building</td></tr><tr><td>1718</td><td>BR2429</td><td>Howard Motor Company Building</td></tr><tr><td>1719</td><td>BR2431</td><td>Hupmobile Building</td></tr><tr><td>1720</td><td>BR2433</td><td>Hupmobile Building</td></tr><tr><td>1721</td><td>BR2437</td><td>Hupmobile Building</td></tr><tr><td>1722</td><td>BR2438</td><td>Hupmobile Building</td></tr><tr><td>1723</td><td>BR2439</td><td>Hupmobile Building</td></tr><tr><td>1724</td><td>BR2440</td><td>Hupmobile Building</td></tr><tr><td>1725</td><td>BR2441</td><td>Jennings Ford Automobile Dealership</td></tr><tr><td>1726</td><td>BR2443</td><td>Jennings Ford Automobile Dealership</td></tr><tr><td>1727</td><td>BR2444</td><td>Jennings Ford Automobile Dealership</td></tr><tr><td>1728</td><td>BR2445</td><td>Jennings Ford Automobile Dealership</td></tr><tr><td>1729</td><td>BR2447</td><td>Jennings Ford Automobile Dealership</td></tr><tr><td>1730</td><td>BR2448</td><td>Jennings Ford Automobile Dealership</td></tr><tr><td>1731</td><td>BR2449</td><td>Jennings Ford Automobile Dealership</td></tr><tr><td>1732</td><td>BR2450</td><td>Jennings Ford Automobile Dealership</td></tr><tr><td>1733</td><td>BR2451</td><td>Jones Motor Company</td></tr><tr><td>1734</td><td>BR2452</td><td>Jones Motor Company</td></tr><tr><td>1735</td><td>BR2454</td><td>Jones Motor Company</td></tr><tr><td>1736</td><td>BR2455</td><td>Jones Motor Company</td></tr><tr><td>1737</td><td>BR2457</td><td>Jones Motor Company</td></tr><tr><td>1738</td><td>BR2460</td><td>Jones Motor Company</td></tr><tr><td>1739</td><td>BR2462</td><td>Kindel Building</td></tr><tr><td>1740</td><td>BR2463</td><td>Kindel Building</td></tr><tr><td>1741</td><td>BR2464</td><td>Kindel Building</td></tr><tr><td>1742</td><td>BR2467</td><td>Kindel Building</td></tr><tr><td>1743</td><td>BR2468</td><td>Kindel Building</td></tr><tr><td>1744</td><td>BR2469</td><td>Kindel Building</td></tr><tr><td>1745</td><td>BR2470</td><td>Kindel Building</td></tr><tr><td>1746</td><td>BR2526</td><td>Daimler Motors</td></tr><tr><td>1747</td><td>BR2586</td><td>Datsun Motors</td></tr><tr><td>1748</td><td>BR2646</td><td>Delahaye Motors</td></tr><tr><td>1749</td><td>BR2706</td><td>DeLorean Motors</td></tr><tr><td>1750</td><td>BR2766</td><td>DeSoto Motors</td></tr><tr><td>1751</td><td>BR2886</td><td>Dodge Motors</td></tr><tr><td>1752</td><td>BR2946</td><td>Donkervoort Motors</td></tr><tr><td>1753</td><td>BR3006</td><td>Edsel Motors</td></tr><tr><td>1754</td><td>BR3066</td><td>e.GO Mobile Motors</td></tr><tr><td>1755</td><td>BR3186</td><td>Elva Motors</td></tr><tr><td>1756</td><td>BR3246</td><td>Facel Vega Motors</td></tr><tr><td>1757</td><td>BR3306</td><td>Ferrari Motors</td></tr><tr><td>1758</td><td>BR3426</td><td>Fiat do Brasil Motors</td></tr><tr><td>1759</td><td>BR3546</td><td>Fisker, Karma Motors</td></tr><tr><td>1760</td><td>BR3606</td><td>Ford America Motors</td></tr><tr><td>1761</td><td>BR3666</td><td>Ford Australia Motors</td></tr><tr><td>1762</td><td>BR3726</td><td>Ford do Brasil Motors</td></tr><tr><td>1763</td><td>BR3786</td><td>Ford Europe Motors</td></tr><tr><td>1764</td><td>BR3906</td><td>Freightliner Motors</td></tr><tr><td>1765</td><td>BR3966</td><td>FSO Motors</td></tr><tr><td>1766</td><td>BR4026</td><td>GAZ Motors</td></tr><tr><td>1767</td><td>BR4086</td><td>Geo Motors</td></tr><tr><td>1768</td><td>BR4146</td><td>Gilbern Motors</td></tr><tr><td>1769</td><td>BR4266</td><td>Glas Motors</td></tr><tr><td>1770</td><td>BR4386</td><td>GTA Spano Motors</td></tr><tr><td>1771</td><td>BR4446</td><td>Gumpert Motors</td></tr><tr><td>1772</td><td>BR4566</td><td>Heinkel Motors</td></tr><tr><td>1773</td><td>BR4626</td><td>Hennessey Motors</td></tr><tr><td>1774</td><td>BR4686</td><td>Hillman Motors</td></tr><tr><td>1775</td><td>BR4746</td><td>Hindustan Motors</td></tr><tr><td>1776</td><td>BR4806</td><td>Holden Motors</td></tr><tr><td>1777</td><td>BR4926</td><td>Honda India Motors</td></tr><tr><td>1778</td><td>BR4986</td><td>Hudson Motors</td></tr><tr><td>1779</td><td>BR5046</td><td>Humber Motors</td></tr><tr><td>1780</td><td>BR5106</td><td>Hummer Motors</td></tr><tr><td>1781</td><td>BR5226</td><td>IFA (including Trabant, Wartburg, Barkas) Motors</td></tr><tr><td>1782</td><td>BR5346</td><td>Innocenti Motors</td></tr><tr><td>1783</td><td>BR5406</td><td>Invicta Motors</td></tr><tr><td>1784</td><td>BR5466</td><td>Isdera Motors</td></tr><tr><td>1785</td><td>BR5586</td><td>Isotta Fraschini Motors</td></tr><tr><td>1786</td><td>BR5646</td><td>Isuzu Motors</td></tr><tr><td>1787</td><td>BR5706</td><td>Iveco Motors</td></tr><tr><td>1788</td><td>BR5826</td><td>Jeep Motors</td></tr><tr><td>1789</td><td>BR5886</td><td>Jensen Motors</td></tr><tr><td>1790</td><td>BR5946</td><td>JPX Motors</td></tr><tr><td>1791</td><td>BR6006</td><td>Kia Motors</td></tr><tr><td>1792</td><td>BR6066</td><td>Koenigsegg Motors</td></tr><tr><td>1793</td><td>BR6126</td><td>KTM Motors</td></tr><tr><td>1794</td><td>BR6186</td><td>Lada Motors</td></tr><tr><td>1795</td><td>BR6246</td><td>Lamborghini Motors</td></tr><tr><td>1796</td><td>BR6306</td><td>Lancia Motors</td></tr><tr><td>1797</td><td>BR6366</td><td>Land Rover Motors</td></tr><tr><td>1798</td><td>BR6426</td><td>Lexus Motors</td></tr><tr><td>1799</td><td>BR6486</td><td>Ligier Motors</td></tr><tr><td>1800</td><td>BR6546</td><td>Lincoln Motors</td></tr><tr><td>1801</td><td>BR6606</td><td>Lotus Motors</td></tr><tr><td>1802</td><td>BR6786</td><td>Lynx Motors</td></tr><tr><td>1803</td><td>BR6846</td><td>Mahindra Motors</td></tr><tr><td>1804</td><td>BR6966</td><td>Marlin Motors</td></tr><tr><td>1805</td><td>BR7026</td><td>Maruti Motors</td></tr><tr><td>1806</td><td>BR7146</td><td>Mastretta Motors</td></tr><tr><td>1807</td><td>BR7266</td><td>Mazda Motors</td></tr><tr><td>1808</td><td>BR7326</td><td>Mazzanti Motors</td></tr><tr><td>1809</td><td>BR7386</td><td>McLaren Motors</td></tr><tr><td>1810</td><td>BR7446</td><td>Mercedes-Benz (including Maybach) Motors</td></tr><tr><td>1811</td><td>BR7506</td><td>Mercury Motors</td></tr><tr><td>1812</td><td>BR7686</td><td>Mia Motors</td></tr><tr><td>1813</td><td>BR7746</td><td>Micro Motors</td></tr><tr><td>1814</td><td>BR7806</td><td>Mini Motors</td></tr><tr><td>1815</td><td>BR7866</td><td>Mitsubishi Motors</td></tr><tr><td>1816</td><td>BR7926</td><td>Monica Motors</td></tr><tr><td>1817</td><td>BR7986</td><td>Monteverdi Motors</td></tr><tr><td>1818</td><td>BR8046</td><td>Morgan Motors</td></tr><tr><td>1819</td><td>BR8106</td><td>Moskwitch Motors</td></tr><tr><td>1820</td><td>BR8226</td><td>Naza Motors</td></tr><tr><td>1821</td><td>BR8286</td><td>Nissan Motors</td></tr><tr><td>1822</td><td>BR8406</td><td>Noble Motors</td></tr><tr><td>1823</td><td>BR8466</td><td>NSU Motors</td></tr><tr><td>1824</td><td>BR8586</td><td>Oltcit Motors</td></tr><tr><td>1825</td><td>BR8646</td><td>Opel Motors</td></tr><tr><td>1826</td><td>BR8706</td><td>Packard Motors</td></tr><tr><td>1827</td><td>BR8766</td><td>Pagani Motors</td></tr><tr><td>1828</td><td>BR8826</td><td>Panhard Motors</td></tr><tr><td>1829</td><td>BR8886</td><td>Panoz Motors</td></tr><tr><td>1830</td><td>BR8946</td><td>Panther Motors</td></tr><tr><td>1831</td><td>BR9066</td><td>Perodua Motors</td></tr><tr><td>1832</td><td>BR9126</td><td>Peugeot Motors</td></tr><tr><td>1833</td><td>BR9186</td><td>PGO Motors</td></tr><tr><td>1834</td><td>BR9246</td><td>Piaggio Motors</td></tr><tr><td>1835</td><td>BR9306</td><td>Plymouth Motors</td></tr><tr><td>1836</td><td>BR9426</td><td>Pontiac, Asüna Motors</td></tr></tbody></table></div>"
      ]
     },
     "metadata": {
      "application/vnd.databricks.v1+output": {
       "addedWidgets": {},
       "aggData": [],
       "aggError": "",
       "aggOverflow": false,
       "aggSchema": [],
       "aggSeriesLimitReached": false,
       "aggType": "",
       "arguments": {},
       "columnCustomDisplayInfos": {},
       "data": [
        [
         1,
         "BR0001",
         "AC Cars Motors"
        ],
        [
         2,
         "BR0003",
         "AC Cars Motors"
        ],
        [
         3,
         "BR0004",
         "AC Cars Motors"
        ],
        [
         4,
         "BR0005",
         "AC Cars Motors"
        ],
        [
         5,
         "BR0006",
         "AC Cars Motors"
        ],
        [
         6,
         "BR0008",
         "AC Cars Motors"
        ],
        [
         7,
         "BR0009",
         "AC Cars Motors"
        ],
        [
         8,
         "BR0010",
         "AC Cars Motors"
        ],
        [
         9,
         "BR0011",
         "Acura Motors"
        ],
        [
         10,
         "BR0012",
         "Acura Motors"
        ],
        [
         11,
         "BR0013",
         "Acura Motors"
        ],
        [
         12,
         "BR0014",
         "Acura Motors"
        ],
        [
         13,
         "BR0015",
         "Acura Motors"
        ],
        [
         14,
         "BR0017",
         "Acura Motors"
        ],
        [
         15,
         "BR0018",
         "Acura Motors"
        ],
        [
         16,
         "BR0019",
         "Acura Motors"
        ],
        [
         17,
         "BR0020",
         "Acura Motors"
        ],
        [
         18,
         "BR0021",
         "Aixam-Mega (including Arola) Motors"
        ],
        [
         19,
         "BR0024",
         "Aixam-Mega (including Arola) Motors"
        ],
        [
         20,
         "BR0025",
         "Aixam-Mega (including Arola) Motors"
        ],
        [
         21,
         "BR0027",
         "Aixam-Mega (including Arola) Motors"
        ],
        [
         22,
         "BR0028",
         "Aixam-Mega (including Arola) Motors"
        ],
        [
         23,
         "BR0029",
         "Aixam-Mega (including Arola) Motors"
        ],
        [
         24,
         "BR0031",
         "Alfa Romeo Motors"
        ],
        [
         25,
         "BR0032",
         "Alfa Romeo Motors"
        ],
        [
         26,
         "BR0033",
         "Alfa Romeo Motors"
        ],
        [
         27,
         "BR0035",
         "Alfa Romeo Motors"
        ],
        [
         28,
         "BR0037",
         "Alfa Romeo Motors"
        ],
        [
         29,
         "BR0038",
         "Alfa Romeo Motors"
        ],
        [
         30,
         "BR0040",
         "Alfa Romeo Motors"
        ],
        [
         31,
         "BR0041",
         "Alpine Motors"
        ],
        [
         32,
         "BR0042",
         "Alpine Motors"
        ],
        [
         33,
         "BR0043",
         "Alpine Motors"
        ],
        [
         34,
         "BR0044",
         "Alpine Motors"
        ],
        [
         35,
         "BR0045",
         "Alpine Motors"
        ],
        [
         36,
         "BR0047",
         "Alpine Motors"
        ],
        [
         37,
         "BR0048",
         "Alpine Motors"
        ],
        [
         38,
         "BR0049",
         "Alpine Motors"
        ],
        [
         39,
         "BR0050",
         "Alpine Motors"
        ],
        [
         40,
         "BR0051",
         "Alvis Motors"
        ],
        [
         41,
         "BR0052",
         "Alvis Motors"
        ],
        [
         42,
         "BR0053",
         "Alvis Motors"
        ],
        [
         43,
         "BR0054",
         "Alvis Motors"
        ],
        [
         44,
         "BR0055",
         "Alvis Motors"
        ],
        [
         45,
         "BR0057",
         "Alvis Motors"
        ],
        [
         46,
         "BR0058",
         "Alvis Motors"
        ],
        [
         47,
         "BR0059",
         "Alvis Motors"
        ],
        [
         48,
         "BR0060",
         "Alvis Motors"
        ],
        [
         49,
         "BR0061",
         "AMC, Eagle Motors"
        ],
        [
         50,
         "BR0064",
         "AMC, Eagle Motors"
        ],
        [
         51,
         "BR0065",
         "AMC, Eagle Motors"
        ],
        [
         52,
         "BR0066",
         "Acura Motors"
        ],
        [
         53,
         "BR0067",
         "AMC, Eagle Motors"
        ],
        [
         54,
         "BR0068",
         "AMC, Eagle Motors"
        ],
        [
         55,
         "BR0069",
         "AMC, Eagle Motors"
        ],
        [
         56,
         "BR0070",
         "AMC, Eagle Motors"
        ],
        [
         57,
         "BR0071",
         "Anadol Motors"
        ],
        [
         58,
         "BR0072",
         "Anadol Motors"
        ],
        [
         59,
         "BR0073",
         "Anadol Motors"
        ],
        [
         60,
         "BR0074",
         "Anadol Motors"
        ],
        [
         61,
         "BR0075",
         "Anadol Motors"
        ],
        [
         62,
         "BR0077",
         "Anadol Motors"
        ],
        [
         63,
         "BR0078",
         "Anadol Motors"
        ],
        [
         64,
         "BR0080",
         "Anadol Motors"
        ],
        [
         65,
         "BR0081",
         "Ariel Motors"
        ],
        [
         66,
         "BR0082",
         "Ariel Motors"
        ],
        [
         67,
         "BR0083",
         "Ariel Motors"
        ],
        [
         68,
         "BR0084",
         "Ariel Motors"
        ],
        [
         69,
         "BR0085",
         "Ariel Motors"
        ],
        [
         70,
         "BR0087",
         "Ariel Motors"
        ],
        [
         71,
         "BR0089",
         "Ariel Motors"
        ],
        [
         72,
         "BR0090",
         "Ariel Motors"
        ],
        [
         73,
         "BR0092",
         "ARO Motors"
        ],
        [
         74,
         "BR0094",
         "ARO Motors"
        ],
        [
         75,
         "BR0095",
         "ARO Motors"
        ],
        [
         76,
         "BR0098",
         "ARO Motors"
        ],
        [
         77,
         "BR0101",
         "Artega Motors"
        ],
        [
         78,
         "BR0102",
         "Artega Motors"
        ],
        [
         79,
         "BR0103",
         "Artega Motors"
        ],
        [
         80,
         "BR0104",
         "Artega Motors"
        ],
        [
         81,
         "BR0108",
         "Artega Motors"
        ],
        [
         82,
         "BR0111",
         "Asia Motors Motors"
        ],
        [
         83,
         "BR0112",
         "Asia Motors Motors"
        ],
        [
         84,
         "BR0114",
         "Asia Motors Motors"
        ],
        [
         85,
         "BR0115",
         "Asia Motors Motors"
        ],
        [
         86,
         "BR0117",
         "Asia Motors Motors"
        ],
        [
         87,
         "BR0118",
         "Asia Motors Motors"
        ],
        [
         88,
         "BR0119",
         "Asia Motors Motors"
        ],
        [
         89,
         "BR0120",
         "Asia Motors Motors"
        ],
        [
         90,
         "BR0121",
         "Aston Martin Motors"
        ],
        [
         91,
         "BR0122",
         "Aston Martin Motors"
        ],
        [
         92,
         "BR0123",
         "Aston Martin Motors"
        ],
        [
         93,
         "BR0125",
         "Aston Martin Motors"
        ],
        [
         94,
         "BR0126",
         "Aixam-Mega (including Arola) Motors"
        ],
        [
         95,
         "BR0127",
         "Aston Martin Motors"
        ],
        [
         96,
         "BR0128",
         "Aston Martin Motors"
        ],
        [
         97,
         "BR0129",
         "Aston Martin Motors"
        ],
        [
         98,
         "BR0130",
         "Aston Martin Motors"
        ],
        [
         99,
         "BR0131",
         "Audi Motors"
        ],
        [
         100,
         "BR0135",
         "Audi Motors"
        ],
        [
         101,
         "BR0138",
         "Audi Motors"
        ],
        [
         102,
         "BR0139",
         "Audi Motors"
        ],
        [
         103,
         "BR0140",
         "Audi Motors"
        ],
        [
         104,
         "BR0141",
         "Autobianchi Motors"
        ],
        [
         105,
         "BR0143",
         "Autobianchi Motors"
        ],
        [
         106,
         "BR0144",
         "Autobianchi Motors"
        ],
        [
         107,
         "BR0145",
         "Autobianchi Motors"
        ],
        [
         108,
         "BR0151",
         "Auto-Union Motors"
        ],
        [
         109,
         "BR0152",
         "Auto-Union Motors"
        ],
        [
         110,
         "BR0153",
         "Auto-Union Motors"
        ],
        [
         111,
         "BR0154",
         "Auto-Union Motors"
        ],
        [
         112,
         "BR0158",
         "Auto-Union Motors"
        ],
        [
         113,
         "BR0159",
         "Auto-Union Motors"
        ],
        [
         114,
         "BR0160",
         "Auto-Union Motors"
        ],
        [
         115,
         "BR0161",
         "Auverland Motors"
        ],
        [
         116,
         "BR0163",
         "Auverland Motors"
        ],
        [
         117,
         "BR0164",
         "Auverland Motors"
        ],
        [
         118,
         "BR0165",
         "Auverland Motors"
        ],
        [
         119,
         "BR0168",
         "Auverland Motors"
        ],
        [
         120,
         "BR0169",
         "Auverland Motors"
        ],
        [
         121,
         "BR0170",
         "Auverland Motors"
        ],
        [
         122,
         "BR0171",
         "Bentley Motors"
        ],
        [
         123,
         "BR0172",
         "Bentley Motors"
        ],
        [
         124,
         "BR0173",
         "Bentley Motors"
        ],
        [
         125,
         "BR0175",
         "Bentley Motors"
        ],
        [
         126,
         "BR0179",
         "Bentley Motors"
        ],
        [
         127,
         "BR0180",
         "Bentley Motors"
        ],
        [
         128,
         "BR0181",
         "Bitter Motors"
        ],
        [
         129,
         "BR0182",
         "Bitter Motors"
        ],
        [
         130,
         "BR0183",
         "Bitter Motors"
        ],
        [
         131,
         "BR0185",
         "Bitter Motors"
        ],
        [
         132,
         "BR0186",
         "Alfa Romeo Motors"
        ],
        [
         133,
         "BR0188",
         "Bitter Motors"
        ],
        [
         134,
         "BR0189",
         "Bitter Motors"
        ],
        [
         135,
         "BR0191",
         "BMW Motors"
        ],
        [
         136,
         "BR0192",
         "BMW Motors"
        ],
        [
         137,
         "BR0193",
         "BMW Motors"
        ],
        [
         138,
         "BR0194",
         "BMW Motors"
        ],
        [
         139,
         "BR0195",
         "BMW Motors"
        ],
        [
         140,
         "BR0197",
         "BMW Motors"
        ],
        [
         141,
         "BR0198",
         "BMW Motors"
        ],
        [
         142,
         "BR0199",
         "BMW Motors"
        ],
        [
         143,
         "BR0200",
         "BMW Motors"
        ],
        [
         144,
         "BR0201",
         "Bond Motors"
        ],
        [
         145,
         "BR0202",
         "Bond Motors"
        ],
        [
         146,
         "BR0203",
         "Bond Motors"
        ],
        [
         147,
         "BR0204",
         "Bond Motors"
        ],
        [
         148,
         "BR0205",
         "Bond Motors"
        ],
        [
         149,
         "BR0208",
         "Bond Motors"
        ],
        [
         150,
         "BR0211",
         "Borgward (including Goliath and Lloyd) Motors"
        ],
        [
         151,
         "BR0212",
         "Borgward (including Goliath and Lloyd) Motors"
        ],
        [
         152,
         "BR0213",
         "Borgward (including Goliath and Lloyd) Motors"
        ],
        [
         153,
         "BR0214",
         "Borgward (including Goliath and Lloyd) Motors"
        ],
        [
         154,
         "BR0215",
         "Borgward (including Goliath and Lloyd) Motors"
        ],
        [
         155,
         "BR0217",
         "Borgward (including Goliath and Lloyd) Motors"
        ],
        [
         156,
         "BR0218",
         "Borgward (including Goliath and Lloyd) Motors"
        ],
        [
         157,
         "BR0219",
         "Borgward (including Goliath and Lloyd) Motors"
        ],
        [
         158,
         "BR0220",
         "Borgward (including Goliath and Lloyd) Motors"
        ],
        [
         159,
         "BR0221",
         "Bristol Motors"
        ],
        [
         160,
         "BR0222",
         "Bristol Motors"
        ],
        [
         161,
         "BR0223",
         "Bristol Motors"
        ],
        [
         162,
         "BR0224",
         "Bristol Motors"
        ],
        [
         163,
         "BR0225",
         "Bristol Motors"
        ],
        [
         164,
         "BR0227",
         "Bristol Motors"
        ],
        [
         165,
         "BR0228",
         "Bristol Motors"
        ],
        [
         166,
         "BR0229",
         "Bristol Motors"
        ],
        [
         167,
         "BR0230",
         "Bristol Motors"
        ],
        [
         168,
         "BR0231",
         "British Leyland Motors"
        ],
        [
         169,
         "BR0232",
         "British Leyland Motors"
        ],
        [
         170,
         "BR0234",
         "British Leyland Motors"
        ],
        [
         171,
         "BR0235",
         "British Leyland Motors"
        ],
        [
         172,
         "BR0237",
         "British Leyland Motors"
        ],
        [
         173,
         "BR0239",
         "British Leyland Motors"
        ],
        [
         174,
         "BR0240",
         "British Leyland Motors"
        ],
        [
         175,
         "BR0243",
         "Austin-Healey Motors"
        ],
        [
         176,
         "BR0247",
         "Austin-Healey Motors"
        ],
        [
         177,
         "BR0249",
         "Austin-Healey Motors"
        ],
        [
         178,
         "BR0251",
         "Austin, Rover Motors"
        ],
        [
         179,
         "BR0252",
         "Austin, Rover Motors"
        ],
        [
         180,
         "BR0253",
         "Austin, Rover Motors"
        ],
        [
         181,
         "BR0254",
         "Austin, Rover Motors"
        ],
        [
         182,
         "BR0255",
         "Austin, Rover Motors"
        ],
        [
         183,
         "BR0260",
         "Austin, Rover Motors"
        ],
        [
         184,
         "BR0262",
         "Bugatti Motors"
        ],
        [
         185,
         "BR0264",
         "Bugatti Motors"
        ],
        [
         186,
         "BR0265",
         "Bugatti Motors"
        ],
        [
         187,
         "BR0267",
         "Bugatti Motors"
        ],
        [
         188,
         "BR0268",
         "Bugatti Motors"
        ],
        [
         189,
         "BR0269",
         "Bugatti Motors"
        ],
        [
         190,
         "BR0270",
         "Bugatti Motors"
        ],
        [
         191,
         "BR0271",
         "Buick Motors"
        ],
        [
         192,
         "BR0272",
         "Buick Motors"
        ],
        [
         193,
         "BR0274",
         "Buick Motors"
        ],
        [
         194,
         "BR0275",
         "Buick Motors"
        ],
        [
         195,
         "BR0277",
         "Buick Motors"
        ],
        [
         196,
         "BR0278",
         "Buick Motors"
        ],
        [
         197,
         "BR0279",
         "Buick Motors"
        ],
        [
         198,
         "BR0280",
         "Buick Motors"
        ],
        [
         199,
         "BR0283",
         "Bytom Motors"
        ],
        [
         200,
         "BR0285",
         "Bytom Motors"
        ],
        [
         201,
         "BR0290",
         "Bytom Motors"
        ],
        [
         202,
         "BR0291",
         "Cadillac Motors"
        ],
        [
         203,
         "BR0293",
         "Cadillac Motors"
        ],
        [
         204,
         "BR0294",
         "Cadillac Motors"
        ],
        [
         205,
         "BR0295",
         "Cadillac Motors"
        ],
        [
         206,
         "BR0297",
         "Cadillac Motors"
        ],
        [
         207,
         "BR0298",
         "Cadillac Motors"
        ],
        [
         208,
         "BR0299",
         "Cadillac Motors"
        ],
        [
         209,
         "BR0300",
         "Cadillac Motors"
        ],
        [
         210,
         "BR0301",
         "Caterham Motors"
        ],
        [
         211,
         "BR0302",
         "Caterham Motors"
        ],
        [
         212,
         "BR0303",
         "Caterham Motors"
        ],
        [
         213,
         "BR0304",
         "Caterham Motors"
        ],
        [
         214,
         "BR0305",
         "Caterham Motors"
        ],
        [
         215,
         "BR0306",
         "Alvis Motors"
        ],
        [
         216,
         "BR0308",
         "Caterham Motors"
        ],
        [
         217,
         "BR0309",
         "Caterham Motors"
        ],
        [
         218,
         "BR0310",
         "Caterham Motors"
        ],
        [
         219,
         "BR0311",
         "Checker Motors"
        ],
        [
         220,
         "BR0313",
         "Checker Motors"
        ],
        [
         221,
         "BR0315",
         "Checker Motors"
        ],
        [
         222,
         "BR0317",
         "Checker Motors"
        ],
        [
         223,
         "BR0318",
         "Checker Motors"
        ],
        [
         224,
         "BR0321",
         "Chevrolet Motors"
        ],
        [
         225,
         "BR0322",
         "Chevrolet Motors"
        ],
        [
         226,
         "BR0323",
         "Chevrolet Motors"
        ],
        [
         227,
         "BR0324",
         "Chevrolet Motors"
        ],
        [
         228,
         "BR0328",
         "Chevrolet Motors"
        ],
        [
         229,
         "BR0329",
         "Chevrolet Motors"
        ],
        [
         230,
         "BR0331",
         "Chevrolet India Motors"
        ],
        [
         231,
         "BR0332",
         "Chevrolet India Motors"
        ],
        [
         232,
         "BR0333",
         "Chevrolet India Motors"
        ],
        [
         233,
         "BR0334",
         "Chevrolet India Motors"
        ],
        [
         234,
         "BR0337",
         "Chevrolet India Motors"
        ],
        [
         235,
         "BR0338",
         "Chevrolet India Motors"
        ],
        [
         236,
         "BR0339",
         "Chevrolet India Motors"
        ],
        [
         237,
         "BR0341",
         "Chrysler Motors"
        ],
        [
         238,
         "BR0342",
         "Chrysler Motors"
        ],
        [
         239,
         "BR0344",
         "Chrysler Motors"
        ],
        [
         240,
         "BR0347",
         "Chrysler Motors"
        ],
        [
         241,
         "BR0349",
         "Chrysler Motors"
        ],
        [
         242,
         "BR0350",
         "Chrysler Motors"
        ],
        [
         243,
         "BR0351",
         "Chrysler Europe Motors"
        ],
        [
         244,
         "BR0352",
         "Chrysler Europe Motors"
        ],
        [
         245,
         "BR0353",
         "Chrysler Europe Motors"
        ],
        [
         246,
         "BR0354",
         "Chrysler Europe Motors"
        ],
        [
         247,
         "BR0357",
         "Chrysler Europe Motors"
        ],
        [
         248,
         "BR0359",
         "Chrysler Europe Motors"
        ],
        [
         249,
         "BR0360",
         "Chrysler Europe Motors"
        ],
        [
         250,
         "BR0362",
         "Citroën Motors"
        ],
        [
         251,
         "BR0363",
         "Citroën Motors"
        ],
        [
         252,
         "BR0364",
         "Citroën Motors"
        ],
        [
         253,
         "BR0367",
         "Citroën Motors"
        ],
        [
         254,
         "BR0368",
         "Citroën Motors"
        ],
        [
         255,
         "BR0369",
         "Citroën Motors"
        ],
        [
         256,
         "BR0371",
         "Cizeta-Moroder Motors"
        ],
        [
         257,
         "BR0372",
         "Cizeta-Moroder Motors"
        ],
        [
         258,
         "BR0375",
         "Cizeta-Moroder Motors"
        ],
        [
         259,
         "BR0378",
         "Cizeta-Moroder Motors"
        ],
        [
         260,
         "BR0379",
         "Cizeta-Moroder Motors"
        ],
        [
         261,
         "BR0380",
         "Cizeta-Moroder Motors"
        ],
        [
         262,
         "BR0381",
         "Dacia Motors"
        ],
        [
         263,
         "BR0382",
         "Dacia Motors"
        ],
        [
         264,
         "BR0383",
         "Dacia Motors"
        ],
        [
         265,
         "BR0384",
         "Dacia Motors"
        ],
        [
         266,
         "BR0385",
         "Dacia Motors"
        ],
        [
         267,
         "BR0387",
         "Dacia Motors"
        ],
        [
         268,
         "BR0388",
         "Dacia Motors"
        ],
        [
         269,
         "BR0391",
         "Daewoo, Saehan, Chevrolet Korea Motors"
        ],
        [
         270,
         "BR0392",
         "Daewoo, Saehan, Chevrolet Korea Motors"
        ],
        [
         271,
         "BR0393",
         "Daewoo, Saehan, Chevrolet Korea Motors"
        ],
        [
         272,
         "BR0395",
         "Daewoo, Saehan, Chevrolet Korea Motors"
        ],
        [
         273,
         "BR0397",
         "Daewoo, Saehan, Chevrolet Korea Motors"
        ],
        [
         274,
         "BR0399",
         "Daewoo, Saehan, Chevrolet Korea Motors"
        ],
        [
         275,
         "BR0400",
         "Daewoo, Saehan, Chevrolet Korea Motors"
        ],
        [
         276,
         "BR0402",
         "DAF Motors"
        ],
        [
         277,
         "BR0403",
         "DAF Motors"
        ],
        [
         278,
         "BR0404",
         "DAF Motors"
        ],
        [
         279,
         "BR0405",
         "DAF Motors"
        ],
        [
         280,
         "BR0407",
         "DAF Motors"
        ],
        [
         281,
         "BR0408",
         "DAF Motors"
        ],
        [
         282,
         "BR0409",
         "DAF Motors"
        ],
        [
         283,
         "BR0410",
         "DAF Motors"
        ],
        [
         284,
         "BR0411",
         "Daihatsu Motors"
        ],
        [
         285,
         "BR0412",
         "Daihatsu Motors"
        ],
        [
         286,
         "BR0413",
         "Daihatsu Motors"
        ],
        [
         287,
         "BR0414",
         "Daihatsu Motors"
        ],
        [
         288,
         "BR0415",
         "Daihatsu Motors"
        ],
        [
         289,
         "BR0417",
         "Daihatsu Motors"
        ],
        [
         290,
         "BR0418",
         "Daihatsu Motors"
        ],
        [
         291,
         "BR0419",
         "Daihatsu Motors"
        ],
        [
         292,
         "BR0420",
         "Daihatsu Motors"
        ],
        [
         293,
         "BR0422",
         "Daimler Motors"
        ],
        [
         294,
         "BR0423",
         "Daimler Motors"
        ],
        [
         295,
         "BR0424",
         "Daimler Motors"
        ],
        [
         296,
         "BR0426",
         "Anadol Motors"
        ],
        [
         297,
         "BR0427",
         "Daimler Motors"
        ],
        [
         298,
         "BR0429",
         "Daimler Motors"
        ],
        [
         299,
         "BR0432",
         "Datsun Motors"
        ],
        [
         300,
         "BR0433",
         "Datsun Motors"
        ],
        [
         301,
         "BR0434",
         "Datsun Motors"
        ],
        [
         302,
         "BR0435",
         "Datsun Motors"
        ],
        [
         303,
         "BR0438",
         "Datsun Motors"
        ],
        [
         304,
         "BR0439",
         "Datsun Motors"
        ],
        [
         305,
         "BR0441",
         "Delahaye Motors"
        ],
        [
         306,
         "BR0442",
         "Delahaye Motors"
        ],
        [
         307,
         "BR0443",
         "Delahaye Motors"
        ],
        [
         308,
         "BR0444",
         "Delahaye Motors"
        ],
        [
         309,
         "BR0445",
         "Delahaye Motors"
        ],
        [
         310,
         "BR0447",
         "Delahaye Motors"
        ],
        [
         311,
         "BR0450",
         "Delahaye Motors"
        ],
        [
         312,
         "BR0451",
         "DeLorean Motors"
        ],
        [
         313,
         "BR0452",
         "DeLorean Motors"
        ],
        [
         314,
         "BR0454",
         "DeLorean Motors"
        ],
        [
         315,
         "BR0455",
         "DeLorean Motors"
        ],
        [
         316,
         "BR0457",
         "DeLorean Motors"
        ],
        [
         317,
         "BR0458",
         "DeLorean Motors"
        ],
        [
         318,
         "BR0459",
         "DeLorean Motors"
        ],
        [
         319,
         "BR0460",
         "DeLorean Motors"
        ],
        [
         320,
         "BR0461",
         "DeSoto Motors"
        ],
        [
         321,
         "BR0462",
         "DeSoto Motors"
        ],
        [
         322,
         "BR0463",
         "DeSoto Motors"
        ],
        [
         323,
         "BR0464",
         "DeSoto Motors"
        ],
        [
         324,
         "BR0468",
         "DeSoto Motors"
        ],
        [
         325,
         "BR0469",
         "DeSoto Motors"
        ],
        [
         326,
         "BR0470",
         "DeSoto Motors"
        ],
        [
         327,
         "BR0471",
         "De Tomaso Motors"
        ],
        [
         328,
         "BR0473",
         "De Tomaso Motors"
        ],
        [
         329,
         "BR0474",
         "De Tomaso Motors"
        ],
        [
         330,
         "BR0477",
         "De Tomaso Motors"
        ],
        [
         331,
         "BR0479",
         "De Tomaso Motors"
        ],
        [
         332,
         "BR0481",
         "Dodge Motors"
        ],
        [
         333,
         "BR0482",
         "Dodge Motors"
        ],
        [
         334,
         "BR0483",
         "Dodge Motors"
        ],
        [
         335,
         "BR0484",
         "Dodge Motors"
        ],
        [
         336,
         "BR0485",
         "Dodge Motors"
        ],
        [
         337,
         "BR0486",
         "Ariel Motors"
        ],
        [
         338,
         "BR0487",
         "Dodge Motors"
        ],
        [
         339,
         "BR0488",
         "Dodge Motors"
        ],
        [
         340,
         "BR0490",
         "Dodge Motors"
        ],
        [
         341,
         "BR0491",
         "Donkervoort Motors"
        ],
        [
         342,
         "BR0492",
         "Donkervoort Motors"
        ],
        [
         343,
         "BR0493",
         "Donkervoort Motors"
        ],
        [
         344,
         "BR0494",
         "Donkervoort Motors"
        ],
        [
         345,
         "BR0497",
         "Donkervoort Motors"
        ],
        [
         346,
         "BR0498",
         "Donkervoort Motors"
        ],
        [
         347,
         "BR0500",
         "Donkervoort Motors"
        ],
        [
         348,
         "BR0501",
         "Edsel Motors"
        ],
        [
         349,
         "BR0502",
         "Edsel Motors"
        ],
        [
         350,
         "BR0504",
         "Edsel Motors"
        ],
        [
         351,
         "BR0505",
         "Edsel Motors"
        ],
        [
         352,
         "BR0509",
         "Edsel Motors"
        ],
        [
         353,
         "BR0512",
         "e.GO Mobile Motors"
        ],
        [
         354,
         "BR0513",
         "e.GO Mobile Motors"
        ],
        [
         355,
         "BR0514",
         "e.GO Mobile Motors"
        ],
        [
         356,
         "BR0515",
         "e.GO Mobile Motors"
        ],
        [
         357,
         "BR0517",
         "e.GO Mobile Motors"
        ],
        [
         358,
         "BR0519",
         "e.GO Mobile Motors"
        ],
        [
         359,
         "BR0520",
         "e.GO Mobile Motors"
        ],
        [
         360,
         "BR0521",
         "Eicher Polaris Motors"
        ],
        [
         361,
         "BR0523",
         "Eicher Polaris Motors"
        ],
        [
         362,
         "BR0524",
         "Eicher Polaris Motors"
        ],
        [
         363,
         "BR0525",
         "Eicher Polaris Motors"
        ],
        [
         364,
         "BR0527",
         "Eicher Polaris Motors"
        ],
        [
         365,
         "BR0528",
         "Eicher Polaris Motors"
        ],
        [
         366,
         "BR0531",
         "Elva Motors"
        ],
        [
         367,
         "BR0533",
         "Elva Motors"
        ],
        [
         368,
         "BR0534",
         "Elva Motors"
        ],
        [
         369,
         "BR0537",
         "Elva Motors"
        ],
        [
         370,
         "BR0538",
         "Elva Motors"
        ],
        [
         371,
         "BR0539",
         "Elva Motors"
        ],
        [
         372,
         "BR0542",
         "Facel Vega Motors"
        ],
        [
         373,
         "BR0544",
         "Facel Vega Motors"
        ],
        [
         374,
         "BR0546",
         "ARO Motors"
        ],
        [
         375,
         "BR0551",
         "Ferrari Motors"
        ],
        [
         376,
         "BR0552",
         "Ferrari Motors"
        ],
        [
         377,
         "BR0553",
         "Ferrari Motors"
        ],
        [
         378,
         "BR0555",
         "Ferrari Motors"
        ],
        [
         379,
         "BR0559",
         "Ferrari Motors"
        ],
        [
         380,
         "BR0561",
         "Fiat Motors"
        ],
        [
         381,
         "BR0562",
         "Fiat Motors"
        ],
        [
         382,
         "BR0565",
         "Fiat Motors"
        ],
        [
         383,
         "BR0567",
         "Fiat Motors"
        ],
        [
         384,
         "BR0568",
         "Fiat Motors"
        ],
        [
         385,
         "BR0569",
         "Fiat Motors"
        ],
        [
         386,
         "BR0572",
         "Fiat do Brasil Motors"
        ],
        [
         387,
         "BR0573",
         "Fiat do Brasil Motors"
        ],
        [
         388,
         "BR0575",
         "Fiat do Brasil Motors"
        ],
        [
         389,
         "BR0577",
         "Fiat do Brasil Motors"
        ],
        [
         390,
         "BR0578",
         "Fiat do Brasil Motors"
        ],
        [
         391,
         "BR0579",
         "Fiat do Brasil Motors"
        ],
        [
         392,
         "BR0581",
         "Fiat India Motors"
        ],
        [
         393,
         "BR0584",
         "Fiat India Motors"
        ],
        [
         394,
         "BR0585",
         "Fiat India Motors"
        ],
        [
         395,
         "BR0588",
         "Fiat India Motors"
        ],
        [
         396,
         "BR0590",
         "Fiat India Motors"
        ],
        [
         397,
         "BR0591",
         "Fisker, Karma Motors"
        ],
        [
         398,
         "BR0592",
         "Fisker, Karma Motors"
        ],
        [
         399,
         "BR0598",
         "Fisker, Karma Motors"
        ],
        [
         400,
         "BR0599",
         "Fisker, Karma Motors"
        ],
        [
         401,
         "BR0600",
         "Fisker, Karma Motors"
        ],
        [
         402,
         "BR0601",
         "Ford America Motors"
        ],
        [
         403,
         "BR0602",
         "Ford America Motors"
        ],
        [
         404,
         "BR0604",
         "Ford America Motors"
        ],
        [
         405,
         "BR0605",
         "Ford America Motors"
        ],
        [
         406,
         "BR0606",
         "Artega Motors"
        ],
        [
         407,
         "BR0607",
         "Ford America Motors"
        ],
        [
         408,
         "BR0608",
         "Ford America Motors"
        ],
        [
         409,
         "BR0610",
         "Ford America Motors"
        ],
        [
         410,
         "BR0611",
         "Ford Australia Motors"
        ],
        [
         411,
         "BR0613",
         "Ford Australia Motors"
        ],
        [
         412,
         "BR0614",
         "Ford Australia Motors"
        ],
        [
         413,
         "BR0615",
         "Ford Australia Motors"
        ],
        [
         414,
         "BR0617",
         "Ford Australia Motors"
        ],
        [
         415,
         "BR0619",
         "Ford Australia Motors"
        ],
        [
         416,
         "BR0620",
         "Ford Australia Motors"
        ],
        [
         417,
         "BR0621",
         "Ford do Brasil Motors"
        ],
        [
         418,
         "BR0623",
         "Ford do Brasil Motors"
        ],
        [
         419,
         "BR0624",
         "Ford do Brasil Motors"
        ],
        [
         420,
         "BR0625",
         "Ford do Brasil Motors"
        ],
        [
         421,
         "BR0627",
         "Ford do Brasil Motors"
        ],
        [
         422,
         "BR0629",
         "Ford do Brasil Motors"
        ],
        [
         423,
         "BR0631",
         "Ford Europe Motors"
        ],
        [
         424,
         "BR0633",
         "Ford Europe Motors"
        ],
        [
         425,
         "BR0634",
         "Ford Europe Motors"
        ],
        [
         426,
         "BR0635",
         "Ford Europe Motors"
        ],
        [
         427,
         "BR0637",
         "Ford Europe Motors"
        ],
        [
         428,
         "BR0638",
         "Ford Europe Motors"
        ],
        [
         429,
         "BR0640",
         "Ford Europe Motors"
        ],
        [
         430,
         "BR0641",
         "Ford India Motors"
        ],
        [
         431,
         "BR0642",
         "Ford India Motors"
        ],
        [
         432,
         "BR0643",
         "Ford India Motors"
        ],
        [
         433,
         "BR0645",
         "Ford India Motors"
        ],
        [
         434,
         "BR0647",
         "Ford India Motors"
        ],
        [
         435,
         "BR0649",
         "Ford India Motors"
        ],
        [
         436,
         "BR0650",
         "Ford India Motors"
        ],
        [
         437,
         "BR0651",
         "Freightliner Motors"
        ],
        [
         438,
         "BR0653",
         "Freightliner Motors"
        ],
        [
         439,
         "BR0654",
         "Freightliner Motors"
        ],
        [
         440,
         "BR0655",
         "Freightliner Motors"
        ],
        [
         441,
         "BR0657",
         "Freightliner Motors"
        ],
        [
         442,
         "BR0658",
         "Freightliner Motors"
        ],
        [
         443,
         "BR0660",
         "Freightliner Motors"
        ],
        [
         444,
         "BR0661",
         "FSO Motors"
        ],
        [
         445,
         "BR0662",
         "FSO Motors"
        ],
        [
         446,
         "BR0663",
         "FSO Motors"
        ],
        [
         447,
         "BR0665",
         "FSO Motors"
        ],
        [
         448,
         "BR0666",
         "Asia Motors Motors"
        ],
        [
         449,
         "BR0667",
         "FSO Motors"
        ],
        [
         450,
         "BR0668",
         "FSO Motors"
        ],
        [
         451,
         "BR0669",
         "FSO Motors"
        ],
        [
         452,
         "BR0672",
         "GAZ Motors"
        ],
        [
         453,
         "BR0673",
         "GAZ Motors"
        ],
        [
         454,
         "BR0675",
         "GAZ Motors"
        ],
        [
         455,
         "BR0678",
         "GAZ Motors"
        ],
        [
         456,
         "BR0680",
         "GAZ Motors"
        ],
        [
         457,
         "BR0681",
         "Geo Motors"
        ],
        [
         458,
         "BR0682",
         "Geo Motors"
        ],
        [
         459,
         "BR0685",
         "Geo Motors"
        ],
        [
         460,
         "BR0687",
         "Geo Motors"
        ],
        [
         461,
         "BR0688",
         "Geo Motors"
        ],
        [
         462,
         "BR0690",
         "Geo Motors"
        ],
        [
         463,
         "BR0691",
         "Gilbern Motors"
        ],
        [
         464,
         "BR0692",
         "Gilbern Motors"
        ],
        [
         465,
         "BR0693",
         "Gilbern Motors"
        ],
        [
         466,
         "BR0694",
         "Gilbern Motors"
        ],
        [
         467,
         "BR0695",
         "Gilbern Motors"
        ],
        [
         468,
         "BR0697",
         "Gilbern Motors"
        ],
        [
         469,
         "BR0698",
         "Gilbern Motors"
        ],
        [
         470,
         "BR0699",
         "Gilbern Motors"
        ],
        [
         471,
         "BR0700",
         "Gilbern Motors"
        ],
        [
         472,
         "BR0701",
         "Ginetta Motors"
        ],
        [
         473,
         "BR0702",
         "Ginetta Motors"
        ],
        [
         474,
         "BR0703",
         "Ginetta Motors"
        ],
        [
         475,
         "BR0704",
         "Ginetta Motors"
        ],
        [
         476,
         "BR0707",
         "Ginetta Motors"
        ],
        [
         477,
         "BR0708",
         "Ginetta Motors"
        ],
        [
         478,
         "BR0709",
         "Ginetta Motors"
        ],
        [
         479,
         "BR0710",
         "Ginetta Motors"
        ],
        [
         480,
         "BR0711",
         "Glas Motors"
        ],
        [
         481,
         "BR0712",
         "Glas Motors"
        ],
        [
         482,
         "BR0713",
         "Glas Motors"
        ],
        [
         483,
         "BR0714",
         "Glas Motors"
        ],
        [
         484,
         "BR0715",
         "Glas Motors"
        ],
        [
         485,
         "BR0717",
         "Glas Motors"
        ],
        [
         486,
         "BR0718",
         "Glas Motors"
        ],
        [
         487,
         "BR0719",
         "Glas Motors"
        ],
        [
         488,
         "BR0720",
         "Glas Motors"
        ],
        [
         489,
         "BR0721",
         "GMC Motors"
        ],
        [
         490,
         "BR0722",
         "GMC Motors"
        ],
        [
         491,
         "BR0723",
         "GMC Motors"
        ],
        [
         492,
         "BR0724",
         "GMC Motors"
        ],
        [
         493,
         "BR0726",
         "Aston Martin Motors"
        ],
        [
         494,
         "BR0727",
         "GMC Motors"
        ],
        [
         495,
         "BR0728",
         "GMC Motors"
        ],
        [
         496,
         "BR0730",
         "GMC Motors"
        ],
        [
         497,
         "BR0731",
         "GTA Spano Motors"
        ],
        [
         498,
         "BR0732",
         "GTA Spano Motors"
        ],
        [
         499,
         "BR0734",
         "GTA Spano Motors"
        ],
        [
         500,
         "BR0735",
         "GTA Spano Motors"
        ],
        [
         501,
         "BR0738",
         "GTA Spano Motors"
        ],
        [
         502,
         "BR0739",
         "GTA Spano Motors"
        ],
        [
         503,
         "BR0741",
         "Gumpert Motors"
        ],
        [
         504,
         "BR0742",
         "Gumpert Motors"
        ],
        [
         505,
         "BR0744",
         "Gumpert Motors"
        ],
        [
         506,
         "BR0745",
         "Gumpert Motors"
        ],
        [
         507,
         "BR0747",
         "Gumpert Motors"
        ],
        [
         508,
         "BR0748",
         "Gumpert Motors"
        ],
        [
         509,
         "BR0751",
         "Healey Motors"
        ],
        [
         510,
         "BR0752",
         "Healey Motors"
        ],
        [
         511,
         "BR0753",
         "Healey Motors"
        ],
        [
         512,
         "BR0755",
         "Healey Motors"
        ],
        [
         513,
         "BR0757",
         "Healey Motors"
        ],
        [
         514,
         "BR0759",
         "Healey Motors"
        ],
        [
         515,
         "BR0760",
         "Healey Motors"
        ],
        [
         516,
         "BR0762",
         "Heinkel Motors"
        ],
        [
         517,
         "BR0764",
         "Heinkel Motors"
        ],
        [
         518,
         "BR0765",
         "Heinkel Motors"
        ],
        [
         519,
         "BR0767",
         "Heinkel Motors"
        ],
        [
         520,
         "BR0768",
         "Heinkel Motors"
        ],
        [
         521,
         "BR0769",
         "Heinkel Motors"
        ],
        [
         522,
         "BR0770",
         "Heinkel Motors"
        ],
        [
         523,
         "BR0771",
         "Hennessey Motors"
        ],
        [
         524,
         "BR0773",
         "Hennessey Motors"
        ],
        [
         525,
         "BR0774",
         "Hennessey Motors"
        ],
        [
         526,
         "BR0775",
         "Hennessey Motors"
        ],
        [
         527,
         "BR0778",
         "Hennessey Motors"
        ],
        [
         528,
         "BR0781",
         "Hillman Motors"
        ],
        [
         529,
         "BR0783",
         "Hillman Motors"
        ],
        [
         530,
         "BR0784",
         "Hillman Motors"
        ],
        [
         531,
         "BR0785",
         "Hillman Motors"
        ],
        [
         532,
         "BR0786",
         "Audi Motors"
        ],
        [
         533,
         "BR0787",
         "Hillman Motors"
        ],
        [
         534,
         "BR0789",
         "Hillman Motors"
        ],
        [
         535,
         "BR0790",
         "Hillman Motors"
        ],
        [
         536,
         "BR0791",
         "Hindustan Motors"
        ],
        [
         537,
         "BR0792",
         "Hindustan Motors"
        ],
        [
         538,
         "BR0793",
         "Hindustan Motors"
        ],
        [
         539,
         "BR0794",
         "Hindustan Motors"
        ],
        [
         540,
         "BR0797",
         "Hindustan Motors"
        ],
        [
         541,
         "BR0798",
         "Hindustan Motors"
        ],
        [
         542,
         "BR0801",
         "Holden Motors"
        ],
        [
         543,
         "BR0802",
         "Holden Motors"
        ],
        [
         544,
         "BR0803",
         "Holden Motors"
        ],
        [
         545,
         "BR0804",
         "Holden Motors"
        ],
        [
         546,
         "BR0805",
         "Holden Motors"
        ],
        [
         547,
         "BR0807",
         "Holden Motors"
        ],
        [
         548,
         "BR0810",
         "Holden Motors"
        ],
        [
         549,
         "BR0811",
         "Honda Motors"
        ],
        [
         550,
         "BR0812",
         "Honda Motors"
        ],
        [
         551,
         "BR0814",
         "Honda Motors"
        ],
        [
         552,
         "BR0815",
         "Honda Motors"
        ],
        [
         553,
         "BR0817",
         "Honda Motors"
        ],
        [
         554,
         "BR0818",
         "Honda Motors"
        ],
        [
         555,
         "BR0819",
         "Honda Motors"
        ],
        [
         556,
         "BR0822",
         "Honda India Motors"
        ],
        [
         557,
         "BR0823",
         "Honda India Motors"
        ],
        [
         558,
         "BR0824",
         "Honda India Motors"
        ],
        [
         559,
         "BR0827",
         "Honda India Motors"
        ],
        [
         560,
         "BR0828",
         "Honda India Motors"
        ],
        [
         561,
         "BR0829",
         "Honda India Motors"
        ],
        [
         562,
         "BR0832",
         "Hudson Motors"
        ],
        [
         563,
         "BR0833",
         "Hudson Motors"
        ],
        [
         564,
         "BR0834",
         "Hudson Motors"
        ],
        [
         565,
         "BR0837",
         "Hudson Motors"
        ],
        [
         566,
         "BR0838",
         "Hudson Motors"
        ],
        [
         567,
         "BR0839",
         "Hudson Motors"
        ],
        [
         568,
         "BR0840",
         "Hudson Motors"
        ],
        [
         569,
         "BR0841",
         "Humber Motors"
        ],
        [
         570,
         "BR0842",
         "Humber Motors"
        ],
        [
         571,
         "BR0843",
         "Humber Motors"
        ],
        [
         572,
         "BR0844",
         "Humber Motors"
        ],
        [
         573,
         "BR0845",
         "Humber Motors"
        ],
        [
         574,
         "BR0846",
         "Autobianchi Motors"
        ],
        [
         575,
         "BR0849",
         "Humber Motors"
        ],
        [
         576,
         "BR0851",
         "Hummer Motors"
        ],
        [
         577,
         "BR0852",
         "Hummer Motors"
        ],
        [
         578,
         "BR0854",
         "Hummer Motors"
        ],
        [
         579,
         "BR0857",
         "Hummer Motors"
        ],
        [
         580,
         "BR0858",
         "Hummer Motors"
        ],
        [
         581,
         "BR0859",
         "Hummer Motors"
        ],
        [
         582,
         "BR0860",
         "Hummer Motors"
        ],
        [
         583,
         "BR0861",
         "Hyundai Motors"
        ],
        [
         584,
         "BR0863",
         "Hyundai Motors"
        ],
        [
         585,
         "BR0865",
         "Hyundai Motors"
        ],
        [
         586,
         "BR0867",
         "Hyundai Motors"
        ],
        [
         587,
         "BR0868",
         "Hyundai Motors"
        ],
        [
         588,
         "BR0870",
         "Hyundai Motors"
        ],
        [
         589,
         "BR0871",
         "IFA (including Trabant, Wartburg, Barkas) Motors"
        ],
        [
         590,
         "BR0872",
         "IFA (including Trabant, Wartburg, Barkas) Motors"
        ],
        [
         591,
         "BR0873",
         "IFA (including Trabant, Wartburg, Barkas) Motors"
        ],
        [
         592,
         "BR0877",
         "IFA (including Trabant, Wartburg, Barkas) Motors"
        ],
        [
         593,
         "BR0878",
         "IFA (including Trabant, Wartburg, Barkas) Motors"
        ],
        [
         594,
         "BR0879",
         "IFA (including Trabant, Wartburg, Barkas) Motors"
        ],
        [
         595,
         "BR0880",
         "IFA (including Trabant, Wartburg, Barkas) Motors"
        ],
        [
         596,
         "BR0881",
         "Infiniti Motors"
        ],
        [
         597,
         "BR0883",
         "Infiniti Motors"
        ],
        [
         598,
         "BR0884",
         "Infiniti Motors"
        ],
        [
         599,
         "BR0888",
         "Infiniti Motors"
        ],
        [
         600,
         "BR0889",
         "Infiniti Motors"
        ],
        [
         601,
         "BR0890",
         "Infiniti Motors"
        ],
        [
         602,
         "BR0891",
         "Innocenti Motors"
        ],
        [
         603,
         "BR0892",
         "Innocenti Motors"
        ],
        [
         604,
         "BR0893",
         "Innocenti Motors"
        ],
        [
         605,
         "BR0894",
         "Innocenti Motors"
        ],
        [
         606,
         "BR0895",
         "Innocenti Motors"
        ],
        [
         607,
         "BR0897",
         "Innocenti Motors"
        ],
        [
         608,
         "BR0898",
         "Innocenti Motors"
        ],
        [
         609,
         "BR0899",
         "Innocenti Motors"
        ],
        [
         610,
         "BR0900",
         "Innocenti Motors"
        ],
        [
         611,
         "BR0901",
         "Invicta Motors"
        ],
        [
         612,
         "BR0902",
         "Invicta Motors"
        ],
        [
         613,
         "BR0904",
         "Invicta Motors"
        ],
        [
         614,
         "BR0905",
         "Invicta Motors"
        ],
        [
         615,
         "BR0906",
         "Auto-Union Motors"
        ],
        [
         616,
         "BR0907",
         "Invicta Motors"
        ],
        [
         617,
         "BR0908",
         "Invicta Motors"
        ],
        [
         618,
         "BR0909",
         "Invicta Motors"
        ],
        [
         619,
         "BR0910",
         "Invicta Motors"
        ],
        [
         620,
         "BR0911",
         "Isdera Motors"
        ],
        [
         621,
         "BR0912",
         "Isdera Motors"
        ],
        [
         622,
         "BR0913",
         "Isdera Motors"
        ],
        [
         623,
         "BR0917",
         "Isdera Motors"
        ],
        [
         624,
         "BR0918",
         "Isdera Motors"
        ],
        [
         625,
         "BR0919",
         "Isdera Motors"
        ],
        [
         626,
         "BR0921",
         "Iso Motors"
        ],
        [
         627,
         "BR0922",
         "Iso Motors"
        ],
        [
         628,
         "BR0923",
         "Iso Motors"
        ],
        [
         629,
         "BR0924",
         "Iso Motors"
        ],
        [
         630,
         "BR0925",
         "Iso Motors"
        ],
        [
         631,
         "BR0927",
         "Iso Motors"
        ],
        [
         632,
         "BR0928",
         "Iso Motors"
        ],
        [
         633,
         "BR0929",
         "Iso Motors"
        ],
        [
         634,
         "BR0930",
         "Iso Motors"
        ],
        [
         635,
         "BR0931",
         "Isotta Fraschini Motors"
        ],
        [
         636,
         "BR0933",
         "Isotta Fraschini Motors"
        ],
        [
         637,
         "BR0934",
         "Isotta Fraschini Motors"
        ],
        [
         638,
         "BR0935",
         "Isotta Fraschini Motors"
        ],
        [
         639,
         "BR0938",
         "Isotta Fraschini Motors"
        ],
        [
         640,
         "BR0939",
         "Isotta Fraschini Motors"
        ],
        [
         641,
         "BR0940",
         "Isotta Fraschini Motors"
        ],
        [
         642,
         "BR0941",
         "Isuzu Motors"
        ],
        [
         643,
         "BR0942",
         "Isuzu Motors"
        ],
        [
         644,
         "BR0943",
         "Isuzu Motors"
        ],
        [
         645,
         "BR0945",
         "Isuzu Motors"
        ],
        [
         646,
         "BR0947",
         "Isuzu Motors"
        ],
        [
         647,
         "BR0949",
         "Isuzu Motors"
        ],
        [
         648,
         "BR0950",
         "Isuzu Motors"
        ],
        [
         649,
         "BR0953",
         "Iveco Motors"
        ],
        [
         650,
         "BR0955",
         "Iveco Motors"
        ],
        [
         651,
         "BR0958",
         "Iveco Motors"
        ],
        [
         652,
         "BR0959",
         "Iveco Motors"
        ],
        [
         653,
         "BR0960",
         "Iveco Motors"
        ],
        [
         654,
         "BR0961",
         "Jaguar Motors"
        ],
        [
         655,
         "BR0963",
         "Jaguar Motors"
        ],
        [
         656,
         "BR0964",
         "Jaguar Motors"
        ],
        [
         657,
         "BR0965",
         "Jaguar Motors"
        ],
        [
         658,
         "BR0966",
         "Auverland Motors"
        ],
        [
         659,
         "BR0967",
         "Jaguar Motors"
        ],
        [
         660,
         "BR0968",
         "Jaguar Motors"
        ],
        [
         661,
         "BR0969",
         "Jaguar Motors"
        ],
        [
         662,
         "BR0970",
         "Jaguar Motors"
        ],
        [
         663,
         "BR0971",
         "Jeep Motors"
        ],
        [
         664,
         "BR0972",
         "Jeep Motors"
        ],
        [
         665,
         "BR0973",
         "Jeep Motors"
        ],
        [
         666,
         "BR0974",
         "Jeep Motors"
        ],
        [
         667,
         "BR0975",
         "Jeep Motors"
        ],
        [
         668,
         "BR0978",
         "Jeep Motors"
        ],
        [
         669,
         "BR0979",
         "Jeep Motors"
        ],
        [
         670,
         "BR0980",
         "Jeep Motors"
        ],
        [
         671,
         "BR0981",
         "Jensen Motors"
        ],
        [
         672,
         "BR0983",
         "Jensen Motors"
        ],
        [
         673,
         "BR0984",
         "Jensen Motors"
        ],
        [
         674,
         "BR0985",
         "Jensen Motors"
        ],
        [
         675,
         "BR0987",
         "Jensen Motors"
        ],
        [
         676,
         "BR0988",
         "Jensen Motors"
        ],
        [
         677,
         "BR0989",
         "Jensen Motors"
        ],
        [
         678,
         "BR0990",
         "Jensen Motors"
        ],
        [
         679,
         "BR0993",
         "JPX Motors"
        ],
        [
         680,
         "BR0994",
         "JPX Motors"
        ],
        [
         681,
         "BR0995",
         "JPX Motors"
        ],
        [
         682,
         "BR0997",
         "JPX Motors"
        ],
        [
         683,
         "BR0998",
         "JPX Motors"
        ],
        [
         684,
         "BR0999",
         "JPX Motors"
        ],
        [
         685,
         "BR1001",
         "Kia Motors"
        ],
        [
         686,
         "BR10026",
         "Saab Motors"
        ],
        [
         687,
         "BR1003",
         "Kia Motors"
        ],
        [
         688,
         "BR1004",
         "Kia Motors"
        ],
        [
         689,
         "BR1005",
         "Kia Motors"
        ],
        [
         690,
         "BR1008",
         "Kia Motors"
        ],
        [
         691,
         "BR10086",
         "SAIC Motor Motors"
        ],
        [
         692,
         "BR1012",
         "Koenigsegg Motors"
        ],
        [
         693,
         "BR1013",
         "Koenigsegg Motors"
        ],
        [
         694,
         "BR1014",
         "Koenigsegg Motors"
        ],
        [
         695,
         "BR10146",
         "Saleen Motors"
        ],
        [
         696,
         "BR1015",
         "Koenigsegg Motors"
        ],
        [
         697,
         "BR1017",
         "Koenigsegg Motors"
        ],
        [
         698,
         "BR1019",
         "Koenigsegg Motors"
        ],
        [
         699,
         "BR1020",
         "Koenigsegg Motors"
        ],
        [
         700,
         "BR10206",
         "Samsung Motors"
        ],
        [
         701,
         "BR1021",
         "KTM Motors"
        ],
        [
         702,
         "BR1023",
         "KTM Motors"
        ],
        [
         703,
         "BR1025",
         "KTM Motors"
        ],
        [
         704,
         "BR1026",
         "Bentley Motors"
        ],
        [
         705,
         "BR1027",
         "KTM Motors"
        ],
        [
         706,
         "BR1028",
         "KTM Motors"
        ],
        [
         707,
         "BR1029",
         "KTM Motors"
        ],
        [
         708,
         "BR1032",
         "Lada Motors"
        ],
        [
         709,
         "BR10326",
         "Santa Matilde Motors"
        ],
        [
         710,
         "BR1034",
         "Lada Motors"
        ],
        [
         711,
         "BR1035",
         "Lada Motors"
        ],
        [
         712,
         "BR1037",
         "Lada Motors"
        ],
        [
         713,
         "BR10386",
         "Santana Motors"
        ],
        [
         714,
         "BR1039",
         "Lada Motors"
        ],
        [
         715,
         "BR1040",
         "Lada Motors"
        ],
        [
         716,
         "BR1041",
         "Lamborghini Motors"
        ],
        [
         717,
         "BR1043",
         "Lamborghini Motors"
        ],
        [
         718,
         "BR1044",
         "Lamborghini Motors"
        ],
        [
         719,
         "BR10446",
         "Saturn Motors"
        ],
        [
         720,
         "BR1045",
         "Lamborghini Motors"
        ],
        [
         721,
         "BR1047",
         "Lamborghini Motors"
        ],
        [
         722,
         "BR1048",
         "Lamborghini Motors"
        ],
        [
         723,
         "BR1049",
         "Lamborghini Motors"
        ],
        [
         724,
         "BR1050",
         "Lamborghini Motors"
        ],
        [
         725,
         "BR10506",
         "Scion Motors"
        ],
        [
         726,
         "BR1051",
         "Lancia Motors"
        ],
        [
         727,
         "BR1052",
         "Lancia Motors"
        ],
        [
         728,
         "BR1053",
         "Lancia Motors"
        ],
        [
         729,
         "BR1055",
         "Lancia Motors"
        ],
        [
         730,
         "BR10566",
         "Seat Motors"
        ],
        [
         731,
         "BR1058",
         "Lancia Motors"
        ],
        [
         732,
         "BR1059",
         "Lancia Motors"
        ],
        [
         733,
         "BR1060",
         "Lancia Motors"
        ],
        [
         734,
         "BR1061",
         "Land Rover Motors"
        ],
        [
         735,
         "BR10626",
         "Shelby SuperCars Motors"
        ],
        [
         736,
         "BR1063",
         "Land Rover Motors"
        ],
        [
         737,
         "BR1065",
         "Land Rover Motors"
        ],
        [
         738,
         "BR1067",
         "Land Rover Motors"
        ],
        [
         739,
         "BR1068",
         "Land Rover Motors"
        ],
        [
         740,
         "BR10686",
         "Simca Motors"
        ],
        [
         741,
         "BR1070",
         "Land Rover Motors"
        ],
        [
         742,
         "BR1071",
         "Lexus Motors"
        ],
        [
         743,
         "BR1073",
         "Lexus Motors"
        ],
        [
         744,
         "BR1074",
         "Lexus Motors"
        ],
        [
         745,
         "BR10746",
         "Simca do Brasil Motors"
        ],
        [
         746,
         "BR1075",
         "Lexus Motors"
        ],
        [
         747,
         "BR1077",
         "Lexus Motors"
        ],
        [
         748,
         "BR1078",
         "Lexus Motors"
        ],
        [
         749,
         "BR1079",
         "Lexus Motors"
        ],
        [
         750,
         "BR1080",
         "Lexus Motors"
        ],
        [
         751,
         "BR10806",
         "Singer Motors"
        ],
        [
         752,
         "BR1083",
         "Ligier Motors"
        ],
        [
         753,
         "BR1086",
         "Bitter Motors"
        ],
        [
         754,
         "BR1087",
         "Ligier Motors"
        ],
        [
         755,
         "BR1088",
         "Ligier Motors"
        ],
        [
         756,
         "BR1092",
         "Lincoln Motors"
        ],
        [
         757,
         "BR1093",
         "Lincoln Motors"
        ],
        [
         758,
         "BR1094",
         "Lincoln Motors"
        ],
        [
         759,
         "BR1098",
         "Lincoln Motors"
        ],
        [
         760,
         "BR10986",
         "Spyker Motors"
        ],
        [
         761,
         "BR1099",
         "Lincoln Motors"
        ],
        [
         762,
         "BR1101",
         "Lotus Motors"
        ],
        [
         763,
         "BR1102",
         "Lotus Motors"
        ],
        [
         764,
         "BR1103",
         "Lotus Motors"
        ],
        [
         765,
         "BR1104",
         "Lotus Motors"
        ],
        [
         766,
         "BR1105",
         "Lotus Motors"
        ],
        [
         767,
         "BR1107",
         "Lotus Motors"
        ],
        [
         768,
         "BR1108",
         "Lotus Motors"
        ],
        [
         769,
         "BR1110",
         "Lotus Motors"
        ],
        [
         770,
         "BR11106",
         "Standard-Triumph Motors"
        ],
        [
         771,
         "BR1111",
         "LTI Motors"
        ],
        [
         772,
         "BR1112",
         "LTI Motors"
        ],
        [
         773,
         "BR1113",
         "LTI Motors"
        ],
        [
         774,
         "BR1114",
         "LTI Motors"
        ],
        [
         775,
         "BR1117",
         "LTI Motors"
        ],
        [
         776,
         "BR1118",
         "LTI Motors"
        ],
        [
         777,
         "BR1121",
         "LuAZ Motors"
        ],
        [
         778,
         "BR1123",
         "LuAZ Motors"
        ],
        [
         779,
         "BR1125",
         "LuAZ Motors"
        ],
        [
         780,
         "BR1127",
         "LuAZ Motors"
        ],
        [
         781,
         "BR1128",
         "LuAZ Motors"
        ],
        [
         782,
         "BR11286",
         "Sunbeam Motors"
        ],
        [
         783,
         "BR1129",
         "LuAZ Motors"
        ],
        [
         784,
         "BR1130",
         "LuAZ Motors"
        ],
        [
         785,
         "BR1135",
         "Lynx Motors"
        ],
        [
         786,
         "BR1137",
         "Lynx Motors"
        ],
        [
         787,
         "BR1138",
         "Lynx Motors"
        ],
        [
         788,
         "BR1140",
         "Lynx Motors"
        ],
        [
         789,
         "BR11406",
         "Tata Motors"
        ],
        [
         790,
         "BR1141",
         "Mahindra Motors"
        ],
        [
         791,
         "BR1143",
         "Mahindra Motors"
        ],
        [
         792,
         "BR1145",
         "Mahindra Motors"
        ],
        [
         793,
         "BR1146",
         "BMW Motors"
        ],
        [
         794,
         "BR11466",
         "Tatra Motors"
        ],
        [
         795,
         "BR1147",
         "Mahindra Motors"
        ],
        [
         796,
         "BR1148",
         "Mahindra Motors"
        ],
        [
         797,
         "BR1149",
         "Mahindra Motors"
        ],
        [
         798,
         "BR1150",
         "Mahindra Motors"
        ],
        [
         799,
         "BR1151",
         "Marcos Motors"
        ],
        [
         800,
         "BR1152",
         "Marcos Motors"
        ],
        [
         801,
         "BR11526",
         "Tazzari Motors"
        ],
        [
         802,
         "BR1155",
         "Marcos Motors"
        ],
        [
         803,
         "BR1157",
         "Marcos Motors"
        ],
        [
         804,
         "BR1158",
         "Marcos Motors"
        ],
        [
         805,
         "BR11586",
         "Tesla Motors"
        ],
        [
         806,
         "BR1159",
         "Marcos Motors"
        ],
        [
         807,
         "BR1162",
         "Marlin Motors"
        ],
        [
         808,
         "BR1163",
         "Marlin Motors"
        ],
        [
         809,
         "BR1164",
         "Marlin Motors"
        ],
        [
         810,
         "BR11646",
         "Tornado Motors"
        ],
        [
         811,
         "BR1165",
         "Marlin Motors"
        ],
        [
         812,
         "BR1167",
         "Marlin Motors"
        ],
        [
         813,
         "BR1168",
         "Marlin Motors"
        ],
        [
         814,
         "BR1170",
         "Marlin Motors"
        ],
        [
         815,
         "BR11706",
         "Toyota Motors"
        ],
        [
         816,
         "BR1171",
         "Maruti Motors"
        ],
        [
         817,
         "BR1172",
         "Maruti Motors"
        ],
        [
         818,
         "BR1173",
         "Maruti Motors"
        ],
        [
         819,
         "BR1174",
         "Maruti Motors"
        ],
        [
         820,
         "BR1175",
         "Maruti Motors"
        ],
        [
         821,
         "BR1177",
         "Maruti Motors"
        ],
        [
         822,
         "BR1178",
         "Maruti Motors"
        ],
        [
         823,
         "BR1179",
         "Maruti Motors"
        ],
        [
         824,
         "BR1180",
         "Maruti Motors"
        ],
        [
         825,
         "BR1181",
         "Maserati Motors"
        ],
        [
         826,
         "BR1182",
         "Maserati Motors"
        ],
        [
         827,
         "BR11826",
         "Turner Motors"
        ],
        [
         828,
         "BR1183",
         "Maserati Motors"
        ],
        [
         829,
         "BR1184",
         "Maserati Motors"
        ],
        [
         830,
         "BR1188",
         "Maserati Motors"
        ],
        [
         831,
         "BR1189",
         "Maserati Motors"
        ],
        [
         832,
         "BR1190",
         "Maserati Motors"
        ],
        [
         833,
         "BR1192",
         "Mastretta Motors"
        ],
        [
         834,
         "BR1193",
         "Mastretta Motors"
        ],
        [
         835,
         "BR1194",
         "Mastretta Motors"
        ],
        [
         836,
         "BR11946",
         "UAZ Motors"
        ],
        [
         837,
         "BR1195",
         "Mastretta Motors"
        ],
        [
         838,
         "BR1197",
         "Mastretta Motors"
        ],
        [
         839,
         "BR1198",
         "Mastretta Motors"
        ],
        [
         840,
         "BR1199",
         "Mastretta Motors"
        ],
        [
         841,
         "BR1200",
         "Mastretta Motors"
        ],
        [
         842,
         "BR12006",
         "Vauxhall Motors"
        ],
        [
         843,
         "BR1202",
         "Matra (including Deutsch-Bonnet, René Bonnet) Motors"
        ],
        [
         844,
         "BR1203",
         "Matra (including Deutsch-Bonnet, René Bonnet) Motors"
        ],
        [
         845,
         "BR1204",
         "Matra (including Deutsch-Bonnet, René Bonnet) Motors"
        ],
        [
         846,
         "BR1205",
         "Matra (including Deutsch-Bonnet, René Bonnet) Motors"
        ],
        [
         847,
         "BR1207",
         "Matra (including Deutsch-Bonnet, René Bonnet) Motors"
        ],
        [
         848,
         "BR1208",
         "Matra (including Deutsch-Bonnet, René Bonnet) Motors"
        ],
        [
         849,
         "BR1209",
         "Matra (including Deutsch-Bonnet, René Bonnet) Motors"
        ],
        [
         850,
         "BR1210",
         "Matra (including Deutsch-Bonnet, René Bonnet) Motors"
        ],
        [
         851,
         "BR1212",
         "Mazda Motors"
        ],
        [
         852,
         "BR12126",
         "Volkswagen Motors"
        ],
        [
         853,
         "BR1214",
         "Mazda Motors"
        ],
        [
         854,
         "BR1215",
         "Mazda Motors"
        ],
        [
         855,
         "BR1217",
         "Mazda Motors"
        ],
        [
         856,
         "BR1218",
         "Mazda Motors"
        ],
        [
         857,
         "BR12186",
         "Volkswagen do Brasil Motors"
        ],
        [
         858,
         "BR1219",
         "Mazda Motors"
        ],
        [
         859,
         "BR1220",
         "Mazda Motors"
        ],
        [
         860,
         "BR1222",
         "Mazzanti Motors"
        ],
        [
         861,
         "BR1223",
         "Mazzanti Motors"
        ],
        [
         862,
         "BR1224",
         "Mazzanti Motors"
        ],
        [
         863,
         "BR12246",
         "Volkswagen South Africa Motors"
        ],
        [
         864,
         "BR1227",
         "Mazzanti Motors"
        ],
        [
         865,
         "BR1228",
         "Mazzanti Motors"
        ],
        [
         866,
         "BR1229",
         "Mazzanti Motors"
        ],
        [
         867,
         "BR1230",
         "Mazzanti Motors"
        ],
        [
         868,
         "BR12306",
         "Volvo Motors"
        ],
        [
         869,
         "BR1231",
         "McLaren Motors"
        ],
        [
         870,
         "BR1232",
         "McLaren Motors"
        ],
        [
         871,
         "BR1233",
         "McLaren Motors"
        ],
        [
         872,
         "BR1234",
         "McLaren Motors"
        ],
        [
         873,
         "BR1235",
         "McLaren Motors"
        ],
        [
         874,
         "BR12366",
         "Westfield Motors"
        ],
        [
         875,
         "BR1238",
         "McLaren Motors"
        ],
        [
         876,
         "BR1239",
         "McLaren Motors"
        ],
        [
         877,
         "BR1240",
         "McLaren Motors"
        ],
        [
         878,
         "BR1241",
         "Mercedes-Benz (including Maybach) Motors"
        ],
        [
         879,
         "BR1243",
         "Mercedes-Benz (including Maybach) Motors"
        ],
        [
         880,
         "BR1244",
         "Mercedes-Benz (including Maybach) Motors"
        ],
        [
         881,
         "BR1245",
         "Mercedes-Benz (including Maybach) Motors"
        ],
        [
         882,
         "BR1247",
         "Mercedes-Benz (including Maybach) Motors"
        ],
        [
         883,
         "BR1248",
         "Mercedes-Benz (including Maybach) Motors"
        ],
        [
         884,
         "BR12486",
         "Zastava Motors"
        ],
        [
         885,
         "BR1249",
         "Mercedes-Benz (including Maybach) Motors"
        ],
        [
         886,
         "BR1251",
         "Mercury Motors"
        ],
        [
         887,
         "BR1252",
         "Mercury Motors"
        ],
        [
         888,
         "BR1253",
         "Mercury Motors"
        ],
        [
         889,
         "BR1255",
         "Mercury Motors"
        ],
        [
         890,
         "BR1258",
         "Mercury Motors"
        ],
        [
         891,
         "BR1259",
         "Mercury Motors"
        ],
        [
         892,
         "BR12606",
         "ZIL Motors"
        ],
        [
         893,
         "BR1261",
         "Merkur Motors"
        ],
        [
         894,
         "BR1262",
         "Merkur Motors"
        ],
        [
         895,
         "BR1263",
         "Merkur Motors"
        ],
        [
         896,
         "BR1264",
         "Merkur Motors"
        ],
        [
         897,
         "BR1266",
         "Borgward (including Goliath and Lloyd) Motors"
        ],
        [
         898,
         "BR12666",
         "Audi Motors"
        ],
        [
         899,
         "BR1267",
         "Merkur Motors"
        ],
        [
         900,
         "BR1268",
         "Merkur Motors"
        ],
        [
         901,
         "BR1270",
         "Merkur Motors"
        ],
        [
         902,
         "BR1273",
         "Messerschmitt Motors"
        ],
        [
         903,
         "BR1274",
         "Messerschmitt Motors"
        ],
        [
         904,
         "BR1275",
         "Messerschmitt Motors"
        ],
        [
         905,
         "BR1277",
         "Messerschmitt Motors"
        ],
        [
         906,
         "BR12786",
         "Horch Motors"
        ],
        [
         907,
         "BR1279",
         "Messerschmitt Motors"
        ],
        [
         908,
         "BR1283",
         "Mia Motors"
        ],
        [
         909,
         "BR1287",
         "Mia Motors"
        ],
        [
         910,
         "BR1288",
         "Mia Motors"
        ],
        [
         911,
         "BR1289",
         "Mia Motors"
        ],
        [
         912,
         "BR1290",
         "Mia Motors"
        ],
        [
         913,
         "BR12906",
         "Maybach  Motors"
        ],
        [
         914,
         "BR1291",
         "Micro Motors"
        ],
        [
         915,
         "BR1292",
         "Micro Motors"
        ],
        [
         916,
         "BR1293",
         "Micro Motors"
        ],
        [
         917,
         "BR1294",
         "Micro Motors"
        ],
        [
         918,
         "BR1295",
         "Micro Motors"
        ],
        [
         919,
         "BR12966",
         "Izh  Motors"
        ],
        [
         920,
         "BR1298",
         "Micro Motors"
        ],
        [
         921,
         "BR1299",
         "Micro Motors"
        ],
        [
         922,
         "BR1300",
         "Micro Motors"
        ],
        [
         923,
         "BR1301",
         "Mini Motors"
        ],
        [
         924,
         "BR1302",
         "Mini Motors"
        ],
        [
         925,
         "BR13026",
         "Lagonda  Motors"
        ],
        [
         926,
         "BR1303",
         "Mini Motors"
        ],
        [
         927,
         "BR1304",
         "Mini Motors"
        ],
        [
         928,
         "BR1305",
         "Mini Motors"
        ],
        [
         929,
         "BR1307",
         "Mini Motors"
        ],
        [
         930,
         "BR13086",
         "MG  Motors"
        ],
        [
         931,
         "BR1310",
         "Mini Motors"
        ],
        [
         932,
         "BR1313",
         "Mitsubishi Motors"
        ],
        [
         933,
         "BR1314",
         "Mitsubishi Motors"
        ],
        [
         934,
         "BR1315",
         "Mitsubishi Motors"
        ],
        [
         935,
         "BR1317",
         "Mitsubishi Motors"
        ],
        [
         936,
         "BR1318",
         "Mitsubishi Motors"
        ],
        [
         937,
         "BR1320",
         "Mitsubishi Motors"
        ],
        [
         938,
         "BR1321",
         "Monica Motors"
        ],
        [
         939,
         "BR1322",
         "Monica Motors"
        ],
        [
         940,
         "BR1323",
         "Monica Motors"
        ],
        [
         941,
         "BR1325",
         "Monica Motors"
        ],
        [
         942,
         "BR1326",
         "Bristol Motors"
        ],
        [
         943,
         "BR13266",
         "Riley  Motors"
        ],
        [
         944,
         "BR1328",
         "Monica Motors"
        ],
        [
         945,
         "BR1330",
         "Monica Motors"
        ],
        [
         946,
         "BR1332",
         "Monteverdi Motors"
        ],
        [
         947,
         "BR13326",
         "Wolseley  Motors"
        ],
        [
         948,
         "BR1333",
         "Monteverdi Motors"
        ],
        [
         949,
         "BR1338",
         "Monteverdi Motors"
        ],
        [
         950,
         "BR13386",
         "Standard  Motors"
        ],
        [
         951,
         "BR1339",
         "Monteverdi Motors"
        ],
        [
         952,
         "BR1340",
         "Monteverdi Motors"
        ],
        [
         953,
         "BR1343",
         "Morgan Motors"
        ],
        [
         954,
         "BR1347",
         "Morgan Motors"
        ],
        [
         955,
         "BR1348",
         "Morgan Motors"
        ],
        [
         956,
         "BR1349",
         "Morgan Motors"
        ],
        [
         957,
         "BR13506",
         "Das Motors"
        ],
        [
         958,
         "BR1351",
         "Moskwitch Motors"
        ],
        [
         959,
         "BR1352",
         "Moskwitch Motors"
        ],
        [
         960,
         "BR1353",
         "Moskwitch Motors"
        ],
        [
         961,
         "BR13566",
         "Ramani Motors"
        ],
        [
         962,
         "BR1358",
         "Moskwitch Motors"
        ],
        [
         963,
         "BR1360",
         "Moskwitch Motors"
        ],
        [
         964,
         "BR1362",
         "Nash Motors"
        ],
        [
         965,
         "BR13626",
         "Deccan Motors"
        ],
        [
         966,
         "BR1363",
         "Nash Motors"
        ],
        [
         967,
         "BR1364",
         "Nash Motors"
        ],
        [
         968,
         "BR1365",
         "Nash Motors"
        ],
        [
         969,
         "BR13686",
         "Herald Motors"
        ],
        [
         970,
         "BR1369",
         "Nash Motors"
        ],
        [
         971,
         "BR1370",
         "Nash Motors"
        ],
        [
         972,
         "BR1371",
         "Naza Motors"
        ],
        [
         973,
         "BR1372",
         "Naza Motors"
        ],
        [
         974,
         "BR1373",
         "Naza Motors"
        ],
        [
         975,
         "BR13746",
         "Zion Automobils"
        ],
        [
         976,
         "BR1377",
         "Naza Motors"
        ],
        [
         977,
         "BR1378",
         "Naza Motors"
        ],
        [
         978,
         "BR1379",
         "Naza Motors"
        ],
        [
         979,
         "BR1380",
         "Naza Motors"
        ],
        [
         980,
         "BR13806",
         "Atlantic Motor Company"
        ],
        [
         981,
         "BR1382",
         "Nissan Motors"
        ],
        [
         982,
         "BR1383",
         "Nissan Motors"
        ],
        [
         983,
         "BR1384",
         "Nissan Motors"
        ],
        [
         984,
         "BR1386",
         "British Leyland Motors"
        ],
        [
         985,
         "BR1388",
         "Nissan Motors"
        ],
        [
         986,
         "BR1390",
         "Nissan Motors"
        ],
        [
         987,
         "BR1391",
         "Nissan India Motors"
        ],
        [
         988,
         "BR1392",
         "Nissan India Motors"
        ],
        [
         989,
         "BR13926",
         "Blankinship Motor Company Building"
        ],
        [
         990,
         "BR1393",
         "Nissan India Motors"
        ],
        [
         991,
         "BR1395",
         "Nissan India Motors"
        ],
        [
         992,
         "BR1397",
         "Nissan India Motors"
        ],
        [
         993,
         "BR1398",
         "Nissan India Motors"
        ],
        [
         994,
         "BR13986",
         "Bohn Motor Company Automobile Dealership"
        ],
        [
         995,
         "BR1399",
         "Nissan India Motors"
        ],
        [
         996,
         "BR1401",
         "Noble Motors"
        ],
        [
         997,
         "BR1402",
         "Noble Motors"
        ],
        [
         998,
         "BR1403",
         "Noble Motors"
        ],
        [
         999,
         "BR1404",
         "Noble Motors"
        ],
        [
         1000,
         "BR14046",
         "Buick Automobile Company Building"
        ],
        [
         1001,
         "BR1405",
         "Noble Motors"
        ],
        [
         1002,
         "BR1407",
         "Noble Motors"
        ],
        [
         1003,
         "BR1408",
         "Noble Motors"
        ],
        [
         1004,
         "BR1410",
         "Noble Motors"
        ],
        [
         1005,
         "BR14106",
         "Cadillac Automobile Company Building"
        ],
        [
         1006,
         "BR1411",
         "NSU Motors"
        ],
        [
         1007,
         "BR1412",
         "NSU Motors"
        ],
        [
         1008,
         "BR1413",
         "NSU Motors"
        ],
        [
         1009,
         "BR1414",
         "NSU Motors"
        ],
        [
         1010,
         "BR14166",
         "Casa de cadillac"
        ],
        [
         1011,
         "BR1417",
         "NSU Motors"
        ],
        [
         1012,
         "BR1418",
         "NSU Motors"
        ],
        [
         1013,
         "BR1419",
         "NSU Motors"
        ],
        [
         1014,
         "BR1420",
         "NSU Motors"
        ],
        [
         1015,
         "BR1421",
         "Oldsmobile Motors"
        ],
        [
         1016,
         "BR14226",
         "Cass Motor Sales"
        ],
        [
         1017,
         "BR1424",
         "Oldsmobile Motors"
        ],
        [
         1018,
         "BR1425",
         "Oldsmobile Motors"
        ],
        [
         1019,
         "BR1428",
         "Oldsmobile Motors"
        ],
        [
         1020,
         "BR1431",
         "Oltcit Motors"
        ],
        [
         1021,
         "BR1435",
         "Oltcit Motors"
        ],
        [
         1022,
         "BR1438",
         "Oltcit Motors"
        ],
        [
         1023,
         "BR1440",
         "Oltcit Motors"
        ],
        [
         1024,
         "BR14406",
         "Colman Automotive Building"
        ],
        [
         1025,
         "BR1442",
         "Opel Motors"
        ],
        [
         1026,
         "BR1444",
         "Opel Motors"
        ],
        [
         1027,
         "BR1445",
         "Opel Motors"
        ],
        [
         1028,
         "BR1447",
         "Opel Motors"
        ],
        [
         1029,
         "BR1448",
         "Opel Motors"
        ],
        [
         1030,
         "BR1449",
         "Opel Motors"
        ],
        [
         1031,
         "BR1450",
         "Opel Motors"
        ],
        [
         1032,
         "BR1451",
         "Packard Motors"
        ],
        [
         1033,
         "BR1452",
         "Packard Motors"
        ],
        [
         1034,
         "BR14526",
         "Howard Motor Company Building"
        ],
        [
         1035,
         "BR1454",
         "Packard Motors"
        ],
        [
         1036,
         "BR1455",
         "Packard Motors"
        ],
        [
         1037,
         "BR1457",
         "Packard Motors"
        ],
        [
         1038,
         "BR14586",
         "Hupmobile Building"
        ],
        [
         1039,
         "BR1459",
         "Packard Motors"
        ],
        [
         1040,
         "BR1460",
         "Packard Motors"
        ],
        [
         1041,
         "BR1461",
         "Pagani Motors"
        ],
        [
         1042,
         "BR1463",
         "Pagani Motors"
        ],
        [
         1043,
         "BR1464",
         "Pagani Motors"
        ],
        [
         1044,
         "BR14646",
         "Jennings Ford Automobile Dealership"
        ],
        [
         1045,
         "BR1465",
         "Pagani Motors"
        ],
        [
         1046,
         "BR1467",
         "Pagani Motors"
        ],
        [
         1047,
         "BR14706",
         "Jones Motor Company"
        ],
        [
         1048,
         "BR1471",
         "Panhard Motors"
        ],
        [
         1049,
         "BR1473",
         "Panhard Motors"
        ],
        [
         1050,
         "BR1475",
         "Panhard Motors"
        ],
        [
         1051,
         "BR14766",
         "Kindel Building"
        ],
        [
         1052,
         "BR1477",
         "Panhard Motors"
        ],
        [
         1053,
         "BR1479",
         "Panhard Motors"
        ],
        [
         1054,
         "BR1480",
         "Panhard Motors"
        ],
        [
         1055,
         "BR1482",
         "Panoz Motors"
        ],
        [
         1056,
         "BR1483",
         "Panoz Motors"
        ],
        [
         1057,
         "BR1485",
         "Panoz Motors"
        ],
        [
         1058,
         "BR1488",
         "Panoz Motors"
        ],
        [
         1059,
         "BR1489",
         "Panoz Motors"
        ],
        [
         1060,
         "BR1491",
         "Panther Motors"
        ],
        [
         1061,
         "BR1492",
         "Panther Motors"
        ],
        [
         1062,
         "BR1493",
         "Panther Motors"
        ],
        [
         1063,
         "BR1495",
         "Panther Motors"
        ],
        [
         1064,
         "BR1498",
         "Panther Motors"
        ],
        [
         1065,
         "BR1499",
         "Panther Motors"
        ],
        [
         1066,
         "BR1502",
         "Peel Motors"
        ],
        [
         1067,
         "BR1503",
         "Peel Motors"
        ],
        [
         1068,
         "BR1504",
         "Peel Motors"
        ],
        [
         1069,
         "BR1507",
         "Peel Motors"
        ],
        [
         1070,
         "BR1510",
         "Peel Motors"
        ],
        [
         1071,
         "BR1511",
         "Perodua Motors"
        ],
        [
         1072,
         "BR1512",
         "Perodua Motors"
        ],
        [
         1073,
         "BR1513",
         "Perodua Motors"
        ],
        [
         1074,
         "BR1515",
         "Perodua Motors"
        ],
        [
         1075,
         "BR1518",
         "Perodua Motors"
        ],
        [
         1076,
         "BR1519",
         "Perodua Motors"
        ],
        [
         1077,
         "BR1520",
         "Perodua Motors"
        ],
        [
         1078,
         "BR1521",
         "Peugeot Motors"
        ],
        [
         1079,
         "BR1522",
         "Peugeot Motors"
        ],
        [
         1080,
         "BR1523",
         "Peugeot Motors"
        ],
        [
         1081,
         "BR1524",
         "Peugeot Motors"
        ],
        [
         1082,
         "BR1525",
         "Peugeot Motors"
        ],
        [
         1083,
         "BR1527",
         "Peugeot Motors"
        ],
        [
         1084,
         "BR1528",
         "Peugeot Motors"
        ],
        [
         1085,
         "BR1529",
         "Peugeot Motors"
        ],
        [
         1086,
         "BR1530",
         "Peugeot Motors"
        ],
        [
         1087,
         "BR1531",
         "PGO Motors"
        ],
        [
         1088,
         "BR1540",
         "PGO Motors"
        ],
        [
         1089,
         "BR1541",
         "Piaggio Motors"
        ],
        [
         1090,
         "BR1542",
         "Piaggio Motors"
        ],
        [
         1091,
         "BR1543",
         "Piaggio Motors"
        ],
        [
         1092,
         "BR1544",
         "Piaggio Motors"
        ],
        [
         1093,
         "BR1545",
         "Piaggio Motors"
        ],
        [
         1094,
         "BR1547",
         "Piaggio Motors"
        ],
        [
         1095,
         "BR1549",
         "Piaggio Motors"
        ],
        [
         1096,
         "BR1552",
         "Plymouth Motors"
        ],
        [
         1097,
         "BR1553",
         "Plymouth Motors"
        ],
        [
         1098,
         "BR1554",
         "Plymouth Motors"
        ],
        [
         1099,
         "BR1555",
         "Plymouth Motors"
        ],
        [
         1100,
         "BR1557",
         "Plymouth Motors"
        ],
        [
         1101,
         "BR1558",
         "Plymouth Motors"
        ],
        [
         1102,
         "BR1559",
         "Plymouth Motors"
        ],
        [
         1103,
         "BR1560",
         "Plymouth Motors"
        ],
        [
         1104,
         "BR1561",
         "Polestar Motors"
        ],
        [
         1105,
         "BR1562",
         "Polestar Motors"
        ],
        [
         1106,
         "BR1563",
         "Polestar Motors"
        ],
        [
         1107,
         "BR1564",
         "Polestar Motors"
        ],
        [
         1108,
         "BR1565",
         "Polestar Motors"
        ],
        [
         1109,
         "BR1567",
         "Polestar Motors"
        ],
        [
         1110,
         "BR1568",
         "Polestar Motors"
        ],
        [
         1111,
         "BR1569",
         "Polestar Motors"
        ],
        [
         1112,
         "BR1570",
         "Polestar Motors"
        ],
        [
         1113,
         "BR1571",
         "Pontiac, Asüna Motors"
        ],
        [
         1114,
         "BR1573",
         "Pontiac, Asüna Motors"
        ],
        [
         1115,
         "BR1574",
         "Pontiac, Asüna Motors"
        ],
        [
         1116,
         "BR1575",
         "Pontiac, Asüna Motors"
        ],
        [
         1117,
         "BR1577",
         "Pontiac, Asüna Motors"
        ],
        [
         1118,
         "BR1578",
         "Pontiac, Asüna Motors"
        ],
        [
         1119,
         "BR1579",
         "Pontiac, Asüna Motors"
        ],
        [
         1120,
         "BR1582",
         "Porsche Motors"
        ],
        [
         1121,
         "BR1583",
         "Porsche Motors"
        ],
        [
         1122,
         "BR1585",
         "Porsche Motors"
        ],
        [
         1123,
         "BR1588",
         "Porsche Motors"
        ],
        [
         1124,
         "BR1589",
         "Porsche Motors"
        ],
        [
         1125,
         "BR1590",
         "Porsche Motors"
        ],
        [
         1126,
         "BR1592",
         "Premier Motors"
        ],
        [
         1127,
         "BR1593",
         "Premier Motors"
        ],
        [
         1128,
         "BR1594",
         "Premier Motors"
        ],
        [
         1129,
         "BR1595",
         "Premier Motors"
        ],
        [
         1130,
         "BR1597",
         "Premier Motors"
        ],
        [
         1131,
         "BR1598",
         "Premier Motors"
        ],
        [
         1132,
         "BR1600",
         "Premier Motors"
        ],
        [
         1133,
         "BR1601",
         "Proton Motors"
        ],
        [
         1134,
         "BR1602",
         "Proton Motors"
        ],
        [
         1135,
         "BR1603",
         "Proton Motors"
        ],
        [
         1136,
         "BR1604",
         "Proton Motors"
        ],
        [
         1137,
         "BR1605",
         "Proton Motors"
        ],
        [
         1138,
         "BR1608",
         "Proton Motors"
        ],
        [
         1139,
         "BR1610",
         "Proton Motors"
        ],
        [
         1140,
         "BR1611",
         "Puma Motors"
        ],
        [
         1141,
         "BR1612",
         "Puma Motors"
        ],
        [
         1142,
         "BR1613",
         "Puma Motors"
        ],
        [
         1143,
         "BR1615",
         "Puma Motors"
        ],
        [
         1144,
         "BR1617",
         "Puma Motors"
        ],
        [
         1145,
         "BR1618",
         "Puma Motors"
        ],
        [
         1146,
         "BR1619",
         "Puma Motors"
        ],
        [
         1147,
         "BR1620",
         "Puma Motors"
        ],
        [
         1148,
         "BR1621",
         "Ranger Motors"
        ],
        [
         1149,
         "BR1623",
         "Ranger Motors"
        ],
        [
         1150,
         "BR1625",
         "Ranger Motors"
        ],
        [
         1151,
         "BR1626",
         "Buick Motors"
        ],
        [
         1152,
         "BR1628",
         "Ranger Motors"
        ],
        [
         1153,
         "BR1629",
         "Ranger Motors"
        ],
        [
         1154,
         "BR1630",
         "Ranger Motors"
        ],
        [
         1155,
         "BR1631",
         "Reliant Motors"
        ],
        [
         1156,
         "BR1632",
         "Reliant Motors"
        ],
        [
         1157,
         "BR1633",
         "Reliant Motors"
        ],
        [
         1158,
         "BR1634",
         "Reliant Motors"
        ],
        [
         1159,
         "BR1635",
         "Reliant Motors"
        ],
        [
         1160,
         "BR1637",
         "Reliant Motors"
        ],
        [
         1161,
         "BR1638",
         "Reliant Motors"
        ],
        [
         1162,
         "BR1639",
         "Reliant Motors"
        ],
        [
         1163,
         "BR1640",
         "Reliant Motors"
        ],
        [
         1164,
         "BR1641",
         "Renault Motors"
        ],
        [
         1165,
         "BR1642",
         "Renault Motors"
        ],
        [
         1166,
         "BR1643",
         "Renault Motors"
        ],
        [
         1167,
         "BR1647",
         "Renault Motors"
        ],
        [
         1168,
         "BR1649",
         "Renault Motors"
        ],
        [
         1169,
         "BR1651",
         "Rivian Motors"
        ],
        [
         1170,
         "BR1652",
         "Rivian Motors"
        ],
        [
         1171,
         "BR1653",
         "Rivian Motors"
        ],
        [
         1172,
         "BR1654",
         "Rivian Motors"
        ],
        [
         1173,
         "BR1655",
         "Rivian Motors"
        ],
        [
         1174,
         "BR1657",
         "Rivian Motors"
        ],
        [
         1175,
         "BR1658",
         "Rivian Motors"
        ],
        [
         1176,
         "BR1659",
         "Rivian Motors"
        ],
        [
         1177,
         "BR1660",
         "Rivian Motors"
        ],
        [
         1178,
         "BR1661",
         "Rolls-Royce Motors"
        ],
        [
         1179,
         "BR1663",
         "Rolls-Royce Motors"
        ],
        [
         1180,
         "BR1664",
         "Rolls-Royce Motors"
        ],
        [
         1181,
         "BR1665",
         "Rolls-Royce Motors"
        ],
        [
         1182,
         "BR1667",
         "Rolls-Royce Motors"
        ],
        [
         1183,
         "BR1668",
         "Rolls-Royce Motors"
        ],
        [
         1184,
         "BR1669",
         "Rolls-Royce Motors"
        ],
        [
         1185,
         "BR1670",
         "Rolls-Royce Motors"
        ],
        [
         1186,
         "BR1671",
         "Saab Motors"
        ],
        [
         1187,
         "BR1672",
         "Saab Motors"
        ],
        [
         1188,
         "BR1673",
         "Saab Motors"
        ],
        [
         1189,
         "BR1674",
         "Saab Motors"
        ],
        [
         1190,
         "BR1677",
         "Saab Motors"
        ],
        [
         1191,
         "BR1678",
         "Saab Motors"
        ],
        [
         1192,
         "BR1679",
         "Saab Motors"
        ],
        [
         1193,
         "BR1680",
         "Saab Motors"
        ],
        [
         1194,
         "BR1681",
         "SAIC Motor Motors"
        ],
        [
         1195,
         "BR1682",
         "SAIC Motor Motors"
        ],
        [
         1196,
         "BR1683",
         "SAIC Motor Motors"
        ],
        [
         1197,
         "BR1684",
         "SAIC Motor Motors"
        ],
        [
         1198,
         "BR1685",
         "SAIC Motor Motors"
        ],
        [
         1199,
         "BR1686",
         "Bytom Motors"
        ],
        [
         1200,
         "BR1687",
         "SAIC Motor Motors"
        ],
        [
         1201,
         "BR1688",
         "SAIC Motor Motors"
        ],
        [
         1202,
         "BR1689",
         "SAIC Motor Motors"
        ],
        [
         1203,
         "BR1690",
         "SAIC Motor Motors"
        ],
        [
         1204,
         "BR1691",
         "Saleen Motors"
        ],
        [
         1205,
         "BR1692",
         "Saleen Motors"
        ],
        [
         1206,
         "BR1693",
         "Saleen Motors"
        ],
        [
         1207,
         "BR1697",
         "Saleen Motors"
        ],
        [
         1208,
         "BR1699",
         "Saleen Motors"
        ],
        [
         1209,
         "BR1700",
         "Saleen Motors"
        ],
        [
         1210,
         "BR1701",
         "Samsung Motors"
        ],
        [
         1211,
         "BR1702",
         "Samsung Motors"
        ],
        [
         1212,
         "BR1708",
         "Samsung Motors"
        ],
        [
         1213,
         "BR1709",
         "Samsung Motors"
        ],
        [
         1214,
         "BR1710",
         "Samsung Motors"
        ],
        [
         1215,
         "BR1711",
         "San Motors"
        ],
        [
         1216,
         "BR1712",
         "San Motors"
        ],
        [
         1217,
         "BR1714",
         "San Motors"
        ],
        [
         1218,
         "BR1715",
         "San Motors"
        ],
        [
         1219,
         "BR1717",
         "San Motors"
        ],
        [
         1220,
         "BR1718",
         "San Motors"
        ],
        [
         1221,
         "BR1719",
         "San Motors"
        ],
        [
         1222,
         "BR1720",
         "San Motors"
        ],
        [
         1223,
         "BR1721",
         "Santa Matilde Motors"
        ],
        [
         1224,
         "BR1722",
         "Santa Matilde Motors"
        ],
        [
         1225,
         "BR1723",
         "Santa Matilde Motors"
        ],
        [
         1226,
         "BR1725",
         "Santa Matilde Motors"
        ],
        [
         1227,
         "BR1727",
         "Santa Matilde Motors"
        ],
        [
         1228,
         "BR1728",
         "Santa Matilde Motors"
        ],
        [
         1229,
         "BR1729",
         "Santa Matilde Motors"
        ],
        [
         1230,
         "BR1731",
         "Santana Motors"
        ],
        [
         1231,
         "BR1733",
         "Santana Motors"
        ],
        [
         1232,
         "BR1735",
         "Santana Motors"
        ],
        [
         1233,
         "BR1737",
         "Santana Motors"
        ],
        [
         1234,
         "BR1739",
         "Santana Motors"
        ],
        [
         1235,
         "BR1741",
         "Saturn Motors"
        ],
        [
         1236,
         "BR1742",
         "Saturn Motors"
        ],
        [
         1237,
         "BR1743",
         "Saturn Motors"
        ],
        [
         1238,
         "BR1745",
         "Saturn Motors"
        ],
        [
         1239,
         "BR1746",
         "Cadillac Motors"
        ],
        [
         1240,
         "BR1747",
         "Saturn Motors"
        ],
        [
         1241,
         "BR1749",
         "Saturn Motors"
        ],
        [
         1242,
         "BR1750",
         "Saturn Motors"
        ],
        [
         1243,
         "BR1751",
         "Scion Motors"
        ],
        [
         1244,
         "BR1752",
         "Scion Motors"
        ],
        [
         1245,
         "BR1753",
         "Scion Motors"
        ],
        [
         1246,
         "BR1754",
         "Scion Motors"
        ],
        [
         1247,
         "BR1755",
         "Scion Motors"
        ],
        [
         1248,
         "BR1757",
         "Scion Motors"
        ],
        [
         1249,
         "BR1758",
         "Scion Motors"
        ],
        [
         1250,
         "BR1759",
         "Scion Motors"
        ],
        [
         1251,
         "BR1761",
         "Seat Motors"
        ],
        [
         1252,
         "BR1762",
         "Seat Motors"
        ],
        [
         1253,
         "BR1763",
         "Seat Motors"
        ],
        [
         1254,
         "BR1764",
         "Seat Motors"
        ],
        [
         1255,
         "BR1765",
         "Seat Motors"
        ],
        [
         1256,
         "BR1768",
         "Seat Motors"
        ],
        [
         1257,
         "BR1769",
         "Seat Motors"
        ],
        [
         1258,
         "BR1770",
         "Seat Motors"
        ],
        [
         1259,
         "BR1771",
         "Shelby SuperCars Motors"
        ],
        [
         1260,
         "BR1777",
         "Shelby SuperCars Motors"
        ],
        [
         1261,
         "BR1778",
         "Shelby SuperCars Motors"
        ],
        [
         1262,
         "BR1779",
         "Shelby SuperCars Motors"
        ],
        [
         1263,
         "BR1780",
         "Shelby SuperCars Motors"
        ],
        [
         1264,
         "BR1782",
         "Simca Motors"
        ],
        [
         1265,
         "BR1783",
         "Simca Motors"
        ],
        [
         1266,
         "BR1784",
         "Simca Motors"
        ],
        [
         1267,
         "BR1785",
         "Simca Motors"
        ],
        [
         1268,
         "BR1787",
         "Simca Motors"
        ],
        [
         1269,
         "BR1788",
         "Simca Motors"
        ],
        [
         1270,
         "BR1789",
         "Simca Motors"
        ],
        [
         1271,
         "BR1792",
         "Simca do Brasil Motors"
        ],
        [
         1272,
         "BR1793",
         "Simca do Brasil Motors"
        ],
        [
         1273,
         "BR1795",
         "Simca do Brasil Motors"
        ],
        [
         1274,
         "BR1797",
         "Simca do Brasil Motors"
        ],
        [
         1275,
         "BR1798",
         "Simca do Brasil Motors"
        ],
        [
         1276,
         "BR1799",
         "Simca do Brasil Motors"
        ],
        [
         1277,
         "BR1800",
         "Simca do Brasil Motors"
        ],
        [
         1278,
         "BR1803",
         "Singer Motors"
        ],
        [
         1279,
         "BR1804",
         "Singer Motors"
        ],
        [
         1280,
         "BR1805",
         "Singer Motors"
        ],
        [
         1281,
         "BR1807",
         "Singer Motors"
        ],
        [
         1282,
         "BR1808",
         "Singer Motors"
        ],
        [
         1283,
         "BR1809",
         "Singer Motors"
        ],
        [
         1284,
         "BR1811",
         "Skoda Motors"
        ],
        [
         1285,
         "BR1812",
         "Skoda Motors"
        ],
        [
         1286,
         "BR1814",
         "Skoda Motors"
        ],
        [
         1287,
         "BR1815",
         "Skoda Motors"
        ],
        [
         1288,
         "BR1820",
         "Skoda Motors"
        ],
        [
         1289,
         "BR1821",
         "Smart Motors"
        ],
        [
         1290,
         "BR1822",
         "Smart Motors"
        ],
        [
         1291,
         "BR1823",
         "Smart Motors"
        ],
        [
         1292,
         "BR1824",
         "Smart Motors"
        ],
        [
         1293,
         "BR1827",
         "Smart Motors"
        ],
        [
         1294,
         "BR1828",
         "Smart Motors"
        ],
        [
         1295,
         "BR1829",
         "Smart Motors"
        ],
        [
         1296,
         "BR1830",
         "Smart Motors"
        ],
        [
         1297,
         "BR1831",
         "Spyker Motors"
        ],
        [
         1298,
         "BR1832",
         "Spyker Motors"
        ],
        [
         1299,
         "BR1833",
         "Spyker Motors"
        ],
        [
         1300,
         "BR1834",
         "Spyker Motors"
        ],
        [
         1301,
         "BR1835",
         "Spyker Motors"
        ],
        [
         1302,
         "BR1837",
         "Spyker Motors"
        ],
        [
         1303,
         "BR1838",
         "Spyker Motors"
        ],
        [
         1304,
         "BR1839",
         "Spyker Motors"
        ],
        [
         1305,
         "BR1840",
         "Spyker Motors"
        ],
        [
         1306,
         "BR1841",
         "SsangYong Motors"
        ],
        [
         1307,
         "BR1842",
         "SsangYong Motors"
        ],
        [
         1308,
         "BR1843",
         "SsangYong Motors"
        ],
        [
         1309,
         "BR1844",
         "SsangYong Motors"
        ],
        [
         1310,
         "BR1845",
         "SsangYong Motors"
        ],
        [
         1311,
         "BR1847",
         "SsangYong Motors"
        ],
        [
         1312,
         "BR1849",
         "SsangYong Motors"
        ],
        [
         1313,
         "BR1852",
         "Standard-Triumph Motors"
        ],
        [
         1314,
         "BR1854",
         "Standard-Triumph Motors"
        ],
        [
         1315,
         "BR1855",
         "Standard-Triumph Motors"
        ],
        [
         1316,
         "BR1858",
         "Standard-Triumph Motors"
        ],
        [
         1317,
         "BR1860",
         "Standard-Triumph Motors"
        ],
        [
         1318,
         "BR1861",
         "Studebaker Motors"
        ],
        [
         1319,
         "BR1862",
         "Studebaker Motors"
        ],
        [
         1320,
         "BR1863",
         "Studebaker Motors"
        ],
        [
         1321,
         "BR1864",
         "Studebaker Motors"
        ],
        [
         1322,
         "BR1865",
         "Studebaker Motors"
        ],
        [
         1323,
         "BR1867",
         "Studebaker Motors"
        ],
        [
         1324,
         "BR1868",
         "Studebaker Motors"
        ],
        [
         1325,
         "BR1869",
         "Studebaker Motors"
        ],
        [
         1326,
         "BR1871",
         "Subaru Motors"
        ],
        [
         1327,
         "BR1872",
         "Subaru Motors"
        ],
        [
         1328,
         "BR1873",
         "Subaru Motors"
        ],
        [
         1329,
         "BR1874",
         "Subaru Motors"
        ],
        [
         1330,
         "BR1875",
         "Subaru Motors"
        ],
        [
         1331,
         "BR1877",
         "Subaru Motors"
        ],
        [
         1332,
         "BR1878",
         "Subaru Motors"
        ],
        [
         1333,
         "BR1879",
         "Subaru Motors"
        ],
        [
         1334,
         "BR1880",
         "Subaru Motors"
        ],
        [
         1335,
         "BR1882",
         "Sunbeam Motors"
        ],
        [
         1336,
         "BR1884",
         "Sunbeam Motors"
        ],
        [
         1337,
         "BR1887",
         "Sunbeam Motors"
        ],
        [
         1338,
         "BR1888",
         "Sunbeam Motors"
        ],
        [
         1339,
         "BR1889",
         "Sunbeam Motors"
        ],
        [
         1340,
         "BR1892",
         "Suzuki Motors"
        ],
        [
         1341,
         "BR1894",
         "Suzuki Motors"
        ],
        [
         1342,
         "BR1895",
         "Suzuki Motors"
        ],
        [
         1343,
         "BR1897",
         "Suzuki Motors"
        ],
        [
         1344,
         "BR1901",
         "Tata Motors"
        ],
        [
         1345,
         "BR1902",
         "Tata Motors"
        ],
        [
         1346,
         "BR1903",
         "Tata Motors"
        ],
        [
         1347,
         "BR1905",
         "Tata Motors"
        ],
        [
         1348,
         "BR1908",
         "Tata Motors"
        ],
        [
         1349,
         "BR1910",
         "Tata Motors"
        ],
        [
         1350,
         "BR1911",
         "Tatra Motors"
        ],
        [
         1351,
         "BR1913",
         "Tatra Motors"
        ],
        [
         1352,
         "BR1914",
         "Tatra Motors"
        ],
        [
         1353,
         "BR1915",
         "Tatra Motors"
        ],
        [
         1354,
         "BR1917",
         "Tatra Motors"
        ],
        [
         1355,
         "BR1918",
         "Tatra Motors"
        ],
        [
         1356,
         "BR1919",
         "Tatra Motors"
        ],
        [
         1357,
         "BR1920",
         "Tatra Motors"
        ],
        [
         1358,
         "BR1922",
         "Tazzari Motors"
        ],
        [
         1359,
         "BR1923",
         "Tazzari Motors"
        ],
        [
         1360,
         "BR1924",
         "Tazzari Motors"
        ],
        [
         1361,
         "BR1925",
         "Tazzari Motors"
        ],
        [
         1362,
         "BR1927",
         "Tazzari Motors"
        ],
        [
         1363,
         "BR1928",
         "Tazzari Motors"
        ],
        [
         1364,
         "BR1929",
         "Tazzari Motors"
        ],
        [
         1365,
         "BR1930",
         "Tazzari Motors"
        ],
        [
         1366,
         "BR1931",
         "Tesla Motors"
        ],
        [
         1367,
         "BR1932",
         "Tesla Motors"
        ],
        [
         1368,
         "BR1933",
         "Tesla Motors"
        ],
        [
         1369,
         "BR1934",
         "Tesla Motors"
        ],
        [
         1370,
         "BR1935",
         "Tesla Motors"
        ],
        [
         1371,
         "BR1937",
         "Tesla Motors"
        ],
        [
         1372,
         "BR1938",
         "Tesla Motors"
        ],
        [
         1373,
         "BR1939",
         "Tesla Motors"
        ],
        [
         1374,
         "BR1940",
         "Tesla Motors"
        ],
        [
         1375,
         "BR1941",
         "Tornado Motors"
        ],
        [
         1376,
         "BR1943",
         "Tornado Motors"
        ],
        [
         1377,
         "BR1944",
         "Tornado Motors"
        ],
        [
         1378,
         "BR1945",
         "Tornado Motors"
        ],
        [
         1379,
         "BR1947",
         "Tornado Motors"
        ],
        [
         1380,
         "BR1948",
         "Tornado Motors"
        ],
        [
         1381,
         "BR1949",
         "Tornado Motors"
        ],
        [
         1382,
         "BR1951",
         "Toyota Motors"
        ],
        [
         1383,
         "BR1952",
         "Toyota Motors"
        ],
        [
         1384,
         "BR1954",
         "Toyota Motors"
        ],
        [
         1385,
         "BR1955",
         "Toyota Motors"
        ],
        [
         1386,
         "BR1957",
         "Toyota Motors"
        ],
        [
         1387,
         "BR1958",
         "Toyota Motors"
        ],
        [
         1388,
         "BR1959",
         "Toyota Motors"
        ],
        [
         1389,
         "BR1960",
         "Toyota Motors"
        ],
        [
         1390,
         "BR1962",
         "Toyota India Motors"
        ],
        [
         1391,
         "BR1963",
         "Toyota India Motors"
        ],
        [
         1392,
         "BR1964",
         "Toyota India Motors"
        ],
        [
         1393,
         "BR1965",
         "Toyota India Motors"
        ],
        [
         1394,
         "BR1967",
         "Toyota India Motors"
        ],
        [
         1395,
         "BR1968",
         "Toyota India Motors"
        ],
        [
         1396,
         "BR1969",
         "Toyota India Motors"
        ],
        [
         1397,
         "BR1971",
         "Turner Motors"
        ],
        [
         1398,
         "BR1972",
         "Turner Motors"
        ],
        [
         1399,
         "BR1974",
         "Turner Motors"
        ],
        [
         1400,
         "BR1975",
         "Turner Motors"
        ],
        [
         1401,
         "BR1977",
         "Turner Motors"
        ],
        [
         1402,
         "BR1978",
         "Turner Motors"
        ],
        [
         1403,
         "BR1980",
         "Turner Motors"
        ],
        [
         1404,
         "BR1984",
         "TVR Motors"
        ],
        [
         1405,
         "BR1985",
         "TVR Motors"
        ],
        [
         1406,
         "BR1987",
         "TVR Motors"
        ],
        [
         1407,
         "BR1988",
         "TVR Motors"
        ],
        [
         1408,
         "BR1989",
         "TVR Motors"
        ],
        [
         1409,
         "BR1990",
         "TVR Motors"
        ],
        [
         1410,
         "BR1991",
         "UAZ Motors"
        ],
        [
         1411,
         "BR1993",
         "UAZ Motors"
        ],
        [
         1412,
         "BR1994",
         "UAZ Motors"
        ],
        [
         1413,
         "BR1998",
         "UAZ Motors"
        ],
        [
         1414,
         "BR1999",
         "UAZ Motors"
        ],
        [
         1415,
         "BR2000",
         "UAZ Motors"
        ],
        [
         1416,
         "BR2004",
         "Vauxhall Motors"
        ],
        [
         1417,
         "BR2005",
         "Vauxhall Motors"
        ],
        [
         1418,
         "BR2007",
         "Vauxhall Motors"
        ],
        [
         1419,
         "BR2008",
         "Vauxhall Motors"
        ],
        [
         1420,
         "BR2009",
         "Vauxhall Motors"
        ],
        [
         1421,
         "BR2011",
         "Venturi Motors"
        ],
        [
         1422,
         "BR2017",
         "Venturi Motors"
        ],
        [
         1423,
         "BR2018",
         "Venturi Motors"
        ],
        [
         1424,
         "BR2019",
         "Venturi Motors"
        ],
        [
         1425,
         "BR2021",
         "Volkswagen Motors"
        ],
        [
         1426,
         "BR2022",
         "Volkswagen Motors"
        ],
        [
         1427,
         "BR2023",
         "Volkswagen Motors"
        ],
        [
         1428,
         "BR2024",
         "Volkswagen Motors"
        ],
        [
         1429,
         "BR2025",
         "Volkswagen Motors"
        ],
        [
         1430,
         "BR2027",
         "Volkswagen Motors"
        ],
        [
         1431,
         "BR2028",
         "Volkswagen Motors"
        ],
        [
         1432,
         "BR2029",
         "Volkswagen Motors"
        ],
        [
         1433,
         "BR2030",
         "Volkswagen Motors"
        ],
        [
         1434,
         "BR2031",
         "Volkswagen do Brasil Motors"
        ],
        [
         1435,
         "BR2032",
         "Volkswagen do Brasil Motors"
        ],
        [
         1436,
         "BR2033",
         "Volkswagen do Brasil Motors"
        ],
        [
         1437,
         "BR2034",
         "Volkswagen do Brasil Motors"
        ],
        [
         1438,
         "BR2035",
         "Volkswagen do Brasil Motors"
        ],
        [
         1439,
         "BR2037",
         "Volkswagen do Brasil Motors"
        ],
        [
         1440,
         "BR2039",
         "Volkswagen do Brasil Motors"
        ],
        [
         1441,
         "BR2040",
         "Volkswagen do Brasil Motors"
        ],
        [
         1442,
         "BR2041",
         "Volkswagen South Africa Motors"
        ],
        [
         1443,
         "BR2042",
         "Volkswagen South Africa Motors"
        ],
        [
         1444,
         "BR2045",
         "Volkswagen South Africa Motors"
        ],
        [
         1445,
         "BR2046",
         "Chrysler Motors"
        ],
        [
         1446,
         "BR2047",
         "Volkswagen South Africa Motors"
        ],
        [
         1447,
         "BR2048",
         "Volkswagen South Africa Motors"
        ],
        [
         1448,
         "BR2049",
         "Volkswagen South Africa Motors"
        ],
        [
         1449,
         "BR2050",
         "Volkswagen South Africa Motors"
        ],
        [
         1450,
         "BR2052",
         "Volvo Motors"
        ],
        [
         1451,
         "BR2053",
         "Volvo Motors"
        ],
        [
         1452,
         "BR2054",
         "Volvo Motors"
        ],
        [
         1453,
         "BR2057",
         "Volvo Motors"
        ],
        [
         1454,
         "BR2058",
         "Volvo Motors"
        ],
        [
         1455,
         "BR2059",
         "Volvo Motors"
        ],
        [
         1456,
         "BR2060",
         "Volvo Motors"
        ],
        [
         1457,
         "BR2061",
         "Westfield Motors"
        ],
        [
         1458,
         "BR2062",
         "Westfield Motors"
        ],
        [
         1459,
         "BR2063",
         "Westfield Motors"
        ],
        [
         1460,
         "BR2064",
         "Westfield Motors"
        ],
        [
         1461,
         "BR2065",
         "Westfield Motors"
        ],
        [
         1462,
         "BR2067",
         "Westfield Motors"
        ],
        [
         1463,
         "BR2068",
         "Westfield Motors"
        ],
        [
         1464,
         "BR2070",
         "Westfield Motors"
        ],
        [
         1465,
         "BR2071",
         "Wiesmann Motors"
        ],
        [
         1466,
         "BR2072",
         "Wiesmann Motors"
        ],
        [
         1467,
         "BR2075",
         "Wiesmann Motors"
        ],
        [
         1468,
         "BR2077",
         "Wiesmann Motors"
        ],
        [
         1469,
         "BR2079",
         "Wiesmann Motors"
        ],
        [
         1470,
         "BR2080",
         "Wiesmann Motors"
        ],
        [
         1471,
         "BR2082",
         "Zastava Motors"
        ],
        [
         1472,
         "BR2083",
         "Zastava Motors"
        ],
        [
         1473,
         "BR2084",
         "Zastava Motors"
        ],
        [
         1474,
         "BR2085",
         "Zastava Motors"
        ],
        [
         1475,
         "BR2087",
         "Zastava Motors"
        ],
        [
         1476,
         "BR2088",
         "Zastava Motors"
        ],
        [
         1477,
         "BR2089",
         "Zastava Motors"
        ],
        [
         1478,
         "BR2090",
         "Zastava Motors"
        ],
        [
         1479,
         "BR2091",
         "ZAZ Motors"
        ],
        [
         1480,
         "BR2095",
         "ZAZ Motors"
        ],
        [
         1481,
         "BR2097",
         "ZAZ Motors"
        ],
        [
         1482,
         "BR2099",
         "ZAZ Motors"
        ],
        [
         1483,
         "BR2100",
         "ZAZ Motors"
        ],
        [
         1484,
         "BR2101",
         "ZIL Motors"
        ],
        [
         1485,
         "BR2103",
         "ZIL Motors"
        ],
        [
         1486,
         "BR2104",
         "ZIL Motors"
        ],
        [
         1487,
         "BR2105",
         "ZIL Motors"
        ],
        [
         1488,
         "BR2106",
         "Chrysler Europe Motors"
        ],
        [
         1489,
         "BR2107",
         "ZIL Motors"
        ],
        [
         1490,
         "BR2108",
         "ZIL Motors"
        ],
        [
         1491,
         "BR2110",
         "ZIL Motors"
        ],
        [
         1492,
         "BR2113",
         "Audi Motors"
        ],
        [
         1493,
         "BR2114",
         "Audi Motors"
        ],
        [
         1494,
         "BR2115",
         "Audi Motors"
        ],
        [
         1495,
         "BR2117",
         "Audi Motors"
        ],
        [
         1496,
         "BR2118",
         "Audi Motors"
        ],
        [
         1497,
         "BR2119",
         "Audi Motors"
        ],
        [
         1498,
         "BR2121",
         "DKW Motors"
        ],
        [
         1499,
         "BR2122",
         "DKW Motors"
        ],
        [
         1500,
         "BR2123",
         "DKW Motors"
        ],
        [
         1501,
         "BR2124",
         "DKW Motors"
        ],
        [
         1502,
         "BR2125",
         "DKW Motors"
        ],
        [
         1503,
         "BR2128",
         "DKW Motors"
        ],
        [
         1504,
         "BR2129",
         "DKW Motors"
        ],
        [
         1505,
         "BR2130",
         "DKW Motors"
        ],
        [
         1506,
         "BR2131",
         "Horch Motors"
        ],
        [
         1507,
         "BR2132",
         "Horch Motors"
        ],
        [
         1508,
         "BR2133",
         "Horch Motors"
        ],
        [
         1509,
         "BR2134",
         "Horch Motors"
        ],
        [
         1510,
         "BR2135",
         "Horch Motors"
        ],
        [
         1511,
         "BR2137",
         "Horch Motors"
        ],
        [
         1512,
         "BR2138",
         "Horch Motors"
        ],
        [
         1513,
         "BR2139",
         "Horch Motors"
        ],
        [
         1514,
         "BR2140",
         "Horch Motors"
        ],
        [
         1515,
         "BR2142",
         "Wanderer Motors"
        ],
        [
         1516,
         "BR2143",
         "Wanderer Motors"
        ],
        [
         1517,
         "BR2144",
         "Wanderer Motors"
        ],
        [
         1518,
         "BR2147",
         "Wanderer Motors"
        ],
        [
         1519,
         "BR2148",
         "Wanderer Motors"
        ],
        [
         1520,
         "BR2149",
         "Wanderer Motors"
        ],
        [
         1521,
         "BR2150",
         "Wanderer Motors"
        ],
        [
         1522,
         "BR2151",
         "Maybach  Motors"
        ],
        [
         1523,
         "BR2152",
         "Maybach  Motors"
        ],
        [
         1524,
         "BR2153",
         "Maybach  Motors"
        ],
        [
         1525,
         "BR2154",
         "Maybach  Motors"
        ],
        [
         1526,
         "BR2155",
         "Maybach  Motors"
        ],
        [
         1527,
         "BR2157",
         "Maybach  Motors"
        ],
        [
         1528,
         "BR2158",
         "Maybach  Motors"
        ],
        [
         1529,
         "BR2159",
         "Maybach  Motors"
        ],
        [
         1530,
         "BR2160",
         "Maybach  Motors"
        ],
        [
         1531,
         "BR2161",
         "Izh  Motors"
        ],
        [
         1532,
         "BR2163",
         "Izh  Motors"
        ],
        [
         1533,
         "BR2164",
         "Izh  Motors"
        ],
        [
         1534,
         "BR2165",
         "Izh  Motors"
        ],
        [
         1535,
         "BR2166",
         "Citroën Motors"
        ],
        [
         1536,
         "BR2167",
         "Izh  Motors"
        ],
        [
         1537,
         "BR2168",
         "Izh  Motors"
        ],
        [
         1538,
         "BR2169",
         "Izh  Motors"
        ],
        [
         1539,
         "BR2170",
         "Izh  Motors"
        ],
        [
         1540,
         "BR2171",
         "Lagonda  Motors"
        ],
        [
         1541,
         "BR2172",
         "Lagonda  Motors"
        ],
        [
         1542,
         "BR2173",
         "Lagonda  Motors"
        ],
        [
         1543,
         "BR2174",
         "Lagonda  Motors"
        ],
        [
         1544,
         "BR2175",
         "Lagonda  Motors"
        ],
        [
         1545,
         "BR2177",
         "Lagonda  Motors"
        ],
        [
         1546,
         "BR2178",
         "Lagonda  Motors"
        ],
        [
         1547,
         "BR2179",
         "Lagonda  Motors"
        ],
        [
         1548,
         "BR2180",
         "Lagonda  Motors"
        ],
        [
         1549,
         "BR2182",
         "MG  Motors"
        ],
        [
         1550,
         "BR2183",
         "MG  Motors"
        ],
        [
         1551,
         "BR2184",
         "MG  Motors"
        ],
        [
         1552,
         "BR2185",
         "MG  Motors"
        ],
        [
         1553,
         "BR2187",
         "MG  Motors"
        ],
        [
         1554,
         "BR2188",
         "MG  Motors"
        ],
        [
         1555,
         "BR2190",
         "MG  Motors"
        ],
        [
         1556,
         "BR2191",
         "Morris  Motors"
        ],
        [
         1557,
         "BR2192",
         "Morris  Motors"
        ],
        [
         1558,
         "BR2195",
         "Morris  Motors"
        ],
        [
         1559,
         "BR2197",
         "Morris  Motors"
        ],
        [
         1560,
         "BR2198",
         "Morris  Motors"
        ],
        [
         1561,
         "BR2199",
         "Morris  Motors"
        ],
        [
         1562,
         "BR2200",
         "Morris  Motors"
        ],
        [
         1563,
         "BR2201",
         "Austin  Motors"
        ],
        [
         1564,
         "BR2202",
         "Austin  Motors"
        ],
        [
         1565,
         "BR2204",
         "Austin  Motors"
        ],
        [
         1566,
         "BR2207",
         "Austin  Motors"
        ],
        [
         1567,
         "BR2208",
         "Austin  Motors"
        ],
        [
         1568,
         "BR2210",
         "Austin  Motors"
        ],
        [
         1569,
         "BR2211",
         "Riley  Motors"
        ],
        [
         1570,
         "BR2213",
         "Riley  Motors"
        ],
        [
         1571,
         "BR2214",
         "Riley  Motors"
        ],
        [
         1572,
         "BR2217",
         "Riley  Motors"
        ],
        [
         1573,
         "BR2220",
         "Riley  Motors"
        ],
        [
         1574,
         "BR2221",
         "Wolseley  Motors"
        ],
        [
         1575,
         "BR2222",
         "Wolseley  Motors"
        ],
        [
         1576,
         "BR2223",
         "Wolseley  Motors"
        ],
        [
         1577,
         "BR2225",
         "Wolseley  Motors"
        ],
        [
         1578,
         "BR2226",
         "Cizeta-Moroder Motors"
        ],
        [
         1579,
         "BR2229",
         "Wolseley  Motors"
        ],
        [
         1580,
         "BR2230",
         "Wolseley  Motors"
        ],
        [
         1581,
         "BR2231",
         "Standard  Motors"
        ],
        [
         1582,
         "BR2232",
         "Standard  Motors"
        ],
        [
         1583,
         "BR2233",
         "Standard  Motors"
        ],
        [
         1584,
         "BR2234",
         "Standard  Motors"
        ],
        [
         1585,
         "BR2237",
         "Standard  Motors"
        ],
        [
         1586,
         "BR2239",
         "Standard  Motors"
        ],
        [
         1587,
         "BR2240",
         "Standard  Motors"
        ],
        [
         1588,
         "BR2241",
         "Talbot  Motors"
        ],
        [
         1589,
         "BR2243",
         "Talbot  Motors"
        ],
        [
         1590,
         "BR2244",
         "Talbot  Motors"
        ],
        [
         1591,
         "BR2245",
         "Talbot  Motors"
        ],
        [
         1592,
         "BR2247",
         "Talbot  Motors"
        ],
        [
         1593,
         "BR2248",
         "Talbot  Motors"
        ],
        [
         1594,
         "BR2250",
         "Talbot  Motors"
        ],
        [
         1595,
         "BR2251",
         "Das Motors"
        ],
        [
         1596,
         "BR2252",
         "Das Motors"
        ],
        [
         1597,
         "BR2253",
         "Das Motors"
        ],
        [
         1598,
         "BR2258",
         "Das Motors"
        ],
        [
         1599,
         "BR2259",
         "Das Motors"
        ],
        [
         1600,
         "BR2260",
         "Das Motors"
        ],
        [
         1601,
         "BR2262",
         "Ramani Motors"
        ],
        [
         1602,
         "BR2263",
         "Ramani Motors"
        ],
        [
         1603,
         "BR2264",
         "Ramani Motors"
        ],
        [
         1604,
         "BR2267",
         "Ramani Motors"
        ],
        [
         1605,
         "BR2270",
         "Ramani Motors"
        ],
        [
         1606,
         "BR2271",
         "Deccan Motors"
        ],
        [
         1607,
         "BR2272",
         "Deccan Motors"
        ],
        [
         1608,
         "BR2273",
         "Deccan Motors"
        ],
        [
         1609,
         "BR2275",
         "Deccan Motors"
        ],
        [
         1610,
         "BR2277",
         "Deccan Motors"
        ],
        [
         1611,
         "BR2278",
         "Deccan Motors"
        ],
        [
         1612,
         "BR2280",
         "Deccan Motors"
        ],
        [
         1613,
         "BR2281",
         "Herald Motors"
        ],
        [
         1614,
         "BR2282",
         "Herald Motors"
        ],
        [
         1615,
         "BR2283",
         "Herald Motors"
        ],
        [
         1616,
         "BR2284",
         "Herald Motors"
        ],
        [
         1617,
         "BR2285",
         "Herald Motors"
        ],
        [
         1618,
         "BR2286",
         "Dacia Motors"
        ],
        [
         1619,
         "BR2287",
         "Herald Motors"
        ],
        [
         1620,
         "BR2288",
         "Herald Motors"
        ],
        [
         1621,
         "BR2289",
         "Herald Motors"
        ],
        [
         1622,
         "BR2290",
         "Herald Motors"
        ],
        [
         1623,
         "BR2291",
         "Zion Automobils"
        ],
        [
         1624,
         "BR2293",
         "Zion Automobils"
        ],
        [
         1625,
         "BR2295",
         "Zion Automobils"
        ],
        [
         1626,
         "BR2297",
         "Zion Automobils"
        ],
        [
         1627,
         "BR2300",
         "Zion Automobils"
        ],
        [
         1628,
         "BR2301",
         "Atlantic Motor Company"
        ],
        [
         1629,
         "BR2302",
         "Atlantic Motor Company"
        ],
        [
         1630,
         "BR2303",
         "Atlantic Motor Company"
        ],
        [
         1631,
         "BR2305",
         "Atlantic Motor Company"
        ],
        [
         1632,
         "BR2307",
         "Atlantic Motor Company"
        ],
        [
         1633,
         "BR2308",
         "Atlantic Motor Company"
        ],
        [
         1634,
         "BR2309",
         "Atlantic Motor Company"
        ],
        [
         1635,
         "BR2310",
         "Atlantic Motor Company"
        ],
        [
         1636,
         "BR2312",
         "2008 NRHP-listed"
        ],
        [
         1637,
         "BR2313",
         "2008 NRHP-listed"
        ],
        [
         1638,
         "BR2315",
         "2008 NRHP-listed"
        ],
        [
         1639,
         "BR2317",
         "2008 NRHP-listed"
        ],
        [
         1640,
         "BR2318",
         "2008 NRHP-listed"
        ],
        [
         1641,
         "BR2319",
         "2008 NRHP-listed"
        ],
        [
         1642,
         "BR2320",
         "2008 NRHP-listed"
        ],
        [
         1643,
         "BR2321",
         "Blankinship Motor Company Building"
        ],
        [
         1644,
         "BR2322",
         "Blankinship Motor Company Building"
        ],
        [
         1645,
         "BR2323",
         "Blankinship Motor Company Building"
        ],
        [
         1646,
         "BR2324",
         "Blankinship Motor Company Building"
        ],
        [
         1647,
         "BR2327",
         "Blankinship Motor Company Building"
        ],
        [
         1648,
         "BR2329",
         "Blankinship Motor Company Building"
        ],
        [
         1649,
         "BR2330",
         "Blankinship Motor Company Building"
        ],
        [
         1650,
         "BR2331",
         "Bohn Motor Company Automobile Dealership"
        ],
        [
         1651,
         "BR2332",
         "Bohn Motor Company Automobile Dealership"
        ],
        [
         1652,
         "BR2334",
         "Bohn Motor Company Automobile Dealership"
        ],
        [
         1653,
         "BR2335",
         "Bohn Motor Company Automobile Dealership"
        ],
        [
         1654,
         "BR2337",
         "Bohn Motor Company Automobile Dealership"
        ],
        [
         1655,
         "BR2338",
         "Bohn Motor Company Automobile Dealership"
        ],
        [
         1656,
         "BR2339",
         "Bohn Motor Company Automobile Dealership"
        ],
        [
         1657,
         "BR2340",
         "Bohn Motor Company Automobile Dealership"
        ],
        [
         1658,
         "BR2341",
         "Buick Automobile Company Building"
        ],
        [
         1659,
         "BR2342",
         "Buick Automobile Company Building"
        ],
        [
         1660,
         "BR2344",
         "Buick Automobile Company Building"
        ],
        [
         1661,
         "BR2345",
         "Buick Automobile Company Building"
        ],
        [
         1662,
         "BR2346",
         "Daewoo, Saehan, Chevrolet Korea Motors"
        ],
        [
         1663,
         "BR2347",
         "Buick Automobile Company Building"
        ],
        [
         1664,
         "BR2348",
         "Buick Automobile Company Building"
        ],
        [
         1665,
         "BR2350",
         "Buick Automobile Company Building"
        ],
        [
         1666,
         "BR2351",
         "Cadillac Automobile Company Building"
        ],
        [
         1667,
         "BR2352",
         "Cadillac Automobile Company Building"
        ],
        [
         1668,
         "BR2353",
         "Cadillac Automobile Company Building"
        ],
        [
         1669,
         "BR2355",
         "Cadillac Automobile Company Building"
        ],
        [
         1670,
         "BR2357",
         "Cadillac Automobile Company Building"
        ],
        [
         1671,
         "BR2358",
         "Cadillac Automobile Company Building"
        ],
        [
         1672,
         "BR2359",
         "Cadillac Automobile Company Building"
        ],
        [
         1673,
         "BR2360",
         "Cadillac Automobile Company Building"
        ],
        [
         1674,
         "BR2361",
         "Casa de cadillac"
        ],
        [
         1675,
         "BR2362",
         "Casa de cadillac"
        ],
        [
         1676,
         "BR2367",
         "Casa de cadillac"
        ],
        [
         1677,
         "BR2368",
         "Casa de cadillac"
        ],
        [
         1678,
         "BR2369",
         "Casa de cadillac"
        ],
        [
         1679,
         "BR2370",
         "Casa de cadillac"
        ],
        [
         1680,
         "BR2371",
         "Cass Motor Sales"
        ],
        [
         1681,
         "BR2372",
         "Cass Motor Sales"
        ],
        [
         1682,
         "BR2374",
         "Cass Motor Sales"
        ],
        [
         1683,
         "BR2375",
         "Cass Motor Sales"
        ],
        [
         1684,
         "BR2377",
         "Cass Motor Sales"
        ],
        [
         1685,
         "BR2378",
         "Cass Motor Sales"
        ],
        [
         1686,
         "BR2380",
         "Cass Motor Sales"
        ],
        [
         1687,
         "BR2382",
         "Claremore Auto Dealership"
        ],
        [
         1688,
         "BR2383",
         "Claremore Auto Dealership"
        ],
        [
         1689,
         "BR2384",
         "Claremore Auto Dealership"
        ],
        [
         1690,
         "BR2385",
         "Claremore Auto Dealership"
        ],
        [
         1691,
         "BR2388",
         "Claremore Auto Dealership"
        ],
        [
         1692,
         "BR2389",
         "Claremore Auto Dealership"
        ],
        [
         1693,
         "BR2391",
         "Clemens Automobile Company Building"
        ],
        [
         1694,
         "BR2392",
         "Clemens Automobile Company Building"
        ],
        [
         1695,
         "BR2393",
         "Clemens Automobile Company Building"
        ],
        [
         1696,
         "BR2394",
         "Clemens Automobile Company Building"
        ],
        [
         1697,
         "BR2395",
         "Clemens Automobile Company Building"
        ],
        [
         1698,
         "BR2399",
         "Clemens Automobile Company Building"
        ],
        [
         1699,
         "BR2401",
         "Colman Automotive Building"
        ],
        [
         1700,
         "BR2402",
         "Colman Automotive Building"
        ],
        [
         1701,
         "BR2404",
         "Colman Automotive Building"
        ],
        [
         1702,
         "BR2405",
         "Colman Automotive Building"
        ],
        [
         1703,
         "BR2406",
         "DAF Motors"
        ],
        [
         1704,
         "BR2407",
         "Colman Automotive Building"
        ],
        [
         1705,
         "BR2409",
         "Colman Automotive Building"
        ],
        [
         1706,
         "BR2410",
         "Colman Automotive Building"
        ],
        [
         1707,
         "BR2411",
         "H Street Playhouse"
        ],
        [
         1708,
         "BR2412",
         "H Street Playhouse"
        ],
        [
         1709,
         "BR2414",
         "H Street Playhouse"
        ],
        [
         1710,
         "BR2415",
         "H Street Playhouse"
        ],
        [
         1711,
         "BR2417",
         "H Street Playhouse"
        ],
        [
         1712,
         "BR2419",
         "H Street Playhouse"
        ],
        [
         1713,
         "BR2420",
         "H Street Playhouse"
        ],
        [
         1714,
         "BR2421",
         "Howard Motor Company Building"
        ],
        [
         1715,
         "BR2423",
         "Howard Motor Company Building"
        ],
        [
         1716,
         "BR2427",
         "Howard Motor Company Building"
        ],
        [
         1717,
         "BR2428",
         "Howard Motor Company Building"
        ],
        [
         1718,
         "BR2429",
         "Howard Motor Company Building"
        ],
        [
         1719,
         "BR2431",
         "Hupmobile Building"
        ],
        [
         1720,
         "BR2433",
         "Hupmobile Building"
        ],
        [
         1721,
         "BR2437",
         "Hupmobile Building"
        ],
        [
         1722,
         "BR2438",
         "Hupmobile Building"
        ],
        [
         1723,
         "BR2439",
         "Hupmobile Building"
        ],
        [
         1724,
         "BR2440",
         "Hupmobile Building"
        ],
        [
         1725,
         "BR2441",
         "Jennings Ford Automobile Dealership"
        ],
        [
         1726,
         "BR2443",
         "Jennings Ford Automobile Dealership"
        ],
        [
         1727,
         "BR2444",
         "Jennings Ford Automobile Dealership"
        ],
        [
         1728,
         "BR2445",
         "Jennings Ford Automobile Dealership"
        ],
        [
         1729,
         "BR2447",
         "Jennings Ford Automobile Dealership"
        ],
        [
         1730,
         "BR2448",
         "Jennings Ford Automobile Dealership"
        ],
        [
         1731,
         "BR2449",
         "Jennings Ford Automobile Dealership"
        ],
        [
         1732,
         "BR2450",
         "Jennings Ford Automobile Dealership"
        ],
        [
         1733,
         "BR2451",
         "Jones Motor Company"
        ],
        [
         1734,
         "BR2452",
         "Jones Motor Company"
        ],
        [
         1735,
         "BR2454",
         "Jones Motor Company"
        ],
        [
         1736,
         "BR2455",
         "Jones Motor Company"
        ],
        [
         1737,
         "BR2457",
         "Jones Motor Company"
        ],
        [
         1738,
         "BR2460",
         "Jones Motor Company"
        ],
        [
         1739,
         "BR2462",
         "Kindel Building"
        ],
        [
         1740,
         "BR2463",
         "Kindel Building"
        ],
        [
         1741,
         "BR2464",
         "Kindel Building"
        ],
        [
         1742,
         "BR2467",
         "Kindel Building"
        ],
        [
         1743,
         "BR2468",
         "Kindel Building"
        ],
        [
         1744,
         "BR2469",
         "Kindel Building"
        ],
        [
         1745,
         "BR2470",
         "Kindel Building"
        ],
        [
         1746,
         "BR2526",
         "Daimler Motors"
        ],
        [
         1747,
         "BR2586",
         "Datsun Motors"
        ],
        [
         1748,
         "BR2646",
         "Delahaye Motors"
        ],
        [
         1749,
         "BR2706",
         "DeLorean Motors"
        ],
        [
         1750,
         "BR2766",
         "DeSoto Motors"
        ],
        [
         1751,
         "BR2886",
         "Dodge Motors"
        ],
        [
         1752,
         "BR2946",
         "Donkervoort Motors"
        ],
        [
         1753,
         "BR3006",
         "Edsel Motors"
        ],
        [
         1754,
         "BR3066",
         "e.GO Mobile Motors"
        ],
        [
         1755,
         "BR3186",
         "Elva Motors"
        ],
        [
         1756,
         "BR3246",
         "Facel Vega Motors"
        ],
        [
         1757,
         "BR3306",
         "Ferrari Motors"
        ],
        [
         1758,
         "BR3426",
         "Fiat do Brasil Motors"
        ],
        [
         1759,
         "BR3546",
         "Fisker, Karma Motors"
        ],
        [
         1760,
         "BR3606",
         "Ford America Motors"
        ],
        [
         1761,
         "BR3666",
         "Ford Australia Motors"
        ],
        [
         1762,
         "BR3726",
         "Ford do Brasil Motors"
        ],
        [
         1763,
         "BR3786",
         "Ford Europe Motors"
        ],
        [
         1764,
         "BR3906",
         "Freightliner Motors"
        ],
        [
         1765,
         "BR3966",
         "FSO Motors"
        ],
        [
         1766,
         "BR4026",
         "GAZ Motors"
        ],
        [
         1767,
         "BR4086",
         "Geo Motors"
        ],
        [
         1768,
         "BR4146",
         "Gilbern Motors"
        ],
        [
         1769,
         "BR4266",
         "Glas Motors"
        ],
        [
         1770,
         "BR4386",
         "GTA Spano Motors"
        ],
        [
         1771,
         "BR4446",
         "Gumpert Motors"
        ],
        [
         1772,
         "BR4566",
         "Heinkel Motors"
        ],
        [
         1773,
         "BR4626",
         "Hennessey Motors"
        ],
        [
         1774,
         "BR4686",
         "Hillman Motors"
        ],
        [
         1775,
         "BR4746",
         "Hindustan Motors"
        ],
        [
         1776,
         "BR4806",
         "Holden Motors"
        ],
        [
         1777,
         "BR4926",
         "Honda India Motors"
        ],
        [
         1778,
         "BR4986",
         "Hudson Motors"
        ],
        [
         1779,
         "BR5046",
         "Humber Motors"
        ],
        [
         1780,
         "BR5106",
         "Hummer Motors"
        ],
        [
         1781,
         "BR5226",
         "IFA (including Trabant, Wartburg, Barkas) Motors"
        ],
        [
         1782,
         "BR5346",
         "Innocenti Motors"
        ],
        [
         1783,
         "BR5406",
         "Invicta Motors"
        ],
        [
         1784,
         "BR5466",
         "Isdera Motors"
        ],
        [
         1785,
         "BR5586",
         "Isotta Fraschini Motors"
        ],
        [
         1786,
         "BR5646",
         "Isuzu Motors"
        ],
        [
         1787,
         "BR5706",
         "Iveco Motors"
        ],
        [
         1788,
         "BR5826",
         "Jeep Motors"
        ],
        [
         1789,
         "BR5886",
         "Jensen Motors"
        ],
        [
         1790,
         "BR5946",
         "JPX Motors"
        ],
        [
         1791,
         "BR6006",
         "Kia Motors"
        ],
        [
         1792,
         "BR6066",
         "Koenigsegg Motors"
        ],
        [
         1793,
         "BR6126",
         "KTM Motors"
        ],
        [
         1794,
         "BR6186",
         "Lada Motors"
        ],
        [
         1795,
         "BR6246",
         "Lamborghini Motors"
        ],
        [
         1796,
         "BR6306",
         "Lancia Motors"
        ],
        [
         1797,
         "BR6366",
         "Land Rover Motors"
        ],
        [
         1798,
         "BR6426",
         "Lexus Motors"
        ],
        [
         1799,
         "BR6486",
         "Ligier Motors"
        ],
        [
         1800,
         "BR6546",
         "Lincoln Motors"
        ],
        [
         1801,
         "BR6606",
         "Lotus Motors"
        ],
        [
         1802,
         "BR6786",
         "Lynx Motors"
        ],
        [
         1803,
         "BR6846",
         "Mahindra Motors"
        ],
        [
         1804,
         "BR6966",
         "Marlin Motors"
        ],
        [
         1805,
         "BR7026",
         "Maruti Motors"
        ],
        [
         1806,
         "BR7146",
         "Mastretta Motors"
        ],
        [
         1807,
         "BR7266",
         "Mazda Motors"
        ],
        [
         1808,
         "BR7326",
         "Mazzanti Motors"
        ],
        [
         1809,
         "BR7386",
         "McLaren Motors"
        ],
        [
         1810,
         "BR7446",
         "Mercedes-Benz (including Maybach) Motors"
        ],
        [
         1811,
         "BR7506",
         "Mercury Motors"
        ],
        [
         1812,
         "BR7686",
         "Mia Motors"
        ],
        [
         1813,
         "BR7746",
         "Micro Motors"
        ],
        [
         1814,
         "BR7806",
         "Mini Motors"
        ],
        [
         1815,
         "BR7866",
         "Mitsubishi Motors"
        ],
        [
         1816,
         "BR7926",
         "Monica Motors"
        ],
        [
         1817,
         "BR7986",
         "Monteverdi Motors"
        ],
        [
         1818,
         "BR8046",
         "Morgan Motors"
        ],
        [
         1819,
         "BR8106",
         "Moskwitch Motors"
        ],
        [
         1820,
         "BR8226",
         "Naza Motors"
        ],
        [
         1821,
         "BR8286",
         "Nissan Motors"
        ],
        [
         1822,
         "BR8406",
         "Noble Motors"
        ],
        [
         1823,
         "BR8466",
         "NSU Motors"
        ],
        [
         1824,
         "BR8586",
         "Oltcit Motors"
        ],
        [
         1825,
         "BR8646",
         "Opel Motors"
        ],
        [
         1826,
         "BR8706",
         "Packard Motors"
        ],
        [
         1827,
         "BR8766",
         "Pagani Motors"
        ],
        [
         1828,
         "BR8826",
         "Panhard Motors"
        ],
        [
         1829,
         "BR8886",
         "Panoz Motors"
        ],
        [
         1830,
         "BR8946",
         "Panther Motors"
        ],
        [
         1831,
         "BR9066",
         "Perodua Motors"
        ],
        [
         1832,
         "BR9126",
         "Peugeot Motors"
        ],
        [
         1833,
         "BR9186",
         "PGO Motors"
        ],
        [
         1834,
         "BR9246",
         "Piaggio Motors"
        ],
        [
         1835,
         "BR9306",
         "Plymouth Motors"
        ],
        [
         1836,
         "BR9426",
         "Pontiac, Asüna Motors"
        ]
       ],
       "datasetInfos": [],
       "dbfsResultPath": null,
       "isJsonSchema": true,
       "metadata": {},
       "overflow": false,
       "plotOptions": {
        "customPlotOptions": {},
        "displayType": "table",
        "pivotAggregation": null,
        "pivotColumns": null,
        "xColumns": null,
        "yColumns": null
       },
       "removedWidgets": [],
       "schema": [
        {
         "metadata": "{}",
         "name": "branch_key",
         "type": "\"integer\""
        },
        {
         "metadata": "{}",
         "name": "Branch_ID",
         "type": "\"string\""
        },
        {
         "metadata": "{}",
         "name": "BranchName",
         "type": "\"string\""
        }
       ],
       "type": "table"
      }
     },
     "output_type": "display_data"
    }
   ],
   "source": [
    "df_existing_only_clean = df_existing_only.select(\"branch_key\", \"Branch_ID\", \"BranchName\")\n",
    "df_final_branch = df_existing_only_clean.union(df_new_with_keys)\n",
    "df_final_branch.display()"
   ]
  },
  {
   "cell_type": "markdown",
   "metadata": {
    "application/vnd.databricks.v1+cell": {
     "cellMetadata": {},
     "inputWidgets": {},
     "nuid": "2c73fd5d-689d-4dac-a263-cc55c27646ec",
     "showTitle": false,
     "tableResultSettingsMap": {},
     "title": ""
    }
   },
   "source": [
    "# SCD TYPE 1 - UPSERT "
   ]
  },
  {
   "cell_type": "code",
   "execution_count": 0,
   "metadata": {
    "application/vnd.databricks.v1+cell": {
     "cellMetadata": {
      "byteLimit": 2048000,
      "rowLimit": 10000
     },
     "inputWidgets": {},
     "nuid": "28402e19-4b3d-44bf-8f13-a6e0404e756d",
     "showTitle": false,
     "tableResultSettingsMap": {},
     "title": ""
    }
   },
   "outputs": [
    {
     "output_type": "stream",
     "name": "stderr",
     "output_type": "stream",
     "text": [
      "/databricks/python/lib/python3.11/site-packages/pyspark/sql/connect/expressions.py:1017: UserWarning: WARN WindowExpression: No Partition Defined for Window operation! Moving all data to a single partition, this can cause serious performance degradation.\n  warnings.warn(\n"
     ]
    }
   ],
   "source": [
    "from delta.tables import DeltaTable\n",
    "\n",
    "gold_path = \"abfss://gold@datalakecarsrj.dfs.core.windows.net/dim_branch\"\n",
    "\n",
    "if spark.catalog.tableExists(\"cars_catalog.gold.dim_branch\"):\n",
    "    delta_tbl = DeltaTable.forPath(spark, gold_path)\n",
    "    delta_tbl.alias(\"trg\").merge(\n",
    "        df_final_branch.alias(\"src\"),\n",
    "        \"trg.branch_key = src.branch_key\"\n",
    "    ).whenMatchedUpdateAll() \\\n",
    "     .whenNotMatchedInsertAll() \\\n",
    "     .execute()\n",
    "else:\n",
    "    df_final_branch.write.format(\"delta\") \\\n",
    "        .mode(\"overwrite\") \\\n",
    "        .option(\"path\", gold_path) \\\n",
    "        .saveAsTable(\"cars_catalog.gold.dim_branch\")"
   ]
  },
  {
   "cell_type": "code",
   "execution_count": 0,
   "metadata": {
    "application/vnd.databricks.v1+cell": {
     "cellMetadata": {
      "byteLimit": 2048000,
      "implicitDf": true,
      "rowLimit": 10000
     },
     "inputWidgets": {},
     "nuid": "5af6b517-039b-47dd-888b-36125dc8a660",
     "showTitle": false,
     "tableResultSettingsMap": {},
     "title": ""
    }
   },
   "outputs": [
    {
     "output_type": "display_data",
     "data": {
      "text/html": [
       "<style scoped>\n",
       "  .table-result-container {\n",
       "    max-height: 300px;\n",
       "    overflow: auto;\n",
       "  }\n",
       "  table, th, td {\n",
       "    border: 1px solid black;\n",
       "    border-collapse: collapse;\n",
       "  }\n",
       "  th, td {\n",
       "    padding: 5px;\n",
       "  }\n",
       "  th {\n",
       "    text-align: left;\n",
       "  }\n",
       "</style><div class='table-result-container'><table class='table-result'><thead style='background-color: white'><tr><th>branch_key</th><th>Branch_ID</th><th>BranchName</th></tr></thead><tbody><tr><td>1</td><td>BR0001</td><td>AC Cars Motors</td></tr><tr><td>2</td><td>BR0003</td><td>AC Cars Motors</td></tr><tr><td>3</td><td>BR0004</td><td>AC Cars Motors</td></tr><tr><td>4</td><td>BR0005</td><td>AC Cars Motors</td></tr><tr><td>5</td><td>BR0006</td><td>AC Cars Motors</td></tr><tr><td>6</td><td>BR0008</td><td>AC Cars Motors</td></tr><tr><td>7</td><td>BR0009</td><td>AC Cars Motors</td></tr><tr><td>8</td><td>BR0010</td><td>AC Cars Motors</td></tr><tr><td>9</td><td>BR0011</td><td>Acura Motors</td></tr><tr><td>10</td><td>BR0012</td><td>Acura Motors</td></tr><tr><td>11</td><td>BR0013</td><td>Acura Motors</td></tr><tr><td>12</td><td>BR0014</td><td>Acura Motors</td></tr><tr><td>13</td><td>BR0015</td><td>Acura Motors</td></tr><tr><td>14</td><td>BR0017</td><td>Acura Motors</td></tr><tr><td>15</td><td>BR0018</td><td>Acura Motors</td></tr><tr><td>16</td><td>BR0019</td><td>Acura Motors</td></tr><tr><td>17</td><td>BR0020</td><td>Acura Motors</td></tr><tr><td>18</td><td>BR0021</td><td>Aixam-Mega (including Arola) Motors</td></tr><tr><td>19</td><td>BR0024</td><td>Aixam-Mega (including Arola) Motors</td></tr><tr><td>20</td><td>BR0025</td><td>Aixam-Mega (including Arola) Motors</td></tr><tr><td>21</td><td>BR0027</td><td>Aixam-Mega (including Arola) Motors</td></tr><tr><td>22</td><td>BR0028</td><td>Aixam-Mega (including Arola) Motors</td></tr><tr><td>23</td><td>BR0029</td><td>Aixam-Mega (including Arola) Motors</td></tr><tr><td>24</td><td>BR0031</td><td>Alfa Romeo Motors</td></tr><tr><td>25</td><td>BR0032</td><td>Alfa Romeo Motors</td></tr><tr><td>26</td><td>BR0033</td><td>Alfa Romeo Motors</td></tr><tr><td>27</td><td>BR0035</td><td>Alfa Romeo Motors</td></tr><tr><td>28</td><td>BR0037</td><td>Alfa Romeo Motors</td></tr><tr><td>29</td><td>BR0038</td><td>Alfa Romeo Motors</td></tr><tr><td>30</td><td>BR0040</td><td>Alfa Romeo Motors</td></tr><tr><td>31</td><td>BR0041</td><td>Alpine Motors</td></tr><tr><td>32</td><td>BR0042</td><td>Alpine Motors</td></tr><tr><td>33</td><td>BR0043</td><td>Alpine Motors</td></tr><tr><td>34</td><td>BR0044</td><td>Alpine Motors</td></tr><tr><td>35</td><td>BR0045</td><td>Alpine Motors</td></tr><tr><td>36</td><td>BR0047</td><td>Alpine Motors</td></tr><tr><td>37</td><td>BR0048</td><td>Alpine Motors</td></tr><tr><td>38</td><td>BR0049</td><td>Alpine Motors</td></tr><tr><td>39</td><td>BR0050</td><td>Alpine Motors</td></tr><tr><td>40</td><td>BR0051</td><td>Alvis Motors</td></tr><tr><td>41</td><td>BR0052</td><td>Alvis Motors</td></tr><tr><td>42</td><td>BR0053</td><td>Alvis Motors</td></tr><tr><td>43</td><td>BR0054</td><td>Alvis Motors</td></tr><tr><td>44</td><td>BR0055</td><td>Alvis Motors</td></tr><tr><td>45</td><td>BR0057</td><td>Alvis Motors</td></tr><tr><td>46</td><td>BR0058</td><td>Alvis Motors</td></tr><tr><td>47</td><td>BR0059</td><td>Alvis Motors</td></tr><tr><td>48</td><td>BR0060</td><td>Alvis Motors</td></tr><tr><td>49</td><td>BR0061</td><td>AMC, Eagle Motors</td></tr><tr><td>50</td><td>BR0064</td><td>AMC, Eagle Motors</td></tr><tr><td>51</td><td>BR0065</td><td>AMC, Eagle Motors</td></tr><tr><td>52</td><td>BR0066</td><td>Acura Motors</td></tr><tr><td>53</td><td>BR0067</td><td>AMC, Eagle Motors</td></tr><tr><td>54</td><td>BR0068</td><td>AMC, Eagle Motors</td></tr><tr><td>55</td><td>BR0069</td><td>AMC, Eagle Motors</td></tr><tr><td>56</td><td>BR0070</td><td>AMC, Eagle Motors</td></tr><tr><td>57</td><td>BR0071</td><td>Anadol Motors</td></tr><tr><td>58</td><td>BR0072</td><td>Anadol Motors</td></tr><tr><td>59</td><td>BR0073</td><td>Anadol Motors</td></tr><tr><td>60</td><td>BR0074</td><td>Anadol Motors</td></tr><tr><td>61</td><td>BR0075</td><td>Anadol Motors</td></tr><tr><td>62</td><td>BR0077</td><td>Anadol Motors</td></tr><tr><td>63</td><td>BR0078</td><td>Anadol Motors</td></tr><tr><td>64</td><td>BR0080</td><td>Anadol Motors</td></tr><tr><td>65</td><td>BR0081</td><td>Ariel Motors</td></tr><tr><td>66</td><td>BR0082</td><td>Ariel Motors</td></tr><tr><td>67</td><td>BR0083</td><td>Ariel Motors</td></tr><tr><td>68</td><td>BR0084</td><td>Ariel Motors</td></tr><tr><td>69</td><td>BR0085</td><td>Ariel Motors</td></tr><tr><td>70</td><td>BR0087</td><td>Ariel Motors</td></tr><tr><td>71</td><td>BR0089</td><td>Ariel Motors</td></tr><tr><td>72</td><td>BR0090</td><td>Ariel Motors</td></tr><tr><td>73</td><td>BR0092</td><td>ARO Motors</td></tr><tr><td>74</td><td>BR0094</td><td>ARO Motors</td></tr><tr><td>75</td><td>BR0095</td><td>ARO Motors</td></tr><tr><td>76</td><td>BR0098</td><td>ARO Motors</td></tr><tr><td>77</td><td>BR0101</td><td>Artega Motors</td></tr><tr><td>78</td><td>BR0102</td><td>Artega Motors</td></tr><tr><td>79</td><td>BR0103</td><td>Artega Motors</td></tr><tr><td>80</td><td>BR0104</td><td>Artega Motors</td></tr><tr><td>81</td><td>BR0108</td><td>Artega Motors</td></tr><tr><td>82</td><td>BR0111</td><td>Asia Motors Motors</td></tr><tr><td>83</td><td>BR0112</td><td>Asia Motors Motors</td></tr><tr><td>84</td><td>BR0114</td><td>Asia Motors Motors</td></tr><tr><td>85</td><td>BR0115</td><td>Asia Motors Motors</td></tr><tr><td>86</td><td>BR0117</td><td>Asia Motors Motors</td></tr><tr><td>87</td><td>BR0118</td><td>Asia Motors Motors</td></tr><tr><td>88</td><td>BR0119</td><td>Asia Motors Motors</td></tr><tr><td>89</td><td>BR0120</td><td>Asia Motors Motors</td></tr><tr><td>90</td><td>BR0121</td><td>Aston Martin Motors</td></tr><tr><td>91</td><td>BR0122</td><td>Aston Martin Motors</td></tr><tr><td>92</td><td>BR0123</td><td>Aston Martin Motors</td></tr><tr><td>93</td><td>BR0125</td><td>Aston Martin Motors</td></tr><tr><td>94</td><td>BR0126</td><td>Aixam-Mega (including Arola) Motors</td></tr><tr><td>95</td><td>BR0127</td><td>Aston Martin Motors</td></tr><tr><td>96</td><td>BR0128</td><td>Aston Martin Motors</td></tr><tr><td>97</td><td>BR0129</td><td>Aston Martin Motors</td></tr><tr><td>98</td><td>BR0130</td><td>Aston Martin Motors</td></tr><tr><td>99</td><td>BR0131</td><td>Audi Motors</td></tr><tr><td>100</td><td>BR0135</td><td>Audi Motors</td></tr><tr><td>101</td><td>BR0138</td><td>Audi Motors</td></tr><tr><td>102</td><td>BR0139</td><td>Audi Motors</td></tr><tr><td>103</td><td>BR0140</td><td>Audi Motors</td></tr><tr><td>104</td><td>BR0141</td><td>Autobianchi Motors</td></tr><tr><td>105</td><td>BR0143</td><td>Autobianchi Motors</td></tr><tr><td>106</td><td>BR0144</td><td>Autobianchi Motors</td></tr><tr><td>107</td><td>BR0145</td><td>Autobianchi Motors</td></tr><tr><td>108</td><td>BR0151</td><td>Auto-Union Motors</td></tr><tr><td>109</td><td>BR0152</td><td>Auto-Union Motors</td></tr><tr><td>110</td><td>BR0153</td><td>Auto-Union Motors</td></tr><tr><td>111</td><td>BR0154</td><td>Auto-Union Motors</td></tr><tr><td>112</td><td>BR0158</td><td>Auto-Union Motors</td></tr><tr><td>113</td><td>BR0159</td><td>Auto-Union Motors</td></tr><tr><td>114</td><td>BR0160</td><td>Auto-Union Motors</td></tr><tr><td>115</td><td>BR0161</td><td>Auverland Motors</td></tr><tr><td>116</td><td>BR0163</td><td>Auverland Motors</td></tr><tr><td>117</td><td>BR0164</td><td>Auverland Motors</td></tr><tr><td>118</td><td>BR0165</td><td>Auverland Motors</td></tr><tr><td>119</td><td>BR0168</td><td>Auverland Motors</td></tr><tr><td>120</td><td>BR0169</td><td>Auverland Motors</td></tr><tr><td>121</td><td>BR0170</td><td>Auverland Motors</td></tr><tr><td>122</td><td>BR0171</td><td>Bentley Motors</td></tr><tr><td>123</td><td>BR0172</td><td>Bentley Motors</td></tr><tr><td>124</td><td>BR0173</td><td>Bentley Motors</td></tr><tr><td>125</td><td>BR0175</td><td>Bentley Motors</td></tr><tr><td>126</td><td>BR0179</td><td>Bentley Motors</td></tr><tr><td>127</td><td>BR0180</td><td>Bentley Motors</td></tr><tr><td>128</td><td>BR0181</td><td>Bitter Motors</td></tr><tr><td>129</td><td>BR0182</td><td>Bitter Motors</td></tr><tr><td>130</td><td>BR0183</td><td>Bitter Motors</td></tr><tr><td>131</td><td>BR0185</td><td>Bitter Motors</td></tr><tr><td>132</td><td>BR0186</td><td>Alfa Romeo Motors</td></tr><tr><td>133</td><td>BR0188</td><td>Bitter Motors</td></tr><tr><td>134</td><td>BR0189</td><td>Bitter Motors</td></tr><tr><td>135</td><td>BR0191</td><td>BMW Motors</td></tr><tr><td>136</td><td>BR0192</td><td>BMW Motors</td></tr><tr><td>137</td><td>BR0193</td><td>BMW Motors</td></tr><tr><td>138</td><td>BR0194</td><td>BMW Motors</td></tr><tr><td>139</td><td>BR0195</td><td>BMW Motors</td></tr><tr><td>140</td><td>BR0197</td><td>BMW Motors</td></tr><tr><td>141</td><td>BR0198</td><td>BMW Motors</td></tr><tr><td>142</td><td>BR0199</td><td>BMW Motors</td></tr><tr><td>143</td><td>BR0200</td><td>BMW Motors</td></tr><tr><td>144</td><td>BR0201</td><td>Bond Motors</td></tr><tr><td>145</td><td>BR0202</td><td>Bond Motors</td></tr><tr><td>146</td><td>BR0203</td><td>Bond Motors</td></tr><tr><td>147</td><td>BR0204</td><td>Bond Motors</td></tr><tr><td>148</td><td>BR0205</td><td>Bond Motors</td></tr><tr><td>149</td><td>BR0208</td><td>Bond Motors</td></tr><tr><td>150</td><td>BR0211</td><td>Borgward (including Goliath and Lloyd) Motors</td></tr><tr><td>151</td><td>BR0212</td><td>Borgward (including Goliath and Lloyd) Motors</td></tr><tr><td>152</td><td>BR0213</td><td>Borgward (including Goliath and Lloyd) Motors</td></tr><tr><td>153</td><td>BR0214</td><td>Borgward (including Goliath and Lloyd) Motors</td></tr><tr><td>154</td><td>BR0215</td><td>Borgward (including Goliath and Lloyd) Motors</td></tr><tr><td>155</td><td>BR0217</td><td>Borgward (including Goliath and Lloyd) Motors</td></tr><tr><td>156</td><td>BR0218</td><td>Borgward (including Goliath and Lloyd) Motors</td></tr><tr><td>157</td><td>BR0219</td><td>Borgward (including Goliath and Lloyd) Motors</td></tr><tr><td>158</td><td>BR0220</td><td>Borgward (including Goliath and Lloyd) Motors</td></tr><tr><td>159</td><td>BR0221</td><td>Bristol Motors</td></tr><tr><td>160</td><td>BR0222</td><td>Bristol Motors</td></tr><tr><td>161</td><td>BR0223</td><td>Bristol Motors</td></tr><tr><td>162</td><td>BR0224</td><td>Bristol Motors</td></tr><tr><td>163</td><td>BR0225</td><td>Bristol Motors</td></tr><tr><td>164</td><td>BR0227</td><td>Bristol Motors</td></tr><tr><td>165</td><td>BR0228</td><td>Bristol Motors</td></tr><tr><td>166</td><td>BR0229</td><td>Bristol Motors</td></tr><tr><td>167</td><td>BR0230</td><td>Bristol Motors</td></tr><tr><td>168</td><td>BR0231</td><td>British Leyland Motors</td></tr><tr><td>169</td><td>BR0232</td><td>British Leyland Motors</td></tr><tr><td>170</td><td>BR0234</td><td>British Leyland Motors</td></tr><tr><td>171</td><td>BR0235</td><td>British Leyland Motors</td></tr><tr><td>172</td><td>BR0237</td><td>British Leyland Motors</td></tr><tr><td>173</td><td>BR0239</td><td>British Leyland Motors</td></tr><tr><td>174</td><td>BR0240</td><td>British Leyland Motors</td></tr><tr><td>175</td><td>BR0243</td><td>Austin-Healey Motors</td></tr><tr><td>176</td><td>BR0247</td><td>Austin-Healey Motors</td></tr><tr><td>177</td><td>BR0249</td><td>Austin-Healey Motors</td></tr><tr><td>178</td><td>BR0251</td><td>Austin, Rover Motors</td></tr><tr><td>179</td><td>BR0252</td><td>Austin, Rover Motors</td></tr><tr><td>180</td><td>BR0253</td><td>Austin, Rover Motors</td></tr><tr><td>181</td><td>BR0254</td><td>Austin, Rover Motors</td></tr><tr><td>182</td><td>BR0255</td><td>Austin, Rover Motors</td></tr><tr><td>183</td><td>BR0260</td><td>Austin, Rover Motors</td></tr><tr><td>184</td><td>BR0262</td><td>Bugatti Motors</td></tr><tr><td>185</td><td>BR0264</td><td>Bugatti Motors</td></tr><tr><td>186</td><td>BR0265</td><td>Bugatti Motors</td></tr><tr><td>187</td><td>BR0267</td><td>Bugatti Motors</td></tr><tr><td>188</td><td>BR0268</td><td>Bugatti Motors</td></tr><tr><td>189</td><td>BR0269</td><td>Bugatti Motors</td></tr><tr><td>190</td><td>BR0270</td><td>Bugatti Motors</td></tr><tr><td>191</td><td>BR0271</td><td>Buick Motors</td></tr><tr><td>192</td><td>BR0272</td><td>Buick Motors</td></tr><tr><td>193</td><td>BR0274</td><td>Buick Motors</td></tr><tr><td>194</td><td>BR0275</td><td>Buick Motors</td></tr><tr><td>195</td><td>BR0277</td><td>Buick Motors</td></tr><tr><td>196</td><td>BR0278</td><td>Buick Motors</td></tr><tr><td>197</td><td>BR0279</td><td>Buick Motors</td></tr><tr><td>198</td><td>BR0280</td><td>Buick Motors</td></tr><tr><td>199</td><td>BR0283</td><td>Bytom Motors</td></tr><tr><td>200</td><td>BR0285</td><td>Bytom Motors</td></tr><tr><td>201</td><td>BR0290</td><td>Bytom Motors</td></tr><tr><td>202</td><td>BR0291</td><td>Cadillac Motors</td></tr><tr><td>203</td><td>BR0293</td><td>Cadillac Motors</td></tr><tr><td>204</td><td>BR0294</td><td>Cadillac Motors</td></tr><tr><td>205</td><td>BR0295</td><td>Cadillac Motors</td></tr><tr><td>206</td><td>BR0297</td><td>Cadillac Motors</td></tr><tr><td>207</td><td>BR0298</td><td>Cadillac Motors</td></tr><tr><td>208</td><td>BR0299</td><td>Cadillac Motors</td></tr><tr><td>209</td><td>BR0300</td><td>Cadillac Motors</td></tr><tr><td>210</td><td>BR0301</td><td>Caterham Motors</td></tr><tr><td>211</td><td>BR0302</td><td>Caterham Motors</td></tr><tr><td>212</td><td>BR0303</td><td>Caterham Motors</td></tr><tr><td>213</td><td>BR0304</td><td>Caterham Motors</td></tr><tr><td>214</td><td>BR0305</td><td>Caterham Motors</td></tr><tr><td>215</td><td>BR0306</td><td>Alvis Motors</td></tr><tr><td>216</td><td>BR0308</td><td>Caterham Motors</td></tr><tr><td>217</td><td>BR0309</td><td>Caterham Motors</td></tr><tr><td>218</td><td>BR0310</td><td>Caterham Motors</td></tr><tr><td>219</td><td>BR0311</td><td>Checker Motors</td></tr><tr><td>220</td><td>BR0313</td><td>Checker Motors</td></tr><tr><td>221</td><td>BR0315</td><td>Checker Motors</td></tr><tr><td>222</td><td>BR0317</td><td>Checker Motors</td></tr><tr><td>223</td><td>BR0318</td><td>Checker Motors</td></tr><tr><td>224</td><td>BR0321</td><td>Chevrolet Motors</td></tr><tr><td>225</td><td>BR0322</td><td>Chevrolet Motors</td></tr><tr><td>226</td><td>BR0323</td><td>Chevrolet Motors</td></tr><tr><td>227</td><td>BR0324</td><td>Chevrolet Motors</td></tr><tr><td>228</td><td>BR0328</td><td>Chevrolet Motors</td></tr><tr><td>229</td><td>BR0329</td><td>Chevrolet Motors</td></tr><tr><td>230</td><td>BR0331</td><td>Chevrolet India Motors</td></tr><tr><td>231</td><td>BR0332</td><td>Chevrolet India Motors</td></tr><tr><td>232</td><td>BR0333</td><td>Chevrolet India Motors</td></tr><tr><td>233</td><td>BR0334</td><td>Chevrolet India Motors</td></tr><tr><td>234</td><td>BR0337</td><td>Chevrolet India Motors</td></tr><tr><td>235</td><td>BR0338</td><td>Chevrolet India Motors</td></tr><tr><td>236</td><td>BR0339</td><td>Chevrolet India Motors</td></tr><tr><td>237</td><td>BR0341</td><td>Chrysler Motors</td></tr><tr><td>238</td><td>BR0342</td><td>Chrysler Motors</td></tr><tr><td>239</td><td>BR0344</td><td>Chrysler Motors</td></tr><tr><td>240</td><td>BR0347</td><td>Chrysler Motors</td></tr><tr><td>241</td><td>BR0349</td><td>Chrysler Motors</td></tr><tr><td>242</td><td>BR0350</td><td>Chrysler Motors</td></tr><tr><td>243</td><td>BR0351</td><td>Chrysler Europe Motors</td></tr><tr><td>244</td><td>BR0352</td><td>Chrysler Europe Motors</td></tr><tr><td>245</td><td>BR0353</td><td>Chrysler Europe Motors</td></tr><tr><td>246</td><td>BR0354</td><td>Chrysler Europe Motors</td></tr><tr><td>247</td><td>BR0357</td><td>Chrysler Europe Motors</td></tr><tr><td>248</td><td>BR0359</td><td>Chrysler Europe Motors</td></tr><tr><td>249</td><td>BR0360</td><td>Chrysler Europe Motors</td></tr><tr><td>250</td><td>BR0362</td><td>Citroën Motors</td></tr><tr><td>251</td><td>BR0363</td><td>Citroën Motors</td></tr><tr><td>252</td><td>BR0364</td><td>Citroën Motors</td></tr><tr><td>253</td><td>BR0367</td><td>Citroën Motors</td></tr><tr><td>254</td><td>BR0368</td><td>Citroën Motors</td></tr><tr><td>255</td><td>BR0369</td><td>Citroën Motors</td></tr><tr><td>256</td><td>BR0371</td><td>Cizeta-Moroder Motors</td></tr><tr><td>257</td><td>BR0372</td><td>Cizeta-Moroder Motors</td></tr><tr><td>258</td><td>BR0375</td><td>Cizeta-Moroder Motors</td></tr><tr><td>259</td><td>BR0378</td><td>Cizeta-Moroder Motors</td></tr><tr><td>260</td><td>BR0379</td><td>Cizeta-Moroder Motors</td></tr><tr><td>261</td><td>BR0380</td><td>Cizeta-Moroder Motors</td></tr><tr><td>262</td><td>BR0381</td><td>Dacia Motors</td></tr><tr><td>263</td><td>BR0382</td><td>Dacia Motors</td></tr><tr><td>264</td><td>BR0383</td><td>Dacia Motors</td></tr><tr><td>265</td><td>BR0384</td><td>Dacia Motors</td></tr><tr><td>266</td><td>BR0385</td><td>Dacia Motors</td></tr><tr><td>267</td><td>BR0387</td><td>Dacia Motors</td></tr><tr><td>268</td><td>BR0388</td><td>Dacia Motors</td></tr><tr><td>269</td><td>BR0391</td><td>Daewoo, Saehan, Chevrolet Korea Motors</td></tr><tr><td>270</td><td>BR0392</td><td>Daewoo, Saehan, Chevrolet Korea Motors</td></tr><tr><td>271</td><td>BR0393</td><td>Daewoo, Saehan, Chevrolet Korea Motors</td></tr><tr><td>272</td><td>BR0395</td><td>Daewoo, Saehan, Chevrolet Korea Motors</td></tr><tr><td>273</td><td>BR0397</td><td>Daewoo, Saehan, Chevrolet Korea Motors</td></tr><tr><td>274</td><td>BR0399</td><td>Daewoo, Saehan, Chevrolet Korea Motors</td></tr><tr><td>275</td><td>BR0400</td><td>Daewoo, Saehan, Chevrolet Korea Motors</td></tr><tr><td>276</td><td>BR0402</td><td>DAF Motors</td></tr><tr><td>277</td><td>BR0403</td><td>DAF Motors</td></tr><tr><td>278</td><td>BR0404</td><td>DAF Motors</td></tr><tr><td>279</td><td>BR0405</td><td>DAF Motors</td></tr><tr><td>280</td><td>BR0407</td><td>DAF Motors</td></tr><tr><td>281</td><td>BR0408</td><td>DAF Motors</td></tr><tr><td>282</td><td>BR0409</td><td>DAF Motors</td></tr><tr><td>283</td><td>BR0410</td><td>DAF Motors</td></tr><tr><td>284</td><td>BR0411</td><td>Daihatsu Motors</td></tr><tr><td>285</td><td>BR0412</td><td>Daihatsu Motors</td></tr><tr><td>286</td><td>BR0413</td><td>Daihatsu Motors</td></tr><tr><td>287</td><td>BR0414</td><td>Daihatsu Motors</td></tr><tr><td>288</td><td>BR0415</td><td>Daihatsu Motors</td></tr><tr><td>289</td><td>BR0417</td><td>Daihatsu Motors</td></tr><tr><td>290</td><td>BR0418</td><td>Daihatsu Motors</td></tr><tr><td>291</td><td>BR0419</td><td>Daihatsu Motors</td></tr><tr><td>292</td><td>BR0420</td><td>Daihatsu Motors</td></tr><tr><td>293</td><td>BR0422</td><td>Daimler Motors</td></tr><tr><td>294</td><td>BR0423</td><td>Daimler Motors</td></tr><tr><td>295</td><td>BR0424</td><td>Daimler Motors</td></tr><tr><td>296</td><td>BR0426</td><td>Anadol Motors</td></tr><tr><td>297</td><td>BR0427</td><td>Daimler Motors</td></tr><tr><td>298</td><td>BR0429</td><td>Daimler Motors</td></tr><tr><td>299</td><td>BR0432</td><td>Datsun Motors</td></tr><tr><td>300</td><td>BR0433</td><td>Datsun Motors</td></tr><tr><td>301</td><td>BR0434</td><td>Datsun Motors</td></tr><tr><td>302</td><td>BR0435</td><td>Datsun Motors</td></tr><tr><td>303</td><td>BR0438</td><td>Datsun Motors</td></tr><tr><td>304</td><td>BR0439</td><td>Datsun Motors</td></tr><tr><td>305</td><td>BR0441</td><td>Delahaye Motors</td></tr><tr><td>306</td><td>BR0442</td><td>Delahaye Motors</td></tr><tr><td>307</td><td>BR0443</td><td>Delahaye Motors</td></tr><tr><td>308</td><td>BR0444</td><td>Delahaye Motors</td></tr><tr><td>309</td><td>BR0445</td><td>Delahaye Motors</td></tr><tr><td>310</td><td>BR0447</td><td>Delahaye Motors</td></tr><tr><td>311</td><td>BR0450</td><td>Delahaye Motors</td></tr><tr><td>312</td><td>BR0451</td><td>DeLorean Motors</td></tr><tr><td>313</td><td>BR0452</td><td>DeLorean Motors</td></tr><tr><td>314</td><td>BR0454</td><td>DeLorean Motors</td></tr><tr><td>315</td><td>BR0455</td><td>DeLorean Motors</td></tr><tr><td>316</td><td>BR0457</td><td>DeLorean Motors</td></tr><tr><td>317</td><td>BR0458</td><td>DeLorean Motors</td></tr><tr><td>318</td><td>BR0459</td><td>DeLorean Motors</td></tr><tr><td>319</td><td>BR0460</td><td>DeLorean Motors</td></tr><tr><td>320</td><td>BR0461</td><td>DeSoto Motors</td></tr><tr><td>321</td><td>BR0462</td><td>DeSoto Motors</td></tr><tr><td>322</td><td>BR0463</td><td>DeSoto Motors</td></tr><tr><td>323</td><td>BR0464</td><td>DeSoto Motors</td></tr><tr><td>324</td><td>BR0468</td><td>DeSoto Motors</td></tr><tr><td>325</td><td>BR0469</td><td>DeSoto Motors</td></tr><tr><td>326</td><td>BR0470</td><td>DeSoto Motors</td></tr><tr><td>327</td><td>BR0471</td><td>De Tomaso Motors</td></tr><tr><td>328</td><td>BR0473</td><td>De Tomaso Motors</td></tr><tr><td>329</td><td>BR0474</td><td>De Tomaso Motors</td></tr><tr><td>330</td><td>BR0477</td><td>De Tomaso Motors</td></tr><tr><td>331</td><td>BR0479</td><td>De Tomaso Motors</td></tr><tr><td>332</td><td>BR0481</td><td>Dodge Motors</td></tr><tr><td>333</td><td>BR0482</td><td>Dodge Motors</td></tr><tr><td>334</td><td>BR0483</td><td>Dodge Motors</td></tr><tr><td>335</td><td>BR0484</td><td>Dodge Motors</td></tr><tr><td>336</td><td>BR0485</td><td>Dodge Motors</td></tr><tr><td>337</td><td>BR0486</td><td>Ariel Motors</td></tr><tr><td>338</td><td>BR0487</td><td>Dodge Motors</td></tr><tr><td>339</td><td>BR0488</td><td>Dodge Motors</td></tr><tr><td>340</td><td>BR0490</td><td>Dodge Motors</td></tr><tr><td>341</td><td>BR0491</td><td>Donkervoort Motors</td></tr><tr><td>342</td><td>BR0492</td><td>Donkervoort Motors</td></tr><tr><td>343</td><td>BR0493</td><td>Donkervoort Motors</td></tr><tr><td>344</td><td>BR0494</td><td>Donkervoort Motors</td></tr><tr><td>345</td><td>BR0497</td><td>Donkervoort Motors</td></tr><tr><td>346</td><td>BR0498</td><td>Donkervoort Motors</td></tr><tr><td>347</td><td>BR0500</td><td>Donkervoort Motors</td></tr><tr><td>348</td><td>BR0501</td><td>Edsel Motors</td></tr><tr><td>349</td><td>BR0502</td><td>Edsel Motors</td></tr><tr><td>350</td><td>BR0504</td><td>Edsel Motors</td></tr><tr><td>351</td><td>BR0505</td><td>Edsel Motors</td></tr><tr><td>352</td><td>BR0509</td><td>Edsel Motors</td></tr><tr><td>353</td><td>BR0512</td><td>e.GO Mobile Motors</td></tr><tr><td>354</td><td>BR0513</td><td>e.GO Mobile Motors</td></tr><tr><td>355</td><td>BR0514</td><td>e.GO Mobile Motors</td></tr><tr><td>356</td><td>BR0515</td><td>e.GO Mobile Motors</td></tr><tr><td>357</td><td>BR0517</td><td>e.GO Mobile Motors</td></tr><tr><td>358</td><td>BR0519</td><td>e.GO Mobile Motors</td></tr><tr><td>359</td><td>BR0520</td><td>e.GO Mobile Motors</td></tr><tr><td>360</td><td>BR0521</td><td>Eicher Polaris Motors</td></tr><tr><td>361</td><td>BR0523</td><td>Eicher Polaris Motors</td></tr><tr><td>362</td><td>BR0524</td><td>Eicher Polaris Motors</td></tr><tr><td>363</td><td>BR0525</td><td>Eicher Polaris Motors</td></tr><tr><td>364</td><td>BR0527</td><td>Eicher Polaris Motors</td></tr><tr><td>365</td><td>BR0528</td><td>Eicher Polaris Motors</td></tr><tr><td>366</td><td>BR0531</td><td>Elva Motors</td></tr><tr><td>367</td><td>BR0533</td><td>Elva Motors</td></tr><tr><td>368</td><td>BR0534</td><td>Elva Motors</td></tr><tr><td>369</td><td>BR0537</td><td>Elva Motors</td></tr><tr><td>370</td><td>BR0538</td><td>Elva Motors</td></tr><tr><td>371</td><td>BR0539</td><td>Elva Motors</td></tr><tr><td>372</td><td>BR0542</td><td>Facel Vega Motors</td></tr><tr><td>373</td><td>BR0544</td><td>Facel Vega Motors</td></tr><tr><td>374</td><td>BR0546</td><td>ARO Motors</td></tr><tr><td>375</td><td>BR0551</td><td>Ferrari Motors</td></tr><tr><td>376</td><td>BR0552</td><td>Ferrari Motors</td></tr><tr><td>377</td><td>BR0553</td><td>Ferrari Motors</td></tr><tr><td>378</td><td>BR0555</td><td>Ferrari Motors</td></tr><tr><td>379</td><td>BR0559</td><td>Ferrari Motors</td></tr><tr><td>380</td><td>BR0561</td><td>Fiat Motors</td></tr><tr><td>381</td><td>BR0562</td><td>Fiat Motors</td></tr><tr><td>382</td><td>BR0565</td><td>Fiat Motors</td></tr><tr><td>383</td><td>BR0567</td><td>Fiat Motors</td></tr><tr><td>384</td><td>BR0568</td><td>Fiat Motors</td></tr><tr><td>385</td><td>BR0569</td><td>Fiat Motors</td></tr><tr><td>386</td><td>BR0572</td><td>Fiat do Brasil Motors</td></tr><tr><td>387</td><td>BR0573</td><td>Fiat do Brasil Motors</td></tr><tr><td>388</td><td>BR0575</td><td>Fiat do Brasil Motors</td></tr><tr><td>389</td><td>BR0577</td><td>Fiat do Brasil Motors</td></tr><tr><td>390</td><td>BR0578</td><td>Fiat do Brasil Motors</td></tr><tr><td>391</td><td>BR0579</td><td>Fiat do Brasil Motors</td></tr><tr><td>392</td><td>BR0581</td><td>Fiat India Motors</td></tr><tr><td>393</td><td>BR0584</td><td>Fiat India Motors</td></tr><tr><td>394</td><td>BR0585</td><td>Fiat India Motors</td></tr><tr><td>395</td><td>BR0588</td><td>Fiat India Motors</td></tr><tr><td>396</td><td>BR0590</td><td>Fiat India Motors</td></tr><tr><td>397</td><td>BR0591</td><td>Fisker, Karma Motors</td></tr><tr><td>398</td><td>BR0592</td><td>Fisker, Karma Motors</td></tr><tr><td>399</td><td>BR0598</td><td>Fisker, Karma Motors</td></tr><tr><td>400</td><td>BR0599</td><td>Fisker, Karma Motors</td></tr><tr><td>401</td><td>BR0600</td><td>Fisker, Karma Motors</td></tr><tr><td>402</td><td>BR0601</td><td>Ford America Motors</td></tr><tr><td>403</td><td>BR0602</td><td>Ford America Motors</td></tr><tr><td>404</td><td>BR0604</td><td>Ford America Motors</td></tr><tr><td>405</td><td>BR0605</td><td>Ford America Motors</td></tr><tr><td>406</td><td>BR0606</td><td>Artega Motors</td></tr><tr><td>407</td><td>BR0607</td><td>Ford America Motors</td></tr><tr><td>408</td><td>BR0608</td><td>Ford America Motors</td></tr><tr><td>409</td><td>BR0610</td><td>Ford America Motors</td></tr><tr><td>410</td><td>BR0611</td><td>Ford Australia Motors</td></tr><tr><td>411</td><td>BR0613</td><td>Ford Australia Motors</td></tr><tr><td>412</td><td>BR0614</td><td>Ford Australia Motors</td></tr><tr><td>413</td><td>BR0615</td><td>Ford Australia Motors</td></tr><tr><td>414</td><td>BR0617</td><td>Ford Australia Motors</td></tr><tr><td>415</td><td>BR0619</td><td>Ford Australia Motors</td></tr><tr><td>416</td><td>BR0620</td><td>Ford Australia Motors</td></tr><tr><td>417</td><td>BR0621</td><td>Ford do Brasil Motors</td></tr><tr><td>418</td><td>BR0623</td><td>Ford do Brasil Motors</td></tr><tr><td>419</td><td>BR0624</td><td>Ford do Brasil Motors</td></tr><tr><td>420</td><td>BR0625</td><td>Ford do Brasil Motors</td></tr><tr><td>421</td><td>BR0627</td><td>Ford do Brasil Motors</td></tr><tr><td>422</td><td>BR0629</td><td>Ford do Brasil Motors</td></tr><tr><td>423</td><td>BR0631</td><td>Ford Europe Motors</td></tr><tr><td>424</td><td>BR0633</td><td>Ford Europe Motors</td></tr><tr><td>425</td><td>BR0634</td><td>Ford Europe Motors</td></tr><tr><td>426</td><td>BR0635</td><td>Ford Europe Motors</td></tr><tr><td>427</td><td>BR0637</td><td>Ford Europe Motors</td></tr><tr><td>428</td><td>BR0638</td><td>Ford Europe Motors</td></tr><tr><td>429</td><td>BR0640</td><td>Ford Europe Motors</td></tr><tr><td>430</td><td>BR0641</td><td>Ford India Motors</td></tr><tr><td>431</td><td>BR0642</td><td>Ford India Motors</td></tr><tr><td>432</td><td>BR0643</td><td>Ford India Motors</td></tr><tr><td>433</td><td>BR0645</td><td>Ford India Motors</td></tr><tr><td>434</td><td>BR0647</td><td>Ford India Motors</td></tr><tr><td>435</td><td>BR0649</td><td>Ford India Motors</td></tr><tr><td>436</td><td>BR0650</td><td>Ford India Motors</td></tr><tr><td>437</td><td>BR0651</td><td>Freightliner Motors</td></tr><tr><td>438</td><td>BR0653</td><td>Freightliner Motors</td></tr><tr><td>439</td><td>BR0654</td><td>Freightliner Motors</td></tr><tr><td>440</td><td>BR0655</td><td>Freightliner Motors</td></tr><tr><td>441</td><td>BR0657</td><td>Freightliner Motors</td></tr><tr><td>442</td><td>BR0658</td><td>Freightliner Motors</td></tr><tr><td>443</td><td>BR0660</td><td>Freightliner Motors</td></tr><tr><td>444</td><td>BR0661</td><td>FSO Motors</td></tr><tr><td>445</td><td>BR0662</td><td>FSO Motors</td></tr><tr><td>446</td><td>BR0663</td><td>FSO Motors</td></tr><tr><td>447</td><td>BR0665</td><td>FSO Motors</td></tr><tr><td>448</td><td>BR0666</td><td>Asia Motors Motors</td></tr><tr><td>449</td><td>BR0667</td><td>FSO Motors</td></tr><tr><td>450</td><td>BR0668</td><td>FSO Motors</td></tr><tr><td>451</td><td>BR0669</td><td>FSO Motors</td></tr><tr><td>452</td><td>BR0672</td><td>GAZ Motors</td></tr><tr><td>453</td><td>BR0673</td><td>GAZ Motors</td></tr><tr><td>454</td><td>BR0675</td><td>GAZ Motors</td></tr><tr><td>455</td><td>BR0678</td><td>GAZ Motors</td></tr><tr><td>456</td><td>BR0680</td><td>GAZ Motors</td></tr><tr><td>457</td><td>BR0681</td><td>Geo Motors</td></tr><tr><td>458</td><td>BR0682</td><td>Geo Motors</td></tr><tr><td>459</td><td>BR0685</td><td>Geo Motors</td></tr><tr><td>460</td><td>BR0687</td><td>Geo Motors</td></tr><tr><td>461</td><td>BR0688</td><td>Geo Motors</td></tr><tr><td>462</td><td>BR0690</td><td>Geo Motors</td></tr><tr><td>463</td><td>BR0691</td><td>Gilbern Motors</td></tr><tr><td>464</td><td>BR0692</td><td>Gilbern Motors</td></tr><tr><td>465</td><td>BR0693</td><td>Gilbern Motors</td></tr><tr><td>466</td><td>BR0694</td><td>Gilbern Motors</td></tr><tr><td>467</td><td>BR0695</td><td>Gilbern Motors</td></tr><tr><td>468</td><td>BR0697</td><td>Gilbern Motors</td></tr><tr><td>469</td><td>BR0698</td><td>Gilbern Motors</td></tr><tr><td>470</td><td>BR0699</td><td>Gilbern Motors</td></tr><tr><td>471</td><td>BR0700</td><td>Gilbern Motors</td></tr><tr><td>472</td><td>BR0701</td><td>Ginetta Motors</td></tr><tr><td>473</td><td>BR0702</td><td>Ginetta Motors</td></tr><tr><td>474</td><td>BR0703</td><td>Ginetta Motors</td></tr><tr><td>475</td><td>BR0704</td><td>Ginetta Motors</td></tr><tr><td>476</td><td>BR0707</td><td>Ginetta Motors</td></tr><tr><td>477</td><td>BR0708</td><td>Ginetta Motors</td></tr><tr><td>478</td><td>BR0709</td><td>Ginetta Motors</td></tr><tr><td>479</td><td>BR0710</td><td>Ginetta Motors</td></tr><tr><td>480</td><td>BR0711</td><td>Glas Motors</td></tr><tr><td>481</td><td>BR0712</td><td>Glas Motors</td></tr><tr><td>482</td><td>BR0713</td><td>Glas Motors</td></tr><tr><td>483</td><td>BR0714</td><td>Glas Motors</td></tr><tr><td>484</td><td>BR0715</td><td>Glas Motors</td></tr><tr><td>485</td><td>BR0717</td><td>Glas Motors</td></tr><tr><td>486</td><td>BR0718</td><td>Glas Motors</td></tr><tr><td>487</td><td>BR0719</td><td>Glas Motors</td></tr><tr><td>488</td><td>BR0720</td><td>Glas Motors</td></tr><tr><td>489</td><td>BR0721</td><td>GMC Motors</td></tr><tr><td>490</td><td>BR0722</td><td>GMC Motors</td></tr><tr><td>491</td><td>BR0723</td><td>GMC Motors</td></tr><tr><td>492</td><td>BR0724</td><td>GMC Motors</td></tr><tr><td>493</td><td>BR0726</td><td>Aston Martin Motors</td></tr><tr><td>494</td><td>BR0727</td><td>GMC Motors</td></tr><tr><td>495</td><td>BR0728</td><td>GMC Motors</td></tr><tr><td>496</td><td>BR0730</td><td>GMC Motors</td></tr><tr><td>497</td><td>BR0731</td><td>GTA Spano Motors</td></tr><tr><td>498</td><td>BR0732</td><td>GTA Spano Motors</td></tr><tr><td>499</td><td>BR0734</td><td>GTA Spano Motors</td></tr><tr><td>500</td><td>BR0735</td><td>GTA Spano Motors</td></tr><tr><td>501</td><td>BR0738</td><td>GTA Spano Motors</td></tr><tr><td>502</td><td>BR0739</td><td>GTA Spano Motors</td></tr><tr><td>503</td><td>BR0741</td><td>Gumpert Motors</td></tr><tr><td>504</td><td>BR0742</td><td>Gumpert Motors</td></tr><tr><td>505</td><td>BR0744</td><td>Gumpert Motors</td></tr><tr><td>506</td><td>BR0745</td><td>Gumpert Motors</td></tr><tr><td>507</td><td>BR0747</td><td>Gumpert Motors</td></tr><tr><td>508</td><td>BR0748</td><td>Gumpert Motors</td></tr><tr><td>509</td><td>BR0751</td><td>Healey Motors</td></tr><tr><td>510</td><td>BR0752</td><td>Healey Motors</td></tr><tr><td>511</td><td>BR0753</td><td>Healey Motors</td></tr><tr><td>512</td><td>BR0755</td><td>Healey Motors</td></tr><tr><td>513</td><td>BR0757</td><td>Healey Motors</td></tr><tr><td>514</td><td>BR0759</td><td>Healey Motors</td></tr><tr><td>515</td><td>BR0760</td><td>Healey Motors</td></tr><tr><td>516</td><td>BR0762</td><td>Heinkel Motors</td></tr><tr><td>517</td><td>BR0764</td><td>Heinkel Motors</td></tr><tr><td>518</td><td>BR0765</td><td>Heinkel Motors</td></tr><tr><td>519</td><td>BR0767</td><td>Heinkel Motors</td></tr><tr><td>520</td><td>BR0768</td><td>Heinkel Motors</td></tr><tr><td>521</td><td>BR0769</td><td>Heinkel Motors</td></tr><tr><td>522</td><td>BR0770</td><td>Heinkel Motors</td></tr><tr><td>523</td><td>BR0771</td><td>Hennessey Motors</td></tr><tr><td>524</td><td>BR0773</td><td>Hennessey Motors</td></tr><tr><td>525</td><td>BR0774</td><td>Hennessey Motors</td></tr><tr><td>526</td><td>BR0775</td><td>Hennessey Motors</td></tr><tr><td>527</td><td>BR0778</td><td>Hennessey Motors</td></tr><tr><td>528</td><td>BR0781</td><td>Hillman Motors</td></tr><tr><td>529</td><td>BR0783</td><td>Hillman Motors</td></tr><tr><td>530</td><td>BR0784</td><td>Hillman Motors</td></tr><tr><td>531</td><td>BR0785</td><td>Hillman Motors</td></tr><tr><td>532</td><td>BR0786</td><td>Audi Motors</td></tr><tr><td>533</td><td>BR0787</td><td>Hillman Motors</td></tr><tr><td>534</td><td>BR0789</td><td>Hillman Motors</td></tr><tr><td>535</td><td>BR0790</td><td>Hillman Motors</td></tr><tr><td>536</td><td>BR0791</td><td>Hindustan Motors</td></tr><tr><td>537</td><td>BR0792</td><td>Hindustan Motors</td></tr><tr><td>538</td><td>BR0793</td><td>Hindustan Motors</td></tr><tr><td>539</td><td>BR0794</td><td>Hindustan Motors</td></tr><tr><td>540</td><td>BR0797</td><td>Hindustan Motors</td></tr><tr><td>541</td><td>BR0798</td><td>Hindustan Motors</td></tr><tr><td>542</td><td>BR0801</td><td>Holden Motors</td></tr><tr><td>543</td><td>BR0802</td><td>Holden Motors</td></tr><tr><td>544</td><td>BR0803</td><td>Holden Motors</td></tr><tr><td>545</td><td>BR0804</td><td>Holden Motors</td></tr><tr><td>546</td><td>BR0805</td><td>Holden Motors</td></tr><tr><td>547</td><td>BR0807</td><td>Holden Motors</td></tr><tr><td>548</td><td>BR0810</td><td>Holden Motors</td></tr><tr><td>549</td><td>BR0811</td><td>Honda Motors</td></tr><tr><td>550</td><td>BR0812</td><td>Honda Motors</td></tr><tr><td>551</td><td>BR0814</td><td>Honda Motors</td></tr><tr><td>552</td><td>BR0815</td><td>Honda Motors</td></tr><tr><td>553</td><td>BR0817</td><td>Honda Motors</td></tr><tr><td>554</td><td>BR0818</td><td>Honda Motors</td></tr><tr><td>555</td><td>BR0819</td><td>Honda Motors</td></tr><tr><td>556</td><td>BR0822</td><td>Honda India Motors</td></tr><tr><td>557</td><td>BR0823</td><td>Honda India Motors</td></tr><tr><td>558</td><td>BR0824</td><td>Honda India Motors</td></tr><tr><td>559</td><td>BR0827</td><td>Honda India Motors</td></tr><tr><td>560</td><td>BR0828</td><td>Honda India Motors</td></tr><tr><td>561</td><td>BR0829</td><td>Honda India Motors</td></tr><tr><td>562</td><td>BR0832</td><td>Hudson Motors</td></tr><tr><td>563</td><td>BR0833</td><td>Hudson Motors</td></tr><tr><td>564</td><td>BR0834</td><td>Hudson Motors</td></tr><tr><td>565</td><td>BR0837</td><td>Hudson Motors</td></tr><tr><td>566</td><td>BR0838</td><td>Hudson Motors</td></tr><tr><td>567</td><td>BR0839</td><td>Hudson Motors</td></tr><tr><td>568</td><td>BR0840</td><td>Hudson Motors</td></tr><tr><td>569</td><td>BR0841</td><td>Humber Motors</td></tr><tr><td>570</td><td>BR0842</td><td>Humber Motors</td></tr><tr><td>571</td><td>BR0843</td><td>Humber Motors</td></tr><tr><td>572</td><td>BR0844</td><td>Humber Motors</td></tr><tr><td>573</td><td>BR0845</td><td>Humber Motors</td></tr><tr><td>574</td><td>BR0846</td><td>Autobianchi Motors</td></tr><tr><td>575</td><td>BR0849</td><td>Humber Motors</td></tr><tr><td>576</td><td>BR0851</td><td>Hummer Motors</td></tr><tr><td>577</td><td>BR0852</td><td>Hummer Motors</td></tr><tr><td>578</td><td>BR0854</td><td>Hummer Motors</td></tr><tr><td>579</td><td>BR0857</td><td>Hummer Motors</td></tr><tr><td>580</td><td>BR0858</td><td>Hummer Motors</td></tr><tr><td>581</td><td>BR0859</td><td>Hummer Motors</td></tr><tr><td>582</td><td>BR0860</td><td>Hummer Motors</td></tr><tr><td>583</td><td>BR0861</td><td>Hyundai Motors</td></tr><tr><td>584</td><td>BR0863</td><td>Hyundai Motors</td></tr><tr><td>585</td><td>BR0865</td><td>Hyundai Motors</td></tr><tr><td>586</td><td>BR0867</td><td>Hyundai Motors</td></tr><tr><td>587</td><td>BR0868</td><td>Hyundai Motors</td></tr><tr><td>588</td><td>BR0870</td><td>Hyundai Motors</td></tr><tr><td>589</td><td>BR0871</td><td>IFA (including Trabant, Wartburg, Barkas) Motors</td></tr><tr><td>590</td><td>BR0872</td><td>IFA (including Trabant, Wartburg, Barkas) Motors</td></tr><tr><td>591</td><td>BR0873</td><td>IFA (including Trabant, Wartburg, Barkas) Motors</td></tr><tr><td>592</td><td>BR0877</td><td>IFA (including Trabant, Wartburg, Barkas) Motors</td></tr><tr><td>593</td><td>BR0878</td><td>IFA (including Trabant, Wartburg, Barkas) Motors</td></tr><tr><td>594</td><td>BR0879</td><td>IFA (including Trabant, Wartburg, Barkas) Motors</td></tr><tr><td>595</td><td>BR0880</td><td>IFA (including Trabant, Wartburg, Barkas) Motors</td></tr><tr><td>596</td><td>BR0881</td><td>Infiniti Motors</td></tr><tr><td>597</td><td>BR0883</td><td>Infiniti Motors</td></tr><tr><td>598</td><td>BR0884</td><td>Infiniti Motors</td></tr><tr><td>599</td><td>BR0888</td><td>Infiniti Motors</td></tr><tr><td>600</td><td>BR0889</td><td>Infiniti Motors</td></tr><tr><td>601</td><td>BR0890</td><td>Infiniti Motors</td></tr><tr><td>602</td><td>BR0891</td><td>Innocenti Motors</td></tr><tr><td>603</td><td>BR0892</td><td>Innocenti Motors</td></tr><tr><td>604</td><td>BR0893</td><td>Innocenti Motors</td></tr><tr><td>605</td><td>BR0894</td><td>Innocenti Motors</td></tr><tr><td>606</td><td>BR0895</td><td>Innocenti Motors</td></tr><tr><td>607</td><td>BR0897</td><td>Innocenti Motors</td></tr><tr><td>608</td><td>BR0898</td><td>Innocenti Motors</td></tr><tr><td>609</td><td>BR0899</td><td>Innocenti Motors</td></tr><tr><td>610</td><td>BR0900</td><td>Innocenti Motors</td></tr><tr><td>611</td><td>BR0901</td><td>Invicta Motors</td></tr><tr><td>612</td><td>BR0902</td><td>Invicta Motors</td></tr><tr><td>613</td><td>BR0904</td><td>Invicta Motors</td></tr><tr><td>614</td><td>BR0905</td><td>Invicta Motors</td></tr><tr><td>615</td><td>BR0906</td><td>Auto-Union Motors</td></tr><tr><td>616</td><td>BR0907</td><td>Invicta Motors</td></tr><tr><td>617</td><td>BR0908</td><td>Invicta Motors</td></tr><tr><td>618</td><td>BR0909</td><td>Invicta Motors</td></tr><tr><td>619</td><td>BR0910</td><td>Invicta Motors</td></tr><tr><td>620</td><td>BR0911</td><td>Isdera Motors</td></tr><tr><td>621</td><td>BR0912</td><td>Isdera Motors</td></tr><tr><td>622</td><td>BR0913</td><td>Isdera Motors</td></tr><tr><td>623</td><td>BR0917</td><td>Isdera Motors</td></tr><tr><td>624</td><td>BR0918</td><td>Isdera Motors</td></tr><tr><td>625</td><td>BR0919</td><td>Isdera Motors</td></tr><tr><td>626</td><td>BR0921</td><td>Iso Motors</td></tr><tr><td>627</td><td>BR0922</td><td>Iso Motors</td></tr><tr><td>628</td><td>BR0923</td><td>Iso Motors</td></tr><tr><td>629</td><td>BR0924</td><td>Iso Motors</td></tr><tr><td>630</td><td>BR0925</td><td>Iso Motors</td></tr><tr><td>631</td><td>BR0927</td><td>Iso Motors</td></tr><tr><td>632</td><td>BR0928</td><td>Iso Motors</td></tr><tr><td>633</td><td>BR0929</td><td>Iso Motors</td></tr><tr><td>634</td><td>BR0930</td><td>Iso Motors</td></tr><tr><td>635</td><td>BR0931</td><td>Isotta Fraschini Motors</td></tr><tr><td>636</td><td>BR0933</td><td>Isotta Fraschini Motors</td></tr><tr><td>637</td><td>BR0934</td><td>Isotta Fraschini Motors</td></tr><tr><td>638</td><td>BR0935</td><td>Isotta Fraschini Motors</td></tr><tr><td>639</td><td>BR0938</td><td>Isotta Fraschini Motors</td></tr><tr><td>640</td><td>BR0939</td><td>Isotta Fraschini Motors</td></tr><tr><td>641</td><td>BR0940</td><td>Isotta Fraschini Motors</td></tr><tr><td>642</td><td>BR0941</td><td>Isuzu Motors</td></tr><tr><td>643</td><td>BR0942</td><td>Isuzu Motors</td></tr><tr><td>644</td><td>BR0943</td><td>Isuzu Motors</td></tr><tr><td>645</td><td>BR0945</td><td>Isuzu Motors</td></tr><tr><td>646</td><td>BR0947</td><td>Isuzu Motors</td></tr><tr><td>647</td><td>BR0949</td><td>Isuzu Motors</td></tr><tr><td>648</td><td>BR0950</td><td>Isuzu Motors</td></tr><tr><td>649</td><td>BR0953</td><td>Iveco Motors</td></tr><tr><td>650</td><td>BR0955</td><td>Iveco Motors</td></tr><tr><td>651</td><td>BR0958</td><td>Iveco Motors</td></tr><tr><td>652</td><td>BR0959</td><td>Iveco Motors</td></tr><tr><td>653</td><td>BR0960</td><td>Iveco Motors</td></tr><tr><td>654</td><td>BR0961</td><td>Jaguar Motors</td></tr><tr><td>655</td><td>BR0963</td><td>Jaguar Motors</td></tr><tr><td>656</td><td>BR0964</td><td>Jaguar Motors</td></tr><tr><td>657</td><td>BR0965</td><td>Jaguar Motors</td></tr><tr><td>658</td><td>BR0966</td><td>Auverland Motors</td></tr><tr><td>659</td><td>BR0967</td><td>Jaguar Motors</td></tr><tr><td>660</td><td>BR0968</td><td>Jaguar Motors</td></tr><tr><td>661</td><td>BR0969</td><td>Jaguar Motors</td></tr><tr><td>662</td><td>BR0970</td><td>Jaguar Motors</td></tr><tr><td>663</td><td>BR0971</td><td>Jeep Motors</td></tr><tr><td>664</td><td>BR0972</td><td>Jeep Motors</td></tr><tr><td>665</td><td>BR0973</td><td>Jeep Motors</td></tr><tr><td>666</td><td>BR0974</td><td>Jeep Motors</td></tr><tr><td>667</td><td>BR0975</td><td>Jeep Motors</td></tr><tr><td>668</td><td>BR0978</td><td>Jeep Motors</td></tr><tr><td>669</td><td>BR0979</td><td>Jeep Motors</td></tr><tr><td>670</td><td>BR0980</td><td>Jeep Motors</td></tr><tr><td>671</td><td>BR0981</td><td>Jensen Motors</td></tr><tr><td>672</td><td>BR0983</td><td>Jensen Motors</td></tr><tr><td>673</td><td>BR0984</td><td>Jensen Motors</td></tr><tr><td>674</td><td>BR0985</td><td>Jensen Motors</td></tr><tr><td>675</td><td>BR0987</td><td>Jensen Motors</td></tr><tr><td>676</td><td>BR0988</td><td>Jensen Motors</td></tr><tr><td>677</td><td>BR0989</td><td>Jensen Motors</td></tr><tr><td>678</td><td>BR0990</td><td>Jensen Motors</td></tr><tr><td>679</td><td>BR0993</td><td>JPX Motors</td></tr><tr><td>680</td><td>BR0994</td><td>JPX Motors</td></tr><tr><td>681</td><td>BR0995</td><td>JPX Motors</td></tr><tr><td>682</td><td>BR0997</td><td>JPX Motors</td></tr><tr><td>683</td><td>BR0998</td><td>JPX Motors</td></tr><tr><td>684</td><td>BR0999</td><td>JPX Motors</td></tr><tr><td>685</td><td>BR1001</td><td>Kia Motors</td></tr><tr><td>686</td><td>BR10026</td><td>Saab Motors</td></tr><tr><td>687</td><td>BR1003</td><td>Kia Motors</td></tr><tr><td>688</td><td>BR1004</td><td>Kia Motors</td></tr><tr><td>689</td><td>BR1005</td><td>Kia Motors</td></tr><tr><td>690</td><td>BR1008</td><td>Kia Motors</td></tr><tr><td>691</td><td>BR10086</td><td>SAIC Motor Motors</td></tr><tr><td>692</td><td>BR1012</td><td>Koenigsegg Motors</td></tr><tr><td>693</td><td>BR1013</td><td>Koenigsegg Motors</td></tr><tr><td>694</td><td>BR1014</td><td>Koenigsegg Motors</td></tr><tr><td>695</td><td>BR10146</td><td>Saleen Motors</td></tr><tr><td>696</td><td>BR1015</td><td>Koenigsegg Motors</td></tr><tr><td>697</td><td>BR1017</td><td>Koenigsegg Motors</td></tr><tr><td>698</td><td>BR1019</td><td>Koenigsegg Motors</td></tr><tr><td>699</td><td>BR1020</td><td>Koenigsegg Motors</td></tr><tr><td>700</td><td>BR10206</td><td>Samsung Motors</td></tr><tr><td>701</td><td>BR1021</td><td>KTM Motors</td></tr><tr><td>702</td><td>BR1023</td><td>KTM Motors</td></tr><tr><td>703</td><td>BR1025</td><td>KTM Motors</td></tr><tr><td>704</td><td>BR1026</td><td>Bentley Motors</td></tr><tr><td>705</td><td>BR1027</td><td>KTM Motors</td></tr><tr><td>706</td><td>BR1028</td><td>KTM Motors</td></tr><tr><td>707</td><td>BR1029</td><td>KTM Motors</td></tr><tr><td>708</td><td>BR1032</td><td>Lada Motors</td></tr><tr><td>709</td><td>BR10326</td><td>Santa Matilde Motors</td></tr><tr><td>710</td><td>BR1034</td><td>Lada Motors</td></tr><tr><td>711</td><td>BR1035</td><td>Lada Motors</td></tr><tr><td>712</td><td>BR1037</td><td>Lada Motors</td></tr><tr><td>713</td><td>BR10386</td><td>Santana Motors</td></tr><tr><td>714</td><td>BR1039</td><td>Lada Motors</td></tr><tr><td>715</td><td>BR1040</td><td>Lada Motors</td></tr><tr><td>716</td><td>BR1041</td><td>Lamborghini Motors</td></tr><tr><td>717</td><td>BR1043</td><td>Lamborghini Motors</td></tr><tr><td>718</td><td>BR1044</td><td>Lamborghini Motors</td></tr><tr><td>719</td><td>BR10446</td><td>Saturn Motors</td></tr><tr><td>720</td><td>BR1045</td><td>Lamborghini Motors</td></tr><tr><td>721</td><td>BR1047</td><td>Lamborghini Motors</td></tr><tr><td>722</td><td>BR1048</td><td>Lamborghini Motors</td></tr><tr><td>723</td><td>BR1049</td><td>Lamborghini Motors</td></tr><tr><td>724</td><td>BR1050</td><td>Lamborghini Motors</td></tr><tr><td>725</td><td>BR10506</td><td>Scion Motors</td></tr><tr><td>726</td><td>BR1051</td><td>Lancia Motors</td></tr><tr><td>727</td><td>BR1052</td><td>Lancia Motors</td></tr><tr><td>728</td><td>BR1053</td><td>Lancia Motors</td></tr><tr><td>729</td><td>BR1055</td><td>Lancia Motors</td></tr><tr><td>730</td><td>BR10566</td><td>Seat Motors</td></tr><tr><td>731</td><td>BR1058</td><td>Lancia Motors</td></tr><tr><td>732</td><td>BR1059</td><td>Lancia Motors</td></tr><tr><td>733</td><td>BR1060</td><td>Lancia Motors</td></tr><tr><td>734</td><td>BR1061</td><td>Land Rover Motors</td></tr><tr><td>735</td><td>BR10626</td><td>Shelby SuperCars Motors</td></tr><tr><td>736</td><td>BR1063</td><td>Land Rover Motors</td></tr><tr><td>737</td><td>BR1065</td><td>Land Rover Motors</td></tr><tr><td>738</td><td>BR1067</td><td>Land Rover Motors</td></tr><tr><td>739</td><td>BR1068</td><td>Land Rover Motors</td></tr><tr><td>740</td><td>BR10686</td><td>Simca Motors</td></tr><tr><td>741</td><td>BR1070</td><td>Land Rover Motors</td></tr><tr><td>742</td><td>BR1071</td><td>Lexus Motors</td></tr><tr><td>743</td><td>BR1073</td><td>Lexus Motors</td></tr><tr><td>744</td><td>BR1074</td><td>Lexus Motors</td></tr><tr><td>745</td><td>BR10746</td><td>Simca do Brasil Motors</td></tr><tr><td>746</td><td>BR1075</td><td>Lexus Motors</td></tr><tr><td>747</td><td>BR1077</td><td>Lexus Motors</td></tr><tr><td>748</td><td>BR1078</td><td>Lexus Motors</td></tr><tr><td>749</td><td>BR1079</td><td>Lexus Motors</td></tr><tr><td>750</td><td>BR1080</td><td>Lexus Motors</td></tr><tr><td>751</td><td>BR10806</td><td>Singer Motors</td></tr><tr><td>752</td><td>BR1083</td><td>Ligier Motors</td></tr><tr><td>753</td><td>BR1086</td><td>Bitter Motors</td></tr><tr><td>754</td><td>BR1087</td><td>Ligier Motors</td></tr><tr><td>755</td><td>BR1088</td><td>Ligier Motors</td></tr><tr><td>756</td><td>BR1092</td><td>Lincoln Motors</td></tr><tr><td>757</td><td>BR1093</td><td>Lincoln Motors</td></tr><tr><td>758</td><td>BR1094</td><td>Lincoln Motors</td></tr><tr><td>759</td><td>BR1098</td><td>Lincoln Motors</td></tr><tr><td>760</td><td>BR10986</td><td>Spyker Motors</td></tr><tr><td>761</td><td>BR1099</td><td>Lincoln Motors</td></tr><tr><td>762</td><td>BR1101</td><td>Lotus Motors</td></tr><tr><td>763</td><td>BR1102</td><td>Lotus Motors</td></tr><tr><td>764</td><td>BR1103</td><td>Lotus Motors</td></tr><tr><td>765</td><td>BR1104</td><td>Lotus Motors</td></tr><tr><td>766</td><td>BR1105</td><td>Lotus Motors</td></tr><tr><td>767</td><td>BR1107</td><td>Lotus Motors</td></tr><tr><td>768</td><td>BR1108</td><td>Lotus Motors</td></tr><tr><td>769</td><td>BR1110</td><td>Lotus Motors</td></tr><tr><td>770</td><td>BR11106</td><td>Standard-Triumph Motors</td></tr><tr><td>771</td><td>BR1111</td><td>LTI Motors</td></tr><tr><td>772</td><td>BR1112</td><td>LTI Motors</td></tr><tr><td>773</td><td>BR1113</td><td>LTI Motors</td></tr><tr><td>774</td><td>BR1114</td><td>LTI Motors</td></tr><tr><td>775</td><td>BR1117</td><td>LTI Motors</td></tr><tr><td>776</td><td>BR1118</td><td>LTI Motors</td></tr><tr><td>777</td><td>BR1121</td><td>LuAZ Motors</td></tr><tr><td>778</td><td>BR1123</td><td>LuAZ Motors</td></tr><tr><td>779</td><td>BR1125</td><td>LuAZ Motors</td></tr><tr><td>780</td><td>BR1127</td><td>LuAZ Motors</td></tr><tr><td>781</td><td>BR1128</td><td>LuAZ Motors</td></tr><tr><td>782</td><td>BR11286</td><td>Sunbeam Motors</td></tr><tr><td>783</td><td>BR1129</td><td>LuAZ Motors</td></tr><tr><td>784</td><td>BR1130</td><td>LuAZ Motors</td></tr><tr><td>785</td><td>BR1135</td><td>Lynx Motors</td></tr><tr><td>786</td><td>BR1137</td><td>Lynx Motors</td></tr><tr><td>787</td><td>BR1138</td><td>Lynx Motors</td></tr><tr><td>788</td><td>BR1140</td><td>Lynx Motors</td></tr><tr><td>789</td><td>BR11406</td><td>Tata Motors</td></tr><tr><td>790</td><td>BR1141</td><td>Mahindra Motors</td></tr><tr><td>791</td><td>BR1143</td><td>Mahindra Motors</td></tr><tr><td>792</td><td>BR1145</td><td>Mahindra Motors</td></tr><tr><td>793</td><td>BR1146</td><td>BMW Motors</td></tr><tr><td>794</td><td>BR11466</td><td>Tatra Motors</td></tr><tr><td>795</td><td>BR1147</td><td>Mahindra Motors</td></tr><tr><td>796</td><td>BR1148</td><td>Mahindra Motors</td></tr><tr><td>797</td><td>BR1149</td><td>Mahindra Motors</td></tr><tr><td>798</td><td>BR1150</td><td>Mahindra Motors</td></tr><tr><td>799</td><td>BR1151</td><td>Marcos Motors</td></tr><tr><td>800</td><td>BR1152</td><td>Marcos Motors</td></tr><tr><td>801</td><td>BR11526</td><td>Tazzari Motors</td></tr><tr><td>802</td><td>BR1155</td><td>Marcos Motors</td></tr><tr><td>803</td><td>BR1157</td><td>Marcos Motors</td></tr><tr><td>804</td><td>BR1158</td><td>Marcos Motors</td></tr><tr><td>805</td><td>BR11586</td><td>Tesla Motors</td></tr><tr><td>806</td><td>BR1159</td><td>Marcos Motors</td></tr><tr><td>807</td><td>BR1162</td><td>Marlin Motors</td></tr><tr><td>808</td><td>BR1163</td><td>Marlin Motors</td></tr><tr><td>809</td><td>BR1164</td><td>Marlin Motors</td></tr><tr><td>810</td><td>BR11646</td><td>Tornado Motors</td></tr><tr><td>811</td><td>BR1165</td><td>Marlin Motors</td></tr><tr><td>812</td><td>BR1167</td><td>Marlin Motors</td></tr><tr><td>813</td><td>BR1168</td><td>Marlin Motors</td></tr><tr><td>814</td><td>BR1170</td><td>Marlin Motors</td></tr><tr><td>815</td><td>BR11706</td><td>Toyota Motors</td></tr><tr><td>816</td><td>BR1171</td><td>Maruti Motors</td></tr><tr><td>817</td><td>BR1172</td><td>Maruti Motors</td></tr><tr><td>818</td><td>BR1173</td><td>Maruti Motors</td></tr><tr><td>819</td><td>BR1174</td><td>Maruti Motors</td></tr><tr><td>820</td><td>BR1175</td><td>Maruti Motors</td></tr><tr><td>821</td><td>BR1177</td><td>Maruti Motors</td></tr><tr><td>822</td><td>BR1178</td><td>Maruti Motors</td></tr><tr><td>823</td><td>BR1179</td><td>Maruti Motors</td></tr><tr><td>824</td><td>BR1180</td><td>Maruti Motors</td></tr><tr><td>825</td><td>BR1181</td><td>Maserati Motors</td></tr><tr><td>826</td><td>BR1182</td><td>Maserati Motors</td></tr><tr><td>827</td><td>BR11826</td><td>Turner Motors</td></tr><tr><td>828</td><td>BR1183</td><td>Maserati Motors</td></tr><tr><td>829</td><td>BR1184</td><td>Maserati Motors</td></tr><tr><td>830</td><td>BR1188</td><td>Maserati Motors</td></tr><tr><td>831</td><td>BR1189</td><td>Maserati Motors</td></tr><tr><td>832</td><td>BR1190</td><td>Maserati Motors</td></tr><tr><td>833</td><td>BR1192</td><td>Mastretta Motors</td></tr><tr><td>834</td><td>BR1193</td><td>Mastretta Motors</td></tr><tr><td>835</td><td>BR1194</td><td>Mastretta Motors</td></tr><tr><td>836</td><td>BR11946</td><td>UAZ Motors</td></tr><tr><td>837</td><td>BR1195</td><td>Mastretta Motors</td></tr><tr><td>838</td><td>BR1197</td><td>Mastretta Motors</td></tr><tr><td>839</td><td>BR1198</td><td>Mastretta Motors</td></tr><tr><td>840</td><td>BR1199</td><td>Mastretta Motors</td></tr><tr><td>841</td><td>BR1200</td><td>Mastretta Motors</td></tr><tr><td>842</td><td>BR12006</td><td>Vauxhall Motors</td></tr><tr><td>843</td><td>BR1202</td><td>Matra (including Deutsch-Bonnet, René Bonnet) Motors</td></tr><tr><td>844</td><td>BR1203</td><td>Matra (including Deutsch-Bonnet, René Bonnet) Motors</td></tr><tr><td>845</td><td>BR1204</td><td>Matra (including Deutsch-Bonnet, René Bonnet) Motors</td></tr><tr><td>846</td><td>BR1205</td><td>Matra (including Deutsch-Bonnet, René Bonnet) Motors</td></tr><tr><td>847</td><td>BR1207</td><td>Matra (including Deutsch-Bonnet, René Bonnet) Motors</td></tr><tr><td>848</td><td>BR1208</td><td>Matra (including Deutsch-Bonnet, René Bonnet) Motors</td></tr><tr><td>849</td><td>BR1209</td><td>Matra (including Deutsch-Bonnet, René Bonnet) Motors</td></tr><tr><td>850</td><td>BR1210</td><td>Matra (including Deutsch-Bonnet, René Bonnet) Motors</td></tr><tr><td>851</td><td>BR1212</td><td>Mazda Motors</td></tr><tr><td>852</td><td>BR12126</td><td>Volkswagen Motors</td></tr><tr><td>853</td><td>BR1214</td><td>Mazda Motors</td></tr><tr><td>854</td><td>BR1215</td><td>Mazda Motors</td></tr><tr><td>855</td><td>BR1217</td><td>Mazda Motors</td></tr><tr><td>856</td><td>BR1218</td><td>Mazda Motors</td></tr><tr><td>857</td><td>BR12186</td><td>Volkswagen do Brasil Motors</td></tr><tr><td>858</td><td>BR1219</td><td>Mazda Motors</td></tr><tr><td>859</td><td>BR1220</td><td>Mazda Motors</td></tr><tr><td>860</td><td>BR1222</td><td>Mazzanti Motors</td></tr><tr><td>861</td><td>BR1223</td><td>Mazzanti Motors</td></tr><tr><td>862</td><td>BR1224</td><td>Mazzanti Motors</td></tr><tr><td>863</td><td>BR12246</td><td>Volkswagen South Africa Motors</td></tr><tr><td>864</td><td>BR1227</td><td>Mazzanti Motors</td></tr><tr><td>865</td><td>BR1228</td><td>Mazzanti Motors</td></tr><tr><td>866</td><td>BR1229</td><td>Mazzanti Motors</td></tr><tr><td>867</td><td>BR1230</td><td>Mazzanti Motors</td></tr><tr><td>868</td><td>BR12306</td><td>Volvo Motors</td></tr><tr><td>869</td><td>BR1231</td><td>McLaren Motors</td></tr><tr><td>870</td><td>BR1232</td><td>McLaren Motors</td></tr><tr><td>871</td><td>BR1233</td><td>McLaren Motors</td></tr><tr><td>872</td><td>BR1234</td><td>McLaren Motors</td></tr><tr><td>873</td><td>BR1235</td><td>McLaren Motors</td></tr><tr><td>874</td><td>BR12366</td><td>Westfield Motors</td></tr><tr><td>875</td><td>BR1238</td><td>McLaren Motors</td></tr><tr><td>876</td><td>BR1239</td><td>McLaren Motors</td></tr><tr><td>877</td><td>BR1240</td><td>McLaren Motors</td></tr><tr><td>878</td><td>BR1241</td><td>Mercedes-Benz (including Maybach) Motors</td></tr><tr><td>879</td><td>BR1243</td><td>Mercedes-Benz (including Maybach) Motors</td></tr><tr><td>880</td><td>BR1244</td><td>Mercedes-Benz (including Maybach) Motors</td></tr><tr><td>881</td><td>BR1245</td><td>Mercedes-Benz (including Maybach) Motors</td></tr><tr><td>882</td><td>BR1247</td><td>Mercedes-Benz (including Maybach) Motors</td></tr><tr><td>883</td><td>BR1248</td><td>Mercedes-Benz (including Maybach) Motors</td></tr><tr><td>884</td><td>BR12486</td><td>Zastava Motors</td></tr><tr><td>885</td><td>BR1249</td><td>Mercedes-Benz (including Maybach) Motors</td></tr><tr><td>886</td><td>BR1251</td><td>Mercury Motors</td></tr><tr><td>887</td><td>BR1252</td><td>Mercury Motors</td></tr><tr><td>888</td><td>BR1253</td><td>Mercury Motors</td></tr><tr><td>889</td><td>BR1255</td><td>Mercury Motors</td></tr><tr><td>890</td><td>BR1258</td><td>Mercury Motors</td></tr><tr><td>891</td><td>BR1259</td><td>Mercury Motors</td></tr><tr><td>892</td><td>BR12606</td><td>ZIL Motors</td></tr><tr><td>893</td><td>BR1261</td><td>Merkur Motors</td></tr><tr><td>894</td><td>BR1262</td><td>Merkur Motors</td></tr><tr><td>895</td><td>BR1263</td><td>Merkur Motors</td></tr><tr><td>896</td><td>BR1264</td><td>Merkur Motors</td></tr><tr><td>897</td><td>BR1266</td><td>Borgward (including Goliath and Lloyd) Motors</td></tr><tr><td>898</td><td>BR12666</td><td>Audi Motors</td></tr><tr><td>899</td><td>BR1267</td><td>Merkur Motors</td></tr><tr><td>900</td><td>BR1268</td><td>Merkur Motors</td></tr><tr><td>901</td><td>BR1270</td><td>Merkur Motors</td></tr><tr><td>902</td><td>BR1273</td><td>Messerschmitt Motors</td></tr><tr><td>903</td><td>BR1274</td><td>Messerschmitt Motors</td></tr><tr><td>904</td><td>BR1275</td><td>Messerschmitt Motors</td></tr><tr><td>905</td><td>BR1277</td><td>Messerschmitt Motors</td></tr><tr><td>906</td><td>BR12786</td><td>Horch Motors</td></tr><tr><td>907</td><td>BR1279</td><td>Messerschmitt Motors</td></tr><tr><td>908</td><td>BR1283</td><td>Mia Motors</td></tr><tr><td>909</td><td>BR1287</td><td>Mia Motors</td></tr><tr><td>910</td><td>BR1288</td><td>Mia Motors</td></tr><tr><td>911</td><td>BR1289</td><td>Mia Motors</td></tr><tr><td>912</td><td>BR1290</td><td>Mia Motors</td></tr><tr><td>913</td><td>BR12906</td><td>Maybach  Motors</td></tr><tr><td>914</td><td>BR1291</td><td>Micro Motors</td></tr><tr><td>915</td><td>BR1292</td><td>Micro Motors</td></tr><tr><td>916</td><td>BR1293</td><td>Micro Motors</td></tr><tr><td>917</td><td>BR1294</td><td>Micro Motors</td></tr><tr><td>918</td><td>BR1295</td><td>Micro Motors</td></tr><tr><td>919</td><td>BR12966</td><td>Izh  Motors</td></tr><tr><td>920</td><td>BR1298</td><td>Micro Motors</td></tr><tr><td>921</td><td>BR1299</td><td>Micro Motors</td></tr><tr><td>922</td><td>BR1300</td><td>Micro Motors</td></tr><tr><td>923</td><td>BR1301</td><td>Mini Motors</td></tr><tr><td>924</td><td>BR1302</td><td>Mini Motors</td></tr><tr><td>925</td><td>BR13026</td><td>Lagonda  Motors</td></tr><tr><td>926</td><td>BR1303</td><td>Mini Motors</td></tr><tr><td>927</td><td>BR1304</td><td>Mini Motors</td></tr><tr><td>928</td><td>BR1305</td><td>Mini Motors</td></tr><tr><td>929</td><td>BR1307</td><td>Mini Motors</td></tr><tr><td>930</td><td>BR13086</td><td>MG  Motors</td></tr><tr><td>931</td><td>BR1310</td><td>Mini Motors</td></tr><tr><td>932</td><td>BR1313</td><td>Mitsubishi Motors</td></tr><tr><td>933</td><td>BR1314</td><td>Mitsubishi Motors</td></tr><tr><td>934</td><td>BR1315</td><td>Mitsubishi Motors</td></tr><tr><td>935</td><td>BR1317</td><td>Mitsubishi Motors</td></tr><tr><td>936</td><td>BR1318</td><td>Mitsubishi Motors</td></tr><tr><td>937</td><td>BR1320</td><td>Mitsubishi Motors</td></tr><tr><td>938</td><td>BR1321</td><td>Monica Motors</td></tr><tr><td>939</td><td>BR1322</td><td>Monica Motors</td></tr><tr><td>940</td><td>BR1323</td><td>Monica Motors</td></tr><tr><td>941</td><td>BR1325</td><td>Monica Motors</td></tr><tr><td>942</td><td>BR1326</td><td>Bristol Motors</td></tr><tr><td>943</td><td>BR13266</td><td>Riley  Motors</td></tr><tr><td>944</td><td>BR1328</td><td>Monica Motors</td></tr><tr><td>945</td><td>BR1330</td><td>Monica Motors</td></tr><tr><td>946</td><td>BR1332</td><td>Monteverdi Motors</td></tr><tr><td>947</td><td>BR13326</td><td>Wolseley  Motors</td></tr><tr><td>948</td><td>BR1333</td><td>Monteverdi Motors</td></tr><tr><td>949</td><td>BR1338</td><td>Monteverdi Motors</td></tr><tr><td>950</td><td>BR13386</td><td>Standard  Motors</td></tr><tr><td>951</td><td>BR1339</td><td>Monteverdi Motors</td></tr><tr><td>952</td><td>BR1340</td><td>Monteverdi Motors</td></tr><tr><td>953</td><td>BR1343</td><td>Morgan Motors</td></tr><tr><td>954</td><td>BR1347</td><td>Morgan Motors</td></tr><tr><td>955</td><td>BR1348</td><td>Morgan Motors</td></tr><tr><td>956</td><td>BR1349</td><td>Morgan Motors</td></tr><tr><td>957</td><td>BR13506</td><td>Das Motors</td></tr><tr><td>958</td><td>BR1351</td><td>Moskwitch Motors</td></tr><tr><td>959</td><td>BR1352</td><td>Moskwitch Motors</td></tr><tr><td>960</td><td>BR1353</td><td>Moskwitch Motors</td></tr><tr><td>961</td><td>BR13566</td><td>Ramani Motors</td></tr><tr><td>962</td><td>BR1358</td><td>Moskwitch Motors</td></tr><tr><td>963</td><td>BR1360</td><td>Moskwitch Motors</td></tr><tr><td>964</td><td>BR1362</td><td>Nash Motors</td></tr><tr><td>965</td><td>BR13626</td><td>Deccan Motors</td></tr><tr><td>966</td><td>BR1363</td><td>Nash Motors</td></tr><tr><td>967</td><td>BR1364</td><td>Nash Motors</td></tr><tr><td>968</td><td>BR1365</td><td>Nash Motors</td></tr><tr><td>969</td><td>BR13686</td><td>Herald Motors</td></tr><tr><td>970</td><td>BR1369</td><td>Nash Motors</td></tr><tr><td>971</td><td>BR1370</td><td>Nash Motors</td></tr><tr><td>972</td><td>BR1371</td><td>Naza Motors</td></tr><tr><td>973</td><td>BR1372</td><td>Naza Motors</td></tr><tr><td>974</td><td>BR1373</td><td>Naza Motors</td></tr><tr><td>975</td><td>BR13746</td><td>Zion Automobils</td></tr><tr><td>976</td><td>BR1377</td><td>Naza Motors</td></tr><tr><td>977</td><td>BR1378</td><td>Naza Motors</td></tr><tr><td>978</td><td>BR1379</td><td>Naza Motors</td></tr><tr><td>979</td><td>BR1380</td><td>Naza Motors</td></tr><tr><td>980</td><td>BR13806</td><td>Atlantic Motor Company</td></tr><tr><td>981</td><td>BR1382</td><td>Nissan Motors</td></tr><tr><td>982</td><td>BR1383</td><td>Nissan Motors</td></tr><tr><td>983</td><td>BR1384</td><td>Nissan Motors</td></tr><tr><td>984</td><td>BR1386</td><td>British Leyland Motors</td></tr><tr><td>985</td><td>BR1388</td><td>Nissan Motors</td></tr><tr><td>986</td><td>BR1390</td><td>Nissan Motors</td></tr><tr><td>987</td><td>BR1391</td><td>Nissan India Motors</td></tr><tr><td>988</td><td>BR1392</td><td>Nissan India Motors</td></tr><tr><td>989</td><td>BR13926</td><td>Blankinship Motor Company Building</td></tr><tr><td>990</td><td>BR1393</td><td>Nissan India Motors</td></tr><tr><td>991</td><td>BR1395</td><td>Nissan India Motors</td></tr><tr><td>992</td><td>BR1397</td><td>Nissan India Motors</td></tr><tr><td>993</td><td>BR1398</td><td>Nissan India Motors</td></tr><tr><td>994</td><td>BR13986</td><td>Bohn Motor Company Automobile Dealership</td></tr><tr><td>995</td><td>BR1399</td><td>Nissan India Motors</td></tr><tr><td>996</td><td>BR1401</td><td>Noble Motors</td></tr><tr><td>997</td><td>BR1402</td><td>Noble Motors</td></tr><tr><td>998</td><td>BR1403</td><td>Noble Motors</td></tr><tr><td>999</td><td>BR1404</td><td>Noble Motors</td></tr><tr><td>1000</td><td>BR14046</td><td>Buick Automobile Company Building</td></tr><tr><td>1001</td><td>BR1405</td><td>Noble Motors</td></tr><tr><td>1002</td><td>BR1407</td><td>Noble Motors</td></tr><tr><td>1003</td><td>BR1408</td><td>Noble Motors</td></tr><tr><td>1004</td><td>BR1410</td><td>Noble Motors</td></tr><tr><td>1005</td><td>BR14106</td><td>Cadillac Automobile Company Building</td></tr><tr><td>1006</td><td>BR1411</td><td>NSU Motors</td></tr><tr><td>1007</td><td>BR1412</td><td>NSU Motors</td></tr><tr><td>1008</td><td>BR1413</td><td>NSU Motors</td></tr><tr><td>1009</td><td>BR1414</td><td>NSU Motors</td></tr><tr><td>1010</td><td>BR14166</td><td>Casa de cadillac</td></tr><tr><td>1011</td><td>BR1417</td><td>NSU Motors</td></tr><tr><td>1012</td><td>BR1418</td><td>NSU Motors</td></tr><tr><td>1013</td><td>BR1419</td><td>NSU Motors</td></tr><tr><td>1014</td><td>BR1420</td><td>NSU Motors</td></tr><tr><td>1015</td><td>BR1421</td><td>Oldsmobile Motors</td></tr><tr><td>1016</td><td>BR14226</td><td>Cass Motor Sales</td></tr><tr><td>1017</td><td>BR1424</td><td>Oldsmobile Motors</td></tr><tr><td>1018</td><td>BR1425</td><td>Oldsmobile Motors</td></tr><tr><td>1019</td><td>BR1428</td><td>Oldsmobile Motors</td></tr><tr><td>1020</td><td>BR1431</td><td>Oltcit Motors</td></tr><tr><td>1021</td><td>BR1435</td><td>Oltcit Motors</td></tr><tr><td>1022</td><td>BR1438</td><td>Oltcit Motors</td></tr><tr><td>1023</td><td>BR1440</td><td>Oltcit Motors</td></tr><tr><td>1024</td><td>BR14406</td><td>Colman Automotive Building</td></tr><tr><td>1025</td><td>BR1442</td><td>Opel Motors</td></tr><tr><td>1026</td><td>BR1444</td><td>Opel Motors</td></tr><tr><td>1027</td><td>BR1445</td><td>Opel Motors</td></tr><tr><td>1028</td><td>BR1447</td><td>Opel Motors</td></tr><tr><td>1029</td><td>BR1448</td><td>Opel Motors</td></tr><tr><td>1030</td><td>BR1449</td><td>Opel Motors</td></tr><tr><td>1031</td><td>BR1450</td><td>Opel Motors</td></tr><tr><td>1032</td><td>BR1451</td><td>Packard Motors</td></tr><tr><td>1033</td><td>BR1452</td><td>Packard Motors</td></tr><tr><td>1034</td><td>BR14526</td><td>Howard Motor Company Building</td></tr><tr><td>1035</td><td>BR1454</td><td>Packard Motors</td></tr><tr><td>1036</td><td>BR1455</td><td>Packard Motors</td></tr><tr><td>1037</td><td>BR1457</td><td>Packard Motors</td></tr><tr><td>1038</td><td>BR14586</td><td>Hupmobile Building</td></tr><tr><td>1039</td><td>BR1459</td><td>Packard Motors</td></tr><tr><td>1040</td><td>BR1460</td><td>Packard Motors</td></tr><tr><td>1041</td><td>BR1461</td><td>Pagani Motors</td></tr><tr><td>1042</td><td>BR1463</td><td>Pagani Motors</td></tr><tr><td>1043</td><td>BR1464</td><td>Pagani Motors</td></tr><tr><td>1044</td><td>BR14646</td><td>Jennings Ford Automobile Dealership</td></tr><tr><td>1045</td><td>BR1465</td><td>Pagani Motors</td></tr><tr><td>1046</td><td>BR1467</td><td>Pagani Motors</td></tr><tr><td>1047</td><td>BR14706</td><td>Jones Motor Company</td></tr><tr><td>1048</td><td>BR1471</td><td>Panhard Motors</td></tr><tr><td>1049</td><td>BR1473</td><td>Panhard Motors</td></tr><tr><td>1050</td><td>BR1475</td><td>Panhard Motors</td></tr><tr><td>1051</td><td>BR14766</td><td>Kindel Building</td></tr><tr><td>1052</td><td>BR1477</td><td>Panhard Motors</td></tr><tr><td>1053</td><td>BR1479</td><td>Panhard Motors</td></tr><tr><td>1054</td><td>BR1480</td><td>Panhard Motors</td></tr><tr><td>1055</td><td>BR1482</td><td>Panoz Motors</td></tr><tr><td>1056</td><td>BR1483</td><td>Panoz Motors</td></tr><tr><td>1057</td><td>BR1485</td><td>Panoz Motors</td></tr><tr><td>1058</td><td>BR1488</td><td>Panoz Motors</td></tr><tr><td>1059</td><td>BR1489</td><td>Panoz Motors</td></tr><tr><td>1060</td><td>BR1491</td><td>Panther Motors</td></tr><tr><td>1061</td><td>BR1492</td><td>Panther Motors</td></tr><tr><td>1062</td><td>BR1493</td><td>Panther Motors</td></tr><tr><td>1063</td><td>BR1495</td><td>Panther Motors</td></tr><tr><td>1064</td><td>BR1498</td><td>Panther Motors</td></tr><tr><td>1065</td><td>BR1499</td><td>Panther Motors</td></tr><tr><td>1066</td><td>BR1502</td><td>Peel Motors</td></tr><tr><td>1067</td><td>BR1503</td><td>Peel Motors</td></tr><tr><td>1068</td><td>BR1504</td><td>Peel Motors</td></tr><tr><td>1069</td><td>BR1507</td><td>Peel Motors</td></tr><tr><td>1070</td><td>BR1510</td><td>Peel Motors</td></tr><tr><td>1071</td><td>BR1511</td><td>Perodua Motors</td></tr><tr><td>1072</td><td>BR1512</td><td>Perodua Motors</td></tr><tr><td>1073</td><td>BR1513</td><td>Perodua Motors</td></tr><tr><td>1074</td><td>BR1515</td><td>Perodua Motors</td></tr><tr><td>1075</td><td>BR1518</td><td>Perodua Motors</td></tr><tr><td>1076</td><td>BR1519</td><td>Perodua Motors</td></tr><tr><td>1077</td><td>BR1520</td><td>Perodua Motors</td></tr><tr><td>1078</td><td>BR1521</td><td>Peugeot Motors</td></tr><tr><td>1079</td><td>BR1522</td><td>Peugeot Motors</td></tr><tr><td>1080</td><td>BR1523</td><td>Peugeot Motors</td></tr><tr><td>1081</td><td>BR1524</td><td>Peugeot Motors</td></tr><tr><td>1082</td><td>BR1525</td><td>Peugeot Motors</td></tr><tr><td>1083</td><td>BR1527</td><td>Peugeot Motors</td></tr><tr><td>1084</td><td>BR1528</td><td>Peugeot Motors</td></tr><tr><td>1085</td><td>BR1529</td><td>Peugeot Motors</td></tr><tr><td>1086</td><td>BR1530</td><td>Peugeot Motors</td></tr><tr><td>1087</td><td>BR1531</td><td>PGO Motors</td></tr><tr><td>1088</td><td>BR1540</td><td>PGO Motors</td></tr><tr><td>1089</td><td>BR1541</td><td>Piaggio Motors</td></tr><tr><td>1090</td><td>BR1542</td><td>Piaggio Motors</td></tr><tr><td>1091</td><td>BR1543</td><td>Piaggio Motors</td></tr><tr><td>1092</td><td>BR1544</td><td>Piaggio Motors</td></tr><tr><td>1093</td><td>BR1545</td><td>Piaggio Motors</td></tr><tr><td>1094</td><td>BR1547</td><td>Piaggio Motors</td></tr><tr><td>1095</td><td>BR1549</td><td>Piaggio Motors</td></tr><tr><td>1096</td><td>BR1552</td><td>Plymouth Motors</td></tr><tr><td>1097</td><td>BR1553</td><td>Plymouth Motors</td></tr><tr><td>1098</td><td>BR1554</td><td>Plymouth Motors</td></tr><tr><td>1099</td><td>BR1555</td><td>Plymouth Motors</td></tr><tr><td>1100</td><td>BR1557</td><td>Plymouth Motors</td></tr><tr><td>1101</td><td>BR1558</td><td>Plymouth Motors</td></tr><tr><td>1102</td><td>BR1559</td><td>Plymouth Motors</td></tr><tr><td>1103</td><td>BR1560</td><td>Plymouth Motors</td></tr><tr><td>1104</td><td>BR1561</td><td>Polestar Motors</td></tr><tr><td>1105</td><td>BR1562</td><td>Polestar Motors</td></tr><tr><td>1106</td><td>BR1563</td><td>Polestar Motors</td></tr><tr><td>1107</td><td>BR1564</td><td>Polestar Motors</td></tr><tr><td>1108</td><td>BR1565</td><td>Polestar Motors</td></tr><tr><td>1109</td><td>BR1567</td><td>Polestar Motors</td></tr><tr><td>1110</td><td>BR1568</td><td>Polestar Motors</td></tr><tr><td>1111</td><td>BR1569</td><td>Polestar Motors</td></tr><tr><td>1112</td><td>BR1570</td><td>Polestar Motors</td></tr><tr><td>1113</td><td>BR1571</td><td>Pontiac, Asüna Motors</td></tr><tr><td>1114</td><td>BR1573</td><td>Pontiac, Asüna Motors</td></tr><tr><td>1115</td><td>BR1574</td><td>Pontiac, Asüna Motors</td></tr><tr><td>1116</td><td>BR1575</td><td>Pontiac, Asüna Motors</td></tr><tr><td>1117</td><td>BR1577</td><td>Pontiac, Asüna Motors</td></tr><tr><td>1118</td><td>BR1578</td><td>Pontiac, Asüna Motors</td></tr><tr><td>1119</td><td>BR1579</td><td>Pontiac, Asüna Motors</td></tr><tr><td>1120</td><td>BR1582</td><td>Porsche Motors</td></tr><tr><td>1121</td><td>BR1583</td><td>Porsche Motors</td></tr><tr><td>1122</td><td>BR1585</td><td>Porsche Motors</td></tr><tr><td>1123</td><td>BR1588</td><td>Porsche Motors</td></tr><tr><td>1124</td><td>BR1589</td><td>Porsche Motors</td></tr><tr><td>1125</td><td>BR1590</td><td>Porsche Motors</td></tr><tr><td>1126</td><td>BR1592</td><td>Premier Motors</td></tr><tr><td>1127</td><td>BR1593</td><td>Premier Motors</td></tr><tr><td>1128</td><td>BR1594</td><td>Premier Motors</td></tr><tr><td>1129</td><td>BR1595</td><td>Premier Motors</td></tr><tr><td>1130</td><td>BR1597</td><td>Premier Motors</td></tr><tr><td>1131</td><td>BR1598</td><td>Premier Motors</td></tr><tr><td>1132</td><td>BR1600</td><td>Premier Motors</td></tr><tr><td>1133</td><td>BR1601</td><td>Proton Motors</td></tr><tr><td>1134</td><td>BR1602</td><td>Proton Motors</td></tr><tr><td>1135</td><td>BR1603</td><td>Proton Motors</td></tr><tr><td>1136</td><td>BR1604</td><td>Proton Motors</td></tr><tr><td>1137</td><td>BR1605</td><td>Proton Motors</td></tr><tr><td>1138</td><td>BR1608</td><td>Proton Motors</td></tr><tr><td>1139</td><td>BR1610</td><td>Proton Motors</td></tr><tr><td>1140</td><td>BR1611</td><td>Puma Motors</td></tr><tr><td>1141</td><td>BR1612</td><td>Puma Motors</td></tr><tr><td>1142</td><td>BR1613</td><td>Puma Motors</td></tr><tr><td>1143</td><td>BR1615</td><td>Puma Motors</td></tr><tr><td>1144</td><td>BR1617</td><td>Puma Motors</td></tr><tr><td>1145</td><td>BR1618</td><td>Puma Motors</td></tr><tr><td>1146</td><td>BR1619</td><td>Puma Motors</td></tr><tr><td>1147</td><td>BR1620</td><td>Puma Motors</td></tr><tr><td>1148</td><td>BR1621</td><td>Ranger Motors</td></tr><tr><td>1149</td><td>BR1623</td><td>Ranger Motors</td></tr><tr><td>1150</td><td>BR1625</td><td>Ranger Motors</td></tr><tr><td>1151</td><td>BR1626</td><td>Buick Motors</td></tr><tr><td>1152</td><td>BR1628</td><td>Ranger Motors</td></tr><tr><td>1153</td><td>BR1629</td><td>Ranger Motors</td></tr><tr><td>1154</td><td>BR1630</td><td>Ranger Motors</td></tr><tr><td>1155</td><td>BR1631</td><td>Reliant Motors</td></tr><tr><td>1156</td><td>BR1632</td><td>Reliant Motors</td></tr><tr><td>1157</td><td>BR1633</td><td>Reliant Motors</td></tr><tr><td>1158</td><td>BR1634</td><td>Reliant Motors</td></tr><tr><td>1159</td><td>BR1635</td><td>Reliant Motors</td></tr><tr><td>1160</td><td>BR1637</td><td>Reliant Motors</td></tr><tr><td>1161</td><td>BR1638</td><td>Reliant Motors</td></tr><tr><td>1162</td><td>BR1639</td><td>Reliant Motors</td></tr><tr><td>1163</td><td>BR1640</td><td>Reliant Motors</td></tr><tr><td>1164</td><td>BR1641</td><td>Renault Motors</td></tr><tr><td>1165</td><td>BR1642</td><td>Renault Motors</td></tr><tr><td>1166</td><td>BR1643</td><td>Renault Motors</td></tr><tr><td>1167</td><td>BR1647</td><td>Renault Motors</td></tr><tr><td>1168</td><td>BR1649</td><td>Renault Motors</td></tr><tr><td>1169</td><td>BR1651</td><td>Rivian Motors</td></tr><tr><td>1170</td><td>BR1652</td><td>Rivian Motors</td></tr><tr><td>1171</td><td>BR1653</td><td>Rivian Motors</td></tr><tr><td>1172</td><td>BR1654</td><td>Rivian Motors</td></tr><tr><td>1173</td><td>BR1655</td><td>Rivian Motors</td></tr><tr><td>1174</td><td>BR1657</td><td>Rivian Motors</td></tr><tr><td>1175</td><td>BR1658</td><td>Rivian Motors</td></tr><tr><td>1176</td><td>BR1659</td><td>Rivian Motors</td></tr><tr><td>1177</td><td>BR1660</td><td>Rivian Motors</td></tr><tr><td>1178</td><td>BR1661</td><td>Rolls-Royce Motors</td></tr><tr><td>1179</td><td>BR1663</td><td>Rolls-Royce Motors</td></tr><tr><td>1180</td><td>BR1664</td><td>Rolls-Royce Motors</td></tr><tr><td>1181</td><td>BR1665</td><td>Rolls-Royce Motors</td></tr><tr><td>1182</td><td>BR1667</td><td>Rolls-Royce Motors</td></tr><tr><td>1183</td><td>BR1668</td><td>Rolls-Royce Motors</td></tr><tr><td>1184</td><td>BR1669</td><td>Rolls-Royce Motors</td></tr><tr><td>1185</td><td>BR1670</td><td>Rolls-Royce Motors</td></tr><tr><td>1186</td><td>BR1671</td><td>Saab Motors</td></tr><tr><td>1187</td><td>BR1672</td><td>Saab Motors</td></tr><tr><td>1188</td><td>BR1673</td><td>Saab Motors</td></tr><tr><td>1189</td><td>BR1674</td><td>Saab Motors</td></tr><tr><td>1190</td><td>BR1677</td><td>Saab Motors</td></tr><tr><td>1191</td><td>BR1678</td><td>Saab Motors</td></tr><tr><td>1192</td><td>BR1679</td><td>Saab Motors</td></tr><tr><td>1193</td><td>BR1680</td><td>Saab Motors</td></tr><tr><td>1194</td><td>BR1681</td><td>SAIC Motor Motors</td></tr><tr><td>1195</td><td>BR1682</td><td>SAIC Motor Motors</td></tr><tr><td>1196</td><td>BR1683</td><td>SAIC Motor Motors</td></tr><tr><td>1197</td><td>BR1684</td><td>SAIC Motor Motors</td></tr><tr><td>1198</td><td>BR1685</td><td>SAIC Motor Motors</td></tr><tr><td>1199</td><td>BR1686</td><td>Bytom Motors</td></tr><tr><td>1200</td><td>BR1687</td><td>SAIC Motor Motors</td></tr><tr><td>1201</td><td>BR1688</td><td>SAIC Motor Motors</td></tr><tr><td>1202</td><td>BR1689</td><td>SAIC Motor Motors</td></tr><tr><td>1203</td><td>BR1690</td><td>SAIC Motor Motors</td></tr><tr><td>1204</td><td>BR1691</td><td>Saleen Motors</td></tr><tr><td>1205</td><td>BR1692</td><td>Saleen Motors</td></tr><tr><td>1206</td><td>BR1693</td><td>Saleen Motors</td></tr><tr><td>1207</td><td>BR1697</td><td>Saleen Motors</td></tr><tr><td>1208</td><td>BR1699</td><td>Saleen Motors</td></tr><tr><td>1209</td><td>BR1700</td><td>Saleen Motors</td></tr><tr><td>1210</td><td>BR1701</td><td>Samsung Motors</td></tr><tr><td>1211</td><td>BR1702</td><td>Samsung Motors</td></tr><tr><td>1212</td><td>BR1708</td><td>Samsung Motors</td></tr><tr><td>1213</td><td>BR1709</td><td>Samsung Motors</td></tr><tr><td>1214</td><td>BR1710</td><td>Samsung Motors</td></tr><tr><td>1215</td><td>BR1711</td><td>San Motors</td></tr><tr><td>1216</td><td>BR1712</td><td>San Motors</td></tr><tr><td>1217</td><td>BR1714</td><td>San Motors</td></tr><tr><td>1218</td><td>BR1715</td><td>San Motors</td></tr><tr><td>1219</td><td>BR1717</td><td>San Motors</td></tr><tr><td>1220</td><td>BR1718</td><td>San Motors</td></tr><tr><td>1221</td><td>BR1719</td><td>San Motors</td></tr><tr><td>1222</td><td>BR1720</td><td>San Motors</td></tr><tr><td>1223</td><td>BR1721</td><td>Santa Matilde Motors</td></tr><tr><td>1224</td><td>BR1722</td><td>Santa Matilde Motors</td></tr><tr><td>1225</td><td>BR1723</td><td>Santa Matilde Motors</td></tr><tr><td>1226</td><td>BR1725</td><td>Santa Matilde Motors</td></tr><tr><td>1227</td><td>BR1727</td><td>Santa Matilde Motors</td></tr><tr><td>1228</td><td>BR1728</td><td>Santa Matilde Motors</td></tr><tr><td>1229</td><td>BR1729</td><td>Santa Matilde Motors</td></tr><tr><td>1230</td><td>BR1731</td><td>Santana Motors</td></tr><tr><td>1231</td><td>BR1733</td><td>Santana Motors</td></tr><tr><td>1232</td><td>BR1735</td><td>Santana Motors</td></tr><tr><td>1233</td><td>BR1737</td><td>Santana Motors</td></tr><tr><td>1234</td><td>BR1739</td><td>Santana Motors</td></tr><tr><td>1235</td><td>BR1741</td><td>Saturn Motors</td></tr><tr><td>1236</td><td>BR1742</td><td>Saturn Motors</td></tr><tr><td>1237</td><td>BR1743</td><td>Saturn Motors</td></tr><tr><td>1238</td><td>BR1745</td><td>Saturn Motors</td></tr><tr><td>1239</td><td>BR1746</td><td>Cadillac Motors</td></tr><tr><td>1240</td><td>BR1747</td><td>Saturn Motors</td></tr><tr><td>1241</td><td>BR1749</td><td>Saturn Motors</td></tr><tr><td>1242</td><td>BR1750</td><td>Saturn Motors</td></tr><tr><td>1243</td><td>BR1751</td><td>Scion Motors</td></tr><tr><td>1244</td><td>BR1752</td><td>Scion Motors</td></tr><tr><td>1245</td><td>BR1753</td><td>Scion Motors</td></tr><tr><td>1246</td><td>BR1754</td><td>Scion Motors</td></tr><tr><td>1247</td><td>BR1755</td><td>Scion Motors</td></tr><tr><td>1248</td><td>BR1757</td><td>Scion Motors</td></tr><tr><td>1249</td><td>BR1758</td><td>Scion Motors</td></tr><tr><td>1250</td><td>BR1759</td><td>Scion Motors</td></tr><tr><td>1251</td><td>BR1761</td><td>Seat Motors</td></tr><tr><td>1252</td><td>BR1762</td><td>Seat Motors</td></tr><tr><td>1253</td><td>BR1763</td><td>Seat Motors</td></tr><tr><td>1254</td><td>BR1764</td><td>Seat Motors</td></tr><tr><td>1255</td><td>BR1765</td><td>Seat Motors</td></tr><tr><td>1256</td><td>BR1768</td><td>Seat Motors</td></tr><tr><td>1257</td><td>BR1769</td><td>Seat Motors</td></tr><tr><td>1258</td><td>BR1770</td><td>Seat Motors</td></tr><tr><td>1259</td><td>BR1771</td><td>Shelby SuperCars Motors</td></tr><tr><td>1260</td><td>BR1777</td><td>Shelby SuperCars Motors</td></tr><tr><td>1261</td><td>BR1778</td><td>Shelby SuperCars Motors</td></tr><tr><td>1262</td><td>BR1779</td><td>Shelby SuperCars Motors</td></tr><tr><td>1263</td><td>BR1780</td><td>Shelby SuperCars Motors</td></tr><tr><td>1264</td><td>BR1782</td><td>Simca Motors</td></tr><tr><td>1265</td><td>BR1783</td><td>Simca Motors</td></tr><tr><td>1266</td><td>BR1784</td><td>Simca Motors</td></tr><tr><td>1267</td><td>BR1785</td><td>Simca Motors</td></tr><tr><td>1268</td><td>BR1787</td><td>Simca Motors</td></tr><tr><td>1269</td><td>BR1788</td><td>Simca Motors</td></tr><tr><td>1270</td><td>BR1789</td><td>Simca Motors</td></tr><tr><td>1271</td><td>BR1792</td><td>Simca do Brasil Motors</td></tr><tr><td>1272</td><td>BR1793</td><td>Simca do Brasil Motors</td></tr><tr><td>1273</td><td>BR1795</td><td>Simca do Brasil Motors</td></tr><tr><td>1274</td><td>BR1797</td><td>Simca do Brasil Motors</td></tr><tr><td>1275</td><td>BR1798</td><td>Simca do Brasil Motors</td></tr><tr><td>1276</td><td>BR1799</td><td>Simca do Brasil Motors</td></tr><tr><td>1277</td><td>BR1800</td><td>Simca do Brasil Motors</td></tr><tr><td>1278</td><td>BR1803</td><td>Singer Motors</td></tr><tr><td>1279</td><td>BR1804</td><td>Singer Motors</td></tr><tr><td>1280</td><td>BR1805</td><td>Singer Motors</td></tr><tr><td>1281</td><td>BR1807</td><td>Singer Motors</td></tr><tr><td>1282</td><td>BR1808</td><td>Singer Motors</td></tr><tr><td>1283</td><td>BR1809</td><td>Singer Motors</td></tr><tr><td>1284</td><td>BR1811</td><td>Skoda Motors</td></tr><tr><td>1285</td><td>BR1812</td><td>Skoda Motors</td></tr><tr><td>1286</td><td>BR1814</td><td>Skoda Motors</td></tr><tr><td>1287</td><td>BR1815</td><td>Skoda Motors</td></tr><tr><td>1288</td><td>BR1820</td><td>Skoda Motors</td></tr><tr><td>1289</td><td>BR1821</td><td>Smart Motors</td></tr><tr><td>1290</td><td>BR1822</td><td>Smart Motors</td></tr><tr><td>1291</td><td>BR1823</td><td>Smart Motors</td></tr><tr><td>1292</td><td>BR1824</td><td>Smart Motors</td></tr><tr><td>1293</td><td>BR1827</td><td>Smart Motors</td></tr><tr><td>1294</td><td>BR1828</td><td>Smart Motors</td></tr><tr><td>1295</td><td>BR1829</td><td>Smart Motors</td></tr><tr><td>1296</td><td>BR1830</td><td>Smart Motors</td></tr><tr><td>1297</td><td>BR1831</td><td>Spyker Motors</td></tr><tr><td>1298</td><td>BR1832</td><td>Spyker Motors</td></tr><tr><td>1299</td><td>BR1833</td><td>Spyker Motors</td></tr><tr><td>1300</td><td>BR1834</td><td>Spyker Motors</td></tr><tr><td>1301</td><td>BR1835</td><td>Spyker Motors</td></tr><tr><td>1302</td><td>BR1837</td><td>Spyker Motors</td></tr><tr><td>1303</td><td>BR1838</td><td>Spyker Motors</td></tr><tr><td>1304</td><td>BR1839</td><td>Spyker Motors</td></tr><tr><td>1305</td><td>BR1840</td><td>Spyker Motors</td></tr><tr><td>1306</td><td>BR1841</td><td>SsangYong Motors</td></tr><tr><td>1307</td><td>BR1842</td><td>SsangYong Motors</td></tr><tr><td>1308</td><td>BR1843</td><td>SsangYong Motors</td></tr><tr><td>1309</td><td>BR1844</td><td>SsangYong Motors</td></tr><tr><td>1310</td><td>BR1845</td><td>SsangYong Motors</td></tr><tr><td>1311</td><td>BR1847</td><td>SsangYong Motors</td></tr><tr><td>1312</td><td>BR1849</td><td>SsangYong Motors</td></tr><tr><td>1313</td><td>BR1852</td><td>Standard-Triumph Motors</td></tr><tr><td>1314</td><td>BR1854</td><td>Standard-Triumph Motors</td></tr><tr><td>1315</td><td>BR1855</td><td>Standard-Triumph Motors</td></tr><tr><td>1316</td><td>BR1858</td><td>Standard-Triumph Motors</td></tr><tr><td>1317</td><td>BR1860</td><td>Standard-Triumph Motors</td></tr><tr><td>1318</td><td>BR1861</td><td>Studebaker Motors</td></tr><tr><td>1319</td><td>BR1862</td><td>Studebaker Motors</td></tr><tr><td>1320</td><td>BR1863</td><td>Studebaker Motors</td></tr><tr><td>1321</td><td>BR1864</td><td>Studebaker Motors</td></tr><tr><td>1322</td><td>BR1865</td><td>Studebaker Motors</td></tr><tr><td>1323</td><td>BR1867</td><td>Studebaker Motors</td></tr><tr><td>1324</td><td>BR1868</td><td>Studebaker Motors</td></tr><tr><td>1325</td><td>BR1869</td><td>Studebaker Motors</td></tr><tr><td>1326</td><td>BR1871</td><td>Subaru Motors</td></tr><tr><td>1327</td><td>BR1872</td><td>Subaru Motors</td></tr><tr><td>1328</td><td>BR1873</td><td>Subaru Motors</td></tr><tr><td>1329</td><td>BR1874</td><td>Subaru Motors</td></tr><tr><td>1330</td><td>BR1875</td><td>Subaru Motors</td></tr><tr><td>1331</td><td>BR1877</td><td>Subaru Motors</td></tr><tr><td>1332</td><td>BR1878</td><td>Subaru Motors</td></tr><tr><td>1333</td><td>BR1879</td><td>Subaru Motors</td></tr><tr><td>1334</td><td>BR1880</td><td>Subaru Motors</td></tr><tr><td>1335</td><td>BR1882</td><td>Sunbeam Motors</td></tr><tr><td>1336</td><td>BR1884</td><td>Sunbeam Motors</td></tr><tr><td>1337</td><td>BR1887</td><td>Sunbeam Motors</td></tr><tr><td>1338</td><td>BR1888</td><td>Sunbeam Motors</td></tr><tr><td>1339</td><td>BR1889</td><td>Sunbeam Motors</td></tr><tr><td>1340</td><td>BR1892</td><td>Suzuki Motors</td></tr><tr><td>1341</td><td>BR1894</td><td>Suzuki Motors</td></tr><tr><td>1342</td><td>BR1895</td><td>Suzuki Motors</td></tr><tr><td>1343</td><td>BR1897</td><td>Suzuki Motors</td></tr><tr><td>1344</td><td>BR1901</td><td>Tata Motors</td></tr><tr><td>1345</td><td>BR1902</td><td>Tata Motors</td></tr><tr><td>1346</td><td>BR1903</td><td>Tata Motors</td></tr><tr><td>1347</td><td>BR1905</td><td>Tata Motors</td></tr><tr><td>1348</td><td>BR1908</td><td>Tata Motors</td></tr><tr><td>1349</td><td>BR1910</td><td>Tata Motors</td></tr><tr><td>1350</td><td>BR1911</td><td>Tatra Motors</td></tr><tr><td>1351</td><td>BR1913</td><td>Tatra Motors</td></tr><tr><td>1352</td><td>BR1914</td><td>Tatra Motors</td></tr><tr><td>1353</td><td>BR1915</td><td>Tatra Motors</td></tr><tr><td>1354</td><td>BR1917</td><td>Tatra Motors</td></tr><tr><td>1355</td><td>BR1918</td><td>Tatra Motors</td></tr><tr><td>1356</td><td>BR1919</td><td>Tatra Motors</td></tr><tr><td>1357</td><td>BR1920</td><td>Tatra Motors</td></tr><tr><td>1358</td><td>BR1922</td><td>Tazzari Motors</td></tr><tr><td>1359</td><td>BR1923</td><td>Tazzari Motors</td></tr><tr><td>1360</td><td>BR1924</td><td>Tazzari Motors</td></tr><tr><td>1361</td><td>BR1925</td><td>Tazzari Motors</td></tr><tr><td>1362</td><td>BR1927</td><td>Tazzari Motors</td></tr><tr><td>1363</td><td>BR1928</td><td>Tazzari Motors</td></tr><tr><td>1364</td><td>BR1929</td><td>Tazzari Motors</td></tr><tr><td>1365</td><td>BR1930</td><td>Tazzari Motors</td></tr><tr><td>1366</td><td>BR1931</td><td>Tesla Motors</td></tr><tr><td>1367</td><td>BR1932</td><td>Tesla Motors</td></tr><tr><td>1368</td><td>BR1933</td><td>Tesla Motors</td></tr><tr><td>1369</td><td>BR1934</td><td>Tesla Motors</td></tr><tr><td>1370</td><td>BR1935</td><td>Tesla Motors</td></tr><tr><td>1371</td><td>BR1937</td><td>Tesla Motors</td></tr><tr><td>1372</td><td>BR1938</td><td>Tesla Motors</td></tr><tr><td>1373</td><td>BR1939</td><td>Tesla Motors</td></tr><tr><td>1374</td><td>BR1940</td><td>Tesla Motors</td></tr><tr><td>1375</td><td>BR1941</td><td>Tornado Motors</td></tr><tr><td>1376</td><td>BR1943</td><td>Tornado Motors</td></tr><tr><td>1377</td><td>BR1944</td><td>Tornado Motors</td></tr><tr><td>1378</td><td>BR1945</td><td>Tornado Motors</td></tr><tr><td>1379</td><td>BR1947</td><td>Tornado Motors</td></tr><tr><td>1380</td><td>BR1948</td><td>Tornado Motors</td></tr><tr><td>1381</td><td>BR1949</td><td>Tornado Motors</td></tr><tr><td>1382</td><td>BR1951</td><td>Toyota Motors</td></tr><tr><td>1383</td><td>BR1952</td><td>Toyota Motors</td></tr><tr><td>1384</td><td>BR1954</td><td>Toyota Motors</td></tr><tr><td>1385</td><td>BR1955</td><td>Toyota Motors</td></tr><tr><td>1386</td><td>BR1957</td><td>Toyota Motors</td></tr><tr><td>1387</td><td>BR1958</td><td>Toyota Motors</td></tr><tr><td>1388</td><td>BR1959</td><td>Toyota Motors</td></tr><tr><td>1389</td><td>BR1960</td><td>Toyota Motors</td></tr><tr><td>1390</td><td>BR1962</td><td>Toyota India Motors</td></tr><tr><td>1391</td><td>BR1963</td><td>Toyota India Motors</td></tr><tr><td>1392</td><td>BR1964</td><td>Toyota India Motors</td></tr><tr><td>1393</td><td>BR1965</td><td>Toyota India Motors</td></tr><tr><td>1394</td><td>BR1967</td><td>Toyota India Motors</td></tr><tr><td>1395</td><td>BR1968</td><td>Toyota India Motors</td></tr><tr><td>1396</td><td>BR1969</td><td>Toyota India Motors</td></tr><tr><td>1397</td><td>BR1971</td><td>Turner Motors</td></tr><tr><td>1398</td><td>BR1972</td><td>Turner Motors</td></tr><tr><td>1399</td><td>BR1974</td><td>Turner Motors</td></tr><tr><td>1400</td><td>BR1975</td><td>Turner Motors</td></tr><tr><td>1401</td><td>BR1977</td><td>Turner Motors</td></tr><tr><td>1402</td><td>BR1978</td><td>Turner Motors</td></tr><tr><td>1403</td><td>BR1980</td><td>Turner Motors</td></tr><tr><td>1404</td><td>BR1984</td><td>TVR Motors</td></tr><tr><td>1405</td><td>BR1985</td><td>TVR Motors</td></tr><tr><td>1406</td><td>BR1987</td><td>TVR Motors</td></tr><tr><td>1407</td><td>BR1988</td><td>TVR Motors</td></tr><tr><td>1408</td><td>BR1989</td><td>TVR Motors</td></tr><tr><td>1409</td><td>BR1990</td><td>TVR Motors</td></tr><tr><td>1410</td><td>BR1991</td><td>UAZ Motors</td></tr><tr><td>1411</td><td>BR1993</td><td>UAZ Motors</td></tr><tr><td>1412</td><td>BR1994</td><td>UAZ Motors</td></tr><tr><td>1413</td><td>BR1998</td><td>UAZ Motors</td></tr><tr><td>1414</td><td>BR1999</td><td>UAZ Motors</td></tr><tr><td>1415</td><td>BR2000</td><td>UAZ Motors</td></tr><tr><td>1416</td><td>BR2004</td><td>Vauxhall Motors</td></tr><tr><td>1417</td><td>BR2005</td><td>Vauxhall Motors</td></tr><tr><td>1418</td><td>BR2007</td><td>Vauxhall Motors</td></tr><tr><td>1419</td><td>BR2008</td><td>Vauxhall Motors</td></tr><tr><td>1420</td><td>BR2009</td><td>Vauxhall Motors</td></tr><tr><td>1421</td><td>BR2011</td><td>Venturi Motors</td></tr><tr><td>1422</td><td>BR2017</td><td>Venturi Motors</td></tr><tr><td>1423</td><td>BR2018</td><td>Venturi Motors</td></tr><tr><td>1424</td><td>BR2019</td><td>Venturi Motors</td></tr><tr><td>1425</td><td>BR2021</td><td>Volkswagen Motors</td></tr><tr><td>1426</td><td>BR2022</td><td>Volkswagen Motors</td></tr><tr><td>1427</td><td>BR2023</td><td>Volkswagen Motors</td></tr><tr><td>1428</td><td>BR2024</td><td>Volkswagen Motors</td></tr><tr><td>1429</td><td>BR2025</td><td>Volkswagen Motors</td></tr><tr><td>1430</td><td>BR2027</td><td>Volkswagen Motors</td></tr><tr><td>1431</td><td>BR2028</td><td>Volkswagen Motors</td></tr><tr><td>1432</td><td>BR2029</td><td>Volkswagen Motors</td></tr><tr><td>1433</td><td>BR2030</td><td>Volkswagen Motors</td></tr><tr><td>1434</td><td>BR2031</td><td>Volkswagen do Brasil Motors</td></tr><tr><td>1435</td><td>BR2032</td><td>Volkswagen do Brasil Motors</td></tr><tr><td>1436</td><td>BR2033</td><td>Volkswagen do Brasil Motors</td></tr><tr><td>1437</td><td>BR2034</td><td>Volkswagen do Brasil Motors</td></tr><tr><td>1438</td><td>BR2035</td><td>Volkswagen do Brasil Motors</td></tr><tr><td>1439</td><td>BR2037</td><td>Volkswagen do Brasil Motors</td></tr><tr><td>1440</td><td>BR2039</td><td>Volkswagen do Brasil Motors</td></tr><tr><td>1441</td><td>BR2040</td><td>Volkswagen do Brasil Motors</td></tr><tr><td>1442</td><td>BR2041</td><td>Volkswagen South Africa Motors</td></tr><tr><td>1443</td><td>BR2042</td><td>Volkswagen South Africa Motors</td></tr><tr><td>1444</td><td>BR2045</td><td>Volkswagen South Africa Motors</td></tr><tr><td>1445</td><td>BR2046</td><td>Chrysler Motors</td></tr><tr><td>1446</td><td>BR2047</td><td>Volkswagen South Africa Motors</td></tr><tr><td>1447</td><td>BR2048</td><td>Volkswagen South Africa Motors</td></tr><tr><td>1448</td><td>BR2049</td><td>Volkswagen South Africa Motors</td></tr><tr><td>1449</td><td>BR2050</td><td>Volkswagen South Africa Motors</td></tr><tr><td>1450</td><td>BR2052</td><td>Volvo Motors</td></tr><tr><td>1451</td><td>BR2053</td><td>Volvo Motors</td></tr><tr><td>1452</td><td>BR2054</td><td>Volvo Motors</td></tr><tr><td>1453</td><td>BR2057</td><td>Volvo Motors</td></tr><tr><td>1454</td><td>BR2058</td><td>Volvo Motors</td></tr><tr><td>1455</td><td>BR2059</td><td>Volvo Motors</td></tr><tr><td>1456</td><td>BR2060</td><td>Volvo Motors</td></tr><tr><td>1457</td><td>BR2061</td><td>Westfield Motors</td></tr><tr><td>1458</td><td>BR2062</td><td>Westfield Motors</td></tr><tr><td>1459</td><td>BR2063</td><td>Westfield Motors</td></tr><tr><td>1460</td><td>BR2064</td><td>Westfield Motors</td></tr><tr><td>1461</td><td>BR2065</td><td>Westfield Motors</td></tr><tr><td>1462</td><td>BR2067</td><td>Westfield Motors</td></tr><tr><td>1463</td><td>BR2068</td><td>Westfield Motors</td></tr><tr><td>1464</td><td>BR2070</td><td>Westfield Motors</td></tr><tr><td>1465</td><td>BR2071</td><td>Wiesmann Motors</td></tr><tr><td>1466</td><td>BR2072</td><td>Wiesmann Motors</td></tr><tr><td>1467</td><td>BR2075</td><td>Wiesmann Motors</td></tr><tr><td>1468</td><td>BR2077</td><td>Wiesmann Motors</td></tr><tr><td>1469</td><td>BR2079</td><td>Wiesmann Motors</td></tr><tr><td>1470</td><td>BR2080</td><td>Wiesmann Motors</td></tr><tr><td>1471</td><td>BR2082</td><td>Zastava Motors</td></tr><tr><td>1472</td><td>BR2083</td><td>Zastava Motors</td></tr><tr><td>1473</td><td>BR2084</td><td>Zastava Motors</td></tr><tr><td>1474</td><td>BR2085</td><td>Zastava Motors</td></tr><tr><td>1475</td><td>BR2087</td><td>Zastava Motors</td></tr><tr><td>1476</td><td>BR2088</td><td>Zastava Motors</td></tr><tr><td>1477</td><td>BR2089</td><td>Zastava Motors</td></tr><tr><td>1478</td><td>BR2090</td><td>Zastava Motors</td></tr><tr><td>1479</td><td>BR2091</td><td>ZAZ Motors</td></tr><tr><td>1480</td><td>BR2095</td><td>ZAZ Motors</td></tr><tr><td>1481</td><td>BR2097</td><td>ZAZ Motors</td></tr><tr><td>1482</td><td>BR2099</td><td>ZAZ Motors</td></tr><tr><td>1483</td><td>BR2100</td><td>ZAZ Motors</td></tr><tr><td>1484</td><td>BR2101</td><td>ZIL Motors</td></tr><tr><td>1485</td><td>BR2103</td><td>ZIL Motors</td></tr><tr><td>1486</td><td>BR2104</td><td>ZIL Motors</td></tr><tr><td>1487</td><td>BR2105</td><td>ZIL Motors</td></tr><tr><td>1488</td><td>BR2106</td><td>Chrysler Europe Motors</td></tr><tr><td>1489</td><td>BR2107</td><td>ZIL Motors</td></tr><tr><td>1490</td><td>BR2108</td><td>ZIL Motors</td></tr><tr><td>1491</td><td>BR2110</td><td>ZIL Motors</td></tr><tr><td>1492</td><td>BR2113</td><td>Audi Motors</td></tr><tr><td>1493</td><td>BR2114</td><td>Audi Motors</td></tr><tr><td>1494</td><td>BR2115</td><td>Audi Motors</td></tr><tr><td>1495</td><td>BR2117</td><td>Audi Motors</td></tr><tr><td>1496</td><td>BR2118</td><td>Audi Motors</td></tr><tr><td>1497</td><td>BR2119</td><td>Audi Motors</td></tr><tr><td>1498</td><td>BR2121</td><td>DKW Motors</td></tr><tr><td>1499</td><td>BR2122</td><td>DKW Motors</td></tr><tr><td>1500</td><td>BR2123</td><td>DKW Motors</td></tr><tr><td>1501</td><td>BR2124</td><td>DKW Motors</td></tr><tr><td>1502</td><td>BR2125</td><td>DKW Motors</td></tr><tr><td>1503</td><td>BR2128</td><td>DKW Motors</td></tr><tr><td>1504</td><td>BR2129</td><td>DKW Motors</td></tr><tr><td>1505</td><td>BR2130</td><td>DKW Motors</td></tr><tr><td>1506</td><td>BR2131</td><td>Horch Motors</td></tr><tr><td>1507</td><td>BR2132</td><td>Horch Motors</td></tr><tr><td>1508</td><td>BR2133</td><td>Horch Motors</td></tr><tr><td>1509</td><td>BR2134</td><td>Horch Motors</td></tr><tr><td>1510</td><td>BR2135</td><td>Horch Motors</td></tr><tr><td>1511</td><td>BR2137</td><td>Horch Motors</td></tr><tr><td>1512</td><td>BR2138</td><td>Horch Motors</td></tr><tr><td>1513</td><td>BR2139</td><td>Horch Motors</td></tr><tr><td>1514</td><td>BR2140</td><td>Horch Motors</td></tr><tr><td>1515</td><td>BR2142</td><td>Wanderer Motors</td></tr><tr><td>1516</td><td>BR2143</td><td>Wanderer Motors</td></tr><tr><td>1517</td><td>BR2144</td><td>Wanderer Motors</td></tr><tr><td>1518</td><td>BR2147</td><td>Wanderer Motors</td></tr><tr><td>1519</td><td>BR2148</td><td>Wanderer Motors</td></tr><tr><td>1520</td><td>BR2149</td><td>Wanderer Motors</td></tr><tr><td>1521</td><td>BR2150</td><td>Wanderer Motors</td></tr><tr><td>1522</td><td>BR2151</td><td>Maybach  Motors</td></tr><tr><td>1523</td><td>BR2152</td><td>Maybach  Motors</td></tr><tr><td>1524</td><td>BR2153</td><td>Maybach  Motors</td></tr><tr><td>1525</td><td>BR2154</td><td>Maybach  Motors</td></tr><tr><td>1526</td><td>BR2155</td><td>Maybach  Motors</td></tr><tr><td>1527</td><td>BR2157</td><td>Maybach  Motors</td></tr><tr><td>1528</td><td>BR2158</td><td>Maybach  Motors</td></tr><tr><td>1529</td><td>BR2159</td><td>Maybach  Motors</td></tr><tr><td>1530</td><td>BR2160</td><td>Maybach  Motors</td></tr><tr><td>1531</td><td>BR2161</td><td>Izh  Motors</td></tr><tr><td>1532</td><td>BR2163</td><td>Izh  Motors</td></tr><tr><td>1533</td><td>BR2164</td><td>Izh  Motors</td></tr><tr><td>1534</td><td>BR2165</td><td>Izh  Motors</td></tr><tr><td>1535</td><td>BR2166</td><td>Citroën Motors</td></tr><tr><td>1536</td><td>BR2167</td><td>Izh  Motors</td></tr><tr><td>1537</td><td>BR2168</td><td>Izh  Motors</td></tr><tr><td>1538</td><td>BR2169</td><td>Izh  Motors</td></tr><tr><td>1539</td><td>BR2170</td><td>Izh  Motors</td></tr><tr><td>1540</td><td>BR2171</td><td>Lagonda  Motors</td></tr><tr><td>1541</td><td>BR2172</td><td>Lagonda  Motors</td></tr><tr><td>1542</td><td>BR2173</td><td>Lagonda  Motors</td></tr><tr><td>1543</td><td>BR2174</td><td>Lagonda  Motors</td></tr><tr><td>1544</td><td>BR2175</td><td>Lagonda  Motors</td></tr><tr><td>1545</td><td>BR2177</td><td>Lagonda  Motors</td></tr><tr><td>1546</td><td>BR2178</td><td>Lagonda  Motors</td></tr><tr><td>1547</td><td>BR2179</td><td>Lagonda  Motors</td></tr><tr><td>1548</td><td>BR2180</td><td>Lagonda  Motors</td></tr><tr><td>1549</td><td>BR2182</td><td>MG  Motors</td></tr><tr><td>1550</td><td>BR2183</td><td>MG  Motors</td></tr><tr><td>1551</td><td>BR2184</td><td>MG  Motors</td></tr><tr><td>1552</td><td>BR2185</td><td>MG  Motors</td></tr><tr><td>1553</td><td>BR2187</td><td>MG  Motors</td></tr><tr><td>1554</td><td>BR2188</td><td>MG  Motors</td></tr><tr><td>1555</td><td>BR2190</td><td>MG  Motors</td></tr><tr><td>1556</td><td>BR2191</td><td>Morris  Motors</td></tr><tr><td>1557</td><td>BR2192</td><td>Morris  Motors</td></tr><tr><td>1558</td><td>BR2195</td><td>Morris  Motors</td></tr><tr><td>1559</td><td>BR2197</td><td>Morris  Motors</td></tr><tr><td>1560</td><td>BR2198</td><td>Morris  Motors</td></tr><tr><td>1561</td><td>BR2199</td><td>Morris  Motors</td></tr><tr><td>1562</td><td>BR2200</td><td>Morris  Motors</td></tr><tr><td>1563</td><td>BR2201</td><td>Austin  Motors</td></tr><tr><td>1564</td><td>BR2202</td><td>Austin  Motors</td></tr><tr><td>1565</td><td>BR2204</td><td>Austin  Motors</td></tr><tr><td>1566</td><td>BR2207</td><td>Austin  Motors</td></tr><tr><td>1567</td><td>BR2208</td><td>Austin  Motors</td></tr><tr><td>1568</td><td>BR2210</td><td>Austin  Motors</td></tr><tr><td>1569</td><td>BR2211</td><td>Riley  Motors</td></tr><tr><td>1570</td><td>BR2213</td><td>Riley  Motors</td></tr><tr><td>1571</td><td>BR2214</td><td>Riley  Motors</td></tr><tr><td>1572</td><td>BR2217</td><td>Riley  Motors</td></tr><tr><td>1573</td><td>BR2220</td><td>Riley  Motors</td></tr><tr><td>1574</td><td>BR2221</td><td>Wolseley  Motors</td></tr><tr><td>1575</td><td>BR2222</td><td>Wolseley  Motors</td></tr><tr><td>1576</td><td>BR2223</td><td>Wolseley  Motors</td></tr><tr><td>1577</td><td>BR2225</td><td>Wolseley  Motors</td></tr><tr><td>1578</td><td>BR2226</td><td>Cizeta-Moroder Motors</td></tr><tr><td>1579</td><td>BR2229</td><td>Wolseley  Motors</td></tr><tr><td>1580</td><td>BR2230</td><td>Wolseley  Motors</td></tr><tr><td>1581</td><td>BR2231</td><td>Standard  Motors</td></tr><tr><td>1582</td><td>BR2232</td><td>Standard  Motors</td></tr><tr><td>1583</td><td>BR2233</td><td>Standard  Motors</td></tr><tr><td>1584</td><td>BR2234</td><td>Standard  Motors</td></tr><tr><td>1585</td><td>BR2237</td><td>Standard  Motors</td></tr><tr><td>1586</td><td>BR2239</td><td>Standard  Motors</td></tr><tr><td>1587</td><td>BR2240</td><td>Standard  Motors</td></tr><tr><td>1588</td><td>BR2241</td><td>Talbot  Motors</td></tr><tr><td>1589</td><td>BR2243</td><td>Talbot  Motors</td></tr><tr><td>1590</td><td>BR2244</td><td>Talbot  Motors</td></tr><tr><td>1591</td><td>BR2245</td><td>Talbot  Motors</td></tr><tr><td>1592</td><td>BR2247</td><td>Talbot  Motors</td></tr><tr><td>1593</td><td>BR2248</td><td>Talbot  Motors</td></tr><tr><td>1594</td><td>BR2250</td><td>Talbot  Motors</td></tr><tr><td>1595</td><td>BR2251</td><td>Das Motors</td></tr><tr><td>1596</td><td>BR2252</td><td>Das Motors</td></tr><tr><td>1597</td><td>BR2253</td><td>Das Motors</td></tr><tr><td>1598</td><td>BR2258</td><td>Das Motors</td></tr><tr><td>1599</td><td>BR2259</td><td>Das Motors</td></tr><tr><td>1600</td><td>BR2260</td><td>Das Motors</td></tr><tr><td>1601</td><td>BR2262</td><td>Ramani Motors</td></tr><tr><td>1602</td><td>BR2263</td><td>Ramani Motors</td></tr><tr><td>1603</td><td>BR2264</td><td>Ramani Motors</td></tr><tr><td>1604</td><td>BR2267</td><td>Ramani Motors</td></tr><tr><td>1605</td><td>BR2270</td><td>Ramani Motors</td></tr><tr><td>1606</td><td>BR2271</td><td>Deccan Motors</td></tr><tr><td>1607</td><td>BR2272</td><td>Deccan Motors</td></tr><tr><td>1608</td><td>BR2273</td><td>Deccan Motors</td></tr><tr><td>1609</td><td>BR2275</td><td>Deccan Motors</td></tr><tr><td>1610</td><td>BR2277</td><td>Deccan Motors</td></tr><tr><td>1611</td><td>BR2278</td><td>Deccan Motors</td></tr><tr><td>1612</td><td>BR2280</td><td>Deccan Motors</td></tr><tr><td>1613</td><td>BR2281</td><td>Herald Motors</td></tr><tr><td>1614</td><td>BR2282</td><td>Herald Motors</td></tr><tr><td>1615</td><td>BR2283</td><td>Herald Motors</td></tr><tr><td>1616</td><td>BR2284</td><td>Herald Motors</td></tr><tr><td>1617</td><td>BR2285</td><td>Herald Motors</td></tr><tr><td>1618</td><td>BR2286</td><td>Dacia Motors</td></tr><tr><td>1619</td><td>BR2287</td><td>Herald Motors</td></tr><tr><td>1620</td><td>BR2288</td><td>Herald Motors</td></tr><tr><td>1621</td><td>BR2289</td><td>Herald Motors</td></tr><tr><td>1622</td><td>BR2290</td><td>Herald Motors</td></tr><tr><td>1623</td><td>BR2291</td><td>Zion Automobils</td></tr><tr><td>1624</td><td>BR2293</td><td>Zion Automobils</td></tr><tr><td>1625</td><td>BR2295</td><td>Zion Automobils</td></tr><tr><td>1626</td><td>BR2297</td><td>Zion Automobils</td></tr><tr><td>1627</td><td>BR2300</td><td>Zion Automobils</td></tr><tr><td>1628</td><td>BR2301</td><td>Atlantic Motor Company</td></tr><tr><td>1629</td><td>BR2302</td><td>Atlantic Motor Company</td></tr><tr><td>1630</td><td>BR2303</td><td>Atlantic Motor Company</td></tr><tr><td>1631</td><td>BR2305</td><td>Atlantic Motor Company</td></tr><tr><td>1632</td><td>BR2307</td><td>Atlantic Motor Company</td></tr><tr><td>1633</td><td>BR2308</td><td>Atlantic Motor Company</td></tr><tr><td>1634</td><td>BR2309</td><td>Atlantic Motor Company</td></tr><tr><td>1635</td><td>BR2310</td><td>Atlantic Motor Company</td></tr><tr><td>1636</td><td>BR2312</td><td>2008 NRHP-listed</td></tr><tr><td>1637</td><td>BR2313</td><td>2008 NRHP-listed</td></tr><tr><td>1638</td><td>BR2315</td><td>2008 NRHP-listed</td></tr><tr><td>1639</td><td>BR2317</td><td>2008 NRHP-listed</td></tr><tr><td>1640</td><td>BR2318</td><td>2008 NRHP-listed</td></tr><tr><td>1641</td><td>BR2319</td><td>2008 NRHP-listed</td></tr><tr><td>1642</td><td>BR2320</td><td>2008 NRHP-listed</td></tr><tr><td>1643</td><td>BR2321</td><td>Blankinship Motor Company Building</td></tr><tr><td>1644</td><td>BR2322</td><td>Blankinship Motor Company Building</td></tr><tr><td>1645</td><td>BR2323</td><td>Blankinship Motor Company Building</td></tr><tr><td>1646</td><td>BR2324</td><td>Blankinship Motor Company Building</td></tr><tr><td>1647</td><td>BR2327</td><td>Blankinship Motor Company Building</td></tr><tr><td>1648</td><td>BR2329</td><td>Blankinship Motor Company Building</td></tr><tr><td>1649</td><td>BR2330</td><td>Blankinship Motor Company Building</td></tr><tr><td>1650</td><td>BR2331</td><td>Bohn Motor Company Automobile Dealership</td></tr><tr><td>1651</td><td>BR2332</td><td>Bohn Motor Company Automobile Dealership</td></tr><tr><td>1652</td><td>BR2334</td><td>Bohn Motor Company Automobile Dealership</td></tr><tr><td>1653</td><td>BR2335</td><td>Bohn Motor Company Automobile Dealership</td></tr><tr><td>1654</td><td>BR2337</td><td>Bohn Motor Company Automobile Dealership</td></tr><tr><td>1655</td><td>BR2338</td><td>Bohn Motor Company Automobile Dealership</td></tr><tr><td>1656</td><td>BR2339</td><td>Bohn Motor Company Automobile Dealership</td></tr><tr><td>1657</td><td>BR2340</td><td>Bohn Motor Company Automobile Dealership</td></tr><tr><td>1658</td><td>BR2341</td><td>Buick Automobile Company Building</td></tr><tr><td>1659</td><td>BR2342</td><td>Buick Automobile Company Building</td></tr><tr><td>1660</td><td>BR2344</td><td>Buick Automobile Company Building</td></tr><tr><td>1661</td><td>BR2345</td><td>Buick Automobile Company Building</td></tr><tr><td>1662</td><td>BR2346</td><td>Daewoo, Saehan, Chevrolet Korea Motors</td></tr><tr><td>1663</td><td>BR2347</td><td>Buick Automobile Company Building</td></tr><tr><td>1664</td><td>BR2348</td><td>Buick Automobile Company Building</td></tr><tr><td>1665</td><td>BR2350</td><td>Buick Automobile Company Building</td></tr><tr><td>1666</td><td>BR2351</td><td>Cadillac Automobile Company Building</td></tr><tr><td>1667</td><td>BR2352</td><td>Cadillac Automobile Company Building</td></tr><tr><td>1668</td><td>BR2353</td><td>Cadillac Automobile Company Building</td></tr><tr><td>1669</td><td>BR2355</td><td>Cadillac Automobile Company Building</td></tr><tr><td>1670</td><td>BR2357</td><td>Cadillac Automobile Company Building</td></tr><tr><td>1671</td><td>BR2358</td><td>Cadillac Automobile Company Building</td></tr><tr><td>1672</td><td>BR2359</td><td>Cadillac Automobile Company Building</td></tr><tr><td>1673</td><td>BR2360</td><td>Cadillac Automobile Company Building</td></tr><tr><td>1674</td><td>BR2361</td><td>Casa de cadillac</td></tr><tr><td>1675</td><td>BR2362</td><td>Casa de cadillac</td></tr><tr><td>1676</td><td>BR2367</td><td>Casa de cadillac</td></tr><tr><td>1677</td><td>BR2368</td><td>Casa de cadillac</td></tr><tr><td>1678</td><td>BR2369</td><td>Casa de cadillac</td></tr><tr><td>1679</td><td>BR2370</td><td>Casa de cadillac</td></tr><tr><td>1680</td><td>BR2371</td><td>Cass Motor Sales</td></tr><tr><td>1681</td><td>BR2372</td><td>Cass Motor Sales</td></tr><tr><td>1682</td><td>BR2374</td><td>Cass Motor Sales</td></tr><tr><td>1683</td><td>BR2375</td><td>Cass Motor Sales</td></tr><tr><td>1684</td><td>BR2377</td><td>Cass Motor Sales</td></tr><tr><td>1685</td><td>BR2378</td><td>Cass Motor Sales</td></tr><tr><td>1686</td><td>BR2380</td><td>Cass Motor Sales</td></tr><tr><td>1687</td><td>BR2382</td><td>Claremore Auto Dealership</td></tr><tr><td>1688</td><td>BR2383</td><td>Claremore Auto Dealership</td></tr><tr><td>1689</td><td>BR2384</td><td>Claremore Auto Dealership</td></tr><tr><td>1690</td><td>BR2385</td><td>Claremore Auto Dealership</td></tr><tr><td>1691</td><td>BR2388</td><td>Claremore Auto Dealership</td></tr><tr><td>1692</td><td>BR2389</td><td>Claremore Auto Dealership</td></tr><tr><td>1693</td><td>BR2391</td><td>Clemens Automobile Company Building</td></tr><tr><td>1694</td><td>BR2392</td><td>Clemens Automobile Company Building</td></tr><tr><td>1695</td><td>BR2393</td><td>Clemens Automobile Company Building</td></tr><tr><td>1696</td><td>BR2394</td><td>Clemens Automobile Company Building</td></tr><tr><td>1697</td><td>BR2395</td><td>Clemens Automobile Company Building</td></tr><tr><td>1698</td><td>BR2399</td><td>Clemens Automobile Company Building</td></tr><tr><td>1699</td><td>BR2401</td><td>Colman Automotive Building</td></tr><tr><td>1700</td><td>BR2402</td><td>Colman Automotive Building</td></tr><tr><td>1701</td><td>BR2404</td><td>Colman Automotive Building</td></tr><tr><td>1702</td><td>BR2405</td><td>Colman Automotive Building</td></tr><tr><td>1703</td><td>BR2406</td><td>DAF Motors</td></tr><tr><td>1704</td><td>BR2407</td><td>Colman Automotive Building</td></tr><tr><td>1705</td><td>BR2409</td><td>Colman Automotive Building</td></tr><tr><td>1706</td><td>BR2410</td><td>Colman Automotive Building</td></tr><tr><td>1707</td><td>BR2411</td><td>H Street Playhouse</td></tr><tr><td>1708</td><td>BR2412</td><td>H Street Playhouse</td></tr><tr><td>1709</td><td>BR2414</td><td>H Street Playhouse</td></tr><tr><td>1710</td><td>BR2415</td><td>H Street Playhouse</td></tr><tr><td>1711</td><td>BR2417</td><td>H Street Playhouse</td></tr><tr><td>1712</td><td>BR2419</td><td>H Street Playhouse</td></tr><tr><td>1713</td><td>BR2420</td><td>H Street Playhouse</td></tr><tr><td>1714</td><td>BR2421</td><td>Howard Motor Company Building</td></tr><tr><td>1715</td><td>BR2423</td><td>Howard Motor Company Building</td></tr><tr><td>1716</td><td>BR2427</td><td>Howard Motor Company Building</td></tr><tr><td>1717</td><td>BR2428</td><td>Howard Motor Company Building</td></tr><tr><td>1718</td><td>BR2429</td><td>Howard Motor Company Building</td></tr><tr><td>1719</td><td>BR2431</td><td>Hupmobile Building</td></tr><tr><td>1720</td><td>BR2433</td><td>Hupmobile Building</td></tr><tr><td>1721</td><td>BR2437</td><td>Hupmobile Building</td></tr><tr><td>1722</td><td>BR2438</td><td>Hupmobile Building</td></tr><tr><td>1723</td><td>BR2439</td><td>Hupmobile Building</td></tr><tr><td>1724</td><td>BR2440</td><td>Hupmobile Building</td></tr><tr><td>1725</td><td>BR2441</td><td>Jennings Ford Automobile Dealership</td></tr><tr><td>1726</td><td>BR2443</td><td>Jennings Ford Automobile Dealership</td></tr><tr><td>1727</td><td>BR2444</td><td>Jennings Ford Automobile Dealership</td></tr><tr><td>1728</td><td>BR2445</td><td>Jennings Ford Automobile Dealership</td></tr><tr><td>1729</td><td>BR2447</td><td>Jennings Ford Automobile Dealership</td></tr><tr><td>1730</td><td>BR2448</td><td>Jennings Ford Automobile Dealership</td></tr><tr><td>1731</td><td>BR2449</td><td>Jennings Ford Automobile Dealership</td></tr><tr><td>1732</td><td>BR2450</td><td>Jennings Ford Automobile Dealership</td></tr><tr><td>1733</td><td>BR2451</td><td>Jones Motor Company</td></tr><tr><td>1734</td><td>BR2452</td><td>Jones Motor Company</td></tr><tr><td>1735</td><td>BR2454</td><td>Jones Motor Company</td></tr><tr><td>1736</td><td>BR2455</td><td>Jones Motor Company</td></tr><tr><td>1737</td><td>BR2457</td><td>Jones Motor Company</td></tr><tr><td>1738</td><td>BR2460</td><td>Jones Motor Company</td></tr><tr><td>1739</td><td>BR2462</td><td>Kindel Building</td></tr><tr><td>1740</td><td>BR2463</td><td>Kindel Building</td></tr><tr><td>1741</td><td>BR2464</td><td>Kindel Building</td></tr><tr><td>1742</td><td>BR2467</td><td>Kindel Building</td></tr><tr><td>1743</td><td>BR2468</td><td>Kindel Building</td></tr><tr><td>1744</td><td>BR2469</td><td>Kindel Building</td></tr><tr><td>1745</td><td>BR2470</td><td>Kindel Building</td></tr><tr><td>1746</td><td>BR2526</td><td>Daimler Motors</td></tr><tr><td>1747</td><td>BR2586</td><td>Datsun Motors</td></tr><tr><td>1748</td><td>BR2646</td><td>Delahaye Motors</td></tr><tr><td>1749</td><td>BR2706</td><td>DeLorean Motors</td></tr><tr><td>1750</td><td>BR2766</td><td>DeSoto Motors</td></tr><tr><td>1751</td><td>BR2886</td><td>Dodge Motors</td></tr><tr><td>1752</td><td>BR2946</td><td>Donkervoort Motors</td></tr><tr><td>1753</td><td>BR3006</td><td>Edsel Motors</td></tr><tr><td>1754</td><td>BR3066</td><td>e.GO Mobile Motors</td></tr><tr><td>1755</td><td>BR3186</td><td>Elva Motors</td></tr><tr><td>1756</td><td>BR3246</td><td>Facel Vega Motors</td></tr><tr><td>1757</td><td>BR3306</td><td>Ferrari Motors</td></tr><tr><td>1758</td><td>BR3426</td><td>Fiat do Brasil Motors</td></tr><tr><td>1759</td><td>BR3546</td><td>Fisker, Karma Motors</td></tr><tr><td>1760</td><td>BR3606</td><td>Ford America Motors</td></tr><tr><td>1761</td><td>BR3666</td><td>Ford Australia Motors</td></tr><tr><td>1762</td><td>BR3726</td><td>Ford do Brasil Motors</td></tr><tr><td>1763</td><td>BR3786</td><td>Ford Europe Motors</td></tr><tr><td>1764</td><td>BR3906</td><td>Freightliner Motors</td></tr><tr><td>1765</td><td>BR3966</td><td>FSO Motors</td></tr><tr><td>1766</td><td>BR4026</td><td>GAZ Motors</td></tr><tr><td>1767</td><td>BR4086</td><td>Geo Motors</td></tr><tr><td>1768</td><td>BR4146</td><td>Gilbern Motors</td></tr><tr><td>1769</td><td>BR4266</td><td>Glas Motors</td></tr><tr><td>1770</td><td>BR4386</td><td>GTA Spano Motors</td></tr><tr><td>1771</td><td>BR4446</td><td>Gumpert Motors</td></tr><tr><td>1772</td><td>BR4566</td><td>Heinkel Motors</td></tr><tr><td>1773</td><td>BR4626</td><td>Hennessey Motors</td></tr><tr><td>1774</td><td>BR4686</td><td>Hillman Motors</td></tr><tr><td>1775</td><td>BR4746</td><td>Hindustan Motors</td></tr><tr><td>1776</td><td>BR4806</td><td>Holden Motors</td></tr><tr><td>1777</td><td>BR4926</td><td>Honda India Motors</td></tr><tr><td>1778</td><td>BR4986</td><td>Hudson Motors</td></tr><tr><td>1779</td><td>BR5046</td><td>Humber Motors</td></tr><tr><td>1780</td><td>BR5106</td><td>Hummer Motors</td></tr><tr><td>1781</td><td>BR5226</td><td>IFA (including Trabant, Wartburg, Barkas) Motors</td></tr><tr><td>1782</td><td>BR5346</td><td>Innocenti Motors</td></tr><tr><td>1783</td><td>BR5406</td><td>Invicta Motors</td></tr><tr><td>1784</td><td>BR5466</td><td>Isdera Motors</td></tr><tr><td>1785</td><td>BR5586</td><td>Isotta Fraschini Motors</td></tr><tr><td>1786</td><td>BR5646</td><td>Isuzu Motors</td></tr><tr><td>1787</td><td>BR5706</td><td>Iveco Motors</td></tr><tr><td>1788</td><td>BR5826</td><td>Jeep Motors</td></tr><tr><td>1789</td><td>BR5886</td><td>Jensen Motors</td></tr><tr><td>1790</td><td>BR5946</td><td>JPX Motors</td></tr><tr><td>1791</td><td>BR6006</td><td>Kia Motors</td></tr><tr><td>1792</td><td>BR6066</td><td>Koenigsegg Motors</td></tr><tr><td>1793</td><td>BR6126</td><td>KTM Motors</td></tr><tr><td>1794</td><td>BR6186</td><td>Lada Motors</td></tr><tr><td>1795</td><td>BR6246</td><td>Lamborghini Motors</td></tr><tr><td>1796</td><td>BR6306</td><td>Lancia Motors</td></tr><tr><td>1797</td><td>BR6366</td><td>Land Rover Motors</td></tr><tr><td>1798</td><td>BR6426</td><td>Lexus Motors</td></tr><tr><td>1799</td><td>BR6486</td><td>Ligier Motors</td></tr><tr><td>1800</td><td>BR6546</td><td>Lincoln Motors</td></tr><tr><td>1801</td><td>BR6606</td><td>Lotus Motors</td></tr><tr><td>1802</td><td>BR6786</td><td>Lynx Motors</td></tr><tr><td>1803</td><td>BR6846</td><td>Mahindra Motors</td></tr><tr><td>1804</td><td>BR6966</td><td>Marlin Motors</td></tr><tr><td>1805</td><td>BR7026</td><td>Maruti Motors</td></tr><tr><td>1806</td><td>BR7146</td><td>Mastretta Motors</td></tr><tr><td>1807</td><td>BR7266</td><td>Mazda Motors</td></tr><tr><td>1808</td><td>BR7326</td><td>Mazzanti Motors</td></tr><tr><td>1809</td><td>BR7386</td><td>McLaren Motors</td></tr><tr><td>1810</td><td>BR7446</td><td>Mercedes-Benz (including Maybach) Motors</td></tr><tr><td>1811</td><td>BR7506</td><td>Mercury Motors</td></tr><tr><td>1812</td><td>BR7686</td><td>Mia Motors</td></tr><tr><td>1813</td><td>BR7746</td><td>Micro Motors</td></tr><tr><td>1814</td><td>BR7806</td><td>Mini Motors</td></tr><tr><td>1815</td><td>BR7866</td><td>Mitsubishi Motors</td></tr><tr><td>1816</td><td>BR7926</td><td>Monica Motors</td></tr><tr><td>1817</td><td>BR7986</td><td>Monteverdi Motors</td></tr><tr><td>1818</td><td>BR8046</td><td>Morgan Motors</td></tr><tr><td>1819</td><td>BR8106</td><td>Moskwitch Motors</td></tr><tr><td>1820</td><td>BR8226</td><td>Naza Motors</td></tr><tr><td>1821</td><td>BR8286</td><td>Nissan Motors</td></tr><tr><td>1822</td><td>BR8406</td><td>Noble Motors</td></tr><tr><td>1823</td><td>BR8466</td><td>NSU Motors</td></tr><tr><td>1824</td><td>BR8586</td><td>Oltcit Motors</td></tr><tr><td>1825</td><td>BR8646</td><td>Opel Motors</td></tr><tr><td>1826</td><td>BR8706</td><td>Packard Motors</td></tr><tr><td>1827</td><td>BR8766</td><td>Pagani Motors</td></tr><tr><td>1828</td><td>BR8826</td><td>Panhard Motors</td></tr><tr><td>1829</td><td>BR8886</td><td>Panoz Motors</td></tr><tr><td>1830</td><td>BR8946</td><td>Panther Motors</td></tr><tr><td>1831</td><td>BR9066</td><td>Perodua Motors</td></tr><tr><td>1832</td><td>BR9126</td><td>Peugeot Motors</td></tr><tr><td>1833</td><td>BR9186</td><td>PGO Motors</td></tr><tr><td>1834</td><td>BR9246</td><td>Piaggio Motors</td></tr><tr><td>1835</td><td>BR9306</td><td>Plymouth Motors</td></tr><tr><td>1836</td><td>BR9426</td><td>Pontiac, Asüna Motors</td></tr></tbody></table></div>"
      ]
     },
     "metadata": {
      "application/vnd.databricks.v1+output": {
       "addedWidgets": {},
       "aggData": [],
       "aggError": "",
       "aggOverflow": false,
       "aggSchema": [],
       "aggSeriesLimitReached": false,
       "aggType": "",
       "arguments": {},
       "columnCustomDisplayInfos": {},
       "data": [
        [
         1,
         "BR0001",
         "AC Cars Motors"
        ],
        [
         2,
         "BR0003",
         "AC Cars Motors"
        ],
        [
         3,
         "BR0004",
         "AC Cars Motors"
        ],
        [
         4,
         "BR0005",
         "AC Cars Motors"
        ],
        [
         5,
         "BR0006",
         "AC Cars Motors"
        ],
        [
         6,
         "BR0008",
         "AC Cars Motors"
        ],
        [
         7,
         "BR0009",
         "AC Cars Motors"
        ],
        [
         8,
         "BR0010",
         "AC Cars Motors"
        ],
        [
         9,
         "BR0011",
         "Acura Motors"
        ],
        [
         10,
         "BR0012",
         "Acura Motors"
        ],
        [
         11,
         "BR0013",
         "Acura Motors"
        ],
        [
         12,
         "BR0014",
         "Acura Motors"
        ],
        [
         13,
         "BR0015",
         "Acura Motors"
        ],
        [
         14,
         "BR0017",
         "Acura Motors"
        ],
        [
         15,
         "BR0018",
         "Acura Motors"
        ],
        [
         16,
         "BR0019",
         "Acura Motors"
        ],
        [
         17,
         "BR0020",
         "Acura Motors"
        ],
        [
         18,
         "BR0021",
         "Aixam-Mega (including Arola) Motors"
        ],
        [
         19,
         "BR0024",
         "Aixam-Mega (including Arola) Motors"
        ],
        [
         20,
         "BR0025",
         "Aixam-Mega (including Arola) Motors"
        ],
        [
         21,
         "BR0027",
         "Aixam-Mega (including Arola) Motors"
        ],
        [
         22,
         "BR0028",
         "Aixam-Mega (including Arola) Motors"
        ],
        [
         23,
         "BR0029",
         "Aixam-Mega (including Arola) Motors"
        ],
        [
         24,
         "BR0031",
         "Alfa Romeo Motors"
        ],
        [
         25,
         "BR0032",
         "Alfa Romeo Motors"
        ],
        [
         26,
         "BR0033",
         "Alfa Romeo Motors"
        ],
        [
         27,
         "BR0035",
         "Alfa Romeo Motors"
        ],
        [
         28,
         "BR0037",
         "Alfa Romeo Motors"
        ],
        [
         29,
         "BR0038",
         "Alfa Romeo Motors"
        ],
        [
         30,
         "BR0040",
         "Alfa Romeo Motors"
        ],
        [
         31,
         "BR0041",
         "Alpine Motors"
        ],
        [
         32,
         "BR0042",
         "Alpine Motors"
        ],
        [
         33,
         "BR0043",
         "Alpine Motors"
        ],
        [
         34,
         "BR0044",
         "Alpine Motors"
        ],
        [
         35,
         "BR0045",
         "Alpine Motors"
        ],
        [
         36,
         "BR0047",
         "Alpine Motors"
        ],
        [
         37,
         "BR0048",
         "Alpine Motors"
        ],
        [
         38,
         "BR0049",
         "Alpine Motors"
        ],
        [
         39,
         "BR0050",
         "Alpine Motors"
        ],
        [
         40,
         "BR0051",
         "Alvis Motors"
        ],
        [
         41,
         "BR0052",
         "Alvis Motors"
        ],
        [
         42,
         "BR0053",
         "Alvis Motors"
        ],
        [
         43,
         "BR0054",
         "Alvis Motors"
        ],
        [
         44,
         "BR0055",
         "Alvis Motors"
        ],
        [
         45,
         "BR0057",
         "Alvis Motors"
        ],
        [
         46,
         "BR0058",
         "Alvis Motors"
        ],
        [
         47,
         "BR0059",
         "Alvis Motors"
        ],
        [
         48,
         "BR0060",
         "Alvis Motors"
        ],
        [
         49,
         "BR0061",
         "AMC, Eagle Motors"
        ],
        [
         50,
         "BR0064",
         "AMC, Eagle Motors"
        ],
        [
         51,
         "BR0065",
         "AMC, Eagle Motors"
        ],
        [
         52,
         "BR0066",
         "Acura Motors"
        ],
        [
         53,
         "BR0067",
         "AMC, Eagle Motors"
        ],
        [
         54,
         "BR0068",
         "AMC, Eagle Motors"
        ],
        [
         55,
         "BR0069",
         "AMC, Eagle Motors"
        ],
        [
         56,
         "BR0070",
         "AMC, Eagle Motors"
        ],
        [
         57,
         "BR0071",
         "Anadol Motors"
        ],
        [
         58,
         "BR0072",
         "Anadol Motors"
        ],
        [
         59,
         "BR0073",
         "Anadol Motors"
        ],
        [
         60,
         "BR0074",
         "Anadol Motors"
        ],
        [
         61,
         "BR0075",
         "Anadol Motors"
        ],
        [
         62,
         "BR0077",
         "Anadol Motors"
        ],
        [
         63,
         "BR0078",
         "Anadol Motors"
        ],
        [
         64,
         "BR0080",
         "Anadol Motors"
        ],
        [
         65,
         "BR0081",
         "Ariel Motors"
        ],
        [
         66,
         "BR0082",
         "Ariel Motors"
        ],
        [
         67,
         "BR0083",
         "Ariel Motors"
        ],
        [
         68,
         "BR0084",
         "Ariel Motors"
        ],
        [
         69,
         "BR0085",
         "Ariel Motors"
        ],
        [
         70,
         "BR0087",
         "Ariel Motors"
        ],
        [
         71,
         "BR0089",
         "Ariel Motors"
        ],
        [
         72,
         "BR0090",
         "Ariel Motors"
        ],
        [
         73,
         "BR0092",
         "ARO Motors"
        ],
        [
         74,
         "BR0094",
         "ARO Motors"
        ],
        [
         75,
         "BR0095",
         "ARO Motors"
        ],
        [
         76,
         "BR0098",
         "ARO Motors"
        ],
        [
         77,
         "BR0101",
         "Artega Motors"
        ],
        [
         78,
         "BR0102",
         "Artega Motors"
        ],
        [
         79,
         "BR0103",
         "Artega Motors"
        ],
        [
         80,
         "BR0104",
         "Artega Motors"
        ],
        [
         81,
         "BR0108",
         "Artega Motors"
        ],
        [
         82,
         "BR0111",
         "Asia Motors Motors"
        ],
        [
         83,
         "BR0112",
         "Asia Motors Motors"
        ],
        [
         84,
         "BR0114",
         "Asia Motors Motors"
        ],
        [
         85,
         "BR0115",
         "Asia Motors Motors"
        ],
        [
         86,
         "BR0117",
         "Asia Motors Motors"
        ],
        [
         87,
         "BR0118",
         "Asia Motors Motors"
        ],
        [
         88,
         "BR0119",
         "Asia Motors Motors"
        ],
        [
         89,
         "BR0120",
         "Asia Motors Motors"
        ],
        [
         90,
         "BR0121",
         "Aston Martin Motors"
        ],
        [
         91,
         "BR0122",
         "Aston Martin Motors"
        ],
        [
         92,
         "BR0123",
         "Aston Martin Motors"
        ],
        [
         93,
         "BR0125",
         "Aston Martin Motors"
        ],
        [
         94,
         "BR0126",
         "Aixam-Mega (including Arola) Motors"
        ],
        [
         95,
         "BR0127",
         "Aston Martin Motors"
        ],
        [
         96,
         "BR0128",
         "Aston Martin Motors"
        ],
        [
         97,
         "BR0129",
         "Aston Martin Motors"
        ],
        [
         98,
         "BR0130",
         "Aston Martin Motors"
        ],
        [
         99,
         "BR0131",
         "Audi Motors"
        ],
        [
         100,
         "BR0135",
         "Audi Motors"
        ],
        [
         101,
         "BR0138",
         "Audi Motors"
        ],
        [
         102,
         "BR0139",
         "Audi Motors"
        ],
        [
         103,
         "BR0140",
         "Audi Motors"
        ],
        [
         104,
         "BR0141",
         "Autobianchi Motors"
        ],
        [
         105,
         "BR0143",
         "Autobianchi Motors"
        ],
        [
         106,
         "BR0144",
         "Autobianchi Motors"
        ],
        [
         107,
         "BR0145",
         "Autobianchi Motors"
        ],
        [
         108,
         "BR0151",
         "Auto-Union Motors"
        ],
        [
         109,
         "BR0152",
         "Auto-Union Motors"
        ],
        [
         110,
         "BR0153",
         "Auto-Union Motors"
        ],
        [
         111,
         "BR0154",
         "Auto-Union Motors"
        ],
        [
         112,
         "BR0158",
         "Auto-Union Motors"
        ],
        [
         113,
         "BR0159",
         "Auto-Union Motors"
        ],
        [
         114,
         "BR0160",
         "Auto-Union Motors"
        ],
        [
         115,
         "BR0161",
         "Auverland Motors"
        ],
        [
         116,
         "BR0163",
         "Auverland Motors"
        ],
        [
         117,
         "BR0164",
         "Auverland Motors"
        ],
        [
         118,
         "BR0165",
         "Auverland Motors"
        ],
        [
         119,
         "BR0168",
         "Auverland Motors"
        ],
        [
         120,
         "BR0169",
         "Auverland Motors"
        ],
        [
         121,
         "BR0170",
         "Auverland Motors"
        ],
        [
         122,
         "BR0171",
         "Bentley Motors"
        ],
        [
         123,
         "BR0172",
         "Bentley Motors"
        ],
        [
         124,
         "BR0173",
         "Bentley Motors"
        ],
        [
         125,
         "BR0175",
         "Bentley Motors"
        ],
        [
         126,
         "BR0179",
         "Bentley Motors"
        ],
        [
         127,
         "BR0180",
         "Bentley Motors"
        ],
        [
         128,
         "BR0181",
         "Bitter Motors"
        ],
        [
         129,
         "BR0182",
         "Bitter Motors"
        ],
        [
         130,
         "BR0183",
         "Bitter Motors"
        ],
        [
         131,
         "BR0185",
         "Bitter Motors"
        ],
        [
         132,
         "BR0186",
         "Alfa Romeo Motors"
        ],
        [
         133,
         "BR0188",
         "Bitter Motors"
        ],
        [
         134,
         "BR0189",
         "Bitter Motors"
        ],
        [
         135,
         "BR0191",
         "BMW Motors"
        ],
        [
         136,
         "BR0192",
         "BMW Motors"
        ],
        [
         137,
         "BR0193",
         "BMW Motors"
        ],
        [
         138,
         "BR0194",
         "BMW Motors"
        ],
        [
         139,
         "BR0195",
         "BMW Motors"
        ],
        [
         140,
         "BR0197",
         "BMW Motors"
        ],
        [
         141,
         "BR0198",
         "BMW Motors"
        ],
        [
         142,
         "BR0199",
         "BMW Motors"
        ],
        [
         143,
         "BR0200",
         "BMW Motors"
        ],
        [
         144,
         "BR0201",
         "Bond Motors"
        ],
        [
         145,
         "BR0202",
         "Bond Motors"
        ],
        [
         146,
         "BR0203",
         "Bond Motors"
        ],
        [
         147,
         "BR0204",
         "Bond Motors"
        ],
        [
         148,
         "BR0205",
         "Bond Motors"
        ],
        [
         149,
         "BR0208",
         "Bond Motors"
        ],
        [
         150,
         "BR0211",
         "Borgward (including Goliath and Lloyd) Motors"
        ],
        [
         151,
         "BR0212",
         "Borgward (including Goliath and Lloyd) Motors"
        ],
        [
         152,
         "BR0213",
         "Borgward (including Goliath and Lloyd) Motors"
        ],
        [
         153,
         "BR0214",
         "Borgward (including Goliath and Lloyd) Motors"
        ],
        [
         154,
         "BR0215",
         "Borgward (including Goliath and Lloyd) Motors"
        ],
        [
         155,
         "BR0217",
         "Borgward (including Goliath and Lloyd) Motors"
        ],
        [
         156,
         "BR0218",
         "Borgward (including Goliath and Lloyd) Motors"
        ],
        [
         157,
         "BR0219",
         "Borgward (including Goliath and Lloyd) Motors"
        ],
        [
         158,
         "BR0220",
         "Borgward (including Goliath and Lloyd) Motors"
        ],
        [
         159,
         "BR0221",
         "Bristol Motors"
        ],
        [
         160,
         "BR0222",
         "Bristol Motors"
        ],
        [
         161,
         "BR0223",
         "Bristol Motors"
        ],
        [
         162,
         "BR0224",
         "Bristol Motors"
        ],
        [
         163,
         "BR0225",
         "Bristol Motors"
        ],
        [
         164,
         "BR0227",
         "Bristol Motors"
        ],
        [
         165,
         "BR0228",
         "Bristol Motors"
        ],
        [
         166,
         "BR0229",
         "Bristol Motors"
        ],
        [
         167,
         "BR0230",
         "Bristol Motors"
        ],
        [
         168,
         "BR0231",
         "British Leyland Motors"
        ],
        [
         169,
         "BR0232",
         "British Leyland Motors"
        ],
        [
         170,
         "BR0234",
         "British Leyland Motors"
        ],
        [
         171,
         "BR0235",
         "British Leyland Motors"
        ],
        [
         172,
         "BR0237",
         "British Leyland Motors"
        ],
        [
         173,
         "BR0239",
         "British Leyland Motors"
        ],
        [
         174,
         "BR0240",
         "British Leyland Motors"
        ],
        [
         175,
         "BR0243",
         "Austin-Healey Motors"
        ],
        [
         176,
         "BR0247",
         "Austin-Healey Motors"
        ],
        [
         177,
         "BR0249",
         "Austin-Healey Motors"
        ],
        [
         178,
         "BR0251",
         "Austin, Rover Motors"
        ],
        [
         179,
         "BR0252",
         "Austin, Rover Motors"
        ],
        [
         180,
         "BR0253",
         "Austin, Rover Motors"
        ],
        [
         181,
         "BR0254",
         "Austin, Rover Motors"
        ],
        [
         182,
         "BR0255",
         "Austin, Rover Motors"
        ],
        [
         183,
         "BR0260",
         "Austin, Rover Motors"
        ],
        [
         184,
         "BR0262",
         "Bugatti Motors"
        ],
        [
         185,
         "BR0264",
         "Bugatti Motors"
        ],
        [
         186,
         "BR0265",
         "Bugatti Motors"
        ],
        [
         187,
         "BR0267",
         "Bugatti Motors"
        ],
        [
         188,
         "BR0268",
         "Bugatti Motors"
        ],
        [
         189,
         "BR0269",
         "Bugatti Motors"
        ],
        [
         190,
         "BR0270",
         "Bugatti Motors"
        ],
        [
         191,
         "BR0271",
         "Buick Motors"
        ],
        [
         192,
         "BR0272",
         "Buick Motors"
        ],
        [
         193,
         "BR0274",
         "Buick Motors"
        ],
        [
         194,
         "BR0275",
         "Buick Motors"
        ],
        [
         195,
         "BR0277",
         "Buick Motors"
        ],
        [
         196,
         "BR0278",
         "Buick Motors"
        ],
        [
         197,
         "BR0279",
         "Buick Motors"
        ],
        [
         198,
         "BR0280",
         "Buick Motors"
        ],
        [
         199,
         "BR0283",
         "Bytom Motors"
        ],
        [
         200,
         "BR0285",
         "Bytom Motors"
        ],
        [
         201,
         "BR0290",
         "Bytom Motors"
        ],
        [
         202,
         "BR0291",
         "Cadillac Motors"
        ],
        [
         203,
         "BR0293",
         "Cadillac Motors"
        ],
        [
         204,
         "BR0294",
         "Cadillac Motors"
        ],
        [
         205,
         "BR0295",
         "Cadillac Motors"
        ],
        [
         206,
         "BR0297",
         "Cadillac Motors"
        ],
        [
         207,
         "BR0298",
         "Cadillac Motors"
        ],
        [
         208,
         "BR0299",
         "Cadillac Motors"
        ],
        [
         209,
         "BR0300",
         "Cadillac Motors"
        ],
        [
         210,
         "BR0301",
         "Caterham Motors"
        ],
        [
         211,
         "BR0302",
         "Caterham Motors"
        ],
        [
         212,
         "BR0303",
         "Caterham Motors"
        ],
        [
         213,
         "BR0304",
         "Caterham Motors"
        ],
        [
         214,
         "BR0305",
         "Caterham Motors"
        ],
        [
         215,
         "BR0306",
         "Alvis Motors"
        ],
        [
         216,
         "BR0308",
         "Caterham Motors"
        ],
        [
         217,
         "BR0309",
         "Caterham Motors"
        ],
        [
         218,
         "BR0310",
         "Caterham Motors"
        ],
        [
         219,
         "BR0311",
         "Checker Motors"
        ],
        [
         220,
         "BR0313",
         "Checker Motors"
        ],
        [
         221,
         "BR0315",
         "Checker Motors"
        ],
        [
         222,
         "BR0317",
         "Checker Motors"
        ],
        [
         223,
         "BR0318",
         "Checker Motors"
        ],
        [
         224,
         "BR0321",
         "Chevrolet Motors"
        ],
        [
         225,
         "BR0322",
         "Chevrolet Motors"
        ],
        [
         226,
         "BR0323",
         "Chevrolet Motors"
        ],
        [
         227,
         "BR0324",
         "Chevrolet Motors"
        ],
        [
         228,
         "BR0328",
         "Chevrolet Motors"
        ],
        [
         229,
         "BR0329",
         "Chevrolet Motors"
        ],
        [
         230,
         "BR0331",
         "Chevrolet India Motors"
        ],
        [
         231,
         "BR0332",
         "Chevrolet India Motors"
        ],
        [
         232,
         "BR0333",
         "Chevrolet India Motors"
        ],
        [
         233,
         "BR0334",
         "Chevrolet India Motors"
        ],
        [
         234,
         "BR0337",
         "Chevrolet India Motors"
        ],
        [
         235,
         "BR0338",
         "Chevrolet India Motors"
        ],
        [
         236,
         "BR0339",
         "Chevrolet India Motors"
        ],
        [
         237,
         "BR0341",
         "Chrysler Motors"
        ],
        [
         238,
         "BR0342",
         "Chrysler Motors"
        ],
        [
         239,
         "BR0344",
         "Chrysler Motors"
        ],
        [
         240,
         "BR0347",
         "Chrysler Motors"
        ],
        [
         241,
         "BR0349",
         "Chrysler Motors"
        ],
        [
         242,
         "BR0350",
         "Chrysler Motors"
        ],
        [
         243,
         "BR0351",
         "Chrysler Europe Motors"
        ],
        [
         244,
         "BR0352",
         "Chrysler Europe Motors"
        ],
        [
         245,
         "BR0353",
         "Chrysler Europe Motors"
        ],
        [
         246,
         "BR0354",
         "Chrysler Europe Motors"
        ],
        [
         247,
         "BR0357",
         "Chrysler Europe Motors"
        ],
        [
         248,
         "BR0359",
         "Chrysler Europe Motors"
        ],
        [
         249,
         "BR0360",
         "Chrysler Europe Motors"
        ],
        [
         250,
         "BR0362",
         "Citroën Motors"
        ],
        [
         251,
         "BR0363",
         "Citroën Motors"
        ],
        [
         252,
         "BR0364",
         "Citroën Motors"
        ],
        [
         253,
         "BR0367",
         "Citroën Motors"
        ],
        [
         254,
         "BR0368",
         "Citroën Motors"
        ],
        [
         255,
         "BR0369",
         "Citroën Motors"
        ],
        [
         256,
         "BR0371",
         "Cizeta-Moroder Motors"
        ],
        [
         257,
         "BR0372",
         "Cizeta-Moroder Motors"
        ],
        [
         258,
         "BR0375",
         "Cizeta-Moroder Motors"
        ],
        [
         259,
         "BR0378",
         "Cizeta-Moroder Motors"
        ],
        [
         260,
         "BR0379",
         "Cizeta-Moroder Motors"
        ],
        [
         261,
         "BR0380",
         "Cizeta-Moroder Motors"
        ],
        [
         262,
         "BR0381",
         "Dacia Motors"
        ],
        [
         263,
         "BR0382",
         "Dacia Motors"
        ],
        [
         264,
         "BR0383",
         "Dacia Motors"
        ],
        [
         265,
         "BR0384",
         "Dacia Motors"
        ],
        [
         266,
         "BR0385",
         "Dacia Motors"
        ],
        [
         267,
         "BR0387",
         "Dacia Motors"
        ],
        [
         268,
         "BR0388",
         "Dacia Motors"
        ],
        [
         269,
         "BR0391",
         "Daewoo, Saehan, Chevrolet Korea Motors"
        ],
        [
         270,
         "BR0392",
         "Daewoo, Saehan, Chevrolet Korea Motors"
        ],
        [
         271,
         "BR0393",
         "Daewoo, Saehan, Chevrolet Korea Motors"
        ],
        [
         272,
         "BR0395",
         "Daewoo, Saehan, Chevrolet Korea Motors"
        ],
        [
         273,
         "BR0397",
         "Daewoo, Saehan, Chevrolet Korea Motors"
        ],
        [
         274,
         "BR0399",
         "Daewoo, Saehan, Chevrolet Korea Motors"
        ],
        [
         275,
         "BR0400",
         "Daewoo, Saehan, Chevrolet Korea Motors"
        ],
        [
         276,
         "BR0402",
         "DAF Motors"
        ],
        [
         277,
         "BR0403",
         "DAF Motors"
        ],
        [
         278,
         "BR0404",
         "DAF Motors"
        ],
        [
         279,
         "BR0405",
         "DAF Motors"
        ],
        [
         280,
         "BR0407",
         "DAF Motors"
        ],
        [
         281,
         "BR0408",
         "DAF Motors"
        ],
        [
         282,
         "BR0409",
         "DAF Motors"
        ],
        [
         283,
         "BR0410",
         "DAF Motors"
        ],
        [
         284,
         "BR0411",
         "Daihatsu Motors"
        ],
        [
         285,
         "BR0412",
         "Daihatsu Motors"
        ],
        [
         286,
         "BR0413",
         "Daihatsu Motors"
        ],
        [
         287,
         "BR0414",
         "Daihatsu Motors"
        ],
        [
         288,
         "BR0415",
         "Daihatsu Motors"
        ],
        [
         289,
         "BR0417",
         "Daihatsu Motors"
        ],
        [
         290,
         "BR0418",
         "Daihatsu Motors"
        ],
        [
         291,
         "BR0419",
         "Daihatsu Motors"
        ],
        [
         292,
         "BR0420",
         "Daihatsu Motors"
        ],
        [
         293,
         "BR0422",
         "Daimler Motors"
        ],
        [
         294,
         "BR0423",
         "Daimler Motors"
        ],
        [
         295,
         "BR0424",
         "Daimler Motors"
        ],
        [
         296,
         "BR0426",
         "Anadol Motors"
        ],
        [
         297,
         "BR0427",
         "Daimler Motors"
        ],
        [
         298,
         "BR0429",
         "Daimler Motors"
        ],
        [
         299,
         "BR0432",
         "Datsun Motors"
        ],
        [
         300,
         "BR0433",
         "Datsun Motors"
        ],
        [
         301,
         "BR0434",
         "Datsun Motors"
        ],
        [
         302,
         "BR0435",
         "Datsun Motors"
        ],
        [
         303,
         "BR0438",
         "Datsun Motors"
        ],
        [
         304,
         "BR0439",
         "Datsun Motors"
        ],
        [
         305,
         "BR0441",
         "Delahaye Motors"
        ],
        [
         306,
         "BR0442",
         "Delahaye Motors"
        ],
        [
         307,
         "BR0443",
         "Delahaye Motors"
        ],
        [
         308,
         "BR0444",
         "Delahaye Motors"
        ],
        [
         309,
         "BR0445",
         "Delahaye Motors"
        ],
        [
         310,
         "BR0447",
         "Delahaye Motors"
        ],
        [
         311,
         "BR0450",
         "Delahaye Motors"
        ],
        [
         312,
         "BR0451",
         "DeLorean Motors"
        ],
        [
         313,
         "BR0452",
         "DeLorean Motors"
        ],
        [
         314,
         "BR0454",
         "DeLorean Motors"
        ],
        [
         315,
         "BR0455",
         "DeLorean Motors"
        ],
        [
         316,
         "BR0457",
         "DeLorean Motors"
        ],
        [
         317,
         "BR0458",
         "DeLorean Motors"
        ],
        [
         318,
         "BR0459",
         "DeLorean Motors"
        ],
        [
         319,
         "BR0460",
         "DeLorean Motors"
        ],
        [
         320,
         "BR0461",
         "DeSoto Motors"
        ],
        [
         321,
         "BR0462",
         "DeSoto Motors"
        ],
        [
         322,
         "BR0463",
         "DeSoto Motors"
        ],
        [
         323,
         "BR0464",
         "DeSoto Motors"
        ],
        [
         324,
         "BR0468",
         "DeSoto Motors"
        ],
        [
         325,
         "BR0469",
         "DeSoto Motors"
        ],
        [
         326,
         "BR0470",
         "DeSoto Motors"
        ],
        [
         327,
         "BR0471",
         "De Tomaso Motors"
        ],
        [
         328,
         "BR0473",
         "De Tomaso Motors"
        ],
        [
         329,
         "BR0474",
         "De Tomaso Motors"
        ],
        [
         330,
         "BR0477",
         "De Tomaso Motors"
        ],
        [
         331,
         "BR0479",
         "De Tomaso Motors"
        ],
        [
         332,
         "BR0481",
         "Dodge Motors"
        ],
        [
         333,
         "BR0482",
         "Dodge Motors"
        ],
        [
         334,
         "BR0483",
         "Dodge Motors"
        ],
        [
         335,
         "BR0484",
         "Dodge Motors"
        ],
        [
         336,
         "BR0485",
         "Dodge Motors"
        ],
        [
         337,
         "BR0486",
         "Ariel Motors"
        ],
        [
         338,
         "BR0487",
         "Dodge Motors"
        ],
        [
         339,
         "BR0488",
         "Dodge Motors"
        ],
        [
         340,
         "BR0490",
         "Dodge Motors"
        ],
        [
         341,
         "BR0491",
         "Donkervoort Motors"
        ],
        [
         342,
         "BR0492",
         "Donkervoort Motors"
        ],
        [
         343,
         "BR0493",
         "Donkervoort Motors"
        ],
        [
         344,
         "BR0494",
         "Donkervoort Motors"
        ],
        [
         345,
         "BR0497",
         "Donkervoort Motors"
        ],
        [
         346,
         "BR0498",
         "Donkervoort Motors"
        ],
        [
         347,
         "BR0500",
         "Donkervoort Motors"
        ],
        [
         348,
         "BR0501",
         "Edsel Motors"
        ],
        [
         349,
         "BR0502",
         "Edsel Motors"
        ],
        [
         350,
         "BR0504",
         "Edsel Motors"
        ],
        [
         351,
         "BR0505",
         "Edsel Motors"
        ],
        [
         352,
         "BR0509",
         "Edsel Motors"
        ],
        [
         353,
         "BR0512",
         "e.GO Mobile Motors"
        ],
        [
         354,
         "BR0513",
         "e.GO Mobile Motors"
        ],
        [
         355,
         "BR0514",
         "e.GO Mobile Motors"
        ],
        [
         356,
         "BR0515",
         "e.GO Mobile Motors"
        ],
        [
         357,
         "BR0517",
         "e.GO Mobile Motors"
        ],
        [
         358,
         "BR0519",
         "e.GO Mobile Motors"
        ],
        [
         359,
         "BR0520",
         "e.GO Mobile Motors"
        ],
        [
         360,
         "BR0521",
         "Eicher Polaris Motors"
        ],
        [
         361,
         "BR0523",
         "Eicher Polaris Motors"
        ],
        [
         362,
         "BR0524",
         "Eicher Polaris Motors"
        ],
        [
         363,
         "BR0525",
         "Eicher Polaris Motors"
        ],
        [
         364,
         "BR0527",
         "Eicher Polaris Motors"
        ],
        [
         365,
         "BR0528",
         "Eicher Polaris Motors"
        ],
        [
         366,
         "BR0531",
         "Elva Motors"
        ],
        [
         367,
         "BR0533",
         "Elva Motors"
        ],
        [
         368,
         "BR0534",
         "Elva Motors"
        ],
        [
         369,
         "BR0537",
         "Elva Motors"
        ],
        [
         370,
         "BR0538",
         "Elva Motors"
        ],
        [
         371,
         "BR0539",
         "Elva Motors"
        ],
        [
         372,
         "BR0542",
         "Facel Vega Motors"
        ],
        [
         373,
         "BR0544",
         "Facel Vega Motors"
        ],
        [
         374,
         "BR0546",
         "ARO Motors"
        ],
        [
         375,
         "BR0551",
         "Ferrari Motors"
        ],
        [
         376,
         "BR0552",
         "Ferrari Motors"
        ],
        [
         377,
         "BR0553",
         "Ferrari Motors"
        ],
        [
         378,
         "BR0555",
         "Ferrari Motors"
        ],
        [
         379,
         "BR0559",
         "Ferrari Motors"
        ],
        [
         380,
         "BR0561",
         "Fiat Motors"
        ],
        [
         381,
         "BR0562",
         "Fiat Motors"
        ],
        [
         382,
         "BR0565",
         "Fiat Motors"
        ],
        [
         383,
         "BR0567",
         "Fiat Motors"
        ],
        [
         384,
         "BR0568",
         "Fiat Motors"
        ],
        [
         385,
         "BR0569",
         "Fiat Motors"
        ],
        [
         386,
         "BR0572",
         "Fiat do Brasil Motors"
        ],
        [
         387,
         "BR0573",
         "Fiat do Brasil Motors"
        ],
        [
         388,
         "BR0575",
         "Fiat do Brasil Motors"
        ],
        [
         389,
         "BR0577",
         "Fiat do Brasil Motors"
        ],
        [
         390,
         "BR0578",
         "Fiat do Brasil Motors"
        ],
        [
         391,
         "BR0579",
         "Fiat do Brasil Motors"
        ],
        [
         392,
         "BR0581",
         "Fiat India Motors"
        ],
        [
         393,
         "BR0584",
         "Fiat India Motors"
        ],
        [
         394,
         "BR0585",
         "Fiat India Motors"
        ],
        [
         395,
         "BR0588",
         "Fiat India Motors"
        ],
        [
         396,
         "BR0590",
         "Fiat India Motors"
        ],
        [
         397,
         "BR0591",
         "Fisker, Karma Motors"
        ],
        [
         398,
         "BR0592",
         "Fisker, Karma Motors"
        ],
        [
         399,
         "BR0598",
         "Fisker, Karma Motors"
        ],
        [
         400,
         "BR0599",
         "Fisker, Karma Motors"
        ],
        [
         401,
         "BR0600",
         "Fisker, Karma Motors"
        ],
        [
         402,
         "BR0601",
         "Ford America Motors"
        ],
        [
         403,
         "BR0602",
         "Ford America Motors"
        ],
        [
         404,
         "BR0604",
         "Ford America Motors"
        ],
        [
         405,
         "BR0605",
         "Ford America Motors"
        ],
        [
         406,
         "BR0606",
         "Artega Motors"
        ],
        [
         407,
         "BR0607",
         "Ford America Motors"
        ],
        [
         408,
         "BR0608",
         "Ford America Motors"
        ],
        [
         409,
         "BR0610",
         "Ford America Motors"
        ],
        [
         410,
         "BR0611",
         "Ford Australia Motors"
        ],
        [
         411,
         "BR0613",
         "Ford Australia Motors"
        ],
        [
         412,
         "BR0614",
         "Ford Australia Motors"
        ],
        [
         413,
         "BR0615",
         "Ford Australia Motors"
        ],
        [
         414,
         "BR0617",
         "Ford Australia Motors"
        ],
        [
         415,
         "BR0619",
         "Ford Australia Motors"
        ],
        [
         416,
         "BR0620",
         "Ford Australia Motors"
        ],
        [
         417,
         "BR0621",
         "Ford do Brasil Motors"
        ],
        [
         418,
         "BR0623",
         "Ford do Brasil Motors"
        ],
        [
         419,
         "BR0624",
         "Ford do Brasil Motors"
        ],
        [
         420,
         "BR0625",
         "Ford do Brasil Motors"
        ],
        [
         421,
         "BR0627",
         "Ford do Brasil Motors"
        ],
        [
         422,
         "BR0629",
         "Ford do Brasil Motors"
        ],
        [
         423,
         "BR0631",
         "Ford Europe Motors"
        ],
        [
         424,
         "BR0633",
         "Ford Europe Motors"
        ],
        [
         425,
         "BR0634",
         "Ford Europe Motors"
        ],
        [
         426,
         "BR0635",
         "Ford Europe Motors"
        ],
        [
         427,
         "BR0637",
         "Ford Europe Motors"
        ],
        [
         428,
         "BR0638",
         "Ford Europe Motors"
        ],
        [
         429,
         "BR0640",
         "Ford Europe Motors"
        ],
        [
         430,
         "BR0641",
         "Ford India Motors"
        ],
        [
         431,
         "BR0642",
         "Ford India Motors"
        ],
        [
         432,
         "BR0643",
         "Ford India Motors"
        ],
        [
         433,
         "BR0645",
         "Ford India Motors"
        ],
        [
         434,
         "BR0647",
         "Ford India Motors"
        ],
        [
         435,
         "BR0649",
         "Ford India Motors"
        ],
        [
         436,
         "BR0650",
         "Ford India Motors"
        ],
        [
         437,
         "BR0651",
         "Freightliner Motors"
        ],
        [
         438,
         "BR0653",
         "Freightliner Motors"
        ],
        [
         439,
         "BR0654",
         "Freightliner Motors"
        ],
        [
         440,
         "BR0655",
         "Freightliner Motors"
        ],
        [
         441,
         "BR0657",
         "Freightliner Motors"
        ],
        [
         442,
         "BR0658",
         "Freightliner Motors"
        ],
        [
         443,
         "BR0660",
         "Freightliner Motors"
        ],
        [
         444,
         "BR0661",
         "FSO Motors"
        ],
        [
         445,
         "BR0662",
         "FSO Motors"
        ],
        [
         446,
         "BR0663",
         "FSO Motors"
        ],
        [
         447,
         "BR0665",
         "FSO Motors"
        ],
        [
         448,
         "BR0666",
         "Asia Motors Motors"
        ],
        [
         449,
         "BR0667",
         "FSO Motors"
        ],
        [
         450,
         "BR0668",
         "FSO Motors"
        ],
        [
         451,
         "BR0669",
         "FSO Motors"
        ],
        [
         452,
         "BR0672",
         "GAZ Motors"
        ],
        [
         453,
         "BR0673",
         "GAZ Motors"
        ],
        [
         454,
         "BR0675",
         "GAZ Motors"
        ],
        [
         455,
         "BR0678",
         "GAZ Motors"
        ],
        [
         456,
         "BR0680",
         "GAZ Motors"
        ],
        [
         457,
         "BR0681",
         "Geo Motors"
        ],
        [
         458,
         "BR0682",
         "Geo Motors"
        ],
        [
         459,
         "BR0685",
         "Geo Motors"
        ],
        [
         460,
         "BR0687",
         "Geo Motors"
        ],
        [
         461,
         "BR0688",
         "Geo Motors"
        ],
        [
         462,
         "BR0690",
         "Geo Motors"
        ],
        [
         463,
         "BR0691",
         "Gilbern Motors"
        ],
        [
         464,
         "BR0692",
         "Gilbern Motors"
        ],
        [
         465,
         "BR0693",
         "Gilbern Motors"
        ],
        [
         466,
         "BR0694",
         "Gilbern Motors"
        ],
        [
         467,
         "BR0695",
         "Gilbern Motors"
        ],
        [
         468,
         "BR0697",
         "Gilbern Motors"
        ],
        [
         469,
         "BR0698",
         "Gilbern Motors"
        ],
        [
         470,
         "BR0699",
         "Gilbern Motors"
        ],
        [
         471,
         "BR0700",
         "Gilbern Motors"
        ],
        [
         472,
         "BR0701",
         "Ginetta Motors"
        ],
        [
         473,
         "BR0702",
         "Ginetta Motors"
        ],
        [
         474,
         "BR0703",
         "Ginetta Motors"
        ],
        [
         475,
         "BR0704",
         "Ginetta Motors"
        ],
        [
         476,
         "BR0707",
         "Ginetta Motors"
        ],
        [
         477,
         "BR0708",
         "Ginetta Motors"
        ],
        [
         478,
         "BR0709",
         "Ginetta Motors"
        ],
        [
         479,
         "BR0710",
         "Ginetta Motors"
        ],
        [
         480,
         "BR0711",
         "Glas Motors"
        ],
        [
         481,
         "BR0712",
         "Glas Motors"
        ],
        [
         482,
         "BR0713",
         "Glas Motors"
        ],
        [
         483,
         "BR0714",
         "Glas Motors"
        ],
        [
         484,
         "BR0715",
         "Glas Motors"
        ],
        [
         485,
         "BR0717",
         "Glas Motors"
        ],
        [
         486,
         "BR0718",
         "Glas Motors"
        ],
        [
         487,
         "BR0719",
         "Glas Motors"
        ],
        [
         488,
         "BR0720",
         "Glas Motors"
        ],
        [
         489,
         "BR0721",
         "GMC Motors"
        ],
        [
         490,
         "BR0722",
         "GMC Motors"
        ],
        [
         491,
         "BR0723",
         "GMC Motors"
        ],
        [
         492,
         "BR0724",
         "GMC Motors"
        ],
        [
         493,
         "BR0726",
         "Aston Martin Motors"
        ],
        [
         494,
         "BR0727",
         "GMC Motors"
        ],
        [
         495,
         "BR0728",
         "GMC Motors"
        ],
        [
         496,
         "BR0730",
         "GMC Motors"
        ],
        [
         497,
         "BR0731",
         "GTA Spano Motors"
        ],
        [
         498,
         "BR0732",
         "GTA Spano Motors"
        ],
        [
         499,
         "BR0734",
         "GTA Spano Motors"
        ],
        [
         500,
         "BR0735",
         "GTA Spano Motors"
        ],
        [
         501,
         "BR0738",
         "GTA Spano Motors"
        ],
        [
         502,
         "BR0739",
         "GTA Spano Motors"
        ],
        [
         503,
         "BR0741",
         "Gumpert Motors"
        ],
        [
         504,
         "BR0742",
         "Gumpert Motors"
        ],
        [
         505,
         "BR0744",
         "Gumpert Motors"
        ],
        [
         506,
         "BR0745",
         "Gumpert Motors"
        ],
        [
         507,
         "BR0747",
         "Gumpert Motors"
        ],
        [
         508,
         "BR0748",
         "Gumpert Motors"
        ],
        [
         509,
         "BR0751",
         "Healey Motors"
        ],
        [
         510,
         "BR0752",
         "Healey Motors"
        ],
        [
         511,
         "BR0753",
         "Healey Motors"
        ],
        [
         512,
         "BR0755",
         "Healey Motors"
        ],
        [
         513,
         "BR0757",
         "Healey Motors"
        ],
        [
         514,
         "BR0759",
         "Healey Motors"
        ],
        [
         515,
         "BR0760",
         "Healey Motors"
        ],
        [
         516,
         "BR0762",
         "Heinkel Motors"
        ],
        [
         517,
         "BR0764",
         "Heinkel Motors"
        ],
        [
         518,
         "BR0765",
         "Heinkel Motors"
        ],
        [
         519,
         "BR0767",
         "Heinkel Motors"
        ],
        [
         520,
         "BR0768",
         "Heinkel Motors"
        ],
        [
         521,
         "BR0769",
         "Heinkel Motors"
        ],
        [
         522,
         "BR0770",
         "Heinkel Motors"
        ],
        [
         523,
         "BR0771",
         "Hennessey Motors"
        ],
        [
         524,
         "BR0773",
         "Hennessey Motors"
        ],
        [
         525,
         "BR0774",
         "Hennessey Motors"
        ],
        [
         526,
         "BR0775",
         "Hennessey Motors"
        ],
        [
         527,
         "BR0778",
         "Hennessey Motors"
        ],
        [
         528,
         "BR0781",
         "Hillman Motors"
        ],
        [
         529,
         "BR0783",
         "Hillman Motors"
        ],
        [
         530,
         "BR0784",
         "Hillman Motors"
        ],
        [
         531,
         "BR0785",
         "Hillman Motors"
        ],
        [
         532,
         "BR0786",
         "Audi Motors"
        ],
        [
         533,
         "BR0787",
         "Hillman Motors"
        ],
        [
         534,
         "BR0789",
         "Hillman Motors"
        ],
        [
         535,
         "BR0790",
         "Hillman Motors"
        ],
        [
         536,
         "BR0791",
         "Hindustan Motors"
        ],
        [
         537,
         "BR0792",
         "Hindustan Motors"
        ],
        [
         538,
         "BR0793",
         "Hindustan Motors"
        ],
        [
         539,
         "BR0794",
         "Hindustan Motors"
        ],
        [
         540,
         "BR0797",
         "Hindustan Motors"
        ],
        [
         541,
         "BR0798",
         "Hindustan Motors"
        ],
        [
         542,
         "BR0801",
         "Holden Motors"
        ],
        [
         543,
         "BR0802",
         "Holden Motors"
        ],
        [
         544,
         "BR0803",
         "Holden Motors"
        ],
        [
         545,
         "BR0804",
         "Holden Motors"
        ],
        [
         546,
         "BR0805",
         "Holden Motors"
        ],
        [
         547,
         "BR0807",
         "Holden Motors"
        ],
        [
         548,
         "BR0810",
         "Holden Motors"
        ],
        [
         549,
         "BR0811",
         "Honda Motors"
        ],
        [
         550,
         "BR0812",
         "Honda Motors"
        ],
        [
         551,
         "BR0814",
         "Honda Motors"
        ],
        [
         552,
         "BR0815",
         "Honda Motors"
        ],
        [
         553,
         "BR0817",
         "Honda Motors"
        ],
        [
         554,
         "BR0818",
         "Honda Motors"
        ],
        [
         555,
         "BR0819",
         "Honda Motors"
        ],
        [
         556,
         "BR0822",
         "Honda India Motors"
        ],
        [
         557,
         "BR0823",
         "Honda India Motors"
        ],
        [
         558,
         "BR0824",
         "Honda India Motors"
        ],
        [
         559,
         "BR0827",
         "Honda India Motors"
        ],
        [
         560,
         "BR0828",
         "Honda India Motors"
        ],
        [
         561,
         "BR0829",
         "Honda India Motors"
        ],
        [
         562,
         "BR0832",
         "Hudson Motors"
        ],
        [
         563,
         "BR0833",
         "Hudson Motors"
        ],
        [
         564,
         "BR0834",
         "Hudson Motors"
        ],
        [
         565,
         "BR0837",
         "Hudson Motors"
        ],
        [
         566,
         "BR0838",
         "Hudson Motors"
        ],
        [
         567,
         "BR0839",
         "Hudson Motors"
        ],
        [
         568,
         "BR0840",
         "Hudson Motors"
        ],
        [
         569,
         "BR0841",
         "Humber Motors"
        ],
        [
         570,
         "BR0842",
         "Humber Motors"
        ],
        [
         571,
         "BR0843",
         "Humber Motors"
        ],
        [
         572,
         "BR0844",
         "Humber Motors"
        ],
        [
         573,
         "BR0845",
         "Humber Motors"
        ],
        [
         574,
         "BR0846",
         "Autobianchi Motors"
        ],
        [
         575,
         "BR0849",
         "Humber Motors"
        ],
        [
         576,
         "BR0851",
         "Hummer Motors"
        ],
        [
         577,
         "BR0852",
         "Hummer Motors"
        ],
        [
         578,
         "BR0854",
         "Hummer Motors"
        ],
        [
         579,
         "BR0857",
         "Hummer Motors"
        ],
        [
         580,
         "BR0858",
         "Hummer Motors"
        ],
        [
         581,
         "BR0859",
         "Hummer Motors"
        ],
        [
         582,
         "BR0860",
         "Hummer Motors"
        ],
        [
         583,
         "BR0861",
         "Hyundai Motors"
        ],
        [
         584,
         "BR0863",
         "Hyundai Motors"
        ],
        [
         585,
         "BR0865",
         "Hyundai Motors"
        ],
        [
         586,
         "BR0867",
         "Hyundai Motors"
        ],
        [
         587,
         "BR0868",
         "Hyundai Motors"
        ],
        [
         588,
         "BR0870",
         "Hyundai Motors"
        ],
        [
         589,
         "BR0871",
         "IFA (including Trabant, Wartburg, Barkas) Motors"
        ],
        [
         590,
         "BR0872",
         "IFA (including Trabant, Wartburg, Barkas) Motors"
        ],
        [
         591,
         "BR0873",
         "IFA (including Trabant, Wartburg, Barkas) Motors"
        ],
        [
         592,
         "BR0877",
         "IFA (including Trabant, Wartburg, Barkas) Motors"
        ],
        [
         593,
         "BR0878",
         "IFA (including Trabant, Wartburg, Barkas) Motors"
        ],
        [
         594,
         "BR0879",
         "IFA (including Trabant, Wartburg, Barkas) Motors"
        ],
        [
         595,
         "BR0880",
         "IFA (including Trabant, Wartburg, Barkas) Motors"
        ],
        [
         596,
         "BR0881",
         "Infiniti Motors"
        ],
        [
         597,
         "BR0883",
         "Infiniti Motors"
        ],
        [
         598,
         "BR0884",
         "Infiniti Motors"
        ],
        [
         599,
         "BR0888",
         "Infiniti Motors"
        ],
        [
         600,
         "BR0889",
         "Infiniti Motors"
        ],
        [
         601,
         "BR0890",
         "Infiniti Motors"
        ],
        [
         602,
         "BR0891",
         "Innocenti Motors"
        ],
        [
         603,
         "BR0892",
         "Innocenti Motors"
        ],
        [
         604,
         "BR0893",
         "Innocenti Motors"
        ],
        [
         605,
         "BR0894",
         "Innocenti Motors"
        ],
        [
         606,
         "BR0895",
         "Innocenti Motors"
        ],
        [
         607,
         "BR0897",
         "Innocenti Motors"
        ],
        [
         608,
         "BR0898",
         "Innocenti Motors"
        ],
        [
         609,
         "BR0899",
         "Innocenti Motors"
        ],
        [
         610,
         "BR0900",
         "Innocenti Motors"
        ],
        [
         611,
         "BR0901",
         "Invicta Motors"
        ],
        [
         612,
         "BR0902",
         "Invicta Motors"
        ],
        [
         613,
         "BR0904",
         "Invicta Motors"
        ],
        [
         614,
         "BR0905",
         "Invicta Motors"
        ],
        [
         615,
         "BR0906",
         "Auto-Union Motors"
        ],
        [
         616,
         "BR0907",
         "Invicta Motors"
        ],
        [
         617,
         "BR0908",
         "Invicta Motors"
        ],
        [
         618,
         "BR0909",
         "Invicta Motors"
        ],
        [
         619,
         "BR0910",
         "Invicta Motors"
        ],
        [
         620,
         "BR0911",
         "Isdera Motors"
        ],
        [
         621,
         "BR0912",
         "Isdera Motors"
        ],
        [
         622,
         "BR0913",
         "Isdera Motors"
        ],
        [
         623,
         "BR0917",
         "Isdera Motors"
        ],
        [
         624,
         "BR0918",
         "Isdera Motors"
        ],
        [
         625,
         "BR0919",
         "Isdera Motors"
        ],
        [
         626,
         "BR0921",
         "Iso Motors"
        ],
        [
         627,
         "BR0922",
         "Iso Motors"
        ],
        [
         628,
         "BR0923",
         "Iso Motors"
        ],
        [
         629,
         "BR0924",
         "Iso Motors"
        ],
        [
         630,
         "BR0925",
         "Iso Motors"
        ],
        [
         631,
         "BR0927",
         "Iso Motors"
        ],
        [
         632,
         "BR0928",
         "Iso Motors"
        ],
        [
         633,
         "BR0929",
         "Iso Motors"
        ],
        [
         634,
         "BR0930",
         "Iso Motors"
        ],
        [
         635,
         "BR0931",
         "Isotta Fraschini Motors"
        ],
        [
         636,
         "BR0933",
         "Isotta Fraschini Motors"
        ],
        [
         637,
         "BR0934",
         "Isotta Fraschini Motors"
        ],
        [
         638,
         "BR0935",
         "Isotta Fraschini Motors"
        ],
        [
         639,
         "BR0938",
         "Isotta Fraschini Motors"
        ],
        [
         640,
         "BR0939",
         "Isotta Fraschini Motors"
        ],
        [
         641,
         "BR0940",
         "Isotta Fraschini Motors"
        ],
        [
         642,
         "BR0941",
         "Isuzu Motors"
        ],
        [
         643,
         "BR0942",
         "Isuzu Motors"
        ],
        [
         644,
         "BR0943",
         "Isuzu Motors"
        ],
        [
         645,
         "BR0945",
         "Isuzu Motors"
        ],
        [
         646,
         "BR0947",
         "Isuzu Motors"
        ],
        [
         647,
         "BR0949",
         "Isuzu Motors"
        ],
        [
         648,
         "BR0950",
         "Isuzu Motors"
        ],
        [
         649,
         "BR0953",
         "Iveco Motors"
        ],
        [
         650,
         "BR0955",
         "Iveco Motors"
        ],
        [
         651,
         "BR0958",
         "Iveco Motors"
        ],
        [
         652,
         "BR0959",
         "Iveco Motors"
        ],
        [
         653,
         "BR0960",
         "Iveco Motors"
        ],
        [
         654,
         "BR0961",
         "Jaguar Motors"
        ],
        [
         655,
         "BR0963",
         "Jaguar Motors"
        ],
        [
         656,
         "BR0964",
         "Jaguar Motors"
        ],
        [
         657,
         "BR0965",
         "Jaguar Motors"
        ],
        [
         658,
         "BR0966",
         "Auverland Motors"
        ],
        [
         659,
         "BR0967",
         "Jaguar Motors"
        ],
        [
         660,
         "BR0968",
         "Jaguar Motors"
        ],
        [
         661,
         "BR0969",
         "Jaguar Motors"
        ],
        [
         662,
         "BR0970",
         "Jaguar Motors"
        ],
        [
         663,
         "BR0971",
         "Jeep Motors"
        ],
        [
         664,
         "BR0972",
         "Jeep Motors"
        ],
        [
         665,
         "BR0973",
         "Jeep Motors"
        ],
        [
         666,
         "BR0974",
         "Jeep Motors"
        ],
        [
         667,
         "BR0975",
         "Jeep Motors"
        ],
        [
         668,
         "BR0978",
         "Jeep Motors"
        ],
        [
         669,
         "BR0979",
         "Jeep Motors"
        ],
        [
         670,
         "BR0980",
         "Jeep Motors"
        ],
        [
         671,
         "BR0981",
         "Jensen Motors"
        ],
        [
         672,
         "BR0983",
         "Jensen Motors"
        ],
        [
         673,
         "BR0984",
         "Jensen Motors"
        ],
        [
         674,
         "BR0985",
         "Jensen Motors"
        ],
        [
         675,
         "BR0987",
         "Jensen Motors"
        ],
        [
         676,
         "BR0988",
         "Jensen Motors"
        ],
        [
         677,
         "BR0989",
         "Jensen Motors"
        ],
        [
         678,
         "BR0990",
         "Jensen Motors"
        ],
        [
         679,
         "BR0993",
         "JPX Motors"
        ],
        [
         680,
         "BR0994",
         "JPX Motors"
        ],
        [
         681,
         "BR0995",
         "JPX Motors"
        ],
        [
         682,
         "BR0997",
         "JPX Motors"
        ],
        [
         683,
         "BR0998",
         "JPX Motors"
        ],
        [
         684,
         "BR0999",
         "JPX Motors"
        ],
        [
         685,
         "BR1001",
         "Kia Motors"
        ],
        [
         686,
         "BR10026",
         "Saab Motors"
        ],
        [
         687,
         "BR1003",
         "Kia Motors"
        ],
        [
         688,
         "BR1004",
         "Kia Motors"
        ],
        [
         689,
         "BR1005",
         "Kia Motors"
        ],
        [
         690,
         "BR1008",
         "Kia Motors"
        ],
        [
         691,
         "BR10086",
         "SAIC Motor Motors"
        ],
        [
         692,
         "BR1012",
         "Koenigsegg Motors"
        ],
        [
         693,
         "BR1013",
         "Koenigsegg Motors"
        ],
        [
         694,
         "BR1014",
         "Koenigsegg Motors"
        ],
        [
         695,
         "BR10146",
         "Saleen Motors"
        ],
        [
         696,
         "BR1015",
         "Koenigsegg Motors"
        ],
        [
         697,
         "BR1017",
         "Koenigsegg Motors"
        ],
        [
         698,
         "BR1019",
         "Koenigsegg Motors"
        ],
        [
         699,
         "BR1020",
         "Koenigsegg Motors"
        ],
        [
         700,
         "BR10206",
         "Samsung Motors"
        ],
        [
         701,
         "BR1021",
         "KTM Motors"
        ],
        [
         702,
         "BR1023",
         "KTM Motors"
        ],
        [
         703,
         "BR1025",
         "KTM Motors"
        ],
        [
         704,
         "BR1026",
         "Bentley Motors"
        ],
        [
         705,
         "BR1027",
         "KTM Motors"
        ],
        [
         706,
         "BR1028",
         "KTM Motors"
        ],
        [
         707,
         "BR1029",
         "KTM Motors"
        ],
        [
         708,
         "BR1032",
         "Lada Motors"
        ],
        [
         709,
         "BR10326",
         "Santa Matilde Motors"
        ],
        [
         710,
         "BR1034",
         "Lada Motors"
        ],
        [
         711,
         "BR1035",
         "Lada Motors"
        ],
        [
         712,
         "BR1037",
         "Lada Motors"
        ],
        [
         713,
         "BR10386",
         "Santana Motors"
        ],
        [
         714,
         "BR1039",
         "Lada Motors"
        ],
        [
         715,
         "BR1040",
         "Lada Motors"
        ],
        [
         716,
         "BR1041",
         "Lamborghini Motors"
        ],
        [
         717,
         "BR1043",
         "Lamborghini Motors"
        ],
        [
         718,
         "BR1044",
         "Lamborghini Motors"
        ],
        [
         719,
         "BR10446",
         "Saturn Motors"
        ],
        [
         720,
         "BR1045",
         "Lamborghini Motors"
        ],
        [
         721,
         "BR1047",
         "Lamborghini Motors"
        ],
        [
         722,
         "BR1048",
         "Lamborghini Motors"
        ],
        [
         723,
         "BR1049",
         "Lamborghini Motors"
        ],
        [
         724,
         "BR1050",
         "Lamborghini Motors"
        ],
        [
         725,
         "BR10506",
         "Scion Motors"
        ],
        [
         726,
         "BR1051",
         "Lancia Motors"
        ],
        [
         727,
         "BR1052",
         "Lancia Motors"
        ],
        [
         728,
         "BR1053",
         "Lancia Motors"
        ],
        [
         729,
         "BR1055",
         "Lancia Motors"
        ],
        [
         730,
         "BR10566",
         "Seat Motors"
        ],
        [
         731,
         "BR1058",
         "Lancia Motors"
        ],
        [
         732,
         "BR1059",
         "Lancia Motors"
        ],
        [
         733,
         "BR1060",
         "Lancia Motors"
        ],
        [
         734,
         "BR1061",
         "Land Rover Motors"
        ],
        [
         735,
         "BR10626",
         "Shelby SuperCars Motors"
        ],
        [
         736,
         "BR1063",
         "Land Rover Motors"
        ],
        [
         737,
         "BR1065",
         "Land Rover Motors"
        ],
        [
         738,
         "BR1067",
         "Land Rover Motors"
        ],
        [
         739,
         "BR1068",
         "Land Rover Motors"
        ],
        [
         740,
         "BR10686",
         "Simca Motors"
        ],
        [
         741,
         "BR1070",
         "Land Rover Motors"
        ],
        [
         742,
         "BR1071",
         "Lexus Motors"
        ],
        [
         743,
         "BR1073",
         "Lexus Motors"
        ],
        [
         744,
         "BR1074",
         "Lexus Motors"
        ],
        [
         745,
         "BR10746",
         "Simca do Brasil Motors"
        ],
        [
         746,
         "BR1075",
         "Lexus Motors"
        ],
        [
         747,
         "BR1077",
         "Lexus Motors"
        ],
        [
         748,
         "BR1078",
         "Lexus Motors"
        ],
        [
         749,
         "BR1079",
         "Lexus Motors"
        ],
        [
         750,
         "BR1080",
         "Lexus Motors"
        ],
        [
         751,
         "BR10806",
         "Singer Motors"
        ],
        [
         752,
         "BR1083",
         "Ligier Motors"
        ],
        [
         753,
         "BR1086",
         "Bitter Motors"
        ],
        [
         754,
         "BR1087",
         "Ligier Motors"
        ],
        [
         755,
         "BR1088",
         "Ligier Motors"
        ],
        [
         756,
         "BR1092",
         "Lincoln Motors"
        ],
        [
         757,
         "BR1093",
         "Lincoln Motors"
        ],
        [
         758,
         "BR1094",
         "Lincoln Motors"
        ],
        [
         759,
         "BR1098",
         "Lincoln Motors"
        ],
        [
         760,
         "BR10986",
         "Spyker Motors"
        ],
        [
         761,
         "BR1099",
         "Lincoln Motors"
        ],
        [
         762,
         "BR1101",
         "Lotus Motors"
        ],
        [
         763,
         "BR1102",
         "Lotus Motors"
        ],
        [
         764,
         "BR1103",
         "Lotus Motors"
        ],
        [
         765,
         "BR1104",
         "Lotus Motors"
        ],
        [
         766,
         "BR1105",
         "Lotus Motors"
        ],
        [
         767,
         "BR1107",
         "Lotus Motors"
        ],
        [
         768,
         "BR1108",
         "Lotus Motors"
        ],
        [
         769,
         "BR1110",
         "Lotus Motors"
        ],
        [
         770,
         "BR11106",
         "Standard-Triumph Motors"
        ],
        [
         771,
         "BR1111",
         "LTI Motors"
        ],
        [
         772,
         "BR1112",
         "LTI Motors"
        ],
        [
         773,
         "BR1113",
         "LTI Motors"
        ],
        [
         774,
         "BR1114",
         "LTI Motors"
        ],
        [
         775,
         "BR1117",
         "LTI Motors"
        ],
        [
         776,
         "BR1118",
         "LTI Motors"
        ],
        [
         777,
         "BR1121",
         "LuAZ Motors"
        ],
        [
         778,
         "BR1123",
         "LuAZ Motors"
        ],
        [
         779,
         "BR1125",
         "LuAZ Motors"
        ],
        [
         780,
         "BR1127",
         "LuAZ Motors"
        ],
        [
         781,
         "BR1128",
         "LuAZ Motors"
        ],
        [
         782,
         "BR11286",
         "Sunbeam Motors"
        ],
        [
         783,
         "BR1129",
         "LuAZ Motors"
        ],
        [
         784,
         "BR1130",
         "LuAZ Motors"
        ],
        [
         785,
         "BR1135",
         "Lynx Motors"
        ],
        [
         786,
         "BR1137",
         "Lynx Motors"
        ],
        [
         787,
         "BR1138",
         "Lynx Motors"
        ],
        [
         788,
         "BR1140",
         "Lynx Motors"
        ],
        [
         789,
         "BR11406",
         "Tata Motors"
        ],
        [
         790,
         "BR1141",
         "Mahindra Motors"
        ],
        [
         791,
         "BR1143",
         "Mahindra Motors"
        ],
        [
         792,
         "BR1145",
         "Mahindra Motors"
        ],
        [
         793,
         "BR1146",
         "BMW Motors"
        ],
        [
         794,
         "BR11466",
         "Tatra Motors"
        ],
        [
         795,
         "BR1147",
         "Mahindra Motors"
        ],
        [
         796,
         "BR1148",
         "Mahindra Motors"
        ],
        [
         797,
         "BR1149",
         "Mahindra Motors"
        ],
        [
         798,
         "BR1150",
         "Mahindra Motors"
        ],
        [
         799,
         "BR1151",
         "Marcos Motors"
        ],
        [
         800,
         "BR1152",
         "Marcos Motors"
        ],
        [
         801,
         "BR11526",
         "Tazzari Motors"
        ],
        [
         802,
         "BR1155",
         "Marcos Motors"
        ],
        [
         803,
         "BR1157",
         "Marcos Motors"
        ],
        [
         804,
         "BR1158",
         "Marcos Motors"
        ],
        [
         805,
         "BR11586",
         "Tesla Motors"
        ],
        [
         806,
         "BR1159",
         "Marcos Motors"
        ],
        [
         807,
         "BR1162",
         "Marlin Motors"
        ],
        [
         808,
         "BR1163",
         "Marlin Motors"
        ],
        [
         809,
         "BR1164",
         "Marlin Motors"
        ],
        [
         810,
         "BR11646",
         "Tornado Motors"
        ],
        [
         811,
         "BR1165",
         "Marlin Motors"
        ],
        [
         812,
         "BR1167",
         "Marlin Motors"
        ],
        [
         813,
         "BR1168",
         "Marlin Motors"
        ],
        [
         814,
         "BR1170",
         "Marlin Motors"
        ],
        [
         815,
         "BR11706",
         "Toyota Motors"
        ],
        [
         816,
         "BR1171",
         "Maruti Motors"
        ],
        [
         817,
         "BR1172",
         "Maruti Motors"
        ],
        [
         818,
         "BR1173",
         "Maruti Motors"
        ],
        [
         819,
         "BR1174",
         "Maruti Motors"
        ],
        [
         820,
         "BR1175",
         "Maruti Motors"
        ],
        [
         821,
         "BR1177",
         "Maruti Motors"
        ],
        [
         822,
         "BR1178",
         "Maruti Motors"
        ],
        [
         823,
         "BR1179",
         "Maruti Motors"
        ],
        [
         824,
         "BR1180",
         "Maruti Motors"
        ],
        [
         825,
         "BR1181",
         "Maserati Motors"
        ],
        [
         826,
         "BR1182",
         "Maserati Motors"
        ],
        [
         827,
         "BR11826",
         "Turner Motors"
        ],
        [
         828,
         "BR1183",
         "Maserati Motors"
        ],
        [
         829,
         "BR1184",
         "Maserati Motors"
        ],
        [
         830,
         "BR1188",
         "Maserati Motors"
        ],
        [
         831,
         "BR1189",
         "Maserati Motors"
        ],
        [
         832,
         "BR1190",
         "Maserati Motors"
        ],
        [
         833,
         "BR1192",
         "Mastretta Motors"
        ],
        [
         834,
         "BR1193",
         "Mastretta Motors"
        ],
        [
         835,
         "BR1194",
         "Mastretta Motors"
        ],
        [
         836,
         "BR11946",
         "UAZ Motors"
        ],
        [
         837,
         "BR1195",
         "Mastretta Motors"
        ],
        [
         838,
         "BR1197",
         "Mastretta Motors"
        ],
        [
         839,
         "BR1198",
         "Mastretta Motors"
        ],
        [
         840,
         "BR1199",
         "Mastretta Motors"
        ],
        [
         841,
         "BR1200",
         "Mastretta Motors"
        ],
        [
         842,
         "BR12006",
         "Vauxhall Motors"
        ],
        [
         843,
         "BR1202",
         "Matra (including Deutsch-Bonnet, René Bonnet) Motors"
        ],
        [
         844,
         "BR1203",
         "Matra (including Deutsch-Bonnet, René Bonnet) Motors"
        ],
        [
         845,
         "BR1204",
         "Matra (including Deutsch-Bonnet, René Bonnet) Motors"
        ],
        [
         846,
         "BR1205",
         "Matra (including Deutsch-Bonnet, René Bonnet) Motors"
        ],
        [
         847,
         "BR1207",
         "Matra (including Deutsch-Bonnet, René Bonnet) Motors"
        ],
        [
         848,
         "BR1208",
         "Matra (including Deutsch-Bonnet, René Bonnet) Motors"
        ],
        [
         849,
         "BR1209",
         "Matra (including Deutsch-Bonnet, René Bonnet) Motors"
        ],
        [
         850,
         "BR1210",
         "Matra (including Deutsch-Bonnet, René Bonnet) Motors"
        ],
        [
         851,
         "BR1212",
         "Mazda Motors"
        ],
        [
         852,
         "BR12126",
         "Volkswagen Motors"
        ],
        [
         853,
         "BR1214",
         "Mazda Motors"
        ],
        [
         854,
         "BR1215",
         "Mazda Motors"
        ],
        [
         855,
         "BR1217",
         "Mazda Motors"
        ],
        [
         856,
         "BR1218",
         "Mazda Motors"
        ],
        [
         857,
         "BR12186",
         "Volkswagen do Brasil Motors"
        ],
        [
         858,
         "BR1219",
         "Mazda Motors"
        ],
        [
         859,
         "BR1220",
         "Mazda Motors"
        ],
        [
         860,
         "BR1222",
         "Mazzanti Motors"
        ],
        [
         861,
         "BR1223",
         "Mazzanti Motors"
        ],
        [
         862,
         "BR1224",
         "Mazzanti Motors"
        ],
        [
         863,
         "BR12246",
         "Volkswagen South Africa Motors"
        ],
        [
         864,
         "BR1227",
         "Mazzanti Motors"
        ],
        [
         865,
         "BR1228",
         "Mazzanti Motors"
        ],
        [
         866,
         "BR1229",
         "Mazzanti Motors"
        ],
        [
         867,
         "BR1230",
         "Mazzanti Motors"
        ],
        [
         868,
         "BR12306",
         "Volvo Motors"
        ],
        [
         869,
         "BR1231",
         "McLaren Motors"
        ],
        [
         870,
         "BR1232",
         "McLaren Motors"
        ],
        [
         871,
         "BR1233",
         "McLaren Motors"
        ],
        [
         872,
         "BR1234",
         "McLaren Motors"
        ],
        [
         873,
         "BR1235",
         "McLaren Motors"
        ],
        [
         874,
         "BR12366",
         "Westfield Motors"
        ],
        [
         875,
         "BR1238",
         "McLaren Motors"
        ],
        [
         876,
         "BR1239",
         "McLaren Motors"
        ],
        [
         877,
         "BR1240",
         "McLaren Motors"
        ],
        [
         878,
         "BR1241",
         "Mercedes-Benz (including Maybach) Motors"
        ],
        [
         879,
         "BR1243",
         "Mercedes-Benz (including Maybach) Motors"
        ],
        [
         880,
         "BR1244",
         "Mercedes-Benz (including Maybach) Motors"
        ],
        [
         881,
         "BR1245",
         "Mercedes-Benz (including Maybach) Motors"
        ],
        [
         882,
         "BR1247",
         "Mercedes-Benz (including Maybach) Motors"
        ],
        [
         883,
         "BR1248",
         "Mercedes-Benz (including Maybach) Motors"
        ],
        [
         884,
         "BR12486",
         "Zastava Motors"
        ],
        [
         885,
         "BR1249",
         "Mercedes-Benz (including Maybach) Motors"
        ],
        [
         886,
         "BR1251",
         "Mercury Motors"
        ],
        [
         887,
         "BR1252",
         "Mercury Motors"
        ],
        [
         888,
         "BR1253",
         "Mercury Motors"
        ],
        [
         889,
         "BR1255",
         "Mercury Motors"
        ],
        [
         890,
         "BR1258",
         "Mercury Motors"
        ],
        [
         891,
         "BR1259",
         "Mercury Motors"
        ],
        [
         892,
         "BR12606",
         "ZIL Motors"
        ],
        [
         893,
         "BR1261",
         "Merkur Motors"
        ],
        [
         894,
         "BR1262",
         "Merkur Motors"
        ],
        [
         895,
         "BR1263",
         "Merkur Motors"
        ],
        [
         896,
         "BR1264",
         "Merkur Motors"
        ],
        [
         897,
         "BR1266",
         "Borgward (including Goliath and Lloyd) Motors"
        ],
        [
         898,
         "BR12666",
         "Audi Motors"
        ],
        [
         899,
         "BR1267",
         "Merkur Motors"
        ],
        [
         900,
         "BR1268",
         "Merkur Motors"
        ],
        [
         901,
         "BR1270",
         "Merkur Motors"
        ],
        [
         902,
         "BR1273",
         "Messerschmitt Motors"
        ],
        [
         903,
         "BR1274",
         "Messerschmitt Motors"
        ],
        [
         904,
         "BR1275",
         "Messerschmitt Motors"
        ],
        [
         905,
         "BR1277",
         "Messerschmitt Motors"
        ],
        [
         906,
         "BR12786",
         "Horch Motors"
        ],
        [
         907,
         "BR1279",
         "Messerschmitt Motors"
        ],
        [
         908,
         "BR1283",
         "Mia Motors"
        ],
        [
         909,
         "BR1287",
         "Mia Motors"
        ],
        [
         910,
         "BR1288",
         "Mia Motors"
        ],
        [
         911,
         "BR1289",
         "Mia Motors"
        ],
        [
         912,
         "BR1290",
         "Mia Motors"
        ],
        [
         913,
         "BR12906",
         "Maybach  Motors"
        ],
        [
         914,
         "BR1291",
         "Micro Motors"
        ],
        [
         915,
         "BR1292",
         "Micro Motors"
        ],
        [
         916,
         "BR1293",
         "Micro Motors"
        ],
        [
         917,
         "BR1294",
         "Micro Motors"
        ],
        [
         918,
         "BR1295",
         "Micro Motors"
        ],
        [
         919,
         "BR12966",
         "Izh  Motors"
        ],
        [
         920,
         "BR1298",
         "Micro Motors"
        ],
        [
         921,
         "BR1299",
         "Micro Motors"
        ],
        [
         922,
         "BR1300",
         "Micro Motors"
        ],
        [
         923,
         "BR1301",
         "Mini Motors"
        ],
        [
         924,
         "BR1302",
         "Mini Motors"
        ],
        [
         925,
         "BR13026",
         "Lagonda  Motors"
        ],
        [
         926,
         "BR1303",
         "Mini Motors"
        ],
        [
         927,
         "BR1304",
         "Mini Motors"
        ],
        [
         928,
         "BR1305",
         "Mini Motors"
        ],
        [
         929,
         "BR1307",
         "Mini Motors"
        ],
        [
         930,
         "BR13086",
         "MG  Motors"
        ],
        [
         931,
         "BR1310",
         "Mini Motors"
        ],
        [
         932,
         "BR1313",
         "Mitsubishi Motors"
        ],
        [
         933,
         "BR1314",
         "Mitsubishi Motors"
        ],
        [
         934,
         "BR1315",
         "Mitsubishi Motors"
        ],
        [
         935,
         "BR1317",
         "Mitsubishi Motors"
        ],
        [
         936,
         "BR1318",
         "Mitsubishi Motors"
        ],
        [
         937,
         "BR1320",
         "Mitsubishi Motors"
        ],
        [
         938,
         "BR1321",
         "Monica Motors"
        ],
        [
         939,
         "BR1322",
         "Monica Motors"
        ],
        [
         940,
         "BR1323",
         "Monica Motors"
        ],
        [
         941,
         "BR1325",
         "Monica Motors"
        ],
        [
         942,
         "BR1326",
         "Bristol Motors"
        ],
        [
         943,
         "BR13266",
         "Riley  Motors"
        ],
        [
         944,
         "BR1328",
         "Monica Motors"
        ],
        [
         945,
         "BR1330",
         "Monica Motors"
        ],
        [
         946,
         "BR1332",
         "Monteverdi Motors"
        ],
        [
         947,
         "BR13326",
         "Wolseley  Motors"
        ],
        [
         948,
         "BR1333",
         "Monteverdi Motors"
        ],
        [
         949,
         "BR1338",
         "Monteverdi Motors"
        ],
        [
         950,
         "BR13386",
         "Standard  Motors"
        ],
        [
         951,
         "BR1339",
         "Monteverdi Motors"
        ],
        [
         952,
         "BR1340",
         "Monteverdi Motors"
        ],
        [
         953,
         "BR1343",
         "Morgan Motors"
        ],
        [
         954,
         "BR1347",
         "Morgan Motors"
        ],
        [
         955,
         "BR1348",
         "Morgan Motors"
        ],
        [
         956,
         "BR1349",
         "Morgan Motors"
        ],
        [
         957,
         "BR13506",
         "Das Motors"
        ],
        [
         958,
         "BR1351",
         "Moskwitch Motors"
        ],
        [
         959,
         "BR1352",
         "Moskwitch Motors"
        ],
        [
         960,
         "BR1353",
         "Moskwitch Motors"
        ],
        [
         961,
         "BR13566",
         "Ramani Motors"
        ],
        [
         962,
         "BR1358",
         "Moskwitch Motors"
        ],
        [
         963,
         "BR1360",
         "Moskwitch Motors"
        ],
        [
         964,
         "BR1362",
         "Nash Motors"
        ],
        [
         965,
         "BR13626",
         "Deccan Motors"
        ],
        [
         966,
         "BR1363",
         "Nash Motors"
        ],
        [
         967,
         "BR1364",
         "Nash Motors"
        ],
        [
         968,
         "BR1365",
         "Nash Motors"
        ],
        [
         969,
         "BR13686",
         "Herald Motors"
        ],
        [
         970,
         "BR1369",
         "Nash Motors"
        ],
        [
         971,
         "BR1370",
         "Nash Motors"
        ],
        [
         972,
         "BR1371",
         "Naza Motors"
        ],
        [
         973,
         "BR1372",
         "Naza Motors"
        ],
        [
         974,
         "BR1373",
         "Naza Motors"
        ],
        [
         975,
         "BR13746",
         "Zion Automobils"
        ],
        [
         976,
         "BR1377",
         "Naza Motors"
        ],
        [
         977,
         "BR1378",
         "Naza Motors"
        ],
        [
         978,
         "BR1379",
         "Naza Motors"
        ],
        [
         979,
         "BR1380",
         "Naza Motors"
        ],
        [
         980,
         "BR13806",
         "Atlantic Motor Company"
        ],
        [
         981,
         "BR1382",
         "Nissan Motors"
        ],
        [
         982,
         "BR1383",
         "Nissan Motors"
        ],
        [
         983,
         "BR1384",
         "Nissan Motors"
        ],
        [
         984,
         "BR1386",
         "British Leyland Motors"
        ],
        [
         985,
         "BR1388",
         "Nissan Motors"
        ],
        [
         986,
         "BR1390",
         "Nissan Motors"
        ],
        [
         987,
         "BR1391",
         "Nissan India Motors"
        ],
        [
         988,
         "BR1392",
         "Nissan India Motors"
        ],
        [
         989,
         "BR13926",
         "Blankinship Motor Company Building"
        ],
        [
         990,
         "BR1393",
         "Nissan India Motors"
        ],
        [
         991,
         "BR1395",
         "Nissan India Motors"
        ],
        [
         992,
         "BR1397",
         "Nissan India Motors"
        ],
        [
         993,
         "BR1398",
         "Nissan India Motors"
        ],
        [
         994,
         "BR13986",
         "Bohn Motor Company Automobile Dealership"
        ],
        [
         995,
         "BR1399",
         "Nissan India Motors"
        ],
        [
         996,
         "BR1401",
         "Noble Motors"
        ],
        [
         997,
         "BR1402",
         "Noble Motors"
        ],
        [
         998,
         "BR1403",
         "Noble Motors"
        ],
        [
         999,
         "BR1404",
         "Noble Motors"
        ],
        [
         1000,
         "BR14046",
         "Buick Automobile Company Building"
        ],
        [
         1001,
         "BR1405",
         "Noble Motors"
        ],
        [
         1002,
         "BR1407",
         "Noble Motors"
        ],
        [
         1003,
         "BR1408",
         "Noble Motors"
        ],
        [
         1004,
         "BR1410",
         "Noble Motors"
        ],
        [
         1005,
         "BR14106",
         "Cadillac Automobile Company Building"
        ],
        [
         1006,
         "BR1411",
         "NSU Motors"
        ],
        [
         1007,
         "BR1412",
         "NSU Motors"
        ],
        [
         1008,
         "BR1413",
         "NSU Motors"
        ],
        [
         1009,
         "BR1414",
         "NSU Motors"
        ],
        [
         1010,
         "BR14166",
         "Casa de cadillac"
        ],
        [
         1011,
         "BR1417",
         "NSU Motors"
        ],
        [
         1012,
         "BR1418",
         "NSU Motors"
        ],
        [
         1013,
         "BR1419",
         "NSU Motors"
        ],
        [
         1014,
         "BR1420",
         "NSU Motors"
        ],
        [
         1015,
         "BR1421",
         "Oldsmobile Motors"
        ],
        [
         1016,
         "BR14226",
         "Cass Motor Sales"
        ],
        [
         1017,
         "BR1424",
         "Oldsmobile Motors"
        ],
        [
         1018,
         "BR1425",
         "Oldsmobile Motors"
        ],
        [
         1019,
         "BR1428",
         "Oldsmobile Motors"
        ],
        [
         1020,
         "BR1431",
         "Oltcit Motors"
        ],
        [
         1021,
         "BR1435",
         "Oltcit Motors"
        ],
        [
         1022,
         "BR1438",
         "Oltcit Motors"
        ],
        [
         1023,
         "BR1440",
         "Oltcit Motors"
        ],
        [
         1024,
         "BR14406",
         "Colman Automotive Building"
        ],
        [
         1025,
         "BR1442",
         "Opel Motors"
        ],
        [
         1026,
         "BR1444",
         "Opel Motors"
        ],
        [
         1027,
         "BR1445",
         "Opel Motors"
        ],
        [
         1028,
         "BR1447",
         "Opel Motors"
        ],
        [
         1029,
         "BR1448",
         "Opel Motors"
        ],
        [
         1030,
         "BR1449",
         "Opel Motors"
        ],
        [
         1031,
         "BR1450",
         "Opel Motors"
        ],
        [
         1032,
         "BR1451",
         "Packard Motors"
        ],
        [
         1033,
         "BR1452",
         "Packard Motors"
        ],
        [
         1034,
         "BR14526",
         "Howard Motor Company Building"
        ],
        [
         1035,
         "BR1454",
         "Packard Motors"
        ],
        [
         1036,
         "BR1455",
         "Packard Motors"
        ],
        [
         1037,
         "BR1457",
         "Packard Motors"
        ],
        [
         1038,
         "BR14586",
         "Hupmobile Building"
        ],
        [
         1039,
         "BR1459",
         "Packard Motors"
        ],
        [
         1040,
         "BR1460",
         "Packard Motors"
        ],
        [
         1041,
         "BR1461",
         "Pagani Motors"
        ],
        [
         1042,
         "BR1463",
         "Pagani Motors"
        ],
        [
         1043,
         "BR1464",
         "Pagani Motors"
        ],
        [
         1044,
         "BR14646",
         "Jennings Ford Automobile Dealership"
        ],
        [
         1045,
         "BR1465",
         "Pagani Motors"
        ],
        [
         1046,
         "BR1467",
         "Pagani Motors"
        ],
        [
         1047,
         "BR14706",
         "Jones Motor Company"
        ],
        [
         1048,
         "BR1471",
         "Panhard Motors"
        ],
        [
         1049,
         "BR1473",
         "Panhard Motors"
        ],
        [
         1050,
         "BR1475",
         "Panhard Motors"
        ],
        [
         1051,
         "BR14766",
         "Kindel Building"
        ],
        [
         1052,
         "BR1477",
         "Panhard Motors"
        ],
        [
         1053,
         "BR1479",
         "Panhard Motors"
        ],
        [
         1054,
         "BR1480",
         "Panhard Motors"
        ],
        [
         1055,
         "BR1482",
         "Panoz Motors"
        ],
        [
         1056,
         "BR1483",
         "Panoz Motors"
        ],
        [
         1057,
         "BR1485",
         "Panoz Motors"
        ],
        [
         1058,
         "BR1488",
         "Panoz Motors"
        ],
        [
         1059,
         "BR1489",
         "Panoz Motors"
        ],
        [
         1060,
         "BR1491",
         "Panther Motors"
        ],
        [
         1061,
         "BR1492",
         "Panther Motors"
        ],
        [
         1062,
         "BR1493",
         "Panther Motors"
        ],
        [
         1063,
         "BR1495",
         "Panther Motors"
        ],
        [
         1064,
         "BR1498",
         "Panther Motors"
        ],
        [
         1065,
         "BR1499",
         "Panther Motors"
        ],
        [
         1066,
         "BR1502",
         "Peel Motors"
        ],
        [
         1067,
         "BR1503",
         "Peel Motors"
        ],
        [
         1068,
         "BR1504",
         "Peel Motors"
        ],
        [
         1069,
         "BR1507",
         "Peel Motors"
        ],
        [
         1070,
         "BR1510",
         "Peel Motors"
        ],
        [
         1071,
         "BR1511",
         "Perodua Motors"
        ],
        [
         1072,
         "BR1512",
         "Perodua Motors"
        ],
        [
         1073,
         "BR1513",
         "Perodua Motors"
        ],
        [
         1074,
         "BR1515",
         "Perodua Motors"
        ],
        [
         1075,
         "BR1518",
         "Perodua Motors"
        ],
        [
         1076,
         "BR1519",
         "Perodua Motors"
        ],
        [
         1077,
         "BR1520",
         "Perodua Motors"
        ],
        [
         1078,
         "BR1521",
         "Peugeot Motors"
        ],
        [
         1079,
         "BR1522",
         "Peugeot Motors"
        ],
        [
         1080,
         "BR1523",
         "Peugeot Motors"
        ],
        [
         1081,
         "BR1524",
         "Peugeot Motors"
        ],
        [
         1082,
         "BR1525",
         "Peugeot Motors"
        ],
        [
         1083,
         "BR1527",
         "Peugeot Motors"
        ],
        [
         1084,
         "BR1528",
         "Peugeot Motors"
        ],
        [
         1085,
         "BR1529",
         "Peugeot Motors"
        ],
        [
         1086,
         "BR1530",
         "Peugeot Motors"
        ],
        [
         1087,
         "BR1531",
         "PGO Motors"
        ],
        [
         1088,
         "BR1540",
         "PGO Motors"
        ],
        [
         1089,
         "BR1541",
         "Piaggio Motors"
        ],
        [
         1090,
         "BR1542",
         "Piaggio Motors"
        ],
        [
         1091,
         "BR1543",
         "Piaggio Motors"
        ],
        [
         1092,
         "BR1544",
         "Piaggio Motors"
        ],
        [
         1093,
         "BR1545",
         "Piaggio Motors"
        ],
        [
         1094,
         "BR1547",
         "Piaggio Motors"
        ],
        [
         1095,
         "BR1549",
         "Piaggio Motors"
        ],
        [
         1096,
         "BR1552",
         "Plymouth Motors"
        ],
        [
         1097,
         "BR1553",
         "Plymouth Motors"
        ],
        [
         1098,
         "BR1554",
         "Plymouth Motors"
        ],
        [
         1099,
         "BR1555",
         "Plymouth Motors"
        ],
        [
         1100,
         "BR1557",
         "Plymouth Motors"
        ],
        [
         1101,
         "BR1558",
         "Plymouth Motors"
        ],
        [
         1102,
         "BR1559",
         "Plymouth Motors"
        ],
        [
         1103,
         "BR1560",
         "Plymouth Motors"
        ],
        [
         1104,
         "BR1561",
         "Polestar Motors"
        ],
        [
         1105,
         "BR1562",
         "Polestar Motors"
        ],
        [
         1106,
         "BR1563",
         "Polestar Motors"
        ],
        [
         1107,
         "BR1564",
         "Polestar Motors"
        ],
        [
         1108,
         "BR1565",
         "Polestar Motors"
        ],
        [
         1109,
         "BR1567",
         "Polestar Motors"
        ],
        [
         1110,
         "BR1568",
         "Polestar Motors"
        ],
        [
         1111,
         "BR1569",
         "Polestar Motors"
        ],
        [
         1112,
         "BR1570",
         "Polestar Motors"
        ],
        [
         1113,
         "BR1571",
         "Pontiac, Asüna Motors"
        ],
        [
         1114,
         "BR1573",
         "Pontiac, Asüna Motors"
        ],
        [
         1115,
         "BR1574",
         "Pontiac, Asüna Motors"
        ],
        [
         1116,
         "BR1575",
         "Pontiac, Asüna Motors"
        ],
        [
         1117,
         "BR1577",
         "Pontiac, Asüna Motors"
        ],
        [
         1118,
         "BR1578",
         "Pontiac, Asüna Motors"
        ],
        [
         1119,
         "BR1579",
         "Pontiac, Asüna Motors"
        ],
        [
         1120,
         "BR1582",
         "Porsche Motors"
        ],
        [
         1121,
         "BR1583",
         "Porsche Motors"
        ],
        [
         1122,
         "BR1585",
         "Porsche Motors"
        ],
        [
         1123,
         "BR1588",
         "Porsche Motors"
        ],
        [
         1124,
         "BR1589",
         "Porsche Motors"
        ],
        [
         1125,
         "BR1590",
         "Porsche Motors"
        ],
        [
         1126,
         "BR1592",
         "Premier Motors"
        ],
        [
         1127,
         "BR1593",
         "Premier Motors"
        ],
        [
         1128,
         "BR1594",
         "Premier Motors"
        ],
        [
         1129,
         "BR1595",
         "Premier Motors"
        ],
        [
         1130,
         "BR1597",
         "Premier Motors"
        ],
        [
         1131,
         "BR1598",
         "Premier Motors"
        ],
        [
         1132,
         "BR1600",
         "Premier Motors"
        ],
        [
         1133,
         "BR1601",
         "Proton Motors"
        ],
        [
         1134,
         "BR1602",
         "Proton Motors"
        ],
        [
         1135,
         "BR1603",
         "Proton Motors"
        ],
        [
         1136,
         "BR1604",
         "Proton Motors"
        ],
        [
         1137,
         "BR1605",
         "Proton Motors"
        ],
        [
         1138,
         "BR1608",
         "Proton Motors"
        ],
        [
         1139,
         "BR1610",
         "Proton Motors"
        ],
        [
         1140,
         "BR1611",
         "Puma Motors"
        ],
        [
         1141,
         "BR1612",
         "Puma Motors"
        ],
        [
         1142,
         "BR1613",
         "Puma Motors"
        ],
        [
         1143,
         "BR1615",
         "Puma Motors"
        ],
        [
         1144,
         "BR1617",
         "Puma Motors"
        ],
        [
         1145,
         "BR1618",
         "Puma Motors"
        ],
        [
         1146,
         "BR1619",
         "Puma Motors"
        ],
        [
         1147,
         "BR1620",
         "Puma Motors"
        ],
        [
         1148,
         "BR1621",
         "Ranger Motors"
        ],
        [
         1149,
         "BR1623",
         "Ranger Motors"
        ],
        [
         1150,
         "BR1625",
         "Ranger Motors"
        ],
        [
         1151,
         "BR1626",
         "Buick Motors"
        ],
        [
         1152,
         "BR1628",
         "Ranger Motors"
        ],
        [
         1153,
         "BR1629",
         "Ranger Motors"
        ],
        [
         1154,
         "BR1630",
         "Ranger Motors"
        ],
        [
         1155,
         "BR1631",
         "Reliant Motors"
        ],
        [
         1156,
         "BR1632",
         "Reliant Motors"
        ],
        [
         1157,
         "BR1633",
         "Reliant Motors"
        ],
        [
         1158,
         "BR1634",
         "Reliant Motors"
        ],
        [
         1159,
         "BR1635",
         "Reliant Motors"
        ],
        [
         1160,
         "BR1637",
         "Reliant Motors"
        ],
        [
         1161,
         "BR1638",
         "Reliant Motors"
        ],
        [
         1162,
         "BR1639",
         "Reliant Motors"
        ],
        [
         1163,
         "BR1640",
         "Reliant Motors"
        ],
        [
         1164,
         "BR1641",
         "Renault Motors"
        ],
        [
         1165,
         "BR1642",
         "Renault Motors"
        ],
        [
         1166,
         "BR1643",
         "Renault Motors"
        ],
        [
         1167,
         "BR1647",
         "Renault Motors"
        ],
        [
         1168,
         "BR1649",
         "Renault Motors"
        ],
        [
         1169,
         "BR1651",
         "Rivian Motors"
        ],
        [
         1170,
         "BR1652",
         "Rivian Motors"
        ],
        [
         1171,
         "BR1653",
         "Rivian Motors"
        ],
        [
         1172,
         "BR1654",
         "Rivian Motors"
        ],
        [
         1173,
         "BR1655",
         "Rivian Motors"
        ],
        [
         1174,
         "BR1657",
         "Rivian Motors"
        ],
        [
         1175,
         "BR1658",
         "Rivian Motors"
        ],
        [
         1176,
         "BR1659",
         "Rivian Motors"
        ],
        [
         1177,
         "BR1660",
         "Rivian Motors"
        ],
        [
         1178,
         "BR1661",
         "Rolls-Royce Motors"
        ],
        [
         1179,
         "BR1663",
         "Rolls-Royce Motors"
        ],
        [
         1180,
         "BR1664",
         "Rolls-Royce Motors"
        ],
        [
         1181,
         "BR1665",
         "Rolls-Royce Motors"
        ],
        [
         1182,
         "BR1667",
         "Rolls-Royce Motors"
        ],
        [
         1183,
         "BR1668",
         "Rolls-Royce Motors"
        ],
        [
         1184,
         "BR1669",
         "Rolls-Royce Motors"
        ],
        [
         1185,
         "BR1670",
         "Rolls-Royce Motors"
        ],
        [
         1186,
         "BR1671",
         "Saab Motors"
        ],
        [
         1187,
         "BR1672",
         "Saab Motors"
        ],
        [
         1188,
         "BR1673",
         "Saab Motors"
        ],
        [
         1189,
         "BR1674",
         "Saab Motors"
        ],
        [
         1190,
         "BR1677",
         "Saab Motors"
        ],
        [
         1191,
         "BR1678",
         "Saab Motors"
        ],
        [
         1192,
         "BR1679",
         "Saab Motors"
        ],
        [
         1193,
         "BR1680",
         "Saab Motors"
        ],
        [
         1194,
         "BR1681",
         "SAIC Motor Motors"
        ],
        [
         1195,
         "BR1682",
         "SAIC Motor Motors"
        ],
        [
         1196,
         "BR1683",
         "SAIC Motor Motors"
        ],
        [
         1197,
         "BR1684",
         "SAIC Motor Motors"
        ],
        [
         1198,
         "BR1685",
         "SAIC Motor Motors"
        ],
        [
         1199,
         "BR1686",
         "Bytom Motors"
        ],
        [
         1200,
         "BR1687",
         "SAIC Motor Motors"
        ],
        [
         1201,
         "BR1688",
         "SAIC Motor Motors"
        ],
        [
         1202,
         "BR1689",
         "SAIC Motor Motors"
        ],
        [
         1203,
         "BR1690",
         "SAIC Motor Motors"
        ],
        [
         1204,
         "BR1691",
         "Saleen Motors"
        ],
        [
         1205,
         "BR1692",
         "Saleen Motors"
        ],
        [
         1206,
         "BR1693",
         "Saleen Motors"
        ],
        [
         1207,
         "BR1697",
         "Saleen Motors"
        ],
        [
         1208,
         "BR1699",
         "Saleen Motors"
        ],
        [
         1209,
         "BR1700",
         "Saleen Motors"
        ],
        [
         1210,
         "BR1701",
         "Samsung Motors"
        ],
        [
         1211,
         "BR1702",
         "Samsung Motors"
        ],
        [
         1212,
         "BR1708",
         "Samsung Motors"
        ],
        [
         1213,
         "BR1709",
         "Samsung Motors"
        ],
        [
         1214,
         "BR1710",
         "Samsung Motors"
        ],
        [
         1215,
         "BR1711",
         "San Motors"
        ],
        [
         1216,
         "BR1712",
         "San Motors"
        ],
        [
         1217,
         "BR1714",
         "San Motors"
        ],
        [
         1218,
         "BR1715",
         "San Motors"
        ],
        [
         1219,
         "BR1717",
         "San Motors"
        ],
        [
         1220,
         "BR1718",
         "San Motors"
        ],
        [
         1221,
         "BR1719",
         "San Motors"
        ],
        [
         1222,
         "BR1720",
         "San Motors"
        ],
        [
         1223,
         "BR1721",
         "Santa Matilde Motors"
        ],
        [
         1224,
         "BR1722",
         "Santa Matilde Motors"
        ],
        [
         1225,
         "BR1723",
         "Santa Matilde Motors"
        ],
        [
         1226,
         "BR1725",
         "Santa Matilde Motors"
        ],
        [
         1227,
         "BR1727",
         "Santa Matilde Motors"
        ],
        [
         1228,
         "BR1728",
         "Santa Matilde Motors"
        ],
        [
         1229,
         "BR1729",
         "Santa Matilde Motors"
        ],
        [
         1230,
         "BR1731",
         "Santana Motors"
        ],
        [
         1231,
         "BR1733",
         "Santana Motors"
        ],
        [
         1232,
         "BR1735",
         "Santana Motors"
        ],
        [
         1233,
         "BR1737",
         "Santana Motors"
        ],
        [
         1234,
         "BR1739",
         "Santana Motors"
        ],
        [
         1235,
         "BR1741",
         "Saturn Motors"
        ],
        [
         1236,
         "BR1742",
         "Saturn Motors"
        ],
        [
         1237,
         "BR1743",
         "Saturn Motors"
        ],
        [
         1238,
         "BR1745",
         "Saturn Motors"
        ],
        [
         1239,
         "BR1746",
         "Cadillac Motors"
        ],
        [
         1240,
         "BR1747",
         "Saturn Motors"
        ],
        [
         1241,
         "BR1749",
         "Saturn Motors"
        ],
        [
         1242,
         "BR1750",
         "Saturn Motors"
        ],
        [
         1243,
         "BR1751",
         "Scion Motors"
        ],
        [
         1244,
         "BR1752",
         "Scion Motors"
        ],
        [
         1245,
         "BR1753",
         "Scion Motors"
        ],
        [
         1246,
         "BR1754",
         "Scion Motors"
        ],
        [
         1247,
         "BR1755",
         "Scion Motors"
        ],
        [
         1248,
         "BR1757",
         "Scion Motors"
        ],
        [
         1249,
         "BR1758",
         "Scion Motors"
        ],
        [
         1250,
         "BR1759",
         "Scion Motors"
        ],
        [
         1251,
         "BR1761",
         "Seat Motors"
        ],
        [
         1252,
         "BR1762",
         "Seat Motors"
        ],
        [
         1253,
         "BR1763",
         "Seat Motors"
        ],
        [
         1254,
         "BR1764",
         "Seat Motors"
        ],
        [
         1255,
         "BR1765",
         "Seat Motors"
        ],
        [
         1256,
         "BR1768",
         "Seat Motors"
        ],
        [
         1257,
         "BR1769",
         "Seat Motors"
        ],
        [
         1258,
         "BR1770",
         "Seat Motors"
        ],
        [
         1259,
         "BR1771",
         "Shelby SuperCars Motors"
        ],
        [
         1260,
         "BR1777",
         "Shelby SuperCars Motors"
        ],
        [
         1261,
         "BR1778",
         "Shelby SuperCars Motors"
        ],
        [
         1262,
         "BR1779",
         "Shelby SuperCars Motors"
        ],
        [
         1263,
         "BR1780",
         "Shelby SuperCars Motors"
        ],
        [
         1264,
         "BR1782",
         "Simca Motors"
        ],
        [
         1265,
         "BR1783",
         "Simca Motors"
        ],
        [
         1266,
         "BR1784",
         "Simca Motors"
        ],
        [
         1267,
         "BR1785",
         "Simca Motors"
        ],
        [
         1268,
         "BR1787",
         "Simca Motors"
        ],
        [
         1269,
         "BR1788",
         "Simca Motors"
        ],
        [
         1270,
         "BR1789",
         "Simca Motors"
        ],
        [
         1271,
         "BR1792",
         "Simca do Brasil Motors"
        ],
        [
         1272,
         "BR1793",
         "Simca do Brasil Motors"
        ],
        [
         1273,
         "BR1795",
         "Simca do Brasil Motors"
        ],
        [
         1274,
         "BR1797",
         "Simca do Brasil Motors"
        ],
        [
         1275,
         "BR1798",
         "Simca do Brasil Motors"
        ],
        [
         1276,
         "BR1799",
         "Simca do Brasil Motors"
        ],
        [
         1277,
         "BR1800",
         "Simca do Brasil Motors"
        ],
        [
         1278,
         "BR1803",
         "Singer Motors"
        ],
        [
         1279,
         "BR1804",
         "Singer Motors"
        ],
        [
         1280,
         "BR1805",
         "Singer Motors"
        ],
        [
         1281,
         "BR1807",
         "Singer Motors"
        ],
        [
         1282,
         "BR1808",
         "Singer Motors"
        ],
        [
         1283,
         "BR1809",
         "Singer Motors"
        ],
        [
         1284,
         "BR1811",
         "Skoda Motors"
        ],
        [
         1285,
         "BR1812",
         "Skoda Motors"
        ],
        [
         1286,
         "BR1814",
         "Skoda Motors"
        ],
        [
         1287,
         "BR1815",
         "Skoda Motors"
        ],
        [
         1288,
         "BR1820",
         "Skoda Motors"
        ],
        [
         1289,
         "BR1821",
         "Smart Motors"
        ],
        [
         1290,
         "BR1822",
         "Smart Motors"
        ],
        [
         1291,
         "BR1823",
         "Smart Motors"
        ],
        [
         1292,
         "BR1824",
         "Smart Motors"
        ],
        [
         1293,
         "BR1827",
         "Smart Motors"
        ],
        [
         1294,
         "BR1828",
         "Smart Motors"
        ],
        [
         1295,
         "BR1829",
         "Smart Motors"
        ],
        [
         1296,
         "BR1830",
         "Smart Motors"
        ],
        [
         1297,
         "BR1831",
         "Spyker Motors"
        ],
        [
         1298,
         "BR1832",
         "Spyker Motors"
        ],
        [
         1299,
         "BR1833",
         "Spyker Motors"
        ],
        [
         1300,
         "BR1834",
         "Spyker Motors"
        ],
        [
         1301,
         "BR1835",
         "Spyker Motors"
        ],
        [
         1302,
         "BR1837",
         "Spyker Motors"
        ],
        [
         1303,
         "BR1838",
         "Spyker Motors"
        ],
        [
         1304,
         "BR1839",
         "Spyker Motors"
        ],
        [
         1305,
         "BR1840",
         "Spyker Motors"
        ],
        [
         1306,
         "BR1841",
         "SsangYong Motors"
        ],
        [
         1307,
         "BR1842",
         "SsangYong Motors"
        ],
        [
         1308,
         "BR1843",
         "SsangYong Motors"
        ],
        [
         1309,
         "BR1844",
         "SsangYong Motors"
        ],
        [
         1310,
         "BR1845",
         "SsangYong Motors"
        ],
        [
         1311,
         "BR1847",
         "SsangYong Motors"
        ],
        [
         1312,
         "BR1849",
         "SsangYong Motors"
        ],
        [
         1313,
         "BR1852",
         "Standard-Triumph Motors"
        ],
        [
         1314,
         "BR1854",
         "Standard-Triumph Motors"
        ],
        [
         1315,
         "BR1855",
         "Standard-Triumph Motors"
        ],
        [
         1316,
         "BR1858",
         "Standard-Triumph Motors"
        ],
        [
         1317,
         "BR1860",
         "Standard-Triumph Motors"
        ],
        [
         1318,
         "BR1861",
         "Studebaker Motors"
        ],
        [
         1319,
         "BR1862",
         "Studebaker Motors"
        ],
        [
         1320,
         "BR1863",
         "Studebaker Motors"
        ],
        [
         1321,
         "BR1864",
         "Studebaker Motors"
        ],
        [
         1322,
         "BR1865",
         "Studebaker Motors"
        ],
        [
         1323,
         "BR1867",
         "Studebaker Motors"
        ],
        [
         1324,
         "BR1868",
         "Studebaker Motors"
        ],
        [
         1325,
         "BR1869",
         "Studebaker Motors"
        ],
        [
         1326,
         "BR1871",
         "Subaru Motors"
        ],
        [
         1327,
         "BR1872",
         "Subaru Motors"
        ],
        [
         1328,
         "BR1873",
         "Subaru Motors"
        ],
        [
         1329,
         "BR1874",
         "Subaru Motors"
        ],
        [
         1330,
         "BR1875",
         "Subaru Motors"
        ],
        [
         1331,
         "BR1877",
         "Subaru Motors"
        ],
        [
         1332,
         "BR1878",
         "Subaru Motors"
        ],
        [
         1333,
         "BR1879",
         "Subaru Motors"
        ],
        [
         1334,
         "BR1880",
         "Subaru Motors"
        ],
        [
         1335,
         "BR1882",
         "Sunbeam Motors"
        ],
        [
         1336,
         "BR1884",
         "Sunbeam Motors"
        ],
        [
         1337,
         "BR1887",
         "Sunbeam Motors"
        ],
        [
         1338,
         "BR1888",
         "Sunbeam Motors"
        ],
        [
         1339,
         "BR1889",
         "Sunbeam Motors"
        ],
        [
         1340,
         "BR1892",
         "Suzuki Motors"
        ],
        [
         1341,
         "BR1894",
         "Suzuki Motors"
        ],
        [
         1342,
         "BR1895",
         "Suzuki Motors"
        ],
        [
         1343,
         "BR1897",
         "Suzuki Motors"
        ],
        [
         1344,
         "BR1901",
         "Tata Motors"
        ],
        [
         1345,
         "BR1902",
         "Tata Motors"
        ],
        [
         1346,
         "BR1903",
         "Tata Motors"
        ],
        [
         1347,
         "BR1905",
         "Tata Motors"
        ],
        [
         1348,
         "BR1908",
         "Tata Motors"
        ],
        [
         1349,
         "BR1910",
         "Tata Motors"
        ],
        [
         1350,
         "BR1911",
         "Tatra Motors"
        ],
        [
         1351,
         "BR1913",
         "Tatra Motors"
        ],
        [
         1352,
         "BR1914",
         "Tatra Motors"
        ],
        [
         1353,
         "BR1915",
         "Tatra Motors"
        ],
        [
         1354,
         "BR1917",
         "Tatra Motors"
        ],
        [
         1355,
         "BR1918",
         "Tatra Motors"
        ],
        [
         1356,
         "BR1919",
         "Tatra Motors"
        ],
        [
         1357,
         "BR1920",
         "Tatra Motors"
        ],
        [
         1358,
         "BR1922",
         "Tazzari Motors"
        ],
        [
         1359,
         "BR1923",
         "Tazzari Motors"
        ],
        [
         1360,
         "BR1924",
         "Tazzari Motors"
        ],
        [
         1361,
         "BR1925",
         "Tazzari Motors"
        ],
        [
         1362,
         "BR1927",
         "Tazzari Motors"
        ],
        [
         1363,
         "BR1928",
         "Tazzari Motors"
        ],
        [
         1364,
         "BR1929",
         "Tazzari Motors"
        ],
        [
         1365,
         "BR1930",
         "Tazzari Motors"
        ],
        [
         1366,
         "BR1931",
         "Tesla Motors"
        ],
        [
         1367,
         "BR1932",
         "Tesla Motors"
        ],
        [
         1368,
         "BR1933",
         "Tesla Motors"
        ],
        [
         1369,
         "BR1934",
         "Tesla Motors"
        ],
        [
         1370,
         "BR1935",
         "Tesla Motors"
        ],
        [
         1371,
         "BR1937",
         "Tesla Motors"
        ],
        [
         1372,
         "BR1938",
         "Tesla Motors"
        ],
        [
         1373,
         "BR1939",
         "Tesla Motors"
        ],
        [
         1374,
         "BR1940",
         "Tesla Motors"
        ],
        [
         1375,
         "BR1941",
         "Tornado Motors"
        ],
        [
         1376,
         "BR1943",
         "Tornado Motors"
        ],
        [
         1377,
         "BR1944",
         "Tornado Motors"
        ],
        [
         1378,
         "BR1945",
         "Tornado Motors"
        ],
        [
         1379,
         "BR1947",
         "Tornado Motors"
        ],
        [
         1380,
         "BR1948",
         "Tornado Motors"
        ],
        [
         1381,
         "BR1949",
         "Tornado Motors"
        ],
        [
         1382,
         "BR1951",
         "Toyota Motors"
        ],
        [
         1383,
         "BR1952",
         "Toyota Motors"
        ],
        [
         1384,
         "BR1954",
         "Toyota Motors"
        ],
        [
         1385,
         "BR1955",
         "Toyota Motors"
        ],
        [
         1386,
         "BR1957",
         "Toyota Motors"
        ],
        [
         1387,
         "BR1958",
         "Toyota Motors"
        ],
        [
         1388,
         "BR1959",
         "Toyota Motors"
        ],
        [
         1389,
         "BR1960",
         "Toyota Motors"
        ],
        [
         1390,
         "BR1962",
         "Toyota India Motors"
        ],
        [
         1391,
         "BR1963",
         "Toyota India Motors"
        ],
        [
         1392,
         "BR1964",
         "Toyota India Motors"
        ],
        [
         1393,
         "BR1965",
         "Toyota India Motors"
        ],
        [
         1394,
         "BR1967",
         "Toyota India Motors"
        ],
        [
         1395,
         "BR1968",
         "Toyota India Motors"
        ],
        [
         1396,
         "BR1969",
         "Toyota India Motors"
        ],
        [
         1397,
         "BR1971",
         "Turner Motors"
        ],
        [
         1398,
         "BR1972",
         "Turner Motors"
        ],
        [
         1399,
         "BR1974",
         "Turner Motors"
        ],
        [
         1400,
         "BR1975",
         "Turner Motors"
        ],
        [
         1401,
         "BR1977",
         "Turner Motors"
        ],
        [
         1402,
         "BR1978",
         "Turner Motors"
        ],
        [
         1403,
         "BR1980",
         "Turner Motors"
        ],
        [
         1404,
         "BR1984",
         "TVR Motors"
        ],
        [
         1405,
         "BR1985",
         "TVR Motors"
        ],
        [
         1406,
         "BR1987",
         "TVR Motors"
        ],
        [
         1407,
         "BR1988",
         "TVR Motors"
        ],
        [
         1408,
         "BR1989",
         "TVR Motors"
        ],
        [
         1409,
         "BR1990",
         "TVR Motors"
        ],
        [
         1410,
         "BR1991",
         "UAZ Motors"
        ],
        [
         1411,
         "BR1993",
         "UAZ Motors"
        ],
        [
         1412,
         "BR1994",
         "UAZ Motors"
        ],
        [
         1413,
         "BR1998",
         "UAZ Motors"
        ],
        [
         1414,
         "BR1999",
         "UAZ Motors"
        ],
        [
         1415,
         "BR2000",
         "UAZ Motors"
        ],
        [
         1416,
         "BR2004",
         "Vauxhall Motors"
        ],
        [
         1417,
         "BR2005",
         "Vauxhall Motors"
        ],
        [
         1418,
         "BR2007",
         "Vauxhall Motors"
        ],
        [
         1419,
         "BR2008",
         "Vauxhall Motors"
        ],
        [
         1420,
         "BR2009",
         "Vauxhall Motors"
        ],
        [
         1421,
         "BR2011",
         "Venturi Motors"
        ],
        [
         1422,
         "BR2017",
         "Venturi Motors"
        ],
        [
         1423,
         "BR2018",
         "Venturi Motors"
        ],
        [
         1424,
         "BR2019",
         "Venturi Motors"
        ],
        [
         1425,
         "BR2021",
         "Volkswagen Motors"
        ],
        [
         1426,
         "BR2022",
         "Volkswagen Motors"
        ],
        [
         1427,
         "BR2023",
         "Volkswagen Motors"
        ],
        [
         1428,
         "BR2024",
         "Volkswagen Motors"
        ],
        [
         1429,
         "BR2025",
         "Volkswagen Motors"
        ],
        [
         1430,
         "BR2027",
         "Volkswagen Motors"
        ],
        [
         1431,
         "BR2028",
         "Volkswagen Motors"
        ],
        [
         1432,
         "BR2029",
         "Volkswagen Motors"
        ],
        [
         1433,
         "BR2030",
         "Volkswagen Motors"
        ],
        [
         1434,
         "BR2031",
         "Volkswagen do Brasil Motors"
        ],
        [
         1435,
         "BR2032",
         "Volkswagen do Brasil Motors"
        ],
        [
         1436,
         "BR2033",
         "Volkswagen do Brasil Motors"
        ],
        [
         1437,
         "BR2034",
         "Volkswagen do Brasil Motors"
        ],
        [
         1438,
         "BR2035",
         "Volkswagen do Brasil Motors"
        ],
        [
         1439,
         "BR2037",
         "Volkswagen do Brasil Motors"
        ],
        [
         1440,
         "BR2039",
         "Volkswagen do Brasil Motors"
        ],
        [
         1441,
         "BR2040",
         "Volkswagen do Brasil Motors"
        ],
        [
         1442,
         "BR2041",
         "Volkswagen South Africa Motors"
        ],
        [
         1443,
         "BR2042",
         "Volkswagen South Africa Motors"
        ],
        [
         1444,
         "BR2045",
         "Volkswagen South Africa Motors"
        ],
        [
         1445,
         "BR2046",
         "Chrysler Motors"
        ],
        [
         1446,
         "BR2047",
         "Volkswagen South Africa Motors"
        ],
        [
         1447,
         "BR2048",
         "Volkswagen South Africa Motors"
        ],
        [
         1448,
         "BR2049",
         "Volkswagen South Africa Motors"
        ],
        [
         1449,
         "BR2050",
         "Volkswagen South Africa Motors"
        ],
        [
         1450,
         "BR2052",
         "Volvo Motors"
        ],
        [
         1451,
         "BR2053",
         "Volvo Motors"
        ],
        [
         1452,
         "BR2054",
         "Volvo Motors"
        ],
        [
         1453,
         "BR2057",
         "Volvo Motors"
        ],
        [
         1454,
         "BR2058",
         "Volvo Motors"
        ],
        [
         1455,
         "BR2059",
         "Volvo Motors"
        ],
        [
         1456,
         "BR2060",
         "Volvo Motors"
        ],
        [
         1457,
         "BR2061",
         "Westfield Motors"
        ],
        [
         1458,
         "BR2062",
         "Westfield Motors"
        ],
        [
         1459,
         "BR2063",
         "Westfield Motors"
        ],
        [
         1460,
         "BR2064",
         "Westfield Motors"
        ],
        [
         1461,
         "BR2065",
         "Westfield Motors"
        ],
        [
         1462,
         "BR2067",
         "Westfield Motors"
        ],
        [
         1463,
         "BR2068",
         "Westfield Motors"
        ],
        [
         1464,
         "BR2070",
         "Westfield Motors"
        ],
        [
         1465,
         "BR2071",
         "Wiesmann Motors"
        ],
        [
         1466,
         "BR2072",
         "Wiesmann Motors"
        ],
        [
         1467,
         "BR2075",
         "Wiesmann Motors"
        ],
        [
         1468,
         "BR2077",
         "Wiesmann Motors"
        ],
        [
         1469,
         "BR2079",
         "Wiesmann Motors"
        ],
        [
         1470,
         "BR2080",
         "Wiesmann Motors"
        ],
        [
         1471,
         "BR2082",
         "Zastava Motors"
        ],
        [
         1472,
         "BR2083",
         "Zastava Motors"
        ],
        [
         1473,
         "BR2084",
         "Zastava Motors"
        ],
        [
         1474,
         "BR2085",
         "Zastava Motors"
        ],
        [
         1475,
         "BR2087",
         "Zastava Motors"
        ],
        [
         1476,
         "BR2088",
         "Zastava Motors"
        ],
        [
         1477,
         "BR2089",
         "Zastava Motors"
        ],
        [
         1478,
         "BR2090",
         "Zastava Motors"
        ],
        [
         1479,
         "BR2091",
         "ZAZ Motors"
        ],
        [
         1480,
         "BR2095",
         "ZAZ Motors"
        ],
        [
         1481,
         "BR2097",
         "ZAZ Motors"
        ],
        [
         1482,
         "BR2099",
         "ZAZ Motors"
        ],
        [
         1483,
         "BR2100",
         "ZAZ Motors"
        ],
        [
         1484,
         "BR2101",
         "ZIL Motors"
        ],
        [
         1485,
         "BR2103",
         "ZIL Motors"
        ],
        [
         1486,
         "BR2104",
         "ZIL Motors"
        ],
        [
         1487,
         "BR2105",
         "ZIL Motors"
        ],
        [
         1488,
         "BR2106",
         "Chrysler Europe Motors"
        ],
        [
         1489,
         "BR2107",
         "ZIL Motors"
        ],
        [
         1490,
         "BR2108",
         "ZIL Motors"
        ],
        [
         1491,
         "BR2110",
         "ZIL Motors"
        ],
        [
         1492,
         "BR2113",
         "Audi Motors"
        ],
        [
         1493,
         "BR2114",
         "Audi Motors"
        ],
        [
         1494,
         "BR2115",
         "Audi Motors"
        ],
        [
         1495,
         "BR2117",
         "Audi Motors"
        ],
        [
         1496,
         "BR2118",
         "Audi Motors"
        ],
        [
         1497,
         "BR2119",
         "Audi Motors"
        ],
        [
         1498,
         "BR2121",
         "DKW Motors"
        ],
        [
         1499,
         "BR2122",
         "DKW Motors"
        ],
        [
         1500,
         "BR2123",
         "DKW Motors"
        ],
        [
         1501,
         "BR2124",
         "DKW Motors"
        ],
        [
         1502,
         "BR2125",
         "DKW Motors"
        ],
        [
         1503,
         "BR2128",
         "DKW Motors"
        ],
        [
         1504,
         "BR2129",
         "DKW Motors"
        ],
        [
         1505,
         "BR2130",
         "DKW Motors"
        ],
        [
         1506,
         "BR2131",
         "Horch Motors"
        ],
        [
         1507,
         "BR2132",
         "Horch Motors"
        ],
        [
         1508,
         "BR2133",
         "Horch Motors"
        ],
        [
         1509,
         "BR2134",
         "Horch Motors"
        ],
        [
         1510,
         "BR2135",
         "Horch Motors"
        ],
        [
         1511,
         "BR2137",
         "Horch Motors"
        ],
        [
         1512,
         "BR2138",
         "Horch Motors"
        ],
        [
         1513,
         "BR2139",
         "Horch Motors"
        ],
        [
         1514,
         "BR2140",
         "Horch Motors"
        ],
        [
         1515,
         "BR2142",
         "Wanderer Motors"
        ],
        [
         1516,
         "BR2143",
         "Wanderer Motors"
        ],
        [
         1517,
         "BR2144",
         "Wanderer Motors"
        ],
        [
         1518,
         "BR2147",
         "Wanderer Motors"
        ],
        [
         1519,
         "BR2148",
         "Wanderer Motors"
        ],
        [
         1520,
         "BR2149",
         "Wanderer Motors"
        ],
        [
         1521,
         "BR2150",
         "Wanderer Motors"
        ],
        [
         1522,
         "BR2151",
         "Maybach  Motors"
        ],
        [
         1523,
         "BR2152",
         "Maybach  Motors"
        ],
        [
         1524,
         "BR2153",
         "Maybach  Motors"
        ],
        [
         1525,
         "BR2154",
         "Maybach  Motors"
        ],
        [
         1526,
         "BR2155",
         "Maybach  Motors"
        ],
        [
         1527,
         "BR2157",
         "Maybach  Motors"
        ],
        [
         1528,
         "BR2158",
         "Maybach  Motors"
        ],
        [
         1529,
         "BR2159",
         "Maybach  Motors"
        ],
        [
         1530,
         "BR2160",
         "Maybach  Motors"
        ],
        [
         1531,
         "BR2161",
         "Izh  Motors"
        ],
        [
         1532,
         "BR2163",
         "Izh  Motors"
        ],
        [
         1533,
         "BR2164",
         "Izh  Motors"
        ],
        [
         1534,
         "BR2165",
         "Izh  Motors"
        ],
        [
         1535,
         "BR2166",
         "Citroën Motors"
        ],
        [
         1536,
         "BR2167",
         "Izh  Motors"
        ],
        [
         1537,
         "BR2168",
         "Izh  Motors"
        ],
        [
         1538,
         "BR2169",
         "Izh  Motors"
        ],
        [
         1539,
         "BR2170",
         "Izh  Motors"
        ],
        [
         1540,
         "BR2171",
         "Lagonda  Motors"
        ],
        [
         1541,
         "BR2172",
         "Lagonda  Motors"
        ],
        [
         1542,
         "BR2173",
         "Lagonda  Motors"
        ],
        [
         1543,
         "BR2174",
         "Lagonda  Motors"
        ],
        [
         1544,
         "BR2175",
         "Lagonda  Motors"
        ],
        [
         1545,
         "BR2177",
         "Lagonda  Motors"
        ],
        [
         1546,
         "BR2178",
         "Lagonda  Motors"
        ],
        [
         1547,
         "BR2179",
         "Lagonda  Motors"
        ],
        [
         1548,
         "BR2180",
         "Lagonda  Motors"
        ],
        [
         1549,
         "BR2182",
         "MG  Motors"
        ],
        [
         1550,
         "BR2183",
         "MG  Motors"
        ],
        [
         1551,
         "BR2184",
         "MG  Motors"
        ],
        [
         1552,
         "BR2185",
         "MG  Motors"
        ],
        [
         1553,
         "BR2187",
         "MG  Motors"
        ],
        [
         1554,
         "BR2188",
         "MG  Motors"
        ],
        [
         1555,
         "BR2190",
         "MG  Motors"
        ],
        [
         1556,
         "BR2191",
         "Morris  Motors"
        ],
        [
         1557,
         "BR2192",
         "Morris  Motors"
        ],
        [
         1558,
         "BR2195",
         "Morris  Motors"
        ],
        [
         1559,
         "BR2197",
         "Morris  Motors"
        ],
        [
         1560,
         "BR2198",
         "Morris  Motors"
        ],
        [
         1561,
         "BR2199",
         "Morris  Motors"
        ],
        [
         1562,
         "BR2200",
         "Morris  Motors"
        ],
        [
         1563,
         "BR2201",
         "Austin  Motors"
        ],
        [
         1564,
         "BR2202",
         "Austin  Motors"
        ],
        [
         1565,
         "BR2204",
         "Austin  Motors"
        ],
        [
         1566,
         "BR2207",
         "Austin  Motors"
        ],
        [
         1567,
         "BR2208",
         "Austin  Motors"
        ],
        [
         1568,
         "BR2210",
         "Austin  Motors"
        ],
        [
         1569,
         "BR2211",
         "Riley  Motors"
        ],
        [
         1570,
         "BR2213",
         "Riley  Motors"
        ],
        [
         1571,
         "BR2214",
         "Riley  Motors"
        ],
        [
         1572,
         "BR2217",
         "Riley  Motors"
        ],
        [
         1573,
         "BR2220",
         "Riley  Motors"
        ],
        [
         1574,
         "BR2221",
         "Wolseley  Motors"
        ],
        [
         1575,
         "BR2222",
         "Wolseley  Motors"
        ],
        [
         1576,
         "BR2223",
         "Wolseley  Motors"
        ],
        [
         1577,
         "BR2225",
         "Wolseley  Motors"
        ],
        [
         1578,
         "BR2226",
         "Cizeta-Moroder Motors"
        ],
        [
         1579,
         "BR2229",
         "Wolseley  Motors"
        ],
        [
         1580,
         "BR2230",
         "Wolseley  Motors"
        ],
        [
         1581,
         "BR2231",
         "Standard  Motors"
        ],
        [
         1582,
         "BR2232",
         "Standard  Motors"
        ],
        [
         1583,
         "BR2233",
         "Standard  Motors"
        ],
        [
         1584,
         "BR2234",
         "Standard  Motors"
        ],
        [
         1585,
         "BR2237",
         "Standard  Motors"
        ],
        [
         1586,
         "BR2239",
         "Standard  Motors"
        ],
        [
         1587,
         "BR2240",
         "Standard  Motors"
        ],
        [
         1588,
         "BR2241",
         "Talbot  Motors"
        ],
        [
         1589,
         "BR2243",
         "Talbot  Motors"
        ],
        [
         1590,
         "BR2244",
         "Talbot  Motors"
        ],
        [
         1591,
         "BR2245",
         "Talbot  Motors"
        ],
        [
         1592,
         "BR2247",
         "Talbot  Motors"
        ],
        [
         1593,
         "BR2248",
         "Talbot  Motors"
        ],
        [
         1594,
         "BR2250",
         "Talbot  Motors"
        ],
        [
         1595,
         "BR2251",
         "Das Motors"
        ],
        [
         1596,
         "BR2252",
         "Das Motors"
        ],
        [
         1597,
         "BR2253",
         "Das Motors"
        ],
        [
         1598,
         "BR2258",
         "Das Motors"
        ],
        [
         1599,
         "BR2259",
         "Das Motors"
        ],
        [
         1600,
         "BR2260",
         "Das Motors"
        ],
        [
         1601,
         "BR2262",
         "Ramani Motors"
        ],
        [
         1602,
         "BR2263",
         "Ramani Motors"
        ],
        [
         1603,
         "BR2264",
         "Ramani Motors"
        ],
        [
         1604,
         "BR2267",
         "Ramani Motors"
        ],
        [
         1605,
         "BR2270",
         "Ramani Motors"
        ],
        [
         1606,
         "BR2271",
         "Deccan Motors"
        ],
        [
         1607,
         "BR2272",
         "Deccan Motors"
        ],
        [
         1608,
         "BR2273",
         "Deccan Motors"
        ],
        [
         1609,
         "BR2275",
         "Deccan Motors"
        ],
        [
         1610,
         "BR2277",
         "Deccan Motors"
        ],
        [
         1611,
         "BR2278",
         "Deccan Motors"
        ],
        [
         1612,
         "BR2280",
         "Deccan Motors"
        ],
        [
         1613,
         "BR2281",
         "Herald Motors"
        ],
        [
         1614,
         "BR2282",
         "Herald Motors"
        ],
        [
         1615,
         "BR2283",
         "Herald Motors"
        ],
        [
         1616,
         "BR2284",
         "Herald Motors"
        ],
        [
         1617,
         "BR2285",
         "Herald Motors"
        ],
        [
         1618,
         "BR2286",
         "Dacia Motors"
        ],
        [
         1619,
         "BR2287",
         "Herald Motors"
        ],
        [
         1620,
         "BR2288",
         "Herald Motors"
        ],
        [
         1621,
         "BR2289",
         "Herald Motors"
        ],
        [
         1622,
         "BR2290",
         "Herald Motors"
        ],
        [
         1623,
         "BR2291",
         "Zion Automobils"
        ],
        [
         1624,
         "BR2293",
         "Zion Automobils"
        ],
        [
         1625,
         "BR2295",
         "Zion Automobils"
        ],
        [
         1626,
         "BR2297",
         "Zion Automobils"
        ],
        [
         1627,
         "BR2300",
         "Zion Automobils"
        ],
        [
         1628,
         "BR2301",
         "Atlantic Motor Company"
        ],
        [
         1629,
         "BR2302",
         "Atlantic Motor Company"
        ],
        [
         1630,
         "BR2303",
         "Atlantic Motor Company"
        ],
        [
         1631,
         "BR2305",
         "Atlantic Motor Company"
        ],
        [
         1632,
         "BR2307",
         "Atlantic Motor Company"
        ],
        [
         1633,
         "BR2308",
         "Atlantic Motor Company"
        ],
        [
         1634,
         "BR2309",
         "Atlantic Motor Company"
        ],
        [
         1635,
         "BR2310",
         "Atlantic Motor Company"
        ],
        [
         1636,
         "BR2312",
         "2008 NRHP-listed"
        ],
        [
         1637,
         "BR2313",
         "2008 NRHP-listed"
        ],
        [
         1638,
         "BR2315",
         "2008 NRHP-listed"
        ],
        [
         1639,
         "BR2317",
         "2008 NRHP-listed"
        ],
        [
         1640,
         "BR2318",
         "2008 NRHP-listed"
        ],
        [
         1641,
         "BR2319",
         "2008 NRHP-listed"
        ],
        [
         1642,
         "BR2320",
         "2008 NRHP-listed"
        ],
        [
         1643,
         "BR2321",
         "Blankinship Motor Company Building"
        ],
        [
         1644,
         "BR2322",
         "Blankinship Motor Company Building"
        ],
        [
         1645,
         "BR2323",
         "Blankinship Motor Company Building"
        ],
        [
         1646,
         "BR2324",
         "Blankinship Motor Company Building"
        ],
        [
         1647,
         "BR2327",
         "Blankinship Motor Company Building"
        ],
        [
         1648,
         "BR2329",
         "Blankinship Motor Company Building"
        ],
        [
         1649,
         "BR2330",
         "Blankinship Motor Company Building"
        ],
        [
         1650,
         "BR2331",
         "Bohn Motor Company Automobile Dealership"
        ],
        [
         1651,
         "BR2332",
         "Bohn Motor Company Automobile Dealership"
        ],
        [
         1652,
         "BR2334",
         "Bohn Motor Company Automobile Dealership"
        ],
        [
         1653,
         "BR2335",
         "Bohn Motor Company Automobile Dealership"
        ],
        [
         1654,
         "BR2337",
         "Bohn Motor Company Automobile Dealership"
        ],
        [
         1655,
         "BR2338",
         "Bohn Motor Company Automobile Dealership"
        ],
        [
         1656,
         "BR2339",
         "Bohn Motor Company Automobile Dealership"
        ],
        [
         1657,
         "BR2340",
         "Bohn Motor Company Automobile Dealership"
        ],
        [
         1658,
         "BR2341",
         "Buick Automobile Company Building"
        ],
        [
         1659,
         "BR2342",
         "Buick Automobile Company Building"
        ],
        [
         1660,
         "BR2344",
         "Buick Automobile Company Building"
        ],
        [
         1661,
         "BR2345",
         "Buick Automobile Company Building"
        ],
        [
         1662,
         "BR2346",
         "Daewoo, Saehan, Chevrolet Korea Motors"
        ],
        [
         1663,
         "BR2347",
         "Buick Automobile Company Building"
        ],
        [
         1664,
         "BR2348",
         "Buick Automobile Company Building"
        ],
        [
         1665,
         "BR2350",
         "Buick Automobile Company Building"
        ],
        [
         1666,
         "BR2351",
         "Cadillac Automobile Company Building"
        ],
        [
         1667,
         "BR2352",
         "Cadillac Automobile Company Building"
        ],
        [
         1668,
         "BR2353",
         "Cadillac Automobile Company Building"
        ],
        [
         1669,
         "BR2355",
         "Cadillac Automobile Company Building"
        ],
        [
         1670,
         "BR2357",
         "Cadillac Automobile Company Building"
        ],
        [
         1671,
         "BR2358",
         "Cadillac Automobile Company Building"
        ],
        [
         1672,
         "BR2359",
         "Cadillac Automobile Company Building"
        ],
        [
         1673,
         "BR2360",
         "Cadillac Automobile Company Building"
        ],
        [
         1674,
         "BR2361",
         "Casa de cadillac"
        ],
        [
         1675,
         "BR2362",
         "Casa de cadillac"
        ],
        [
         1676,
         "BR2367",
         "Casa de cadillac"
        ],
        [
         1677,
         "BR2368",
         "Casa de cadillac"
        ],
        [
         1678,
         "BR2369",
         "Casa de cadillac"
        ],
        [
         1679,
         "BR2370",
         "Casa de cadillac"
        ],
        [
         1680,
         "BR2371",
         "Cass Motor Sales"
        ],
        [
         1681,
         "BR2372",
         "Cass Motor Sales"
        ],
        [
         1682,
         "BR2374",
         "Cass Motor Sales"
        ],
        [
         1683,
         "BR2375",
         "Cass Motor Sales"
        ],
        [
         1684,
         "BR2377",
         "Cass Motor Sales"
        ],
        [
         1685,
         "BR2378",
         "Cass Motor Sales"
        ],
        [
         1686,
         "BR2380",
         "Cass Motor Sales"
        ],
        [
         1687,
         "BR2382",
         "Claremore Auto Dealership"
        ],
        [
         1688,
         "BR2383",
         "Claremore Auto Dealership"
        ],
        [
         1689,
         "BR2384",
         "Claremore Auto Dealership"
        ],
        [
         1690,
         "BR2385",
         "Claremore Auto Dealership"
        ],
        [
         1691,
         "BR2388",
         "Claremore Auto Dealership"
        ],
        [
         1692,
         "BR2389",
         "Claremore Auto Dealership"
        ],
        [
         1693,
         "BR2391",
         "Clemens Automobile Company Building"
        ],
        [
         1694,
         "BR2392",
         "Clemens Automobile Company Building"
        ],
        [
         1695,
         "BR2393",
         "Clemens Automobile Company Building"
        ],
        [
         1696,
         "BR2394",
         "Clemens Automobile Company Building"
        ],
        [
         1697,
         "BR2395",
         "Clemens Automobile Company Building"
        ],
        [
         1698,
         "BR2399",
         "Clemens Automobile Company Building"
        ],
        [
         1699,
         "BR2401",
         "Colman Automotive Building"
        ],
        [
         1700,
         "BR2402",
         "Colman Automotive Building"
        ],
        [
         1701,
         "BR2404",
         "Colman Automotive Building"
        ],
        [
         1702,
         "BR2405",
         "Colman Automotive Building"
        ],
        [
         1703,
         "BR2406",
         "DAF Motors"
        ],
        [
         1704,
         "BR2407",
         "Colman Automotive Building"
        ],
        [
         1705,
         "BR2409",
         "Colman Automotive Building"
        ],
        [
         1706,
         "BR2410",
         "Colman Automotive Building"
        ],
        [
         1707,
         "BR2411",
         "H Street Playhouse"
        ],
        [
         1708,
         "BR2412",
         "H Street Playhouse"
        ],
        [
         1709,
         "BR2414",
         "H Street Playhouse"
        ],
        [
         1710,
         "BR2415",
         "H Street Playhouse"
        ],
        [
         1711,
         "BR2417",
         "H Street Playhouse"
        ],
        [
         1712,
         "BR2419",
         "H Street Playhouse"
        ],
        [
         1713,
         "BR2420",
         "H Street Playhouse"
        ],
        [
         1714,
         "BR2421",
         "Howard Motor Company Building"
        ],
        [
         1715,
         "BR2423",
         "Howard Motor Company Building"
        ],
        [
         1716,
         "BR2427",
         "Howard Motor Company Building"
        ],
        [
         1717,
         "BR2428",
         "Howard Motor Company Building"
        ],
        [
         1718,
         "BR2429",
         "Howard Motor Company Building"
        ],
        [
         1719,
         "BR2431",
         "Hupmobile Building"
        ],
        [
         1720,
         "BR2433",
         "Hupmobile Building"
        ],
        [
         1721,
         "BR2437",
         "Hupmobile Building"
        ],
        [
         1722,
         "BR2438",
         "Hupmobile Building"
        ],
        [
         1723,
         "BR2439",
         "Hupmobile Building"
        ],
        [
         1724,
         "BR2440",
         "Hupmobile Building"
        ],
        [
         1725,
         "BR2441",
         "Jennings Ford Automobile Dealership"
        ],
        [
         1726,
         "BR2443",
         "Jennings Ford Automobile Dealership"
        ],
        [
         1727,
         "BR2444",
         "Jennings Ford Automobile Dealership"
        ],
        [
         1728,
         "BR2445",
         "Jennings Ford Automobile Dealership"
        ],
        [
         1729,
         "BR2447",
         "Jennings Ford Automobile Dealership"
        ],
        [
         1730,
         "BR2448",
         "Jennings Ford Automobile Dealership"
        ],
        [
         1731,
         "BR2449",
         "Jennings Ford Automobile Dealership"
        ],
        [
         1732,
         "BR2450",
         "Jennings Ford Automobile Dealership"
        ],
        [
         1733,
         "BR2451",
         "Jones Motor Company"
        ],
        [
         1734,
         "BR2452",
         "Jones Motor Company"
        ],
        [
         1735,
         "BR2454",
         "Jones Motor Company"
        ],
        [
         1736,
         "BR2455",
         "Jones Motor Company"
        ],
        [
         1737,
         "BR2457",
         "Jones Motor Company"
        ],
        [
         1738,
         "BR2460",
         "Jones Motor Company"
        ],
        [
         1739,
         "BR2462",
         "Kindel Building"
        ],
        [
         1740,
         "BR2463",
         "Kindel Building"
        ],
        [
         1741,
         "BR2464",
         "Kindel Building"
        ],
        [
         1742,
         "BR2467",
         "Kindel Building"
        ],
        [
         1743,
         "BR2468",
         "Kindel Building"
        ],
        [
         1744,
         "BR2469",
         "Kindel Building"
        ],
        [
         1745,
         "BR2470",
         "Kindel Building"
        ],
        [
         1746,
         "BR2526",
         "Daimler Motors"
        ],
        [
         1747,
         "BR2586",
         "Datsun Motors"
        ],
        [
         1748,
         "BR2646",
         "Delahaye Motors"
        ],
        [
         1749,
         "BR2706",
         "DeLorean Motors"
        ],
        [
         1750,
         "BR2766",
         "DeSoto Motors"
        ],
        [
         1751,
         "BR2886",
         "Dodge Motors"
        ],
        [
         1752,
         "BR2946",
         "Donkervoort Motors"
        ],
        [
         1753,
         "BR3006",
         "Edsel Motors"
        ],
        [
         1754,
         "BR3066",
         "e.GO Mobile Motors"
        ],
        [
         1755,
         "BR3186",
         "Elva Motors"
        ],
        [
         1756,
         "BR3246",
         "Facel Vega Motors"
        ],
        [
         1757,
         "BR3306",
         "Ferrari Motors"
        ],
        [
         1758,
         "BR3426",
         "Fiat do Brasil Motors"
        ],
        [
         1759,
         "BR3546",
         "Fisker, Karma Motors"
        ],
        [
         1760,
         "BR3606",
         "Ford America Motors"
        ],
        [
         1761,
         "BR3666",
         "Ford Australia Motors"
        ],
        [
         1762,
         "BR3726",
         "Ford do Brasil Motors"
        ],
        [
         1763,
         "BR3786",
         "Ford Europe Motors"
        ],
        [
         1764,
         "BR3906",
         "Freightliner Motors"
        ],
        [
         1765,
         "BR3966",
         "FSO Motors"
        ],
        [
         1766,
         "BR4026",
         "GAZ Motors"
        ],
        [
         1767,
         "BR4086",
         "Geo Motors"
        ],
        [
         1768,
         "BR4146",
         "Gilbern Motors"
        ],
        [
         1769,
         "BR4266",
         "Glas Motors"
        ],
        [
         1770,
         "BR4386",
         "GTA Spano Motors"
        ],
        [
         1771,
         "BR4446",
         "Gumpert Motors"
        ],
        [
         1772,
         "BR4566",
         "Heinkel Motors"
        ],
        [
         1773,
         "BR4626",
         "Hennessey Motors"
        ],
        [
         1774,
         "BR4686",
         "Hillman Motors"
        ],
        [
         1775,
         "BR4746",
         "Hindustan Motors"
        ],
        [
         1776,
         "BR4806",
         "Holden Motors"
        ],
        [
         1777,
         "BR4926",
         "Honda India Motors"
        ],
        [
         1778,
         "BR4986",
         "Hudson Motors"
        ],
        [
         1779,
         "BR5046",
         "Humber Motors"
        ],
        [
         1780,
         "BR5106",
         "Hummer Motors"
        ],
        [
         1781,
         "BR5226",
         "IFA (including Trabant, Wartburg, Barkas) Motors"
        ],
        [
         1782,
         "BR5346",
         "Innocenti Motors"
        ],
        [
         1783,
         "BR5406",
         "Invicta Motors"
        ],
        [
         1784,
         "BR5466",
         "Isdera Motors"
        ],
        [
         1785,
         "BR5586",
         "Isotta Fraschini Motors"
        ],
        [
         1786,
         "BR5646",
         "Isuzu Motors"
        ],
        [
         1787,
         "BR5706",
         "Iveco Motors"
        ],
        [
         1788,
         "BR5826",
         "Jeep Motors"
        ],
        [
         1789,
         "BR5886",
         "Jensen Motors"
        ],
        [
         1790,
         "BR5946",
         "JPX Motors"
        ],
        [
         1791,
         "BR6006",
         "Kia Motors"
        ],
        [
         1792,
         "BR6066",
         "Koenigsegg Motors"
        ],
        [
         1793,
         "BR6126",
         "KTM Motors"
        ],
        [
         1794,
         "BR6186",
         "Lada Motors"
        ],
        [
         1795,
         "BR6246",
         "Lamborghini Motors"
        ],
        [
         1796,
         "BR6306",
         "Lancia Motors"
        ],
        [
         1797,
         "BR6366",
         "Land Rover Motors"
        ],
        [
         1798,
         "BR6426",
         "Lexus Motors"
        ],
        [
         1799,
         "BR6486",
         "Ligier Motors"
        ],
        [
         1800,
         "BR6546",
         "Lincoln Motors"
        ],
        [
         1801,
         "BR6606",
         "Lotus Motors"
        ],
        [
         1802,
         "BR6786",
         "Lynx Motors"
        ],
        [
         1803,
         "BR6846",
         "Mahindra Motors"
        ],
        [
         1804,
         "BR6966",
         "Marlin Motors"
        ],
        [
         1805,
         "BR7026",
         "Maruti Motors"
        ],
        [
         1806,
         "BR7146",
         "Mastretta Motors"
        ],
        [
         1807,
         "BR7266",
         "Mazda Motors"
        ],
        [
         1808,
         "BR7326",
         "Mazzanti Motors"
        ],
        [
         1809,
         "BR7386",
         "McLaren Motors"
        ],
        [
         1810,
         "BR7446",
         "Mercedes-Benz (including Maybach) Motors"
        ],
        [
         1811,
         "BR7506",
         "Mercury Motors"
        ],
        [
         1812,
         "BR7686",
         "Mia Motors"
        ],
        [
         1813,
         "BR7746",
         "Micro Motors"
        ],
        [
         1814,
         "BR7806",
         "Mini Motors"
        ],
        [
         1815,
         "BR7866",
         "Mitsubishi Motors"
        ],
        [
         1816,
         "BR7926",
         "Monica Motors"
        ],
        [
         1817,
         "BR7986",
         "Monteverdi Motors"
        ],
        [
         1818,
         "BR8046",
         "Morgan Motors"
        ],
        [
         1819,
         "BR8106",
         "Moskwitch Motors"
        ],
        [
         1820,
         "BR8226",
         "Naza Motors"
        ],
        [
         1821,
         "BR8286",
         "Nissan Motors"
        ],
        [
         1822,
         "BR8406",
         "Noble Motors"
        ],
        [
         1823,
         "BR8466",
         "NSU Motors"
        ],
        [
         1824,
         "BR8586",
         "Oltcit Motors"
        ],
        [
         1825,
         "BR8646",
         "Opel Motors"
        ],
        [
         1826,
         "BR8706",
         "Packard Motors"
        ],
        [
         1827,
         "BR8766",
         "Pagani Motors"
        ],
        [
         1828,
         "BR8826",
         "Panhard Motors"
        ],
        [
         1829,
         "BR8886",
         "Panoz Motors"
        ],
        [
         1830,
         "BR8946",
         "Panther Motors"
        ],
        [
         1831,
         "BR9066",
         "Perodua Motors"
        ],
        [
         1832,
         "BR9126",
         "Peugeot Motors"
        ],
        [
         1833,
         "BR9186",
         "PGO Motors"
        ],
        [
         1834,
         "BR9246",
         "Piaggio Motors"
        ],
        [
         1835,
         "BR9306",
         "Plymouth Motors"
        ],
        [
         1836,
         "BR9426",
         "Pontiac, Asüna Motors"
        ]
       ],
       "datasetInfos": [
        {
         "name": "_sqldf",
         "schema": {
          "fields": [
           {
            "metadata": {},
            "name": "branch_key",
            "nullable": true,
            "type": "integer"
           },
           {
            "metadata": {},
            "name": "Branch_ID",
            "nullable": true,
            "type": "string"
           },
           {
            "metadata": {},
            "name": "BranchName",
            "nullable": true,
            "type": "string"
           }
          ],
          "type": "struct"
         },
         "tableIdentifier": null,
         "typeStr": "pyspark.sql.connect.dataframe.DataFrame"
        }
       ],
       "dbfsResultPath": null,
       "isJsonSchema": true,
       "metadata": {
        "createTempViewForImplicitDf": true,
        "dataframeName": "_sqldf",
        "executionCount": 10
       },
       "overflow": false,
       "plotOptions": {
        "customPlotOptions": {},
        "displayType": "table",
        "pivotAggregation": null,
        "pivotColumns": null,
        "xColumns": null,
        "yColumns": null
       },
       "removedWidgets": [],
       "schema": [
        {
         "metadata": "{}",
         "name": "branch_key",
         "type": "\"integer\""
        },
        {
         "metadata": "{}",
         "name": "Branch_ID",
         "type": "\"string\""
        },
        {
         "metadata": "{}",
         "name": "BranchName",
         "type": "\"string\""
        }
       ],
       "type": "table"
      }
     },
     "output_type": "display_data"
    }
   ],
   "source": [
    "%sql\n",
    "select * from cars_catalog.gold.dim_branch; "
   ]
  },
  {
   "cell_type": "code",
   "execution_count": 0,
   "metadata": {
    "application/vnd.databricks.v1+cell": {
     "cellMetadata": {},
     "inputWidgets": {},
     "nuid": "9f2e8435-2c91-4341-8e0f-5834a9796b3d",
     "showTitle": false,
     "tableResultSettingsMap": {},
     "title": ""
    }
   },
   "outputs": [],
   "source": []
  }
 ],
 "metadata": {
  "application/vnd.databricks.v1+notebook": {
   "computePreferences": null,
   "dashboards": [],
   "environmentMetadata": {
    "base_environment": "",
    "environment_version": "2"
   },
   "inputWidgetPreferences": null,
   "language": "python",
   "notebookMetadata": {
    "mostRecentlyExecutedCommandWithImplicitDF": {
     "commandId": 4161424627950787,
     "dataframes": [
      "_sqldf"
     ]
    },
    "pythonIndentUnit": 4
   },
   "notebookName": "Gold_Dim_Branch",
   "widgets": {
    "incremental_flag": {
     "currentValue": "0",
     "nuid": "33da43f0-a781-4396-afb5-3498c6c68f69",
     "typedWidgetInfo": {
      "autoCreated": false,
      "defaultValue": "0",
      "label": null,
      "name": "incremental_flag",
      "options": {
       "widgetDisplayType": "Text",
       "validationRegex": null
      },
      "parameterDataType": "String"
     },
     "widgetInfo": {
      "widgetType": "text",
      "defaultValue": "0",
      "label": null,
      "name": "incremental_flag",
      "options": {
       "widgetType": "text",
       "autoCreated": null,
       "validationRegex": null
      }
     }
    }
   }
  },
  "language_info": {
   "name": "python"
  }
 },
 "nbformat": 4,
 "nbformat_minor": 0
}